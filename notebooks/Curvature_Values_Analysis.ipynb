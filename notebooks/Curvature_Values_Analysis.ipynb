{
 "cells": [
  {
   "cell_type": "code",
   "execution_count": 4,
   "id": "f2ba20fe",
   "metadata": {},
   "outputs": [],
   "source": [
    "import networkx as nx\n",
    "import numpy as np\n",
    "import pickle\n",
    "from kmapper import jupyter\n",
    "import datetime\n",
    "import pandas as pd\n",
    "from persim import plot_diagrams\n",
    "import seaborn as sns\n",
    "import ot\n",
    "import os\n",
    "import sys\n",
    "from pathlib import Path\n",
    "\n",
    "# Updating paths for nammu import \n",
    "home_path = str(Path(\"Curvature_Values_Analysis\").resolve().parent.parent)\n",
    "sys.path.append(home_path + \"/src\")\n",
    "\n",
    "from nammu.topology import PersistenceDiagram\n",
    "import seaborn as sns\n",
    "import ot\n",
    "import os"
   ]
  },
  {
   "cell_type": "code",
   "execution_count": 5,
   "id": "deec8617",
   "metadata": {},
   "outputs": [
    {
     "name": "stdout",
     "output_type": "stream",
     "text": [
      "Reading pickle file\n",
      "Computing Curvature Values and Persistence Diagrams\n",
      "Computing Mapper Algorithm...\n",
      "Setting Lens\n",
      "Setting Cover\n",
      "Generating networkx Graph...\n",
      "Using Ollivier Ricci filtration to compute edge curvature values and persistence diagrams. \n",
      "Reading pickle file\n",
      "Computing Curvature Values and Persistence Diagrams\n",
      "Computing Mapper Algorithm...\n",
      "Setting Lens\n",
      "Setting Cover\n",
      "Generating networkx Graph...\n",
      "Using Ollivier Ricci filtration to compute edge curvature values and persistence diagrams. \n"
     ]
    }
   ],
   "source": [
    "! python ../src/compute_curvature.py \n",
    "! python ../src/compute_curvature.py -K 12 -n 6 -p .2"
   ]
  },
  {
   "cell_type": "code",
   "execution_count": 2,
   "id": "c9aa7d00",
   "metadata": {},
   "outputs": [
    {
     "name": "stderr",
     "output_type": "stream",
     "text": [
      "/Users/gathrid/opt/anaconda3/lib/python3.8/site-packages/sklearn/base.py:310: UserWarning: Trying to unpickle estimator KMeans from version 1.2.1 when using version 0.24.1. This might lead to breaking code or invalid results. Use at your own risk.\n",
      "  warnings.warn(\n",
      "/Users/gathrid/opt/anaconda3/lib/python3.8/site-packages/sklearn/base.py:310: UserWarning: Trying to unpickle estimator MinMaxScaler from version 1.2.1 when using version 0.24.1. This might lead to breaking code or invalid results. Use at your own risk.\n",
      "  warnings.warn(\n"
     ]
    }
   ],
   "source": [
    "with open('../outputs/curvature/results_ncubes6_20perc_K12.pkl', 'rb') as f1:\n",
    "    dic1 = pickle.load(f1)"
   ]
  },
  {
   "cell_type": "code",
   "execution_count": 3,
   "id": "2c8bedc5",
   "metadata": {},
   "outputs": [],
   "source": [
    "with open('../outputs/curvature/results_ncubes6_40perc_K8.pkl', 'rb') as f2:\n",
    "    dic2 = pickle.load(f2)"
   ]
  },
  {
   "cell_type": "code",
   "execution_count": 5,
   "id": "22de49a9",
   "metadata": {},
   "outputs": [],
   "source": [
    "tm1 = dic1[1]\n",
    "tm2 = dic2[1]"
   ]
  },
  {
   "cell_type": "markdown",
   "id": "48caca5d",
   "metadata": {},
   "source": []
  },
  {
   "cell_type": "code",
   "execution_count": 6,
   "id": "15ca981b",
   "metadata": {},
   "outputs": [
    {
     "data": {
      "text/plain": [
       "<AxesSubplot:xlabel='Ollivier Ricci Edge Curvatures', ylabel='Probability'>"
      ]
     },
     "execution_count": 6,
     "metadata": {},
     "output_type": "execute_result"
    },
    {
     "data": {
      "image/png": "[encoded data removed]",
      "text/plain": [
       "<Figure size 432x288 with 1 Axes>"
      ]
     },
     "metadata": {
      "needs_background": "light"
     },
     "output_type": "display_data"
    }
   ],
   "source": [
    "tm1.plot_curvature()"
   ]
  },
  {
   "cell_type": "code",
   "execution_count": 7,
   "id": "180002b6",
   "metadata": {},
   "outputs": [
    {
     "data": {
      "text/plain": [
       "<AxesSubplot:xlabel='Ollivier Ricci Edge Curvatures', ylabel='Probability'>"
      ]
     },
     "execution_count": 7,
     "metadata": {},
     "output_type": "execute_result"
    },
    {
     "data": {
      "image/png": "[encoded data removed]",
      "text/plain": [
       "<Figure size 432x288 with 1 Axes>"
      ]
     },
     "metadata": {
      "needs_background": "light"
     },
     "output_type": "display_data"
    }
   ],
   "source": [
    "tm2.plot_curvature()"
   ]
  },
  {
   "cell_type": "code",
   "execution_count": null,
   "id": "f36c8ee5",
   "metadata": {},
   "outputs": [],
   "source": [
    "def normalize_curvature(curvature):\n",
    "    # Assumming that for val in curvature, val in [-2,1]\n",
    "    tmp = curvature.copy()+ 2 # maps to [0, 3]\n",
    "    tmp = tmp/sum(tmp)\n",
    "    return tmp"
   ]
  },
  {
   "cell_type": "code",
   "execution_count": null,
   "id": "28479ec9",
   "metadata": {},
   "outputs": [],
   "source": [
    "curvature1 = tm1.curvature.copy()\n",
    "curvature2 = tm2.curvature.copy()"
   ]
  },
  {
   "cell_type": "code",
   "execution_count": null,
   "id": "3a5cbf63",
   "metadata": {},
   "outputs": [],
   "source": [
    "M = ot.dist(curvature1.reshape(len(curvature1),1), curvature2.reshape(len(curvature2), 1))\n",
    "M.shape\n",
    "W = ot.emd2(normalize_curvature(curvature1),normalize_curvature(curvature2), M)\n",
    "print(W)"
   ]
  },
  {
   "cell_type": "markdown",
   "id": "dee61b73",
   "metadata": {},
   "source": [
    "# Questions\n",
    "- What is the range for a curvature value? \n",
    "    - I assumed it was [-1,1], but I'm seeing min values of -1.1\n",
    "    - need to normalize these values to put into ot... easiest way to do so is to use range\n",
    "- How are we going to compare Simpl Complexes with different graphs?\n",
    "    - floyd_marshal generates a matrix M for optimal transport based on a single graph \n",
    "    - in the case of comparing different graphs, we need $M \\in \\mathbb{R}^{n x n^\\prime}$, where $n$ and $n^\\prime$ are the number of vertices of each graph, respectively\n",
    "    - $\\color{red}{\\text{(Temporary) Solution: Use ot.dist(), which gives a metric cost matrix}}$\n",
    "    "
   ]
  },
  {
   "cell_type": "code",
   "execution_count": null,
   "id": "e5984cbc",
   "metadata": {},
   "outputs": [],
   "source": []
  }
 ],
 "metadata": {
  "kernelspec": {
   "display_name": "Python 3",
   "language": "python",
   "name": "python3"
  },
  "language_info": {
   "codemirror_mode": {
    "name": "ipython",
    "version": 3
   },
   "file_extension": ".py",
   "mimetype": "text/x-python",
   "name": "python",
   "nbconvert_exporter": "python",
   "pygments_lexer": "ipython3",
   "version": "3.8.8"
  }
 },
 "nbformat": 4,
 "nbformat_minor": 5
}
