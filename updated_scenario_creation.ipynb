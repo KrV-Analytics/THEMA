{
 "cells": [
  {
   "cell_type": "code",
   "execution_count": 1,
   "id": "96cf0149",
   "metadata": {},
   "outputs": [],
   "source": [
    "from coal_mapper import *\n",
    "import kmapper as km\n",
    "\n",
    "import plotly.express as px\n",
    "from sklearn.decomposition import PCA"
   ]
  },
  {
   "cell_type": "markdown",
   "id": "3dfcc7ee",
   "metadata": {},
   "source": [
    "### import data – made from the dataset_creation"
   ]
  },
  {
   "cell_type": "code",
   "execution_count": 2,
   "id": "95c943de",
   "metadata": {},
   "outputs": [],
   "source": [
    "all = pd.read_excel(\"WHOLE2.xlsx\")"
   ]
  },
  {
   "cell_type": "markdown",
   "id": "bac38c38",
   "metadata": {},
   "source": [
    "### manipulate data + create new variables to better view relationships in the mapper"
   ]
  },
  {
   "cell_type": "code",
   "execution_count": 3,
   "id": "5a801b5f",
   "metadata": {},
   "outputs": [
    {
     "name": "stderr",
     "output_type": "stream",
     "text": [
      "/Users/gathrid/opt/anaconda3/lib/python3.8/site-packages/pandas/core/indexing.py:1738: SettingWithCopyWarning: \n",
      "A value is trying to be set on a copy of a slice from a DataFrame.\n",
      "Try using .loc[row_indexer,col_indexer] = value instead\n",
      "\n",
      "See the caveats in the documentation: https://pandas.pydata.org/pandas-docs/stable/user_guide/indexing.html#returning-a-view-versus-a-copy\n",
      "  self._setitem_single_column(loc, value[:, i].tolist(), pi)\n"
     ]
    }
   ],
   "source": [
    "def manipulate (all):\n",
    "    all['Year'] = all['Year'].astype(int)\n",
    "    all['OperatingYear'] = all['OperatingYear'].astype(int)\n",
    "    all['AverageAge'] = all['AverageAge'].fillna(-5)\n",
    "\n",
    "    def addAge(id):\n",
    "        id['PlantAge'] = id['Year'] - id['OperatingYear']\n",
    "        new = id[id['PLNGENAN'] > 0]\n",
    "        new = id[id['PlantAge'] > 0]\n",
    "        return new\n",
    "    all = addAge(all)\n",
    "    all.loc[all['AverageAge'] != -5, ['PlantAge']] = all['AverageAge']\n",
    "    all = all.drop(columns = \"AverageAge\")\n",
    "    all = all.reset_index().drop([\"index\"], axis=1)\n",
    "    def killOutliars(id):\n",
    "        if (id > 2.1):\n",
    "            return 2.1\n",
    "        else:\n",
    "            return id\n",
    "    def distance_CarbonIntensity(id):\n",
    "        id['CarbonIntensity'] = id['CarbonIntensity'].apply(killOutliars)\n",
    "        id['CarbonIntensity'] = 7**(id['CarbonIntensity'])\n",
    "        return id\n",
    "    all = distance_CarbonIntensity(all)\n",
    "    \n",
    "    return all\n",
    "\n",
    "all = manipulate(all)"
   ]
  },
  {
   "cell_type": "code",
   "execution_count": 4,
   "id": "684cf17c",
   "metadata": {},
   "outputs": [
    {
     "data": {
      "text/html": [
       "<div>\n",
       "<style scoped>\n",
       "    .dataframe tbody tr th:only-of-type {\n",
       "        vertical-align: middle;\n",
       "    }\n",
       "\n",
       "    .dataframe tbody tr th {\n",
       "        vertical-align: top;\n",
       "    }\n",
       "\n",
       "    .dataframe thead th {\n",
       "        text-align: right;\n",
       "    }\n",
       "</style>\n",
       "<table border=\"1\" class=\"dataframe\">\n",
       "  <thead>\n",
       "    <tr style=\"text-align: right;\">\n",
       "      <th></th>\n",
       "      <th>Year</th>\n",
       "      <th>PSTATABB</th>\n",
       "      <th>ORISPL</th>\n",
       "      <th>LAT</th>\n",
       "      <th>LON</th>\n",
       "      <th>label</th>\n",
       "      <th>CAPFAC</th>\n",
       "      <th>PLNGENAN</th>\n",
       "      <th>PLCO2AN</th>\n",
       "      <th>PLNOXAN</th>\n",
       "      <th>...</th>\n",
       "      <th>CO2limits</th>\n",
       "      <th>CO2limitsOppose</th>\n",
       "      <th>fundrenewablesOppose</th>\n",
       "      <th>regulateOppose</th>\n",
       "      <th>reducetaxOppose</th>\n",
       "      <th>RenewableReplacement</th>\n",
       "      <th>%lessThanCoal</th>\n",
       "      <th>numGenerators</th>\n",
       "      <th>OperatingYear</th>\n",
       "      <th>PlantAge</th>\n",
       "    </tr>\n",
       "  </thead>\n",
       "  <tbody>\n",
       "    <tr>\n",
       "      <th>0</th>\n",
       "      <td>2010</td>\n",
       "      <td>MN</td>\n",
       "      <td>50252.0</td>\n",
       "      <td>45.618300</td>\n",
       "      <td>-94.200500</td>\n",
       "      <td>2010: International Paper Sartell Mill, MN</td>\n",
       "      <td>0.43680</td>\n",
       "      <td>113643.000</td>\n",
       "      <td>61070.1956</td>\n",
       "      <td>196.4350</td>\n",
       "      <td>...</td>\n",
       "      <td>61.830</td>\n",
       "      <td>37.636</td>\n",
       "      <td>15.032</td>\n",
       "      <td>28.393</td>\n",
       "      <td>38.867</td>\n",
       "      <td>-1</td>\n",
       "      <td>NaN</td>\n",
       "      <td>NaN</td>\n",
       "      <td>1930</td>\n",
       "      <td>80.0</td>\n",
       "    </tr>\n",
       "    <tr>\n",
       "      <th>1</th>\n",
       "      <td>2014</td>\n",
       "      <td>MI</td>\n",
       "      <td>10149.0</td>\n",
       "      <td>45.062836</td>\n",
       "      <td>-83.423333</td>\n",
       "      <td>2014: Decorative Panels Intl, MI</td>\n",
       "      <td>0.74300</td>\n",
       "      <td>48796.000</td>\n",
       "      <td>20809.1820</td>\n",
       "      <td>24.9890</td>\n",
       "      <td>...</td>\n",
       "      <td>61.483</td>\n",
       "      <td>37.908</td>\n",
       "      <td>14.516</td>\n",
       "      <td>27.768</td>\n",
       "      <td>38.423</td>\n",
       "      <td>-1</td>\n",
       "      <td>NaN</td>\n",
       "      <td>NaN</td>\n",
       "      <td>1946</td>\n",
       "      <td>68.0</td>\n",
       "    </tr>\n",
       "    <tr>\n",
       "      <th>2</th>\n",
       "      <td>2020</td>\n",
       "      <td>WV</td>\n",
       "      <td>10151.0</td>\n",
       "      <td>39.561831</td>\n",
       "      <td>-80.163138</td>\n",
       "      <td>2020: Grant Town Power Plant, WV</td>\n",
       "      <td>0.73686</td>\n",
       "      <td>617730.000</td>\n",
       "      <td>833260.7190</td>\n",
       "      <td>1330.9330</td>\n",
       "      <td>...</td>\n",
       "      <td>60.001</td>\n",
       "      <td>39.570</td>\n",
       "      <td>15.207</td>\n",
       "      <td>28.022</td>\n",
       "      <td>37.853</td>\n",
       "      <td>1</td>\n",
       "      <td>-0.363866</td>\n",
       "      <td>1.0</td>\n",
       "      <td>1946</td>\n",
       "      <td>27.0</td>\n",
       "    </tr>\n",
       "    <tr>\n",
       "      <th>3</th>\n",
       "      <td>2016</td>\n",
       "      <td>FL</td>\n",
       "      <td>10202.0</td>\n",
       "      <td>30.681823</td>\n",
       "      <td>-81.455413</td>\n",
       "      <td>2016: Fernandina Beach Mill, FL</td>\n",
       "      <td>0.70956</td>\n",
       "      <td>660115.020</td>\n",
       "      <td>113378.2430</td>\n",
       "      <td>176.8120</td>\n",
       "      <td>...</td>\n",
       "      <td>56.207</td>\n",
       "      <td>43.731</td>\n",
       "      <td>15.799</td>\n",
       "      <td>29.636</td>\n",
       "      <td>41.984</td>\n",
       "      <td>-1</td>\n",
       "      <td>NaN</td>\n",
       "      <td>NaN</td>\n",
       "      <td>1946</td>\n",
       "      <td>70.0</td>\n",
       "    </tr>\n",
       "    <tr>\n",
       "      <th>4</th>\n",
       "      <td>2010</td>\n",
       "      <td>MO</td>\n",
       "      <td>10207.0</td>\n",
       "      <td>39.426100</td>\n",
       "      <td>-91.025800</td>\n",
       "      <td>2010: Ashland Inc, MO</td>\n",
       "      <td>0.37730</td>\n",
       "      <td>56851.681</td>\n",
       "      <td>32438.5547</td>\n",
       "      <td>148.0728</td>\n",
       "      <td>...</td>\n",
       "      <td>58.503</td>\n",
       "      <td>40.902</td>\n",
       "      <td>17.080</td>\n",
       "      <td>30.761</td>\n",
       "      <td>38.742</td>\n",
       "      <td>-1</td>\n",
       "      <td>NaN</td>\n",
       "      <td>NaN</td>\n",
       "      <td>1946</td>\n",
       "      <td>64.0</td>\n",
       "    </tr>\n",
       "  </tbody>\n",
       "</table>\n",
       "<p>5 rows × 24 columns</p>\n",
       "</div>"
      ],
      "text/plain": [
       "   Year PSTATABB   ORISPL        LAT        LON  \\\n",
       "0  2010       MN  50252.0  45.618300 -94.200500   \n",
       "1  2014       MI  10149.0  45.062836 -83.423333   \n",
       "2  2020       WV  10151.0  39.561831 -80.163138   \n",
       "3  2016       FL  10202.0  30.681823 -81.455413   \n",
       "4  2010       MO  10207.0  39.426100 -91.025800   \n",
       "\n",
       "                                        label   CAPFAC    PLNGENAN  \\\n",
       "0  2010: International Paper Sartell Mill, MN  0.43680  113643.000   \n",
       "1            2014: Decorative Panels Intl, MI  0.74300   48796.000   \n",
       "2            2020: Grant Town Power Plant, WV  0.73686  617730.000   \n",
       "3             2016: Fernandina Beach Mill, FL  0.70956  660115.020   \n",
       "4                       2010: Ashland Inc, MO  0.37730   56851.681   \n",
       "\n",
       "       PLCO2AN    PLNOXAN  ...  CO2limits  CO2limitsOppose  \\\n",
       "0   61070.1956   196.4350  ...     61.830           37.636   \n",
       "1   20809.1820    24.9890  ...     61.483           37.908   \n",
       "2  833260.7190  1330.9330  ...     60.001           39.570   \n",
       "3  113378.2430   176.8120  ...     56.207           43.731   \n",
       "4   32438.5547   148.0728  ...     58.503           40.902   \n",
       "\n",
       "   fundrenewablesOppose  regulateOppose  reducetaxOppose  \\\n",
       "0                15.032          28.393           38.867   \n",
       "1                14.516          27.768           38.423   \n",
       "2                15.207          28.022           37.853   \n",
       "3                15.799          29.636           41.984   \n",
       "4                17.080          30.761           38.742   \n",
       "\n",
       "   RenewableReplacement  %lessThanCoal  numGenerators  OperatingYear  PlantAge  \n",
       "0                    -1            NaN            NaN           1930      80.0  \n",
       "1                    -1            NaN            NaN           1946      68.0  \n",
       "2                     1      -0.363866            1.0           1946      27.0  \n",
       "3                    -1            NaN            NaN           1946      70.0  \n",
       "4                    -1            NaN            NaN           1946      64.0  \n",
       "\n",
       "[5 rows x 24 columns]"
      ]
     },
     "execution_count": 4,
     "metadata": {},
     "output_type": "execute_result"
    }
   ],
   "source": [
    "all.head()"
   ]
  },
  {
   "cell_type": "markdown",
   "id": "be136da8",
   "metadata": {},
   "source": [
    "### add coal plant retrofit cost data – data from EIA form 860: EnviroEquip data file"
   ]
  },
  {
   "cell_type": "code",
   "execution_count": 5,
   "id": "f35716cb",
   "metadata": {},
   "outputs": [
    {
     "name": "stderr",
     "output_type": "stream",
     "text": [
      "<ipython-input-5-fd8421163bcf>:19: FutureWarning: Indexing with multiple keys (implicitly converted to a tuple of keys) will be deprecated, use a list instead.\n",
      "  pC2 = pC.groupby('Plant Code')['Total Cost (Thousand Dollars)', 'post2004Retrofit'].sum().reset_index()\n",
      "/Users/gathrid/opt/anaconda3/lib/python3.8/site-packages/pandas/core/reshape/merge.py:1141: UserWarning: You are merging on int and float columns where the float values are not equal to their int representation\n",
      "  warnings.warn(\n"
     ]
    }
   ],
   "source": [
    "def addRetrofitData(all):\n",
    "    pC = pd.read_excel('enviroEquipt.xlsx')\n",
    "    pC2 = pC.replace({' ': 0})\n",
    "    pC2 = pC2.fillna(0)\n",
    "    \n",
    "    pC2['Inservice Year'] = pC2['Inservice Year'].astype(int)\n",
    "    pC2['Total Cost (Thousand Dollars)'] = pC2['Total Cost (Thousand Dollars)'].astype(int)\n",
    "\n",
    "    def retrofit(id):\n",
    "        if id>2004:\n",
    "            return 1\n",
    "        else:\n",
    "            return 0\n",
    "\n",
    "    pC2['post2004Retrofit'] = pC2['Inservice Year'].apply(retrofit)\n",
    "\n",
    "    pC = pC2[pC2['Inservice Year'] > 2004]\n",
    "\n",
    "    pC2 = pC.groupby('Plant Code')['Total Cost (Thousand Dollars)', 'post2004Retrofit'].sum().reset_index() \n",
    "    pC2['post2004RetrofitCosts'] = pC2['Total Cost (Thousand Dollars)']*1000\n",
    "    pC2 = pC2.rename(columns={\"Plant Code\": 'ORISPL'})\n",
    "\n",
    "    all = all.merge(pC2, how='left', left_on='ORISPL', right_on='ORISPL')\n",
    "    all = all.fillna(0)\n",
    "    del all[\"Total Cost (Thousand Dollars)\"]\n",
    "    \n",
    "    return all\n",
    "\n",
    "all = addRetrofitData(all)"
   ]
  },
  {
   "cell_type": "markdown",
   "id": "7018708a",
   "metadata": {},
   "source": [
    "add planned coal plant retirement year data and manipulate retrofit cost additions"
   ]
  },
  {
   "cell_type": "code",
   "execution_count": 6,
   "id": "26053a96",
   "metadata": {},
   "outputs": [
    {
     "name": "stderr",
     "output_type": "stream",
     "text": [
      "/Users/gathrid/opt/anaconda3/lib/python3.8/site-packages/pandas/core/reshape/merge.py:1141: UserWarning: You are merging on int and float columns where the float values are not equal to their int representation\n",
      "  warnings.warn(\n"
     ]
    }
   ],
   "source": [
    "all['retrofitLevelized'] = all['post2004RetrofitCosts']/all['PLNGENAN']\n",
    "\n",
    "retYear = pd.read_excel(\"egrid2020_data.xlsx\", \"GEN20\", header=1)\n",
    "retYear['GENYRRET'] =  retYear['GENYRRET'].fillna(0)\n",
    "retYear = retYear[retYear['GENYRRET']>2021]\n",
    "retYear = retYear[['ORISPL', 'GENYRRET']]\n",
    "retYear = retYear.drop_duplicates(subset = 'ORISPL', keep = \"last\")\n",
    "all = all.join(retYear.set_index(\"ORISPL\"), 'ORISPL')\n",
    "all['GENYRRET'] = all['GENYRRET'].fillna(0)"
   ]
  },
  {
   "cell_type": "markdown",
   "id": "37fdc5a9",
   "metadata": {},
   "source": [
    "### functions to select subsets of mapper simplicial complexes"
   ]
  },
  {
   "cell_type": "code",
   "execution_count": 7,
   "id": "38f55065",
   "metadata": {},
   "outputs": [],
   "source": [
    "####HELPER\n",
    "def getClusterData(cube_cluster_ID:str):\n",
    "    return mapper.data_from_cluster_id(cube_cluster_ID, graph_new, labels)\n",
    "\n",
    "####HELPER\n",
    "def getIndicieFromLabel(list:str, df:str):\n",
    "    '''Get the indicies of cluster ID labels from the original data frame\n",
    "    list: list of mapper cluster ID labels\n",
    "    df: original DF used for mapper'''\n",
    "\n",
    "    indexList = []\n",
    "    for i in list:\n",
    "        index = 0\n",
    "        for x in df.label:\n",
    "            index = index+1\n",
    "            if i == x:\n",
    "                indexList.append(index-1)\n",
    "                break\n",
    "    return indexList\n",
    "\n",
    "####HELPER\n",
    "def indexList_toData (indexList, mapperdf):\n",
    "    df = mapperdf\n",
    "    '''Get the full row of data corresponding to the index of mapper Cluster IDs\n",
    "    indexList: output of the getIndicieFromLabel function\n",
    "    df: oringinal DF used for mapper'''\n",
    "    newdf = df.loc[[indexList[0]]]\n",
    "    for i in range(1, len(indexList)):\n",
    "        newdf = pd.concat([df.loc[[indexList[i]]], newdf])\n",
    "    return newdf\n",
    "\n",
    "def getNodeIDList(nodeIDLabels):\n",
    "    '''Insert a list of mapper NodeID labels. \n",
    "    ex. nodeIDLabels = ['node17_cluster2', 'node22_cluster5']\n",
    "\n",
    "    Returns a list of NodeID data labels (coal plant 'label') from the given nodeID labels\n",
    "    '''\n",
    "    outL = []\n",
    "    for i in nodeIDLabels:\n",
    "        outL = np.concatenate((outL, getClusterData(i)))\n",
    "    return outL\n",
    "\n",
    "def focusMapper(outL, mapperdf):\n",
    "    '''returns a coal_mapper formatted dataframe from a nodeID list: outL\n",
    "    \n",
    "    outL: a list of NodeID cluster labels, output from getNodeIDList function\n",
    "    mapperdf: the original mapperDF used\n",
    "    '''\n",
    "    indexL = getIndicieFromLabel(outL, mapperdf)\n",
    "    datadf = indexList_toData(indexL, mapperdf)\n",
    "    return datadf\n",
    "\n",
    "def focusedDF(id:list):\n",
    "    outL2 = getNodeIDList(id)\n",
    "    exp2df = focusMapper(outL2, all)\n",
    "    return exp2df.drop_duplicates(subset=['ORISPL']).reset_index()"
   ]
  },
  {
   "cell_type": "markdown",
   "id": "5077247b",
   "metadata": {},
   "source": [
    "### select parameters to use in making simplicial complexes"
   ]
  },
  {
   "cell_type": "code",
   "execution_count": 8,
   "id": "38a43be6",
   "metadata": {
    "scrolled": false
   },
   "outputs": [
    {
     "data": {
      "image/png": "[encoded data removed]",
      "text/plain": [
       "<Figure size 1080x576 with 2 Axes>"
      ]
     },
     "metadata": {},
     "output_type": "display_data"
    }
   ],
   "source": [
    "import seaborn as sns\n",
    "\n",
    "sns.set(rc = {'figure.figsize':(15,8)})\n",
    "\n",
    "matrix = all[['PLNGENAN', 'PLCO2AN', 'PLNOXAN', 'PLSO2AN', 'Year', 'CarbonIntensity', 'StateMineEmployment', 'CO2limitsOppose', 'PlantAge', 'post2004RetrofitCosts', 'post2004Retrofit', 'retrofitLevelized', 'GENYRRET', 'RenewableReplacement', 'CAPFAC']].corr()\n",
    "\n",
    "sns.heatmap(matrix, annot=True)\n",
    "             \n",
    "plt.show()\n"
   ]
  },
  {
   "cell_type": "markdown",
   "id": "73f20cdd",
   "metadata": {},
   "source": [
    "colorscale to use in kepler mapper visualizations: ranging from dark navy to red"
   ]
  },
  {
   "cell_type": "code",
   "execution_count": 9,
   "id": "b051d2c1",
   "metadata": {},
   "outputs": [],
   "source": [
    "my_colorscale = [[0.0, '#001219'],\n",
    "             [0.1, '#005f73'],\n",
    "             [0.2, '#0a9396'],\n",
    "             [0.3, '#94d2bd'],\n",
    "             [0.4, '#e9d8a6'],\n",
    "             [0.5, '#ee9b00'],\n",
    "             [0.6, '#ca6702'],\n",
    "             [0.7, '#bb3e03'],\n",
    "             [0.8, '#ae2012'],\n",
    "             [0.9, '#9b2226'],\n",
    "             [1.0, '#a50026']]  "
   ]
  },
  {
   "cell_type": "markdown",
   "id": "c625a347",
   "metadata": {},
   "source": [
    "Note that there is a function written into the coal_mapper class to create mapper simplicial complexes. This function is much more efficient, but does not create km.KeplerMapper objects or KeplerMapper.map objects to be used in subsectioning simplicial complexes.\n",
    "\n",
    "As such, the full mapper simplicial complex code is used in each scenario so instances of these objects can be used to subsection plants into scenarios based on selecting nodes/groups from simplicial complexes"
   ]
  },
  {
   "cell_type": "markdown",
   "id": "56984442",
   "metadata": {},
   "source": [
    "# full mapper and scenario 1 selection"
   ]
  },
  {
   "cell_type": "markdown",
   "id": "07141acf",
   "metadata": {},
   "source": [
    "viewing a mapper of exclusively decommissioned plants informs the scenario 1 selection. However, it is recomended to view a simplicial complex of all plants as well to inform the deciscion making used to infer that a graph of just decommissioned plants would suffice to inform scenario 1\n"
   ]
  },
  {
   "cell_type": "code",
   "execution_count": null,
   "id": "6d6b7987",
   "metadata": {},
   "outputs": [],
   "source": [
    "#map with 2 lenses\n",
    "from sklearn import ensemble, cluster\n",
    "\n",
    "def make_scn1():\n",
    "\n",
    "\n",
    "    df = all\n",
    "    df = df[df['decom']==1]\n",
    "    df2 = StandardScaler().fit_transform(df[['PLNGENAN', 'PLSO2AN', 'CarbonIntensity', 'post2004RetrofitCosts', 'StateMineEmployment', 'CO2limitsOppose']])\n",
    "    df3 = df[['PLNGENAN', 'PLCO2AN', 'PLNOXAN', 'PLSO2AN', 'decom', 'CarbonIntensity', 'StateMineEmployment', 'CO2limitsOppose', 'PlantAge', 'post2004RetrofitCosts', 'post2004Retrofit', 'retrofitLevelized', 'GENYRRET', 'RenewableReplacement', 'CAPFAC']]\n",
    "\n",
    "    colors = df3\n",
    "    labels = mapper_labels(df['label'])\n",
    "\n",
    "    cubes = 10\n",
    "    overlap = 0.4\n",
    "    clusters = 2\n",
    "\n",
    "    mapper = km.KeplerMapper(verbose=0)\n",
    "    projector = ensemble.IsolationForest(random_state=0, n_jobs=-1)\n",
    "    projector.fit(df2)\n",
    "    lens3 = mapper.fit_transform(df2, projection=PCA(n_components=1))\n",
    "    lens1 = projector.decision_function(df2)\n",
    "    lens2 = mapper.fit_transform(df2, projection='knn_distance_5')\n",
    "    lens = np.c_[lens1, lens2]\n",
    "\n",
    "    graph_new = mapper.map(\n",
    "        lens,\n",
    "        df2,\n",
    "        remove_duplicate_nodes=True,\n",
    "        cover=km.Cover(n_cubes=cubes, perc_overlap=overlap),\n",
    "        clusterer=cluster.AgglomerativeClustering(clusters))\n",
    "\n",
    "    mapper.visualize(\n",
    "        graph_new,\n",
    "        path_html=\"decom_mapper.html\",\n",
    "        title=\"trial3' (\" +str(cubes)+ \" cubes at \" +str(overlap*100) + \"% overlap) with Plant Labels\",\n",
    "        custom_tooltips=labels,\n",
    "        color_values = colors,\n",
    "        colorscale=my_colorscale,\n",
    "        color_function_name=list(df3.columns),\n",
    "        node_color_function=['mean', 'median', 'max'],\n",
    "        include_searchbar = True, \n",
    "        #include_intersection_selector= True\n",
    "    )\n",
    "    return graph_new, mapper\n",
    "\n",
    "make_scn1()"
   ]
  },
  {
   "cell_type": "code",
   "execution_count": 10,
   "id": "1e0a8d5f",
   "metadata": {},
   "outputs": [],
   "source": [
    "scenario1df=all[all['decom'] == 0]\n",
    "#### this cutoff of 658653 is the mean of the main cluster of decom plants\n",
    "scenario1df = scenario1df[scenario1df['PLNGENAN']<658653]"
   ]
  },
  {
   "cell_type": "markdown",
   "id": "da7a3f9e",
   "metadata": {},
   "source": [
    "# scenario 2 selection"
   ]
  },
  {
   "cell_type": "code",
   "execution_count": 13,
   "id": "b811ec86",
   "metadata": {},
   "outputs": [],
   "source": [
    "#map with 2 lenses\n",
    "\n",
    "from sklearn import ensemble, cluster\n",
    "\n",
    "def make_scn2():\n",
    "    df = all\n",
    "    df = df[df['PLNGENAN']>658653]\n",
    "    df = df[df['post2004RetrofitCosts']<400000000]\n",
    "\n",
    "    df2 = StandardScaler().fit_transform(df[['PLNGENAN', 'PLSO2AN', 'CarbonIntensity', 'post2004RetrofitCosts', 'StateMineEmployment', 'CO2limitsOppose']])\n",
    "    df3 = df[['PLNGENAN', 'PLCO2AN', 'PLNOXAN', 'PLSO2AN', 'decom', 'CarbonIntensity', 'StateMineEmployment', 'CO2limitsOppose', 'PlantAge', 'post2004RetrofitCosts', 'post2004Retrofit', 'retrofitLevelized', 'GENYRRET', 'RenewableReplacement', 'CAPFAC']]\n",
    "\n",
    "    colors = df3\n",
    "    labels = mapper_labels(df['label'])\n",
    "\n",
    "    cubes = 9\n",
    "    overlap = 0.25\n",
    "    clusters = 2\n",
    "\n",
    "    mapper = km.KeplerMapper(verbose=0)\n",
    "    projector = ensemble.IsolationForest(random_state=0, n_jobs=-1)\n",
    "    projector.fit(df2)\n",
    "    lens3 = mapper.fit_transform(df2, projection=PCA(n_components=1))\n",
    "    lens1 = projector.decision_function(df2)\n",
    "    lens2 = mapper.fit_transform(df2, projection='knn_distance_5')\n",
    "    lens = np.c_[lens1, lens2]\n",
    "\n",
    "    graph_new = mapper.map(\n",
    "        lens,\n",
    "        df2,\n",
    "        remove_duplicate_nodes=True,\n",
    "        cover=km.Cover(n_cubes=cubes, perc_overlap=overlap),\n",
    "        clusterer=cluster.AgglomerativeClustering(clusters))\n",
    "\n",
    "    mapper.visualize(\n",
    "        graph_new,\n",
    "        path_html=\"scenario2_selection.html\",\n",
    "        title=\"trial3' (\" +str(cubes)+ \" cubes at \" +str(overlap*100) + \"% overlap) with Plant Labels\",\n",
    "        custom_tooltips=labels,\n",
    "        color_values = colors,\n",
    "        colorscale=my_colorscale,\n",
    "        color_function_name=list(df3.columns),\n",
    "        node_color_function=['mean', 'median', 'max'],\n",
    "        include_searchbar = True, \n",
    "        #include_intersection_selector= True\n",
    "    )\n",
    "\n",
    "    return graph_new, mapper, labels\n",
    "\n",
    "aaaaaa = make_scn2()\n",
    "graph_new = aaaaaa[0]\n",
    "mapper = aaaaaa[1]\n",
    "labels = aaaaaa[2]\n"
   ]
  },
  {
   "cell_type": "markdown",
   "id": "3482bb79",
   "metadata": {},
   "source": [
    "scenario 2 includes both active and retired plants, ensure removal of decommmissioned plants when analyzing active plants only and/or visualizing retirement scenarios"
   ]
  },
  {
   "cell_type": "code",
   "execution_count": 14,
   "id": "c717818f",
   "metadata": {},
   "outputs": [],
   "source": [
    "map2list = ['cube18_cluster0', 'cube17_cluster0', 'cube16_cluster0', 'cube9_cluster1', 'cube10_cluster0', 'cube9_cluster0', 'cube4_cluster0', 'cube10_cluster1', 'cube7_cluster1', 'cube13_cluster0', 'cube12_cluster0', 'cube11_cluster0', 'cube6_cluster0', 'cube5_cluster0', 'cube0_cluster0', 'cube0_cluster1']\n",
    "\n",
    "bbb = list(graph_new['nodes'].keys())\n",
    "\n",
    "decom2 = []\n",
    "for x in bbb:\n",
    "    # check if exists in unique_list or not\n",
    "    if x not in map2list:\n",
    "        decom2.append(x)\n",
    "\n",
    "scenario2df = focusedDF(decom2)\n",
    "scenario2INVERSEdf = focusedDF(map2list)"
   ]
  },
  {
   "cell_type": "markdown",
   "id": "97ab68eb",
   "metadata": {},
   "source": [
    "### create dataset of plants NOT selected in scenario 1 and 2"
   ]
  },
  {
   "cell_type": "code",
   "execution_count": 15,
   "id": "0a87a7fa",
   "metadata": {},
   "outputs": [],
   "source": [
    "l1 = all[all['decom'] == 0]\n",
    "l1 = l1[l1['PLNGENAN']<658653]\n",
    "l1 = l1.append(scenario2df[scenario2df['decom']==0])\n",
    "\n",
    "intrum = all[all['decom'] == 0]\n",
    "\n",
    "def inverseDF (total, portion):\n",
    "    eL = portion['label'].tolist()\n",
    "    aL = total['label'].tolist()\n",
    "\n",
    "    missing_list = []\n",
    "\n",
    "    count = 0\n",
    "    for x in aL:\n",
    "        if x not in eL:\n",
    "            count +=1\n",
    "            missing_list.append(x)\n",
    "\n",
    "    return focusMapper(missing_list, all)\n",
    "\n",
    "l2 = inverseDF(intrum, l1)\n"
   ]
  },
  {
   "cell_type": "markdown",
   "id": "ea35a557",
   "metadata": {},
   "source": [
    "# scenario 3 selection"
   ]
  },
  {
   "cell_type": "code",
   "execution_count": 22,
   "id": "2922779e",
   "metadata": {},
   "outputs": [],
   "source": [
    "#map with 2 lenses\n",
    "\n",
    "def make_scn3():\n",
    "    df = l2\n",
    "\n",
    "    df2 = StandardScaler().fit_transform(df[['PLNGENAN', 'PLSO2AN', 'CarbonIntensity', 'post2004RetrofitCosts', 'StateMineEmployment', 'CO2limitsOppose']])\n",
    "    df3 = df[['PLNGENAN', 'PLCO2AN', 'PLNOXAN', 'PLSO2AN', 'decom', 'CarbonIntensity', 'StateMineEmployment', 'CO2limitsOppose', 'PlantAge', 'post2004RetrofitCosts', 'post2004Retrofit', 'retrofitLevelized', 'GENYRRET', 'RenewableReplacement', 'CAPFAC']]\n",
    "\n",
    "    colors = df3\n",
    "    labels = mapper_labels(df['label'])\n",
    "\n",
    "    cubes = 7\n",
    "    overlap = 0.46\n",
    "    clusters = 5\n",
    "\n",
    "    mapper = km.KeplerMapper(verbose=0)\n",
    "    projector = ensemble.IsolationForest(random_state=0, n_jobs=-1)\n",
    "    projector.fit(df2)\n",
    "    lens3 = mapper.fit_transform(df2, projection=PCA(n_components=1))\n",
    "    lens1 = projector.decision_function(df2)\n",
    "    lens2 = mapper.fit_transform(df2, projection='knn_distance_5')\n",
    "    lens = np.c_[lens1, lens2]\n",
    "\n",
    "    graph_new = mapper.map(\n",
    "        lens,\n",
    "        df2,\n",
    "        remove_duplicate_nodes=True,\n",
    "        cover=km.Cover(n_cubes=cubes, perc_overlap=overlap),\n",
    "        clusterer=cluster.AgglomerativeClustering(clusters))\n",
    "\n",
    "    mapper.visualize(\n",
    "        graph_new,\n",
    "        path_html=\"scenario3_selection.html\",\n",
    "        title=\"trial3' (\" +str(cubes)+ \" cubes at \" +str(overlap*100) + \"% overlap) with Plant Labels\",\n",
    "        custom_tooltips=labels,\n",
    "        color_values = colors,\n",
    "        colorscale=my_colorscale,\n",
    "        color_function_name=list(df3.columns),\n",
    "        node_color_function=['mean', 'median', 'max'],\n",
    "        include_searchbar = True, \n",
    "        #include_intersection_selector= True\n",
    "    )\n",
    "    \n",
    "\n",
    "    return graph_new, mapper, labels, df\n",
    "\n",
    "aaaaaa = make_scn3()\n",
    "graph_new = aaaaaa[0]\n",
    "mapper = aaaaaa[1]\n",
    "labels = aaaaaa[2]\n",
    "df = aaaaaa[3]\n"
   ]
  },
  {
   "cell_type": "code",
   "execution_count": null,
   "id": "2792f86e",
   "metadata": {},
   "outputs": [],
   "source": []
  },
  {
   "cell_type": "code",
   "execution_count": 23,
   "id": "fc408829",
   "metadata": {},
   "outputs": [
    {
     "name": "stdout",
     "output_type": "stream",
     "text": [
      "63\n",
      "2\n"
     ]
    }
   ],
   "source": [
    "aaa = list(graph_new['nodes'].keys())\n",
    "exp2df = focusedDF(aaa)\n",
    "print(len(df))\n",
    "aL = df['label'].tolist()\n",
    "eL = exp2df['label'].tolist()\n",
    "\n",
    "missing_list = []\n",
    "\n",
    "count = 0\n",
    "for x in aL:\n",
    "    if x not in eL:\n",
    "        count +=1\n",
    "        missing_list.append(x)\n",
    "\n",
    "missing = focusMapper(missing_list, all)\n",
    "\n",
    "print(len(missing))"
   ]
  },
  {
   "cell_type": "code",
   "execution_count": 24,
   "id": "c4570523",
   "metadata": {},
   "outputs": [],
   "source": [
    "map3list = ['cube16_cluster4', 'cube15_cluster3', 'cube15_cluster4', 'cube20_cluster1', 'cube19_cluster0', 'cube23_cluster3', 'cube22_cluster0', 'cube23_cluster1', 'cube20_cluster0', 'cube22_cluster3-cube23_cluster4', 'cube19_cluster2', 'cube15_cluster1', 'cube16_cluster1', 'cube17_cluster3', 'cube11_cluster0', 'cube12_cluster4', 'cube12_cluster2-cube17_cluster4', 'cube8_cluster0', 'cube8_cluster3', 'cube8_cluster4', 'cube12_cluster1', 'cube11_cluster2', 'cube16_cluster3', 'cube17_cluster1']\n",
    "\n",
    "decom3 = []\n",
    "\n",
    "bbb = list(graph_new['nodes'].keys())\n",
    "\n",
    "for x in bbb:\n",
    "    # check if exists in unique_list or not\n",
    "    if x not in map3list:\n",
    "        decom3.append(x)\n",
    "\n",
    "scenario3df = focusedDF(decom3)\n",
    "scenario4df = focusedDF(map3list)\n",
    "scenario4df = scenario4df.append(missing)"
   ]
  },
  {
   "cell_type": "markdown",
   "id": "78f75837",
   "metadata": {},
   "source": [
    "# adding scenarios to full dataset"
   ]
  },
  {
   "cell_type": "code",
   "execution_count": 25,
   "id": "67709271",
   "metadata": {},
   "outputs": [],
   "source": [
    "scenario1df['scenario'] = 1\n",
    "scenario2df['scenario'] = 2\n",
    "scenario2df = scenario2df[scenario2df['decom']==0]\n",
    "scenario3df['scenario'] = 3\n",
    "\n",
    "total = scenario1df.append(scenario2df)\n",
    "total = total.append(scenario3df)\n",
    "\n",
    "scenario4df['scenario'] = 4\n",
    "total = total.append(scenario4df)\n",
    "\n",
    "total = total.drop_duplicates(subset='ORISPL')"
   ]
  },
  {
   "cell_type": "markdown",
   "id": "6ead92b4",
   "metadata": {},
   "source": [
    "export to xlsx file – optional!"
   ]
  },
  {
   "cell_type": "code",
   "execution_count": null,
   "id": "c4979369",
   "metadata": {},
   "outputs": [],
   "source": [
    "#total.to_excel(\"total_scenario_creation.xlsx\")"
   ]
  },
  {
   "cell_type": "markdown",
   "id": "1b1110bf",
   "metadata": {},
   "source": [
    "### create interactive scenario map"
   ]
  },
  {
   "cell_type": "markdown",
   "id": "bf33e906",
   "metadata": {},
   "source": [
    "colorscaled to use in scenario maps\n",
    "\n",
    "the plotting package did not allow for color rampos using the same scale, so multiple color scales were defined to ensure that scenarios remain the same color (ie. scenario 4 is always red and 2 is always blue) in maps of scenarios"
   ]
  },
  {
   "cell_type": "code",
   "execution_count": 26,
   "id": "cfae4350",
   "metadata": {},
   "outputs": [],
   "source": [
    "chl_scale = [[0, \"#4d8b9e\"], \n",
    "              [1, \"#4d8b9e\"]]\n",
    "\n",
    "colorscale1 = [[0, '#1c1b1b'], \n",
    "              [1, '#1c1b1b']]\n",
    "\n",
    "colorscale2 = [[0, '#060606'],\n",
    "             [1, '#4fb645']]\n",
    "\n",
    "colorscale3 = [[0, '#060606'],\n",
    "             [.5, '#4fb645'],\n",
    "             [1, '#1335fc']]\n",
    "\n",
    "colorscale4 = [[0, '#060606'],\n",
    "             [.3, '#4fb645'],\n",
    "             [.8, '#1335fc'],\n",
    "             [1, '#fc3013']]"
   ]
  },
  {
   "cell_type": "code",
   "execution_count": 27,
   "id": "23f44bb3",
   "metadata": {
    "scrolled": false
   },
   "outputs": [
    {
     "data": {
      "application/vnd.plotly.v1+json": {
       "config": {
        "plotlyServerURL": "https://plot.ly"
       },
       "data": [
        {
         "colorbar": {
          "title": {
           "text": "% State Reduction"
          }
         },
         "colorscale": [
          [
           0,
           "rgb(161, 105, 40)"
          ],
          [
           0.16666666666666666,
           "rgb(189, 146, 90)"
          ],
          [
           0.3333333333333333,
           "rgb(214, 189, 141)"
          ],
          [
           0.5,
           "rgb(237, 234, 194)"
          ],
          [
           0.6666666666666666,
           "rgb(181, 200, 184)"
          ],
          [
           0.8333333333333334,
           "rgb(121, 167, 172)"
          ],
          [
           1,
           "rgb(40, 135, 161)"
          ]
         ],
         "locationmode": "USA-states",
         "locations": [
          "AK",
          "AL",
          "AR",
          "AZ",
          "CA",
          "CO",
          "FL",
          "GA",
          "HI",
          "IA",
          "IL",
          "IN",
          "KS",
          "KY",
          "LA",
          "MD",
          "MI",
          "MN",
          "MO",
          "MS",
          "MT",
          "NC",
          "ND",
          "NE",
          "NH",
          "NJ",
          "NM",
          "NV",
          "NY",
          "OH",
          "OK",
          "OR",
          "PA",
          "SC",
          "SD",
          "TN",
          "TX",
          "UT",
          "VA",
          "WA",
          "WI",
          "WV",
          "WY"
         ],
         "type": "choropleth",
         "z": [
          100,
          100,
          100,
          100,
          100,
          100,
          100,
          1.5115337800126787,
          100,
          100,
          63.659841358895974,
          72.85646892426261,
          25.685225034007527,
          41.118787744118954,
          100,
          100,
          100,
          100,
          54.77676451389477,
          100,
          100,
          75.01709614683408,
          86.69526624417449,
          99.99999999999997,
          100,
          100,
          100,
          100,
          100,
          25.503901569531735,
          70.88589311407979,
          100,
          30.457443638686094,
          100.00000000000003,
          100,
          99.99999999999999,
          73.23047882850327,
          100,
          100,
          100,
          100,
          21.338731363738564,
          24.408440156866074
         ]
        },
        {
         "lat": [
          39.561831,
          40.811189,
          34.0158,
          46.290641,
          31.488019,
          40.854765,
          40.55,
          40.455,
          46.926423,
          42.5267,
          41.3917,
          36.9981,
          44.2826,
          46.8669,
          41.7775,
          42.3833,
          43.1411,
          39.693494,
          40.6191,
          40.782377,
          40.8222,
          39.8028,
          38.824444,
          40.520066,
          42.692222,
          47.6785,
          47.717222,
          64.847743,
          64.825601,
          41.416442,
          42.71839,
          38.5444,
          41.504453,
          29.7592,
          43.741111,
          45.765346,
          33.41342,
          39.84919,
          47.927202,
          43.0706,
          40.866463,
          39.1781,
          37.7942,
          41.7265,
          42.1217,
          38.4017,
          36.5278,
          43.3359,
          39.2097,
          35.1897,
          41.944039,
          41.4281,
          40.5589,
          39.5472,
          40.6917,
          41.0714,
          45.9752,
          43.358889,
          41.6334,
          37.711944,
          41.5933,
          37.5392,
          39.7928,
          41.621667,
          40.5383,
          35.765,
          40.7903,
          36.0211,
          32.9,
          41.624438,
          47.437562,
          46.9026,
          44.187066,
          64.67141,
          64.854171,
          35.4159,
          38.2636,
          36.4769,
          34.1497,
          44.217299,
          47.76468,
          40.8556,
          41.2691,
          41.6572,
          45.7578,
          44.796405,
          48.593158,
          35.9069,
          38.2667,
          41.85887,
          35.29816,
          32.4607,
          40.0864,
          31.091925,
          35.76135,
          40.5958,
          36.869,
          34.186494,
          45.693182,
          40.7412,
          36.8791,
          37.9308,
          40.860905,
          33.33184,
          40.881317,
          41.32909,
          39.1306,
          36.3156,
          38.8067,
          40.4856,
          42.7642,
          44.303583,
          33.0158,
          39.754803,
          40.580872,
          41.3181,
          38.9036,
          31.474378,
          38.633451,
          38.2081,
          38.8675,
          38.131248,
          46.755938,
          35.678442,
          36.69,
          39.595171,
          31.4219,
          42.7756,
          34.4228,
          37.2094,
          39.590556,
          32.030556,
          33.3761,
          34.0825,
          40.1842,
          39.0694,
          47.377743,
          38.9361,
          28.7128,
          33.649722,
          37.151706,
          43.5589,
          44.8606,
          36.5147,
          45.3808,
          41.0808,
          47.370542,
          28.7044,
          28.4822,
          37.9053,
          37.1517,
          39.3792,
          40.7461,
          39.509731,
          33.05522,
          44.2919,
          40.40625,
          45.8831,
          47.065854,
          47.221447,
          37.4497,
          45.03,
          35.6644,
          29.733056,
          36.5219,
          42.3006,
          42.325814,
          43.644996,
          45.303652,
          33.371506,
          39.0072,
          21.303419,
          41.7208,
          37.9111,
          37.6461,
          41.8206,
          41.9221,
          39.870074,
          37.619747,
          39.1681,
          35.1931,
          29.309722,
          36.8006,
          36.4317,
          44.388889,
          40.4627,
          40.6214,
          36.916389,
          39.1747,
          36.3903,
          34.3186,
          40.2217,
          33.8264,
          44.2858,
          44.2856,
          44.290128,
          44.2919,
          41.8906,
          38.372222,
          40.5408,
          39.9242,
          38.5281,
          42.910296,
          43.715142,
          36.2561,
          29.4828,
          32.2606,
          39.366667,
          39.2008,
          38.0525,
          36.2811,
          33.244211,
          47.2611,
          41.0961,
          43.4864,
          35.22,
          35.5975,
          41.18,
          39.4472,
          42.8492,
          42.8457,
          38.3592,
          34.5789,
          34.9394,
          40.5317,
          38.205,
          38.915479,
          41.2164,
          35.8992,
          37.3822,
          30.5322,
          31.0069,
          40.096111,
          39.18,
          28.9656,
          33.6319
         ],
         "lon": [
          -80.163138,
          -76.452951,
          -95.3206,
          -96.043252,
          -87.910747,
          -98.348222,
          -78.8,
          -78.7472,
          -98.499713,
          -92.4394,
          -91.0569,
          -84.5919,
          -88.2534,
          -100.8836,
          -87.8233,
          -87.8133,
          -71.4692,
          -75.485811,
          -76.45,
          -76.176184,
          -76.1736,
          -84.8953,
          -104.833333,
          -81.46815,
          -84.657222,
          -104.15665,
          -104.135556,
          -147.735063,
          -147.648627,
          -97.286328,
          -84.55808,
          -76.6861,
          -82.054619,
          -82.3878,
          -83.447222,
          -108.499232,
          -85.032329,
          -88.931944,
          -97.007153,
          -86.235,
          -96.614486,
          -76.5268,
          -87.0608,
          -81.254,
          -83.1808,
          -90.3358,
          -78.8917,
          -91.1675,
          -77.4644,
          -81.0122,
          -91.639167,
          -96.4623,
          -96.7847,
          -110.3917,
          -75.4792,
          -76.6672,
          -106.6547,
          -78.604722,
          -88.0629,
          -89.215,
          -109.7542,
          -76.8053,
          -75.406667,
          -109.811944,
          -79.7906,
          -117.3833,
          -76.1983,
          -84.1567,
          -79.9667,
          -93.584515,
          -97.06311,
          -96.76112,
          -93.99242,
          -147.075988,
          -147.822075,
          -108.082,
          -85.8381,
          -77.6414,
          -79.5606,
          -86.28905,
          -96.633375,
          -75.8781,
          -79.8134,
          -91.54,
          -107.6,
          -95.179787,
          -97.17608,
          -79.0617,
          -77.3147,
          -103.63438,
          -101.747187,
          -94.4852,
          -109.2844,
          -96.69503,
          -95.28732,
          -89.6631,
          -78.704,
          -102.56999,
          -119.808819,
          -91.116667,
          -89.6209,
          -100.9725,
          -105.021207,
          -79.357236,
          -117.151605,
          -95.94466,
          -94.4778,
          -86.4006,
          -87.2472,
          -107.185,
          -82.4719,
          -91.912647,
          -79.9297,
          -89.602389,
          -98.312437,
          -91.0931,
          -84.8514,
          -96.957149,
          -104.70577,
          -104.5747,
          -84.2289,
          -90.263157,
          -122.859764,
          -91.408761,
          -108.4814,
          -78.745333,
          -96.2525,
          -82.495,
          -92.1406,
          -88.858889,
          -89.496389,
          -93.569167,
          -89.2183,
          -99.1753,
          -81.8811,
          -87.5108,
          -101.157058,
          -88.2781,
          -97.214167,
          -93.811944,
          -93.38804,
          -91.2325,
          -89.6553,
          -89.5617,
          -93.8931,
          -101.1408,
          -101.83566,
          -98.4775,
          -81.1678,
          -87.715,
          -88.775,
          -111.0781,
          -116.5297,
          -112.58018,
          -94.839993,
          -105.3806,
          -79.03366,
          -106.614,
          -101.213093,
          -101.815722,
          -87.0806,
          -92.7786,
          -89.9489,
          -81.632778,
          -82.5431,
          -96.3617,
          -96.381184,
          -83.840074,
          -96.510067,
          -80.113235,
          -95.269167,
          -158.106528,
          -86.9086,
          -87.3275,
          -87.5,
          -90.2097,
          -91.6875,
          -88.890756,
          -88.953114,
          -94.6975,
          -94.6458,
          -98.3203,
          -108.4386,
          -95.7008,
          -105.460833,
          -107.5912,
          -95.7764,
          -82.338055,
          -111.0289,
          -87.6539,
          -109.1639,
          -103.6803,
          -80.6228,
          -105.3833,
          -105.3833,
          -105.381482,
          -105.3811,
          -83.3464,
          -87.765833,
          -89.6786,
          -87.4244,
          -87.2525,
          -86.20074,
          -87.705863,
          -94.5241,
          -95.6311,
          -94.5706,
          -81.294444,
          -79.2636,
          -85.9103,
          -80.0603,
          -86.458056,
          -93.6528,
          -92.555833,
          -89.4203,
          -81.7594,
          -80.9658,
          -95.8408,
          -94.98,
          -87.8336,
          -87.8294,
          -76.9767,
          -109.2708,
          -110.3033,
          -80.6319,
          -89.8544,
          -90.290247,
          -87.0261,
          -84.5194,
          -77.3833,
          -88.5553,
          -88.0103,
          -76.6962,
          -76.5389,
          -82.6977,
          -87.0597
         ],
         "marker": {
          "cauto": false,
          "color": [
           1,
           1,
           1,
           1,
           1,
           1,
           1,
           1,
           1,
           1,
           1,
           1,
           1,
           1,
           1,
           1,
           1,
           1,
           1,
           1,
           1,
           1,
           1,
           1,
           1,
           1,
           1,
           1,
           1,
           1,
           1,
           1,
           1,
           1,
           1,
           1,
           1,
           1,
           1,
           1,
           1,
           1,
           1,
           1,
           1,
           1,
           1,
           1,
           1,
           1,
           1,
           1,
           1,
           1,
           1,
           1,
           1,
           1,
           1,
           1,
           1,
           1,
           1,
           1,
           1,
           1,
           1,
           1,
           1,
           1,
           1,
           1,
           1,
           1,
           1,
           1,
           1,
           1,
           1,
           1,
           1,
           1,
           1,
           1,
           1,
           1,
           1,
           1,
           1,
           1,
           2,
           2,
           2,
           2,
           2,
           2,
           2,
           2,
           2,
           2,
           2,
           2,
           2,
           2,
           2,
           2,
           2,
           2,
           2,
           2,
           2,
           2,
           2,
           2,
           2,
           2,
           2,
           2,
           2,
           2,
           2,
           2,
           2,
           2,
           2,
           2,
           2,
           2,
           2,
           2,
           2,
           2,
           2,
           2,
           2,
           2,
           2,
           2,
           2,
           2,
           2,
           2,
           2,
           2,
           2,
           2,
           2,
           2,
           2,
           2,
           2,
           2,
           2,
           2,
           2,
           2,
           2,
           2,
           2,
           2,
           2,
           2,
           2,
           2,
           2,
           2,
           2,
           2,
           2,
           2,
           2,
           2,
           2,
           2,
           2,
           2,
           2,
           2,
           2,
           2,
           2,
           2,
           2,
           2,
           2,
           2,
           2,
           2,
           2,
           2,
           2,
           2,
           2,
           2,
           2,
           2,
           2,
           2,
           2,
           2,
           2,
           2,
           2,
           2,
           2,
           2,
           2,
           2,
           2,
           3,
           3,
           3,
           3,
           3,
           3,
           3,
           3,
           3,
           3,
           3,
           3,
           3,
           3,
           3,
           3,
           3,
           3,
           3,
           3,
           3,
           3,
           3,
           3,
           3,
           3,
           3
          ],
          "colorscale": [
           [
            0,
            "#060606"
           ],
           [
            0.5,
            "#4fb645"
           ],
           [
            1,
            "#1335fc"
           ]
          ],
          "size": [
           0.8824714285714286,
           0.05961428571428572,
           0.29667714285714286,
           0.29091428571428574,
           0.45327285714285714,
           0.5171771428571429,
           0.6960171428571429,
           0.4145057142857143,
           0.2755657142857143,
           0.0027742857142857144,
           0.7600128571428572,
           0.20358142857142858,
           0.2841,
           0.6714014285714286,
           0.36218285714285714,
           0.8884914285714286,
           0.18380142857142856,
           0.6837157142857143,
           0.2725842857142857,
           0.07238714285714286,
           0.9359914285714286,
           0.04706428571428571,
           0.5738357142857143,
           0.07444714285714285,
           0.8088585714285714,
           0.3318357142857143,
           0.013055714285714285,
           0.26887428571428573,
           0.09819857142857143,
           0.26057714285714284,
           0.0076128571428571426,
           0.5224342871428571,
           0.33531428571428573,
           0.9235542857142857,
           0.0017728571428571429,
           0.00792,
           0.20623857142857144,
           0.5519257142857142,
           0.04,
           0.04666142857142857,
           0.04412571428571429,
           0.11500857142857143,
           0.6441042857142857,
           0.0027142857142857142,
           0.36825285714285716,
           0.14155766857142857,
           0.89313,
           0.46820285714285714,
           0.31434571285714286,
           0.7422457142857143,
           0.06965142857142857,
           0.8624371428571429,
           0.7110071428571428,
           0.4601057142857143,
           0.013495714285714286,
           0.22711,
           0.3888,
           0.20798,
           0.4405142857142857,
           0.009458571428571429,
           0.29929285714285714,
           0.8111257142857143,
           0.6331457142857143,
           0.3037728571428571,
           0.7869485714285714,
           0.45287428571428573,
           0.9061128571428572,
           0.9158928571428572,
           0.6053214285714286,
           0.039394285714285715,
           0.08705285714285714,
           0.03717857142857143,
           0.03564,
           0.10437714285714286,
           0.06493,
           0.8518257142857143,
           0.056092857142857146,
           0.28589055714285716,
           0.5331174142857142,
           0.7291857142857143,
           0.04248,
           0.08591857142857143,
           0.008418571428571428,
           0.05953173428571429,
           0.07386571428571428,
           0.021012857142857142,
           0.05073142857142857,
           0.08989714285714286,
           0.11061,
           0.03701142857142857,
           4.77884,
           3.122217142857143,
           4.653687142857143,
           3.4078785714285713,
           3.9324985714285714,
           4.436572857142857,
           1.7723214285714286,
           2.6562414285714286,
           2.331882857142857,
           1.6138042857142858,
           2.3420657142857144,
           2.068905714285714,
           2.903314288571429,
           3.259247142857143,
           1.3317071428571428,
           2.5307014285714287,
           3.1855957142857143,
           3.4703957142857145,
           4.668348571428571,
           2.902592857142857,
           2.342611428571429,
           2.038287142857143,
           3.830767142857143,
           1.0798871428571428,
           1.29363,
           2.6459114285714285,
           3.2486285714285716,
           6.518102857142857,
           1.7952757142857143,
           5.9284485714285715,
           7.96127,
           9.538292857142856,
           7.355767142857143,
           4.152817142857143,
           10.855675714285715,
           1.3620557142857144,
           8.166112857142856,
           6.564928572857143,
           5.649868571428572,
           5.870064285714285,
           2.1079485714285715,
           0.9531957142857143,
           3.3227857142857142,
           1.57661,
           1.5349914285714286,
           3.69305,
           11.73970142857143,
           3.759887142857143,
           3.6144314285714287,
           5.027505714285715,
           2.3368514285714284,
           1.3365814285714286,
           5.853257142857143,
           8.829984285714286,
           12.50427,
           9.953304285714285,
           8.13559,
           3.3116342857142858,
           8.26986,
           2.9651514285714287,
           5.227918571428572,
           6.450435714285715,
           1.46753,
           9.659912857142857,
           4.7434014285714285,
           1.2043042857142856,
           3.162664285714286,
           11.335957142857144,
           6.66789,
           3.4081785714285715,
           3.3094457142857143,
           1.0875714285714286,
           4.626665714285714,
           9.498998571428572,
           1.6134514285714285,
           0.9450928571428572,
           1.2277257142857143,
           2.3633614285714284,
           2.357335714285714,
           8.894535714285714,
           2.76251,
           1.6914414285714285,
           2.161175714285714,
           1.31839,
           1.5910671428571428,
           1.0984328571428572,
           1.1641,
           1.6837128571428572,
           1.3021328571428572,
           1.5368542857142857,
           1.1329157142857142,
           7.63494,
           6.788032857142857,
           5.274768571428571,
           4.5791,
           9.970458571428571,
           10.948924285714286,
           1.24295,
           11.41171857142857,
           13.610598571428572,
           10.794457141428571,
           4.38279,
           1.1956085714285714,
           0.9985914285714286,
           1.0359657142857144,
           2.472102857142857,
           1.0239842857142858,
           18.86256,
           16.83456142857143,
           1.2068257142857144,
           6.254575714285714,
           8.773199998571428,
           9.668031428571428,
           1.5691785714285715,
           2.59538,
           15.443128571428572,
           18.402158571428572,
           6.974591428571428,
           6.734611428571428,
           9.497098571428571,
           7.6299028571428575,
           5.424207142857143,
           6.004824285714285,
           3.6008714285714287,
           7.409864285714286,
           7.513468571428572,
           8.694901428571429,
           7.076144285714285,
           10.049397142857142,
           11.06827,
           4.336464285714285,
           1.5511171428571429,
           3.708462857142857,
           4.499998571428572,
           6.85354,
           5.8010528571428575,
           3.9276985714285715,
           3.8508285714285715,
           2.11807,
           4.980391428571428,
           15.39895857142857,
           14.99878,
           2.6288142857142858,
           1.3586457142857142,
           21.35389142857143,
           23.492577142857144
          ]
         },
         "showlegend": false,
         "text": [
          "2020: Grant Town Power Plant, WV",
          "2020: Mt. Carmel Cogeneration, PA",
          "2020: Hugo, OK",
          "2020: Hoot Lake, MN",
          "2020: Charles R Lowman, AL",
          "2020: Platte, NE",
          "2020: Colver Green Energy, PA",
          "2020: Ebensburg Power Company, PA",
          "2020: Spiritwood Station, ND",
          "2020: Streeter Station, IA",
          "2020: Muscatine, IA",
          "2020: John S. Cooper, KY",
          "2020: Kaukauna Paper Mill, WI",
          "2020: R M Heskett, ND",
          "2020: Ingredion Incorporated Argo Plant, IL",
          "2020: Waukegan, IL",
          "2020: Merrimack, NH",
          "2020: Carneys Point, NJ",
          "2020: WPS Westwood Generation, LLC, PA",
          "2020: Wheelabrator Frackville Energy, PA",
          "2020: St. Nicholas Cogeneration Project, PA",
          "2020: Whitewater Valley, IN",
          "2020: Martin Drake, CO",
          "2020: Dover, OH",
          "2020: Erickson, MI",
          "2020: Lewis & Clark, MT",
          "2020: Sidney MT Plant, MT",
          "2020: Aurora Energy LLC Chena, AK",
          "2020: Utility Plants Section, AK",
          "2020: Archer Daniels Midland Columbus, NE",
          "2020: Eckert Station, MI",
          "2020: Chalk Point, MD",
          "2020: Avon Lake Power Plant, OH",
          "2020: Deerhaven, FL",
          "2020: MSC Sebewaing, MI",
          "2020: Western Sugar Cooperative - Billings, MT",
          "2020: Wansley (6052), GA",
          "2020: Tate & Lyle, IL",
          "2020: American Crystal Sugar East Grand Forks, MN",
          "2020: J B Sims, MI",
          "2020: Archer Daniels Midland Lincoln, NE",
          "2020: Herbert A Wagner, MD",
          "2020: Elmer Smith, KY",
          "2020: Painesville, OH",
          "2020: Trenton Channel, MI",
          "2020: Meramec, MO",
          "2020: Mayo, NC",
          "2020: Lansing, IA",
          "2020: Dickerson, MD",
          "2020: G G Allen, NC",
          "2020: Prairie Creek, IA",
          "2020: Lon D Wright Power Plant, NE",
          "2020: Sheldon, NE",
          "2020: Sunnyside Cogeneration Associates, UT",
          "2020: Northampton Generating Plant, PA",
          "2020: Montour, LLC, PA",
          "2020: Colstrip Energy Limited Partnership, MT",
          "2020: Somerset Operating Company  (Kintigh), NY",
          "2020: Will County, IL",
          "2020: SIUC, IL",
          "2020: General Chemical, WY",
          "2020: RockTenn West Point Mill, VA",
          "2020: Logan Generating Plant, NJ",
          "2020: Genesis Alkali, WY",
          "2020: Cheswick, PA",
          "2020: Argus Cogen Plant, CA",
          "2020: Gilberton Power Company, PA",
          "2020: Bull Run, TN",
          "2020: WestRock Charleston Kraft, LLC, SC",
          "2020: Archer Daniels Midland Des Moines, IA",
          "2020: American Crystal Sugar Hillsboro, ND",
          "2020: American Crystal Sugar Moorhead, MN",
          "2020: Archer Daniels Midland Mankato, MN",
          "2020: Eielson AFB Central Heat & Power Plant, AK",
          "2020: University of Alaska Fairbanks, AK",
          "2020: Escalante, NM",
          "2020: R Gallagher, IN",
          "2020: WestRock Kraft Paper, LLC, NC",
          "2020: WestRock CP, LLC Florence Mill, SC",
          "2020: TES Filer City Station, MI",
          "2020: American Crystal Sugar Crookston, MN",
          "2020: Panther Creek Energy Facility, PA",
          "2020: Scrubgrass Generating Plant, PA",
          "2020: University of Iowa Main Power Plant, IA",
          "2020: Hardin Generating Station, MT",
          "2020: Southern Minnesota Beet Sugar, MN",
          "2020: American Crystal Sugar Drayton, ND",
          "2020: University of NC Chapel Hill, NC",
          "2020: Birchwood Power Facility, VA",
          "2020: Western Sugar Coop - Scottsbluff, NE",
          "2020: Harrington Station, TX",
          "2020: H W Pirkey Power Plant, TX",
          "2020: Bonanza, UT",
          "2020: Twin Oaks, TX",
          "2020: Muskogee, OK",
          "2020: E D Edwards, IL",
          "2020: Clover Power Station, VA",
          "2020: Tolk Station, TX",
          "2020: Boardman, OR",
          "2020: Burlington (IA), IA",
          "2020: Sikeston, MO",
          "2020: Holcomb, KS",
          "2020: Rawhide Energy Station, CO",
          "2020: Winyah, SC",
          "2020: North Valmy, NV",
          "2020: North Omaha Station, NE",
          "2020: Hawthorn, MO",
          "2020: Gallatin, TN",
          "2020: Edwardsport Generating Station, IN",
          "2020: Hayden, CO",
          "2020: St. Clair, MI",
          "2020: J P Madgett, WI",
          "2020: Williams, SC",
          "2020: Dallman, IL",
          "2020: Gerald Whelan Energy Center, NE",
          "2020: Louisa, IA",
          "2020: East Bend, KY",
          "2020: Sandy Creek Energy Station, TX",
          "2020: Ray D Nixon, CO",
          "2020: Comanche (470), CO",
          "2020: W H Zimmer Generating Station, OH",
          "2020: Rush Island, MO",
          "2020: Centralia, WA",
          "2020: Independence, AR",
          "2020: Four Corners Steam Elec Station, NM",
          "2020: AES Warrior Run, MD",
          "2020: Limestone, TX",
          "2020: Belle River, MI",
          "2020: White Bluff, AR",
          "2020: Joppa Steam, IL",
          "2020: Kincaid Generating Station, IL",
          "2020: Dolet Hills Power Station, LA",
          "2020: Red Hills Generation Facility, MS",
          "2020: Oklaunion Power Station, TX",
          "2020: Conesville, OH",
          "2020: Merom, IN",
          "2020: Coal Creek, ND",
          "2020: Newton, IL",
          "2020: Coleto Creek, TX",
          "2020: John W. Turk Jr. Power Plant, AR",
          "2020: John Twitty Energy Center, MO",
          "2020: Genoa, WI",
          "2020: Weston, WI",
          "2020: New Madrid Power Plant, MO",
          "2020: Sherburne County, MN",
          "2020: Gerald Gentleman Station, NE",
          "2020: Antelope Valley, ND",
          "2020: San Miguel, TX",
          "2020: Curtis H. Stanton Energy Center, FL",
          "2020: A B Brown Generating Station, IN",
          "2020: Shawnee, KY",
          "2020: Huntington, UT",
          "2020: TS Power Plant, NV",
          "2020: Intermountain, UT",
          "2020: Welsh Power Plant, TX",
          "2020: Wygen III, WY",
          "2020: Seward, PA",
          "2020: Colstrip, MT",
          "2020: Milton R Young, ND",
          "2020: Coyote, ND",
          "2020: D B Wilson, KY",
          "2020: Allen S King, MN",
          "2020: Plum Point Energy Station, AR",
          "2020: Seminole (136), FL",
          "2020: Eastman Chemical Company, TN",
          "2020: George Neal South, IA",
          "2020: George Neal North, IA",
          "2020: Dan E Karn, MI",
          "2020: Big Stone, SD",
          "2020: Cross, SC",
          "2020: Lawrence Energy Center, KS",
          "2020: AES Hawaii, HI",
          "2020: Michigan City Generating Station, IN",
          "2020: F B Culley Generating Station, IN",
          "2020: R D Green, KY",
          "2020: Archer Daniels Midland Clinton, IA",
          "2020: Archer Daniels Midland Cedar Rapids, IA",
          "2020: Archer Daniels Midland Co., IL",
          "2020: Marion, IL",
          "2020: Nearman Creek, KS",
          "2020: River Valley, OK",
          "2020: J K Spruce, TX",
          "2020: San Juan, NM",
          "2020: Northeastern, OK",
          "2020: Dry Fork Station, WY",
          "2020: Craig, CO",
          "2020: Nebraska City Station, NE",
          "2020: Virginia City Hybrid Energy Center, VA",
          "2020: Hunter, UT",
          "2020: Cumberland, TN",
          "2020: Springerville Generating Station, AZ",
          "2020: Pawnee, CO",
          "2020: Wateree, SC",
          "2020: Wygen I, WY",
          "2020: Neil Simpson II, WY",
          "2020: Wyodak, WY",
          "2020: Wygen II, WY",
          "2020: Monroe, MI",
          "2020: Gibson, IN",
          "2020: Powerton, IL",
          "2020: Cayuga, IN",
          "2020: IPL - Petersburg Generating Station, IN",
          "2020: J H Campbell, MI",
          "2020: Edgewater (4050), WI",
          "2020: Flint Creek Power Plant, AR",
          "2020: W A Parish, TX",
          "2020: Martin Lake, TX",
          "2020: Pleasants Power Station, WV",
          "2020: Mount Storm Power Station, WV",
          "2020: Mill Creek, KY",
          "2020: Belews Creek, NC",
          "2020: E C Gaston, AL",
          "2020: Boswell Energy Center, MN",
          "2020: Ottumwa, IA",
          "2020: Columbia, WI",
          "2020: Cliffside, NC",
          "2020: Marshall, NC",
          "2020: Walter Scott Jr. Energy Center, IA",
          "2020: Iatan, MO",
          "2020: Elm Road Generating Station, WI",
          "2020: South Oak Creek, WI",
          "2020: Morgantown, MD",
          "2020: Coronado Generating Station, AZ",
          "2020: Cholla, AZ",
          "2020: W H Sammis, OH",
          "2020: Baldwin Energy Complex, IL",
          "2020: Sioux, MO",
          "2020: R M Schahfer Generating Station, IN",
          "2020: Kingston, TN",
          "2020: Chesterfield Power Station, VA",
          "2020: Daniel Electric Generating Plant, MS",
          "2020: Barry, AL",
          "2020: Brunner Island, LLC, PA",
          "2020: Brandon Shores, MD",
          "2020: Crystal River, FL",
          "2020: James H Miller Jr, AL"
         ],
         "type": "scattergeo"
        },
        {
         "lat": [
          39.561831,
          40.811189,
          34.0158,
          46.290641,
          31.488019,
          40.854765,
          40.55,
          40.455,
          46.926423,
          42.5267,
          41.3917,
          36.9981,
          44.2826,
          46.8669,
          41.7775,
          42.3833,
          43.1411,
          39.693494,
          40.6191,
          40.782377,
          40.8222,
          39.8028,
          38.824444,
          40.520066,
          42.692222,
          47.6785,
          47.717222,
          64.847743,
          64.825601,
          41.416442,
          42.71839,
          38.5444,
          41.504453,
          29.7592,
          43.741111,
          45.765346,
          33.41342,
          39.84919,
          47.927202,
          43.0706,
          40.866463,
          39.1781,
          37.7942,
          41.7265,
          42.1217,
          38.4017,
          36.5278,
          43.3359,
          39.2097,
          35.1897,
          41.944039,
          41.4281,
          40.5589,
          39.5472,
          40.6917,
          41.0714,
          45.9752,
          43.358889,
          41.6334,
          37.711944,
          41.5933,
          37.5392,
          39.7928,
          41.621667,
          40.5383,
          35.765,
          40.7903,
          36.0211,
          32.9,
          41.624438,
          47.437562,
          46.9026,
          44.187066,
          64.67141,
          64.854171,
          35.4159,
          38.2636,
          36.4769,
          34.1497,
          44.217299,
          47.76468,
          40.8556,
          41.2691,
          41.6572,
          45.7578,
          44.796405,
          48.593158,
          35.9069,
          38.2667,
          41.85887
         ],
         "lon": [
          -80.163138,
          -76.452951,
          -95.3206,
          -96.043252,
          -87.910747,
          -98.348222,
          -78.8,
          -78.7472,
          -98.499713,
          -92.4394,
          -91.0569,
          -84.5919,
          -88.2534,
          -100.8836,
          -87.8233,
          -87.8133,
          -71.4692,
          -75.485811,
          -76.45,
          -76.176184,
          -76.1736,
          -84.8953,
          -104.833333,
          -81.46815,
          -84.657222,
          -104.15665,
          -104.135556,
          -147.735063,
          -147.648627,
          -97.286328,
          -84.55808,
          -76.6861,
          -82.054619,
          -82.3878,
          -83.447222,
          -108.499232,
          -85.032329,
          -88.931944,
          -97.007153,
          -86.235,
          -96.614486,
          -76.5268,
          -87.0608,
          -81.254,
          -83.1808,
          -90.3358,
          -78.8917,
          -91.1675,
          -77.4644,
          -81.0122,
          -91.639167,
          -96.4623,
          -96.7847,
          -110.3917,
          -75.4792,
          -76.6672,
          -106.6547,
          -78.604722,
          -88.0629,
          -89.215,
          -109.7542,
          -76.8053,
          -75.406667,
          -109.811944,
          -79.7906,
          -117.3833,
          -76.1983,
          -84.1567,
          -79.9667,
          -93.584515,
          -97.06311,
          -96.76112,
          -93.99242,
          -147.075988,
          -147.822075,
          -108.082,
          -85.8381,
          -77.6414,
          -79.5606,
          -86.28905,
          -96.633375,
          -75.8781,
          -79.8134,
          -91.54,
          -107.6,
          -95.179787,
          -97.17608,
          -79.0617,
          -77.3147,
          -103.63438
         ],
         "marker": {
          "cauto": false,
          "color": [
           1,
           1,
           1,
           1,
           1,
           1,
           1,
           1,
           1,
           1,
           1,
           1,
           1,
           1,
           1,
           1,
           1,
           1,
           1,
           1,
           1,
           1,
           1,
           1,
           1,
           1,
           1,
           1,
           1,
           1,
           1,
           1,
           1,
           1,
           1,
           1,
           1,
           1,
           1,
           1,
           1,
           1,
           1,
           1,
           1,
           1,
           1,
           1,
           1,
           1,
           1,
           1,
           1,
           1,
           1,
           1,
           1,
           1,
           1,
           1,
           1,
           1,
           1,
           1,
           1,
           1,
           1,
           1,
           1,
           1,
           1,
           1,
           1,
           1,
           1,
           1,
           1,
           1,
           1,
           1,
           1,
           1,
           1,
           1,
           1,
           1,
           1,
           1,
           1,
           1
          ],
          "colorscale": [
           [
            0,
            "#1c1b1b"
           ],
           [
            1,
            "#1c1b1b"
           ]
          ],
          "size": [
           3.08865,
           0.20865,
           1.03837,
           1.0182,
           1.586455,
           1.81012,
           2.43606,
           1.45077,
           0.96448,
           0.00971,
           2.660045,
           0.712535,
           0.99435,
           2.349905,
           1.26764,
           3.10972,
           0.643305,
           2.393005,
           0.954045,
           0.253355,
           3.27597,
           0.164725,
           2.008425,
           0.260565,
           2.831005,
           1.161425,
           0.045695,
           0.94106,
           0.343695,
           0.91202,
           0.026645,
           1.828520005,
           1.1736,
           3.23244,
           0.006205,
           0.02772,
           0.721835,
           1.93174,
           0.14,
           0.163315,
           0.15444,
           0.40253,
           2.254365,
           0.0095,
           1.288885,
           0.49545184000000003,
           3.125955,
           1.63871,
           1.1002099950000002,
           2.59786,
           0.24378,
           3.01853,
           2.488525,
           1.61037,
           0.047235,
           0.794885,
           1.3608,
           0.72793,
           1.5418,
           0.033105,
           1.047525,
           2.83894,
           2.21601,
           1.063205,
           2.75432,
           1.58506,
           3.171395,
           3.205625,
           2.118625,
           0.13788,
           0.304685,
           0.130125,
           0.12474,
           0.36532,
           0.227255,
           2.98139,
           0.196325,
           1.0006169500000002,
           1.86591095,
           2.55215,
           0.14868,
           0.300715,
           0.029465,
           0.20836107,
           0.25853,
           0.073545,
           0.17756,
           0.31464,
           0.387135,
           0.12954
          ]
         },
         "showlegend": false,
         "text": [
          "2020: Grant Town Power Plant, WV",
          "2020: Mt. Carmel Cogeneration, PA",
          "2020: Hugo, OK",
          "2020: Hoot Lake, MN",
          "2020: Charles R Lowman, AL",
          "2020: Platte, NE",
          "2020: Colver Green Energy, PA",
          "2020: Ebensburg Power Company, PA",
          "2020: Spiritwood Station, ND",
          "2020: Streeter Station, IA",
          "2020: Muscatine, IA",
          "2020: John S. Cooper, KY",
          "2020: Kaukauna Paper Mill, WI",
          "2020: R M Heskett, ND",
          "2020: Ingredion Incorporated Argo Plant, IL",
          "2020: Waukegan, IL",
          "2020: Merrimack, NH",
          "2020: Carneys Point, NJ",
          "2020: WPS Westwood Generation, LLC, PA",
          "2020: Wheelabrator Frackville Energy, PA",
          "2020: St. Nicholas Cogeneration Project, PA",
          "2020: Whitewater Valley, IN",
          "2020: Martin Drake, CO",
          "2020: Dover, OH",
          "2020: Erickson, MI",
          "2020: Lewis & Clark, MT",
          "2020: Sidney MT Plant, MT",
          "2020: Aurora Energy LLC Chena, AK",
          "2020: Utility Plants Section, AK",
          "2020: Archer Daniels Midland Columbus, NE",
          "2020: Eckert Station, MI",
          "2020: Chalk Point, MD",
          "2020: Avon Lake Power Plant, OH",
          "2020: Deerhaven, FL",
          "2020: MSC Sebewaing, MI",
          "2020: Western Sugar Cooperative - Billings, MT",
          "2020: Wansley (6052), GA",
          "2020: Tate & Lyle, IL",
          "2020: American Crystal Sugar East Grand Forks, MN",
          "2020: J B Sims, MI",
          "2020: Archer Daniels Midland Lincoln, NE",
          "2020: Herbert A Wagner, MD",
          "2020: Elmer Smith, KY",
          "2020: Painesville, OH",
          "2020: Trenton Channel, MI",
          "2020: Meramec, MO",
          "2020: Mayo, NC",
          "2020: Lansing, IA",
          "2020: Dickerson, MD",
          "2020: G G Allen, NC",
          "2020: Prairie Creek, IA",
          "2020: Lon D Wright Power Plant, NE",
          "2020: Sheldon, NE",
          "2020: Sunnyside Cogeneration Associates, UT",
          "2020: Northampton Generating Plant, PA",
          "2020: Montour, LLC, PA",
          "2020: Colstrip Energy Limited Partnership, MT",
          "2020: Somerset Operating Company  (Kintigh), NY",
          "2020: Will County, IL",
          "2020: SIUC, IL",
          "2020: General Chemical, WY",
          "2020: RockTenn West Point Mill, VA",
          "2020: Logan Generating Plant, NJ",
          "2020: Genesis Alkali, WY",
          "2020: Cheswick, PA",
          "2020: Argus Cogen Plant, CA",
          "2020: Gilberton Power Company, PA",
          "2020: Bull Run, TN",
          "2020: WestRock Charleston Kraft, LLC, SC",
          "2020: Archer Daniels Midland Des Moines, IA",
          "2020: American Crystal Sugar Hillsboro, ND",
          "2020: American Crystal Sugar Moorhead, MN",
          "2020: Archer Daniels Midland Mankato, MN",
          "2020: Eielson AFB Central Heat & Power Plant, AK",
          "2020: University of Alaska Fairbanks, AK",
          "2020: Escalante, NM",
          "2020: R Gallagher, IN",
          "2020: WestRock Kraft Paper, LLC, NC",
          "2020: WestRock CP, LLC Florence Mill, SC",
          "2020: TES Filer City Station, MI",
          "2020: American Crystal Sugar Crookston, MN",
          "2020: Panther Creek Energy Facility, PA",
          "2020: Scrubgrass Generating Plant, PA",
          "2020: University of Iowa Main Power Plant, IA",
          "2020: Hardin Generating Station, MT",
          "2020: Southern Minnesota Beet Sugar, MN",
          "2020: American Crystal Sugar Drayton, ND",
          "2020: University of NC Chapel Hill, NC",
          "2020: Birchwood Power Facility, VA",
          "2020: Western Sugar Coop - Scottsbluff, NE"
         ],
         "type": "scattergeo"
        }
       ],
       "layout": {
        "geo": {
         "scope": "usa"
        },
        "template": {
         "data": {
          "bar": [
           {
            "error_x": {
             "color": "#2a3f5f"
            },
            "error_y": {
             "color": "#2a3f5f"
            },
            "marker": {
             "line": {
              "color": "#E5ECF6",
              "width": 0.5
             },
             "pattern": {
              "fillmode": "overlay",
              "size": 10,
              "solidity": 0.2
             }
            },
            "type": "bar"
           }
          ],
          "barpolar": [
           {
            "marker": {
             "line": {
              "color": "#E5ECF6",
              "width": 0.5
             },
             "pattern": {
              "fillmode": "overlay",
              "size": 10,
              "solidity": 0.2
             }
            },
            "type": "barpolar"
           }
          ],
          "carpet": [
           {
            "aaxis": {
             "endlinecolor": "#2a3f5f",
             "gridcolor": "white",
             "linecolor": "white",
             "minorgridcolor": "white",
             "startlinecolor": "#2a3f5f"
            },
            "baxis": {
             "endlinecolor": "#2a3f5f",
             "gridcolor": "white",
             "linecolor": "white",
             "minorgridcolor": "white",
             "startlinecolor": "#2a3f5f"
            },
            "type": "carpet"
           }
          ],
          "choropleth": [
           {
            "colorbar": {
             "outlinewidth": 0,
             "ticks": ""
            },
            "type": "choropleth"
           }
          ],
          "contour": [
           {
            "colorbar": {
             "outlinewidth": 0,
             "ticks": ""
            },
            "colorscale": [
             [
              0,
              "#0d0887"
             ],
             [
              0.1111111111111111,
              "#46039f"
             ],
             [
              0.2222222222222222,
              "#7201a8"
             ],
             [
              0.3333333333333333,
              "#9c179e"
             ],
             [
              0.4444444444444444,
              "#bd3786"
             ],
             [
              0.5555555555555556,
              "#d8576b"
             ],
             [
              0.6666666666666666,
              "#ed7953"
             ],
             [
              0.7777777777777778,
              "#fb9f3a"
             ],
             [
              0.8888888888888888,
              "#fdca26"
             ],
             [
              1,
              "#f0f921"
             ]
            ],
            "type": "contour"
           }
          ],
          "contourcarpet": [
           {
            "colorbar": {
             "outlinewidth": 0,
             "ticks": ""
            },
            "type": "contourcarpet"
           }
          ],
          "heatmap": [
           {
            "colorbar": {
             "outlinewidth": 0,
             "ticks": ""
            },
            "colorscale": [
             [
              0,
              "#0d0887"
             ],
             [
              0.1111111111111111,
              "#46039f"
             ],
             [
              0.2222222222222222,
              "#7201a8"
             ],
             [
              0.3333333333333333,
              "#9c179e"
             ],
             [
              0.4444444444444444,
              "#bd3786"
             ],
             [
              0.5555555555555556,
              "#d8576b"
             ],
             [
              0.6666666666666666,
              "#ed7953"
             ],
             [
              0.7777777777777778,
              "#fb9f3a"
             ],
             [
              0.8888888888888888,
              "#fdca26"
             ],
             [
              1,
              "#f0f921"
             ]
            ],
            "type": "heatmap"
           }
          ],
          "heatmapgl": [
           {
            "colorbar": {
             "outlinewidth": 0,
             "ticks": ""
            },
            "colorscale": [
             [
              0,
              "#0d0887"
             ],
             [
              0.1111111111111111,
              "#46039f"
             ],
             [
              0.2222222222222222,
              "#7201a8"
             ],
             [
              0.3333333333333333,
              "#9c179e"
             ],
             [
              0.4444444444444444,
              "#bd3786"
             ],
             [
              0.5555555555555556,
              "#d8576b"
             ],
             [
              0.6666666666666666,
              "#ed7953"
             ],
             [
              0.7777777777777778,
              "#fb9f3a"
             ],
             [
              0.8888888888888888,
              "#fdca26"
             ],
             [
              1,
              "#f0f921"
             ]
            ],
            "type": "heatmapgl"
           }
          ],
          "histogram": [
           {
            "marker": {
             "pattern": {
              "fillmode": "overlay",
              "size": 10,
              "solidity": 0.2
             }
            },
            "type": "histogram"
           }
          ],
          "histogram2d": [
           {
            "colorbar": {
             "outlinewidth": 0,
             "ticks": ""
            },
            "colorscale": [
             [
              0,
              "#0d0887"
             ],
             [
              0.1111111111111111,
              "#46039f"
             ],
             [
              0.2222222222222222,
              "#7201a8"
             ],
             [
              0.3333333333333333,
              "#9c179e"
             ],
             [
              0.4444444444444444,
              "#bd3786"
             ],
             [
              0.5555555555555556,
              "#d8576b"
             ],
             [
              0.6666666666666666,
              "#ed7953"
             ],
             [
              0.7777777777777778,
              "#fb9f3a"
             ],
             [
              0.8888888888888888,
              "#fdca26"
             ],
             [
              1,
              "#f0f921"
             ]
            ],
            "type": "histogram2d"
           }
          ],
          "histogram2dcontour": [
           {
            "colorbar": {
             "outlinewidth": 0,
             "ticks": ""
            },
            "colorscale": [
             [
              0,
              "#0d0887"
             ],
             [
              0.1111111111111111,
              "#46039f"
             ],
             [
              0.2222222222222222,
              "#7201a8"
             ],
             [
              0.3333333333333333,
              "#9c179e"
             ],
             [
              0.4444444444444444,
              "#bd3786"
             ],
             [
              0.5555555555555556,
              "#d8576b"
             ],
             [
              0.6666666666666666,
              "#ed7953"
             ],
             [
              0.7777777777777778,
              "#fb9f3a"
             ],
             [
              0.8888888888888888,
              "#fdca26"
             ],
             [
              1,
              "#f0f921"
             ]
            ],
            "type": "histogram2dcontour"
           }
          ],
          "mesh3d": [
           {
            "colorbar": {
             "outlinewidth": 0,
             "ticks": ""
            },
            "type": "mesh3d"
           }
          ],
          "parcoords": [
           {
            "line": {
             "colorbar": {
              "outlinewidth": 0,
              "ticks": ""
             }
            },
            "type": "parcoords"
           }
          ],
          "pie": [
           {
            "automargin": true,
            "type": "pie"
           }
          ],
          "scatter": [
           {
            "marker": {
             "colorbar": {
              "outlinewidth": 0,
              "ticks": ""
             }
            },
            "type": "scatter"
           }
          ],
          "scatter3d": [
           {
            "line": {
             "colorbar": {
              "outlinewidth": 0,
              "ticks": ""
             }
            },
            "marker": {
             "colorbar": {
              "outlinewidth": 0,
              "ticks": ""
             }
            },
            "type": "scatter3d"
           }
          ],
          "scattercarpet": [
           {
            "marker": {
             "colorbar": {
              "outlinewidth": 0,
              "ticks": ""
             }
            },
            "type": "scattercarpet"
           }
          ],
          "scattergeo": [
           {
            "marker": {
             "colorbar": {
              "outlinewidth": 0,
              "ticks": ""
             }
            },
            "type": "scattergeo"
           }
          ],
          "scattergl": [
           {
            "marker": {
             "colorbar": {
              "outlinewidth": 0,
              "ticks": ""
             }
            },
            "type": "scattergl"
           }
          ],
          "scattermapbox": [
           {
            "marker": {
             "colorbar": {
              "outlinewidth": 0,
              "ticks": ""
             }
            },
            "type": "scattermapbox"
           }
          ],
          "scatterpolar": [
           {
            "marker": {
             "colorbar": {
              "outlinewidth": 0,
              "ticks": ""
             }
            },
            "type": "scatterpolar"
           }
          ],
          "scatterpolargl": [
           {
            "marker": {
             "colorbar": {
              "outlinewidth": 0,
              "ticks": ""
             }
            },
            "type": "scatterpolargl"
           }
          ],
          "scatterternary": [
           {
            "marker": {
             "colorbar": {
              "outlinewidth": 0,
              "ticks": ""
             }
            },
            "type": "scatterternary"
           }
          ],
          "surface": [
           {
            "colorbar": {
             "outlinewidth": 0,
             "ticks": ""
            },
            "colorscale": [
             [
              0,
              "#0d0887"
             ],
             [
              0.1111111111111111,
              "#46039f"
             ],
             [
              0.2222222222222222,
              "#7201a8"
             ],
             [
              0.3333333333333333,
              "#9c179e"
             ],
             [
              0.4444444444444444,
              "#bd3786"
             ],
             [
              0.5555555555555556,
              "#d8576b"
             ],
             [
              0.6666666666666666,
              "#ed7953"
             ],
             [
              0.7777777777777778,
              "#fb9f3a"
             ],
             [
              0.8888888888888888,
              "#fdca26"
             ],
             [
              1,
              "#f0f921"
             ]
            ],
            "type": "surface"
           }
          ],
          "table": [
           {
            "cells": {
             "fill": {
              "color": "#EBF0F8"
             },
             "line": {
              "color": "white"
             }
            },
            "header": {
             "fill": {
              "color": "#C8D4E3"
             },
             "line": {
              "color": "white"
             }
            },
            "type": "table"
           }
          ]
         },
         "layout": {
          "annotationdefaults": {
           "arrowcolor": "#2a3f5f",
           "arrowhead": 0,
           "arrowwidth": 1
          },
          "autotypenumbers": "strict",
          "coloraxis": {
           "colorbar": {
            "outlinewidth": 0,
            "ticks": ""
           }
          },
          "colorscale": {
           "diverging": [
            [
             0,
             "#8e0152"
            ],
            [
             0.1,
             "#c51b7d"
            ],
            [
             0.2,
             "#de77ae"
            ],
            [
             0.3,
             "#f1b6da"
            ],
            [
             0.4,
             "#fde0ef"
            ],
            [
             0.5,
             "#f7f7f7"
            ],
            [
             0.6,
             "#e6f5d0"
            ],
            [
             0.7,
             "#b8e186"
            ],
            [
             0.8,
             "#7fbc41"
            ],
            [
             0.9,
             "#4d9221"
            ],
            [
             1,
             "#276419"
            ]
           ],
           "sequential": [
            [
             0,
             "#0d0887"
            ],
            [
             0.1111111111111111,
             "#46039f"
            ],
            [
             0.2222222222222222,
             "#7201a8"
            ],
            [
             0.3333333333333333,
             "#9c179e"
            ],
            [
             0.4444444444444444,
             "#bd3786"
            ],
            [
             0.5555555555555556,
             "#d8576b"
            ],
            [
             0.6666666666666666,
             "#ed7953"
            ],
            [
             0.7777777777777778,
             "#fb9f3a"
            ],
            [
             0.8888888888888888,
             "#fdca26"
            ],
            [
             1,
             "#f0f921"
            ]
           ],
           "sequentialminus": [
            [
             0,
             "#0d0887"
            ],
            [
             0.1111111111111111,
             "#46039f"
            ],
            [
             0.2222222222222222,
             "#7201a8"
            ],
            [
             0.3333333333333333,
             "#9c179e"
            ],
            [
             0.4444444444444444,
             "#bd3786"
            ],
            [
             0.5555555555555556,
             "#d8576b"
            ],
            [
             0.6666666666666666,
             "#ed7953"
            ],
            [
             0.7777777777777778,
             "#fb9f3a"
            ],
            [
             0.8888888888888888,
             "#fdca26"
            ],
            [
             1,
             "#f0f921"
            ]
           ]
          },
          "colorway": [
           "#636efa",
           "#EF553B",
           "#00cc96",
           "#ab63fa",
           "#FFA15A",
           "#19d3f3",
           "#FF6692",
           "#B6E880",
           "#FF97FF",
           "#FECB52"
          ],
          "font": {
           "color": "#2a3f5f"
          },
          "geo": {
           "bgcolor": "white",
           "lakecolor": "white",
           "landcolor": "#E5ECF6",
           "showlakes": true,
           "showland": true,
           "subunitcolor": "white"
          },
          "hoverlabel": {
           "align": "left"
          },
          "hovermode": "closest",
          "mapbox": {
           "style": "light"
          },
          "paper_bgcolor": "white",
          "plot_bgcolor": "#E5ECF6",
          "polar": {
           "angularaxis": {
            "gridcolor": "white",
            "linecolor": "white",
            "ticks": ""
           },
           "bgcolor": "#E5ECF6",
           "radialaxis": {
            "gridcolor": "white",
            "linecolor": "white",
            "ticks": ""
           }
          },
          "scene": {
           "xaxis": {
            "backgroundcolor": "#E5ECF6",
            "gridcolor": "white",
            "gridwidth": 2,
            "linecolor": "white",
            "showbackground": true,
            "ticks": "",
            "zerolinecolor": "white"
           },
           "yaxis": {
            "backgroundcolor": "#E5ECF6",
            "gridcolor": "white",
            "gridwidth": 2,
            "linecolor": "white",
            "showbackground": true,
            "ticks": "",
            "zerolinecolor": "white"
           },
           "zaxis": {
            "backgroundcolor": "#E5ECF6",
            "gridcolor": "white",
            "gridwidth": 2,
            "linecolor": "white",
            "showbackground": true,
            "ticks": "",
            "zerolinecolor": "white"
           }
          },
          "shapedefaults": {
           "line": {
            "color": "#2a3f5f"
           }
          },
          "ternary": {
           "aaxis": {
            "gridcolor": "white",
            "linecolor": "white",
            "ticks": ""
           },
           "baxis": {
            "gridcolor": "white",
            "linecolor": "white",
            "ticks": ""
           },
           "bgcolor": "#E5ECF6",
           "caxis": {
            "gridcolor": "white",
            "linecolor": "white",
            "ticks": ""
           }
          },
          "title": {
           "x": 0.05
          },
          "xaxis": {
           "automargin": true,
           "gridcolor": "white",
           "linecolor": "white",
           "ticks": "",
           "title": {
            "standoff": 15
           },
           "zerolinecolor": "white",
           "zerolinewidth": 2
          },
          "yaxis": {
           "automargin": true,
           "gridcolor": "white",
           "linecolor": "white",
           "ticks": "",
           "title": {
            "standoff": 15
           },
           "zerolinecolor": "white",
           "zerolinewidth": 2
          }
         }
        },
        "title": {
         "text": "236 Plant Closures - 68% CO2 Reduction Nationwide"
        }
       }
      }
     },
     "metadata": {},
     "output_type": "display_data"
    }
   ],
   "source": [
    "import plotly.graph_objects as go\n",
    "\n",
    "#### change to change the scenarios displayed on the map\n",
    "mapdf = total[total['scenario']<4]\n",
    "\n",
    "#### make a second scattergeo with only scenario 1 to enlarge the points and increase map interpretability\n",
    "mapdf2 = total[total['scenario'] == 1]\n",
    "\n",
    "\n",
    "def make_chloropheth(subset:pd.DataFrame, all:pd.DataFrame):\n",
    "    state_total = all[all['decom'] == 0].groupby('PSTATABB')['PLCO2AN'].sum().reset_index()\n",
    "    state_reduction = subset[subset['decom'] == 0].groupby('PSTATABB')['PLCO2AN'].sum().reset_index()\n",
    "    state_total = state_total.merge(state_reduction, how='left', on='PSTATABB').fillna(0)\n",
    "    state_total['percentRedux'] = (state_total['PLCO2AN_y']/state_total['PLCO2AN_x'])*100\n",
    "    return state_total\n",
    "    \n",
    "state_total = make_chloropheth(mapdf, all)\n",
    "\n",
    "#### slight error with chloropleth coloring when viewing all scenarios, only displays a 99.99% CO2 reduction instead of 100\n",
    "\n",
    "num = len(mapdf)\n",
    "redux = int(100*(mapdf['PLCO2AN'].sum() / all[all['decom'] == 0]['PLCO2AN'].sum()))\n",
    "\n",
    "fig = go.Figure(data=[\n",
    "    go.Choropleth(\n",
    "         locations=state_total['PSTATABB'], # Spatial coordinates\n",
    "         z = state_total['percentRedux'].astype(float), # Data to be color-coded\n",
    "         locationmode = 'USA-states', # set of locations match entries in `locations`\n",
    "         colorscale = 'earth',\n",
    "         colorbar_title = \"% State Reduction\"),\n",
    "\n",
    "    go.Scattergeo(\n",
    "            lon = mapdf['LON'],\n",
    "            lat = mapdf['LAT'],\n",
    "            text = mapdf['label'],\n",
    "            #opacity = 0.9,\n",
    "            showlegend = False,\n",
    "            marker=dict(\n",
    "                cauto=False,\n",
    "                colorscale = colorscale3, #### change colorscale according to scenarios being mapped – colorscale3 corresponds to mapping scenario 1, 2, and 3\n",
    "                size=mapdf['PLNGENAN']/700000\n",
    "                ),\n",
    "\n",
    "            marker_color = mapdf['scenario']),\n",
    "\n",
    "    go.Scattergeo(\n",
    "            lon = mapdf2['LON'],\n",
    "            lat = mapdf2['LAT'],\n",
    "            text = mapdf2['label'],\n",
    "            #opacity = 0.8,\n",
    "            showlegend = False,\n",
    "            marker=dict(\n",
    "                cauto=False,\n",
    "                colorscale = colorscale1, #### keep this colorscale constant, mapping scenario 1 with larger points to increase readibility\n",
    "                size=mapdf2['PLNGENAN']/200000,\n",
    "                ),\n",
    "            marker_color = mapdf2['scenario'])\n",
    "        ])\n",
    "\n",
    "fig.update_layout(\n",
    "    \n",
    "    title_text = f'{num} Plant Closures - {redux}% CO2 Reduction Nationwide',\n",
    "    geo_scope='usa', # limite map scope to USA\n",
    ")\n",
    "\n",
    "fig.show()"
   ]
  },
  {
   "cell_type": "code",
   "execution_count": 28,
   "id": "af0d626d",
   "metadata": {},
   "outputs": [
    {
     "data": {
      "text/plain": [
       "scenario\n",
       "1    48.000000\n",
       "2    39.000000\n",
       "3    41.803983\n",
       "4    45.434888\n",
       "Name: PlantAge, dtype: float64"
      ]
     },
     "execution_count": 28,
     "metadata": {},
     "output_type": "execute_result"
    }
   ],
   "source": [
    "total.groupby('scenario')['PlantAge'].median()"
   ]
  },
  {
   "cell_type": "code",
   "execution_count": 29,
   "id": "e78a6ad5",
   "metadata": {},
   "outputs": [
    {
     "name": "stderr",
     "output_type": "stream",
     "text": [
      "<ipython-input-29-a26ee0e6881e>:1: FutureWarning:\n",
      "\n",
      "Indexing with multiple keys (implicitly converted to a tuple of keys) will be deprecated, use a list instead.\n",
      "\n"
     ]
    },
    {
     "data": {
      "text/html": [
       "<div>\n",
       "<style scoped>\n",
       "    .dataframe tbody tr th:only-of-type {\n",
       "        vertical-align: middle;\n",
       "    }\n",
       "\n",
       "    .dataframe tbody tr th {\n",
       "        vertical-align: top;\n",
       "    }\n",
       "\n",
       "    .dataframe thead th {\n",
       "        text-align: right;\n",
       "    }\n",
       "</style>\n",
       "<table border=\"1\" class=\"dataframe\">\n",
       "  <thead>\n",
       "    <tr style=\"text-align: right;\">\n",
       "      <th></th>\n",
       "      <th>PLCO2AN</th>\n",
       "      <th>PLNOXAN</th>\n",
       "      <th>PLSO2AN</th>\n",
       "      <th>PlantAge</th>\n",
       "      <th>CAPFAC</th>\n",
       "    </tr>\n",
       "    <tr>\n",
       "      <th>scenario</th>\n",
       "      <th></th>\n",
       "      <th></th>\n",
       "      <th></th>\n",
       "      <th></th>\n",
       "      <th></th>\n",
       "    </tr>\n",
       "  </thead>\n",
       "  <tbody>\n",
       "    <tr>\n",
       "      <th>1</th>\n",
       "      <td>1.531355e+05</td>\n",
       "      <td>168.0865</td>\n",
       "      <td>222.366</td>\n",
       "      <td>48.000000</td>\n",
       "      <td>0.182385</td>\n",
       "    </tr>\n",
       "    <tr>\n",
       "      <th>2</th>\n",
       "      <td>2.710618e+06</td>\n",
       "      <td>1686.7870</td>\n",
       "      <td>2014.700</td>\n",
       "      <td>39.000000</td>\n",
       "      <td>0.353580</td>\n",
       "    </tr>\n",
       "    <tr>\n",
       "      <th>3</th>\n",
       "      <td>4.597600e+06</td>\n",
       "      <td>2229.5300</td>\n",
       "      <td>870.600</td>\n",
       "      <td>41.803983</td>\n",
       "      <td>0.317860</td>\n",
       "    </tr>\n",
       "    <tr>\n",
       "      <th>4</th>\n",
       "      <td>7.183206e+06</td>\n",
       "      <td>4581.1900</td>\n",
       "      <td>3714.250</td>\n",
       "      <td>45.434888</td>\n",
       "      <td>0.475980</td>\n",
       "    </tr>\n",
       "  </tbody>\n",
       "</table>\n",
       "</div>"
      ],
      "text/plain": [
       "               PLCO2AN    PLNOXAN   PLSO2AN   PlantAge    CAPFAC\n",
       "scenario                                                        \n",
       "1         1.531355e+05   168.0865   222.366  48.000000  0.182385\n",
       "2         2.710618e+06  1686.7870  2014.700  39.000000  0.353580\n",
       "3         4.597600e+06  2229.5300   870.600  41.803983  0.317860\n",
       "4         7.183206e+06  4581.1900  3714.250  45.434888  0.475980"
      ]
     },
     "execution_count": 29,
     "metadata": {},
     "output_type": "execute_result"
    }
   ],
   "source": [
    "total.groupby('scenario')['PLCO2AN', 'PLNOXAN', 'PLSO2AN', 'PlantAge', 'CAPFAC'].median()"
   ]
  },
  {
   "cell_type": "code",
   "execution_count": 30,
   "id": "b71d2069",
   "metadata": {},
   "outputs": [
    {
     "data": {
      "text/plain": [
       "Year                     36\n",
       "PSTATABB                 36\n",
       "ORISPL                   36\n",
       "LAT                      36\n",
       "LON                      36\n",
       "label                    36\n",
       "CAPFAC                   36\n",
       "PLNGENAN                 36\n",
       "PLCO2AN                  36\n",
       "PLNOXAN                  36\n",
       "PLSO2AN                  36\n",
       "decom                    36\n",
       "CarbonIntensity          36\n",
       "StateMineEmployment      36\n",
       "CO2limits                36\n",
       "CO2limitsOppose          36\n",
       "fundrenewablesOppose     36\n",
       "regulateOppose           36\n",
       "reducetaxOppose          36\n",
       "RenewableReplacement     36\n",
       "%lessThanCoal            36\n",
       "numGenerators            36\n",
       "OperatingYear            36\n",
       "PlantAge                 36\n",
       "post2004Retrofit         36\n",
       "post2004RetrofitCosts    36\n",
       "retrofitLevelized        36\n",
       "GENYRRET                 36\n",
       "scenario                 36\n",
       "index                    34\n",
       "dtype: int64"
      ]
     },
     "execution_count": 30,
     "metadata": {},
     "output_type": "execute_result"
    }
   ],
   "source": [
    "#total[total['GENYRRET']>0].groupby('scenario')['GENYRRET'].count()\n",
    "total[total['scenario']==4].count()"
   ]
  },
  {
   "cell_type": "code",
   "execution_count": 31,
   "id": "261c4ab5",
   "metadata": {},
   "outputs": [
    {
     "data": {
      "text/plain": [
       "array([[<AxesSubplot:title={'center':'PlantAge'}>]], dtype=object)"
      ]
     },
     "execution_count": 31,
     "metadata": {},
     "output_type": "execute_result"
    },
    {
     "data": {
      "image/png": "[encoded data removed]",
      "text/plain": [
       "<Figure size 1080x576 with 1 Axes>"
      ]
     },
     "metadata": {},
     "output_type": "display_data"
    }
   ],
   "source": [
    "all[all['decom']==0].hist(column = 'PlantAge', bins = 80)"
   ]
  },
  {
   "cell_type": "markdown",
   "id": "a146ce43",
   "metadata": {},
   "source": [
    "# DAC ADDITION"
   ]
  },
  {
   "cell_type": "code",
   "execution_count": 32,
   "id": "027b4301",
   "metadata": {},
   "outputs": [],
   "source": [
    "dac = pd.read_excel('power_plants_and_communities.xlsx')\n",
    "dac = dac.rename(columns={\"DOE/EIA ORIS plant or facility code\": \"ORISPL\", \"PM 2.5 Emssions (tons)\": \"PM_emissions\"})\n",
    "dac = dac[['ORISPL', 'total population (ACS2018)', 'National percentile for Demographic Index', 'PM_emissions', 'PM 2.5 Emission Rate (lb/MWh)']]\n",
    "dac_all = total.merge(dac, how='left', left_on='ORISPL', right_on='ORISPL')"
   ]
  },
  {
   "cell_type": "code",
   "execution_count": 33,
   "id": "9126b410",
   "metadata": {},
   "outputs": [],
   "source": [
    "dac_all['affectedDAC'] = (dac_all['National percentile for Demographic Index']/100)*dac_all['total population (ACS2018)']\n",
    "dac_all = dac_all.fillna(-1)\n",
    "\n",
    "map = dac_all[dac_all['decom']==0]\n",
    "map = map.fillna(-1)"
   ]
  },
  {
   "cell_type": "code",
   "execution_count": 34,
   "id": "5df5f586",
   "metadata": {},
   "outputs": [
    {
     "name": "stderr",
     "output_type": "stream",
     "text": [
      "/Users/gathrid/opt/anaconda3/lib/python3.8/site-packages/pandas/core/arraylike.py:358: RuntimeWarning:\n",
      "\n",
      "invalid value encountered in log\n",
      "\n"
     ]
    }
   ],
   "source": [
    "dfc = dac_all[dac_all['decom']==0]\n",
    "dfc.fillna(1)\n",
    "dfc = dfc.replace(0, 1)\n",
    "\n",
    "air_metric = (dfc['PLNOXAN'] + dfc['PLSO2AN'] + dfc['PM_emissions'])\n",
    "\n",
    "dfc['air_metric'] = np.log(dfc['PLNOXAN'] + dfc['PLSO2AN'] + dfc['PM_emissions'])\n",
    "dfc['pop_metric'] = np.log(dfc['total population (ACS2018)'])\n",
    "dfc['dac_metric'] = np.log(dfc['National percentile for Demographic Index'])\n",
    "dfc['perc_metric'] = np.log(dfc['affectedDAC'])\n",
    "\n",
    "dfc['pm_metric'] = np.log(dfc['PM_emissions'])\n",
    "\n",
    "dfc['pop_metric'] = (dfc['pop_metric']/(dfc['pop_metric'].mean()))*100\n",
    "dfc['air_metric'] = (dfc['air_metric']/(dfc['air_metric'].mean()))*100\n",
    "dfc['dac_metric'] = (dfc['dac_metric']/(dfc['dac_metric'].mean()))*100\n",
    "dfc['perc_metric'] = (dfc['perc_metric']/(dfc['perc_metric'].mean()))*100\n",
    "dfc['pm_metric'] = (dfc['pm_metric']/(dfc['pm_metric'].mean()))*100\n",
    "\n",
    "\n",
    "dfc['pop_score'] = dfc['air_metric']*dfc['pop_metric']\n",
    "dfc['DAC_score'] = dfc['air_metric']*dfc['dac_metric']\n",
    "dfc['percDAC_score'] = dfc['air_metric']*dfc['perc_metric']\n",
    "\n"
   ]
  },
  {
   "cell_type": "code",
   "execution_count": 35,
   "id": "b4021550",
   "metadata": {},
   "outputs": [
    {
     "data": {
      "text/plain": [
       "<matplotlib.lines.Line2D at 0x7fa731ab6550>"
      ]
     },
     "execution_count": 35,
     "metadata": {},
     "output_type": "execute_result"
    },
    {
     "data": {
      "image/png": "[encoded data removed]",
      "text/plain": [
       "<Figure size 360x360 with 1 Axes>"
      ]
     },
     "metadata": {},
     "output_type": "display_data"
    },
    {
     "data": {
      "image/png": "[encoded data removed]",
      "text/plain": [
       "<Figure size 360x360 with 1 Axes>"
      ]
     },
     "metadata": {},
     "output_type": "display_data"
    },
    {
     "data": {
      "image/png": "[encoded data removed]",
      "text/plain": [
       "<Figure size 360x360 with 1 Axes>"
      ]
     },
     "metadata": {},
     "output_type": "display_data"
    },
    {
     "data": {
      "image/png": "[encoded data removed]",
      "text/plain": [
       "<Figure size 360x360 with 1 Axes>"
      ]
     },
     "metadata": {},
     "output_type": "display_data"
    },
    {
     "data": {
      "image/png": "[encoded data removed]",
      "text/plain": [
       "<Figure size 360x360 with 1 Axes>"
      ]
     },
     "metadata": {},
     "output_type": "display_data"
    },
    {
     "data": {
      "image/png": "[encoded data removed]",
      "text/plain": [
       "<Figure size 360x360 with 1 Axes>"
      ]
     },
     "metadata": {},
     "output_type": "display_data"
    }
   ],
   "source": [
    "plt.figure(figsize=(5, 5))\n",
    "plt.hist(x=air_metric, bins = 30)\n",
    "\n",
    "dfc.hist(column='total population (ACS2018)', bins = 30, figsize=(5,5))\n",
    "\n",
    "dfc.hist(column = 'pop_metric', figsize = (5,5), bins = 30)\n",
    "plt.axvline(x=100, color = 'crimson', ls='--', lw = 3)\n",
    "\n",
    "dfc.hist(column='air_metric', bins = 30, figsize = (5,5))\n",
    "plt.axvline(x=100, color = 'crimson', ls='--', lw = 3)\n",
    "\n",
    "dfc.hist(column='dac_metric', bins = 30, figsize = (5,5))\n",
    "plt.axvline(x=100, color = 'crimson', ls='--', lw = 3)\n",
    "\n",
    "dfc.hist(column='pm_metric', bins = 30, figsize = (5,5))\n",
    "plt.axvline(x=100, color = 'crimson', ls='--', lw = 3)"
   ]
  },
  {
   "cell_type": "code",
   "execution_count": 36,
   "id": "bd8492d5",
   "metadata": {},
   "outputs": [
    {
     "data": {
      "text/plain": [
       "<AxesSubplot:xlabel='National percentile for Demographic Index', ylabel='pop_score'>"
      ]
     },
     "execution_count": 36,
     "metadata": {},
     "output_type": "execute_result"
    },
    {
     "data": {
      "image/png": "[encoded data removed]",
      "text/plain": [
       "<Figure size 1080x576 with 1 Axes>"
      ]
     },
     "metadata": {},
     "output_type": "display_data"
    }
   ],
   "source": [
    "sns.scatterplot(x=dfc['National percentile for Demographic Index'], y = dfc['pop_score'], hue = dfc['PLCO2AN'])\n"
   ]
  },
  {
   "cell_type": "code",
   "execution_count": 37,
   "id": "2044f075",
   "metadata": {},
   "outputs": [
    {
     "name": "stderr",
     "output_type": "stream",
     "text": [
      "*c* argument looks like a single numeric RGB or RGBA sequence, which should be avoided as value-mapping will have precedence in case its length matches with *x* & *y*.  Please use the *color* keyword-argument or provide a 2-D array with a single row if you intend to specify the same RGB or RGBA value for all points.\n",
      "*c* argument looks like a single numeric RGB or RGBA sequence, which should be avoided as value-mapping will have precedence in case its length matches with *x* & *y*.  Please use the *color* keyword-argument or provide a 2-D array with a single row if you intend to specify the same RGB or RGBA value for all points.\n"
     ]
    },
    {
     "data": {
      "text/plain": [
       "<AxesSubplot:xlabel='National percentile for Demographic Index', ylabel='scenario'>"
      ]
     },
     "execution_count": 37,
     "metadata": {},
     "output_type": "execute_result"
    },
    {
     "data": {
      "image/png": "[encoded data removed]",
      "text/plain": [
       "<Figure size 288x288 with 1 Axes>"
      ]
     },
     "metadata": {},
     "output_type": "display_data"
    },
    {
     "data": {
      "image/png": "[encoded data removed]",
      "text/plain": [
       "<Figure size 288x288 with 1 Axes>"
      ]
     },
     "metadata": {},
     "output_type": "display_data"
    }
   ],
   "source": [
    "dfc.plot.scatter(x = 'affectedDAC', y = 'scenario', figsize = (4,4))\n",
    "\n",
    "dfc.plot.scatter(x = 'National percentile for Demographic Index', y = 'scenario', figsize = (4,4))"
   ]
  },
  {
   "cell_type": "code",
   "execution_count": null,
   "id": "318d00be",
   "metadata": {},
   "outputs": [],
   "source": []
  },
  {
   "cell_type": "markdown",
   "id": "1d1b34c7",
   "metadata": {},
   "source": [
    "# Individual Generators ADDITION"
   ]
  },
  {
   "cell_type": "code",
   "execution_count": 38,
   "id": "8ce04daf",
   "metadata": {},
   "outputs": [],
   "source": [
    "gen = pd.read_excel('egrid 2005-2020/egrid2020_data.xlsx', 'GEN20', header = 1).reset_index()"
   ]
  },
  {
   "cell_type": "code",
   "execution_count": 39,
   "id": "4d84f4b4",
   "metadata": {},
   "outputs": [],
   "source": [
    "aL = gen['ORISPL'].tolist()\n",
    "eL = dfc['ORISPL'].tolist()\n",
    "\n",
    "gen_list = []\n",
    "gen2 = gen\n",
    "count = 0\n",
    "for x in aL:\n",
    "    if x in eL:\n",
    "        count +=1\n",
    "        gen_list.append(x)\n",
    "\n",
    "gen2 = gen2[gen2['ORISPL'].isin(gen_list)]\n"
   ]
  },
  {
   "cell_type": "code",
   "execution_count": 40,
   "id": "b8624761",
   "metadata": {},
   "outputs": [],
   "source": [
    "dfc['ORISPL'] = dfc['ORISPL'].astype(int)"
   ]
  },
  {
   "cell_type": "code",
   "execution_count": 41,
   "id": "4f3e4772",
   "metadata": {},
   "outputs": [],
   "source": [
    "def removeNonCoal(gen2):\n",
    "    gen2 = gen2[(gen2.FUELG1 != 'WND') & (gen2.FUELG1 != 'WDS') & (gen2.FUELG1 != 'WAT') & (gen2.FUELG1 != 'SUN') & (gen2.FUELG1 != 'RFO') & (gen2.FUELG1 != 'NG') & (gen2.FUELG1 != 'JF') & (gen2.FUELG1 != 'DFO') & (gen2.FUELG1 != 'NUC') & (gen2.FUELG1 != 'BLQ') ]\n",
    "    return gen2\n",
    "\n",
    "gen2 = removeNonCoal(gen2)"
   ]
  },
  {
   "cell_type": "code",
   "execution_count": 42,
   "id": "b3fd9719",
   "metadata": {},
   "outputs": [],
   "source": [
    "def p_ret(id):\n",
    "    if id == 'RE':\n",
    "        return 1\n",
    "\n",
    "def ret(id):\n",
    "    if id > 0:\n",
    "        return 1\n",
    "    else:\n",
    "        return 0\n",
    "\n",
    "gen2['numRetiredGenerators'] = gen2['GENSTAT'].apply(p_ret)\n",
    "\n"
   ]
  },
  {
   "cell_type": "code",
   "execution_count": 43,
   "id": "25dd87d1",
   "metadata": {},
   "outputs": [],
   "source": [
    "p_retDF = pd.DataFrame(gen2.groupby('ORISPL')['numRetiredGenerators'].sum())"
   ]
  },
  {
   "cell_type": "code",
   "execution_count": 44,
   "id": "7235b9ba",
   "metadata": {},
   "outputs": [],
   "source": [
    "genTotals = pd.DataFrame(gen2.groupby('ORISPL')['GENNTAN'].sum())\n",
    "dfc2 = dfc.merge(genTotals, how='left', left_on='ORISPL', right_on='ORISPL')\n",
    "dfc2 = dfc2.merge(p_retDF, how='left', left_on='ORISPL', right_on='ORISPL')\n",
    "dfc2['PartiallyRetired'] = dfc2['numRetiredGenerators'].apply(ret)\n",
    "\n",
    "dfc2 = dfc2[dfc2['GENNTAN'].notna()]"
   ]
  },
  {
   "cell_type": "code",
   "execution_count": 45,
   "id": "0eeb1a2a",
   "metadata": {},
   "outputs": [
    {
     "data": {
      "application/vnd.plotly.v1+json": {
       "config": {
        "plotlyServerURL": "https://plot.ly"
       },
       "data": [
        {
         "hovertemplate": "<b>%{hovertext}</b><br><br>PLNGENAN=%{x}<br>GENNTAN=%{y}<br>numRetiredGenerators=%{marker.color}<extra></extra>",
         "hovertext": [
          "2020: Grant Town Power Plant, WV",
          "2020: Mt. Carmel Cogeneration, PA",
          "2020: Hugo, OK",
          "2020: Hoot Lake, MN",
          "2020: Charles R Lowman, AL",
          "2020: Platte, NE",
          "2020: Colver Green Energy, PA",
          "2020: Ebensburg Power Company, PA",
          "2020: Muscatine, IA",
          "2020: John S. Cooper, KY",
          "2020: Kaukauna Paper Mill, WI",
          "2020: R M Heskett, ND",
          "2020: Ingredion Incorporated Argo Plant, IL",
          "2020: Waukegan, IL",
          "2020: Merrimack, NH",
          "2020: Carneys Point, NJ",
          "2020: WPS Westwood Generation, LLC, PA",
          "2020: Wheelabrator Frackville Energy, PA",
          "2020: St. Nicholas Cogeneration Project, PA",
          "2020: Whitewater Valley, IN",
          "2020: Martin Drake, CO",
          "2020: Dover, OH",
          "2020: Erickson, MI",
          "2020: Lewis & Clark, MT",
          "2020: Sidney MT Plant, MT",
          "2020: Aurora Energy LLC Chena, AK",
          "2020: Utility Plants Section, AK",
          "2020: Archer Daniels Midland Columbus, NE",
          "2020: Eckert Station, MI",
          "2020: Chalk Point, MD",
          "2020: Avon Lake Power Plant, OH",
          "2020: Deerhaven, FL",
          "2020: MSC Sebewaing, MI",
          "2020: Western Sugar Cooperative - Billings, MT",
          "2020: Wansley (6052), GA",
          "2020: Tate & Lyle, IL",
          "2020: American Crystal Sugar East Grand Forks, MN",
          "2020: J B Sims, MI",
          "2020: Archer Daniels Midland Lincoln, NE",
          "2020: Herbert A Wagner, MD",
          "2020: Elmer Smith, KY",
          "2020: Painesville, OH",
          "2020: Trenton Channel, MI",
          "2020: Meramec, MO",
          "2020: Mayo, NC",
          "2020: Lansing, IA",
          "2020: Dickerson, MD",
          "2020: G G Allen, NC",
          "2020: Prairie Creek, IA",
          "2020: Lon D Wright Power Plant, NE",
          "2020: Sheldon, NE",
          "2020: Sunnyside Cogeneration Associates, UT",
          "2020: Northampton Generating Plant, PA",
          "2020: Montour, LLC, PA",
          "2020: Colstrip Energy Limited Partnership, MT",
          "2020: Somerset Operating Company  (Kintigh), NY",
          "2020: Will County, IL",
          "2020: SIUC, IL",
          "2020: General Chemical, WY",
          "2020: Logan Generating Plant, NJ",
          "2020: Genesis Alkali, WY",
          "2020: Cheswick, PA",
          "2020: Argus Cogen Plant, CA",
          "2020: Gilberton Power Company, PA",
          "2020: Bull Run, TN",
          "2020: Archer Daniels Midland Des Moines, IA",
          "2020: American Crystal Sugar Hillsboro, ND",
          "2020: American Crystal Sugar Moorhead, MN",
          "2020: Archer Daniels Midland Mankato, MN",
          "2020: Eielson AFB Central Heat & Power Plant, AK",
          "2020: University of Alaska Fairbanks, AK",
          "2020: Escalante, NM",
          "2020: R Gallagher, IN",
          "2020: TES Filer City Station, MI",
          "2020: American Crystal Sugar Crookston, MN",
          "2020: Panther Creek Energy Facility, PA",
          "2020: Scrubgrass Generating Plant, PA",
          "2020: Hardin Generating Station, MT",
          "2020: Southern Minnesota Beet Sugar, MN",
          "2020: American Crystal Sugar Drayton, ND",
          "2020: University of NC Chapel Hill, NC",
          "2020: Birchwood Power Facility, VA",
          "2020: Western Sugar Coop - Scottsbluff, NE",
          "2020: Harrington Station, TX",
          "2020: H W Pirkey Power Plant, TX",
          "2020: Bonanza, UT",
          "2020: Twin Oaks, TX",
          "2020: Muskogee, OK",
          "2020: E D Edwards, IL",
          "2020: Clover Power Station, VA",
          "2020: Tolk Station, TX",
          "2020: Boardman, OR",
          "2020: Burlington (IA), IA",
          "2020: Sikeston, MO",
          "2020: Holcomb, KS",
          "2020: Rawhide Energy Station, CO",
          "2020: Winyah, SC",
          "2020: North Valmy, NV",
          "2020: North Omaha Station, NE",
          "2020: Hawthorn, MO",
          "2020: Gallatin, TN",
          "2020: Edwardsport Generating Station, IN",
          "2020: Hayden, CO",
          "2020: St. Clair, MI",
          "2020: J P Madgett, WI",
          "2020: Williams, SC",
          "2020: Dallman, IL",
          "2020: Gerald Whelan Energy Center, NE",
          "2020: Louisa, IA",
          "2020: East Bend, KY",
          "2020: Sandy Creek Energy Station, TX",
          "2020: Ray D Nixon, CO",
          "2020: Comanche (470), CO",
          "2020: W H Zimmer Generating Station, OH",
          "2020: Rush Island, MO",
          "2020: Centralia, WA",
          "2020: Independence, AR",
          "2020: Four Corners Steam Elec Station, NM",
          "2020: AES Warrior Run, MD",
          "2020: Limestone, TX",
          "2020: Belle River, MI",
          "2020: White Bluff, AR",
          "2020: Joppa Steam, IL",
          "2020: Kincaid Generating Station, IL",
          "2020: Dolet Hills Power Station, LA",
          "2020: Red Hills Generation Facility, MS",
          "2020: Oklaunion Power Station, TX",
          "2020: Conesville, OH",
          "2020: Merom, IN",
          "2020: Coal Creek, ND",
          "2020: Newton, IL",
          "2020: Coleto Creek, TX",
          "2020: John W. Turk Jr. Power Plant, AR",
          "2020: John Twitty Energy Center, MO",
          "2020: Genoa, WI",
          "2020: Weston, WI",
          "2020: New Madrid Power Plant, MO",
          "2020: Sherburne County, MN",
          "2020: Gerald Gentleman Station, NE",
          "2020: Antelope Valley, ND",
          "2020: San Miguel, TX",
          "2020: Curtis H. Stanton Energy Center, FL",
          "2020: A B Brown Generating Station, IN",
          "2020: Shawnee, KY",
          "2020: Huntington, UT",
          "2020: TS Power Plant, NV",
          "2020: Intermountain, UT",
          "2020: Welsh Power Plant, TX",
          "2020: Wygen III, WY",
          "2020: Seward, PA",
          "2020: Colstrip, MT",
          "2020: Milton R Young, ND",
          "2020: Coyote, ND",
          "2020: D B Wilson, KY",
          "2020: Allen S King, MN",
          "2020: Plum Point Energy Station, AR",
          "2020: Seminole (136), FL",
          "2020: Eastman Chemical Company, TN",
          "2020: George Neal South, IA",
          "2020: George Neal North, IA",
          "2020: Dan E Karn, MI",
          "2020: Big Stone, SD",
          "2020: Cross, SC",
          "2020: Lawrence Energy Center, KS",
          "2020: AES Hawaii, HI",
          "2020: Michigan City Generating Station, IN",
          "2020: F B Culley Generating Station, IN",
          "2020: R D Green, KY",
          "2020: Archer Daniels Midland Clinton, IA",
          "2020: Archer Daniels Midland Cedar Rapids, IA",
          "2020: Archer Daniels Midland Co., IL",
          "2020: Marion, IL",
          "2020: Nearman Creek, KS",
          "2020: River Valley, OK",
          "2020: J K Spruce, TX",
          "2020: San Juan, NM",
          "2020: Northeastern, OK",
          "2020: Dry Fork Station, WY",
          "2020: Craig, CO",
          "2020: Nebraska City Station, NE",
          "2020: Virginia City Hybrid Energy Center, VA",
          "2020: Hunter, UT",
          "2020: Cumberland, TN",
          "2020: Springerville Generating Station, AZ",
          "2020: Pawnee, CO",
          "2020: Wateree, SC",
          "2020: Wygen I, WY",
          "2020: Neil Simpson II, WY",
          "2020: Wyodak, WY",
          "2020: Wygen II, WY",
          "2020: Monroe, MI",
          "2020: Gibson, IN",
          "2020: Powerton, IL",
          "2020: Cayuga, IN",
          "2020: IPL - Petersburg Generating Station, IN",
          "2020: J H Campbell, MI",
          "2020: Edgewater (4050), WI",
          "2020: Flint Creek Power Plant, AR",
          "2020: W A Parish, TX",
          "2020: Martin Lake, TX",
          "2020: Pleasants Power Station, WV",
          "2020: Mount Storm Power Station, WV",
          "2020: Mill Creek, KY",
          "2020: Belews Creek, NC",
          "2020: E C Gaston, AL",
          "2020: Boswell Energy Center, MN",
          "2020: Ottumwa, IA",
          "2020: Columbia, WI",
          "2020: Cliffside, NC",
          "2020: Marshall, NC",
          "2020: Walter Scott Jr. Energy Center, IA",
          "2020: Iatan, MO",
          "2020: Elm Road Generating Station, WI",
          "2020: South Oak Creek, WI",
          "2020: Morgantown, MD",
          "2020: Coronado Generating Station, AZ",
          "2020: Cholla, AZ",
          "2020: W H Sammis, OH",
          "2020: Baldwin Energy Complex, IL",
          "2020: Sioux, MO",
          "2020: R M Schahfer Generating Station, IN",
          "2020: Kingston, TN",
          "2020: Chesterfield Power Station, VA",
          "2020: Daniel Electric Generating Plant, MS",
          "2020: Barry, AL",
          "2020: Brandon Shores, MD",
          "2020: Crystal River, FL",
          "2020: James H Miller Jr, AL",
          "2020: Longview Power, WV",
          "2020: Mountaineer (1301), WV",
          "2020: Mitchell (WV), WV",
          "2020: Fort Martin Power Station, WV",
          "2020: Harrison Power Station, WV",
          "2020: John E Amos, WV",
          "2020: Scherer, GA",
          "2020: Bowen, GA",
          "2020: Miami Fort Power Station, OH",
          "2020: Prairie State Generating Station, IL",
          "2020: Laramie River, WY",
          "2020: Cardinal, OH",
          "2020: Keystone, PA",
          "2020: Oak Grove, TX",
          "2020: Ghent, KY",
          "2020: Jim Bridger, WY",
          "2020: Conemaugh, PA",
          "2020: H L Spurlock, KY",
          "2020: Trimble County, KY",
          "2020: Thomas Hill Energy Center, MO",
          "2020: Rockport, IN",
          "2020: Sam Seymour, TX",
          "2020: La Cygne, KS",
          "2020: Kyger Creek, OH",
          "2020: Roxboro, NC",
          "2020: Sooner, OK",
          "2020: Jeffrey Energy Center, KS",
          "2020: Alcoa Allowance Management Inc, IN",
          "2020: Clifty Creek, IN",
          "2020: Leland Olds, ND",
          "2020: Homer City, PA",
          "2020: E W Brown, KY",
          "2020: Dave Johnston, WY",
          "2020: Naughton, WY",
          "2020: Gen J M Gavin, OH",
          "2020: Labadie, MO"
         ],
         "legendgroup": "",
         "marker": {
          "color": [
           0,
           0,
           0,
           1,
           3,
           0,
           0,
           0,
           0,
           0,
           0,
           0,
           0,
           1,
           0,
           0,
           0,
           1,
           0,
           0,
           1,
           1,
           0,
           0,
           0,
           1,
           1,
           0,
           5,
           0,
           1,
           0,
           0,
           0,
           0,
           0,
           0,
           1,
           0,
           1,
           2,
           0,
           2,
           0,
           0,
           3,
           3,
           0,
           1,
           0,
           0,
           0,
           0,
           1,
           0,
           1,
           3,
           0,
           0,
           0,
           0,
           0,
           0,
           0,
           0,
           0,
           0,
           0,
           0,
           0,
           0,
           1,
           2,
           0,
           0,
           0,
           0,
           0,
           0,
           0,
           0,
           0,
           0,
           0,
           0,
           0,
           0,
           0,
           1,
           0,
           0,
           1,
           0,
           0,
           0,
           0,
           0,
           0,
           0,
           0,
           0,
           2,
           0,
           2,
           0,
           0,
           2,
           0,
           0,
           0,
           0,
           0,
           0,
           0,
           0,
           1,
           0,
           3,
           0,
           0,
           0,
           0,
           0,
           0,
           0,
           0,
           1,
           6,
           0,
           0,
           1,
           0,
           0,
           0,
           0,
           1,
           0,
           0,
           0,
           0,
           0,
           0,
           0,
           1,
           0,
           0,
           0,
           1,
           0,
           2,
           2,
           0,
           0,
           0,
           0,
           0,
           0,
           0,
           0,
           2,
           0,
           0,
           0,
           2,
           0,
           0,
           1,
           0,
           5,
           0,
           0,
           1,
           0,
           0,
           0,
           2,
           1,
           0,
           0,
           0,
           0,
           0,
           0,
           0,
           0,
           0,
           0,
           0,
           0,
           0,
           0,
           0,
           0,
           0,
           0,
           0,
           2,
           0,
           0,
           0,
           0,
           0,
           0,
           0,
           0,
           2,
           0,
           0,
           4,
           0,
           2,
           0,
           0,
           0,
           0,
           0,
           2,
           4,
           1,
           0,
           0,
           0,
           2,
           0,
           1,
           0,
           2,
           0,
           0,
           0,
           0,
           0,
           0,
           0,
           0,
           0,
           2,
           0,
           0,
           0,
           0,
           0,
           0,
           0,
           0,
           0,
           0,
           0,
           0,
           0,
           0,
           0,
           0,
           0,
           0,
           0,
           0,
           0,
           0,
           2,
           0,
           0,
           0,
           0
          ],
          "coloraxis": "coloraxis",
          "symbol": "circle"
         },
         "mode": "markers",
         "name": "",
         "orientation": "v",
         "showlegend": false,
         "type": "scatter",
         "x": [
          617730,
          41730,
          207674,
          203640,
          317291,
          362024,
          487212,
          290154,
          532009,
          142507,
          198870,
          469981,
          253528,
          621944,
          128661,
          478601,
          190809,
          50671,
          655194,
          32945,
          401685,
          52113,
          566201,
          232285,
          9139,
          188212,
          68739,
          182404,
          5329,
          365704.001,
          234720,
          646488,
          1241,
          5544,
          144367,
          386348,
          28000,
          32663,
          30888,
          80506,
          450873,
          1900,
          257777,
          99090.368,
          625191,
          327742,
          220041.999,
          519572,
          48756,
          603706,
          497705,
          322074,
          9447,
          158977,
          272160,
          145586,
          308360,
          6621,
          209505,
          443202,
          212641,
          550864,
          317012,
          634279,
          641125,
          27576,
          60937,
          26025,
          24948,
          73064,
          45451,
          596278,
          39265,
          510430,
          29736,
          60143,
          5893,
          51706,
          14709,
          35512,
          62928,
          77427,
          25908,
          3345188,
          2185552,
          3257581,
          2385515,
          2752749,
          3105601,
          1240625,
          1859369,
          1632318,
          1129663,
          1639446,
          1448234,
          2032320.002,
          2281473,
          932195,
          1771491,
          2229917,
          2429277,
          3267844,
          2031815,
          1639828,
          1426801,
          2681537,
          755921,
          905541,
          1852138,
          2274040,
          4562672,
          1256693,
          4149914,
          5572889,
          6676805,
          5149037,
          2906972,
          7598973,
          953439,
          5716279,
          4595450.001,
          3954908,
          4109045,
          1475564,
          667237,
          2325950,
          1103627,
          1074494,
          2585135,
          8217791,
          2631921,
          2530102,
          3519254,
          1635796,
          935607,
          4097280,
          6180989,
          8752989,
          6967313,
          5694913,
          2318144,
          5788902,
          2075606,
          3659543,
          4515305,
          1027271,
          6761939,
          3320381,
          843013,
          2213865,
          7935170,
          4667523,
          2385725,
          2316612,
          761300,
          3238666,
          6649299,
          1129416,
          661565,
          859408,
          1654353,
          1650135,
          6226175,
          1933757,
          1184009,
          1512823,
          922873,
          1113747,
          768903,
          814870,
          1178599,
          911493,
          1075798,
          793041,
          5344458,
          4751623,
          3692338,
          3205370,
          6979321,
          7664247,
          870065,
          7988203,
          9527419,
          7556119.999,
          3067953,
          836926,
          699014,
          725176,
          1730472,
          716789,
          13203792,
          11784193,
          844778,
          4378203,
          6141239.999,
          6767622,
          1098425,
          1816766,
          10810190,
          12881511,
          4882214,
          4714228,
          6647969,
          5340932,
          3796945,
          4203377,
          2520610,
          5186905,
          5259428,
          6086431,
          4953301,
          7034578,
          7747789,
          3035525,
          1085782,
          2595924,
          3149999,
          4797478,
          4060737,
          2749389,
          2695580,
          1482649,
          3486274,
          10779271,
          10499146,
          951052,
          14947724,
          16444804,
          4949857,
          5275013,
          3611720,
          5073932,
          10879715,
          10450839,
          5633634,
          7968535,
          6687340,
          11308063,
          8017342,
          9059773,
          7291380.799,
          13105806,
          9910719,
          10458575,
          7530024,
          7294286,
          9012591.998,
          6883159,
          4038785,
          8760283,
          6032659,
          4651760,
          5259593,
          2387650,
          6672161,
          4718034,
          4375314,
          2996822,
          2979035,
          1281842.999,
          4325604,
          2659033,
          13095165,
          16484492
         ],
         "xaxis": "x",
         "y": [
          617730,
          41730,
          207674,
          198515,
          317291,
          362024,
          487212,
          290154,
          532009,
          142507,
          52673,
          469764,
          253528,
          623944,
          127783,
          478601,
          190809,
          50671,
          655194,
          32945,
          333417,
          51108,
          566201,
          232433,
          9139,
          188212,
          68739,
          182404,
          5329,
          171729,
          234895,
          383742,
          1241,
          5544,
          144684,
          386348,
          28000,
          32663,
          30888,
          72081,
          450873,
          1814,
          257777,
          85364.368,
          625191,
          327742,
          181703,
          519572,
          33892,
          398955,
          497705,
          322074,
          9447,
          158977,
          272160,
          145586,
          308360,
          6621,
          209505,
          443202,
          212641,
          550864,
          317012,
          634279,
          641125,
          27576,
          60937,
          26025,
          24948,
          72878,
          45629,
          596278,
          39265,
          510430,
          29736,
          60143,
          5893,
          51706,
          14709,
          35512,
          62928,
          77427,
          25908,
          3345188,
          2185552,
          3257581,
          2385515,
          1420498,
          3105601,
          1240625,
          1859369,
          1632318,
          1128625,
          1639446,
          1448234,
          1886735,
          2281473,
          932195,
          1753103,
          2002291,
          2290481,
          3267844,
          2031815,
          1639009,
          1426801,
          2681400,
          755921,
          905541,
          1852138,
          2274040,
          4562672,
          1251117,
          4149914,
          5572889,
          6676805,
          5149037,
          2906972,
          7598973,
          953439,
          5716279,
          4228185,
          3954908,
          4109045,
          1475564,
          667237,
          2325950,
          1103627,
          1074494,
          2585135,
          8217791,
          2631921,
          2530102,
          3519254,
          1572369,
          935607,
          4096832,
          6180989,
          8752989,
          6967313,
          5694913,
          2318144,
          4047244,
          2051174,
          3659543,
          4515305,
          1027271,
          6761939,
          3320381,
          843013,
          2213865,
          7935170,
          4667523,
          2385725,
          2316612,
          761300,
          3238666,
          6649299,
          706647,
          661565,
          859408,
          1617559,
          1650135,
          6226175,
          1933757,
          1184009,
          1512823,
          922873,
          1113747,
          768903,
          533168,
          1178599,
          907180,
          1070251,
          793041,
          5344458,
          4751623,
          1143968,
          3205370,
          6979321,
          7664247,
          870065,
          7988203,
          9527419,
          7531195,
          3067953,
          836926,
          699014,
          651314,
          1730472,
          716789,
          13204067,
          11784193,
          844778,
          4364560,
          6141170,
          6767622,
          1098425,
          1816766,
          9985195,
          12881511,
          4882214,
          4714166,
          6647969,
          5340932,
          2532810,
          4203377,
          2520610,
          5186905,
          5259428,
          6086431,
          4953301,
          7034578,
          7747789,
          3035525,
          1083103,
          2595924,
          3149999,
          4797405,
          4060737,
          2749389,
          2694779,
          1482649,
          1654341,
          2276437,
          2786624,
          951052,
          3287271,
          16444804,
          4949857,
          5275013,
          3611720,
          5073932,
          10879715,
          10450839,
          5633634,
          7968535,
          6687265,
          11308063,
          8017342,
          9059773,
          7291356.800000001,
          13105806,
          9910719,
          10458575,
          7529993,
          7294286,
          8459972,
          6883159,
          4038785,
          8760283,
          6032659,
          4651760,
          5259593,
          2387650,
          6672161,
          4718034,
          4375314,
          2996822,
          2979035,
          1071358,
          4325604,
          2507217,
          13095165,
          16484492
         ],
         "yaxis": "y"
        }
       ],
       "layout": {
        "coloraxis": {
         "colorbar": {
          "title": {
           "text": "numRetiredGenerators"
          }
         },
         "colorscale": [
          [
           0,
           "#0d0887"
          ],
          [
           0.1111111111111111,
           "#46039f"
          ],
          [
           0.2222222222222222,
           "#7201a8"
          ],
          [
           0.3333333333333333,
           "#9c179e"
          ],
          [
           0.4444444444444444,
           "#bd3786"
          ],
          [
           0.5555555555555556,
           "#d8576b"
          ],
          [
           0.6666666666666666,
           "#ed7953"
          ],
          [
           0.7777777777777778,
           "#fb9f3a"
          ],
          [
           0.8888888888888888,
           "#fdca26"
          ],
          [
           1,
           "#f0f921"
          ]
         ]
        },
        "legend": {
         "tracegroupgap": 0
        },
        "margin": {
         "t": 60
        },
        "template": {
         "data": {
          "bar": [
           {
            "error_x": {
             "color": "#2a3f5f"
            },
            "error_y": {
             "color": "#2a3f5f"
            },
            "marker": {
             "line": {
              "color": "#E5ECF6",
              "width": 0.5
             },
             "pattern": {
              "fillmode": "overlay",
              "size": 10,
              "solidity": 0.2
             }
            },
            "type": "bar"
           }
          ],
          "barpolar": [
           {
            "marker": {
             "line": {
              "color": "#E5ECF6",
              "width": 0.5
             },
             "pattern": {
              "fillmode": "overlay",
              "size": 10,
              "solidity": 0.2
             }
            },
            "type": "barpolar"
           }
          ],
          "carpet": [
           {
            "aaxis": {
             "endlinecolor": "#2a3f5f",
             "gridcolor": "white",
             "linecolor": "white",
             "minorgridcolor": "white",
             "startlinecolor": "#2a3f5f"
            },
            "baxis": {
             "endlinecolor": "#2a3f5f",
             "gridcolor": "white",
             "linecolor": "white",
             "minorgridcolor": "white",
             "startlinecolor": "#2a3f5f"
            },
            "type": "carpet"
           }
          ],
          "choropleth": [
           {
            "colorbar": {
             "outlinewidth": 0,
             "ticks": ""
            },
            "type": "choropleth"
           }
          ],
          "contour": [
           {
            "colorbar": {
             "outlinewidth": 0,
             "ticks": ""
            },
            "colorscale": [
             [
              0,
              "#0d0887"
             ],
             [
              0.1111111111111111,
              "#46039f"
             ],
             [
              0.2222222222222222,
              "#7201a8"
             ],
             [
              0.3333333333333333,
              "#9c179e"
             ],
             [
              0.4444444444444444,
              "#bd3786"
             ],
             [
              0.5555555555555556,
              "#d8576b"
             ],
             [
              0.6666666666666666,
              "#ed7953"
             ],
             [
              0.7777777777777778,
              "#fb9f3a"
             ],
             [
              0.8888888888888888,
              "#fdca26"
             ],
             [
              1,
              "#f0f921"
             ]
            ],
            "type": "contour"
           }
          ],
          "contourcarpet": [
           {
            "colorbar": {
             "outlinewidth": 0,
             "ticks": ""
            },
            "type": "contourcarpet"
           }
          ],
          "heatmap": [
           {
            "colorbar": {
             "outlinewidth": 0,
             "ticks": ""
            },
            "colorscale": [
             [
              0,
              "#0d0887"
             ],
             [
              0.1111111111111111,
              "#46039f"
             ],
             [
              0.2222222222222222,
              "#7201a8"
             ],
             [
              0.3333333333333333,
              "#9c179e"
             ],
             [
              0.4444444444444444,
              "#bd3786"
             ],
             [
              0.5555555555555556,
              "#d8576b"
             ],
             [
              0.6666666666666666,
              "#ed7953"
             ],
             [
              0.7777777777777778,
              "#fb9f3a"
             ],
             [
              0.8888888888888888,
              "#fdca26"
             ],
             [
              1,
              "#f0f921"
             ]
            ],
            "type": "heatmap"
           }
          ],
          "heatmapgl": [
           {
            "colorbar": {
             "outlinewidth": 0,
             "ticks": ""
            },
            "colorscale": [
             [
              0,
              "#0d0887"
             ],
             [
              0.1111111111111111,
              "#46039f"
             ],
             [
              0.2222222222222222,
              "#7201a8"
             ],
             [
              0.3333333333333333,
              "#9c179e"
             ],
             [
              0.4444444444444444,
              "#bd3786"
             ],
             [
              0.5555555555555556,
              "#d8576b"
             ],
             [
              0.6666666666666666,
              "#ed7953"
             ],
             [
              0.7777777777777778,
              "#fb9f3a"
             ],
             [
              0.8888888888888888,
              "#fdca26"
             ],
             [
              1,
              "#f0f921"
             ]
            ],
            "type": "heatmapgl"
           }
          ],
          "histogram": [
           {
            "marker": {
             "pattern": {
              "fillmode": "overlay",
              "size": 10,
              "solidity": 0.2
             }
            },
            "type": "histogram"
           }
          ],
          "histogram2d": [
           {
            "colorbar": {
             "outlinewidth": 0,
             "ticks": ""
            },
            "colorscale": [
             [
              0,
              "#0d0887"
             ],
             [
              0.1111111111111111,
              "#46039f"
             ],
             [
              0.2222222222222222,
              "#7201a8"
             ],
             [
              0.3333333333333333,
              "#9c179e"
             ],
             [
              0.4444444444444444,
              "#bd3786"
             ],
             [
              0.5555555555555556,
              "#d8576b"
             ],
             [
              0.6666666666666666,
              "#ed7953"
             ],
             [
              0.7777777777777778,
              "#fb9f3a"
             ],
             [
              0.8888888888888888,
              "#fdca26"
             ],
             [
              1,
              "#f0f921"
             ]
            ],
            "type": "histogram2d"
           }
          ],
          "histogram2dcontour": [
           {
            "colorbar": {
             "outlinewidth": 0,
             "ticks": ""
            },
            "colorscale": [
             [
              0,
              "#0d0887"
             ],
             [
              0.1111111111111111,
              "#46039f"
             ],
             [
              0.2222222222222222,
              "#7201a8"
             ],
             [
              0.3333333333333333,
              "#9c179e"
             ],
             [
              0.4444444444444444,
              "#bd3786"
             ],
             [
              0.5555555555555556,
              "#d8576b"
             ],
             [
              0.6666666666666666,
              "#ed7953"
             ],
             [
              0.7777777777777778,
              "#fb9f3a"
             ],
             [
              0.8888888888888888,
              "#fdca26"
             ],
             [
              1,
              "#f0f921"
             ]
            ],
            "type": "histogram2dcontour"
           }
          ],
          "mesh3d": [
           {
            "colorbar": {
             "outlinewidth": 0,
             "ticks": ""
            },
            "type": "mesh3d"
           }
          ],
          "parcoords": [
           {
            "line": {
             "colorbar": {
              "outlinewidth": 0,
              "ticks": ""
             }
            },
            "type": "parcoords"
           }
          ],
          "pie": [
           {
            "automargin": true,
            "type": "pie"
           }
          ],
          "scatter": [
           {
            "marker": {
             "colorbar": {
              "outlinewidth": 0,
              "ticks": ""
             }
            },
            "type": "scatter"
           }
          ],
          "scatter3d": [
           {
            "line": {
             "colorbar": {
              "outlinewidth": 0,
              "ticks": ""
             }
            },
            "marker": {
             "colorbar": {
              "outlinewidth": 0,
              "ticks": ""
             }
            },
            "type": "scatter3d"
           }
          ],
          "scattercarpet": [
           {
            "marker": {
             "colorbar": {
              "outlinewidth": 0,
              "ticks": ""
             }
            },
            "type": "scattercarpet"
           }
          ],
          "scattergeo": [
           {
            "marker": {
             "colorbar": {
              "outlinewidth": 0,
              "ticks": ""
             }
            },
            "type": "scattergeo"
           }
          ],
          "scattergl": [
           {
            "marker": {
             "colorbar": {
              "outlinewidth": 0,
              "ticks": ""
             }
            },
            "type": "scattergl"
           }
          ],
          "scattermapbox": [
           {
            "marker": {
             "colorbar": {
              "outlinewidth": 0,
              "ticks": ""
             }
            },
            "type": "scattermapbox"
           }
          ],
          "scatterpolar": [
           {
            "marker": {
             "colorbar": {
              "outlinewidth": 0,
              "ticks": ""
             }
            },
            "type": "scatterpolar"
           }
          ],
          "scatterpolargl": [
           {
            "marker": {
             "colorbar": {
              "outlinewidth": 0,
              "ticks": ""
             }
            },
            "type": "scatterpolargl"
           }
          ],
          "scatterternary": [
           {
            "marker": {
             "colorbar": {
              "outlinewidth": 0,
              "ticks": ""
             }
            },
            "type": "scatterternary"
           }
          ],
          "surface": [
           {
            "colorbar": {
             "outlinewidth": 0,
             "ticks": ""
            },
            "colorscale": [
             [
              0,
              "#0d0887"
             ],
             [
              0.1111111111111111,
              "#46039f"
             ],
             [
              0.2222222222222222,
              "#7201a8"
             ],
             [
              0.3333333333333333,
              "#9c179e"
             ],
             [
              0.4444444444444444,
              "#bd3786"
             ],
             [
              0.5555555555555556,
              "#d8576b"
             ],
             [
              0.6666666666666666,
              "#ed7953"
             ],
             [
              0.7777777777777778,
              "#fb9f3a"
             ],
             [
              0.8888888888888888,
              "#fdca26"
             ],
             [
              1,
              "#f0f921"
             ]
            ],
            "type": "surface"
           }
          ],
          "table": [
           {
            "cells": {
             "fill": {
              "color": "#EBF0F8"
             },
             "line": {
              "color": "white"
             }
            },
            "header": {
             "fill": {
              "color": "#C8D4E3"
             },
             "line": {
              "color": "white"
             }
            },
            "type": "table"
           }
          ]
         },
         "layout": {
          "annotationdefaults": {
           "arrowcolor": "#2a3f5f",
           "arrowhead": 0,
           "arrowwidth": 1
          },
          "autotypenumbers": "strict",
          "coloraxis": {
           "colorbar": {
            "outlinewidth": 0,
            "ticks": ""
           }
          },
          "colorscale": {
           "diverging": [
            [
             0,
             "#8e0152"
            ],
            [
             0.1,
             "#c51b7d"
            ],
            [
             0.2,
             "#de77ae"
            ],
            [
             0.3,
             "#f1b6da"
            ],
            [
             0.4,
             "#fde0ef"
            ],
            [
             0.5,
             "#f7f7f7"
            ],
            [
             0.6,
             "#e6f5d0"
            ],
            [
             0.7,
             "#b8e186"
            ],
            [
             0.8,
             "#7fbc41"
            ],
            [
             0.9,
             "#4d9221"
            ],
            [
             1,
             "#276419"
            ]
           ],
           "sequential": [
            [
             0,
             "#0d0887"
            ],
            [
             0.1111111111111111,
             "#46039f"
            ],
            [
             0.2222222222222222,
             "#7201a8"
            ],
            [
             0.3333333333333333,
             "#9c179e"
            ],
            [
             0.4444444444444444,
             "#bd3786"
            ],
            [
             0.5555555555555556,
             "#d8576b"
            ],
            [
             0.6666666666666666,
             "#ed7953"
            ],
            [
             0.7777777777777778,
             "#fb9f3a"
            ],
            [
             0.8888888888888888,
             "#fdca26"
            ],
            [
             1,
             "#f0f921"
            ]
           ],
           "sequentialminus": [
            [
             0,
             "#0d0887"
            ],
            [
             0.1111111111111111,
             "#46039f"
            ],
            [
             0.2222222222222222,
             "#7201a8"
            ],
            [
             0.3333333333333333,
             "#9c179e"
            ],
            [
             0.4444444444444444,
             "#bd3786"
            ],
            [
             0.5555555555555556,
             "#d8576b"
            ],
            [
             0.6666666666666666,
             "#ed7953"
            ],
            [
             0.7777777777777778,
             "#fb9f3a"
            ],
            [
             0.8888888888888888,
             "#fdca26"
            ],
            [
             1,
             "#f0f921"
            ]
           ]
          },
          "colorway": [
           "#636efa",
           "#EF553B",
           "#00cc96",
           "#ab63fa",
           "#FFA15A",
           "#19d3f3",
           "#FF6692",
           "#B6E880",
           "#FF97FF",
           "#FECB52"
          ],
          "font": {
           "color": "#2a3f5f"
          },
          "geo": {
           "bgcolor": "white",
           "lakecolor": "white",
           "landcolor": "#E5ECF6",
           "showlakes": true,
           "showland": true,
           "subunitcolor": "white"
          },
          "hoverlabel": {
           "align": "left"
          },
          "hovermode": "closest",
          "mapbox": {
           "style": "light"
          },
          "paper_bgcolor": "white",
          "plot_bgcolor": "#E5ECF6",
          "polar": {
           "angularaxis": {
            "gridcolor": "white",
            "linecolor": "white",
            "ticks": ""
           },
           "bgcolor": "#E5ECF6",
           "radialaxis": {
            "gridcolor": "white",
            "linecolor": "white",
            "ticks": ""
           }
          },
          "scene": {
           "xaxis": {
            "backgroundcolor": "#E5ECF6",
            "gridcolor": "white",
            "gridwidth": 2,
            "linecolor": "white",
            "showbackground": true,
            "ticks": "",
            "zerolinecolor": "white"
           },
           "yaxis": {
            "backgroundcolor": "#E5ECF6",
            "gridcolor": "white",
            "gridwidth": 2,
            "linecolor": "white",
            "showbackground": true,
            "ticks": "",
            "zerolinecolor": "white"
           },
           "zaxis": {
            "backgroundcolor": "#E5ECF6",
            "gridcolor": "white",
            "gridwidth": 2,
            "linecolor": "white",
            "showbackground": true,
            "ticks": "",
            "zerolinecolor": "white"
           }
          },
          "shapedefaults": {
           "line": {
            "color": "#2a3f5f"
           }
          },
          "ternary": {
           "aaxis": {
            "gridcolor": "white",
            "linecolor": "white",
            "ticks": ""
           },
           "baxis": {
            "gridcolor": "white",
            "linecolor": "white",
            "ticks": ""
           },
           "bgcolor": "#E5ECF6",
           "caxis": {
            "gridcolor": "white",
            "linecolor": "white",
            "ticks": ""
           }
          },
          "title": {
           "x": 0.05
          },
          "xaxis": {
           "automargin": true,
           "gridcolor": "white",
           "linecolor": "white",
           "ticks": "",
           "title": {
            "standoff": 15
           },
           "zerolinecolor": "white",
           "zerolinewidth": 2
          },
          "yaxis": {
           "automargin": true,
           "gridcolor": "white",
           "linecolor": "white",
           "ticks": "",
           "title": {
            "standoff": 15
           },
           "zerolinecolor": "white",
           "zerolinewidth": 2
          }
         }
        },
        "xaxis": {
         "anchor": "y",
         "domain": [
          0,
          1
         ],
         "title": {
          "text": "PLNGENAN"
         }
        },
        "yaxis": {
         "anchor": "x",
         "domain": [
          0,
          1
         ],
         "title": {
          "text": "GENNTAN"
         }
        }
       }
      }
     },
     "metadata": {},
     "output_type": "display_data"
    }
   ],
   "source": [
    "import plotly.express as px\n",
    "\n",
    "px.scatter(data_frame=dfc2, x = dfc2['PLNGENAN'], y = dfc2['GENNTAN'], color = dfc2['numRetiredGenerators'], hover_name = dfc2['label'])"
   ]
  },
  {
   "cell_type": "code",
   "execution_count": 46,
   "id": "d28571dd",
   "metadata": {},
   "outputs": [
    {
     "data": {
      "application/vnd.plotly.v1+json": {
       "config": {
        "plotlyServerURL": "https://plot.ly"
       },
       "data": [
        {
         "hovertemplate": "<b>%{hovertext}</b><br><br>air_metric=%{x}<br>pop_metric=%{y}<br>scenario=%{marker.color}<extra></extra>",
         "hovertext": [
          "2020: Grant Town Power Plant, WV",
          "2020: Mt. Carmel Cogeneration, PA",
          "2020: Hugo, OK",
          "2020: Hoot Lake, MN",
          "2020: Charles R Lowman, AL",
          "2020: Platte, NE",
          "2020: Colver Green Energy, PA",
          "2020: Ebensburg Power Company, PA",
          "2020: Muscatine, IA",
          "2020: John S. Cooper, KY",
          "2020: Kaukauna Paper Mill, WI",
          "2020: R M Heskett, ND",
          "2020: Ingredion Incorporated Argo Plant, IL",
          "2020: Waukegan, IL",
          "2020: Merrimack, NH",
          "2020: Carneys Point, NJ",
          "2020: WPS Westwood Generation, LLC, PA",
          "2020: Wheelabrator Frackville Energy, PA",
          "2020: St. Nicholas Cogeneration Project, PA",
          "2020: Whitewater Valley, IN",
          "2020: Martin Drake, CO",
          "2020: Dover, OH",
          "2020: Erickson, MI",
          "2020: Lewis & Clark, MT",
          "2020: Sidney MT Plant, MT",
          "2020: Aurora Energy LLC Chena, AK",
          "2020: Utility Plants Section, AK",
          "2020: Archer Daniels Midland Columbus, NE",
          "2020: Eckert Station, MI",
          "2020: Chalk Point, MD",
          "2020: Avon Lake Power Plant, OH",
          "2020: Deerhaven, FL",
          "2020: MSC Sebewaing, MI",
          "2020: Western Sugar Cooperative - Billings, MT",
          "2020: Wansley (6052), GA",
          "2020: Tate & Lyle, IL",
          "2020: American Crystal Sugar East Grand Forks, MN",
          "2020: J B Sims, MI",
          "2020: Archer Daniels Midland Lincoln, NE",
          "2020: Herbert A Wagner, MD",
          "2020: Elmer Smith, KY",
          "2020: Painesville, OH",
          "2020: Trenton Channel, MI",
          "2020: Meramec, MO",
          "2020: Mayo, NC",
          "2020: Lansing, IA",
          "2020: Dickerson, MD",
          "2020: G G Allen, NC",
          "2020: Prairie Creek, IA",
          "2020: Lon D Wright Power Plant, NE",
          "2020: Sheldon, NE",
          "2020: Sunnyside Cogeneration Associates, UT",
          "2020: Northampton Generating Plant, PA",
          "2020: Montour, LLC, PA",
          "2020: Colstrip Energy Limited Partnership, MT",
          "2020: Somerset Operating Company  (Kintigh), NY",
          "2020: Will County, IL",
          "2020: SIUC, IL",
          "2020: General Chemical, WY",
          "2020: Logan Generating Plant, NJ",
          "2020: Genesis Alkali, WY",
          "2020: Cheswick, PA",
          "2020: Argus Cogen Plant, CA",
          "2020: Gilberton Power Company, PA",
          "2020: Bull Run, TN",
          "2020: Archer Daniels Midland Des Moines, IA",
          "2020: American Crystal Sugar Hillsboro, ND",
          "2020: American Crystal Sugar Moorhead, MN",
          "2020: Archer Daniels Midland Mankato, MN",
          "2020: Eielson AFB Central Heat & Power Plant, AK",
          "2020: University of Alaska Fairbanks, AK",
          "2020: Escalante, NM",
          "2020: R Gallagher, IN",
          "2020: TES Filer City Station, MI",
          "2020: American Crystal Sugar Crookston, MN",
          "2020: Panther Creek Energy Facility, PA",
          "2020: Scrubgrass Generating Plant, PA",
          "2020: Hardin Generating Station, MT",
          "2020: Southern Minnesota Beet Sugar, MN",
          "2020: American Crystal Sugar Drayton, ND",
          "2020: University of NC Chapel Hill, NC",
          "2020: Birchwood Power Facility, VA",
          "2020: Western Sugar Coop - Scottsbluff, NE",
          "2020: Harrington Station, TX",
          "2020: H W Pirkey Power Plant, TX",
          "2020: Bonanza, UT",
          "2020: Twin Oaks, TX",
          "2020: Muskogee, OK",
          "2020: E D Edwards, IL",
          "2020: Clover Power Station, VA",
          "2020: Tolk Station, TX",
          "2020: Boardman, OR",
          "2020: Burlington (IA), IA",
          "2020: Sikeston, MO",
          "2020: Holcomb, KS",
          "2020: Rawhide Energy Station, CO",
          "2020: Winyah, SC",
          "2020: North Valmy, NV",
          "2020: North Omaha Station, NE",
          "2020: Hawthorn, MO",
          "2020: Gallatin, TN",
          "2020: Edwardsport Generating Station, IN",
          "2020: Hayden, CO",
          "2020: St. Clair, MI",
          "2020: J P Madgett, WI",
          "2020: Williams, SC",
          "2020: Dallman, IL",
          "2020: Gerald Whelan Energy Center, NE",
          "2020: Louisa, IA",
          "2020: East Bend, KY",
          "2020: Sandy Creek Energy Station, TX",
          "2020: Ray D Nixon, CO",
          "2020: Comanche (470), CO",
          "2020: W H Zimmer Generating Station, OH",
          "2020: Rush Island, MO",
          "2020: Centralia, WA",
          "2020: Independence, AR",
          "2020: Four Corners Steam Elec Station, NM",
          "2020: AES Warrior Run, MD",
          "2020: Limestone, TX",
          "2020: Belle River, MI",
          "2020: White Bluff, AR",
          "2020: Joppa Steam, IL",
          "2020: Kincaid Generating Station, IL",
          "2020: Dolet Hills Power Station, LA",
          "2020: Red Hills Generation Facility, MS",
          "2020: Oklaunion Power Station, TX",
          "2020: Conesville, OH",
          "2020: Merom, IN",
          "2020: Coal Creek, ND",
          "2020: Newton, IL",
          "2020: Coleto Creek, TX",
          "2020: John W. Turk Jr. Power Plant, AR",
          "2020: John Twitty Energy Center, MO",
          "2020: Genoa, WI",
          "2020: Weston, WI",
          "2020: New Madrid Power Plant, MO",
          "2020: Sherburne County, MN",
          "2020: Gerald Gentleman Station, NE",
          "2020: Antelope Valley, ND",
          "2020: San Miguel, TX",
          "2020: Curtis H. Stanton Energy Center, FL",
          "2020: A B Brown Generating Station, IN",
          "2020: Shawnee, KY",
          "2020: Huntington, UT",
          "2020: TS Power Plant, NV",
          "2020: Intermountain, UT",
          "2020: Welsh Power Plant, TX",
          "2020: Wygen III, WY",
          "2020: Seward, PA",
          "2020: Colstrip, MT",
          "2020: Milton R Young, ND",
          "2020: Coyote, ND",
          "2020: D B Wilson, KY",
          "2020: Allen S King, MN",
          "2020: Plum Point Energy Station, AR",
          "2020: Seminole (136), FL",
          "2020: Eastman Chemical Company, TN",
          "2020: George Neal South, IA",
          "2020: George Neal North, IA",
          "2020: Dan E Karn, MI",
          "2020: Big Stone, SD",
          "2020: Cross, SC",
          "2020: Lawrence Energy Center, KS",
          "2020: AES Hawaii, HI",
          "2020: Michigan City Generating Station, IN",
          "2020: F B Culley Generating Station, IN",
          "2020: R D Green, KY",
          "2020: Archer Daniels Midland Clinton, IA",
          "2020: Archer Daniels Midland Cedar Rapids, IA",
          "2020: Archer Daniels Midland Co., IL",
          "2020: Marion, IL",
          "2020: Nearman Creek, KS",
          "2020: River Valley, OK",
          "2020: J K Spruce, TX",
          "2020: San Juan, NM",
          "2020: Northeastern, OK",
          "2020: Dry Fork Station, WY",
          "2020: Craig, CO",
          "2020: Nebraska City Station, NE",
          "2020: Virginia City Hybrid Energy Center, VA",
          "2020: Hunter, UT",
          "2020: Cumberland, TN",
          "2020: Springerville Generating Station, AZ",
          "2020: Pawnee, CO",
          "2020: Wateree, SC",
          "2020: Wygen I, WY",
          "2020: Neil Simpson II, WY",
          "2020: Wyodak, WY",
          "2020: Wygen II, WY",
          "2020: Monroe, MI",
          "2020: Gibson, IN",
          "2020: Powerton, IL",
          "2020: Cayuga, IN",
          "2020: IPL - Petersburg Generating Station, IN",
          "2020: J H Campbell, MI",
          "2020: Edgewater (4050), WI",
          "2020: Flint Creek Power Plant, AR",
          "2020: W A Parish, TX",
          "2020: Martin Lake, TX",
          "2020: Pleasants Power Station, WV",
          "2020: Mount Storm Power Station, WV",
          "2020: Mill Creek, KY",
          "2020: Belews Creek, NC",
          "2020: E C Gaston, AL",
          "2020: Boswell Energy Center, MN",
          "2020: Ottumwa, IA",
          "2020: Columbia, WI",
          "2020: Cliffside, NC",
          "2020: Marshall, NC",
          "2020: Walter Scott Jr. Energy Center, IA",
          "2020: Iatan, MO",
          "2020: Elm Road Generating Station, WI",
          "2020: South Oak Creek, WI",
          "2020: Morgantown, MD",
          "2020: Coronado Generating Station, AZ",
          "2020: Cholla, AZ",
          "2020: W H Sammis, OH",
          "2020: Baldwin Energy Complex, IL",
          "2020: Sioux, MO",
          "2020: R M Schahfer Generating Station, IN",
          "2020: Kingston, TN",
          "2020: Chesterfield Power Station, VA",
          "2020: Daniel Electric Generating Plant, MS",
          "2020: Barry, AL",
          "2020: Brandon Shores, MD",
          "2020: Crystal River, FL",
          "2020: James H Miller Jr, AL",
          "2020: Longview Power, WV",
          "2020: Mountaineer (1301), WV",
          "2020: Mitchell (WV), WV",
          "2020: Fort Martin Power Station, WV",
          "2020: Harrison Power Station, WV",
          "2020: John E Amos, WV",
          "2020: Scherer, GA",
          "2020: Bowen, GA",
          "2020: Miami Fort Power Station, OH",
          "2020: Prairie State Generating Station, IL",
          "2020: Laramie River, WY",
          "2020: Cardinal, OH",
          "2020: Keystone, PA",
          "2020: Oak Grove, TX",
          "2020: Ghent, KY",
          "2020: Jim Bridger, WY",
          "2020: Conemaugh, PA",
          "2020: H L Spurlock, KY",
          "2020: Trimble County, KY",
          "2020: Thomas Hill Energy Center, MO",
          "2020: Rockport, IN",
          "2020: Sam Seymour, TX",
          "2020: La Cygne, KS",
          "2020: Kyger Creek, OH",
          "2020: Roxboro, NC",
          "2020: Sooner, OK",
          "2020: Jeffrey Energy Center, KS",
          "2020: Alcoa Allowance Management Inc, IN",
          "2020: Clifty Creek, IN",
          "2020: Leland Olds, ND",
          "2020: Homer City, PA",
          "2020: E W Brown, KY",
          "2020: Dave Johnston, WY",
          "2020: Naughton, WY",
          "2020: Gen J M Gavin, OH",
          "2020: Labadie, MO"
         ],
         "legendgroup": "",
         "marker": {
          "color": [
           1,
           1,
           1,
           1,
           1,
           1,
           1,
           1,
           1,
           1,
           1,
           1,
           1,
           1,
           1,
           1,
           1,
           1,
           1,
           1,
           1,
           1,
           1,
           1,
           1,
           1,
           1,
           1,
           1,
           1,
           1,
           1,
           1,
           1,
           1,
           1,
           1,
           1,
           1,
           1,
           1,
           1,
           1,
           1,
           1,
           1,
           1,
           1,
           1,
           1,
           1,
           1,
           1,
           1,
           1,
           1,
           1,
           1,
           1,
           1,
           1,
           1,
           1,
           1,
           1,
           1,
           1,
           1,
           1,
           1,
           1,
           1,
           1,
           1,
           1,
           1,
           1,
           1,
           1,
           1,
           1,
           1,
           1,
           2,
           2,
           2,
           2,
           2,
           2,
           2,
           2,
           2,
           2,
           2,
           2,
           2,
           2,
           2,
           2,
           2,
           2,
           2,
           2,
           2,
           2,
           2,
           2,
           2,
           2,
           2,
           2,
           2,
           2,
           2,
           2,
           2,
           2,
           2,
           2,
           2,
           2,
           2,
           2,
           2,
           2,
           2,
           2,
           2,
           2,
           2,
           2,
           2,
           2,
           2,
           2,
           2,
           2,
           2,
           2,
           2,
           2,
           2,
           2,
           2,
           2,
           2,
           2,
           2,
           2,
           2,
           2,
           2,
           2,
           2,
           2,
           2,
           2,
           2,
           2,
           2,
           2,
           2,
           2,
           2,
           2,
           2,
           2,
           2,
           2,
           2,
           2,
           2,
           2,
           2,
           2,
           2,
           2,
           2,
           2,
           2,
           2,
           2,
           2,
           2,
           2,
           2,
           2,
           2,
           2,
           2,
           2,
           2,
           2,
           2,
           2,
           2,
           2,
           2,
           2,
           2,
           2,
           2,
           3,
           3,
           3,
           3,
           3,
           3,
           3,
           3,
           3,
           3,
           3,
           3,
           3,
           3,
           3,
           3,
           3,
           3,
           3,
           3,
           3,
           3,
           3,
           3,
           3,
           3,
           4,
           4,
           4,
           4,
           4,
           4,
           4,
           4,
           4,
           4,
           4,
           4,
           4,
           4,
           4,
           4,
           4,
           4,
           4,
           4,
           4,
           4,
           4,
           4,
           4,
           4,
           4,
           4,
           4,
           4,
           4,
           4,
           4,
           4,
           4,
           4
          ],
          "coloraxis": "coloraxis",
          "symbol": "circle"
         },
         "mode": "markers",
         "name": "",
         "orientation": "v",
         "showlegend": false,
         "type": "scatter",
         "x": [
          104.75609676849548,
          61.58388256568986,
          88.03087192472263,
          91.78435668051279,
          92.98083435659355,
          87.71656758625276,
          100.09976753726355,
          96.19812690575156,
          93.35448118055697,
          78.31247474630631,
          90.77280960608775,
          102.60345401166985,
          106.23117167997913,
          90.71511278087421,
          79.96257913951081,
          86.12780504371435,
          83.03778289190865,
          78.34867757775342,
          93.52071088131463,
          82.91035010553969,
          84.14779331534494,
          95.34056645424145,
          101.80002510684261,
          87.17635395245249,
          44.8024480358084,
          83.08428175048435,
          64.94187540025712,
          60.00989339504077,
          47.66698997801025,
          82.09726852413097,
          97.14904879944822,
          95.07952891133706,
          6.70453387955163,
          12.840406610822471,
          77.48705432856737,
          114.92878524958357,
          56.45744179758078,
          59.344227456085086,
          57.01662803892298,
          85.7287266526681,
          96.24330384075843,
          52.534233200948755,
          92.28607195458143,
          79.84878375279698,
          97.67000619523319,
          70.75252116534033,
          78.8274569307405,
          91.80346586273129,
          77.41587067609214,
          89.8748753675598,
          103.87041731347226,
          108.23421601656722,
          32.84045691892969,
          83.77117266382834,
          109.48992212070885,
          86.78948759298214,
          81.13528789749874,
          63.84063141058235,
          64.88650836219254,
          85.52507131661264,
          67.73651976928774,
          96.50361339142806,
          69.44856249299812,
          91.18070325147586,
          86.1209124627185,
          55.13479941741195,
          66.49172930618887,
          55.48612296153708,
          56.36131098056796,
          65.20014732624487,
          66.62525989018293,
          94.91856412096897,
          77.36156423303015,
          92.36971564057826,
          57.25480240421159,
          56.57589647758212,
          77.54463466559393,
          66.05846612385182,
          45.21623602943937,
          58.807883854751644,
          74.33852469042493,
          59.32125384185319,
          88.87474707663505,
          121.58890319835946,
          108.73348794988561,
          112.86072261323392,
          111.26110648993989,
          116.41187253600668,
          119.33426580367525,
          102.72036384499785,
          114.96352865571022,
          110.6337948250091,
          107.45750053905927,
          112.369219445108,
          102.53511799242571,
          99.43624410669136,
          101.56682122898926,
          107.19672090542754,
          118.75587115302606,
          97.66106062707516,
          100.61209690592025,
          84.26229977514463,
          102.01206081001655,
          120.24988413154331,
          94.7391311687565,
          109.28326771458818,
          88.58408715452207,
          103.26813686632524,
          110.52707625766215,
          107.98066964241974,
          107.05869735863527,
          95.74641860843933,
          111.95679151246418,
          127.96814924769329,
          130.20056082457194,
          116.59574688756949,
          122.05552427117073,
          110.70511119688979,
          89.50998264377755,
          121.06921626350471,
          129.2709126956345,
          125.98980802054551,
          121.88888803231272,
          92.20710809898117,
          108.99808088253012,
          108.93515962213019,
          104.32569172517954,
          110.19243185689018,
          102.44141510849474,
          122.0735619939708,
          115.52293781680328,
          120.95568815272668,
          94.56987936496661,
          103.9611093141099,
          88.55186135639046,
          97.4812007360536,
          135.23357693276884,
          126.44936540531297,
          132.35015531586922,
          126.71938889015108,
          123.84350574604814,
          103.80968406094753,
          113.56293769532671,
          130.5980006034284,
          115.14360777564214,
          78.46826668618564,
          122.6262944054964,
          122.81905980863404,
          78.93199018719078,
          117.70453015325874,
          124.76938780815792,
          123.3769902325283,
          128.35973617978718,
          113.09583866862236,
          91.9060354846819,
          107.93402334037259,
          118.02511541412342,
          94.9490769379221,
          97.7764712512537,
          103.72449624144129,
          94.02646507039294,
          93.7450717166513,
          113.71500744656622,
          97.54826178519033,
          112.29592714006533,
          96.06402379593968,
          96.20511931266522,
          109.04325127658066,
          95.65703164040865,
          84.19527186324697,
          125.7982180599192,
          108.74069174324346,
          103.73607094399173,
          97.52922027187142,
          106.70594917357977,
          117.90489743022559,
          108.66274444990576,
          97.50475076422856,
          120.35341326322495,
          127.46349318476074,
          82.8555265595228,
          123.3664749423458,
          123.55836081914826,
          122.89577985414756,
          103.95813904054287,
          101.69259395456322,
          90.80710878976575,
          90.44279850600374,
          109.46823320098919,
          80.98066068920376,
          117.69592421482547,
          132.40964987227147,
          99.95244684876756,
          115.99373081370605,
          119.45146857060718,
          114.62376201385219,
          82.98428155196079,
          101.9457828032303,
          134.5212256777001,
          142.79601216638952,
          123.65394181882338,
          110.67571029262334,
          119.32298470270146,
          115.9852575103484,
          105.78410635084694,
          106.65361845615165,
          98.41387727275117,
          110.13763365553582,
          105.47470358084328,
          119.72969087524115,
          119.3198723018646,
          105.20988075223397,
          103.45489483840467,
          93.39533267754565,
          91.45827564984458,
          104.94556358883544,
          113.31588541056273,
          118.82344078166591,
          106.07780407810836,
          111.7955394862707,
          109.28545282767818,
          98.94109676763885,
          99.44052616652083,
          105.59805999550935,
          107.13921003953857,
          93.75652445222758,
          114.47989281037074,
          116.574756739625,
          106.92599085712764,
          114.86054913990857,
          105.87229429428602,
          126.99726025940166,
          125.42971255997315,
          128.99197797958365,
          111.73894549366656,
          122.095339120747,
          133.76422199393966,
          125.87091104873205,
          122.42767562783739,
          128.51393948937013,
          133.60121673365884,
          125.25674393351503,
          126.39213709080563,
          126.78665436666275,
          121.28184822980161,
          117.31979700483004,
          115.07439859050062,
          133.3887542417198,
          119.58768589720682,
          116.26579697092643,
          108.20971773579488,
          125.61569526223157,
          115.60316028692212,
          102.85410573018585,
          111.77398967430881,
          123.95242223229188,
          117.66857818674153,
          116.69053688215874,
          121.24342251968896,
          99.16037566192927,
          124.15164471697551,
          112.04205355654734,
          138.1743062034464,
          141.23194478709934
         ],
         "xaxis": "x",
         "y": [
          107.57971154789736,
          125.97503430627243,
          81.69987246976672,
          127.4681316209599,
          106.15532482025556,
          106.14118133692061,
          100.20482058294363,
          117.0584668841677,
          127.80856055982726,
          115.4044067285636,
          135.71576430951828,
          127.16186708825022,
          154.86910115366828,
          147.66162588046873,
          125.2676803426033,
          127.4900817776365,
          95.80986410399383,
          125.54079659030084,
          127.74415977140994,
          138.42461934534765,
          150.58358647744234,
          136.76243442580827,
          131.07467005385985,
          115.65659307642223,
          117.80565695419374,
          139.9191740260051,
          134.38685721369185,
          115.30740816673564,
          152.63993353839774,
          108.93958081597945,
          133.63441358173486,
          116.85913701375618,
          104.23278035772053,
          140.98180063379425,
          86.9367156076329,
          144.88407199338042,
          null,
          134.14806205347938,
          138.3449125285761,
          138.14761770455698,
          127.73948095693122,
          141.83349781912185,
          141.80773935287917,
          136.13504579962466,
          91.13135023533928,
          78.07219906173304,
          99.54887106988856,
          128.28505911887805,
          139.67062691227468,
          135.52957507926402,
          82.8274452562934,
          96.12313456730791,
          140.26064621498108,
          100.71724232820765,
          39.31946180422263,
          92.07007419286673,
          138.9453890848473,
          136.64861339451127,
          0,
          128.38263385601437,
          0,
          138.7005230295324,
          99.08495956642766,
          129.78995432223746,
          124.51360355041739,
          149.8046425813411,
          null,
          null,
          143.2548190356078,
          107.05274662853144,
          134.78811794639952,
          57.83176535920881,
          146.15998283580038,
          122.2150243819483,
          null,
          121.71605517378785,
          87.05541687158339,
          111.70422520749601,
          97.60579127816348,
          null,
          147.29666349081242,
          108.60649302328645,
          132.90267619082866,
          86.87696694300298,
          72.96294047269414,
          0,
          70.81929571099732,
          119.71620374538186,
          134.69726785318983,
          87.17307229582883,
          37.83417644347627,
          0,
          105.61196277824934,
          127.47958837802248,
          0,
          62.524263959916226,
          91.60195477111344,
          0,
          140.94216165959176,
          135.98446569327965,
          113.2860578748829,
          84.50202922453259,
          66.36591404659238,
          111.61373290566172,
          91.3044041163644,
          64.15195672642041,
          138.23277355524186,
          104.29792099551116,
          93.14831226928382,
          99.81664466494124,
          98.42061739411024,
          110.58575974211362,
          118.12862309056217,
          100.15321873575265,
          86.34763101024177,
          90.400473917265,
          93.57812698075675,
          72.50241882751882,
          122.02829471729726,
          66.55010737054072,
          116.40766148124271,
          102.41693840944686,
          92.69129337615773,
          83.81706861106626,
          64.26096797886733,
          81.0365675149024,
          50.53332768095158,
          94.13436937907164,
          83.1743168174654,
          34.25183167457769,
          73.67898603236037,
          88.16966636865271,
          81.58169643951871,
          136.30515393850547,
          87.40531822386698,
          124.80358191876104,
          76.69094047536696,
          115.51006375307553,
          40.004422417688964,
          46.69167759427542,
          0,
          131.14302818391423,
          96.84250900752663,
          116.4229591884831,
          55.743950537280476,
          9.256151777493086,
          0,
          91.16034873591421,
          102.96057102566705,
          104.20554436160336,
          104.25452922941254,
          44.966209423077714,
          66.36591404659238,
          77.91692051833574,
          135.14599833359975,
          105.64137645592795,
          97.89754438623149,
          136.27555335537795,
          75.43529628632243,
          62.02028700705694,
          124.78724698795709,
          91.75520824963722,
          94.35281788452417,
          135.62014145160427,
          119.38966324893427,
          136.6682905162571,
          95.36278958728562,
          91.43273851401945,
          131.98285748737484,
          133.08705241622104,
          131.97808863647754,
          107.25822745495577,
          137.98696070429705,
          105.36429610457346,
          105.32925329913306,
          62.89014449834376,
          107.2191240470226,
          51.41411747269924,
          78.52748648664843,
          58.51672597267513,
          103.66586708199728,
          88.68504679690248,
          91.29006830793755,
          0,
          88.97816982800776,
          63.246267050025736,
          103.60896966201727,
          103.60896966201727,
          103.16843964335389,
          102.96655525353646,
          120.8730153370824,
          110.7035931423327,
          128.609911796501,
          99.71781161745893,
          105.3192241553893,
          106.76775966285115,
          136.52412174307972,
          116.38577716912246,
          93.49326366304045,
          84.13946023088758,
          100.33660261558694,
          71.7184490170867,
          121.31784980896565,
          98.57113149650613,
          103.851926896167,
          103.12712397288504,
          77.7202482702434,
          102.31053303158465,
          105.50355491576455,
          119.03878674103106,
          106.25391197558245,
          74.25625409226664,
          120.69497247997678,
          121.5206734836503,
          99.77112028812245,
          14.670653468310018,
          96.48766532312717,
          111.16479650403915,
          84.38226336104655,
          102.77978571577341,
          100.75965783533549,
          123.81898067922867,
          123.72450027755579,
          107.71455704099542,
          61.22675828120801,
          138.64108095875616,
          9.256151777493086,
          95.25663796101281,
          119.95639264058964,
          111.92627972523479,
          103.76203978005263,
          117.35708394121653,
          116.36385693395238,
          121.91441152726014,
          89.1307863950647,
          119.17633633902331,
          107.1055111526316,
          76.64807108295717,
          57.10976226909929,
          115.62648824177444,
          102.17790962434015,
          65.2039811492616,
          106.67743937083304,
          0,
          103.23310710274265,
          102.01186305120386,
          83.58922566512054,
          58.51672597267513,
          103.12712397288504,
          74.04921421994469,
          77.27709494459256,
          110.69353377894396,
          97.59684999609718,
          73.67898603236037,
          71.96460906135765,
          96.17298085238582,
          127.90504532330846,
          49.59031451055733,
          113.03790613032811,
          103.00836992866411,
          67.68915456515418,
          80.07544748849041,
          102.58421163127109,
          94.23829055931395
         ],
         "yaxis": "y"
        }
       ],
       "layout": {
        "coloraxis": {
         "colorbar": {
          "title": {
           "text": "scenario"
          }
         },
         "colorscale": [
          [
           0,
           "#0d0887"
          ],
          [
           0.1111111111111111,
           "#46039f"
          ],
          [
           0.2222222222222222,
           "#7201a8"
          ],
          [
           0.3333333333333333,
           "#9c179e"
          ],
          [
           0.4444444444444444,
           "#bd3786"
          ],
          [
           0.5555555555555556,
           "#d8576b"
          ],
          [
           0.6666666666666666,
           "#ed7953"
          ],
          [
           0.7777777777777778,
           "#fb9f3a"
          ],
          [
           0.8888888888888888,
           "#fdca26"
          ],
          [
           1,
           "#f0f921"
          ]
         ]
        },
        "legend": {
         "tracegroupgap": 0
        },
        "margin": {
         "t": 60
        },
        "template": {
         "data": {
          "bar": [
           {
            "error_x": {
             "color": "#2a3f5f"
            },
            "error_y": {
             "color": "#2a3f5f"
            },
            "marker": {
             "line": {
              "color": "#E5ECF6",
              "width": 0.5
             },
             "pattern": {
              "fillmode": "overlay",
              "size": 10,
              "solidity": 0.2
             }
            },
            "type": "bar"
           }
          ],
          "barpolar": [
           {
            "marker": {
             "line": {
              "color": "#E5ECF6",
              "width": 0.5
             },
             "pattern": {
              "fillmode": "overlay",
              "size": 10,
              "solidity": 0.2
             }
            },
            "type": "barpolar"
           }
          ],
          "carpet": [
           {
            "aaxis": {
             "endlinecolor": "#2a3f5f",
             "gridcolor": "white",
             "linecolor": "white",
             "minorgridcolor": "white",
             "startlinecolor": "#2a3f5f"
            },
            "baxis": {
             "endlinecolor": "#2a3f5f",
             "gridcolor": "white",
             "linecolor": "white",
             "minorgridcolor": "white",
             "startlinecolor": "#2a3f5f"
            },
            "type": "carpet"
           }
          ],
          "choropleth": [
           {
            "colorbar": {
             "outlinewidth": 0,
             "ticks": ""
            },
            "type": "choropleth"
           }
          ],
          "contour": [
           {
            "colorbar": {
             "outlinewidth": 0,
             "ticks": ""
            },
            "colorscale": [
             [
              0,
              "#0d0887"
             ],
             [
              0.1111111111111111,
              "#46039f"
             ],
             [
              0.2222222222222222,
              "#7201a8"
             ],
             [
              0.3333333333333333,
              "#9c179e"
             ],
             [
              0.4444444444444444,
              "#bd3786"
             ],
             [
              0.5555555555555556,
              "#d8576b"
             ],
             [
              0.6666666666666666,
              "#ed7953"
             ],
             [
              0.7777777777777778,
              "#fb9f3a"
             ],
             [
              0.8888888888888888,
              "#fdca26"
             ],
             [
              1,
              "#f0f921"
             ]
            ],
            "type": "contour"
           }
          ],
          "contourcarpet": [
           {
            "colorbar": {
             "outlinewidth": 0,
             "ticks": ""
            },
            "type": "contourcarpet"
           }
          ],
          "heatmap": [
           {
            "colorbar": {
             "outlinewidth": 0,
             "ticks": ""
            },
            "colorscale": [
             [
              0,
              "#0d0887"
             ],
             [
              0.1111111111111111,
              "#46039f"
             ],
             [
              0.2222222222222222,
              "#7201a8"
             ],
             [
              0.3333333333333333,
              "#9c179e"
             ],
             [
              0.4444444444444444,
              "#bd3786"
             ],
             [
              0.5555555555555556,
              "#d8576b"
             ],
             [
              0.6666666666666666,
              "#ed7953"
             ],
             [
              0.7777777777777778,
              "#fb9f3a"
             ],
             [
              0.8888888888888888,
              "#fdca26"
             ],
             [
              1,
              "#f0f921"
             ]
            ],
            "type": "heatmap"
           }
          ],
          "heatmapgl": [
           {
            "colorbar": {
             "outlinewidth": 0,
             "ticks": ""
            },
            "colorscale": [
             [
              0,
              "#0d0887"
             ],
             [
              0.1111111111111111,
              "#46039f"
             ],
             [
              0.2222222222222222,
              "#7201a8"
             ],
             [
              0.3333333333333333,
              "#9c179e"
             ],
             [
              0.4444444444444444,
              "#bd3786"
             ],
             [
              0.5555555555555556,
              "#d8576b"
             ],
             [
              0.6666666666666666,
              "#ed7953"
             ],
             [
              0.7777777777777778,
              "#fb9f3a"
             ],
             [
              0.8888888888888888,
              "#fdca26"
             ],
             [
              1,
              "#f0f921"
             ]
            ],
            "type": "heatmapgl"
           }
          ],
          "histogram": [
           {
            "marker": {
             "pattern": {
              "fillmode": "overlay",
              "size": 10,
              "solidity": 0.2
             }
            },
            "type": "histogram"
           }
          ],
          "histogram2d": [
           {
            "colorbar": {
             "outlinewidth": 0,
             "ticks": ""
            },
            "colorscale": [
             [
              0,
              "#0d0887"
             ],
             [
              0.1111111111111111,
              "#46039f"
             ],
             [
              0.2222222222222222,
              "#7201a8"
             ],
             [
              0.3333333333333333,
              "#9c179e"
             ],
             [
              0.4444444444444444,
              "#bd3786"
             ],
             [
              0.5555555555555556,
              "#d8576b"
             ],
             [
              0.6666666666666666,
              "#ed7953"
             ],
             [
              0.7777777777777778,
              "#fb9f3a"
             ],
             [
              0.8888888888888888,
              "#fdca26"
             ],
             [
              1,
              "#f0f921"
             ]
            ],
            "type": "histogram2d"
           }
          ],
          "histogram2dcontour": [
           {
            "colorbar": {
             "outlinewidth": 0,
             "ticks": ""
            },
            "colorscale": [
             [
              0,
              "#0d0887"
             ],
             [
              0.1111111111111111,
              "#46039f"
             ],
             [
              0.2222222222222222,
              "#7201a8"
             ],
             [
              0.3333333333333333,
              "#9c179e"
             ],
             [
              0.4444444444444444,
              "#bd3786"
             ],
             [
              0.5555555555555556,
              "#d8576b"
             ],
             [
              0.6666666666666666,
              "#ed7953"
             ],
             [
              0.7777777777777778,
              "#fb9f3a"
             ],
             [
              0.8888888888888888,
              "#fdca26"
             ],
             [
              1,
              "#f0f921"
             ]
            ],
            "type": "histogram2dcontour"
           }
          ],
          "mesh3d": [
           {
            "colorbar": {
             "outlinewidth": 0,
             "ticks": ""
            },
            "type": "mesh3d"
           }
          ],
          "parcoords": [
           {
            "line": {
             "colorbar": {
              "outlinewidth": 0,
              "ticks": ""
             }
            },
            "type": "parcoords"
           }
          ],
          "pie": [
           {
            "automargin": true,
            "type": "pie"
           }
          ],
          "scatter": [
           {
            "marker": {
             "colorbar": {
              "outlinewidth": 0,
              "ticks": ""
             }
            },
            "type": "scatter"
           }
          ],
          "scatter3d": [
           {
            "line": {
             "colorbar": {
              "outlinewidth": 0,
              "ticks": ""
             }
            },
            "marker": {
             "colorbar": {
              "outlinewidth": 0,
              "ticks": ""
             }
            },
            "type": "scatter3d"
           }
          ],
          "scattercarpet": [
           {
            "marker": {
             "colorbar": {
              "outlinewidth": 0,
              "ticks": ""
             }
            },
            "type": "scattercarpet"
           }
          ],
          "scattergeo": [
           {
            "marker": {
             "colorbar": {
              "outlinewidth": 0,
              "ticks": ""
             }
            },
            "type": "scattergeo"
           }
          ],
          "scattergl": [
           {
            "marker": {
             "colorbar": {
              "outlinewidth": 0,
              "ticks": ""
             }
            },
            "type": "scattergl"
           }
          ],
          "scattermapbox": [
           {
            "marker": {
             "colorbar": {
              "outlinewidth": 0,
              "ticks": ""
             }
            },
            "type": "scattermapbox"
           }
          ],
          "scatterpolar": [
           {
            "marker": {
             "colorbar": {
              "outlinewidth": 0,
              "ticks": ""
             }
            },
            "type": "scatterpolar"
           }
          ],
          "scatterpolargl": [
           {
            "marker": {
             "colorbar": {
              "outlinewidth": 0,
              "ticks": ""
             }
            },
            "type": "scatterpolargl"
           }
          ],
          "scatterternary": [
           {
            "marker": {
             "colorbar": {
              "outlinewidth": 0,
              "ticks": ""
             }
            },
            "type": "scatterternary"
           }
          ],
          "surface": [
           {
            "colorbar": {
             "outlinewidth": 0,
             "ticks": ""
            },
            "colorscale": [
             [
              0,
              "#0d0887"
             ],
             [
              0.1111111111111111,
              "#46039f"
             ],
             [
              0.2222222222222222,
              "#7201a8"
             ],
             [
              0.3333333333333333,
              "#9c179e"
             ],
             [
              0.4444444444444444,
              "#bd3786"
             ],
             [
              0.5555555555555556,
              "#d8576b"
             ],
             [
              0.6666666666666666,
              "#ed7953"
             ],
             [
              0.7777777777777778,
              "#fb9f3a"
             ],
             [
              0.8888888888888888,
              "#fdca26"
             ],
             [
              1,
              "#f0f921"
             ]
            ],
            "type": "surface"
           }
          ],
          "table": [
           {
            "cells": {
             "fill": {
              "color": "#EBF0F8"
             },
             "line": {
              "color": "white"
             }
            },
            "header": {
             "fill": {
              "color": "#C8D4E3"
             },
             "line": {
              "color": "white"
             }
            },
            "type": "table"
           }
          ]
         },
         "layout": {
          "annotationdefaults": {
           "arrowcolor": "#2a3f5f",
           "arrowhead": 0,
           "arrowwidth": 1
          },
          "autotypenumbers": "strict",
          "coloraxis": {
           "colorbar": {
            "outlinewidth": 0,
            "ticks": ""
           }
          },
          "colorscale": {
           "diverging": [
            [
             0,
             "#8e0152"
            ],
            [
             0.1,
             "#c51b7d"
            ],
            [
             0.2,
             "#de77ae"
            ],
            [
             0.3,
             "#f1b6da"
            ],
            [
             0.4,
             "#fde0ef"
            ],
            [
             0.5,
             "#f7f7f7"
            ],
            [
             0.6,
             "#e6f5d0"
            ],
            [
             0.7,
             "#b8e186"
            ],
            [
             0.8,
             "#7fbc41"
            ],
            [
             0.9,
             "#4d9221"
            ],
            [
             1,
             "#276419"
            ]
           ],
           "sequential": [
            [
             0,
             "#0d0887"
            ],
            [
             0.1111111111111111,
             "#46039f"
            ],
            [
             0.2222222222222222,
             "#7201a8"
            ],
            [
             0.3333333333333333,
             "#9c179e"
            ],
            [
             0.4444444444444444,
             "#bd3786"
            ],
            [
             0.5555555555555556,
             "#d8576b"
            ],
            [
             0.6666666666666666,
             "#ed7953"
            ],
            [
             0.7777777777777778,
             "#fb9f3a"
            ],
            [
             0.8888888888888888,
             "#fdca26"
            ],
            [
             1,
             "#f0f921"
            ]
           ],
           "sequentialminus": [
            [
             0,
             "#0d0887"
            ],
            [
             0.1111111111111111,
             "#46039f"
            ],
            [
             0.2222222222222222,
             "#7201a8"
            ],
            [
             0.3333333333333333,
             "#9c179e"
            ],
            [
             0.4444444444444444,
             "#bd3786"
            ],
            [
             0.5555555555555556,
             "#d8576b"
            ],
            [
             0.6666666666666666,
             "#ed7953"
            ],
            [
             0.7777777777777778,
             "#fb9f3a"
            ],
            [
             0.8888888888888888,
             "#fdca26"
            ],
            [
             1,
             "#f0f921"
            ]
           ]
          },
          "colorway": [
           "#636efa",
           "#EF553B",
           "#00cc96",
           "#ab63fa",
           "#FFA15A",
           "#19d3f3",
           "#FF6692",
           "#B6E880",
           "#FF97FF",
           "#FECB52"
          ],
          "font": {
           "color": "#2a3f5f"
          },
          "geo": {
           "bgcolor": "white",
           "lakecolor": "white",
           "landcolor": "#E5ECF6",
           "showlakes": true,
           "showland": true,
           "subunitcolor": "white"
          },
          "hoverlabel": {
           "align": "left"
          },
          "hovermode": "closest",
          "mapbox": {
           "style": "light"
          },
          "paper_bgcolor": "white",
          "plot_bgcolor": "#E5ECF6",
          "polar": {
           "angularaxis": {
            "gridcolor": "white",
            "linecolor": "white",
            "ticks": ""
           },
           "bgcolor": "#E5ECF6",
           "radialaxis": {
            "gridcolor": "white",
            "linecolor": "white",
            "ticks": ""
           }
          },
          "scene": {
           "xaxis": {
            "backgroundcolor": "#E5ECF6",
            "gridcolor": "white",
            "gridwidth": 2,
            "linecolor": "white",
            "showbackground": true,
            "ticks": "",
            "zerolinecolor": "white"
           },
           "yaxis": {
            "backgroundcolor": "#E5ECF6",
            "gridcolor": "white",
            "gridwidth": 2,
            "linecolor": "white",
            "showbackground": true,
            "ticks": "",
            "zerolinecolor": "white"
           },
           "zaxis": {
            "backgroundcolor": "#E5ECF6",
            "gridcolor": "white",
            "gridwidth": 2,
            "linecolor": "white",
            "showbackground": true,
            "ticks": "",
            "zerolinecolor": "white"
           }
          },
          "shapedefaults": {
           "line": {
            "color": "#2a3f5f"
           }
          },
          "ternary": {
           "aaxis": {
            "gridcolor": "white",
            "linecolor": "white",
            "ticks": ""
           },
           "baxis": {
            "gridcolor": "white",
            "linecolor": "white",
            "ticks": ""
           },
           "bgcolor": "#E5ECF6",
           "caxis": {
            "gridcolor": "white",
            "linecolor": "white",
            "ticks": ""
           }
          },
          "title": {
           "x": 0.05
          },
          "xaxis": {
           "automargin": true,
           "gridcolor": "white",
           "linecolor": "white",
           "ticks": "",
           "title": {
            "standoff": 15
           },
           "zerolinecolor": "white",
           "zerolinewidth": 2
          },
          "yaxis": {
           "automargin": true,
           "gridcolor": "white",
           "linecolor": "white",
           "ticks": "",
           "title": {
            "standoff": 15
           },
           "zerolinecolor": "white",
           "zerolinewidth": 2
          }
         }
        },
        "xaxis": {
         "anchor": "y",
         "domain": [
          0,
          1
         ],
         "title": {
          "text": "air_metric"
         }
        },
        "yaxis": {
         "anchor": "x",
         "domain": [
          0,
          1
         ],
         "title": {
          "text": "pop_metric"
         }
        }
       }
      }
     },
     "metadata": {},
     "output_type": "display_data"
    }
   ],
   "source": [
    "px.scatter(data_frame=dfc2, \n",
    "y = dfc2['pop_metric'], \n",
    "x = dfc2['air_metric'], \n",
    "color = dfc2['scenario'], \n",
    "hover_name = dfc2['label'])"
   ]
  },
  {
   "cell_type": "code",
   "execution_count": 47,
   "id": "5d02cfc2",
   "metadata": {},
   "outputs": [
    {
     "data": {
      "text/plain": [
       "<seaborn.axisgrid.FacetGrid at 0x7fa700ae2a90>"
      ]
     },
     "execution_count": 47,
     "metadata": {},
     "output_type": "execute_result"
    },
    {
     "data": {
      "image/png": "[encoded data removed]",
      "text/plain": [
       "<Figure size 458.85x360 with 1 Axes>"
      ]
     },
     "metadata": {},
     "output_type": "display_data"
    }
   ],
   "source": [
    "\n",
    "\n",
    "sns.relplot(y = dfc2['pop_metric'], x = dfc2['air_metric'], \n",
    "    hue = dfc2['scenario'], \n",
    "    palette='coolwarm',\n",
    "    style = dfc2['PartiallyRetired'])\n",
    "    "
   ]
  },
  {
   "cell_type": "code",
   "execution_count": 48,
   "metadata": {},
   "outputs": [
    {
     "data": {
      "text/plain": [
       "scenario\n",
       "1    1855108\n",
       "2    1107309\n",
       "3     138628\n",
       "4     254365\n",
       "Name: ORISPL, dtype: int64"
      ]
     },
     "execution_count": 48,
     "metadata": {},
     "output_type": "execute_result"
    }
   ],
   "source": [
    "dfc2.groupby('scenario')['ORISPL'].sum()"
   ]
  },
  {
   "cell_type": "code",
   "execution_count": 49,
   "id": "4d2247d3",
   "metadata": {},
   "outputs": [
    {
     "data": {
      "text/plain": [
       "<seaborn.axisgrid.JointGrid at 0x7fa720961a60>"
      ]
     },
     "execution_count": 49,
     "metadata": {},
     "output_type": "execute_result"
    },
    {
     "data": {
      "image/png": "[encoded data removed]",
      "text/plain": [
       "<Figure size 720x720 with 3 Axes>"
      ]
     },
     "metadata": {},
     "output_type": "display_data"
    }
   ],
   "source": [
    "pt = sns.jointplot(\n",
    "    y = dfc2['perc_metric'], \n",
    "    x = dfc2['air_metric'], \n",
    "    hue = dfc2['scenario'], \n",
    "    #size = dfc2['GENNTAN'],\n",
    "    palette='coolwarm',\n",
    "    xlim=(0,160),\n",
    "    ylim=(-20,175),\n",
    "    height=10, ratio = 6,space = 0.1) \n",
    "\n",
    "\n",
    "pt.ax_joint.axvline(x=100, color = 'crimson', ls='--', lw = 1)\n",
    "pt.ax_marg_x.axvline(x=100, color = 'crimson', ls='--', lw = 1)\n",
    "\n",
    "pt.ax_joint.axhline(y=100, color = 'crimson', ls='--', lw = 1)\n",
    "pt.ax_marg_y.axhline(y=100, color = 'crimson', ls='--', lw = 1)\n",
    "\n",
    "pt.fig.suptitle('Distribution of Powerplant EJ and Pollution Scores', size = 16)\n",
    "pt.fig.subplots_adjust(top=.95)\n",
    "\n",
    "pt.set_axis_labels('Air Pollution Score', 'Disadvantaged Communities Score', fontsize=12)\n",
    "\n",
    "########pt.savefig('filename.png', dpi=300)"
   ]
  },
  {
   "cell_type": "code",
   "execution_count": 50,
   "id": "fa8a257d",
   "metadata": {},
   "outputs": [
    {
     "data": {
      "text/plain": [
       "scenario\n",
       "1    0.265060\n",
       "2    0.193277\n",
       "3    0.346154\n",
       "4    0.055556\n",
       "Name: PartiallyRetired, dtype: float64"
      ]
     },
     "execution_count": 50,
     "metadata": {},
     "output_type": "execute_result"
    }
   ],
   "source": [
    "dfc2.groupby('scenario')['PartiallyRetired'].sum()/dfc2.groupby('scenario')['PartiallyRetired'].count()"
   ]
  },
  {
   "cell_type": "code",
   "execution_count": 51,
   "id": "61082575",
   "metadata": {},
   "outputs": [],
   "source": [
    "pret = dfc2\n",
    "def plannedRet (id):\n",
    "    if id > 1:\n",
    "        return 1\n",
    "    else:\n",
    "        return 0\n",
    "\n",
    "pret['plannedRet'] = pret['GENYRRET'].apply(plannedRet)\n",
    "\n",
    "pret['affectedDAC'] = pret['affectedDAC'].replace(-1, 0)"
   ]
  },
  {
   "cell_type": "code",
   "execution_count": 52,
   "id": "4315f25a",
   "metadata": {},
   "outputs": [
    {
     "name": "stdout",
     "output_type": "stream",
     "text": [
      "Optimization terminated successfully.\n",
      "         Current function value: 0.607421\n",
      "         Iterations 5\n",
      "                           Logit Regression Results                           \n",
      "==============================================================================\n",
      "Dep. Variable:             plannedRet   No. Observations:                  264\n",
      "Model:                          Logit   Df Residuals:                      258\n",
      "Method:                           MLE   Df Model:                            5\n",
      "Date:                Sat, 02 Jul 2022   Pseudo R-squ.:                -0.01196\n",
      "Time:                        12:53:46   Log-Likelihood:                -160.36\n",
      "converged:                       True   LL-Null:                       -158.46\n",
      "Covariance Type:            nonrobust   LLR p-value:                     1.000\n",
      "=============================================================================================================\n",
      "                                                coef    std err          z      P>|z|      [0.025      0.975]\n",
      "-------------------------------------------------------------------------------------------------------------\n",
      "GENNTAN                                    1.069e-08   5.24e-08      0.204      0.838    -9.2e-08    1.13e-07\n",
      "air_metric                                   -0.0045      0.004     -1.260      0.208      -0.012       0.003\n",
      "PartiallyRetired                              0.5397      0.328      1.644      0.100      -0.104       1.183\n",
      "affectedDAC                                2.027e-05   4.55e-05      0.445      0.656    -6.9e-05       0.000\n",
      "National percentile for Demographic Index    -0.0122      0.007     -1.705      0.088      -0.026       0.002\n",
      "total population (ACS2018)                -1.674e-05   2.67e-05     -0.626      0.531   -6.92e-05    3.57e-05\n",
      "=============================================================================================================\n"
     ]
    }
   ],
   "source": [
    "import statsmodels.api as sm\n",
    "\n",
    "\n",
    "\n",
    "# defining the dependent and independent variables\n",
    "Xtrain = pret[['GENNTAN', 'air_metric',  'PartiallyRetired', 'affectedDAC', 'National percentile for Demographic Index', 'total population (ACS2018)']]\n",
    "ytrain = pret[['plannedRet']]\n",
    "\n",
    "# building the model and fitting the data\n",
    "log_reg = sm.Logit(ytrain, Xtrain).fit()\n",
    "\n",
    "print(log_reg.summary())"
   ]
  },
  {
   "cell_type": "markdown",
   "id": "97aab5a7",
   "metadata": {},
   "source": [
    "# MAP CREATION"
   ]
  },
  {
   "cell_type": "markdown",
   "id": "d90b2f64",
   "metadata": {},
   "source": [
    "### retired plants trace"
   ]
  },
  {
   "cell_type": "code",
   "execution_count": 53,
   "id": "4c83b088",
   "metadata": {},
   "outputs": [
    {
     "data": {
      "application/vnd.plotly.v1+json": {
       "config": {
        "plotlyServerURL": "https://plot.ly"
       },
       "data": [
        {
         "lat": [
          45.6183,
          45.062836,
          30.681823,
          39.4261,
          42.665941,
          44.43,
          44.3142,
          39.3265,
          40.533299,
          40.679853,
          28.5814,
          37.2939,
          37.2978,
          33.3644,
          37.1183,
          36.6525,
          45.0203,
          43.7014,
          44.0282,
          36.6,
          45.0975,
          37.9414,
          46.7356,
          47.522428,
          41.0489,
          40.474167,
          46.7644,
          33.8244,
          31.444728,
          33.4622,
          32.1486,
          32.143989,
          31.844708,
          42.0258,
          42.0275,
          42.513608,
          41.4569,
          41.3981,
          43.1606,
          37.0719,
          37.8806,
          30.2861,
          39.323604,
          41.5712,
          42.1117,
          42.6789,
          42.6028,
          36.145896,
          37.180441,
          37.2319,
          32.5036,
          37.4556,
          39.1229,
          37.108611,
          40.7478,
          40.1792,
          47.286643,
          38.9917,
          35.3317,
          34.2338,
          38.5201,
          41.645,
          43.0978,
          39.2908,
          39.6831,
          40.873399,
          35.7133,
          36.4862,
          42.8183,
          42.988611,
          46.5789,
          39.178319,
          39.0919,
          38.3114,
          39.7246,
          38.4004,
          39.4492,
          34.2528,
          39.0814,
          39.711319,
          40.758858,
          40.7551,
          42.506,
          42.156898,
          37.3706,
          39.807275,
          40.0195,
          37.3636,
          37.2608,
          38.0478,
          38.1831,
          41.737,
          41.7103,
          41.792114,
          41.6925,
          39.4098,
          40.9692,
          40.5417,
          40.88,
          41.8081,
          47.5306,
          43.0821,
          46.530598,
          45.771667,
          37.8425,
          37.6469,
          38.5961,
          33.195,
          39.7167,
          41.8285,
          41.8508,
          42.7178,
          35.7322,
          38.1707,
          41.9086,
          34.6474,
          38.597755,
          44.0361,
          44.4872,
          30.4308,
          30.4172,
          42.5256,
          43.258768,
          43.215,
          38.82,
          38.964646,
          38.9461,
          39.5908,
          39.3672,
          47.286573,
          38.2383,
          39.7631,
          39.48517,
          39.1492,
          42.2081,
          45.121705,
          30.4392,
          33.5153,
          37.361315,
          27.7944,
          43.8519,
          39.2315,
          45.77562,
          36.657347,
          35.1458,
          35.595,
          35.3775,
          34.59,
          39.7933,
          39.6088,
          30.7261,
          35.547452,
          36.190278,
          41.494636,
          30.6692,
          30.2689,
          40.048889,
          39.595,
          38.1366,
          34.0128,
          44.8108,
          41.2578,
          43.2689,
          43.1989,
          40.9692,
          39.0586,
          39.7539,
          43.639927,
          42.7956,
          38.6839,
          42.491467,
          42.0917,
          36.435,
          34.2831,
          42.1103,
          30.5661,
          41.9839,
          37.9631,
          37.6461,
          39.4889,
          36.6,
          41.5356,
          41.2119,
          39.9094,
          28.0801,
          27.7286,
          42.2739,
          38.6361,
          38.6903,
          41.1669,
          33.2422,
          32.0603,
          38.0921,
          42.5734,
          42.2806,
          34.5889,
          35.36,
          41.6711,
          33.644344,
          38.8639,
          42.0473,
          41.54,
          42.5381,
          42.0317,
          36.9047,
          44.9331,
          34.3853,
          34.6022,
          31.8206,
          39.7272,
          36.9333,
          37.3439,
          38.8203,
          37.7089,
          38.2056,
          38.380833,
          38.9669,
          39.4886,
          39.7475,
          44.0707,
          44.308333,
          42.3075,
          39.175,
          39.1379,
          39.843743,
          41.2033,
          39.8556,
          34.4017,
          39.3672,
          39.8461,
          44.4936,
          39.1333,
          39.8194,
          39.53,
          40.2211,
          40.910205,
          40.3056,
          33.8253,
          44.0872,
          35.074087,
          39.2623,
          46.5869,
          43.0792,
          32.16,
          42.97,
          40.2518,
          40.8361,
          40.1514,
          37.3389,
          36.7711,
          37.2144,
          39.6397,
          43.0303,
          42.7225,
          37.910278,
          41.4931,
          41.06755,
          39.8709,
          33.2906,
          43.046,
          29.308056,
          34.7439,
          34.883022,
          39.519989,
          40.850964,
          40.9292,
          33.0647,
          34.0556,
          33.435,
          40.4663,
          40.6348,
          42.1103,
          41.1706,
          39.0539,
          44.082,
          44.2,
          44.2872,
          40.6672,
          43.9703,
          34.505,
          38.4344,
          39.67,
          39.1486,
          42.4533,
          39.975,
          39.858,
          36.3767,
          36.0278,
          43.0676,
          43.0704,
          31.2186,
          39.4086,
          33.0917,
          31.395,
          32.6017,
          40.2797,
          41.3028,
          40.1781,
          40.1267,
          30.4225,
          39.7606,
          41.524315,
          36.8702,
          47.5314,
          42.6602,
          33.9444,
          41.1764,
          35.765767,
          34.6,
          46.87,
          35.0821,
          63.8542,
          30.565871,
          30.5681,
          42.5328,
          35.5765,
          41.1386,
          35.535,
          40.937939,
          40.4172,
          40.4439,
          44.5679,
          39.4736,
          35.7415,
          41.4282,
          32.356287,
          30.619937,
          40.263,
          37.9119,
          31.3261,
          36.4364,
          35.4731,
          36.4364,
          46.3758,
          32.5369,
          44.54,
          43.0653,
          27.0389,
          45.6394,
          40.7119,
          40.792778,
          37.953889,
          31.9698,
          45.7778,
          46.4094,
          39.798175,
          43.6233,
          43.8769,
          41.491466,
          43.6058,
          40.3892,
          42.0469,
          48.9089,
          33.3278,
          39.7941,
          43.266389
         ],
         "legendgroup": "group",
         "legendgrouptitle": {
          "text": "Retired Plants"
         },
         "lon": [
          -94.2005,
          -83.423333,
          -81.455413,
          -91.0258,
          -93.902606,
          -89.78,
          -89.8964,
          -82.9744,
          -78.384125,
          -78.233464,
          -82.4303,
          -77.2697,
          -77.283,
          -81.03,
          -79.2726,
          -76.9953,
          -93.2753,
          -92.9626,
          -92.4604,
          -78.53,
          -87.5958,
          -121.3396,
          -92.1531,
          -92.540951,
          -81.4736,
          -78.7014,
          -89.5669,
          -84.475,
          -84.134696,
          -84.8986,
          -81.1458,
          -81.14655,
          -83.940734,
          -93.6089,
          -93.6394,
          -92.459122,
          -90.8233,
          -92.9144,
          -95.2569,
          -94.6986,
          -84.2619,
          -93.2917,
          -76.365119,
          -73.975,
          -75.9747,
          -76.9483,
          -76.6336,
          -86.803833,
          -80.542767,
          -80.4211,
          -82.8443,
          -77.4308,
          -93.2011,
          -93.261944,
          -74.0722,
          -74.7339,
          -101.331908,
          -84.2981,
          -77.4786,
          -80.6558,
          -87.2662,
          -87.1225,
          -70.7842,
          -74.6364,
          -75.5083,
          -75.993494,
          -80.3767,
          -79.7208,
          -82.4856,
          -82.436667,
          -87.395,
          -94.184445,
          -94.3261,
          -93.9348,
          -94.8773,
          -86.9146,
          -90.6141,
          -85.3456,
          -84.8594,
          -86.196867,
          -86.360289,
          -86.0575,
          -90.6527,
          -72.524153,
          -80.8633,
          -104.964548,
          -105.202,
          -87.1214,
          -86.9783,
          -84.8483,
          -85.8892,
          -71.146,
          -71.1931,
          -83.44948,
          -83.4375,
          -84.5544,
          -81.7756,
          -84.3892,
          -82.6567,
          -90.233611,
          -92.1619,
          -79.0012,
          -87.392206,
          -87.063922,
          -87.5911,
          -87.5028,
          -82.8394,
          -83.2983,
          -90.2372,
          -87.7229,
          -87.6533,
          -84.4836,
          -95.2939,
          -82.6176,
          -80.7697,
          -78.6407,
          -90.210671,
          -75.7712,
          -89.5703,
          -81.5508,
          -81.5525,
          -70.8772,
          -86.242268,
          -86.3041,
          -90.8181,
          -92.316768,
          -92.3328,
          -81.6797,
          -81.5208,
          -91.260531,
          -108.5069,
          -86.1667,
          -86.4183,
          -94.6381,
          -83.1453,
          -95.053236,
          -89.0286,
          -90.2072,
          -94.58926,
          -82.4036,
          -82.6436,
          -94.308,
          -108.480999,
          -114.633263,
          -114.5917,
          -79.0495,
          -78.0875,
          -78.9968,
          -83.0097,
          -84.2921,
          -91.3692,
          -119.07536,
          -95.2894,
          -88.123827,
          -84.8869,
          -85.7003,
          -86.8992,
          -77.8269,
          -81.279,
          -85.9708,
          -93.2501,
          -73.9797,
          -77.6294,
          -77.6319,
          -81.7736,
          -89.4031,
          -89.6011,
          -83.844712,
          -86.1133,
          -91.7558,
          -79.346631,
          -79.2417,
          -78.9619,
          -77.9853,
          -104.8828,
          -87.2244,
          -91.6686,
          -86.7911,
          -87.5019,
          -75.0347,
          -104.65,
          -81.6419,
          -80.8176,
          -80.7608,
          -81.9229,
          -81.9897,
          -83.1119,
          -83.6939,
          -83.4803,
          -80.7477,
          -79.9875,
          -109.8931,
          -102.6148,
          -90.6923,
          -72.6055,
          -78.975,
          -80.9742,
          -81.4425,
          -87.196486,
          -90.1347,
          -92.8594,
          -90.4481,
          -87.9033,
          -84.755,
          -111.3886,
          -93.1075,
          -80.0678,
          -82.435,
          -96.0544,
          -110.8644,
          -82.1997,
          -80.765,
          -77.0411,
          -78.2878,
          -81.4211,
          -81.7725,
          -81.9231,
          -79.6369,
          -80.8547,
          -88.6426,
          -91.911111,
          -71.8019,
          -84.5042,
          -84.5049,
          -75.358801,
          -76.0683,
          -79.9275,
          -80.1589,
          -81.3,
          -80.8186,
          -88.0303,
          -87.6597,
          -90.5647,
          -87.4247,
          -79.9683,
          -75.079398,
          -75.9081,
          -79.0528,
          -103.261,
          -90.14868,
          -79.3306,
          -90.9017,
          -89.3739,
          -110.9047,
          -78.93,
          -79.918,
          -76.825,
          -75.5306,
          -77.2806,
          -76.3019,
          -76.4611,
          -79.960556,
          -87.9233,
          -91.0085,
          -87.926111,
          -88.1153,
          -78.366228,
          -76.8681,
          -81.6831,
          -88.0281,
          -98.3228,
          -87.8486,
          -85.755253,
          -84.406153,
          -81.765764,
          -79.4656,
          -80.6228,
          -81.2172,
          -81.9111,
          -89.9841,
          -80.4159,
          -104.8828,
          -73.1844,
          -95.568889,
          -87.6558,
          -88.4853,
          -105.3878,
          -80.3465,
          -104.4106,
          -110.3355,
          -105.25,
          -105.0028,
          -108.3189,
          -76.4758,
          -75.7574,
          -75.323,
          -82.9639,
          -87.9861,
          -89.4165,
          -89.4049,
          -89.394,
          -84.5622,
          -95.0417,
          -92.716667,
          -87.7811,
          -90.08,
          -89.315,
          -87.7481,
          -87.6233,
          -81.6064,
          -105.215,
          -90.43659,
          -76.3529,
          -90.9114,
          -83.2982,
          -78.0125,
          -79.4414,
          -117.383584,
          -117.3333,
          -89.3261,
          -90.1348,
          -148.95,
          -97.064032,
          -97.0614,
          -114.4328,
          -119.0061,
          -92.6467,
          -82.8411,
          -80.369007,
          -86.9122,
          -86.86,
          -70.6589,
          -79.0569,
          -119.0512,
          -72.1005,
          -81.168347,
          -96.081846,
          -103.8069,
          -121.2611,
          -84.8979,
          -77.6167,
          -82.5417,
          -77.6167,
          -94.1817,
          -94.3993,
          -88.0086,
          -76.2086,
          -80.5125,
          -89.4205,
          -112.1225,
          -77.864722,
          -91.774444,
          -87.4806,
          -87.9861,
          -86.6443,
          -88.349771,
          -88.7297,
          -116.9894,
          -78.675759,
          -116.5753,
          -91.3942,
          -104.1863,
          -97.8865,
          -86.3583,
          -84.0805,
          -82.619167
         ],
         "marker": {
          "color": "LightGrey",
          "line": {
           "color": "gray",
           "width": 1
          },
          "size": [
           0.189405,
           0.08132666666666667,
           1.1001917,
           0.09475280166666666,
           0.0005683333333333333,
           0.27363166666666666,
           0.3698250616666667,
           0.8502916666666667,
           0.011866666666666666,
           0.027190895,
           0.9999016666666667,
           0.028596666666666666,
           0.041558333333333336,
           3.086015,
           0.26935,
           0.0624,
           3.8474866666666667,
           0.015816666666666666,
           0.008955,
           0.09664,
           0.004453916666666667,
           0.08449166666666667,
           0.12687833333333334,
           0.13195666666666667,
           0.16020028333333333,
           0.183515,
           0.019721666666666665,
           3.363208333333333,
           0.12185,
           1.1934233333333333,
           0.98651,
           0.07106333333333334,
           0.002416666666666667,
           0.47195,
           0.177545,
           0.021785,
           0.18325166333333334,
           0.042235,
           0.04500333333333333,
           1.0609,
           0.02677,
           10.353736688333333,
           0.35292666666666667,
           0.5349083333333333,
           0.428335,
           0.9075033333333333,
           0.136845,
           0.04734666666666667,
           0.049995,
           0.0465406,
           0.34157655,
           0.027031666666666666,
           0.04612,
           1.189555,
           0.4796433333333333,
           0.00311,
           1.78986,
           2.5819016666666665,
           0.040612583333333334,
           0.019750171666666667,
           1.0000316666666667,
           0.30661666666666665,
           1.2696633333333334,
           0.023406666666666666,
           0.30276,
           0.22129166666666666,
           1.8942583333333334,
           0.9912,
           0.0178965,
           0.050870033333333335,
           0.3981166666666667,
           1.610545,
           0.08747833333333334,
           0.69679,
           0.41260166666666664,
           0.00040333333333333334,
           0.007011666666666667,
           0.18765833333333334,
           4.337733333333333,
           6.413161666666666,
           0.191315,
           0.0009483333333333334,
           0.25354166666666667,
           0.03777333333333333,
           0.15346833333333335,
           7.723155,
           1.684275,
           1.7130433333333333,
           15.834571666666667,
           0.22881166666666666,
           4.172881666666667,
           0.192485,
           3.223455,
           0.7007816666666666,
           5.951531666666667,
           0.18166333333333334,
           0.00967575,
           0.0725498,
           0.11261166666666667,
           1.3130216666666668,
           0.5780766666666667,
           0.5070462833333333,
           0.20879166666666665,
           0.041398333333333336,
           0.12438824999999999,
           0.022686666666666667,
           0.60745,
           4.2297666666666665,
           0.007203333333333333,
           2.0946167116666667,
           1.4849433349999999,
           0.5193476466666667,
           0.6925583333333334,
           7.847455,
           0.31380166666666665,
           0.006988333333333333,
           0.08149666666666666,
           0.13615,
           0.05397333333333333,
           8.225698333333334,
           6.463731666666667,
           0.4329266666666667,
           0.9266566666666667,
           0.01592,
           0.00044333333333333334,
           0.11807500333333332,
           0.2752016666666667,
           5.428365,
           1.3311333333333333,
           0.304065,
           0.17507833333333334,
           0.01227584,
           0.173905,
           1.7874266650000001,
           0.2898561333333333,
           0.06144,
           7.020621666666667,
           0.009586666666666667,
           1.3815516666666667,
           6.483205,
           0.12336833333333333,
           0.025478333333333332,
           0.9675183333333334,
           0.5302866666666667,
           17.560691666666667,
           0.7863666616666666,
           4.5725843155,
           0.00709,
           0.006595,
           0.07585166666666666,
           5.45659,
           0.19285708333333335,
           3.844193333333333,
           8.43571,
           0.052728333333333335,
           7.370748333333333,
           0.03561333333333333,
           0.14077,
           0.18422826666666667,
           0.36125,
           3.070156668333333,
           2.754415,
           1.6357533333333334,
           0.63326,
           0.0240458,
           4.47065,
           0.0033866666666666667,
           0.696175,
           0.08539666666666666,
           0.47977167,
           0.61414,
           0.10397833333333334,
           0.15829,
           2.1358783533333336,
           12.219836684444445,
           4.4466833333333335,
           0.26382666666666665,
           1.7741033333333334,
           0.3342833333333333,
           0.024558333333333335,
           0.045631483333333334,
           0.306875,
           0.03493,
           1.7901,
           6.340695,
           2.8402766683333334,
           1.0403433333333334,
           3.4625416666666666,
           2.4369483333333335,
           0.075265,
           0.8880166649999998,
           3.447965,
           0.19596333333333332,
           0.003843333333333333,
           0.008726666666666667,
           1.0627316666666666,
           0.2596433266666667,
           1.9736016666666667,
           0.8179333333333333,
           1.4223783333333333,
           0.37100667000000004,
           1.0597266666666667,
           2.956383333333333,
           0.135085,
           16.58259,
           2.2467966666666666,
           0.13333,
           0.5745466666666666,
           1.3652366666666667,
           2.1394083333333334,
           1.2153233333333333,
           0.25464435500000004,
           0.5084866666666666,
           0.58644333,
           2.581471666666667,
           0.03043350833333333,
           2.37593,
           0.28241499666666664,
           0.6355409433333333,
           0.07226975,
           0.11549,
           0.02598,
           0.05505,
           0.000175,
           0.33333,
           0.17291666666666666,
           16.139695038333333,
           9.337305003333334,
           0.02288,
           1.70636,
           0.7835333333333333,
           0.9300516666666667,
           1.3113033333333333,
           0.855188335,
           1.9390733716666668,
           0.408095,
           0.13505666666666666,
           0.6744266666666666,
           0.16033666666666666,
           5.801099986666666,
           0.19617333333333334,
           0.5617933333333334,
           0.04388333333333334,
           1.4046983333333334,
           0.42623,
           0.12058833333333334,
           0.159115,
           0.9395933333333333,
           0.014225245000000001,
           2.3429116666666667,
           0.8009,
           0.57355,
           0.905365,
           1.8433316666666666,
           0.02925,
           1.877215,
           3.8824133316666662,
           0.7989968183333334,
           0.04366333333333333,
           0.015571666666666666,
           7.661018333333334,
           1.240555,
           6.1764133333333335,
           0.004785,
           0.024718333333333332,
           0.5518300033333333,
           2.75364169,
           2.296221666666667,
           1.639875,
           3.73542,
           1.0907216666666666,
           6.109918342222222,
           0.5549916666666667,
           0.45773833333333336,
           0.5571416666666666,
           0.015174341666666665,
           0.042383333333333335,
           0.807725,
           0.22356333333333334,
           0.32142028500000003,
           0.372745,
           1.3202766716666667,
           0.59963,
           0.04315186666666666,
           0.00245405,
           3.390395,
           6.400716666666667,
           2.7995550066666666,
           0.009130783333333333,
           0.06156,
           0.19888333333333333,
           0.12622184333333333,
           12.546641666666666,
           8.363006666666667,
           4.763206664999999,
           2.4557083333333334,
           1.575075,
           1.1457616666666666,
           0.044065,
           0.166275,
           0.30930783,
           0.004516966666666666,
           0.17986166666666667,
           0.8545266666666667,
           0.062033333333333336,
           0.21995833333333334,
           0.4508800033333333,
           0.552025,
           0.2380360333333333,
           0.068387475,
           0.041771666666666665,
           0.5742666666666667,
           0.17851,
           0.23573833333333333,
           0.08661906333333334,
           0.4973533333333333,
           0.09822908666666666,
           0.5601833333333334,
           0.5020333333333333,
           0.172232315,
           0.043027583333333334,
           1.2140331333333334,
           0.55583001,
           0.12097333333333334,
           2.3183066666666665,
           0.10000833333333334,
           1.3107516666666668,
           0.011475,
           0.14543166666666668,
           1.0080504166666666,
           0.08923166666666667,
           2.1900066666666667,
           0.013341666666666667,
           0.03309023333333333,
           0.00009166666666666667,
           1.17887,
           0.131580865,
           0.012705,
           0.07952666666666666,
           1.083465,
           0.019994933333333333,
           0.0005233333333333333,
           0.8573733333333333,
           0.17927801666666665,
           0.00094,
           0.06765666666666667,
           0.0031666666666666666,
           0.005111983333333334,
           0.36534833333333333,
           0.06659,
           0.22557833333333333,
           0.009325,
           0.0002916666666666667,
           0.23748029999999998,
           0.00399155,
           0.0038783333333333335
          ],
          "symbol": "circle"
         },
         "mode": "markers",
         "name": "Coal Plants Retired Since 2005",
         "text": [
          "2010: International Paper Sartell Mill, MN",
          "2014: Decorative Panels Intl, MI",
          "2016: Fernandina Beach Mill, FL",
          "2010: Ashland Inc, MO",
          "2014: AG Processing Inc, IA",
          "2019: Biron Mill, WI",
          "2012: Georgia-Pacific Corp - Nekoosa Mill, WI",
          "2010: P H Glatfelter Co -Chillicothe Facility, OH",
          "2014: Juniata Locomotive Shop, PA",
          "2016: American Eagle Paper Mills, PA",
          "2010: Central Power & Lime, FL",
          "2019: City Point Energy Center, VA",
          "2012: Hopewell Power Station, VA",
          "2019: Cope Station, SC",
          "2010: Altavista Power Station, VA",
          "2012: Southampton Power Station, VA",
          "2005: Riverside, MN",
          "2012: Austin Northeast, MN",
          "2012: Silver Lake, MN",
          "2018: Mecklenburg Power Station, VA",
          "2012: Menominee Acquisition, MI",
          "2009: Port of Stockton District Energy Fac, CA",
          "2005: M L Hibbard, MN",
          "2018: Virginia, MN",
          "2005: Goodyear Power Plant, OH",
          "2019: Cambria Cogen, PA",
          "2012: White Pine Electric Power, MI",
          "2010: Jack McDonough, GA",
          "2014: Mitchell (GA), GA",
          "2014: Yates, GA",
          "2014: Kraft, GA",
          "2016: Imperial Savannah LP, GA",
          "2016: Crisp Plant, GA",
          "2014: Ames, IA",
          "2019: Iowa State University, IA",
          "2016: University of Northern Iowa, IA",
          "2012: Fair Station, IA",
          "2012: Pella, IA",
          "2010: Earl F Wisdom, IA",
          "2010: Riverton, KS",
          "2014: William C. Dale, KY",
          "2012: R S Nelson, LA",
          "2018: C P Crane, MD",
          "2012: Danskammer Generating Station, NY",
          "2010: AES Westover, NY",
          "2010: AES Greenidge LLC, NY",
          "2019: Cayuga Operating Company, LLC, NY",
          "2014: Vanderbilt University Power Plant, TN",
          "2016: Radford Army Ammunition Plant, VA",
          "2014: Virginia Tech Power Plant, VA",
          "2010: Dublin Mill, GA",
          "2019: Spruance Genco, LLC, VA",
          "2010: Marshall, MO",
          "2014: James River, MO",
          "2016: Hudson Generating Station, NJ",
          "2016: Mercer Generating Station, NJ",
          "2016: Stanton, ND",
          "2014: Walter C Beckjord Generating Station, OH",
          "2005: Unifi Kinston LLC, NC",
          "2014: Camden South Carolina, SC",
          "2014: Frank E Ratts, IN",
          "2018: Bailly Generating Station, IN",
          "2010: Schiller, NH",
          "2018: B L England, NJ",
          "2010: Deepwater, NJ",
          "2018: Northeastern Power Company, PA",
          "2010: Buck, NC",
          "2010: Dan River, NC",
          "2014: Cargill Salt, MI",
          "2014: E.B. Eddy Paper Inc, MI",
          "2019: Presque Isle, MI",
          "2018: Sibley, MO",
          "2014: Blue Valley, MO",
          "2018: Montrose, MO",
          "2014: Lake Road, MO",
          "2012: Jasper 2, IN",
          "2012: Pearl Station, IL",
          "2019: Hammond, GA",
          "2014: Tanners Creek, IN",
          "2014: IPL - Harding Street Station (EW Stout), IN",
          "2014: Logansport, IN",
          "2012: Peru, IN",
          "2010: Dubuque, IA",
          "2014: Indian Orchard Plant 1, MA",
          "2014: Glen Lyn, VA",
          "2016: Cherokee, CO",
          "2016: Valmont, CO",
          "2014: Green River, KY",
          "2019: Paradise, KY",
          "2010: Tyrone, KY",
          "2014: Cane Run, KY",
          "2009: Somerset Station, MA",
          "2016: Brayton Point, MA",
          "2016: J R Whiting, MI",
          "2010: FirstEnergy Bay Shore, OH",
          "2012: Hamilton, OH",
          "2014: Morton Salt Rittman, OH",
          "2005: St Marys, OH",
          "2010: Shelby Municipal Light Plant, OH",
          "2014: Milton L Kapp, IA",
          "2014: Laskin Energy Center, MN",
          "2005: Niagara Generating Facility, NY",
          "2018: Shiras, MI",
          "2014: Escanaba, MI",
          "2005: Henderson I, KY",
          "2019: HMP and L Station 2, KY",
          "2010: Haverhill North Cogeneration Facility, OH",
          "2014: Harllee Branch, GA",
          "2012: Jacksonville Developmental Center, IL",
          "2012: Crawford, IL",
          "2012: Fisk Street, IL",
          "2016: T B Simon Power Plant, MI",
          "2018: Muskogee Mill, OK",
          "2014: Big Sandy, KY",
          "2014: Ashtabula, OH",
          "2009: Elizabethtown Power LLC, NC",
          "2014: Anheuser-Busch St Louis, MO",
          "2010: Black River Generation, NY",
          "2010: Whiting Mill, WI",
          "2016: St. Johns River Power, FL",
          "2019: Northside, FL",
          "2014: Salem Harbor Station, MA",
          "2016: B C Cobb, MI",
          "2009: S D Warren Muskegon, MI",
          "2012: Wentzville Assembly & Contiguous, MO",
          "2014: Columbia, MO",
          "2014: MU Combined Heat and Power Plant, MO",
          "2014: Muskingum River, OH",
          "2010: Richard Gorsuch, OH",
          "2019: Northshore Mining Silver Bay Power, MN",
          "2019: Nucla, CO",
          "2012: CC Perry K, IN",
          "2016: IPL - Eagle Valley Generating Station, IN",
          "2014: Quindaro, KS",
          "2010: Wyandotte, MI",
          "2016: Willmar, MN",
          "2014: Watson Electric Generating Plant, MS",
          "2010: Henderson, MS",
          "2019: Asbury, MO",
          "2019: Big Bend, FL",
          "2012: Harbor Beach, MI",
          "2012: Missouri City, MO",
          "2014: J E Corette, MT",
          "2016: Reid Gardner, NV",
          "2005: Mohave, NV",
          "2012: Cape Fear, NC",
          "2010: Lee, NC",
          "2009: Lumberton, NC",
          "2012: Picway, OH",
          "2012: O H Hutchings, OH",
          "2019: Big Cajun 2, LA",
          "2014: Rio Bravo Poso, CA",
          "2016: Grand River Dam Authority, OK",
          "2014: Joliet 29, IL",
          "2014: Scholz Electric Generating Plant, FL",
          "2005: Lansing Smith, FL",
          "2014: Crawfordsville Power Plant, IN",
          "2012: FirstEnergy R Paul Smith Power Station, MD",
          "2005: Alloy Steam Station, WV",
          "2014: Gadsden, AL",
          "2014: Black Dog, MN",
          "2005: Lovett, NY",
          "2005: Rochester 7, NY",
          "2016: RED-Rochester, LLC-Eastman Business Park, NY",
          "2005: Rittman Paperboard, OH",
          "2019: Coffeen, IL",
          "2009: Lakeside, IL",
          "2016: J C Weadock, MI",
          "2014: James De Young, MI",
          "2012: Chamois, MO",
          "2014: NRG Dunkirk Power, NY",
          "2010: S A Carlson, NY",
          "2010: CPI USA NC Roxboro, NC",
          "2012: L V Sutton Steam, NC",
          "2012: Laramie River 2&3, WY",
          "2019: Crist Electric Generating Plant, FL",
          "2005: Sixth Street, IA",
          "2014: Coleman, KY",
          "2014: Robert Reid, KY",
          "2009: Howard Down, NJ",
          "2005: Raton, NM",
          "2014: Lake Shore, OH",
          "2009: WCI Steel, OH",
          "2010: FirstEnergy R E Burger, OH",
          "2018: C D McIntosh Jr Power Plant, FL",
          "2014: Polk, FL",
          "2019: River Rouge, MI",
          "2018: J M Stuart, OH",
          "2018: Killen Station, OH",
          "2012: Niles, OH",
          "2012: Jefferies, SC",
          "2016: Apache Station, AZ",
          "2010: Lamar Plant, CO",
          "2010: John Deere Dubuque Works, IA",
          "2014: Mount Tom, MA",
          "2010: W H Weatherspoon, NC",
          "2012: Riverbend, NC",
          "2014: Eastlake, OH",
          "2019: Gorgas, AL",
          "2016: Wood River Power Station, IL",
          "2012: Sutherland, IA",
          "2014: Riverside (1081), IA",
          "2018: Pleasant Prairie, WI",
          "2016: Endicott Generating, MI",
          "2019: Navajo Generating Station, AZ",
          "2005: High Bridge, MN",
          "2012: Sonoco Products Co, SC",
          "2014: W S Lee, SC",
          "2018: Big Brown, TX",
          "2014: Carbon, UT",
          "2014: Clinch River, VA",
          "2014: Celanese Acetate LLC, VA",
          "2012: Potomac River, VA",
          "2012: Bremo Bluff, VA",
          "2014: Kanawha River, WV",
          "2014: Bayer CropScience Institute Plant, WV",
          "2014: Phil Sporn, WV",
          "2012: FirstEnergy Albright, WV",
          "2016: Axiall Corporation Natrium Plant, WV",
          "2005: Fox Valley Energy Center, WI",
          "2014: Alma, WI",
          "2009: Norton Powerhouse, MA",
          "2014: Procter & Gamble Cincinnati Plant, OH",
          "2012: East Campus Utility Plant, OH",
          "2019: Kimberly-Clark Tissue Company, PA",
          "2010: Hunlock Power Station, PA",
          "2012: Hatfields Ferry Power Station, PA",
          "2012: H B Robinson, SC",
          "2012: FirstEnergy Willow Island, WV",
          "2014: Kammer, WV",
          "2014: Green Bay West Mill, WI",
          "2010: Hutsonville, IL",
          "2010: Meredosia, IL",
          "2016: Wabash River Gen Station, IN",
          "2012: FirstEnergy Mitchell Power Station, PA",
          "2014: Portland, PA",
          "2012: Titus, PA",
          "2010: Dolphus M Grainger, SC",
          "2012: Ben French, SD",
          "2016: Allen, TN",
          "2009: North Branch, WV",
          "2005: Bay Front, WI",
          "2010: Blount Street, WI",
          "2014: Irvington Generating Station, AZ",
          "2016: Huntley Power, NY",
          "2012: Elrama Power Plant, PA",
          "2014: Sunbury, PA",
          "2010: Cromby Generating Station, PA",
          "2014: Park 500 Philip Morris USA, VA",
          "2014: Chesapeake Energy Center, VA",
          "2016: Yorktown Power Station, VA",
          "2019: Morgantown Energy Facility, WV",
          "2014: Valley (WEPCO), WI",
          "2014: Nelson Dewey, WI",
          "2016: SABIC Innovative Plastics Mt. Vernon, IN",
          "2014: Joliet 9, IL",
          "2014: Shawville, PA",
          "2012: P H Glatfelter, PA",
          "2012: US DOE Savannah River Site (D Area), SC",
          "2016: Milwaukee County, WI",
          "2018: J T Deely, TX",
          "2016: Colbert, AL",
          "2014: Widows Creek, AL",
          "2019: Wausau Paper Middletown, OH",
          "2019: Orrville, OH",
          "2012: FirstEnergy Armstrong Power Station, PA",
          "2012: Canadys Steam, SC",
          "2014: McMeekin, SC",
          "2005: Urquhart, SC",
          "2019: Duck Creek, IL",
          "2019: Bruce Mansfield, PA",
          "2012: Laramie River 1, WY",
          "2018: Bridgeport Harbor Station, CT",
          "2018: Tecumseh Energy Center, KS",
          "2005: Manitowoc, WI",
          "2009: Menasha, WI",
          "2014: Neil Simpson, WY",
          "2010: G F Weaton Power Station, PA",
          "2010: Osage, WY",
          "2012: Catalyst Paper Snowflake Mill, AZ",
          "2012: W N Clark, CO",
          "2012: Arapahoe, CO",
          "2010: Cameo, CO",
          "2005: Cornell University Central Heat, NY",
          "2005: Sonoco Products, PA",
          "2010: Eddystone Generating Station, PA",
          "2010: John Sevier, TN",
          "2016: Johnsonville, TN",
          "2005: Capitol Heat and Power, WI",
          "2010: UW Madison Charter Street Plant, WI",
          "2018: R D Morrow Senior Generating Plant, MS",
          "2010: Smart Papers LLC, OH",
          "2016: Monticello, TX",
          "2019: Brame Energy Center, LA",
          "2014: Greene County, AL",
          "2019: Havana, IL",
          "2019: Hennepin Power Station, IL",
          "2010: Vermilion, IL",
          "2010: Bunge Milling Cogen, IL",
          "2016: Cedar Bay Generating Co. LP, FL",
          "2012: Colorado Energy Nations Company, CO",
          "2014: John Deere Harvester Works, IL",
          "2014: Cogentrix-Portsmouth, VA",
          "2016: Taconite Harbor Energy Center, MN",
          "2009: DTE Pontiac North LLC, MI",
          "2010: CPI USA NC Southport, NC",
          "2012: Piney Creek Project, PA",
          "2014: ACE Cogeneration Facility, CA",
          "2005: TXI Riverside Cement Power House, CA",
          "2009: Stone Container Ontonagon Mill, MI",
          "2012: Cargill Corn Wet Milling Plant, TN",
          "2019: Healy, AK",
          "2018: Sandow, TX",
          "2018: Sandow Station, TX",
          "2016: Amalgamated Sugar Twin Falls, ID",
          "2010: Mt Poso Cogeneration, CA",
          "2016: Cargill Corn Milling Division, IA",
          "2014: Blue Ridge Paper Products Inc., NC",
          "2014: New Castle, PA",
          "2014: Purdue University-Wade Utility, IN",
          "2014: Sagamore Plant Cogeneration, IN",
          "2005: Rumford Cogeneration, ME",
          "2012: Luke Mill, MD",
          "2014: Rio Bravo Jasmin, CA",
          "2010: AES Thames, CT",
          "2019: McIntosh (6124), GA",
          "2018: Gibbons Creek Steam Electric Station, TX",
          "2019: Western Sugar Coop- Ft Morgan, CO",
          "2012: Stockton Cogen, CA",
          "2005: Georgia Pacific Cedar Springs, GA",
          "2016: Westmoreland Partners Roanoke Valley I, NC",
          "2019: Asheville, NC",
          "2016: Westmoreland Partners Roanoke Valley II, NC",
          "2010: Wausau Paper Mills LLC, MN",
          "2012: Norit Americas Marshall Plant, TX",
          "2018: Pulliam, WI",
          "2012: Syracuse Energy, NY",
          "2018: Indiantown Cogeneration, LP, FL",
          "2016: Rhinelander Mill, WI",
          "2016: Kennecott Power Plant, UT",
          "2014: West Campus Steam Plant, PA",
          "2014: Missouri S&T - Power Plant, MO",
          "2010: Weyerhaeuser Pine Hill Operations, AL",
          "2005: Niagara Mill, WI",
          "2019: Neenah Paper Munising Mill, MI",
          "2014: DTE Tuscola Plant, IL",
          "2014: Waupun Correctional Central Heating Plt, WI",
          "2005: Amalgamated Sugar LLC Nyssa, OR",
          "2016: Domtar Paper Company, LLC, PA",
          "2014: Amalgamated Sugar LLC Nampa, ID",
          "2012: Roquette America, IA",
          "2014: Western Sugar Coop - Torrington, WY",
          "2012: Walhalla, ND",
          "2005: U S Alliance Coosa Pines, AL",
          "2012: Heat Plant 770, OH",
          "2014: MSC Croswell, MI"
         ],
         "type": "scattergeo"
        },
        {
         "lat": [
          39.561831,
          40.811189,
          34.0158,
          40.854765,
          40.55,
          40.455,
          41.3917,
          36.9981,
          44.2826,
          46.8669,
          41.7775,
          43.1411,
          39.693494,
          40.6191,
          40.8222,
          39.8028,
          42.692222,
          47.6785,
          47.717222,
          41.416442,
          38.5444,
          29.7592,
          43.741111,
          45.765346,
          33.41342,
          39.84919,
          47.927202,
          40.866463,
          41.7265,
          38.4017,
          36.5278,
          35.1897,
          41.4281,
          40.5589,
          39.5472,
          40.6917,
          45.9752,
          37.711944,
          41.5933,
          39.7928,
          41.621667,
          40.5383,
          35.765,
          40.7903,
          36.0211,
          41.624438,
          47.437562,
          46.9026,
          44.187066,
          64.67141,
          64.854171,
          44.217299,
          47.76468,
          40.8556,
          41.2691,
          45.7578,
          44.796405,
          48.593158,
          35.9069,
          38.2667,
          41.85887
         ],
         "legendgroup": "group2",
         "legendgrouptitle": {
          "text": "Scenario 1"
         },
         "lon": [
          -80.163138,
          -76.452951,
          -95.3206,
          -98.348222,
          -78.8,
          -78.7472,
          -91.0569,
          -84.5919,
          -88.2534,
          -100.8836,
          -87.8233,
          -71.4692,
          -75.485811,
          -76.45,
          -76.1736,
          -84.8953,
          -84.657222,
          -104.15665,
          -104.135556,
          -97.286328,
          -76.6861,
          -82.3878,
          -83.447222,
          -108.499232,
          -85.032329,
          -88.931944,
          -97.007153,
          -96.614486,
          -81.254,
          -90.3358,
          -78.8917,
          -81.0122,
          -96.4623,
          -96.7847,
          -110.3917,
          -75.4792,
          -106.6547,
          -89.215,
          -109.7542,
          -75.406667,
          -109.811944,
          -79.7906,
          -117.3833,
          -76.1983,
          -84.1567,
          -93.584515,
          -97.06311,
          -96.76112,
          -93.99242,
          -147.075988,
          -147.822075,
          -86.28905,
          -96.633375,
          -75.8781,
          -79.8134,
          -107.6,
          -95.179787,
          -97.17608,
          -79.0617,
          -77.3147,
          -103.63438
         ],
         "marker": {
          "color": "black",
          "line": {
           "color": "black",
           "width": 1
          },
          "size": [
           1.02955,
           0.06955,
           0.34612333333333334,
           0.6033733333333333,
           0.81202,
           0.48359,
           0.8866816666666667,
           0.23751166666666668,
           0.08778833333333333,
           0.78294,
           0.4225466666666667,
           0.21297166666666667,
           0.7976683333333333,
           0.318015,
           1.09199,
           0.05490833333333334,
           0.9436683333333333,
           0.38738833333333333,
           0.015231666666666666,
           0.30400666666666665,
           0.286215,
           0.63957,
           0.0020683333333333335,
           0.00924,
           0.24114,
           0.6439133333333333,
           0.04666666666666667,
           0.05148,
           0.003023333333333333,
           0.14227394666666668,
           1.041985,
           0.8659533333333334,
           0.664925,
           0.8295083333333333,
           0.53679,
           0.015745,
           0.4536,
           0.011035,
           0.349175,
           0.73867,
           0.35440166666666667,
           0.9181066666666666,
           0.5283533333333333,
           1.0571316666666666,
           1.0685416666666667,
           0.04596,
           0.10156166666666666,
           0.043375,
           0.04158,
           0.12146333333333334,
           0.07604833333333333,
           0.8507166666666667,
           0.04956,
           0.10023833333333333,
           0.009821666666666666,
           0.08617666666666667,
           0.024515,
           0.059186666666666665,
           0.10488,
           0.129045,
           0.04318
          ]
         },
         "mode": "markers",
         "name": "Active",
         "text": [
          "2020: Grant Town Power Plant, WV",
          "2020: Mt. Carmel Cogeneration, PA",
          "2020: Hugo, OK",
          "2020: Platte, NE",
          "2020: Colver Green Energy, PA",
          "2020: Ebensburg Power Company, PA",
          "2020: Muscatine, IA",
          "2020: John S. Cooper, KY",
          "2020: Kaukauna Paper Mill, WI",
          "2020: R M Heskett, ND",
          "2020: Ingredion Incorporated Argo Plant, IL",
          "2020: Merrimack, NH",
          "2020: Carneys Point, NJ",
          "2020: WPS Westwood Generation, LLC, PA",
          "2020: St. Nicholas Cogeneration Project, PA",
          "2020: Whitewater Valley, IN",
          "2020: Erickson, MI",
          "2020: Lewis & Clark, MT",
          "2020: Sidney MT Plant, MT",
          "2020: Archer Daniels Midland Columbus, NE",
          "2020: Chalk Point, MD",
          "2020: Deerhaven, FL",
          "2020: MSC Sebewaing, MI",
          "2020: Western Sugar Cooperative - Billings, MT",
          "2020: Wansley (6052), GA",
          "2020: Tate & Lyle, IL",
          "2020: American Crystal Sugar East Grand Forks, MN",
          "2020: Archer Daniels Midland Lincoln, NE",
          "2020: Painesville, OH",
          "2020: Meramec, MO",
          "2020: Mayo, NC",
          "2020: G G Allen, NC",
          "2020: Lon D Wright Power Plant, NE",
          "2020: Sheldon, NE",
          "2020: Sunnyside Cogeneration Associates, UT",
          "2020: Northampton Generating Plant, PA",
          "2020: Colstrip Energy Limited Partnership, MT",
          "2020: SIUC, IL",
          "2020: General Chemical, WY",
          "2020: Logan Generating Plant, NJ",
          "2020: Genesis Alkali, WY",
          "2020: Cheswick, PA",
          "2020: Argus Cogen Plant, CA",
          "2020: Gilberton Power Company, PA",
          "2020: Bull Run, TN",
          "2020: Archer Daniels Midland Des Moines, IA",
          "2020: American Crystal Sugar Hillsboro, ND",
          "2020: American Crystal Sugar Moorhead, MN",
          "2020: Archer Daniels Midland Mankato, MN",
          "2020: Eielson AFB Central Heat & Power Plant, AK",
          "2020: University of Alaska Fairbanks, AK",
          "2020: TES Filer City Station, MI",
          "2020: American Crystal Sugar Crookston, MN",
          "2020: Panther Creek Energy Facility, PA",
          "2020: Scrubgrass Generating Plant, PA",
          "2020: Hardin Generating Station, MT",
          "2020: Southern Minnesota Beet Sugar, MN",
          "2020: American Crystal Sugar Drayton, ND",
          "2020: University of NC Chapel Hill, NC",
          "2020: Birchwood Power Facility, VA",
          "2020: Western Sugar Coop - Scottsbluff, NE"
         ],
         "type": "scattergeo"
        },
        {
         "lat": [
          46.290641,
          31.488019,
          42.3833,
          40.782377,
          38.824444,
          40.520066,
          64.847743,
          64.825601,
          42.71839,
          41.504453,
          43.0706,
          39.1781,
          37.7942,
          42.1217,
          43.3359,
          39.2097,
          41.944039,
          41.0714,
          43.358889,
          41.6334,
          35.4159,
          38.2636
         ],
         "legendgroup": "group2",
         "legendgrouptitle": {
          "text": "Scenario 1"
         },
         "lon": [
          -96.043252,
          -87.910747,
          -87.8133,
          -76.176184,
          -104.833333,
          -81.46815,
          -147.735063,
          -147.648627,
          -84.55808,
          -82.054619,
          -86.235,
          -76.5268,
          -87.0608,
          -83.1808,
          -91.1675,
          -77.4644,
          -91.639167,
          -76.6672,
          -78.604722,
          -88.0629,
          -108.082,
          -85.8381
         ],
         "marker": {
          "color": "black",
          "line": {
           "color": "black",
           "width": 1
          },
          "size": [
           1.02955,
           0.06955,
           0.34612333333333334,
           0.6033733333333333,
           0.81202,
           0.48359,
           0.8866816666666667,
           0.23751166666666668,
           0.08778833333333333,
           0.78294,
           0.4225466666666667,
           0.21297166666666667,
           0.7976683333333333,
           0.318015,
           1.09199,
           0.05490833333333334,
           0.9436683333333333,
           0.38738833333333333,
           0.015231666666666666,
           0.30400666666666665,
           0.286215,
           0.63957,
           0.0020683333333333335,
           0.00924,
           0.24114,
           0.6439133333333333,
           0.04666666666666667,
           0.05148,
           0.003023333333333333,
           0.14227394666666668,
           1.041985,
           0.8659533333333334,
           0.664925,
           0.8295083333333333,
           0.53679,
           0.015745,
           0.4536,
           0.011035,
           0.349175,
           0.73867,
           0.35440166666666667,
           0.9181066666666666,
           0.5283533333333333,
           1.0571316666666666,
           1.0685416666666667,
           0.04596,
           0.10156166666666666,
           0.043375,
           0.04158,
           0.12146333333333334,
           0.07604833333333333,
           0.8507166666666667,
           0.04956,
           0.10023833333333333,
           0.009821666666666666,
           0.08617666666666667,
           0.024515,
           0.059186666666666665,
           0.10488,
           0.129045,
           0.04318
          ],
          "symbol": "circle-open-dot"
         },
         "mode": "markers",
         "name": "Partially Decommissioned",
         "text": [
          "2020: Hoot Lake, MN",
          "2020: Charles R Lowman, AL",
          "2020: Waukegan, IL",
          "2020: Wheelabrator Frackville Energy, PA",
          "2020: Martin Drake, CO",
          "2020: Dover, OH",
          "2020: Aurora Energy LLC Chena, AK",
          "2020: Utility Plants Section, AK",
          "2020: Eckert Station, MI",
          "2020: Avon Lake Power Plant, OH",
          "2020: J B Sims, MI",
          "2020: Herbert A Wagner, MD",
          "2020: Elmer Smith, KY",
          "2020: Trenton Channel, MI",
          "2020: Lansing, IA",
          "2020: Dickerson, MD",
          "2020: Prairie Creek, IA",
          "2020: Montour, LLC, PA",
          "2020: Somerset Operating Company  (Kintigh), NY",
          "2020: Will County, IL",
          "2020: Escalante, NM",
          "2020: R Gallagher, IN"
         ],
         "type": "scattergeo"
        },
        {
         "lat": [
          35.29816,
          32.4607,
          40.0864,
          31.091925,
          35.76135,
          36.869,
          34.186494,
          40.7412,
          36.8791,
          37.9308,
          40.860905,
          33.33184,
          40.881317,
          41.32909,
          39.1306,
          36.3156,
          40.4856,
          44.303583,
          33.0158,
          40.580872,
          41.3181,
          38.9036,
          31.474378,
          38.633451,
          38.2081,
          38.8675,
          38.131248,
          35.678442,
          39.595171,
          31.4219,
          42.7756,
          34.4228,
          37.2094,
          39.590556,
          32.030556,
          33.3761,
          39.0694,
          47.377743,
          28.7128,
          33.649722,
          37.151706,
          43.5589,
          36.5147,
          45.3808,
          41.0808,
          47.370542,
          28.7044,
          28.4822,
          37.9053,
          39.3792,
          40.7461,
          39.509731,
          44.2919,
          47.065854,
          47.221447,
          37.4497,
          45.03,
          35.6644,
          29.733056,
          36.5219,
          42.3006,
          43.644996,
          45.303652,
          33.371506,
          21.303419,
          41.7208,
          37.6461,
          41.9221,
          39.870074,
          39.1681,
          35.1931,
          29.309722,
          44.388889,
          40.4627,
          40.6214,
          36.916389,
          39.1747,
          36.3903,
          34.3186,
          40.2217,
          33.8264,
          44.2858,
          44.2856,
          44.290128,
          44.2919,
          41.8906,
          38.372222,
          40.5408,
          39.9242,
          38.5281,
          42.910296,
          36.2561,
          29.4828,
          32.2606,
          39.366667,
          39.2008
         ],
         "legendgroup": "group3",
         "legendgrouptitle": {
          "text": "Scenario 2"
         },
         "lon": [
          -101.747187,
          -94.4852,
          -109.2844,
          -96.69503,
          -95.28732,
          -78.704,
          -102.56999,
          -91.116667,
          -89.6209,
          -100.9725,
          -105.021207,
          -79.357236,
          -117.151605,
          -95.94466,
          -94.4778,
          -86.4006,
          -107.185,
          -91.912647,
          -79.9297,
          -98.312437,
          -91.0931,
          -84.8514,
          -96.957149,
          -104.70577,
          -104.5747,
          -84.2289,
          -90.263157,
          -91.408761,
          -78.745333,
          -96.2525,
          -82.495,
          -92.1406,
          -88.858889,
          -89.496389,
          -93.569167,
          -89.2183,
          -87.5108,
          -101.157058,
          -97.214167,
          -93.811944,
          -93.38804,
          -91.2325,
          -89.5617,
          -93.8931,
          -101.1408,
          -101.83566,
          -98.4775,
          -81.1678,
          -87.715,
          -111.0781,
          -116.5297,
          -112.58018,
          -105.3806,
          -101.213093,
          -101.815722,
          -87.0806,
          -92.7786,
          -89.9489,
          -81.632778,
          -82.5431,
          -96.3617,
          -83.840074,
          -96.510067,
          -80.113235,
          -158.106528,
          -86.9086,
          -87.5,
          -91.6875,
          -88.890756,
          -94.6975,
          -94.6458,
          -98.3203,
          -105.460833,
          -107.5912,
          -95.7764,
          -82.338055,
          -111.0289,
          -87.6539,
          -109.1639,
          -103.6803,
          -80.6228,
          -105.3833,
          -105.3833,
          -105.381482,
          -105.3811,
          -83.3464,
          -87.765833,
          -89.6786,
          -87.4244,
          -87.2525,
          -86.20074,
          -94.5241,
          -95.6311,
          -94.5706,
          -81.294444,
          -79.2636
         ],
         "marker": {
          "color": "green",
          "line": {
           "color": "black",
           "width": 1
          },
          "size": [
           5.575313333333333,
           3.642586666666667,
           5.4293016666666665,
           3.9758583333333335,
           2.367496666666667,
           2.0677083333333335,
           3.0989483333333334,
           1.8810416666666667,
           2.73241,
           2.4137233333333334,
           3.1445583333333333,
           3.802455,
           1.5536583333333334,
           2.9218383333333335,
           3.3371516666666667,
           3.8174683333333332,
           3.3863583333333334,
           2.3780016666666666,
           4.469,
           1.509235,
           3.0868966666666666,
           3.7900666666666667,
           7.604453333333334,
           2.085195,
           6.916523333333333,
           9.288148333333334,
           11.128008333333334,
           4.844953333333334,
           1.589065,
           9.527131666666667,
           7.046975,
           6.591513333333333,
           6.848408333333333,
           2.4592733333333334,
           1.1120616666666667,
           3.8765833333333335,
           4.308558333333333,
           13.696318333333334,
           4.216836666666667,
           5.865423333333333,
           2.620615,
           1.559345,
           10.301648333333333,
           14.588315,
           11.612188333333334,
           9.491521666666667,
           3.8635733333333335,
           6.745406666666667,
           3.418623333333333,
           7.525508333333334,
           1.7121183333333334,
           11.269898333333334,
           1.4050216666666666,
           7.779205,
           3.976208333333333,
           3.86102,
           1.2688333333333333,
           5.397776666666666,
           11.082165,
           1.177745,
           1.1026083333333334,
           2.6959316666666666,
           2.750225,
           10.376958333333333,
           1.9733483333333333,
           2.5213716666666666,
           1.856245,
           0.8886133333333334,
           1.9643316666666666,
           1.7837516666666666,
           1.321735,
           8.90743,
           5.3422833333333335,
           11.632201666666667,
           12.773745,
           1.4501083333333333,
           13.313671666666666,
           15.879031666666666,
           12.551991666666666,
           5.113255,
           1.3948766666666668,
           1.1650233333333333,
           1.0855233333333334,
           2.88412,
           1.1946483333333333,
           22.006778333333333,
           19.640321666666665,
           1.4079633333333332,
           7.274266666666667,
           10.235283333333333,
           11.27937,
           3.0279433333333334,
           16.641991666666666,
           21.469185,
           8.137023333333333,
           7.856943333333334
          ]
         },
         "mode": "markers",
         "name": "Active",
         "text": [
          "2020: Harrington Station, TX",
          "2020: H W Pirkey Power Plant, TX",
          "2020: Bonanza, UT",
          "2020: Twin Oaks, TX",
          "2020: Muskogee, OK",
          "2020: Clover Power Station, VA",
          "2020: Tolk Station, TX",
          "2020: Burlington (IA), IA",
          "2020: Sikeston, MO",
          "2020: Holcomb, KS",
          "2020: Rawhide Energy Station, CO",
          "2020: Winyah, SC",
          "2020: North Valmy, NV",
          "2020: North Omaha Station, NE",
          "2020: Hawthorn, MO",
          "2020: Gallatin, TN",
          "2020: Hayden, CO",
          "2020: J P Madgett, WI",
          "2020: Williams, SC",
          "2020: Gerald Whelan Energy Center, NE",
          "2020: Louisa, IA",
          "2020: East Bend, KY",
          "2020: Sandy Creek Energy Station, TX",
          "2020: Ray D Nixon, CO",
          "2020: Comanche (470), CO",
          "2020: W H Zimmer Generating Station, OH",
          "2020: Rush Island, MO",
          "2020: Independence, AR",
          "2020: AES Warrior Run, MD",
          "2020: Limestone, TX",
          "2020: Belle River, MI",
          "2020: White Bluff, AR",
          "2020: Joppa Steam, IL",
          "2020: Kincaid Generating Station, IL",
          "2020: Dolet Hills Power Station, LA",
          "2020: Red Hills Generation Facility, MS",
          "2020: Merom, IN",
          "2020: Coal Creek, ND",
          "2020: Coleto Creek, TX",
          "2020: John W. Turk Jr. Power Plant, AR",
          "2020: John Twitty Energy Center, MO",
          "2020: Genoa, WI",
          "2020: New Madrid Power Plant, MO",
          "2020: Sherburne County, MN",
          "2020: Gerald Gentleman Station, NE",
          "2020: Antelope Valley, ND",
          "2020: San Miguel, TX",
          "2020: Curtis H. Stanton Energy Center, FL",
          "2020: A B Brown Generating Station, IN",
          "2020: Huntington, UT",
          "2020: TS Power Plant, NV",
          "2020: Intermountain, UT",
          "2020: Wygen III, WY",
          "2020: Milton R Young, ND",
          "2020: Coyote, ND",
          "2020: D B Wilson, KY",
          "2020: Allen S King, MN",
          "2020: Plum Point Energy Station, AR",
          "2020: Seminole (136), FL",
          "2020: Eastman Chemical Company, TN",
          "2020: George Neal South, IA",
          "2020: Dan E Karn, MI",
          "2020: Big Stone, SD",
          "2020: Cross, SC",
          "2020: AES Hawaii, HI",
          "2020: Michigan City Generating Station, IN",
          "2020: R D Green, KY",
          "2020: Archer Daniels Midland Cedar Rapids, IA",
          "2020: Archer Daniels Midland Co., IL",
          "2020: Nearman Creek, KS",
          "2020: River Valley, OK",
          "2020: J K Spruce, TX",
          "2020: Dry Fork Station, WY",
          "2020: Craig, CO",
          "2020: Nebraska City Station, NE",
          "2020: Virginia City Hybrid Energy Center, VA",
          "2020: Hunter, UT",
          "2020: Cumberland, TN",
          "2020: Springerville Generating Station, AZ",
          "2020: Pawnee, CO",
          "2020: Wateree, SC",
          "2020: Wygen I, WY",
          "2020: Neil Simpson II, WY",
          "2020: Wyodak, WY",
          "2020: Wygen II, WY",
          "2020: Monroe, MI",
          "2020: Gibson, IN",
          "2020: Powerton, IL",
          "2020: Cayuga, IN",
          "2020: IPL - Petersburg Generating Station, IN",
          "2020: J H Campbell, MI",
          "2020: Flint Creek Power Plant, AR",
          "2020: W A Parish, TX",
          "2020: Martin Lake, TX",
          "2020: Pleasants Power Station, WV",
          "2020: Mount Storm Power Station, WV"
         ],
         "type": "scattergeo"
        },
        {
         "lat": [
          40.5958,
          45.693182,
          38.8067,
          42.7642,
          39.754803,
          46.755938,
          36.69,
          34.0825,
          40.1842,
          38.9361,
          44.8606,
          37.1517,
          33.05522,
          40.40625,
          45.8831,
          42.325814,
          39.0072,
          37.9111,
          41.8206,
          37.619747,
          36.8006,
          36.4317,
          43.715142
         ],
         "legendgroup": "group3",
         "legendgrouptitle": {
          "text": "Scenario 2"
         },
         "lon": [
          -89.6631,
          -119.808819,
          -87.2472,
          -82.4719,
          -89.602389,
          -122.859764,
          -108.4814,
          -99.1753,
          -81.8811,
          -88.2781,
          -89.6553,
          -88.775,
          -94.839993,
          -79.03366,
          -106.614,
          -96.381184,
          -95.269167,
          -87.3275,
          -90.2097,
          -88.953114,
          -108.4386,
          -95.7008,
          -87.705863
         ],
         "marker": {
          "color": "green",
          "line": {
           "color": "black",
           "width": 1
          },
          "size": [
           5.575313333333333,
           3.642586666666667,
           5.4293016666666665,
           3.9758583333333335,
           2.367496666666667,
           2.0677083333333335,
           3.0989483333333334,
           1.8810416666666667,
           2.73241,
           2.4137233333333334,
           3.1445583333333333,
           3.802455,
           1.5536583333333334,
           2.9218383333333335,
           3.3371516666666667,
           3.8174683333333332,
           3.3863583333333334,
           2.3780016666666666,
           4.469,
           1.509235,
           3.0868966666666666,
           3.7900666666666667,
           7.604453333333334,
           2.085195,
           6.916523333333333,
           9.288148333333334,
           11.128008333333334,
           4.844953333333334,
           1.589065,
           9.527131666666667,
           7.046975,
           6.591513333333333,
           6.848408333333333,
           2.4592733333333334,
           1.1120616666666667,
           3.8765833333333335,
           4.308558333333333,
           13.696318333333334,
           4.216836666666667,
           5.865423333333333,
           2.620615,
           1.559345,
           10.301648333333333,
           14.588315,
           11.612188333333334,
           9.491521666666667,
           3.8635733333333335,
           6.745406666666667,
           3.418623333333333,
           7.525508333333334,
           1.7121183333333334,
           11.269898333333334,
           1.4050216666666666,
           7.779205,
           3.976208333333333,
           3.86102,
           1.2688333333333333,
           5.397776666666666,
           11.082165,
           1.177745,
           1.1026083333333334,
           2.6959316666666666,
           2.750225,
           10.376958333333333,
           1.9733483333333333,
           2.5213716666666666,
           1.856245,
           0.8886133333333334,
           1.9643316666666666,
           1.7837516666666666,
           1.321735,
           8.90743,
           5.3422833333333335,
           11.632201666666667,
           12.773745,
           1.4501083333333333,
           13.313671666666666,
           15.879031666666666,
           12.551991666666666,
           5.113255,
           1.3948766666666668,
           1.1650233333333333,
           1.0855233333333334,
           2.88412,
           1.1946483333333333,
           22.006778333333333,
           19.640321666666665,
           1.4079633333333332,
           7.274266666666667,
           10.235283333333333,
           11.27937,
           3.0279433333333334,
           16.641991666666666,
           21.469185,
           8.137023333333333,
           7.856943333333334
          ],
          "symbol": "circle-open-dot"
         },
         "mode": "markers",
         "name": "Partially Decommissioned",
         "text": [
          "2020: E D Edwards, IL",
          "2020: Boardman, OR",
          "2020: Edwardsport Generating Station, IN",
          "2020: St. Clair, MI",
          "2020: Dallman, IL",
          "2020: Centralia, WA",
          "2020: Four Corners Steam Elec Station, NM",
          "2020: Oklaunion Power Station, TX",
          "2020: Conesville, OH",
          "2020: Newton, IL",
          "2020: Weston, WI",
          "2020: Shawnee, KY",
          "2020: Welsh Power Plant, TX",
          "2020: Seward, PA",
          "2020: Colstrip, MT",
          "2020: George Neal North, IA",
          "2020: Lawrence Energy Center, KS",
          "2020: F B Culley Generating Station, IN",
          "2020: Archer Daniels Midland Clinton, IA",
          "2020: Marion, IL",
          "2020: San Juan, NM",
          "2020: Northeastern, OK",
          "2020: Edgewater (4050), WI"
         ],
         "type": "scattergeo"
        },
        {
         "lat": [
          38.0525,
          36.2811,
          33.244211,
          41.0961,
          43.4864,
          35.5975,
          39.4472,
          42.8492,
          42.8457,
          38.3592,
          34.5789,
          38.915479,
          41.2164,
          35.8992,
          30.5322,
          39.18,
          33.6319
         ],
         "legendgroup": "group4",
         "legendgrouptitle": {
          "text": "Scenario 3"
         },
         "lon": [
          -85.9103,
          -80.0603,
          -86.458056,
          -92.555833,
          -89.4203,
          -80.9658,
          -94.98,
          -87.8336,
          -87.8294,
          -76.9767,
          -109.2708,
          -90.290247,
          -87.0261,
          -84.5194,
          -88.5553,
          -76.5389,
          -87.0597
         ],
         "marker": {
          "color": "blue",
          "line": {
           "color": "black",
           "width": 1
          },
          "size": [
           11.079948333333334,
           8.901553333333334,
           4.22135,
           4.201016666666667,
           8.644841666666666,
           10.144051666666666,
           11.724296666666667,
           12.912981666666667,
           5.059208333333333,
           1.8051716666666666,
           4.32654,
           4.582315,
           4.491298333333333,
           2.4710816666666666,
           3.794061666666667,
           1.5850866666666668,
           27.408006666666665
          ]
         },
         "mode": "markers",
         "name": "Active",
         "text": [
          "2020: Mill Creek, KY",
          "2020: Belews Creek, NC",
          "2020: E C Gaston, AL",
          "2020: Ottumwa, IA",
          "2020: Columbia, WI",
          "2020: Marshall, NC",
          "2020: Iatan, MO",
          "2020: Elm Road Generating Station, WI",
          "2020: South Oak Creek, WI",
          "2020: Morgantown, MD",
          "2020: Coronado Generating Station, AZ",
          "2020: Sioux, MO",
          "2020: R M Schahfer Generating Station, IN",
          "2020: Kingston, TN",
          "2020: Daniel Electric Generating Plant, MS",
          "2020: Brandon Shores, MD",
          "2020: James H Miller Jr, AL"
         ],
         "type": "scattergeo"
        },
        {
         "lat": [
          47.2611,
          35.22,
          41.18,
          34.9394,
          40.5317,
          38.205,
          37.3822,
          31.0069,
          28.9656
         ],
         "legendgroup": "group4",
         "legendgrouptitle": {
          "text": "Scenario 3"
         },
         "lon": [
          -93.6528,
          -81.7594,
          -95.8408,
          -110.3033,
          -80.6319,
          -89.8544,
          -77.3833,
          -88.0103,
          -82.6977
         ],
         "marker": {
          "color": "blue",
          "line": {
           "color": "black",
           "width": 1
          },
          "size": [
           11.079948333333334,
           8.901553333333334,
           4.22135,
           4.201016666666667,
           8.644841666666666,
           10.144051666666666,
           11.724296666666667,
           12.912981666666667,
           5.059208333333333,
           1.8051716666666666,
           4.32654,
           4.582315,
           4.491298333333333,
           2.4710816666666666,
           3.794061666666667,
           1.5850866666666668,
           27.408006666666665
          ],
          "symbol": "circle-open-dot"
         },
         "mode": "markers",
         "name": "Partially Decommissioned",
         "text": [
          "2020: Boswell Energy Center, MN",
          "2020: Cliffside, NC",
          "2020: Walter Scott Jr. Energy Center, IA",
          "2020: Cholla, AZ",
          "2020: W H Sammis, OH",
          "2020: Baldwin Energy Complex, IL",
          "2020: Chesterfield Power Station, VA",
          "2020: Barry, AL",
          "2020: Crystal River, FL"
         ],
         "type": "scattergeo"
        },
        {
         "lat": [
          39.707893,
          38.9794,
          39.8297,
          39.710833,
          39.384167,
          38.4731,
          33.0606,
          34.1256,
          38.279167,
          42.108889,
          40.2522,
          40.6604,
          31.1803,
          38.7497,
          41.7378,
          40.3842,
          38.7,
          38.5847,
          39.5522,
          37.9256,
          29.9172,
          38.3481,
          38.9144,
          36.4833,
          36.45307,
          39.286453,
          37.915,
          38.7378,
          47.280769,
          40.512825,
          42.8378,
          41.7581,
          38.9347,
          38.562244
         ],
         "legendgroup": "group5",
         "legendgrouptitle": {
          "text": "Scenario 4"
         },
         "lon": [
          -79.958974,
          -81.9344,
          -80.8153,
          -79.9275,
          -80.3325,
          -81.8233,
          -83.8075,
          -84.9222,
          -89.666944,
          -104.8825,
          -80.6486,
          -79.3411,
          -96.4866,
          -85.035,
          -108.7875,
          -79.0611,
          -83.8181,
          -85.4117,
          -92.6381,
          -87.0372,
          -96.7506,
          -94.6456,
          -82.1289,
          -79.0731,
          -97.05279,
          -96.117231,
          -87.3328,
          -85.4206,
          -101.321213,
          -79.196107,
          -105.7769,
          -110.5983,
          -82.1158,
          -90.837686
         ],
         "marker": {
          "color": "red",
          "line": {
           "color": "black",
           "width": 1
          },
          "size": [
           8.249761666666666,
           8.791688333333333,
           6.019533333333333,
           8.456553333333334,
           18.132858333333335,
           17.418065,
           9.38939,
           13.280891666666667,
           18.846771666666665,
           13.362236666666666,
           15.099621666666666,
           12.152261333333335,
           21.84301,
           16.517865,
           17.430958333333333,
           12.549988333333333,
           12.157143333333334,
           14.099953333333334,
           11.471931666666666,
           6.731308333333334,
           14.600471666666667,
           10.054431666666666,
           7.752933333333333,
           8.765988333333333,
           3.979416666666667,
           11.120268333333334,
           7.86339,
           7.29219,
           4.994703333333334,
           4.965058333333333,
           7.20934,
           4.178695,
           21.825275,
           27.474153333333334
          ]
         },
         "mode": "markers",
         "name": "Active",
         "text": [
          "2020: Longview Power, WV",
          "2020: Mountaineer (1301), WV",
          "2020: Mitchell (WV), WV",
          "2020: Fort Martin Power Station, WV",
          "2020: Harrison Power Station, WV",
          "2020: John E Amos, WV",
          "2020: Scherer, GA",
          "2020: Bowen, GA",
          "2020: Prairie State Generating Station, IL",
          "2020: Laramie River, WY",
          "2020: Cardinal, OH",
          "2020: Keystone, PA",
          "2020: Oak Grove, TX",
          "2020: Ghent, KY",
          "2020: Jim Bridger, WY",
          "2020: Conemaugh, PA",
          "2020: H L Spurlock, KY",
          "2020: Trimble County, KY",
          "2020: Thomas Hill Energy Center, MO",
          "2020: Rockport, IN",
          "2020: Sam Seymour, TX",
          "2020: La Cygne, KS",
          "2020: Kyger Creek, OH",
          "2020: Roxboro, NC",
          "2020: Sooner, OK",
          "2020: Jeffrey Energy Center, KS",
          "2020: Alcoa Allowance Management Inc, IN",
          "2020: Clifty Creek, IN",
          "2020: Leland Olds, ND",
          "2020: Homer City, PA",
          "2020: Dave Johnston, WY",
          "2020: Naughton, WY",
          "2020: Gen J M Gavin, OH",
          "2020: Labadie, MO"
         ],
         "type": "scattergeo"
        },
        {
         "lat": [
          39.1128,
          37.78831
         ],
         "legendgroup": "group5",
         "legendgrouptitle": {
          "text": "Scenario 4"
         },
         "lon": [
          -84.8036,
          -84.71257
         ],
         "marker": {
          "color": "red",
          "line": {
           "color": "black",
           "width": 1
          },
          "size": [
           8.249761666666666,
           8.791688333333333,
           6.019533333333333,
           8.456553333333334,
           18.132858333333335,
           17.418065,
           9.38939,
           13.280891666666667,
           18.846771666666665,
           13.362236666666666,
           15.099621666666666,
           12.152261333333335,
           21.84301,
           16.517865,
           17.430958333333333,
           12.549988333333333,
           12.157143333333334,
           14.099953333333334,
           11.471931666666666,
           6.731308333333334,
           14.600471666666667,
           10.054431666666666,
           7.752933333333333,
           8.765988333333333,
           3.979416666666667,
           11.120268333333334,
           7.86339,
           7.29219,
           4.994703333333334,
           4.965058333333333,
           7.20934,
           4.178695,
           21.825275,
           27.474153333333334
          ],
          "symbol": "circle-open-dot"
         },
         "mode": "markers",
         "name": "Partially Decommissioned",
         "text": [
          "2020: Miami Fort Power Station, OH",
          "2020: E W Brown, KY"
         ],
         "type": "scattergeo"
        }
       ],
       "layout": {
        "geo": {
         "scope": "usa"
        },
        "height": 700,
        "legend": {
         "groupclick": "toggleitem",
         "itemdoubleclick": "toggleothers"
        },
        "template": {
         "data": {
          "bar": [
           {
            "error_x": {
             "color": "#2a3f5f"
            },
            "error_y": {
             "color": "#2a3f5f"
            },
            "marker": {
             "line": {
              "color": "#E5ECF6",
              "width": 0.5
             },
             "pattern": {
              "fillmode": "overlay",
              "size": 10,
              "solidity": 0.2
             }
            },
            "type": "bar"
           }
          ],
          "barpolar": [
           {
            "marker": {
             "line": {
              "color": "#E5ECF6",
              "width": 0.5
             },
             "pattern": {
              "fillmode": "overlay",
              "size": 10,
              "solidity": 0.2
             }
            },
            "type": "barpolar"
           }
          ],
          "carpet": [
           {
            "aaxis": {
             "endlinecolor": "#2a3f5f",
             "gridcolor": "white",
             "linecolor": "white",
             "minorgridcolor": "white",
             "startlinecolor": "#2a3f5f"
            },
            "baxis": {
             "endlinecolor": "#2a3f5f",
             "gridcolor": "white",
             "linecolor": "white",
             "minorgridcolor": "white",
             "startlinecolor": "#2a3f5f"
            },
            "type": "carpet"
           }
          ],
          "choropleth": [
           {
            "colorbar": {
             "outlinewidth": 0,
             "ticks": ""
            },
            "type": "choropleth"
           }
          ],
          "contour": [
           {
            "colorbar": {
             "outlinewidth": 0,
             "ticks": ""
            },
            "colorscale": [
             [
              0,
              "#0d0887"
             ],
             [
              0.1111111111111111,
              "#46039f"
             ],
             [
              0.2222222222222222,
              "#7201a8"
             ],
             [
              0.3333333333333333,
              "#9c179e"
             ],
             [
              0.4444444444444444,
              "#bd3786"
             ],
             [
              0.5555555555555556,
              "#d8576b"
             ],
             [
              0.6666666666666666,
              "#ed7953"
             ],
             [
              0.7777777777777778,
              "#fb9f3a"
             ],
             [
              0.8888888888888888,
              "#fdca26"
             ],
             [
              1,
              "#f0f921"
             ]
            ],
            "type": "contour"
           }
          ],
          "contourcarpet": [
           {
            "colorbar": {
             "outlinewidth": 0,
             "ticks": ""
            },
            "type": "contourcarpet"
           }
          ],
          "heatmap": [
           {
            "colorbar": {
             "outlinewidth": 0,
             "ticks": ""
            },
            "colorscale": [
             [
              0,
              "#0d0887"
             ],
             [
              0.1111111111111111,
              "#46039f"
             ],
             [
              0.2222222222222222,
              "#7201a8"
             ],
             [
              0.3333333333333333,
              "#9c179e"
             ],
             [
              0.4444444444444444,
              "#bd3786"
             ],
             [
              0.5555555555555556,
              "#d8576b"
             ],
             [
              0.6666666666666666,
              "#ed7953"
             ],
             [
              0.7777777777777778,
              "#fb9f3a"
             ],
             [
              0.8888888888888888,
              "#fdca26"
             ],
             [
              1,
              "#f0f921"
             ]
            ],
            "type": "heatmap"
           }
          ],
          "heatmapgl": [
           {
            "colorbar": {
             "outlinewidth": 0,
             "ticks": ""
            },
            "colorscale": [
             [
              0,
              "#0d0887"
             ],
             [
              0.1111111111111111,
              "#46039f"
             ],
             [
              0.2222222222222222,
              "#7201a8"
             ],
             [
              0.3333333333333333,
              "#9c179e"
             ],
             [
              0.4444444444444444,
              "#bd3786"
             ],
             [
              0.5555555555555556,
              "#d8576b"
             ],
             [
              0.6666666666666666,
              "#ed7953"
             ],
             [
              0.7777777777777778,
              "#fb9f3a"
             ],
             [
              0.8888888888888888,
              "#fdca26"
             ],
             [
              1,
              "#f0f921"
             ]
            ],
            "type": "heatmapgl"
           }
          ],
          "histogram": [
           {
            "marker": {
             "pattern": {
              "fillmode": "overlay",
              "size": 10,
              "solidity": 0.2
             }
            },
            "type": "histogram"
           }
          ],
          "histogram2d": [
           {
            "colorbar": {
             "outlinewidth": 0,
             "ticks": ""
            },
            "colorscale": [
             [
              0,
              "#0d0887"
             ],
             [
              0.1111111111111111,
              "#46039f"
             ],
             [
              0.2222222222222222,
              "#7201a8"
             ],
             [
              0.3333333333333333,
              "#9c179e"
             ],
             [
              0.4444444444444444,
              "#bd3786"
             ],
             [
              0.5555555555555556,
              "#d8576b"
             ],
             [
              0.6666666666666666,
              "#ed7953"
             ],
             [
              0.7777777777777778,
              "#fb9f3a"
             ],
             [
              0.8888888888888888,
              "#fdca26"
             ],
             [
              1,
              "#f0f921"
             ]
            ],
            "type": "histogram2d"
           }
          ],
          "histogram2dcontour": [
           {
            "colorbar": {
             "outlinewidth": 0,
             "ticks": ""
            },
            "colorscale": [
             [
              0,
              "#0d0887"
             ],
             [
              0.1111111111111111,
              "#46039f"
             ],
             [
              0.2222222222222222,
              "#7201a8"
             ],
             [
              0.3333333333333333,
              "#9c179e"
             ],
             [
              0.4444444444444444,
              "#bd3786"
             ],
             [
              0.5555555555555556,
              "#d8576b"
             ],
             [
              0.6666666666666666,
              "#ed7953"
             ],
             [
              0.7777777777777778,
              "#fb9f3a"
             ],
             [
              0.8888888888888888,
              "#fdca26"
             ],
             [
              1,
              "#f0f921"
             ]
            ],
            "type": "histogram2dcontour"
           }
          ],
          "mesh3d": [
           {
            "colorbar": {
             "outlinewidth": 0,
             "ticks": ""
            },
            "type": "mesh3d"
           }
          ],
          "parcoords": [
           {
            "line": {
             "colorbar": {
              "outlinewidth": 0,
              "ticks": ""
             }
            },
            "type": "parcoords"
           }
          ],
          "pie": [
           {
            "automargin": true,
            "type": "pie"
           }
          ],
          "scatter": [
           {
            "marker": {
             "colorbar": {
              "outlinewidth": 0,
              "ticks": ""
             }
            },
            "type": "scatter"
           }
          ],
          "scatter3d": [
           {
            "line": {
             "colorbar": {
              "outlinewidth": 0,
              "ticks": ""
             }
            },
            "marker": {
             "colorbar": {
              "outlinewidth": 0,
              "ticks": ""
             }
            },
            "type": "scatter3d"
           }
          ],
          "scattercarpet": [
           {
            "marker": {
             "colorbar": {
              "outlinewidth": 0,
              "ticks": ""
             }
            },
            "type": "scattercarpet"
           }
          ],
          "scattergeo": [
           {
            "marker": {
             "colorbar": {
              "outlinewidth": 0,
              "ticks": ""
             }
            },
            "type": "scattergeo"
           }
          ],
          "scattergl": [
           {
            "marker": {
             "colorbar": {
              "outlinewidth": 0,
              "ticks": ""
             }
            },
            "type": "scattergl"
           }
          ],
          "scattermapbox": [
           {
            "marker": {
             "colorbar": {
              "outlinewidth": 0,
              "ticks": ""
             }
            },
            "type": "scattermapbox"
           }
          ],
          "scatterpolar": [
           {
            "marker": {
             "colorbar": {
              "outlinewidth": 0,
              "ticks": ""
             }
            },
            "type": "scatterpolar"
           }
          ],
          "scatterpolargl": [
           {
            "marker": {
             "colorbar": {
              "outlinewidth": 0,
              "ticks": ""
             }
            },
            "type": "scatterpolargl"
           }
          ],
          "scatterternary": [
           {
            "marker": {
             "colorbar": {
              "outlinewidth": 0,
              "ticks": ""
             }
            },
            "type": "scatterternary"
           }
          ],
          "surface": [
           {
            "colorbar": {
             "outlinewidth": 0,
             "ticks": ""
            },
            "colorscale": [
             [
              0,
              "#0d0887"
             ],
             [
              0.1111111111111111,
              "#46039f"
             ],
             [
              0.2222222222222222,
              "#7201a8"
             ],
             [
              0.3333333333333333,
              "#9c179e"
             ],
             [
              0.4444444444444444,
              "#bd3786"
             ],
             [
              0.5555555555555556,
              "#d8576b"
             ],
             [
              0.6666666666666666,
              "#ed7953"
             ],
             [
              0.7777777777777778,
              "#fb9f3a"
             ],
             [
              0.8888888888888888,
              "#fdca26"
             ],
             [
              1,
              "#f0f921"
             ]
            ],
            "type": "surface"
           }
          ],
          "table": [
           {
            "cells": {
             "fill": {
              "color": "#EBF0F8"
             },
             "line": {
              "color": "white"
             }
            },
            "header": {
             "fill": {
              "color": "#C8D4E3"
             },
             "line": {
              "color": "white"
             }
            },
            "type": "table"
           }
          ]
         },
         "layout": {
          "annotationdefaults": {
           "arrowcolor": "#2a3f5f",
           "arrowhead": 0,
           "arrowwidth": 1
          },
          "autotypenumbers": "strict",
          "coloraxis": {
           "colorbar": {
            "outlinewidth": 0,
            "ticks": ""
           }
          },
          "colorscale": {
           "diverging": [
            [
             0,
             "#8e0152"
            ],
            [
             0.1,
             "#c51b7d"
            ],
            [
             0.2,
             "#de77ae"
            ],
            [
             0.3,
             "#f1b6da"
            ],
            [
             0.4,
             "#fde0ef"
            ],
            [
             0.5,
             "#f7f7f7"
            ],
            [
             0.6,
             "#e6f5d0"
            ],
            [
             0.7,
             "#b8e186"
            ],
            [
             0.8,
             "#7fbc41"
            ],
            [
             0.9,
             "#4d9221"
            ],
            [
             1,
             "#276419"
            ]
           ],
           "sequential": [
            [
             0,
             "#0d0887"
            ],
            [
             0.1111111111111111,
             "#46039f"
            ],
            [
             0.2222222222222222,
             "#7201a8"
            ],
            [
             0.3333333333333333,
             "#9c179e"
            ],
            [
             0.4444444444444444,
             "#bd3786"
            ],
            [
             0.5555555555555556,
             "#d8576b"
            ],
            [
             0.6666666666666666,
             "#ed7953"
            ],
            [
             0.7777777777777778,
             "#fb9f3a"
            ],
            [
             0.8888888888888888,
             "#fdca26"
            ],
            [
             1,
             "#f0f921"
            ]
           ],
           "sequentialminus": [
            [
             0,
             "#0d0887"
            ],
            [
             0.1111111111111111,
             "#46039f"
            ],
            [
             0.2222222222222222,
             "#7201a8"
            ],
            [
             0.3333333333333333,
             "#9c179e"
            ],
            [
             0.4444444444444444,
             "#bd3786"
            ],
            [
             0.5555555555555556,
             "#d8576b"
            ],
            [
             0.6666666666666666,
             "#ed7953"
            ],
            [
             0.7777777777777778,
             "#fb9f3a"
            ],
            [
             0.8888888888888888,
             "#fdca26"
            ],
            [
             1,
             "#f0f921"
            ]
           ]
          },
          "colorway": [
           "#636efa",
           "#EF553B",
           "#00cc96",
           "#ab63fa",
           "#FFA15A",
           "#19d3f3",
           "#FF6692",
           "#B6E880",
           "#FF97FF",
           "#FECB52"
          ],
          "font": {
           "color": "#2a3f5f"
          },
          "geo": {
           "bgcolor": "white",
           "lakecolor": "white",
           "landcolor": "#E5ECF6",
           "showlakes": true,
           "showland": true,
           "subunitcolor": "white"
          },
          "hoverlabel": {
           "align": "left"
          },
          "hovermode": "closest",
          "mapbox": {
           "style": "light"
          },
          "paper_bgcolor": "white",
          "plot_bgcolor": "#E5ECF6",
          "polar": {
           "angularaxis": {
            "gridcolor": "white",
            "linecolor": "white",
            "ticks": ""
           },
           "bgcolor": "#E5ECF6",
           "radialaxis": {
            "gridcolor": "white",
            "linecolor": "white",
            "ticks": ""
           }
          },
          "scene": {
           "xaxis": {
            "backgroundcolor": "#E5ECF6",
            "gridcolor": "white",
            "gridwidth": 2,
            "linecolor": "white",
            "showbackground": true,
            "ticks": "",
            "zerolinecolor": "white"
           },
           "yaxis": {
            "backgroundcolor": "#E5ECF6",
            "gridcolor": "white",
            "gridwidth": 2,
            "linecolor": "white",
            "showbackground": true,
            "ticks": "",
            "zerolinecolor": "white"
           },
           "zaxis": {
            "backgroundcolor": "#E5ECF6",
            "gridcolor": "white",
            "gridwidth": 2,
            "linecolor": "white",
            "showbackground": true,
            "ticks": "",
            "zerolinecolor": "white"
           }
          },
          "shapedefaults": {
           "line": {
            "color": "#2a3f5f"
           }
          },
          "ternary": {
           "aaxis": {
            "gridcolor": "white",
            "linecolor": "white",
            "ticks": ""
           },
           "baxis": {
            "gridcolor": "white",
            "linecolor": "white",
            "ticks": ""
           },
           "bgcolor": "#E5ECF6",
           "caxis": {
            "gridcolor": "white",
            "linecolor": "white",
            "ticks": ""
           }
          },
          "title": {
           "x": 0.05
          },
          "xaxis": {
           "automargin": true,
           "gridcolor": "white",
           "linecolor": "white",
           "ticks": "",
           "title": {
            "standoff": 15
           },
           "zerolinecolor": "white",
           "zerolinewidth": 2
          },
          "yaxis": {
           "automargin": true,
           "gridcolor": "white",
           "linecolor": "white",
           "ticks": "",
           "title": {
            "standoff": 15
           },
           "zerolinecolor": "white",
           "zerolinewidth": 2
          }
         }
        },
        "title": {
         "text": "236 Plant Closures - 68% CO2 Reduction Nationwide"
        },
        "width": 1400
       }
      }
     },
     "metadata": {},
     "output_type": "display_data"
    }
   ],
   "source": [
    "fig = go.Figure()\n",
    "\n",
    "########\n",
    "# Retired PLANTS\n",
    "########\n",
    "rdf = all[all['decom']==1]\n",
    "fig.add_trace(go.Scattergeo(\n",
    "    lon = rdf['LON'],\n",
    "    lat = rdf['LAT'],\n",
    "    text = rdf['label'],\n",
    "    legendgroup=\"group\",  # this can be any string, not just \"group\"\n",
    "    legendgrouptitle_text=\"Retired Plants\",\n",
    "    name = 'Coal Plants Retired Since 2005',\n",
    "    mode=\"markers\",\n",
    "    marker_symbol='circle',\n",
    "    marker=dict(color=\"LightGrey\", \n",
    "    line = dict(color = 'gray', width = 1),\n",
    "    size=rdf['PLNGENAN']/600000)\n",
    "))\n",
    "\n",
    "########\n",
    "# Scenario 1 PLANTS\n",
    "########\n",
    "s1df = dfc2[dfc2['scenario']==1]\n",
    "s1df = s1df[s1df['PartiallyRetired']==0]\n",
    "fig.add_trace(go.Scattergeo(\n",
    "    lon = s1df['LON'],\n",
    "    lat = s1df['LAT'],\n",
    "    text = s1df['label'],\n",
    "    legendgroup=\"group2\",  # this can be any string, not just \"group\"\n",
    "    legendgrouptitle_text=\"Scenario 1\",\n",
    "    name=\"Active\",\n",
    "    mode=\"markers\",\n",
    "    marker=dict(color=\"black\", \n",
    "    line = dict(color = 'black', width = 1),\n",
    "    size=s1df['GENNTAN']/600000)\n",
    "))\n",
    "p1df = dfc2[dfc2['scenario']==1]\n",
    "p1df = p1df[p1df['PartiallyRetired']==1]\n",
    "fig.add_trace(go.Scattergeo(\n",
    "    lon = p1df['LON'],\n",
    "    lat = p1df['LAT'],\n",
    "    text = p1df['label'],\n",
    "    legendgroup=\"group2\",  # this can be any string, not just \"group\"\n",
    "    legendgrouptitle_text=\"Scenario 1\",\n",
    "    name=\"Partially Decommissioned\",\n",
    "    mode=\"markers\",\n",
    "    marker_symbol='circle-open-dot',\n",
    "    marker=dict(color=\"black\", \n",
    "    line = dict(color = 'black', width = 1),\n",
    "    size=s1df['GENNTAN']/600000)\n",
    "))\n",
    "\n",
    "########\n",
    "# Scenario 2 PLANTS\n",
    "########\n",
    "s2df = dfc2[dfc2['scenario']==2]\n",
    "s2df = s2df[s2df['PartiallyRetired']==0]\n",
    "fig.add_trace(go.Scattergeo(\n",
    "    lon = s2df['LON'],\n",
    "    lat = s2df['LAT'],\n",
    "    text = s2df['label'],\n",
    "    legendgroup=\"group3\",  # this can be any string, not just \"group\"\n",
    "    legendgrouptitle_text=\"Scenario 2\",\n",
    "    name=\"Active\",\n",
    "    mode=\"markers\",\n",
    "    marker=dict(color=\"green\", \n",
    "    line = dict(color = 'black', width = 1),\n",
    "    size=s2df['GENNTAN']/600000)\n",
    "))\n",
    "p2df = dfc2[dfc2['scenario']==2]\n",
    "p2df = p2df[p2df['PartiallyRetired']==1]\n",
    "fig.add_trace(go.Scattergeo(\n",
    "    lon = p2df['LON'],\n",
    "    lat = p2df['LAT'],\n",
    "    text = p2df['label'],\n",
    "    legendgroup=\"group3\",  # this can be any string, not just \"group\"\n",
    "    legendgrouptitle_text=\"Scenario 2\",\n",
    "    name=\"Partially Decommissioned\",\n",
    "    mode=\"markers\",\n",
    "    marker_symbol='circle-open-dot',\n",
    "    marker=dict(color=\"green\", \n",
    "    line = dict(color = 'black', width = 1),\n",
    "    size=s2df['GENNTAN']/600000)\n",
    "))\n",
    "\n",
    "########\n",
    "# Scenario 3 PLANTS\n",
    "########\n",
    "s3df = dfc2[dfc2['scenario']==3]\n",
    "s3df = s3df[s3df['PartiallyRetired']==0]\n",
    "fig.add_trace(go.Scattergeo(\n",
    "    lon = s3df['LON'],\n",
    "    lat = s3df['LAT'],\n",
    "    text = s3df['label'],\n",
    "    legendgroup=\"group4\",  # this can be any string, not just \"group\"\n",
    "    legendgrouptitle_text=\"Scenario 3\",\n",
    "    name=\"Active\",\n",
    "    mode=\"markers\",\n",
    "    marker=dict(color=\"blue\", \n",
    "    line = dict(color = 'black', width = 1),\n",
    "    size=s3df['GENNTAN']/600000)\n",
    "))\n",
    "p3df = dfc2[dfc2['scenario']==3]\n",
    "p3df = p3df[p3df['PartiallyRetired']==1]\n",
    "fig.add_trace(go.Scattergeo(\n",
    "    lon = p3df['LON'],\n",
    "    lat = p3df['LAT'],\n",
    "    text = p3df['label'],\n",
    "    legendgroup=\"group4\",  # this can be any string, not just \"group\"\n",
    "    legendgrouptitle_text=\"Scenario 3\",\n",
    "    name=\"Partially Decommissioned\",\n",
    "    mode=\"markers\",\n",
    "    marker_symbol='circle-open-dot',\n",
    "    marker=dict(color=\"blue\", \n",
    "    line = dict(color = 'black', width = 1),\n",
    "    size=s3df['GENNTAN']/600000)\n",
    "))\n",
    "\n",
    "########\n",
    "# Scenario 4 PLANTS\n",
    "########\n",
    "s4df = dfc2[dfc2['scenario']==4]\n",
    "s4df = s4df[s4df['PartiallyRetired']==0]\n",
    "fig.add_trace(go.Scattergeo(\n",
    "    lon = s4df['LON'],\n",
    "    lat = s4df['LAT'],\n",
    "    text = s4df['label'],\n",
    "    legendgroup=\"group5\",  # this can be any string, not just \"group\"\n",
    "    legendgrouptitle_text=\"Scenario 4\",\n",
    "    name=\"Active\",\n",
    "    mode=\"markers\",\n",
    "    marker=dict(color=\"red\", \n",
    "    line = dict(color = 'black', width = 1),\n",
    "    size=s4df['GENNTAN']/600000)\n",
    "))\n",
    "\n",
    "p4df = dfc2[dfc2['scenario']==4]\n",
    "p4df = p4df[p4df['PartiallyRetired']==1]\n",
    "fig.add_trace(go.Scattergeo(\n",
    "    lon = p4df['LON'],\n",
    "    lat = p4df['LAT'],\n",
    "    text = p4df['label'],\n",
    "    legendgroup=\"group5\",\n",
    "    legendgrouptitle_text=\"Scenario 4\",\n",
    "    name=\"Partially Decommissioned\",\n",
    "    mode=\"markers\",\n",
    "    marker_symbol='circle-open-dot',\n",
    "    marker=dict(color=\"red\",\n",
    "    line = dict(color = 'black', width = 1),\n",
    "    size=s4df['GENNTAN']/600000)\n",
    "))\n",
    "\n",
    "\n",
    "########\n",
    "# MAKE MAP\n",
    "########\n",
    "\n",
    "fig.update_layout(\n",
    "    width=1400,\n",
    "    height = 700,\n",
    "    title_text = f'{num} Plant Closures - {redux}% CO2 Reduction Nationwide',\n",
    "    geo_scope='usa', # limite map scope to USA,\n",
    "    legend=dict(groupclick='toggleitem', itemdoubleclick = 'toggleothers')\n",
    ")\n",
    "\n",
    "fig.show()"
   ]
  },
  {
   "cell_type": "markdown",
   "id": "4a0e3929",
   "metadata": {},
   "source": []
  },
  {
   "cell_type": "code",
   "execution_count": null,
   "id": "90b0469c",
   "metadata": {},
   "outputs": [],
   "source": []
  },
  {
   "cell_type": "code",
   "execution_count": null,
   "id": "f4f33cd6",
   "metadata": {},
   "outputs": [],
   "source": [
    "dfc2['PartiallyRetired'].sum()"
   ]
  },
  {
   "cell_type": "code",
   "execution_count": null,
   "id": "704a387d",
   "metadata": {},
   "outputs": [],
   "source": []
  },
  {
   "cell_type": "code",
   "execution_count": null,
   "id": "98ada91d",
   "metadata": {},
   "outputs": [],
   "source": []
  }
 ],
 "metadata": {
  "interpreter": {
   "hash": "3dd0a51faaeacd0d3933b15d4c892517a314c53aae22c98897ac16333be372e4"
  },
  "kernelspec": {
   "display_name": "Python 3.8.8 ('base')",
   "language": "python",
   "name": "python3"
  },
  "language_info": {
   "codemirror_mode": {
    "name": "ipython",
    "version": 3
   },
   "file_extension": ".py",
   "mimetype": "text/x-python",
   "name": "python",
   "nbconvert_exporter": "python",
   "pygments_lexer": "ipython3",
   "version": "3.8.8"
  }
 },
 "nbformat": 4,
 "nbformat_minor": 5
}
