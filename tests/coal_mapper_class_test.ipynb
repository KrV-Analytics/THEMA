{
 "cells": [
  {
   "cell_type": "code",
   "execution_count": 1,
   "metadata": {},
   "outputs": [
    {
     "data": {
      "text/plain": [
       "['/Users/jeremy.wayland/Desktop/Dev/coal_mapper/tests',\n",
       " '/Users/jeremy.wayland/opt/anaconda3/lib/python39.zip',\n",
       " '/Users/jeremy.wayland/opt/anaconda3/lib/python3.9',\n",
       " '/Users/jeremy.wayland/opt/anaconda3/lib/python3.9/lib-dynload',\n",
       " '',\n",
       " '/Users/jeremy.wayland/Desktop/Dev/coal_mapper/.venv/lib/python3.9/site-packages']"
      ]
     },
     "execution_count": 1,
     "metadata": {},
     "output_type": "execute_result"
    }
   ],
   "source": [
    "import sys\n",
    "sys.path"
   ]
  },
  {
   "cell_type": "code",
   "execution_count": 5,
   "metadata": {},
   "outputs": [
    {
     "ename": "ModuleNotFoundError",
     "evalue": "No module named 'coal_mapper'",
     "output_type": "error",
     "traceback": [
      "\u001b[0;31m---------------------------------------------------------------------------\u001b[0m",
      "\u001b[0;31mModuleNotFoundError\u001b[0m                       Traceback (most recent call last)",
      "Cell \u001b[0;32mIn[5], line 3\u001b[0m\n\u001b[1;32m      1\u001b[0m \u001b[39mimport\u001b[39;00m \u001b[39msys\u001b[39;00m\n\u001b[1;32m      2\u001b[0m sys\u001b[39m.\u001b[39mpath\u001b[39m.\u001b[39mappend(\u001b[39m\"\u001b[39m\u001b[39m/..\u001b[39m\u001b[39m\"\u001b[39m)\n\u001b[0;32m----> 3\u001b[0m \u001b[39mfrom\u001b[39;00m \u001b[39mcoal_mapper\u001b[39;00m\u001b[39m.\u001b[39;00m\u001b[39mmapper\u001b[39;00m \u001b[39mimport\u001b[39;00m Coal_Mapper\n",
      "\u001b[0;31mModuleNotFoundError\u001b[0m: No module named 'coal_mapper'"
     ]
    }
   ],
   "source": [
    "import sys\n",
    "\n",
    "from coal_mapper.mapper import Coal_Mapper"
   ]
  },
  {
   "cell_type": "code",
   "execution_count": 6,
   "metadata": {},
   "outputs": [
    {
     "data": {
      "text/plain": [
       "['/Users/jeremy.wayland/Desktop/Dev/coal_mapper/tests',\n",
       " '/Users/jeremy.wayland/opt/anaconda3/lib/python39.zip',\n",
       " '/Users/jeremy.wayland/opt/anaconda3/lib/python3.9',\n",
       " '/Users/jeremy.wayland/opt/anaconda3/lib/python3.9/lib-dynload',\n",
       " '',\n",
       " '/Users/jeremy.wayland/Desktop/Dev/coal_mapper/.venv/lib/python3.9/site-packages',\n",
       " '/..',\n",
       " '/..']"
      ]
     },
     "execution_count": 6,
     "metadata": {},
     "output_type": "execute_result"
    }
   ],
   "source": [
    "sys.path"
   ]
  },
  {
   "cell_type": "code",
   "execution_count": null,
   "metadata": {},
   "outputs": [],
   "source": []
  }
 ],
 "metadata": {
  "kernelspec": {
   "display_name": "Python 3 (ipykernel)",
   "language": "python",
   "name": "python3"
  },
  "language_info": {
   "codemirror_mode": {
    "name": "ipython",
    "version": 3
   },
   "file_extension": ".py",
   "mimetype": "text/x-python",
   "name": "python",
   "nbconvert_exporter": "python",
   "pygments_lexer": "ipython3",
   "version": "3.9.13"
  },
  "vscode": {
   "interpreter": {
    "hash": "044d95aba7345cd1b820e1fce644844483a5e29d47f1a9bffc2c6fc51e5b6e8b"
   }
  }
 },
 "nbformat": 4,
 "nbformat_minor": 2
}
