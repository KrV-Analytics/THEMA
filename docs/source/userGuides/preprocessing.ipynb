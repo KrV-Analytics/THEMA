{
 "cells": [
  {
   "cell_type": "markdown",
   "metadata": {},
   "source": [
    "<a id=\"preprocessing-guide\"></a>"
   ]
  },
  {
   "cell_type": "markdown",
   "metadata": {},
   "source": [
    "# Data Preprocessing\n",
    "\n",
    "Data preprocessing is a crucial step in the data analysis pipeline. It involves cleaning, transforming, and organizing raw data to prepare it for further analysis. This section outlines the steps involved in preprocessing data using `Thema`."
   ]
  },
  {
   "cell_type": "markdown",
   "metadata": {},
   "source": [
    "---\n",
    "### Manual Data Exploration\n",
    "\n",
    "Before diving into automated preprocessing, it's essential to manually explore the data. This step helps you understand the dataset's structure, identify missing values, detect outliers, and gain insights into the data's distribution and relationships. \n",
    "\n",
    "`Thema` provides tools to summarize, clean, scale, encode, and pre-process your data, making it easier to identify patterns and anomalies. These insights can guide your preprocessing decisions and help you choose the right techniques to clean and prepare the data.\n",
    "\n",
    "### YAML Parameter File Creation\n",
    "\n",
    "Once you've completed the manual data exploration and identified the preprocessing steps required, `Thema` supports the creation of a formatted `.yaml` parameter file. This file captures the preprocessing steps and their parameters, making it easy to reproduce the preprocessing pipeline.\n",
    "\n",
    "The parameter file can include instructions for handling missing values, scaling features, encoding categorical variables, and other preprocessing tasks. By creating this file, you can automate the preprocessing pipeline and apply it consistently to new datasets.\n",
    "\n",
    "For detailed instructions on creating the `.yaml` parameter file and using it to preprocess your data, refer to the Params YAML Guide. This guide provides examples and best practices for defining preprocessing steps and parameters in `Thema`.\n"
   ]
  },
  {
   "cell_type": "markdown",
   "metadata": {},
   "source": [
    "## Step 1: Data\n",
    "\n",
    "To demonstrate the data cleaning and preprocessing functionality, let's create a sample DataFrame."
   ]
  },
  {
   "cell_type": "code",
   "execution_count": 1,
   "metadata": {},
   "outputs": [],
   "source": [
    "import numpy as np\n",
    "import pandas as pd"
   ]
  },
  {
   "cell_type": "code",
   "execution_count": 2,
   "metadata": {},
   "outputs": [
    {
     "data": {
      "text/html": [
       "<div>\n",
       "<style scoped>\n",
       "    .dataframe tbody tr th:only-of-type {\n",
       "        vertical-align: middle;\n",
       "    }\n",
       "\n",
       "    .dataframe tbody tr th {\n",
       "        vertical-align: top;\n",
       "    }\n",
       "\n",
       "    .dataframe thead th {\n",
       "        text-align: right;\n",
       "    }\n",
       "</style>\n",
       "<table border=\"1\" class=\"dataframe\">\n",
       "  <thead>\n",
       "    <tr style=\"text-align: right;\">\n",
       "      <th></th>\n",
       "      <th>Name</th>\n",
       "      <th>Diameter [1000 km]</th>\n",
       "      <th>Has Moon</th>\n",
       "      <th>Distance from Sun [au]</th>\n",
       "    </tr>\n",
       "  </thead>\n",
       "  <tbody>\n",
       "    <tr>\n",
       "      <th>0</th>\n",
       "      <td>Mercury</td>\n",
       "      <td>12.7</td>\n",
       "      <td>No</td>\n",
       "      <td>0.39</td>\n",
       "    </tr>\n",
       "    <tr>\n",
       "      <th>1</th>\n",
       "      <td>Venus</td>\n",
       "      <td>121.0</td>\n",
       "      <td>No</td>\n",
       "      <td>0.72</td>\n",
       "    </tr>\n",
       "    <tr>\n",
       "      <th>2</th>\n",
       "      <td>Earth</td>\n",
       "      <td>NaN</td>\n",
       "      <td>Yes</td>\n",
       "      <td>1.00</td>\n",
       "    </tr>\n",
       "    <tr>\n",
       "      <th>3</th>\n",
       "      <td>Jupiter</td>\n",
       "      <td>142.9</td>\n",
       "      <td>Yes</td>\n",
       "      <td>5.20</td>\n",
       "    </tr>\n",
       "    <tr>\n",
       "      <th>4</th>\n",
       "      <td>Saturn</td>\n",
       "      <td>49.5</td>\n",
       "      <td>NaN</td>\n",
       "      <td>9.58</td>\n",
       "    </tr>\n",
       "  </tbody>\n",
       "</table>\n",
       "</div>"
      ],
      "text/plain": [
       "      Name  Diameter [1000 km] Has Moon  Distance from Sun [au]\n",
       "0  Mercury                12.7       No                    0.39\n",
       "1    Venus               121.0       No                    0.72\n",
       "2    Earth                 NaN      Yes                    1.00\n",
       "3  Jupiter               142.9      Yes                    5.20\n",
       "4   Saturn                49.5      NaN                    9.58"
      ]
     },
     "execution_count": 2,
     "metadata": {},
     "output_type": "execute_result"
    }
   ],
   "source": [
    "data = {\n",
    "    'Name': ['Mercury', 'Venus', 'Earth', 'Jupiter', 'Saturn'],\n",
    "    'Diameter [1000 km]': [12.7, 121, np.nan, 142.9, 49.5],\n",
    "    'Has Moon': ['No', 'No', 'Yes', 'Yes', np.nan],\n",
    "    'Distance from Sun [au]': [0.39, 0.72, 1.00, 5.20, 9.58]\n",
    "}\n",
    "df = pd.DataFrame(data)\n",
    "df"
   ]
  },
  {
   "cell_type": "markdown",
   "metadata": {},
   "source": [
    "## Step 2: Create a `Planet`\n",
    "\n",
    "The `Planet` class is a core component of the `Thema` library, designed for managing tabular data. Its primary purpose is to perturb, label, and navigate existing tabular datasets.\n",
    "\n",
    "In the context of our demo, the `Planet` class serves as the medium for managing data, handling the transition from raw tabular data to scaled, encoded, and complete data. It is particularly useful for datasets with missing values, as it can fill missing values with randomly-sampled data and explore the distribution of possible missing values.\n",
    "\n",
    "In the following sections, we will explore how to use the `Planet` class to preprocess and manage our data effectively."
   ]
  },
  {
   "cell_type": "code",
   "execution_count": 1,
   "metadata": {},
   "outputs": [
    {
     "ename": "ModuleNotFoundError",
     "evalue": "No module named 'thema'",
     "output_type": "error",
     "traceback": [
      "\u001b[0;31m---------------------------------------------------------------------------\u001b[0m",
      "\u001b[0;31mModuleNotFoundError\u001b[0m                       Traceback (most recent call last)",
      "Cell \u001b[0;32mIn[1], line 1\u001b[0m\n\u001b[0;32m----> 1\u001b[0m \u001b[38;5;28;01mfrom\u001b[39;00m \u001b[38;5;21;01mthema\u001b[39;00m\u001b[38;5;21;01m.\u001b[39;00m\u001b[38;5;21;01mmultiverse\u001b[39;00m \u001b[38;5;28;01mimport\u001b[39;00m Planet\n",
      "\u001b[0;31mModuleNotFoundError\u001b[0m: No module named 'thema'"
     ]
    }
   ],
   "source": [
    "from thema.multiverse import Planet"
   ]
  },
  {
   "cell_type": "markdown",
   "metadata": {},
   "source": [
    "**Note:** The `Planet` class reads data from files, not DataFrames. It's designed to manage tabular data in its raw form, without needing to manipulate dataframes to scale, encode, etc. beforehand in Python. To use `Planet`, save your raw data to a file (e.g., using `DataFrame.to_pickle`) and pass the file path to the `Planet` constructor."
   ]
  },
  {
   "cell_type": "code",
   "execution_count": 4,
   "metadata": {},
   "outputs": [
    {
     "data": {
      "text/html": [
       "\n",
       "        <style>\n",
       "        .planet-table {\n",
       "            display: none; /* Hide the table by default */\n",
       "            font-family: Arial, sans-serif;\n",
       "            border-collapse: collapse;\n",
       "            width: 100%;\n",
       "            max-width: 600px; /* Set maximum width for the table */\n",
       "        }\n",
       "\n",
       "        .planet-table th {\n",
       "            background-color: #f2f2f2;\n",
       "            border: 1px solid #dddddd;\n",
       "            text-align: left;\n",
       "            padding: 8px;\n",
       "        }\n",
       "\n",
       "        .planet-table td {\n",
       "            border: 1px solid #dddddd;\n",
       "            text-align: left;\n",
       "            padding: 8px;\n",
       "        }\n",
       "\n",
       "        .planet-name {\n",
       "            font-weight: bold;\n",
       "            color: #333;\n",
       "        }\n",
       "\n",
       "        .planet-emoticon {\n",
       "            font-size: 24px;\n",
       "            cursor: pointer; /* Add cursor pointer for clickable effect */\n",
       "            user-select: none; /* Disable text selection for the icon */\n",
       "        }\n",
       "\n",
       "        .planet-emoticon:hover {\n",
       "            color: #007bff; /* Change color on hover for visual feedback */\n",
       "        }\n",
       "        </style>\n",
       "        <h2><span class='planet-emoticon' onclick=\"toggleTable('planet-table-6026166160')\">🪐</span> thema.multiverse.Planet</h2><table class='planet-table' id='planet-table-6026166160'><tr><td class='planet-name'>data</td><td>myRawData.pkl</td></tr><tr><td class='planet-name'>scaler</td><td>standard</td></tr><tr><td class='planet-name'>encoding</td><td>one_hot</td></tr><tr><td class='planet-name'>dropColumns</td><td>[]</td></tr><tr><td class='planet-name'>imputeColumns</td><td>[]</td></tr><tr><td class='planet-name'>imputeMethods</td><td>[]</td></tr><tr><td class='planet-name'>numSamples</td><td>1</td></tr><tr><td class='planet-name'>seeds</td><td>[42]</td></tr><tr><td class='planet-name'>outDir</td><td>None</td></tr></table>\n",
       "        <script>\n",
       "        function toggleTable(id) {\n",
       "            var table = document.getElementById(id);\n",
       "            if (table.style.display === 'none') {\n",
       "                table.style.display = 'table';\n",
       "            } else {\n",
       "                table.style.display = 'none';\n",
       "            }\n",
       "        }\n",
       "        </script>\n",
       "        "
      ],
      "text/plain": [
       "<thema.multiverse.system.inner.planet.Planet at 0x1672fff90>"
      ]
     },
     "execution_count": 4,
     "metadata": {},
     "output_type": "execute_result"
    }
   ],
   "source": [
    "df.to_pickle(\"myRawData.pkl\")\n",
    "\n",
    "data_path = \"myRawData.pkl\"\n",
    "planet = Planet(data = data_path)\n",
    "\n",
    "planet"
   ]
  },
  {
   "cell_type": "markdown",
   "metadata": {},
   "source": [
    "## Step 3: Explore Dataset"
   ]
  },
  {
   "cell_type": "markdown",
   "metadata": {},
   "source": [
    "> `Planet.get_missingData_summary()` Method\n",
    "\n",
    "The `get_missingData_summary` function provides a breakdown of missing and complete data in the columns of the 'data' DataFrame. It returns a dictionary containing the following key-value pairs:\n",
    "\n",
    "- `'numericMissing'`: Numeric columns with missing values.\n",
    "- `'numericComplete'`: Numeric columns without missing values.\n",
    "- `'categoricalMissing'`: Categorical columns with missing values.\n",
    "- `'categoricalComplete'`: Categorical columns without missing values.\n",
    "\n",
    "This function is useful for quickly understanding the data quality and identifying columns that may require imputation or other preprocessing steps.\n"
   ]
  },
  {
   "cell_type": "code",
   "execution_count": 5,
   "metadata": {},
   "outputs": [
    {
     "data": {
      "text/plain": [
       "{'numericMissing': ['Diameter [1000 km]'],\n",
       " 'numericComplete': ['Distance from Sun [au]'],\n",
       " 'categoricalMissing': ['Has Moon'],\n",
       " 'categoricalComplete': ['Name']}"
      ]
     },
     "execution_count": 5,
     "metadata": {},
     "output_type": "execute_result"
    }
   ],
   "source": [
    "planet.get_missingData_summary()"
   ]
  },
  {
   "cell_type": "markdown",
   "metadata": {},
   "source": [
    "> `get_recommended_sampling_method` Method\n",
    "\n",
    "The `get_recommended_sampling_method` method returns a list of recommended sampling methods for columns with missing values. For numeric columns, \"sampleNormal\" is recommended, while for non-numeric columns, \"sampleCategorical\" (most frequent value) is recommended. \n",
    "\n",
    "By using these recommended sampling methods, you can effectively impute missing values in your dataset, ensuring that the data remains representative and usable for analysis without the need to drop rows or columns with missing data."
   ]
  },
  {
   "cell_type": "code",
   "execution_count": 6,
   "metadata": {},
   "outputs": [
    {
     "data": {
      "text/plain": [
       "['sampleNormal', 'mode']"
      ]
     },
     "execution_count": 6,
     "metadata": {},
     "output_type": "execute_result"
    }
   ],
   "source": [
    "planet.get_recomended_sampling_method()"
   ]
  },
  {
   "cell_type": "markdown",
   "metadata": {},
   "source": [
    "> `get_na_as_list` Method\n",
    "\n",
    "The `get_na_as_list` method returns a list of column names that contain NaN values in the DataFrame. These columns correspond to the columns for which the recommended sampling method should be applied (as returned by `get_recommended_sampling_method`), providing a convenient way to identify columns that require imputation due to missing values.\n",
    "\n",
    "By using the `get_na_as_list` method in conjunction with the `get_recommended_sampling_method` method, you can efficiently locate and address missing values in your dataset, ensuring that it is properly prepared for further analysis or modeling."
   ]
  },
  {
   "cell_type": "code",
   "execution_count": 7,
   "metadata": {},
   "outputs": [
    {
     "data": {
      "text/plain": [
       "['Diameter [1000 km]', 'Has Moon']"
      ]
     },
     "execution_count": 7,
     "metadata": {},
     "output_type": "execute_result"
    }
   ],
   "source": [
    "planet.get_na_as_list()"
   ]
  },
  {
   "cell_type": "markdown",
   "metadata": {},
   "source": [
    "## Step 4: Impute"
   ]
  },
  {
   "cell_type": "markdown",
   "metadata": {},
   "source": [
    "Assign `imputeMethods` and `imputeColumns` based on the recommended methods for each column ***OR*** define your own lists\n",
    "\n",
    "Additionally, you can assign `imputeMethods` drop, which will drop using Pandas: `.dropna(axis=0, inplace=True)`"
   ]
  },
  {
   "cell_type": "code",
   "execution_count": 8,
   "metadata": {},
   "outputs": [],
   "source": [
    "planet.imputeMethods = planet.get_recomended_sampling_method()\n",
    "planet.imputeColumns = planet.get_na_as_list()"
   ]
  },
  {
   "cell_type": "markdown",
   "metadata": {},
   "source": [
    "**Why Encode and Scale?**\n",
    "\n",
    "Encoding and scaling are important preprocessing steps in data preparation. Encoding transforms categorical variables into numerical values, making them suitable for machine learning algorithms. Scaling standardizes the range of numerical features, preventing features with large scales from dominating the model.\n",
    "\n",
    "**Default Configuration**\n",
    "\n",
    "- **Scaler**: The default scaling method is \"standard\", which scales features to have a mean of 0 and a variance of 1.\n",
    "- **Encoding**: The default encoding method is \"one_hot\" for all categorical variables, which creates binary columns for each category.\n",
    "\n",
    "**Customization Options**\n",
    "\n",
    "You can customize the encoding and scaling methods to suit your needs. For scaling, you can choose from an sklearn scaler classes. For encoding, you can select \"integer\" encoding for ordinal variables or \"hash\" encoding for high-cardinality categorical variables.\n"
   ]
  },
  {
   "cell_type": "markdown",
   "metadata": {},
   "source": [
    "## Step 5: Assign an `outDir`\n",
    "\n",
    "An `outDir`, or the place to write the imputed, encoded, and scaled data, is where a `thema.multiverse.Moon` object (or objects, see guide on Random Imputation) are saved as `.pkl` files.\n",
    "\n",
    "This can also be done in the constructor or params `.yaml` file"
   ]
  },
  {
   "cell_type": "code",
   "execution_count": 9,
   "metadata": {},
   "outputs": [],
   "source": [
    "planet.outDir = '../'"
   ]
  },
  {
   "cell_type": "markdown",
   "metadata": {},
   "source": [
    "### Fitting"
   ]
  },
  {
   "cell_type": "markdown",
   "metadata": {},
   "source": [
    "## Step 6: Fit `Planet`\n",
    "\n",
    "Fitting cleans, encodes, imputes, etc. your data, and then creates and pickles a `Moon` object containing your data"
   ]
  },
  {
   "cell_type": "code",
   "execution_count": 10,
   "metadata": {},
   "outputs": [
    {
     "name": "stderr",
     "output_type": "stream",
     "text": [
      "Progress: 100%|██████████| 1/1 [00:01<00:00,  1.31s/function]\n"
     ]
    }
   ],
   "source": [
    "planet.fit()"
   ]
  },
  {
   "cell_type": "markdown",
   "metadata": {},
   "source": [
    "Lets view the imputed, cleaned, and scaled data. As the `Planet.fit()` method writes a `thema.multiverse.Moon` object to a `.pkl` file, we will need to read in the file to view the data here. This step is not necessary, but its nice to see what the `fit()` method has done for the purpose of this user guide."
   ]
  },
  {
   "cell_type": "code",
   "execution_count": 11,
   "metadata": {},
   "outputs": [
    {
     "data": {
      "text/html": [
       "<div>\n",
       "<style scoped>\n",
       "    .dataframe tbody tr th:only-of-type {\n",
       "        vertical-align: middle;\n",
       "    }\n",
       "\n",
       "    .dataframe tbody tr th {\n",
       "        vertical-align: top;\n",
       "    }\n",
       "\n",
       "    .dataframe thead th {\n",
       "        text-align: right;\n",
       "    }\n",
       "</style>\n",
       "<table border=\"1\" class=\"dataframe\">\n",
       "  <thead>\n",
       "    <tr style=\"text-align: right;\">\n",
       "      <th></th>\n",
       "      <th>Diameter [1000 km]</th>\n",
       "      <th>Distance from Sun [au]</th>\n",
       "      <th>impute_Diameter [1000 km]</th>\n",
       "      <th>impute_Has Moon</th>\n",
       "      <th>OH_Name_Earth</th>\n",
       "      <th>OH_Name_Jupiter</th>\n",
       "      <th>OH_Name_Mercury</th>\n",
       "      <th>OH_Name_Saturn</th>\n",
       "      <th>OH_Name_Venus</th>\n",
       "      <th>OH_Has Moon_No</th>\n",
       "      <th>OH_Has Moon_Yes</th>\n",
       "    </tr>\n",
       "  </thead>\n",
       "  <tbody>\n",
       "    <tr>\n",
       "      <th>0</th>\n",
       "      <td>-1.539942</td>\n",
       "      <td>-0.838899</td>\n",
       "      <td>-0.5</td>\n",
       "      <td>-0.5</td>\n",
       "      <td>-0.5</td>\n",
       "      <td>-0.5</td>\n",
       "      <td>2.0</td>\n",
       "      <td>-0.5</td>\n",
       "      <td>-0.5</td>\n",
       "      <td>0.816497</td>\n",
       "      <td>-0.816497</td>\n",
       "    </tr>\n",
       "    <tr>\n",
       "      <th>1</th>\n",
       "      <td>0.687761</td>\n",
       "      <td>-0.746250</td>\n",
       "      <td>-0.5</td>\n",
       "      <td>-0.5</td>\n",
       "      <td>-0.5</td>\n",
       "      <td>-0.5</td>\n",
       "      <td>-0.5</td>\n",
       "      <td>-0.5</td>\n",
       "      <td>2.0</td>\n",
       "      <td>0.816497</td>\n",
       "      <td>-0.816497</td>\n",
       "    </tr>\n",
       "    <tr>\n",
       "      <th>2</th>\n",
       "      <td>0.496918</td>\n",
       "      <td>-0.667638</td>\n",
       "      <td>2.0</td>\n",
       "      <td>-0.5</td>\n",
       "      <td>2.0</td>\n",
       "      <td>-0.5</td>\n",
       "      <td>-0.5</td>\n",
       "      <td>-0.5</td>\n",
       "      <td>-0.5</td>\n",
       "      <td>-1.224745</td>\n",
       "      <td>1.224745</td>\n",
       "    </tr>\n",
       "    <tr>\n",
       "      <th>3</th>\n",
       "      <td>1.138238</td>\n",
       "      <td>0.511538</td>\n",
       "      <td>-0.5</td>\n",
       "      <td>-0.5</td>\n",
       "      <td>-0.5</td>\n",
       "      <td>2.0</td>\n",
       "      <td>-0.5</td>\n",
       "      <td>-0.5</td>\n",
       "      <td>-0.5</td>\n",
       "      <td>-1.224745</td>\n",
       "      <td>1.224745</td>\n",
       "    </tr>\n",
       "    <tr>\n",
       "      <th>4</th>\n",
       "      <td>-0.782975</td>\n",
       "      <td>1.741249</td>\n",
       "      <td>-0.5</td>\n",
       "      <td>2.0</td>\n",
       "      <td>-0.5</td>\n",
       "      <td>-0.5</td>\n",
       "      <td>-0.5</td>\n",
       "      <td>2.0</td>\n",
       "      <td>-0.5</td>\n",
       "      <td>0.816497</td>\n",
       "      <td>-0.816497</td>\n",
       "    </tr>\n",
       "  </tbody>\n",
       "</table>\n",
       "</div>"
      ],
      "text/plain": [
       "   Diameter [1000 km]  Distance from Sun [au]  impute_Diameter [1000 km]  \\\n",
       "0           -1.539942               -0.838899                       -0.5   \n",
       "1            0.687761               -0.746250                       -0.5   \n",
       "2            0.496918               -0.667638                        2.0   \n",
       "3            1.138238                0.511538                       -0.5   \n",
       "4           -0.782975                1.741249                       -0.5   \n",
       "\n",
       "   impute_Has Moon  OH_Name_Earth  OH_Name_Jupiter  OH_Name_Mercury  \\\n",
       "0             -0.5           -0.5             -0.5              2.0   \n",
       "1             -0.5           -0.5             -0.5             -0.5   \n",
       "2             -0.5            2.0             -0.5             -0.5   \n",
       "3             -0.5           -0.5              2.0             -0.5   \n",
       "4              2.0           -0.5             -0.5             -0.5   \n",
       "\n",
       "   OH_Name_Saturn  OH_Name_Venus  OH_Has Moon_No  OH_Has Moon_Yes  \n",
       "0            -0.5           -0.5        0.816497        -0.816497  \n",
       "1            -0.5            2.0        0.816497        -0.816497  \n",
       "2            -0.5           -0.5       -1.224745         1.224745  \n",
       "3            -0.5           -0.5       -1.224745         1.224745  \n",
       "4             2.0           -0.5        0.816497        -0.816497  "
      ]
     },
     "execution_count": 11,
     "metadata": {},
     "output_type": "execute_result"
    }
   ],
   "source": [
    "pd.read_pickle('myRawData_standard_one_hot_imputed_0.pkl').imputeData"
   ]
  },
  {
   "cell_type": "markdown",
   "metadata": {},
   "source": [
    "## Step 7: Get Params\n",
    "\n",
    "You can also use the `planet.writeParams_toYaml()` method to write this dictionary to a `.yaml` file, which in turn can be passed to the `Planet` constructor as a `YAML_PATH` for quick pipelining. This will eliminate the need to explore, scale, encode, etc. your data again."
   ]
  },
  {
   "cell_type": "code",
   "execution_count": 12,
   "metadata": {},
   "outputs": [
    {
     "data": {
      "text/plain": [
       "{'data': 'myRawData.pkl',\n",
       " 'scaler': 'standard',\n",
       " 'encoding': 'one_hot',\n",
       " 'dropColumns': [],\n",
       " 'imputeColumns': ['Diameter [1000 km]', 'Has Moon'],\n",
       " 'imputeMethods': ['sampleNormal', 'mode'],\n",
       " 'numSamples': 1,\n",
       " 'seeds': [42],\n",
       " 'outDir': '../'}"
      ]
     },
     "execution_count": 12,
     "metadata": {},
     "output_type": "execute_result"
    }
   ],
   "source": [
    "planet.getParams()"
   ]
  },
  {
   "cell_type": "markdown",
   "metadata": {},
   "source": [
    "Once you have explored your data and determined how to best preprocess, this entire workflow can be streamlined using the following code:\n",
    "\n",
    "```python\n",
    "from thema.multiverse import Planet\n",
    "\n",
    "yaml = \"<PATH TO params.yaml>\"\n",
    "\n",
    "planet = Planet(YAML_PATH=yaml)\n",
    "planet.fit()\n",
    "```"
   ]
  }
 ],
 "metadata": {
  "kernelspec": {
   "display_name": "thema_env",
   "language": "python",
   "name": "python3"
  },
  "language_info": {
   "codemirror_mode": {
    "name": "ipython",
    "version": 3
   },
   "file_extension": ".py",
   "mimetype": "text/x-python",
   "name": "python",
   "nbconvert_exporter": "python",
   "pygments_lexer": "ipython3",
   "version": "3.11.8"
  }
 },
 "nbformat": 4,
 "nbformat_minor": 2
}
