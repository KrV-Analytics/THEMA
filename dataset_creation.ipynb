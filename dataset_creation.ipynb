{
 "cells": [
  {
   "cell_type": "code",
   "execution_count": 1,
   "id": "2f316a93",
   "metadata": {},
   "outputs": [],
   "source": [
    "from coal_mapper import *\n",
    "import os"
   ]
  },
  {
   "cell_type": "markdown",
   "id": "0ea86288",
   "metadata": {},
   "source": [
    "### Initial Functions – Cleaning eGrid Data"
   ]
  },
  {
   "cell_type": "code",
   "execution_count": 2,
   "id": "4c650b7d",
   "metadata": {},
   "outputs": [],
   "source": [
    "def findYear(str):\n",
    "    \n",
    "    '''Finds the eGrid Data year within the file name passed to the function.\n",
    "    Used for plant labeling purposes – seperating active from decomissioned plants'''\n",
    "    str = str.lower()\n",
    "    for i in range(0,len(str)):\n",
    "        if (str[i:i+5] == \"egrid\"):\n",
    "            return str[i+5:i+9]"
   ]
  },
  {
   "cell_type": "code",
   "execution_count": 3,
   "id": "1a03d231",
   "metadata": {},
   "outputs": [],
   "source": [
    "def makeYearintoSheetName(str):\n",
    "    '''Due to the nature of the EIA eGrid datasets, each .xlsx file has many sheet names.\n",
    "    This function ensures the PLNT sheet is selected and read in'''\n",
    "    year = findYear(str)\n",
    "    return \"PLNT\"+year[2:4]"
   ]
  },
  {
   "cell_type": "code",
   "execution_count": 4,
   "id": "a1f87d68",
   "metadata": {},
   "outputs": [],
   "source": [
    "def findHeader(df):\n",
    "    '''Because the eGrid datasheets are mnot standardized from year to year, this function is a necessity.\n",
    "    Finds the row of data labels, allowing us to make it the top of our pd.Dataframe'''\n",
    "    df2 = df\n",
    "    test = df2[df2.columns[1]]\n",
    "    for i in range(0, 10):\n",
    "        if test[i] == \"AK\":\n",
    "            break\n",
    "        nmu = i\n",
    "    return nmu"
   ]
  },
  {
   "cell_type": "code",
   "execution_count": 5,
   "id": "326b3a37",
   "metadata": {},
   "outputs": [],
   "source": [
    "def isDecom(id):\n",
    "    if id == \"2020\":\n",
    "        return 0\n",
    "    else:\n",
    "        return 1"
   ]
  },
  {
   "cell_type": "markdown",
   "id": "7237dc57",
   "metadata": {},
   "source": [
    "comment outlined sections of code to change to switch plant fuel type in the dataset; this study focuses only on coal"
   ]
  },
  {
   "cell_type": "code",
   "execution_count": 6,
   "id": "40d91ce7",
   "metadata": {},
   "outputs": [],
   "source": [
    "def cleanEIAegrid(str):\n",
    "    '''Reads in and cleans an eGrid .xlsx\n",
    "    Cleans it for use with the Kepler Mapper'''\n",
    "    \n",
    "    df_n = pd.read_excel(str, makeYearintoSheetName(str), header = 1)\n",
    "\n",
    "    if (int(findYear(str)) < 2014):\n",
    "        df = pd.read_excel(str, makeYearintoSheetName(str), header = findHeader(df_n)+2)\n",
    "    else:\n",
    "        df = df_n\n",
    "\n",
    "    eyear = findYear(str)\n",
    "    \n",
    "    \n",
    "#### comment out the below code to create dataset of all plants, not just coal. ####\n",
    "#### edit code below to create a dataset of any powerplant fuel category. ####\n",
    "    df = df[df['PLFUELCT'] == 'COAL']\n",
    "    df2 = df[df['COALFLAG'] == 1]\n",
    "    if (df2.size <2):\n",
    "        df2 = df[df['COALFLAG'] == 'Yes']\n",
    "    df = df2\n",
    "#### end edits section ####\n",
    "\n",
    "    df['Year'] = eyear\n",
    "    df = df[['Year', 'ORISPL', 'PSTATABB', 'LAT', 'LON', 'PNAME', 'FIPSST', 'FIPSCNTY',  'CAPFAC', 'PLNGENAN', 'PLNOXAN', 'PLSO2AN', 'PLCO2AN', 'PLFUELCT']]\n",
    "    df = df.assign(label=eyear + \": \" + df['PNAME'] + \", \" + df['PSTATABB'])\n",
    "    df.reset_index(drop=True, inplace=True)\n",
    "    df = df.dropna()\n",
    "\n",
    "    return df"
   ]
  },
  {
   "cell_type": "code",
   "execution_count": 7,
   "id": "fe37ef0c",
   "metadata": {},
   "outputs": [],
   "source": [
    "def makeEIADataSet(list):\n",
    "    '''Takes a list of EIA eGRID datasets as the input. Creates a combined coal_mapper dataset out of each excel file.\n",
    "    \n",
    "    EX. list = os.listdir(\"egrid 2005-2020\") where \"egrid 2005-2020\" is a folder containing all EIA eGrid datasets with a sheet named PLNT05 (or any other year suffix) from the subset of years.'''\n",
    "\n",
    "    df = pd.DataFrame()\n",
    "\n",
    "    for i in list:\n",
    "        df = pd.concat([cleanEIAegrid(i), df], axis=0)\n",
    "\n",
    "    dfCOPY = df\n",
    "    dfCOPY = dfCOPY.sort_values(['ORISPL', 'Year'], ascending=[True, True])\n",
    "    dfCOPY = dfCOPY.drop_duplicates(subset = \"ORISPL\", keep = 'last')\n",
    "    dfCOPY = dfCOPY.reset_index()\n",
    "    dfCOPY = dfCOPY.iloc[: , 1:]\n",
    "   \n",
    "    dfCOPY['decom'] = dfCOPY['Year'].apply(isDecom)\n",
    "    dfCOPY['CarbonIntensity'] = dfCOPY['PLCO2AN'] / dfCOPY['PLNGENAN']\n",
    "\n",
    "    dfCOPY = dfCOPY[dfCOPY.CAPFAC > 0]\n",
    "\n",
    "    return dfCOPY"
   ]
  },
  {
   "cell_type": "markdown",
   "id": "e7ef2683",
   "metadata": {},
   "source": [
    "### An Example of what it looks to refrence the folder of eGrid data used to create the dataset"
   ]
  },
  {
   "cell_type": "code",
   "execution_count": 8,
   "id": "28cc4c23",
   "metadata": {},
   "outputs": [
    {
     "name": "stdout",
     "output_type": "stream",
     "text": [
      "['eGRID2012_Data.xlsx', '.DS_Store', 'egrid2019_data.xlsx', 'egrid2020_data.xlsx', 'eGRID2010_Data.xls', 'egrid2018_data_v2.xlsx', 'eGRID2009_data.xls', 'egrid2016_data.xlsx', 'eGRID2014_Data_v2.xlsx', 'eGRID2005_plant.xls']\n"
     ]
    }
   ],
   "source": [
    "list = os.listdir(\"egrid 2005-2020\")\n",
    "print(list)"
   ]
  },
  {
   "cell_type": "code",
   "execution_count": 9,
   "id": "0d5d415b",
   "metadata": {
    "scrolled": true
   },
   "outputs": [
    {
     "name": "stdout",
     "output_type": "stream",
     "text": [
      "['eGRID2012_Data.xlsx', 'egrid2019_data.xlsx', 'egrid2020_data.xlsx', 'eGRID2010_Data.xls', 'egrid2018_data_v2.xlsx', 'eGRID2009_data.xls', 'egrid2016_data.xlsx', 'eGRID2014_Data_v2.xlsx', 'eGRID2005_plant.xls']\n"
     ]
    }
   ],
   "source": [
    "list.remove('.DS_Store')\n",
    "print(list)"
   ]
  },
  {
   "cell_type": "markdown",
   "id": "2c3c4006",
   "metadata": {},
   "source": [
    "# Dataset Creation"
   ]
  },
  {
   "cell_type": "code",
   "execution_count": 10,
   "id": "57801563",
   "metadata": {
    "scrolled": true
   },
   "outputs": [
    {
     "data": {
      "text/html": [
       "<div>\n",
       "<style scoped>\n",
       "    .dataframe tbody tr th:only-of-type {\n",
       "        vertical-align: middle;\n",
       "    }\n",
       "\n",
       "    .dataframe tbody tr th {\n",
       "        vertical-align: top;\n",
       "    }\n",
       "\n",
       "    .dataframe thead th {\n",
       "        text-align: right;\n",
       "    }\n",
       "</style>\n",
       "<table border=\"1\" class=\"dataframe\">\n",
       "  <thead>\n",
       "    <tr style=\"text-align: right;\">\n",
       "      <th></th>\n",
       "      <th>Year</th>\n",
       "      <th>ORISPL</th>\n",
       "      <th>PSTATABB</th>\n",
       "      <th>LAT</th>\n",
       "      <th>LON</th>\n",
       "      <th>PNAME</th>\n",
       "      <th>FIPSST</th>\n",
       "      <th>FIPSCNTY</th>\n",
       "      <th>CAPFAC</th>\n",
       "      <th>PLNGENAN</th>\n",
       "      <th>PLNOXAN</th>\n",
       "      <th>PLSO2AN</th>\n",
       "      <th>PLCO2AN</th>\n",
       "      <th>PLFUELCT</th>\n",
       "      <th>label</th>\n",
       "      <th>decom</th>\n",
       "      <th>CarbonIntensity</th>\n",
       "    </tr>\n",
       "  </thead>\n",
       "  <tbody>\n",
       "    <tr>\n",
       "      <th>0</th>\n",
       "      <td>2019</td>\n",
       "      <td>1.0</td>\n",
       "      <td>AK</td>\n",
       "      <td>55.339722</td>\n",
       "      <td>-160.497222</td>\n",
       "      <td>Sand Point</td>\n",
       "      <td>2</td>\n",
       "      <td>13.0</td>\n",
       "      <td>0.10788</td>\n",
       "      <td>3780.0</td>\n",
       "      <td>46.290</td>\n",
       "      <td>4.195</td>\n",
       "      <td>2362.834</td>\n",
       "      <td>OIL</td>\n",
       "      <td>2019: Sand Point, AK</td>\n",
       "      <td>1</td>\n",
       "      <td>0.625088</td>\n",
       "    </tr>\n",
       "    <tr>\n",
       "      <th>1</th>\n",
       "      <td>2020</td>\n",
       "      <td>3.0</td>\n",
       "      <td>AL</td>\n",
       "      <td>31.006900</td>\n",
       "      <td>-88.010300</td>\n",
       "      <td>Barry</td>\n",
       "      <td>1</td>\n",
       "      <td>97.0</td>\n",
       "      <td>0.33150</td>\n",
       "      <td>10499146.0</td>\n",
       "      <td>1656.340</td>\n",
       "      <td>1283.600</td>\n",
       "      <td>6846726.509</td>\n",
       "      <td>COAL</td>\n",
       "      <td>2020: Barry, AL</td>\n",
       "      <td>0</td>\n",
       "      <td>0.652122</td>\n",
       "    </tr>\n",
       "    <tr>\n",
       "      <th>2</th>\n",
       "      <td>2020</td>\n",
       "      <td>7.0</td>\n",
       "      <td>AL</td>\n",
       "      <td>34.012800</td>\n",
       "      <td>-85.970800</td>\n",
       "      <td>Gadsden</td>\n",
       "      <td>1</td>\n",
       "      <td>55.0</td>\n",
       "      <td>0.04172</td>\n",
       "      <td>50435.0</td>\n",
       "      <td>43.278</td>\n",
       "      <td>0.232</td>\n",
       "      <td>40707.358</td>\n",
       "      <td>GAS</td>\n",
       "      <td>2020: Gadsden, AL</td>\n",
       "      <td>0</td>\n",
       "      <td>0.807125</td>\n",
       "    </tr>\n",
       "    <tr>\n",
       "      <th>3</th>\n",
       "      <td>2019</td>\n",
       "      <td>8.0</td>\n",
       "      <td>AL</td>\n",
       "      <td>33.644344</td>\n",
       "      <td>-87.196486</td>\n",
       "      <td>Gorgas</td>\n",
       "      <td>1</td>\n",
       "      <td>127.0</td>\n",
       "      <td>0.03954</td>\n",
       "      <td>490760.0</td>\n",
       "      <td>490.525</td>\n",
       "      <td>142.687</td>\n",
       "      <td>598479.725</td>\n",
       "      <td>COAL</td>\n",
       "      <td>2019: Gorgas, AL</td>\n",
       "      <td>1</td>\n",
       "      <td>1.219496</td>\n",
       "    </tr>\n",
       "    <tr>\n",
       "      <th>4</th>\n",
       "      <td>2020</td>\n",
       "      <td>9.0</td>\n",
       "      <td>TX</td>\n",
       "      <td>31.756900</td>\n",
       "      <td>-106.375000</td>\n",
       "      <td>Copper Station</td>\n",
       "      <td>48</td>\n",
       "      <td>141.0</td>\n",
       "      <td>0.04452</td>\n",
       "      <td>33888.0</td>\n",
       "      <td>99.154</td>\n",
       "      <td>0.194</td>\n",
       "      <td>39306.020</td>\n",
       "      <td>GAS</td>\n",
       "      <td>2020: Copper Station, TX</td>\n",
       "      <td>0</td>\n",
       "      <td>1.159880</td>\n",
       "    </tr>\n",
       "  </tbody>\n",
       "</table>\n",
       "</div>"
      ],
      "text/plain": [
       "   Year  ORISPL PSTATABB        LAT         LON           PNAME  FIPSST  \\\n",
       "0  2019     1.0       AK  55.339722 -160.497222      Sand Point       2   \n",
       "1  2020     3.0       AL  31.006900  -88.010300           Barry       1   \n",
       "2  2020     7.0       AL  34.012800  -85.970800         Gadsden       1   \n",
       "3  2019     8.0       AL  33.644344  -87.196486          Gorgas       1   \n",
       "4  2020     9.0       TX  31.756900 -106.375000  Copper Station      48   \n",
       "\n",
       "   FIPSCNTY   CAPFAC    PLNGENAN   PLNOXAN   PLSO2AN      PLCO2AN PLFUELCT  \\\n",
       "0      13.0  0.10788      3780.0    46.290     4.195     2362.834      OIL   \n",
       "1      97.0  0.33150  10499146.0  1656.340  1283.600  6846726.509     COAL   \n",
       "2      55.0  0.04172     50435.0    43.278     0.232    40707.358      GAS   \n",
       "3     127.0  0.03954    490760.0   490.525   142.687   598479.725     COAL   \n",
       "4     141.0  0.04452     33888.0    99.154     0.194    39306.020      GAS   \n",
       "\n",
       "                      label  decom  CarbonIntensity  \n",
       "0      2019: Sand Point, AK      1         0.625088  \n",
       "1           2020: Barry, AL      0         0.652122  \n",
       "2         2020: Gadsden, AL      0         0.807125  \n",
       "3          2019: Gorgas, AL      1         1.219496  \n",
       "4  2020: Copper Station, TX      0         1.159880  "
      ]
     },
     "execution_count": 10,
     "metadata": {},
     "output_type": "execute_result"
    }
   ],
   "source": [
    "whole = makeEIADataSet(list)\n",
    "whole.head()"
   ]
  },
  {
   "cell_type": "code",
   "execution_count": 15,
   "id": "0ca67f53",
   "metadata": {
    "scrolled": true
   },
   "outputs": [
    {
     "name": "stdout",
     "output_type": "stream",
     "text": [
      "<class 'pandas.core.frame.DataFrame'>\n",
      "Int64Index: 4041 entries, 0 to 4613\n",
      "Data columns (total 18 columns):\n",
      " #   Column           Non-Null Count  Dtype  \n",
      "---  ------           --------------  -----  \n",
      " 0   Year             4041 non-null   object \n",
      " 1   ORISPL           4041 non-null   float64\n",
      " 2   PSTATABB         4041 non-null   object \n",
      " 3   LAT              4041 non-null   float64\n",
      " 4   LON              4041 non-null   float64\n",
      " 5   PNAME            4041 non-null   object \n",
      " 6   FIPSST           4041 non-null   int64  \n",
      " 7   FIPSCNTY         4041 non-null   float64\n",
      " 8   CAPFAC           4041 non-null   float64\n",
      " 9   PLNGENAN         4041 non-null   float64\n",
      " 10  PLNOXAN          4041 non-null   float64\n",
      " 11  PLSO2AN          4041 non-null   float64\n",
      " 12  PLCO2AN          4041 non-null   float64\n",
      " 13  PLFUELCT         4041 non-null   object \n",
      " 14  label            4041 non-null   object \n",
      " 15  decom            4041 non-null   int64  \n",
      " 16  CarbonIntensity  4041 non-null   float64\n",
      " 17  fuel             4041 non-null   int64  \n",
      "dtypes: float64(10), int64(3), object(5)\n",
      "memory usage: 599.8+ KB\n"
     ]
    }
   ],
   "source": [
    "whole.info()"
   ]
  },
  {
   "cell_type": "code",
   "execution_count": null,
   "id": "b9889f53",
   "metadata": {},
   "outputs": [],
   "source": []
  },
  {
   "cell_type": "markdown",
   "id": "74baaf8f",
   "metadata": {},
   "source": [
    "### example sorting a dataset including all powerplants into fuel categories that can be viewed in a mapper"
   ]
  },
  {
   "cell_type": "code",
   "execution_count": null,
   "id": "2955d421",
   "metadata": {},
   "outputs": [],
   "source": [
    "def fuelType(id):\n",
    "    if id == 'COAL':\n",
    "        return 0\n",
    "    elif id == \"GAS\":\n",
    "        return 1\n",
    "    elif id == \"OIL\":\n",
    "        return 2\n",
    "    else:\n",
    "        return 4"
   ]
  },
  {
   "cell_type": "code",
   "execution_count": 14,
   "id": "25c658b5",
   "metadata": {},
   "outputs": [],
   "source": [
    "whole['fuel'] = whole['PLFUELCT'].apply(fuelType)"
   ]
  },
  {
   "cell_type": "code",
   "execution_count": null,
   "id": "789cfa89",
   "metadata": {},
   "outputs": [
    {
     "name": "stdout",
     "output_type": "stream",
     "text": [
      "KeplerMapper(verbose=2)\n",
      "Mapping on data shaped (3254, 5) using lens shaped (3254, 5)\n",
      "\n",
      "Minimal points in hypercube before clustering: 2\n",
      "Creating 3200000 hypercubes.\n"
     ]
    }
   ],
   "source": [
    "#map with 2 lenses\n",
    "\n",
    "from sklearn import ensemble, cluster\n",
    "\n",
    "df = whole\n",
    "df = df[df['decom']==0]\n",
    "df2 = StandardScaler().fit_transform(df[['Year','PLCO2AN', 'PLSO2AN', 'PLNOXAN', 'CarbonIntensity']])\n",
    "df3 = df[['PLCO2AN', 'PLSO2AN', 'PLNOXAN', 'CarbonIntensity', 'fuel']]\n",
    "\n",
    "colors = df3\n",
    "labels = mapper_labels(df['label'])\n",
    "\n",
    "cubes = 20\n",
    "overlap = 0.2\n",
    "clusters = 5\n",
    "\n",
    "\n",
    "mapper = km.KeplerMapper(verbose=2)\n",
    "\n",
    "#projector = ensemble.IsolationForest(random_state=0, n_jobs=-1)\n",
    "#projector.fit(df2)\n",
    "#lens3 = mapper.fit_transform(df2, projection=PCA(n_components=1))\n",
    "\n",
    "graph_new = mapper.map(\n",
    "    df2,\n",
    "    remove_duplicate_nodes=True,\n",
    "    cover=km.Cover(n_cubes=cubes, perc_overlap=overlap),\n",
    "    clusterer=cluster.KMeans(clusters))\n",
    "\n",
    "my_colorscale = [[0.0, '#001219'],\n",
    "             [0.1, '#005f73'],\n",
    "             [0.2, '#0a9396'],\n",
    "             [0.3, '#94d2bd'],\n",
    "             [0.4, '#e9d8a6'],\n",
    "             [0.5, '#ee9b00'],\n",
    "             [0.6, '#ca6702'],\n",
    "             [0.7, '#bb3e03'],\n",
    "             [0.8, '#ae2012'],\n",
    "             [0.9, '#9b2226'],\n",
    "             [1.0, '#a50026']]  \n",
    "\n",
    "mapper.visualize(\n",
    "    graph_new,\n",
    "    path_html=\"mappers/allInstances.html\",\n",
    "    title=\"'PLCO2AN', 'PLSO2AN', 'PLNOXAN', 'PLNGENAN',  'CarbonIntensity', 'Year', 'post2004RetrofitCosts', 'StateMineEmployment', 'CO2limitsOppose' (\" +str(cubes)+ \" cubes at \" +str(overlap*100) + \"% overlap) with Plant Labels\",\n",
    "    custom_tooltips=labels,\n",
    "    color_values = colors,\n",
    "    colorscale=my_colorscale,\n",
    "    color_function_name=['PLCO2AN', 'PLSO2AN', 'PLNOXAN', 'CarbonIntensity', 'fuel'],\n",
    "    node_color_function=['mean', 'median', 'max'],\n",
    "    include_searchbar = True, \n",
    "    #include_intersection_selector= True\n",
    ")\n",
    "\n"
   ]
  },
  {
   "cell_type": "code",
   "execution_count": null,
   "id": "78b31799",
   "metadata": {},
   "outputs": [],
   "source": []
  },
  {
   "cell_type": "code",
   "execution_count": null,
   "id": "313fe2f5",
   "metadata": {},
   "outputs": [],
   "source": []
  }
 ],
 "metadata": {
  "kernelspec": {
   "display_name": "Python 3",
   "language": "python",
   "name": "python3"
  },
  "language_info": {
   "codemirror_mode": {
    "name": "ipython",
    "version": 3
   },
   "file_extension": ".py",
   "mimetype": "text/x-python",
   "name": "python",
   "nbconvert_exporter": "python",
   "pygments_lexer": "ipython3",
   "version": "3.8.8"
  }
 },
 "nbformat": 4,
 "nbformat_minor": 5
}
