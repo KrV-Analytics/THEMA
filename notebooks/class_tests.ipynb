{
 "cells": [
  {
   "cell_type": "code",
   "execution_count": 1,
   "id": "695bb25e",
   "metadata": {},
   "outputs": [],
   "source": [
    "import numpy as np\n",
    "import pandas as pd\n",
    "import kmapper as km\n",
    "import networkx as nx\n",
    "import matplotlib \n",
    "import sklearn\n",
    "from sklearn import ensemble\n",
    "\n",
    "import sys\n",
    "sys.path.append(\"../\")\n",
    "from coal_mapper.mapper import CoalMapper\n",
    "\n",
    "import warnings\n",
    "warnings.filterwarnings(\"ignore\")"
   ]
  },
  {
   "cell_type": "markdown",
   "id": "0297d5c9",
   "metadata": {},
   "source": [
    "# Testing with Breast Cancer Data Set"
   ]
  },
  {
   "cell_type": "code",
   "execution_count": null,
   "id": "0be64cd3",
   "metadata": {},
   "outputs": [],
   "source": [
    "df = pd.read_csv(\"/Users/jeremy.wayland/Downloads/data.csv\")\n",
    "feature_names = [c for c in df.columns if c not in [\"id\", \"diagnosis\"]]\n",
    "df[\"diagnosis\"] = df[\"diagnosis\"].apply(lambda x: 1 if x == \"M\" else 0)\n",
    "X = np.array(df[feature_names].fillna(0))  # quick and dirty imputation\n",
    "y = np.array(df[\"diagnosis\"])"
   ]
  },
  {
   "cell_type": "code",
   "execution_count": null,
   "id": "8352a104",
   "metadata": {},
   "outputs": [],
   "source": [
    "# Create Object\n",
    "test = CoalMapper(X=X)"
   ]
  },
  {
   "cell_type": "code",
   "execution_count": null,
   "id": "d070dbf8",
   "metadata": {},
   "outputs": [],
   "source": [
    "#Check Data\n",
    "test.data"
   ]
  },
  {
   "cell_type": "code",
   "execution_count": null,
   "id": "a17b18be",
   "metadata": {},
   "outputs": [],
   "source": [
    "# Construct Lens as in KM example\n",
    "model = ensemble.IsolationForest(random_state=1729)\n",
    "model.fit(X)\n",
    "lens1 = model.decision_function(X).reshape((X.shape[0], 1))\n",
    "\n",
    "mapper = km.KeplerMapper(verbose=3)\n",
    "lens2 = mapper.fit_transform(X, projection=\"l2norm\")"
   ]
  },
  {
   "cell_type": "code",
   "execution_count": null,
   "id": "cb5d7770",
   "metadata": {},
   "outputs": [],
   "source": [
    "# Assign Lens and Clusterer to Object\n",
    "test.lens = np.c_[lens1, lens2]\n",
    "test.clusterer = sklearn.cluster.KMeans(n_clusters=2, random_state=1618033)"
   ]
  },
  {
   "cell_type": "code",
   "execution_count": null,
   "id": "835d3ca1",
   "metadata": {},
   "outputs": [],
   "source": [
    "# Compute Mapper with Object\n",
    "test.compute_mapper(n_cubes=2, perc_overlap=0.4)"
   ]
  },
  {
   "cell_type": "code",
   "execution_count": null,
   "id": "329d9c1c",
   "metadata": {},
   "outputs": [],
   "source": [
    "# Check Output, saved as mapper attribute\n",
    "test.mapper"
   ]
  },
  {
   "cell_type": "code",
   "execution_count": null,
   "id": "a1ac2be7",
   "metadata": {},
   "outputs": [],
   "source": [
    "# Original Code from Example\n",
    "mapper = km.KeplerMapper(verbose=3)\n",
    "lens2 = mapper.fit_transform(X, projection=\"l2norm\")\n",
    "\n",
    "lens = np.c_[lens1, lens2]\n",
    "\n",
    "\n",
    "graph = mapper.map(\n",
    "    lens,\n",
    "    X,\n",
    "    cover=km.Cover(n_cubes=2, perc_overlap=0.4),\n",
    "    clusterer=sklearn.cluster.KMeans(n_clusters=2, random_state=1618033),#nerve=trial_nerve\n",
    ")"
   ]
  },
  {
   "cell_type": "code",
   "execution_count": null,
   "id": "071ca1ba",
   "metadata": {},
   "outputs": [],
   "source": [
    "# Sanity Checks\n",
    "graph[\"nodes\"] == test.mapper['nodes']"
   ]
  },
  {
   "cell_type": "code",
   "execution_count": null,
   "id": "e8e406fb",
   "metadata": {},
   "outputs": [],
   "source": [
    "graph[\"links\"] == test.mapper['links']"
   ]
  },
  {
   "cell_type": "code",
   "execution_count": null,
   "id": "b852f8f2",
   "metadata": {},
   "outputs": [],
   "source": [
    "graph[\"simplices\"] == test.mapper['simplices']"
   ]
  },
  {
   "cell_type": "code",
   "execution_count": null,
   "id": "cc17dec3",
   "metadata": {},
   "outputs": [],
   "source": [
    "# Convert to Networkx\n",
    "G = test.mapper_to_networkx()"
   ]
  },
  {
   "cell_type": "code",
   "execution_count": null,
   "id": "bdf5ce15",
   "metadata": {},
   "outputs": [],
   "source": [
    "nx.draw(G)"
   ]
  },
  {
   "cell_type": "code",
   "execution_count": null,
   "id": "70d6f411",
   "metadata": {},
   "outputs": [],
   "source": [
    "# Generate Conncted Components\n",
    "a,b = test.connected_components()"
   ]
  },
  {
   "cell_type": "code",
   "execution_count": null,
   "id": "6ec9d591",
   "metadata": {},
   "outputs": [],
   "source": [
    "nx.draw(a)"
   ]
  },
  {
   "cell_type": "code",
   "execution_count": null,
   "id": "22a3eb5a",
   "metadata": {},
   "outputs": [],
   "source": [
    "nx.draw(b)"
   ]
  },
  {
   "cell_type": "code",
   "execution_count": null,
   "id": "8700705c",
   "metadata": {},
   "outputs": [],
   "source": [
    "# Lookup Item, here by index\n",
    "\n",
    "    # which clusters is `0` in?\n",
    "test.item_lookup(0)[0].keys()"
   ]
  },
  {
   "cell_type": "code",
   "execution_count": null,
   "id": "f8974e52",
   "metadata": {},
   "outputs": [],
   "source": [
    "# Subgraph\n",
    "    # what is the subgraph generated by the clusters that contain `0`. I.e. What does `0` contribute to in Mapper output\n",
    "nx.draw(test.item_lookup(0)[1])"
   ]
  }
 ],
 "metadata": {
  "kernelspec": {
   "display_name": "base",
   "language": "python",
   "name": "python3"
  },
  "language_info": {
   "codemirror_mode": {
    "name": "ipython",
    "version": 3
   },
   "file_extension": ".py",
   "mimetype": "text/x-python",
   "name": "python",
   "nbconvert_exporter": "python",
   "pygments_lexer": "ipython3",
   "version": "3.8.8"
  },
  "vscode": {
   "interpreter": {
    "hash": "3dd0a51faaeacd0d3933b15d4c892517a314c53aae22c98897ac16333be372e4"
   }
  }
 },
 "nbformat": 4,
 "nbformat_minor": 5
}
