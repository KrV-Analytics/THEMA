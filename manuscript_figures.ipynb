{
 "cells": [
  {
   "cell_type": "code",
   "execution_count": 44,
   "metadata": {},
   "outputs": [],
   "source": [
    "from coal_mapper_dataset import *\n",
    "from coal_mapper import *\n",
    "import pandas as pd\n",
    "import numpy as np\n",
    "import sklearn\n",
    "import seaborn as sns\n",
    "import plotly_express as px\n",
    "from plotly.subplots import make_subplots"
   ]
  },
  {
   "cell_type": "code",
   "execution_count": null,
   "id": "d96529fd",
   "metadata": {},
   "outputs": [],
   "source": []
  },
  {
   "cell_type": "code",
   "execution_count": 45,
   "id": "f38e093c",
   "metadata": {},
   "outputs": [],
   "source": [
    "total = pd.read_excel('AAtotal.xlsx')\n",
    "del total['level_0']\n"
   ]
  },
  {
   "cell_type": "code",
   "execution_count": 105,
   "id": "6d603be0",
   "metadata": {},
   "outputs": [],
   "source": [
    "gen = pd.read_excel('egrid 2005-2020/egrid2020_data.xlsx', 'GEN20', header = 1).reset_index()\n",
    "indivL = gen['ORISPL'].tolist()\n",
    "plantL = total['ORISPL'].tolist() ####to Edit\n",
    "gen_list = []\n",
    "gen2 = gen\n",
    "count = 0\n",
    "for x in indivL:\n",
    "    if x in plantL:\n",
    "        count +=1\n",
    "        gen_list.append(x)\n",
    "gen2 = gen2[gen2['ORISPL'].isin(gen_list)]\n",
    "# In[16]:\n",
    "def removeNonCoal(gen2):\n",
    "    gen2 = gen2[(gen2.FUELG1 != 'WND') & (gen2.FUELG1 != 'WDS') & (gen2.FUELG1 != 'WAT') & (gen2.FUELG1 != 'SUN') & (gen2.FUELG1 != 'RFO') & (gen2.FUELG1 != 'NG') & (gen2.FUELG1 != 'JF') & (gen2.FUELG1 != 'DFO') & (gen2.FUELG1 != 'NUC') & (gen2.FUELG1 != 'BLQ') ]\n",
    "    return gen2\n",
    "gen2 = removeNonCoal(gen2)\n",
    "\n",
    "gen2 = gen2[gen2['GENYRRET']<=2030]\n",
    "gen2 = gen2[gen2['GENYRRET']>2020]\n",
    "gen2 = gen2[['ORISPL', 'GENYRRET']]\n",
    "tot = total.merge(gen2, how='left', left_on='ORISPL', right_on='ORISPL')\n",
    "\n",
    "def plannedRet (id):\n",
    "    if id > 2020 and id < 2026:\n",
    "        return 1\n",
    "    elif id > 2025:\n",
    "        return 2\n",
    "    else:\n",
    "        return 0\n",
    "\n",
    "tot['ret'] = tot['GENYRRET'].apply(plannedRet)\n",
    "tot = tot.groupby('ORISPL').mean().reset_index()\n",
    "tot=tot[['ORISPL', 'ret']]\n",
    "\n",
    "retTotal = total.merge(tot, how='left', on='ORISPL')"
   ]
  },
  {
   "cell_type": "code",
   "execution_count": null,
   "id": "b70291d5",
   "metadata": {},
   "outputs": [],
   "source": []
  },
  {
   "cell_type": "code",
   "execution_count": 47,
   "id": "193ae019",
   "metadata": {},
   "outputs": [],
   "source": [
    "total2 = total.sort_values('cluster')\n",
    "total3 = total.groupby('cluster').mean()"
   ]
  },
  {
   "cell_type": "code",
   "execution_count": 48,
   "id": "13234133",
   "metadata": {},
   "outputs": [
    {
     "name": "stderr",
     "output_type": "stream",
     "text": [
      "/Users/gathrid/opt/anaconda3/lib/python3.8/site-packages/pandas/core/arraylike.py:358: RuntimeWarning:\n",
      "\n",
      "divide by zero encountered in log\n",
      "\n",
      "/Users/gathrid/opt/anaconda3/lib/python3.8/site-packages/pandas/core/arraylike.py:358: RuntimeWarning:\n",
      "\n",
      "divide by zero encountered in log\n",
      "\n"
     ]
    }
   ],
   "source": [
    "from sklearn.preprocessing import MinMaxScaler\n",
    "\n",
    "def df_minMaxScaler(d, lister):\n",
    "    for PLGENACL in lister:\n",
    "        d[PLGENACL] = np.log(d[PLGENACL])\n",
    "        d[PLGENACL].replace([np.inf, -np.inf], 0, inplace=True)\n",
    "        d[PLGENACL] = MinMaxScaler().fit_transform(d[PLGENACL].values.reshape(-1, 1))\n",
    "        #d[PLGENACL] = (d[PLGENACL]-d[PLGENACL].min())/(d[PLGENACL].max()-d[PLGENACL].min())\n",
    "    return d\n",
    "\n",
    "scaledDF = df_minMaxScaler(total2, ['PLGENACL', 'AverageAge', 'forwardCosts', 'PLSO2AN', 'affectedDemographicIndex',  'CO2limitsOppose'])\n",
    "scaled_df = scaledDF.groupby('cluster').mean().reset_index()"
   ]
  },
  {
   "cell_type": "code",
   "execution_count": 49,
   "id": "e0cefcc7",
   "metadata": {},
   "outputs": [],
   "source": [
    "clusterList = [['p'], ['j', 'e', 'l', 'a'], ['g', 'o', 'b'], ['c'], ['i'], ['k', 'h', 'd', 'm', 'n', 'f']]\n",
    "\n",
    "def createSuperCluster(id):\n",
    "    for clusterGroup in clusterList:\n",
    "        for clusterLetter in clusterGroup:\n",
    "            if id==clusterLetter:\n",
    "                return clusterList.index(clusterGroup)+1"
   ]
  },
  {
   "cell_type": "code",
   "execution_count": 50,
   "id": "7ac5138d",
   "metadata": {},
   "outputs": [],
   "source": [
    "total['superCluster'] = total['cluster'].apply(createSuperCluster)\n",
    "total2['superCluster'] = total2['cluster'].apply(createSuperCluster)\n",
    "retTotal['superCluster'] = retTotal['cluster'].apply(createSuperCluster)"
   ]
  },
  {
   "cell_type": "markdown",
   "id": "7177fd3d",
   "metadata": {},
   "source": [
    "to be done: \n",
    "- individual colors per superCluster, make sure these colors can be used across every figure to ensure continunity\n",
    "- pivot bars\n",
    "- add other important criteria making more figures in the combined plot\n",
    "– maybe put all in one plot? categorically?\n",
    "\n",
    "point of these specific barplot summary figures: while we are decommissioning plants, the rate at which we are doing so is way to slow. This paper aims to provide a framework for how to target and hasten the retirement of plants within each cluster, assuming that because they have similar attributes, the policy/lobbying approach to targeting these plants can be very similar. \n",
    "\n",
    "info for the paper: the rest of the figures ignore plants that already have planned retirements on the books, no need to spend political capitol targeting these plants.\n",
    "\n",
    "goal of topology: levering a datascience tool to create groupings from a high-level standpoint. These are merely descriptive statistics, aiming to illuminate th insights provided by the mapper in a more traditional and usable light."
   ]
  },
  {
   "cell_type": "code",
   "execution_count": 91,
   "metadata": {},
   "outputs": [
    {
     "data": {
      "text/html": [
       "<div>\n",
       "<style scoped>\n",
       "    .dataframe tbody tr th:only-of-type {\n",
       "        vertical-align: middle;\n",
       "    }\n",
       "\n",
       "    .dataframe tbody tr th {\n",
       "        vertical-align: top;\n",
       "    }\n",
       "\n",
       "    .dataframe thead th {\n",
       "        text-align: right;\n",
       "    }\n",
       "</style>\n",
       "<table border=\"1\" class=\"dataframe\">\n",
       "  <thead>\n",
       "    <tr style=\"text-align: right;\">\n",
       "      <th></th>\n",
       "      <th>Unnamed: 0</th>\n",
       "      <th>index</th>\n",
       "      <th>Year</th>\n",
       "      <th>ORISPL</th>\n",
       "      <th>PSTATABB</th>\n",
       "      <th>LAT</th>\n",
       "      <th>LON</th>\n",
       "      <th>PNAME</th>\n",
       "      <th>FIPSST</th>\n",
       "      <th>FIPSCNTY</th>\n",
       "      <th>...</th>\n",
       "      <th>impact_score</th>\n",
       "      <th>AverageAge</th>\n",
       "      <th>forwardCosts</th>\n",
       "      <th>Confidence Tier</th>\n",
       "      <th>_merge</th>\n",
       "      <th>numPlants</th>\n",
       "      <th>p_num</th>\n",
       "      <th>cluster</th>\n",
       "      <th>ret</th>\n",
       "      <th>superCluster</th>\n",
       "    </tr>\n",
       "  </thead>\n",
       "  <tbody>\n",
       "    <tr>\n",
       "      <th>2</th>\n",
       "      <td>2</td>\n",
       "      <td>67.0</td>\n",
       "      <td>2020</td>\n",
       "      <td>1893</td>\n",
       "      <td>MN</td>\n",
       "      <td>47.261100</td>\n",
       "      <td>-93.652800</td>\n",
       "      <td>Boswell Energy Center</td>\n",
       "      <td>27</td>\n",
       "      <td>61</td>\n",
       "      <td>...</td>\n",
       "      <td>11211.142141</td>\n",
       "      <td>41.765854</td>\n",
       "      <td>28.353251</td>\n",
       "      <td>1.0</td>\n",
       "      <td>both</td>\n",
       "      <td>1</td>\n",
       "      <td>0</td>\n",
       "      <td>a</td>\n",
       "      <td>1</td>\n",
       "      <td>2</td>\n",
       "    </tr>\n",
       "    <tr>\n",
       "      <th>7</th>\n",
       "      <td>7</td>\n",
       "      <td>195.0</td>\n",
       "      <td>2020</td>\n",
       "      <td>8023</td>\n",
       "      <td>WI</td>\n",
       "      <td>43.486400</td>\n",
       "      <td>-89.420300</td>\n",
       "      <td>Columbia</td>\n",
       "      <td>55</td>\n",
       "      <td>21</td>\n",
       "      <td>...</td>\n",
       "      <td>11485.699424</td>\n",
       "      <td>42.500000</td>\n",
       "      <td>35.259980</td>\n",
       "      <td>1.0</td>\n",
       "      <td>both</td>\n",
       "      <td>1</td>\n",
       "      <td>0</td>\n",
       "      <td>a</td>\n",
       "      <td>1</td>\n",
       "      <td>2</td>\n",
       "    </tr>\n",
       "    <tr>\n",
       "      <th>15</th>\n",
       "      <td>15</td>\n",
       "      <td>84.0</td>\n",
       "      <td>2020</td>\n",
       "      <td>2721</td>\n",
       "      <td>NC</td>\n",
       "      <td>35.220000</td>\n",
       "      <td>-81.759400</td>\n",
       "      <td>Cliffside</td>\n",
       "      <td>37</td>\n",
       "      <td>45</td>\n",
       "      <td>...</td>\n",
       "      <td>11342.708341</td>\n",
       "      <td>23.229990</td>\n",
       "      <td>36.618062</td>\n",
       "      <td>2.0</td>\n",
       "      <td>both</td>\n",
       "      <td>1</td>\n",
       "      <td>0</td>\n",
       "      <td>a</td>\n",
       "      <td>1</td>\n",
       "      <td>2</td>\n",
       "    </tr>\n",
       "    <tr>\n",
       "      <th>19</th>\n",
       "      <td>19</td>\n",
       "      <td>145.0</td>\n",
       "      <td>2020</td>\n",
       "      <td>6085</td>\n",
       "      <td>IN</td>\n",
       "      <td>41.216400</td>\n",
       "      <td>-87.026100</td>\n",
       "      <td>R M Schahfer Generating Station</td>\n",
       "      <td>18</td>\n",
       "      <td>73</td>\n",
       "      <td>...</td>\n",
       "      <td>11224.070821</td>\n",
       "      <td>38.436503</td>\n",
       "      <td>48.717695</td>\n",
       "      <td>1.0</td>\n",
       "      <td>both</td>\n",
       "      <td>1</td>\n",
       "      <td>0</td>\n",
       "      <td>a</td>\n",
       "      <td>1</td>\n",
       "      <td>2</td>\n",
       "    </tr>\n",
       "    <tr>\n",
       "      <th>21</th>\n",
       "      <td>21</td>\n",
       "      <td>160.0</td>\n",
       "      <td>2020</td>\n",
       "      <td>6166</td>\n",
       "      <td>IN</td>\n",
       "      <td>37.925600</td>\n",
       "      <td>-87.037200</td>\n",
       "      <td>Rockport</td>\n",
       "      <td>18</td>\n",
       "      <td>147</td>\n",
       "      <td>...</td>\n",
       "      <td>12570.736599</td>\n",
       "      <td>32.500000</td>\n",
       "      <td>61.341615</td>\n",
       "      <td>1.0</td>\n",
       "      <td>both</td>\n",
       "      <td>1</td>\n",
       "      <td>0</td>\n",
       "      <td>a</td>\n",
       "      <td>1</td>\n",
       "      <td>2</td>\n",
       "    </tr>\n",
       "    <tr>\n",
       "      <th>...</th>\n",
       "      <td>...</td>\n",
       "      <td>...</td>\n",
       "      <td>...</td>\n",
       "      <td>...</td>\n",
       "      <td>...</td>\n",
       "      <td>...</td>\n",
       "      <td>...</td>\n",
       "      <td>...</td>\n",
       "      <td>...</td>\n",
       "      <td>...</td>\n",
       "      <td>...</td>\n",
       "      <td>...</td>\n",
       "      <td>...</td>\n",
       "      <td>...</td>\n",
       "      <td>...</td>\n",
       "      <td>...</td>\n",
       "      <td>...</td>\n",
       "      <td>...</td>\n",
       "      <td>...</td>\n",
       "      <td>...</td>\n",
       "      <td>...</td>\n",
       "    </tr>\n",
       "    <tr>\n",
       "      <th>246</th>\n",
       "      <td>246</td>\n",
       "      <td>NaN</td>\n",
       "      <td>2020</td>\n",
       "      <td>1832</td>\n",
       "      <td>MI</td>\n",
       "      <td>42.692222</td>\n",
       "      <td>-84.657222</td>\n",
       "      <td>Erickson</td>\n",
       "      <td>26</td>\n",
       "      <td>45</td>\n",
       "      <td>...</td>\n",
       "      <td>13600.911555</td>\n",
       "      <td>46.000000</td>\n",
       "      <td>43.997064</td>\n",
       "      <td>2.0</td>\n",
       "      <td>both</td>\n",
       "      <td>1</td>\n",
       "      <td>14</td>\n",
       "      <td>o</td>\n",
       "      <td>1</td>\n",
       "      <td>3</td>\n",
       "    </tr>\n",
       "    <tr>\n",
       "      <th>249</th>\n",
       "      <td>249</td>\n",
       "      <td>NaN</td>\n",
       "      <td>2020</td>\n",
       "      <td>4050</td>\n",
       "      <td>WI</td>\n",
       "      <td>43.715142</td>\n",
       "      <td>-87.705863</td>\n",
       "      <td>Edgewater (4050)</td>\n",
       "      <td>55</td>\n",
       "      <td>117</td>\n",
       "      <td>...</td>\n",
       "      <td>11547.995021</td>\n",
       "      <td>34.000000</td>\n",
       "      <td>43.554504</td>\n",
       "      <td>1.0</td>\n",
       "      <td>both</td>\n",
       "      <td>1</td>\n",
       "      <td>14</td>\n",
       "      <td>o</td>\n",
       "      <td>1</td>\n",
       "      <td>3</td>\n",
       "    </tr>\n",
       "    <tr>\n",
       "      <th>263</th>\n",
       "      <td>263</td>\n",
       "      <td>NaN</td>\n",
       "      <td>2020</td>\n",
       "      <td>2832</td>\n",
       "      <td>OH</td>\n",
       "      <td>39.112800</td>\n",
       "      <td>-84.803600</td>\n",
       "      <td>Miami Fort Power Station</td>\n",
       "      <td>39</td>\n",
       "      <td>61</td>\n",
       "      <td>...</td>\n",
       "      <td>14603.371863</td>\n",
       "      <td>42.499193</td>\n",
       "      <td>26.221738</td>\n",
       "      <td>4.0</td>\n",
       "      <td>both</td>\n",
       "      <td>1</td>\n",
       "      <td>15</td>\n",
       "      <td>p</td>\n",
       "      <td>1</td>\n",
       "      <td>1</td>\n",
       "    </tr>\n",
       "    <tr>\n",
       "      <th>265</th>\n",
       "      <td>265</td>\n",
       "      <td>NaN</td>\n",
       "      <td>2020</td>\n",
       "      <td>6019</td>\n",
       "      <td>OH</td>\n",
       "      <td>38.867500</td>\n",
       "      <td>-84.228900</td>\n",
       "      <td>W H Zimmer Generating Station</td>\n",
       "      <td>39</td>\n",
       "      <td>25</td>\n",
       "      <td>...</td>\n",
       "      <td>13063.758954</td>\n",
       "      <td>28.000000</td>\n",
       "      <td>35.834081</td>\n",
       "      <td>6.0</td>\n",
       "      <td>both</td>\n",
       "      <td>1</td>\n",
       "      <td>15</td>\n",
       "      <td>p</td>\n",
       "      <td>1</td>\n",
       "      <td>1</td>\n",
       "    </tr>\n",
       "    <tr>\n",
       "      <th>266</th>\n",
       "      <td>266</td>\n",
       "      <td>NaN</td>\n",
       "      <td>2020</td>\n",
       "      <td>6034</td>\n",
       "      <td>MI</td>\n",
       "      <td>42.775600</td>\n",
       "      <td>-82.495000</td>\n",
       "      <td>Belle River</td>\n",
       "      <td>26</td>\n",
       "      <td>147</td>\n",
       "      <td>...</td>\n",
       "      <td>15338.529927</td>\n",
       "      <td>34.500000</td>\n",
       "      <td>33.716341</td>\n",
       "      <td>1.0</td>\n",
       "      <td>both</td>\n",
       "      <td>1</td>\n",
       "      <td>15</td>\n",
       "      <td>p</td>\n",
       "      <td>1</td>\n",
       "      <td>1</td>\n",
       "    </tr>\n",
       "  </tbody>\n",
       "</table>\n",
       "<p>71 rows × 47 columns</p>\n",
       "</div>"
      ],
      "text/plain": [
       "     Unnamed: 0  index  Year  ORISPL PSTATABB        LAT        LON  \\\n",
       "2             2   67.0  2020    1893       MN  47.261100 -93.652800   \n",
       "7             7  195.0  2020    8023       WI  43.486400 -89.420300   \n",
       "15           15   84.0  2020    2721       NC  35.220000 -81.759400   \n",
       "19           19  145.0  2020    6085       IN  41.216400 -87.026100   \n",
       "21           21  160.0  2020    6166       IN  37.925600 -87.037200   \n",
       "..          ...    ...   ...     ...      ...        ...        ...   \n",
       "246         246    NaN  2020    1832       MI  42.692222 -84.657222   \n",
       "249         249    NaN  2020    4050       WI  43.715142 -87.705863   \n",
       "263         263    NaN  2020    2832       OH  39.112800 -84.803600   \n",
       "265         265    NaN  2020    6019       OH  38.867500 -84.228900   \n",
       "266         266    NaN  2020    6034       MI  42.775600 -82.495000   \n",
       "\n",
       "                               PNAME  FIPSST  FIPSCNTY  ...  impact_score  \\\n",
       "2              Boswell Energy Center      27        61  ...  11211.142141   \n",
       "7                           Columbia      55        21  ...  11485.699424   \n",
       "15                         Cliffside      37        45  ...  11342.708341   \n",
       "19   R M Schahfer Generating Station      18        73  ...  11224.070821   \n",
       "21                          Rockport      18       147  ...  12570.736599   \n",
       "..                               ...     ...       ...  ...           ...   \n",
       "246                         Erickson      26        45  ...  13600.911555   \n",
       "249                 Edgewater (4050)      55       117  ...  11547.995021   \n",
       "263         Miami Fort Power Station      39        61  ...  14603.371863   \n",
       "265    W H Zimmer Generating Station      39        25  ...  13063.758954   \n",
       "266                      Belle River      26       147  ...  15338.529927   \n",
       "\n",
       "     AverageAge  forwardCosts  Confidence Tier  _merge numPlants  p_num  \\\n",
       "2     41.765854     28.353251              1.0    both         1      0   \n",
       "7     42.500000     35.259980              1.0    both         1      0   \n",
       "15    23.229990     36.618062              2.0    both         1      0   \n",
       "19    38.436503     48.717695              1.0    both         1      0   \n",
       "21    32.500000     61.341615              1.0    both         1      0   \n",
       "..          ...           ...              ...     ...       ...    ...   \n",
       "246   46.000000     43.997064              2.0    both         1     14   \n",
       "249   34.000000     43.554504              1.0    both         1     14   \n",
       "263   42.499193     26.221738              4.0    both         1     15   \n",
       "265   28.000000     35.834081              6.0    both         1     15   \n",
       "266   34.500000     33.716341              1.0    both         1     15   \n",
       "\n",
       "    cluster ret  superCluster  \n",
       "2         a   1             2  \n",
       "7         a   1             2  \n",
       "15        a   1             2  \n",
       "19        a   1             2  \n",
       "21        a   1             2  \n",
       "..      ...  ..           ...  \n",
       "246       o   1             3  \n",
       "249       o   1             3  \n",
       "263       p   1             1  \n",
       "265       p   1             1  \n",
       "266       p   1             1  \n",
       "\n",
       "[71 rows x 47 columns]"
      ]
     },
     "execution_count": 91,
     "metadata": {},
     "output_type": "execute_result"
    }
   ],
   "source": []
  },
  {
   "cell_type": "code",
   "execution_count": 95,
   "id": "41bd534e",
   "metadata": {},
   "outputs": [
    {
     "data": {
      "application/vnd.plotly.v1+json": {
       "config": {
        "plotlyServerURL": "https://plot.ly"
       },
       "data": [
        {
         "marker": {
          "color": "#FECB52"
         },
         "type": "bar",
         "x": [],
         "xaxis": "x6",
         "yaxis": "y6"
        },
        {
         "marker": {
          "color": "red"
         },
         "type": "bar",
         "x": [],
         "xaxis": "x6",
         "yaxis": "y6"
        },
        {
         "marker": {
          "color": "#FF97FF"
         },
         "type": "bar",
         "x": [
          129874846.44199999
         ],
         "xaxis": "x6",
         "yaxis": "y6"
        },
        {
         "marker": {
          "color": "red"
         },
         "type": "bar",
         "x": [
          209437
         ],
         "xaxis": "x6",
         "yaxis": "y6"
        },
        {
         "marker": {
          "color": "#B6E880"
         },
         "type": "bar",
         "x": [
          503418943.546
         ],
         "xaxis": "x6",
         "yaxis": "y6"
        },
        {
         "marker": {
          "color": "red"
         },
         "type": "bar",
         "x": [
          2316381
         ],
         "xaxis": "x6",
         "yaxis": "y6"
        },
        {
         "marker": {
          "color": "#FF6692"
         },
         "type": "bar",
         "x": [
          50016994.118000016
         ],
         "xaxis": "x6",
         "yaxis": "y6"
        },
        {
         "marker": {
          "color": "red"
         },
         "type": "bar",
         "x": [
          34764028
         ],
         "xaxis": "x6",
         "yaxis": "y6"
        },
        {
         "marker": {
          "color": "#19D3F3"
         },
         "type": "bar",
         "x": [
          13220584.530000001
         ],
         "xaxis": "x6",
         "yaxis": "y6"
        },
        {
         "marker": {
          "color": "red"
         },
         "type": "bar",
         "x": [],
         "xaxis": "x6",
         "yaxis": "y6"
        },
        {
         "marker": {
          "color": "#FFA15A"
         },
         "type": "bar",
         "x": [
          42419447.26
         ],
         "xaxis": "x6",
         "yaxis": "y6"
        },
        {
         "marker": {
          "color": "red"
         },
         "type": "bar",
         "x": [
          479343
         ],
         "xaxis": "x6",
         "yaxis": "y6"
        },
        {
         "marker": {
          "color": "#B6E880"
         },
         "type": "bar",
         "x": [
          721652,
          10247121,
          99909225,
          396014,
          3667066,
          10137669
         ],
         "xaxis": "x",
         "yaxis": "y"
        },
        {
         "marker": {
          "color": "red"
         },
         "type": "bar",
         "x": [
          209437,
          2316381,
          34764028,
          479343,
          1159235
         ],
         "xaxis": "x",
         "yaxis": "y"
        },
        {
         "type": "bar",
         "x": [
          129874846.44199999,
          503418943.546,
          50016994.118000016,
          13220584.530000001,
          42419447.26,
          24542392.644000005
         ],
         "xaxis": "x4",
         "yaxis": "y4"
        },
        {
         "type": "bar",
         "x": [
          16319800.6,
          142089030.73399997,
          20724847.651000008,
          3980633.7,
          3871999.404
         ],
         "xaxis": "x4",
         "yaxis": "y4"
        },
        {
         "type": "bar",
         "x": [
          519.5172532178816,
          4150.492461851171,
          4943.534075317999,
          119.91238199800094,
          322.8144489025382,
          365.27866068047285
         ],
         "xaxis": "x2",
         "yaxis": "y2"
        },
        {
         "type": "bar",
         "x": [
          95.77215915079339,
          1191.4676060689042,
          2296.3066704152757,
          27.13855596827596,
          130.56572687662265
         ],
         "xaxis": "x2",
         "yaxis": "y2"
        }
       ],
       "layout": {
        "barmode": "stack",
        "template": {
         "data": {
          "bar": [
           {
            "error_x": {
             "color": "#2a3f5f"
            },
            "error_y": {
             "color": "#2a3f5f"
            },
            "marker": {
             "line": {
              "color": "#E5ECF6",
              "width": 0.5
             },
             "pattern": {
              "fillmode": "overlay",
              "size": 10,
              "solidity": 0.2
             }
            },
            "type": "bar"
           }
          ],
          "barpolar": [
           {
            "marker": {
             "line": {
              "color": "#E5ECF6",
              "width": 0.5
             },
             "pattern": {
              "fillmode": "overlay",
              "size": 10,
              "solidity": 0.2
             }
            },
            "type": "barpolar"
           }
          ],
          "carpet": [
           {
            "aaxis": {
             "endlinecolor": "#2a3f5f",
             "gridcolor": "white",
             "linecolor": "white",
             "minorgridcolor": "white",
             "startlinecolor": "#2a3f5f"
            },
            "baxis": {
             "endlinecolor": "#2a3f5f",
             "gridcolor": "white",
             "linecolor": "white",
             "minorgridcolor": "white",
             "startlinecolor": "#2a3f5f"
            },
            "type": "carpet"
           }
          ],
          "choropleth": [
           {
            "colorbar": {
             "outlinewidth": 0,
             "ticks": ""
            },
            "type": "choropleth"
           }
          ],
          "contour": [
           {
            "colorbar": {
             "outlinewidth": 0,
             "ticks": ""
            },
            "colorscale": [
             [
              0,
              "#0d0887"
             ],
             [
              0.1111111111111111,
              "#46039f"
             ],
             [
              0.2222222222222222,
              "#7201a8"
             ],
             [
              0.3333333333333333,
              "#9c179e"
             ],
             [
              0.4444444444444444,
              "#bd3786"
             ],
             [
              0.5555555555555556,
              "#d8576b"
             ],
             [
              0.6666666666666666,
              "#ed7953"
             ],
             [
              0.7777777777777778,
              "#fb9f3a"
             ],
             [
              0.8888888888888888,
              "#fdca26"
             ],
             [
              1,
              "#f0f921"
             ]
            ],
            "type": "contour"
           }
          ],
          "contourcarpet": [
           {
            "colorbar": {
             "outlinewidth": 0,
             "ticks": ""
            },
            "type": "contourcarpet"
           }
          ],
          "heatmap": [
           {
            "colorbar": {
             "outlinewidth": 0,
             "ticks": ""
            },
            "colorscale": [
             [
              0,
              "#0d0887"
             ],
             [
              0.1111111111111111,
              "#46039f"
             ],
             [
              0.2222222222222222,
              "#7201a8"
             ],
             [
              0.3333333333333333,
              "#9c179e"
             ],
             [
              0.4444444444444444,
              "#bd3786"
             ],
             [
              0.5555555555555556,
              "#d8576b"
             ],
             [
              0.6666666666666666,
              "#ed7953"
             ],
             [
              0.7777777777777778,
              "#fb9f3a"
             ],
             [
              0.8888888888888888,
              "#fdca26"
             ],
             [
              1,
              "#f0f921"
             ]
            ],
            "type": "heatmap"
           }
          ],
          "heatmapgl": [
           {
            "colorbar": {
             "outlinewidth": 0,
             "ticks": ""
            },
            "colorscale": [
             [
              0,
              "#0d0887"
             ],
             [
              0.1111111111111111,
              "#46039f"
             ],
             [
              0.2222222222222222,
              "#7201a8"
             ],
             [
              0.3333333333333333,
              "#9c179e"
             ],
             [
              0.4444444444444444,
              "#bd3786"
             ],
             [
              0.5555555555555556,
              "#d8576b"
             ],
             [
              0.6666666666666666,
              "#ed7953"
             ],
             [
              0.7777777777777778,
              "#fb9f3a"
             ],
             [
              0.8888888888888888,
              "#fdca26"
             ],
             [
              1,
              "#f0f921"
             ]
            ],
            "type": "heatmapgl"
           }
          ],
          "histogram": [
           {
            "marker": {
             "pattern": {
              "fillmode": "overlay",
              "size": 10,
              "solidity": 0.2
             }
            },
            "type": "histogram"
           }
          ],
          "histogram2d": [
           {
            "colorbar": {
             "outlinewidth": 0,
             "ticks": ""
            },
            "colorscale": [
             [
              0,
              "#0d0887"
             ],
             [
              0.1111111111111111,
              "#46039f"
             ],
             [
              0.2222222222222222,
              "#7201a8"
             ],
             [
              0.3333333333333333,
              "#9c179e"
             ],
             [
              0.4444444444444444,
              "#bd3786"
             ],
             [
              0.5555555555555556,
              "#d8576b"
             ],
             [
              0.6666666666666666,
              "#ed7953"
             ],
             [
              0.7777777777777778,
              "#fb9f3a"
             ],
             [
              0.8888888888888888,
              "#fdca26"
             ],
             [
              1,
              "#f0f921"
             ]
            ],
            "type": "histogram2d"
           }
          ],
          "histogram2dcontour": [
           {
            "colorbar": {
             "outlinewidth": 0,
             "ticks": ""
            },
            "colorscale": [
             [
              0,
              "#0d0887"
             ],
             [
              0.1111111111111111,
              "#46039f"
             ],
             [
              0.2222222222222222,
              "#7201a8"
             ],
             [
              0.3333333333333333,
              "#9c179e"
             ],
             [
              0.4444444444444444,
              "#bd3786"
             ],
             [
              0.5555555555555556,
              "#d8576b"
             ],
             [
              0.6666666666666666,
              "#ed7953"
             ],
             [
              0.7777777777777778,
              "#fb9f3a"
             ],
             [
              0.8888888888888888,
              "#fdca26"
             ],
             [
              1,
              "#f0f921"
             ]
            ],
            "type": "histogram2dcontour"
           }
          ],
          "mesh3d": [
           {
            "colorbar": {
             "outlinewidth": 0,
             "ticks": ""
            },
            "type": "mesh3d"
           }
          ],
          "parcoords": [
           {
            "line": {
             "colorbar": {
              "outlinewidth": 0,
              "ticks": ""
             }
            },
            "type": "parcoords"
           }
          ],
          "pie": [
           {
            "automargin": true,
            "type": "pie"
           }
          ],
          "scatter": [
           {
            "marker": {
             "colorbar": {
              "outlinewidth": 0,
              "ticks": ""
             }
            },
            "type": "scatter"
           }
          ],
          "scatter3d": [
           {
            "line": {
             "colorbar": {
              "outlinewidth": 0,
              "ticks": ""
             }
            },
            "marker": {
             "colorbar": {
              "outlinewidth": 0,
              "ticks": ""
             }
            },
            "type": "scatter3d"
           }
          ],
          "scattercarpet": [
           {
            "marker": {
             "colorbar": {
              "outlinewidth": 0,
              "ticks": ""
             }
            },
            "type": "scattercarpet"
           }
          ],
          "scattergeo": [
           {
            "marker": {
             "colorbar": {
              "outlinewidth": 0,
              "ticks": ""
             }
            },
            "type": "scattergeo"
           }
          ],
          "scattergl": [
           {
            "marker": {
             "colorbar": {
              "outlinewidth": 0,
              "ticks": ""
             }
            },
            "type": "scattergl"
           }
          ],
          "scattermapbox": [
           {
            "marker": {
             "colorbar": {
              "outlinewidth": 0,
              "ticks": ""
             }
            },
            "type": "scattermapbox"
           }
          ],
          "scatterpolar": [
           {
            "marker": {
             "colorbar": {
              "outlinewidth": 0,
              "ticks": ""
             }
            },
            "type": "scatterpolar"
           }
          ],
          "scatterpolargl": [
           {
            "marker": {
             "colorbar": {
              "outlinewidth": 0,
              "ticks": ""
             }
            },
            "type": "scatterpolargl"
           }
          ],
          "scatterternary": [
           {
            "marker": {
             "colorbar": {
              "outlinewidth": 0,
              "ticks": ""
             }
            },
            "type": "scatterternary"
           }
          ],
          "surface": [
           {
            "colorbar": {
             "outlinewidth": 0,
             "ticks": ""
            },
            "colorscale": [
             [
              0,
              "#0d0887"
             ],
             [
              0.1111111111111111,
              "#46039f"
             ],
             [
              0.2222222222222222,
              "#7201a8"
             ],
             [
              0.3333333333333333,
              "#9c179e"
             ],
             [
              0.4444444444444444,
              "#bd3786"
             ],
             [
              0.5555555555555556,
              "#d8576b"
             ],
             [
              0.6666666666666666,
              "#ed7953"
             ],
             [
              0.7777777777777778,
              "#fb9f3a"
             ],
             [
              0.8888888888888888,
              "#fdca26"
             ],
             [
              1,
              "#f0f921"
             ]
            ],
            "type": "surface"
           }
          ],
          "table": [
           {
            "cells": {
             "fill": {
              "color": "#EBF0F8"
             },
             "line": {
              "color": "white"
             }
            },
            "header": {
             "fill": {
              "color": "#C8D4E3"
             },
             "line": {
              "color": "white"
             }
            },
            "type": "table"
           }
          ]
         },
         "layout": {
          "annotationdefaults": {
           "arrowcolor": "#2a3f5f",
           "arrowhead": 0,
           "arrowwidth": 1
          },
          "autotypenumbers": "strict",
          "coloraxis": {
           "colorbar": {
            "outlinewidth": 0,
            "ticks": ""
           }
          },
          "colorscale": {
           "diverging": [
            [
             0,
             "#8e0152"
            ],
            [
             0.1,
             "#c51b7d"
            ],
            [
             0.2,
             "#de77ae"
            ],
            [
             0.3,
             "#f1b6da"
            ],
            [
             0.4,
             "#fde0ef"
            ],
            [
             0.5,
             "#f7f7f7"
            ],
            [
             0.6,
             "#e6f5d0"
            ],
            [
             0.7,
             "#b8e186"
            ],
            [
             0.8,
             "#7fbc41"
            ],
            [
             0.9,
             "#4d9221"
            ],
            [
             1,
             "#276419"
            ]
           ],
           "sequential": [
            [
             0,
             "#0d0887"
            ],
            [
             0.1111111111111111,
             "#46039f"
            ],
            [
             0.2222222222222222,
             "#7201a8"
            ],
            [
             0.3333333333333333,
             "#9c179e"
            ],
            [
             0.4444444444444444,
             "#bd3786"
            ],
            [
             0.5555555555555556,
             "#d8576b"
            ],
            [
             0.6666666666666666,
             "#ed7953"
            ],
            [
             0.7777777777777778,
             "#fb9f3a"
            ],
            [
             0.8888888888888888,
             "#fdca26"
            ],
            [
             1,
             "#f0f921"
            ]
           ],
           "sequentialminus": [
            [
             0,
             "#0d0887"
            ],
            [
             0.1111111111111111,
             "#46039f"
            ],
            [
             0.2222222222222222,
             "#7201a8"
            ],
            [
             0.3333333333333333,
             "#9c179e"
            ],
            [
             0.4444444444444444,
             "#bd3786"
            ],
            [
             0.5555555555555556,
             "#d8576b"
            ],
            [
             0.6666666666666666,
             "#ed7953"
            ],
            [
             0.7777777777777778,
             "#fb9f3a"
            ],
            [
             0.8888888888888888,
             "#fdca26"
            ],
            [
             1,
             "#f0f921"
            ]
           ]
          },
          "colorway": [
           "#636efa",
           "#EF553B",
           "#00cc96",
           "#ab63fa",
           "#FFA15A",
           "#19d3f3",
           "#FF6692",
           "#B6E880",
           "#FF97FF",
           "#FECB52"
          ],
          "font": {
           "color": "#2a3f5f"
          },
          "geo": {
           "bgcolor": "white",
           "lakecolor": "white",
           "landcolor": "#E5ECF6",
           "showlakes": true,
           "showland": true,
           "subunitcolor": "white"
          },
          "hoverlabel": {
           "align": "left"
          },
          "hovermode": "closest",
          "mapbox": {
           "style": "light"
          },
          "paper_bgcolor": "white",
          "plot_bgcolor": "#E5ECF6",
          "polar": {
           "angularaxis": {
            "gridcolor": "white",
            "linecolor": "white",
            "ticks": ""
           },
           "bgcolor": "#E5ECF6",
           "radialaxis": {
            "gridcolor": "white",
            "linecolor": "white",
            "ticks": ""
           }
          },
          "scene": {
           "xaxis": {
            "backgroundcolor": "#E5ECF6",
            "gridcolor": "white",
            "gridwidth": 2,
            "linecolor": "white",
            "showbackground": true,
            "ticks": "",
            "zerolinecolor": "white"
           },
           "yaxis": {
            "backgroundcolor": "#E5ECF6",
            "gridcolor": "white",
            "gridwidth": 2,
            "linecolor": "white",
            "showbackground": true,
            "ticks": "",
            "zerolinecolor": "white"
           },
           "zaxis": {
            "backgroundcolor": "#E5ECF6",
            "gridcolor": "white",
            "gridwidth": 2,
            "linecolor": "white",
            "showbackground": true,
            "ticks": "",
            "zerolinecolor": "white"
           }
          },
          "shapedefaults": {
           "line": {
            "color": "#2a3f5f"
           }
          },
          "ternary": {
           "aaxis": {
            "gridcolor": "white",
            "linecolor": "white",
            "ticks": ""
           },
           "baxis": {
            "gridcolor": "white",
            "linecolor": "white",
            "ticks": ""
           },
           "bgcolor": "#E5ECF6",
           "caxis": {
            "gridcolor": "white",
            "linecolor": "white",
            "ticks": ""
           }
          },
          "title": {
           "x": 0.05
          },
          "xaxis": {
           "automargin": true,
           "gridcolor": "white",
           "linecolor": "white",
           "ticks": "",
           "title": {
            "standoff": 15
           },
           "zerolinecolor": "white",
           "zerolinewidth": 2
          },
          "yaxis": {
           "automargin": true,
           "gridcolor": "white",
           "linecolor": "white",
           "ticks": "",
           "title": {
            "standoff": 15
           },
           "zerolinecolor": "white",
           "zerolinewidth": 2
          }
         }
        },
        "xaxis": {
         "anchor": "y",
         "domain": [
          0,
          0.2888888888888889
         ]
        },
        "xaxis2": {
         "anchor": "y2",
         "domain": [
          0.35555555555555557,
          0.6444444444444445
         ]
        },
        "xaxis3": {
         "anchor": "y3",
         "domain": [
          0.7111111111111111,
          1
         ]
        },
        "xaxis4": {
         "anchor": "y4",
         "domain": [
          0,
          0.2888888888888889
         ]
        },
        "xaxis5": {
         "anchor": "y5",
         "domain": [
          0.35555555555555557,
          0.6444444444444445
         ]
        },
        "xaxis6": {
         "anchor": "y6",
         "domain": [
          0.7111111111111111,
          1
         ]
        },
        "yaxis": {
         "anchor": "x",
         "domain": [
          0.575,
          1
         ]
        },
        "yaxis2": {
         "anchor": "x2",
         "domain": [
          0.575,
          1
         ]
        },
        "yaxis3": {
         "anchor": "x3",
         "domain": [
          0.575,
          1
         ]
        },
        "yaxis4": {
         "anchor": "x4",
         "domain": [
          0,
          0.425
         ]
        },
        "yaxis5": {
         "anchor": "x5",
         "domain": [
          0,
          0.425
         ]
        },
        "yaxis6": {
         "anchor": "x6",
         "domain": [
          0,
          0.425
         ]
        }
       }
      }
     },
     "metadata": {},
     "output_type": "display_data"
    }
   ],
   "source": [
    "fig = make_subplots(rows=2, cols=3, specs=\n",
    "        [[{}, {}, {}],\n",
    "        [{}, {}, {}]])\n",
    "\n",
    "dff = retTotal.groupby('superCluster').sum()\n",
    "dff2 = retTotal[retTotal['ret']==1].groupby('superCluster').sum()\n",
    "fig.add_trace(go.Bar(x=dff['affectedDemographicIndex'], marker=dict(color=px.colors.qualitative.Plotly_r[2])), row=1, col=1)\n",
    "fig.add_trace(go.Bar(x=dff2['affectedDemographicIndex'], marker=dict(color='red')), row=1, col=1)\n",
    "\n",
    "\n",
    "dff = retTotal.groupby('superCluster').sum() ## Overlay of amount to be retired by 2030\n",
    "dff2 = retTotal[retTotal['ret']==1].groupby('superCluster').sum()\n",
    "fig.add_trace(go.Bar(x=dff['PLGENACL']), row=2, col=1)\n",
    "fig.add_trace(go.Bar(x=dff2['PLGENACL']), row=2, col=1)\n",
    "\n",
    "\n",
    "dff = retTotal.groupby('superCluster').sum()\n",
    "dff2 = retTotal[retTotal['ret']==1].groupby('superCluster').sum()\n",
    "fig.add_trace(go.Bar(x=dff['forwardCosts']), row=1, col=2)\n",
    "fig.add_trace(go.Bar(x=dff2['forwardCosts']), row=1, col=2)\n",
    "fig.update_layout(barmode='stack')"
   ]
  },
  {
   "cell_type": "code",
   "execution_count": 492,
   "id": "b75259e4",
   "metadata": {},
   "outputs": [
    {
     "data": {
      "application/vnd.plotly.v1+json": {
       "config": {
        "plotlyServerURL": "https://plot.ly"
       },
       "data": [
        {
         "marker": {
          "color": "grey"
         },
         "name": "Coal Plants in 2020",
         "type": "histogram",
         "x": [
          4368299.8,
          6626028.1,
          4185414.919,
          6023753.6,
          5059110,
          2272890.27,
          4703090.3,
          5183235.7,
          13008129.541,
          11266204,
          16228030,
          6993094.8,
          6210633.1,
          6627915.5,
          4912651.4,
          3835304.6,
          5233075.6,
          2962645.7,
          3590942.3,
          2679313.31,
          2365421.4,
          4002624.75,
          4281018.4,
          2384708.5,
          1068678.5,
          3020365.7,
          179997.59,
          2749888.3,
          1477642.83,
          4045913,
          4781555.3,
          149882.79,
          385257.49,
          310601.35,
          751.139,
          145268.36,
          1233396.2,
          59527.332,
          5301.002,
          49230.004,
          706063.95,
          639124.15,
          143691.53,
          2267803,
          75598.315,
          102274.17,
          842319.641,
          168055.64,
          628214.38,
          674260.109,
          593563.48,
          325321.02,
          32361.715,
          495749.99,
          828307.56,
          935389.08,
          1886115,
          314886.57,
          1471896.78,
          204664.52,
          891907.81,
          1069296.2,
          842101.26,
          1601262.4,
          1392263.1,
          626612.16,
          2280598.79,
          231980.589,
          64924.767,
          178956.45,
          76169.463,
          127490.34,
          517839.61,
          32426.273,
          1560.339,
          221088.68,
          304223.88,
          1502521.75,
          37247.551,
          260973.494,
          786020.33,
          232567.574,
          541611.5,
          449523.09,
          1565952.938,
          197281.7,
          461428.26,
          51043.412,
          530191.18,
          1440743.7,
          2315563.7,
          3254162.7,
          60937,
          28000,
          29736,
          35512,
          26025,
          152873.74,
          146837.09,
          271763.14,
          697581.47,
          715213.63,
          841878.16,
          3203757.2,
          650300.66,
          2320634.3,
          6750382.634,
          12494609,
          7507417.64,
          7926040,
          8737451.6,
          7940196.5,
          5625204.5,
          633536.22,
          289822.1,
          952767.33,
          717177.369,
          319574.74,
          652948.06,
          25908,
          188212,
          406049.73,
          441945.88,
          474772.28,
          30888,
          532630.15,
          370465.21,
          63793.573,
          39471.262,
          43541.171,
          8048.552,
          24948,
          6621,
          290290.854,
          68739,
          72878,
          12645.85,
          6276.615,
          1165146.704,
          3513154.1,
          3227992.9,
          4562672,
          4938684,
          5292379.8,
          7732785.26,
          3980633.7,
          4077503.6,
          3552639.6,
          1541002.3,
          9898976.425,
          9022458.8,
          7291356.7,
          10398008,
          10865536,
          174575.01,
          30477.607,
          3545500.2,
          6126058.4,
          4360103.3,
          6004734.777,
          2461426.7,
          4872555.939,
          3311614.1,
          2527561.6,
          2894158.2,
          1630144.8,
          6742780.1,
          1025376.3,
          4644447.524,
          6637980.9,
          5249106.4,
          2985973.7,
          4658325.8,
          4316220,
          8213150.3,
          2307368.2,
          4513139,
          6951719.7,
          7991707.84,
          10452652,
          9454308.3,
          7219247.2,
          8439307.308,
          7976364.4,
          8743319.713,
          2633174.391,
          2580328.7,
          1105331.8,
          2380212.6,
          2179217,
          1100657.9,
          1779944.7,
          2518469,
          2625834.5,
          361281.26,
          2028891.3,
          2672056,
          1423544.7,
          1648222.1,
          1810829.9,
          5656227.3,
          7473954.7,
          4720666.1,
          4686299.8,
          1728655.2,
          927824.88,
          7512258.2,
          906220.89,
          1125777.1,
          1121751.8,
          5143217.781,
          2272710.6,
          1819413.234,
          1177329.71,
          3059662.8,
          1250006.4,
          487210.64,
          190198.06,
          556155.4,
          1638212.6,
          3266095.5,
          2582192.8,
          904128.42,
          3146865.2,
          2202189.2,
          2033049.8,
          757096.67,
          3099996.2,
          3649414.4,
          2689187.21,
          68.22,
          15807.397,
          16061.295,
          44782.765,
          45774.682,
          182404,
          4993.714,
          929925.38,
          1083103,
          1623749.7,
          36295.311,
          5327.927,
          610313.17,
          321376.09,
          748237.45,
          1810013.4,
          565568.69,
          1988637.4,
          1738479.2,
          1097219.3,
          1066366.2,
          386348,
          32369.281,
          8334.646,
          27576,
          148639.95,
          6935333.3,
          5655524.342,
          2380181.1,
          6877598.6,
          6177368.5,
          7636894.3,
          11746800,
          6672860.3,
          3942162.9,
          5435412.7,
          4211527.6,
          3293687.4,
          9806297.3,
          6672378.3,
          16476659,
          12871066.8,
          13083094
         ],
         "xbins": {
          "size": 400000
         }
        },
        {
         "marker": {
          "color": "lightgreen"
         },
         "name": "Plants Retired by 2030",
         "type": "histogram",
         "x": [
          4185414.919,
          5183235.7,
          3835304.6,
          2679313.31,
          4002624.75,
          2749888.3,
          1477642.83,
          4045913,
          149882.79,
          639124.15,
          2267803,
          75598.315,
          102274.17,
          325321.02,
          935389.08,
          1886115,
          1471896.78,
          891907.81,
          1601262.4,
          626612.16,
          231980.589,
          76169.463,
          517839.61,
          304223.88,
          1502521.75,
          260973.494,
          232567.574,
          541611.5,
          1565952.938,
          197281.7,
          461428.26,
          6750382.634,
          8737451.6,
          474772.28,
          1165146.704,
          3980633.7,
          9022458.8,
          3545500.2,
          6126058.4,
          4872555.939,
          3311614.1,
          2527561.6,
          6742780.1,
          4316220,
          8213150.3,
          6951719.7,
          9454308.3,
          2633174.391,
          2580328.7,
          1105331.8,
          2179217,
          2028891.3,
          5656227.3,
          4720666.1,
          927824.88,
          5143217.781,
          1250006.4,
          2033049.8,
          3099996.2,
          1083103,
          1623749.7,
          36295.311,
          5327.927,
          610313.17,
          321376.09,
          748237.45,
          565568.69,
          1097219.3,
          6672860.3,
          5435412.7,
          4211527.6
         ],
         "xbins": {
          "size": 400000
         }
        },
        {
         "marker": {
          "color": "green"
         },
         "name": "Plants Retired by 2025",
         "type": "histogram",
         "x": [
          5183235.7,
          2679313.31,
          4045913,
          149882.79,
          639124.15,
          75598.315,
          102274.17,
          325321.02,
          935389.08,
          891907.81,
          1601262.4,
          626612.16,
          231980.589,
          76169.463,
          517839.61,
          304223.88,
          260973.494,
          232567.574,
          541611.5,
          1565952.938,
          197281.7,
          461428.26,
          6750382.634,
          8737451.6,
          474772.28,
          1165146.704,
          3980633.7,
          3545500.2,
          6126058.4,
          4872555.939,
          8213150.3,
          2580328.7,
          1105331.8,
          2179217,
          4720666.1,
          927824.88,
          5143217.781,
          2033049.8,
          3099996.2,
          1083103,
          1623749.7,
          36295.311,
          5327.927,
          610313.17,
          321376.09,
          748237.45,
          565568.69,
          1097219.3
         ],
         "xbins": {
          "size": 400000
         }
        }
       ],
       "layout": {
        "barmode": "overlay",
        "legend": {
         "traceorder": "normal"
        },
        "template": {
         "data": {
          "bar": [
           {
            "error_x": {
             "color": "#2a3f5f"
            },
            "error_y": {
             "color": "#2a3f5f"
            },
            "marker": {
             "line": {
              "color": "#E5ECF6",
              "width": 0.5
             },
             "pattern": {
              "fillmode": "overlay",
              "size": 10,
              "solidity": 0.2
             }
            },
            "type": "bar"
           }
          ],
          "barpolar": [
           {
            "marker": {
             "line": {
              "color": "#E5ECF6",
              "width": 0.5
             },
             "pattern": {
              "fillmode": "overlay",
              "size": 10,
              "solidity": 0.2
             }
            },
            "type": "barpolar"
           }
          ],
          "carpet": [
           {
            "aaxis": {
             "endlinecolor": "#2a3f5f",
             "gridcolor": "white",
             "linecolor": "white",
             "minorgridcolor": "white",
             "startlinecolor": "#2a3f5f"
            },
            "baxis": {
             "endlinecolor": "#2a3f5f",
             "gridcolor": "white",
             "linecolor": "white",
             "minorgridcolor": "white",
             "startlinecolor": "#2a3f5f"
            },
            "type": "carpet"
           }
          ],
          "choropleth": [
           {
            "colorbar": {
             "outlinewidth": 0,
             "ticks": ""
            },
            "type": "choropleth"
           }
          ],
          "contour": [
           {
            "colorbar": {
             "outlinewidth": 0,
             "ticks": ""
            },
            "colorscale": [
             [
              0,
              "#0d0887"
             ],
             [
              0.1111111111111111,
              "#46039f"
             ],
             [
              0.2222222222222222,
              "#7201a8"
             ],
             [
              0.3333333333333333,
              "#9c179e"
             ],
             [
              0.4444444444444444,
              "#bd3786"
             ],
             [
              0.5555555555555556,
              "#d8576b"
             ],
             [
              0.6666666666666666,
              "#ed7953"
             ],
             [
              0.7777777777777778,
              "#fb9f3a"
             ],
             [
              0.8888888888888888,
              "#fdca26"
             ],
             [
              1,
              "#f0f921"
             ]
            ],
            "type": "contour"
           }
          ],
          "contourcarpet": [
           {
            "colorbar": {
             "outlinewidth": 0,
             "ticks": ""
            },
            "type": "contourcarpet"
           }
          ],
          "heatmap": [
           {
            "colorbar": {
             "outlinewidth": 0,
             "ticks": ""
            },
            "colorscale": [
             [
              0,
              "#0d0887"
             ],
             [
              0.1111111111111111,
              "#46039f"
             ],
             [
              0.2222222222222222,
              "#7201a8"
             ],
             [
              0.3333333333333333,
              "#9c179e"
             ],
             [
              0.4444444444444444,
              "#bd3786"
             ],
             [
              0.5555555555555556,
              "#d8576b"
             ],
             [
              0.6666666666666666,
              "#ed7953"
             ],
             [
              0.7777777777777778,
              "#fb9f3a"
             ],
             [
              0.8888888888888888,
              "#fdca26"
             ],
             [
              1,
              "#f0f921"
             ]
            ],
            "type": "heatmap"
           }
          ],
          "heatmapgl": [
           {
            "colorbar": {
             "outlinewidth": 0,
             "ticks": ""
            },
            "colorscale": [
             [
              0,
              "#0d0887"
             ],
             [
              0.1111111111111111,
              "#46039f"
             ],
             [
              0.2222222222222222,
              "#7201a8"
             ],
             [
              0.3333333333333333,
              "#9c179e"
             ],
             [
              0.4444444444444444,
              "#bd3786"
             ],
             [
              0.5555555555555556,
              "#d8576b"
             ],
             [
              0.6666666666666666,
              "#ed7953"
             ],
             [
              0.7777777777777778,
              "#fb9f3a"
             ],
             [
              0.8888888888888888,
              "#fdca26"
             ],
             [
              1,
              "#f0f921"
             ]
            ],
            "type": "heatmapgl"
           }
          ],
          "histogram": [
           {
            "marker": {
             "pattern": {
              "fillmode": "overlay",
              "size": 10,
              "solidity": 0.2
             }
            },
            "type": "histogram"
           }
          ],
          "histogram2d": [
           {
            "colorbar": {
             "outlinewidth": 0,
             "ticks": ""
            },
            "colorscale": [
             [
              0,
              "#0d0887"
             ],
             [
              0.1111111111111111,
              "#46039f"
             ],
             [
              0.2222222222222222,
              "#7201a8"
             ],
             [
              0.3333333333333333,
              "#9c179e"
             ],
             [
              0.4444444444444444,
              "#bd3786"
             ],
             [
              0.5555555555555556,
              "#d8576b"
             ],
             [
              0.6666666666666666,
              "#ed7953"
             ],
             [
              0.7777777777777778,
              "#fb9f3a"
             ],
             [
              0.8888888888888888,
              "#fdca26"
             ],
             [
              1,
              "#f0f921"
             ]
            ],
            "type": "histogram2d"
           }
          ],
          "histogram2dcontour": [
           {
            "colorbar": {
             "outlinewidth": 0,
             "ticks": ""
            },
            "colorscale": [
             [
              0,
              "#0d0887"
             ],
             [
              0.1111111111111111,
              "#46039f"
             ],
             [
              0.2222222222222222,
              "#7201a8"
             ],
             [
              0.3333333333333333,
              "#9c179e"
             ],
             [
              0.4444444444444444,
              "#bd3786"
             ],
             [
              0.5555555555555556,
              "#d8576b"
             ],
             [
              0.6666666666666666,
              "#ed7953"
             ],
             [
              0.7777777777777778,
              "#fb9f3a"
             ],
             [
              0.8888888888888888,
              "#fdca26"
             ],
             [
              1,
              "#f0f921"
             ]
            ],
            "type": "histogram2dcontour"
           }
          ],
          "mesh3d": [
           {
            "colorbar": {
             "outlinewidth": 0,
             "ticks": ""
            },
            "type": "mesh3d"
           }
          ],
          "parcoords": [
           {
            "line": {
             "colorbar": {
              "outlinewidth": 0,
              "ticks": ""
             }
            },
            "type": "parcoords"
           }
          ],
          "pie": [
           {
            "automargin": true,
            "type": "pie"
           }
          ],
          "scatter": [
           {
            "marker": {
             "colorbar": {
              "outlinewidth": 0,
              "ticks": ""
             }
            },
            "type": "scatter"
           }
          ],
          "scatter3d": [
           {
            "line": {
             "colorbar": {
              "outlinewidth": 0,
              "ticks": ""
             }
            },
            "marker": {
             "colorbar": {
              "outlinewidth": 0,
              "ticks": ""
             }
            },
            "type": "scatter3d"
           }
          ],
          "scattercarpet": [
           {
            "marker": {
             "colorbar": {
              "outlinewidth": 0,
              "ticks": ""
             }
            },
            "type": "scattercarpet"
           }
          ],
          "scattergeo": [
           {
            "marker": {
             "colorbar": {
              "outlinewidth": 0,
              "ticks": ""
             }
            },
            "type": "scattergeo"
           }
          ],
          "scattergl": [
           {
            "marker": {
             "colorbar": {
              "outlinewidth": 0,
              "ticks": ""
             }
            },
            "type": "scattergl"
           }
          ],
          "scattermapbox": [
           {
            "marker": {
             "colorbar": {
              "outlinewidth": 0,
              "ticks": ""
             }
            },
            "type": "scattermapbox"
           }
          ],
          "scatterpolar": [
           {
            "marker": {
             "colorbar": {
              "outlinewidth": 0,
              "ticks": ""
             }
            },
            "type": "scatterpolar"
           }
          ],
          "scatterpolargl": [
           {
            "marker": {
             "colorbar": {
              "outlinewidth": 0,
              "ticks": ""
             }
            },
            "type": "scatterpolargl"
           }
          ],
          "scatterternary": [
           {
            "marker": {
             "colorbar": {
              "outlinewidth": 0,
              "ticks": ""
             }
            },
            "type": "scatterternary"
           }
          ],
          "surface": [
           {
            "colorbar": {
             "outlinewidth": 0,
             "ticks": ""
            },
            "colorscale": [
             [
              0,
              "#0d0887"
             ],
             [
              0.1111111111111111,
              "#46039f"
             ],
             [
              0.2222222222222222,
              "#7201a8"
             ],
             [
              0.3333333333333333,
              "#9c179e"
             ],
             [
              0.4444444444444444,
              "#bd3786"
             ],
             [
              0.5555555555555556,
              "#d8576b"
             ],
             [
              0.6666666666666666,
              "#ed7953"
             ],
             [
              0.7777777777777778,
              "#fb9f3a"
             ],
             [
              0.8888888888888888,
              "#fdca26"
             ],
             [
              1,
              "#f0f921"
             ]
            ],
            "type": "surface"
           }
          ],
          "table": [
           {
            "cells": {
             "fill": {
              "color": "#EBF0F8"
             },
             "line": {
              "color": "white"
             }
            },
            "header": {
             "fill": {
              "color": "#C8D4E3"
             },
             "line": {
              "color": "white"
             }
            },
            "type": "table"
           }
          ]
         },
         "layout": {
          "annotationdefaults": {
           "arrowcolor": "#2a3f5f",
           "arrowhead": 0,
           "arrowwidth": 1
          },
          "autotypenumbers": "strict",
          "coloraxis": {
           "colorbar": {
            "outlinewidth": 0,
            "ticks": ""
           }
          },
          "colorscale": {
           "diverging": [
            [
             0,
             "#8e0152"
            ],
            [
             0.1,
             "#c51b7d"
            ],
            [
             0.2,
             "#de77ae"
            ],
            [
             0.3,
             "#f1b6da"
            ],
            [
             0.4,
             "#fde0ef"
            ],
            [
             0.5,
             "#f7f7f7"
            ],
            [
             0.6,
             "#e6f5d0"
            ],
            [
             0.7,
             "#b8e186"
            ],
            [
             0.8,
             "#7fbc41"
            ],
            [
             0.9,
             "#4d9221"
            ],
            [
             1,
             "#276419"
            ]
           ],
           "sequential": [
            [
             0,
             "#0d0887"
            ],
            [
             0.1111111111111111,
             "#46039f"
            ],
            [
             0.2222222222222222,
             "#7201a8"
            ],
            [
             0.3333333333333333,
             "#9c179e"
            ],
            [
             0.4444444444444444,
             "#bd3786"
            ],
            [
             0.5555555555555556,
             "#d8576b"
            ],
            [
             0.6666666666666666,
             "#ed7953"
            ],
            [
             0.7777777777777778,
             "#fb9f3a"
            ],
            [
             0.8888888888888888,
             "#fdca26"
            ],
            [
             1,
             "#f0f921"
            ]
           ],
           "sequentialminus": [
            [
             0,
             "#0d0887"
            ],
            [
             0.1111111111111111,
             "#46039f"
            ],
            [
             0.2222222222222222,
             "#7201a8"
            ],
            [
             0.3333333333333333,
             "#9c179e"
            ],
            [
             0.4444444444444444,
             "#bd3786"
            ],
            [
             0.5555555555555556,
             "#d8576b"
            ],
            [
             0.6666666666666666,
             "#ed7953"
            ],
            [
             0.7777777777777778,
             "#fb9f3a"
            ],
            [
             0.8888888888888888,
             "#fdca26"
            ],
            [
             1,
             "#f0f921"
            ]
           ]
          },
          "colorway": [
           "#636efa",
           "#EF553B",
           "#00cc96",
           "#ab63fa",
           "#FFA15A",
           "#19d3f3",
           "#FF6692",
           "#B6E880",
           "#FF97FF",
           "#FECB52"
          ],
          "font": {
           "color": "#2a3f5f"
          },
          "geo": {
           "bgcolor": "white",
           "lakecolor": "white",
           "landcolor": "#E5ECF6",
           "showlakes": true,
           "showland": true,
           "subunitcolor": "white"
          },
          "hoverlabel": {
           "align": "left"
          },
          "hovermode": "closest",
          "mapbox": {
           "style": "light"
          },
          "paper_bgcolor": "white",
          "plot_bgcolor": "#E5ECF6",
          "polar": {
           "angularaxis": {
            "gridcolor": "white",
            "linecolor": "white",
            "ticks": ""
           },
           "bgcolor": "#E5ECF6",
           "radialaxis": {
            "gridcolor": "white",
            "linecolor": "white",
            "ticks": ""
           }
          },
          "scene": {
           "xaxis": {
            "backgroundcolor": "#E5ECF6",
            "gridcolor": "white",
            "gridwidth": 2,
            "linecolor": "white",
            "showbackground": true,
            "ticks": "",
            "zerolinecolor": "white"
           },
           "yaxis": {
            "backgroundcolor": "#E5ECF6",
            "gridcolor": "white",
            "gridwidth": 2,
            "linecolor": "white",
            "showbackground": true,
            "ticks": "",
            "zerolinecolor": "white"
           },
           "zaxis": {
            "backgroundcolor": "#E5ECF6",
            "gridcolor": "white",
            "gridwidth": 2,
            "linecolor": "white",
            "showbackground": true,
            "ticks": "",
            "zerolinecolor": "white"
           }
          },
          "shapedefaults": {
           "line": {
            "color": "#2a3f5f"
           }
          },
          "ternary": {
           "aaxis": {
            "gridcolor": "white",
            "linecolor": "white",
            "ticks": ""
           },
           "baxis": {
            "gridcolor": "white",
            "linecolor": "white",
            "ticks": ""
           },
           "bgcolor": "#E5ECF6",
           "caxis": {
            "gridcolor": "white",
            "linecolor": "white",
            "ticks": ""
           }
          },
          "title": {
           "x": 0.05
          },
          "xaxis": {
           "automargin": true,
           "gridcolor": "white",
           "linecolor": "white",
           "ticks": "",
           "title": {
            "standoff": 15
           },
           "zerolinecolor": "white",
           "zerolinewidth": 2
          },
          "yaxis": {
           "automargin": true,
           "gridcolor": "white",
           "linecolor": "white",
           "ticks": "",
           "title": {
            "standoff": 15
           },
           "zerolinecolor": "white",
           "zerolinewidth": 2
          }
         }
        }
       }
      }
     },
     "metadata": {},
     "output_type": "display_data"
    }
   ],
   "source": [
    "fig=go.Figure()\n",
    "\n",
    "fig.add_trace(go.Histogram(x=retTotal['PLGENACL'], name = 'Coal Plants in 2020', marker_color='grey', xbins=dict(size=400000)))\n",
    "fig.add_trace(go.Histogram(x=retTotal[retTotal['ret']>0]['PLGENACL'], name = 'Plants Retired by 2030', marker_color='lightgreen', xbins=dict(size=400000)))\n",
    "fig.add_trace(go.Histogram(x=retTotal[retTotal['ret']==1]['PLGENACL'], name = 'Plants Retired by 2025', marker_color='green', xbins=dict(size=400000)))\n",
    "fig.update_layout(barmode='overlay', legend={'traceorder':'normal'})\n"
   ]
  },
  {
   "cell_type": "code",
   "execution_count": 192,
   "id": "48e95a74",
   "metadata": {},
   "outputs": [
    {
     "data": {
      "application/vnd.plotly.v1+json": {
       "config": {
        "plotlyServerURL": "https://plot.ly"
       },
       "data": [
        {
         "marker": {
          "colors": [
           "grey",
           "lightgreen",
           "green"
          ]
         },
         "type": "pie",
         "values": [
          202,
          23,
          48
         ]
        }
       ],
       "layout": {
        "template": {
         "data": {
          "bar": [
           {
            "error_x": {
             "color": "#2a3f5f"
            },
            "error_y": {
             "color": "#2a3f5f"
            },
            "marker": {
             "line": {
              "color": "#E5ECF6",
              "width": 0.5
             },
             "pattern": {
              "fillmode": "overlay",
              "size": 10,
              "solidity": 0.2
             }
            },
            "type": "bar"
           }
          ],
          "barpolar": [
           {
            "marker": {
             "line": {
              "color": "#E5ECF6",
              "width": 0.5
             },
             "pattern": {
              "fillmode": "overlay",
              "size": 10,
              "solidity": 0.2
             }
            },
            "type": "barpolar"
           }
          ],
          "carpet": [
           {
            "aaxis": {
             "endlinecolor": "#2a3f5f",
             "gridcolor": "white",
             "linecolor": "white",
             "minorgridcolor": "white",
             "startlinecolor": "#2a3f5f"
            },
            "baxis": {
             "endlinecolor": "#2a3f5f",
             "gridcolor": "white",
             "linecolor": "white",
             "minorgridcolor": "white",
             "startlinecolor": "#2a3f5f"
            },
            "type": "carpet"
           }
          ],
          "choropleth": [
           {
            "colorbar": {
             "outlinewidth": 0,
             "ticks": ""
            },
            "type": "choropleth"
           }
          ],
          "contour": [
           {
            "colorbar": {
             "outlinewidth": 0,
             "ticks": ""
            },
            "colorscale": [
             [
              0,
              "#0d0887"
             ],
             [
              0.1111111111111111,
              "#46039f"
             ],
             [
              0.2222222222222222,
              "#7201a8"
             ],
             [
              0.3333333333333333,
              "#9c179e"
             ],
             [
              0.4444444444444444,
              "#bd3786"
             ],
             [
              0.5555555555555556,
              "#d8576b"
             ],
             [
              0.6666666666666666,
              "#ed7953"
             ],
             [
              0.7777777777777778,
              "#fb9f3a"
             ],
             [
              0.8888888888888888,
              "#fdca26"
             ],
             [
              1,
              "#f0f921"
             ]
            ],
            "type": "contour"
           }
          ],
          "contourcarpet": [
           {
            "colorbar": {
             "outlinewidth": 0,
             "ticks": ""
            },
            "type": "contourcarpet"
           }
          ],
          "heatmap": [
           {
            "colorbar": {
             "outlinewidth": 0,
             "ticks": ""
            },
            "colorscale": [
             [
              0,
              "#0d0887"
             ],
             [
              0.1111111111111111,
              "#46039f"
             ],
             [
              0.2222222222222222,
              "#7201a8"
             ],
             [
              0.3333333333333333,
              "#9c179e"
             ],
             [
              0.4444444444444444,
              "#bd3786"
             ],
             [
              0.5555555555555556,
              "#d8576b"
             ],
             [
              0.6666666666666666,
              "#ed7953"
             ],
             [
              0.7777777777777778,
              "#fb9f3a"
             ],
             [
              0.8888888888888888,
              "#fdca26"
             ],
             [
              1,
              "#f0f921"
             ]
            ],
            "type": "heatmap"
           }
          ],
          "heatmapgl": [
           {
            "colorbar": {
             "outlinewidth": 0,
             "ticks": ""
            },
            "colorscale": [
             [
              0,
              "#0d0887"
             ],
             [
              0.1111111111111111,
              "#46039f"
             ],
             [
              0.2222222222222222,
              "#7201a8"
             ],
             [
              0.3333333333333333,
              "#9c179e"
             ],
             [
              0.4444444444444444,
              "#bd3786"
             ],
             [
              0.5555555555555556,
              "#d8576b"
             ],
             [
              0.6666666666666666,
              "#ed7953"
             ],
             [
              0.7777777777777778,
              "#fb9f3a"
             ],
             [
              0.8888888888888888,
              "#fdca26"
             ],
             [
              1,
              "#f0f921"
             ]
            ],
            "type": "heatmapgl"
           }
          ],
          "histogram": [
           {
            "marker": {
             "pattern": {
              "fillmode": "overlay",
              "size": 10,
              "solidity": 0.2
             }
            },
            "type": "histogram"
           }
          ],
          "histogram2d": [
           {
            "colorbar": {
             "outlinewidth": 0,
             "ticks": ""
            },
            "colorscale": [
             [
              0,
              "#0d0887"
             ],
             [
              0.1111111111111111,
              "#46039f"
             ],
             [
              0.2222222222222222,
              "#7201a8"
             ],
             [
              0.3333333333333333,
              "#9c179e"
             ],
             [
              0.4444444444444444,
              "#bd3786"
             ],
             [
              0.5555555555555556,
              "#d8576b"
             ],
             [
              0.6666666666666666,
              "#ed7953"
             ],
             [
              0.7777777777777778,
              "#fb9f3a"
             ],
             [
              0.8888888888888888,
              "#fdca26"
             ],
             [
              1,
              "#f0f921"
             ]
            ],
            "type": "histogram2d"
           }
          ],
          "histogram2dcontour": [
           {
            "colorbar": {
             "outlinewidth": 0,
             "ticks": ""
            },
            "colorscale": [
             [
              0,
              "#0d0887"
             ],
             [
              0.1111111111111111,
              "#46039f"
             ],
             [
              0.2222222222222222,
              "#7201a8"
             ],
             [
              0.3333333333333333,
              "#9c179e"
             ],
             [
              0.4444444444444444,
              "#bd3786"
             ],
             [
              0.5555555555555556,
              "#d8576b"
             ],
             [
              0.6666666666666666,
              "#ed7953"
             ],
             [
              0.7777777777777778,
              "#fb9f3a"
             ],
             [
              0.8888888888888888,
              "#fdca26"
             ],
             [
              1,
              "#f0f921"
             ]
            ],
            "type": "histogram2dcontour"
           }
          ],
          "mesh3d": [
           {
            "colorbar": {
             "outlinewidth": 0,
             "ticks": ""
            },
            "type": "mesh3d"
           }
          ],
          "parcoords": [
           {
            "line": {
             "colorbar": {
              "outlinewidth": 0,
              "ticks": ""
             }
            },
            "type": "parcoords"
           }
          ],
          "pie": [
           {
            "automargin": true,
            "type": "pie"
           }
          ],
          "scatter": [
           {
            "marker": {
             "colorbar": {
              "outlinewidth": 0,
              "ticks": ""
             }
            },
            "type": "scatter"
           }
          ],
          "scatter3d": [
           {
            "line": {
             "colorbar": {
              "outlinewidth": 0,
              "ticks": ""
             }
            },
            "marker": {
             "colorbar": {
              "outlinewidth": 0,
              "ticks": ""
             }
            },
            "type": "scatter3d"
           }
          ],
          "scattercarpet": [
           {
            "marker": {
             "colorbar": {
              "outlinewidth": 0,
              "ticks": ""
             }
            },
            "type": "scattercarpet"
           }
          ],
          "scattergeo": [
           {
            "marker": {
             "colorbar": {
              "outlinewidth": 0,
              "ticks": ""
             }
            },
            "type": "scattergeo"
           }
          ],
          "scattergl": [
           {
            "marker": {
             "colorbar": {
              "outlinewidth": 0,
              "ticks": ""
             }
            },
            "type": "scattergl"
           }
          ],
          "scattermapbox": [
           {
            "marker": {
             "colorbar": {
              "outlinewidth": 0,
              "ticks": ""
             }
            },
            "type": "scattermapbox"
           }
          ],
          "scatterpolar": [
           {
            "marker": {
             "colorbar": {
              "outlinewidth": 0,
              "ticks": ""
             }
            },
            "type": "scatterpolar"
           }
          ],
          "scatterpolargl": [
           {
            "marker": {
             "colorbar": {
              "outlinewidth": 0,
              "ticks": ""
             }
            },
            "type": "scatterpolargl"
           }
          ],
          "scatterternary": [
           {
            "marker": {
             "colorbar": {
              "outlinewidth": 0,
              "ticks": ""
             }
            },
            "type": "scatterternary"
           }
          ],
          "surface": [
           {
            "colorbar": {
             "outlinewidth": 0,
             "ticks": ""
            },
            "colorscale": [
             [
              0,
              "#0d0887"
             ],
             [
              0.1111111111111111,
              "#46039f"
             ],
             [
              0.2222222222222222,
              "#7201a8"
             ],
             [
              0.3333333333333333,
              "#9c179e"
             ],
             [
              0.4444444444444444,
              "#bd3786"
             ],
             [
              0.5555555555555556,
              "#d8576b"
             ],
             [
              0.6666666666666666,
              "#ed7953"
             ],
             [
              0.7777777777777778,
              "#fb9f3a"
             ],
             [
              0.8888888888888888,
              "#fdca26"
             ],
             [
              1,
              "#f0f921"
             ]
            ],
            "type": "surface"
           }
          ],
          "table": [
           {
            "cells": {
             "fill": {
              "color": "#EBF0F8"
             },
             "line": {
              "color": "white"
             }
            },
            "header": {
             "fill": {
              "color": "#C8D4E3"
             },
             "line": {
              "color": "white"
             }
            },
            "type": "table"
           }
          ]
         },
         "layout": {
          "annotationdefaults": {
           "arrowcolor": "#2a3f5f",
           "arrowhead": 0,
           "arrowwidth": 1
          },
          "autotypenumbers": "strict",
          "coloraxis": {
           "colorbar": {
            "outlinewidth": 0,
            "ticks": ""
           }
          },
          "colorscale": {
           "diverging": [
            [
             0,
             "#8e0152"
            ],
            [
             0.1,
             "#c51b7d"
            ],
            [
             0.2,
             "#de77ae"
            ],
            [
             0.3,
             "#f1b6da"
            ],
            [
             0.4,
             "#fde0ef"
            ],
            [
             0.5,
             "#f7f7f7"
            ],
            [
             0.6,
             "#e6f5d0"
            ],
            [
             0.7,
             "#b8e186"
            ],
            [
             0.8,
             "#7fbc41"
            ],
            [
             0.9,
             "#4d9221"
            ],
            [
             1,
             "#276419"
            ]
           ],
           "sequential": [
            [
             0,
             "#0d0887"
            ],
            [
             0.1111111111111111,
             "#46039f"
            ],
            [
             0.2222222222222222,
             "#7201a8"
            ],
            [
             0.3333333333333333,
             "#9c179e"
            ],
            [
             0.4444444444444444,
             "#bd3786"
            ],
            [
             0.5555555555555556,
             "#d8576b"
            ],
            [
             0.6666666666666666,
             "#ed7953"
            ],
            [
             0.7777777777777778,
             "#fb9f3a"
            ],
            [
             0.8888888888888888,
             "#fdca26"
            ],
            [
             1,
             "#f0f921"
            ]
           ],
           "sequentialminus": [
            [
             0,
             "#0d0887"
            ],
            [
             0.1111111111111111,
             "#46039f"
            ],
            [
             0.2222222222222222,
             "#7201a8"
            ],
            [
             0.3333333333333333,
             "#9c179e"
            ],
            [
             0.4444444444444444,
             "#bd3786"
            ],
            [
             0.5555555555555556,
             "#d8576b"
            ],
            [
             0.6666666666666666,
             "#ed7953"
            ],
            [
             0.7777777777777778,
             "#fb9f3a"
            ],
            [
             0.8888888888888888,
             "#fdca26"
            ],
            [
             1,
             "#f0f921"
            ]
           ]
          },
          "colorway": [
           "#636efa",
           "#EF553B",
           "#00cc96",
           "#ab63fa",
           "#FFA15A",
           "#19d3f3",
           "#FF6692",
           "#B6E880",
           "#FF97FF",
           "#FECB52"
          ],
          "font": {
           "color": "#2a3f5f"
          },
          "geo": {
           "bgcolor": "white",
           "lakecolor": "white",
           "landcolor": "#E5ECF6",
           "showlakes": true,
           "showland": true,
           "subunitcolor": "white"
          },
          "hoverlabel": {
           "align": "left"
          },
          "hovermode": "closest",
          "mapbox": {
           "style": "light"
          },
          "paper_bgcolor": "white",
          "plot_bgcolor": "#E5ECF6",
          "polar": {
           "angularaxis": {
            "gridcolor": "white",
            "linecolor": "white",
            "ticks": ""
           },
           "bgcolor": "#E5ECF6",
           "radialaxis": {
            "gridcolor": "white",
            "linecolor": "white",
            "ticks": ""
           }
          },
          "scene": {
           "xaxis": {
            "backgroundcolor": "#E5ECF6",
            "gridcolor": "white",
            "gridwidth": 2,
            "linecolor": "white",
            "showbackground": true,
            "ticks": "",
            "zerolinecolor": "white"
           },
           "yaxis": {
            "backgroundcolor": "#E5ECF6",
            "gridcolor": "white",
            "gridwidth": 2,
            "linecolor": "white",
            "showbackground": true,
            "ticks": "",
            "zerolinecolor": "white"
           },
           "zaxis": {
            "backgroundcolor": "#E5ECF6",
            "gridcolor": "white",
            "gridwidth": 2,
            "linecolor": "white",
            "showbackground": true,
            "ticks": "",
            "zerolinecolor": "white"
           }
          },
          "shapedefaults": {
           "line": {
            "color": "#2a3f5f"
           }
          },
          "ternary": {
           "aaxis": {
            "gridcolor": "white",
            "linecolor": "white",
            "ticks": ""
           },
           "baxis": {
            "gridcolor": "white",
            "linecolor": "white",
            "ticks": ""
           },
           "bgcolor": "#E5ECF6",
           "caxis": {
            "gridcolor": "white",
            "linecolor": "white",
            "ticks": ""
           }
          },
          "title": {
           "x": 0.05
          },
          "xaxis": {
           "automargin": true,
           "gridcolor": "white",
           "linecolor": "white",
           "ticks": "",
           "title": {
            "standoff": 15
           },
           "zerolinecolor": "white",
           "zerolinewidth": 2
          },
          "yaxis": {
           "automargin": true,
           "gridcolor": "white",
           "linecolor": "white",
           "ticks": "",
           "title": {
            "standoff": 15
           },
           "zerolinecolor": "white",
           "zerolinewidth": 2
          }
         }
        }
       }
      }
     },
     "metadata": {},
     "output_type": "display_data"
    }
   ],
   "source": [
    "fig = go.Figure()\n",
    "\n",
    "vList = [retTotal[retTotal['ret']==0]['numPlants'].sum(), retTotal[retTotal['ret']>1]['numPlants'].sum(), retTotal[retTotal['ret']==1]['numPlants'].sum()]\n",
    "labels=['Total Active Generation (MWh/yr)', 'Total Generation Retired by 2025', 'Total Generation Retired by 2030']\n",
    "fig.add_trace(go.Pie(values = vList, marker_colors=['grey', 'lightgreen', 'green']))\n",
    "fig"
   ]
  },
  {
   "cell_type": "code",
   "execution_count": 509,
   "id": "3aff11b6",
   "metadata": {},
   "outputs": [
    {
     "data": {
      "application/vnd.plotly.v1+json": {
       "config": {
        "plotlyServerURL": "https://plot.ly"
       },
       "data": [
        {
         "marker": {
          "color": "grey"
         },
         "name": "Coal Plants in 2020 - 273 Plants",
         "type": "histogram",
         "x": [
          4368299.8,
          6626028.1,
          4185414.919,
          6023753.6,
          5059110,
          2272890.27,
          4703090.3,
          5183235.7,
          13008129.541,
          11266204,
          16228030,
          6993094.8,
          6210633.1,
          6627915.5,
          4912651.4,
          3835304.6,
          5233075.6,
          2962645.7,
          3590942.3,
          2679313.31,
          2365421.4,
          4002624.75,
          4281018.4,
          2384708.5,
          1068678.5,
          3020365.7,
          179997.59,
          2749888.3,
          1477642.83,
          4045913,
          4781555.3,
          149882.79,
          385257.49,
          310601.35,
          751.139,
          145268.36,
          1233396.2,
          59527.332,
          5301.002,
          49230.004,
          706063.95,
          639124.15,
          143691.53,
          2267803,
          75598.315,
          102274.17,
          842319.641,
          168055.64,
          628214.38,
          674260.109,
          593563.48,
          325321.02,
          32361.715,
          495749.99,
          828307.56,
          935389.08,
          1886115,
          314886.57,
          1471896.78,
          204664.52,
          891907.81,
          1069296.2,
          842101.26,
          1601262.4,
          1392263.1,
          626612.16,
          2280598.79,
          231980.589,
          64924.767,
          178956.45,
          76169.463,
          127490.34,
          517839.61,
          32426.273,
          1560.339,
          221088.68,
          304223.88,
          1502521.75,
          37247.551,
          260973.494,
          786020.33,
          232567.574,
          541611.5,
          449523.09,
          1565952.938,
          197281.7,
          461428.26,
          51043.412,
          530191.18,
          1440743.7,
          2315563.7,
          3254162.7,
          60937,
          28000,
          29736,
          35512,
          26025,
          152873.74,
          146837.09,
          271763.14,
          697581.47,
          715213.63,
          841878.16,
          3203757.2,
          650300.66,
          2320634.3,
          6750382.634,
          12494609,
          7507417.64,
          7926040,
          8737451.6,
          7940196.5,
          5625204.5,
          633536.22,
          289822.1,
          952767.33,
          717177.369,
          319574.74,
          652948.06,
          25908,
          188212,
          406049.73,
          441945.88,
          474772.28,
          30888,
          532630.15,
          370465.21,
          63793.573,
          39471.262,
          43541.171,
          8048.552,
          24948,
          6621,
          290290.854,
          68739,
          72878,
          12645.85,
          6276.615,
          1165146.704,
          3513154.1,
          3227992.9,
          4562672,
          4938684,
          5292379.8,
          7732785.26,
          3980633.7,
          4077503.6,
          3552639.6,
          1541002.3,
          9898976.425,
          9022458.8,
          7291356.7,
          10398008,
          10865536,
          174575.01,
          30477.607,
          3545500.2,
          6126058.4,
          4360103.3,
          6004734.777,
          2461426.7,
          4872555.939,
          3311614.1,
          2527561.6,
          2894158.2,
          1630144.8,
          6742780.1,
          1025376.3,
          4644447.524,
          6637980.9,
          5249106.4,
          2985973.7,
          4658325.8,
          4316220,
          8213150.3,
          2307368.2,
          4513139,
          6951719.7,
          7991707.84,
          10452652,
          9454308.3,
          7219247.2,
          8439307.308,
          7976364.4,
          8743319.713,
          2633174.391,
          2580328.7,
          1105331.8,
          2380212.6,
          2179217,
          1100657.9,
          1779944.7,
          2518469,
          2625834.5,
          361281.26,
          2028891.3,
          2672056,
          1423544.7,
          1648222.1,
          1810829.9,
          5656227.3,
          7473954.7,
          4720666.1,
          4686299.8,
          1728655.2,
          927824.88,
          7512258.2,
          906220.89,
          1125777.1,
          1121751.8,
          5143217.781,
          2272710.6,
          1819413.234,
          1177329.71,
          3059662.8,
          1250006.4,
          487210.64,
          190198.06,
          556155.4,
          1638212.6,
          3266095.5,
          2582192.8,
          904128.42,
          3146865.2,
          2202189.2,
          2033049.8,
          757096.67,
          3099996.2,
          3649414.4,
          2689187.21,
          68.22,
          15807.397,
          16061.295,
          44782.765,
          45774.682,
          182404,
          4993.714,
          929925.38,
          1083103,
          1623749.7,
          36295.311,
          5327.927,
          610313.17,
          321376.09,
          748237.45,
          1810013.4,
          565568.69,
          1988637.4,
          1738479.2,
          1097219.3,
          1066366.2,
          386348,
          32369.281,
          8334.646,
          27576,
          148639.95,
          6935333.3,
          5655524.342,
          2380181.1,
          6877598.6,
          6177368.5,
          7636894.3,
          11746800,
          6672860.3,
          3942162.9,
          5435412.7,
          4211527.6,
          3293687.4,
          9806297.3,
          6672378.3,
          16476659,
          12871066.8,
          13083094
         ],
         "xaxis": "x",
         "xbins": {
          "size": 837500
         },
         "yaxis": "y"
        },
        {
         "marker": {
          "color": "lightgreen"
         },
         "name": "Plants Retiring by 2030 - 23 Plants",
         "type": "histogram",
         "x": [
          4185414.919,
          5183235.7,
          3835304.6,
          2679313.31,
          4002624.75,
          2749888.3,
          1477642.83,
          4045913,
          149882.79,
          639124.15,
          2267803,
          75598.315,
          102274.17,
          325321.02,
          935389.08,
          1886115,
          1471896.78,
          891907.81,
          1601262.4,
          626612.16,
          231980.589,
          76169.463,
          517839.61,
          304223.88,
          1502521.75,
          260973.494,
          232567.574,
          541611.5,
          1565952.938,
          197281.7,
          461428.26,
          6750382.634,
          8737451.6,
          474772.28,
          1165146.704,
          3980633.7,
          9022458.8,
          3545500.2,
          6126058.4,
          4872555.939,
          3311614.1,
          2527561.6,
          6742780.1,
          4316220,
          8213150.3,
          6951719.7,
          9454308.3,
          2633174.391,
          2580328.7,
          1105331.8,
          2179217,
          2028891.3,
          5656227.3,
          4720666.1,
          927824.88,
          5143217.781,
          1250006.4,
          2033049.8,
          3099996.2,
          1083103,
          1623749.7,
          36295.311,
          5327.927,
          610313.17,
          321376.09,
          748237.45,
          565568.69,
          1097219.3,
          6672860.3,
          5435412.7,
          4211527.6
         ],
         "xaxis": "x",
         "xbins": {
          "size": 482500
         },
         "yaxis": "y"
        },
        {
         "marker": {
          "color": "green"
         },
         "name": "Plants Retiring by 2025 - 48 Plants",
         "type": "histogram",
         "x": [
          5183235.7,
          2679313.31,
          4045913,
          149882.79,
          639124.15,
          75598.315,
          102274.17,
          325321.02,
          935389.08,
          891907.81,
          1601262.4,
          626612.16,
          231980.589,
          76169.463,
          517839.61,
          304223.88,
          260973.494,
          232567.574,
          541611.5,
          1565952.938,
          197281.7,
          461428.26,
          6750382.634,
          8737451.6,
          474772.28,
          1165146.704,
          3980633.7,
          3545500.2,
          6126058.4,
          4872555.939,
          8213150.3,
          2580328.7,
          1105331.8,
          2179217,
          4720666.1,
          927824.88,
          5143217.781,
          2033049.8,
          3099996.2,
          1083103,
          1623749.7,
          36295.311,
          5327.927,
          610313.17,
          321376.09,
          748237.45,
          565568.69,
          1097219.3
         ],
         "xaxis": "x",
         "xbins": {
          "size": 482500
         },
         "yaxis": "y"
        },
        {
         "direction": "clockwise",
         "domain": {
          "x": [
           0.35555555555555557,
           0.6444444444444445
          ],
          "y": [
           0,
           1
          ]
         },
         "hole": 0.4,
         "marker": {
          "colors": [
           "grey",
           "lightgreen",
           "green"
          ]
         },
         "showlegend": false,
         "type": "pie",
         "values": [
          576506896.451,
          93593974.52,
          93392337.569
         ]
        },
        {
         "domain": {
          "x": [
           0.7111111111111111,
           1
          ],
          "y": [
           0,
           1
          ]
         },
         "hole": 0.4,
         "marker": {
          "colors": [
           "darkgrey",
           "lightgreen",
           "green"
          ]
         },
         "showlegend": false,
         "type": "pie",
         "values": [
          6680.298563488195,
          900.484693521549,
          2840.766024958323
         ]
        }
       ],
       "layout": {
        "annotations": [
         {
          "font": {
           "size": 12
          },
          "showarrow": false,
          "text": "Planned Coal Plant Retirements",
          "x": 0.14444444444444446,
          "xanchor": "center",
          "xref": "paper",
          "y": 1,
          "yanchor": "bottom",
          "yref": "paper"
         },
         {
          "font": {
           "size": 12
          },
          "showarrow": false,
          "text": "Generation (MWh/yr in 2020) of Retiring Plants",
          "x": 0.5,
          "xanchor": "center",
          "xref": "paper",
          "y": 1,
          "yanchor": "bottom",
          "yref": "paper"
         },
         {
          "font": {
           "size": 12
          },
          "showarrow": false,
          "text": "Forward Costs ($/MWh in 2020) of Retiring Plants",
          "x": 0.8555555555555556,
          "xanchor": "center",
          "xref": "paper",
          "y": 1,
          "yanchor": "bottom",
          "yref": "paper"
         }
        ],
        "barmode": "overlay",
        "font": {
         "size": 12
        },
        "legend": {
         "orientation": "h",
         "traceorder": "reversed",
         "x": 0.19,
         "xanchor": "left",
         "y": -0.3,
         "yanchor": "bottom"
        },
        "template": {
         "data": {
          "bar": [
           {
            "error_x": {
             "color": "#2a3f5f"
            },
            "error_y": {
             "color": "#2a3f5f"
            },
            "marker": {
             "line": {
              "color": "#E5ECF6",
              "width": 0.5
             },
             "pattern": {
              "fillmode": "overlay",
              "size": 10,
              "solidity": 0.2
             }
            },
            "type": "bar"
           }
          ],
          "barpolar": [
           {
            "marker": {
             "line": {
              "color": "#E5ECF6",
              "width": 0.5
             },
             "pattern": {
              "fillmode": "overlay",
              "size": 10,
              "solidity": 0.2
             }
            },
            "type": "barpolar"
           }
          ],
          "carpet": [
           {
            "aaxis": {
             "endlinecolor": "#2a3f5f",
             "gridcolor": "white",
             "linecolor": "white",
             "minorgridcolor": "white",
             "startlinecolor": "#2a3f5f"
            },
            "baxis": {
             "endlinecolor": "#2a3f5f",
             "gridcolor": "white",
             "linecolor": "white",
             "minorgridcolor": "white",
             "startlinecolor": "#2a3f5f"
            },
            "type": "carpet"
           }
          ],
          "choropleth": [
           {
            "colorbar": {
             "outlinewidth": 0,
             "ticks": ""
            },
            "type": "choropleth"
           }
          ],
          "contour": [
           {
            "colorbar": {
             "outlinewidth": 0,
             "ticks": ""
            },
            "colorscale": [
             [
              0,
              "#0d0887"
             ],
             [
              0.1111111111111111,
              "#46039f"
             ],
             [
              0.2222222222222222,
              "#7201a8"
             ],
             [
              0.3333333333333333,
              "#9c179e"
             ],
             [
              0.4444444444444444,
              "#bd3786"
             ],
             [
              0.5555555555555556,
              "#d8576b"
             ],
             [
              0.6666666666666666,
              "#ed7953"
             ],
             [
              0.7777777777777778,
              "#fb9f3a"
             ],
             [
              0.8888888888888888,
              "#fdca26"
             ],
             [
              1,
              "#f0f921"
             ]
            ],
            "type": "contour"
           }
          ],
          "contourcarpet": [
           {
            "colorbar": {
             "outlinewidth": 0,
             "ticks": ""
            },
            "type": "contourcarpet"
           }
          ],
          "heatmap": [
           {
            "colorbar": {
             "outlinewidth": 0,
             "ticks": ""
            },
            "colorscale": [
             [
              0,
              "#0d0887"
             ],
             [
              0.1111111111111111,
              "#46039f"
             ],
             [
              0.2222222222222222,
              "#7201a8"
             ],
             [
              0.3333333333333333,
              "#9c179e"
             ],
             [
              0.4444444444444444,
              "#bd3786"
             ],
             [
              0.5555555555555556,
              "#d8576b"
             ],
             [
              0.6666666666666666,
              "#ed7953"
             ],
             [
              0.7777777777777778,
              "#fb9f3a"
             ],
             [
              0.8888888888888888,
              "#fdca26"
             ],
             [
              1,
              "#f0f921"
             ]
            ],
            "type": "heatmap"
           }
          ],
          "heatmapgl": [
           {
            "colorbar": {
             "outlinewidth": 0,
             "ticks": ""
            },
            "colorscale": [
             [
              0,
              "#0d0887"
             ],
             [
              0.1111111111111111,
              "#46039f"
             ],
             [
              0.2222222222222222,
              "#7201a8"
             ],
             [
              0.3333333333333333,
              "#9c179e"
             ],
             [
              0.4444444444444444,
              "#bd3786"
             ],
             [
              0.5555555555555556,
              "#d8576b"
             ],
             [
              0.6666666666666666,
              "#ed7953"
             ],
             [
              0.7777777777777778,
              "#fb9f3a"
             ],
             [
              0.8888888888888888,
              "#fdca26"
             ],
             [
              1,
              "#f0f921"
             ]
            ],
            "type": "heatmapgl"
           }
          ],
          "histogram": [
           {
            "marker": {
             "pattern": {
              "fillmode": "overlay",
              "size": 10,
              "solidity": 0.2
             }
            },
            "type": "histogram"
           }
          ],
          "histogram2d": [
           {
            "colorbar": {
             "outlinewidth": 0,
             "ticks": ""
            },
            "colorscale": [
             [
              0,
              "#0d0887"
             ],
             [
              0.1111111111111111,
              "#46039f"
             ],
             [
              0.2222222222222222,
              "#7201a8"
             ],
             [
              0.3333333333333333,
              "#9c179e"
             ],
             [
              0.4444444444444444,
              "#bd3786"
             ],
             [
              0.5555555555555556,
              "#d8576b"
             ],
             [
              0.6666666666666666,
              "#ed7953"
             ],
             [
              0.7777777777777778,
              "#fb9f3a"
             ],
             [
              0.8888888888888888,
              "#fdca26"
             ],
             [
              1,
              "#f0f921"
             ]
            ],
            "type": "histogram2d"
           }
          ],
          "histogram2dcontour": [
           {
            "colorbar": {
             "outlinewidth": 0,
             "ticks": ""
            },
            "colorscale": [
             [
              0,
              "#0d0887"
             ],
             [
              0.1111111111111111,
              "#46039f"
             ],
             [
              0.2222222222222222,
              "#7201a8"
             ],
             [
              0.3333333333333333,
              "#9c179e"
             ],
             [
              0.4444444444444444,
              "#bd3786"
             ],
             [
              0.5555555555555556,
              "#d8576b"
             ],
             [
              0.6666666666666666,
              "#ed7953"
             ],
             [
              0.7777777777777778,
              "#fb9f3a"
             ],
             [
              0.8888888888888888,
              "#fdca26"
             ],
             [
              1,
              "#f0f921"
             ]
            ],
            "type": "histogram2dcontour"
           }
          ],
          "mesh3d": [
           {
            "colorbar": {
             "outlinewidth": 0,
             "ticks": ""
            },
            "type": "mesh3d"
           }
          ],
          "parcoords": [
           {
            "line": {
             "colorbar": {
              "outlinewidth": 0,
              "ticks": ""
             }
            },
            "type": "parcoords"
           }
          ],
          "pie": [
           {
            "automargin": true,
            "type": "pie"
           }
          ],
          "scatter": [
           {
            "marker": {
             "colorbar": {
              "outlinewidth": 0,
              "ticks": ""
             }
            },
            "type": "scatter"
           }
          ],
          "scatter3d": [
           {
            "line": {
             "colorbar": {
              "outlinewidth": 0,
              "ticks": ""
             }
            },
            "marker": {
             "colorbar": {
              "outlinewidth": 0,
              "ticks": ""
             }
            },
            "type": "scatter3d"
           }
          ],
          "scattercarpet": [
           {
            "marker": {
             "colorbar": {
              "outlinewidth": 0,
              "ticks": ""
             }
            },
            "type": "scattercarpet"
           }
          ],
          "scattergeo": [
           {
            "marker": {
             "colorbar": {
              "outlinewidth": 0,
              "ticks": ""
             }
            },
            "type": "scattergeo"
           }
          ],
          "scattergl": [
           {
            "marker": {
             "colorbar": {
              "outlinewidth": 0,
              "ticks": ""
             }
            },
            "type": "scattergl"
           }
          ],
          "scattermapbox": [
           {
            "marker": {
             "colorbar": {
              "outlinewidth": 0,
              "ticks": ""
             }
            },
            "type": "scattermapbox"
           }
          ],
          "scatterpolar": [
           {
            "marker": {
             "colorbar": {
              "outlinewidth": 0,
              "ticks": ""
             }
            },
            "type": "scatterpolar"
           }
          ],
          "scatterpolargl": [
           {
            "marker": {
             "colorbar": {
              "outlinewidth": 0,
              "ticks": ""
             }
            },
            "type": "scatterpolargl"
           }
          ],
          "scatterternary": [
           {
            "marker": {
             "colorbar": {
              "outlinewidth": 0,
              "ticks": ""
             }
            },
            "type": "scatterternary"
           }
          ],
          "surface": [
           {
            "colorbar": {
             "outlinewidth": 0,
             "ticks": ""
            },
            "colorscale": [
             [
              0,
              "#0d0887"
             ],
             [
              0.1111111111111111,
              "#46039f"
             ],
             [
              0.2222222222222222,
              "#7201a8"
             ],
             [
              0.3333333333333333,
              "#9c179e"
             ],
             [
              0.4444444444444444,
              "#bd3786"
             ],
             [
              0.5555555555555556,
              "#d8576b"
             ],
             [
              0.6666666666666666,
              "#ed7953"
             ],
             [
              0.7777777777777778,
              "#fb9f3a"
             ],
             [
              0.8888888888888888,
              "#fdca26"
             ],
             [
              1,
              "#f0f921"
             ]
            ],
            "type": "surface"
           }
          ],
          "table": [
           {
            "cells": {
             "fill": {
              "color": "#EBF0F8"
             },
             "line": {
              "color": "white"
             }
            },
            "header": {
             "fill": {
              "color": "#C8D4E3"
             },
             "line": {
              "color": "white"
             }
            },
            "type": "table"
           }
          ]
         },
         "layout": {
          "annotationdefaults": {
           "arrowcolor": "#2a3f5f",
           "arrowhead": 0,
           "arrowwidth": 1
          },
          "autotypenumbers": "strict",
          "coloraxis": {
           "colorbar": {
            "outlinewidth": 0,
            "ticks": ""
           }
          },
          "colorscale": {
           "diverging": [
            [
             0,
             "#8e0152"
            ],
            [
             0.1,
             "#c51b7d"
            ],
            [
             0.2,
             "#de77ae"
            ],
            [
             0.3,
             "#f1b6da"
            ],
            [
             0.4,
             "#fde0ef"
            ],
            [
             0.5,
             "#f7f7f7"
            ],
            [
             0.6,
             "#e6f5d0"
            ],
            [
             0.7,
             "#b8e186"
            ],
            [
             0.8,
             "#7fbc41"
            ],
            [
             0.9,
             "#4d9221"
            ],
            [
             1,
             "#276419"
            ]
           ],
           "sequential": [
            [
             0,
             "#0d0887"
            ],
            [
             0.1111111111111111,
             "#46039f"
            ],
            [
             0.2222222222222222,
             "#7201a8"
            ],
            [
             0.3333333333333333,
             "#9c179e"
            ],
            [
             0.4444444444444444,
             "#bd3786"
            ],
            [
             0.5555555555555556,
             "#d8576b"
            ],
            [
             0.6666666666666666,
             "#ed7953"
            ],
            [
             0.7777777777777778,
             "#fb9f3a"
            ],
            [
             0.8888888888888888,
             "#fdca26"
            ],
            [
             1,
             "#f0f921"
            ]
           ],
           "sequentialminus": [
            [
             0,
             "#0d0887"
            ],
            [
             0.1111111111111111,
             "#46039f"
            ],
            [
             0.2222222222222222,
             "#7201a8"
            ],
            [
             0.3333333333333333,
             "#9c179e"
            ],
            [
             0.4444444444444444,
             "#bd3786"
            ],
            [
             0.5555555555555556,
             "#d8576b"
            ],
            [
             0.6666666666666666,
             "#ed7953"
            ],
            [
             0.7777777777777778,
             "#fb9f3a"
            ],
            [
             0.8888888888888888,
             "#fdca26"
            ],
            [
             1,
             "#f0f921"
            ]
           ]
          },
          "colorway": [
           "#636efa",
           "#EF553B",
           "#00cc96",
           "#ab63fa",
           "#FFA15A",
           "#19d3f3",
           "#FF6692",
           "#B6E880",
           "#FF97FF",
           "#FECB52"
          ],
          "font": {
           "color": "#2a3f5f"
          },
          "geo": {
           "bgcolor": "white",
           "lakecolor": "white",
           "landcolor": "#E5ECF6",
           "showlakes": true,
           "showland": true,
           "subunitcolor": "white"
          },
          "hoverlabel": {
           "align": "left"
          },
          "hovermode": "closest",
          "mapbox": {
           "style": "light"
          },
          "paper_bgcolor": "white",
          "plot_bgcolor": "#E5ECF6",
          "polar": {
           "angularaxis": {
            "gridcolor": "white",
            "linecolor": "white",
            "ticks": ""
           },
           "bgcolor": "#E5ECF6",
           "radialaxis": {
            "gridcolor": "white",
            "linecolor": "white",
            "ticks": ""
           }
          },
          "scene": {
           "xaxis": {
            "backgroundcolor": "#E5ECF6",
            "gridcolor": "white",
            "gridwidth": 2,
            "linecolor": "white",
            "showbackground": true,
            "ticks": "",
            "zerolinecolor": "white"
           },
           "yaxis": {
            "backgroundcolor": "#E5ECF6",
            "gridcolor": "white",
            "gridwidth": 2,
            "linecolor": "white",
            "showbackground": true,
            "ticks": "",
            "zerolinecolor": "white"
           },
           "zaxis": {
            "backgroundcolor": "#E5ECF6",
            "gridcolor": "white",
            "gridwidth": 2,
            "linecolor": "white",
            "showbackground": true,
            "ticks": "",
            "zerolinecolor": "white"
           }
          },
          "shapedefaults": {
           "line": {
            "color": "#2a3f5f"
           }
          },
          "ternary": {
           "aaxis": {
            "gridcolor": "white",
            "linecolor": "white",
            "ticks": ""
           },
           "baxis": {
            "gridcolor": "white",
            "linecolor": "white",
            "ticks": ""
           },
           "bgcolor": "#E5ECF6",
           "caxis": {
            "gridcolor": "white",
            "linecolor": "white",
            "ticks": ""
           }
          },
          "title": {
           "x": 0.05
          },
          "xaxis": {
           "automargin": true,
           "gridcolor": "white",
           "linecolor": "white",
           "ticks": "",
           "title": {
            "standoff": 15
           },
           "zerolinecolor": "white",
           "zerolinewidth": 2
          },
          "yaxis": {
           "automargin": true,
           "gridcolor": "white",
           "linecolor": "white",
           "ticks": "",
           "title": {
            "standoff": 15
           },
           "zerolinecolor": "white",
           "zerolinewidth": 2
          }
         }
        },
        "xaxis": {
         "anchor": "y",
         "domain": [
          0,
          0.2888888888888889
         ],
         "title": {
          "font": {
           "size": 9
          },
          "text": "Annual Generation (MWh/yr)"
         }
        },
        "yaxis": {
         "anchor": "x",
         "domain": [
          0,
          1
         ],
         "title": {
          "font": {
           "size": 9
          },
          "text": "Number of Plants"
         }
        }
       }
      }
     },
     "metadata": {},
     "output_type": "display_data"
    }
   ],
   "source": [
    "fig = make_subplots(rows=1, cols=3, subplot_titles=(\"Planned Coal Plant Retirements\", \"Generation (MWh/yr in 2020) of Retiring Plants\", \"Forward Costs ($/MWh in 2020) of Retiring Plants\"), specs=\n",
    "        [[{}, {\"type\": \"Pie\"}, {\"type\": \"Pie\"}]]\n",
    ")\n",
    "fig.add_trace(go.Histogram(x=retTotal['PLGENACL'], name = f\"Coal Plants in 2020 - {retTotal['numPlants'].count()} Plants\", xbins=dict(size=837500), marker_color='grey'), 1, 1)\n",
    "fig.add_trace(go.Histogram(x=retTotal[retTotal['ret']>0]['PLGENACL'], name = f\"Plants Retiring by 2030 - {retTotal[retTotal['ret']>1]['numPlants'].count()} Plants\", xbins=dict(size=482500), marker_color='lightgreen'), 1, 1)\n",
    "fig.add_trace(go.Histogram(x=retTotal[retTotal['ret']==1]['PLGENACL'], name = f\"Plants Retiring by 2025 - {retTotal[retTotal['ret']==1]['numPlants'].count()} Plants\", xbins=dict(size=482500), marker_color='green'), 1, 1)\n",
    "\n",
    "vList = [retTotal[retTotal['ret']==0]['PLGENACL'].sum(), retTotal[retTotal['ret']>1]['PLGENACL'].sum(), retTotal[retTotal['ret']==1]['PLGENACL'].sum()]\n",
    "fig.add_trace(go.Pie(values = vList, marker_colors=['grey', 'lightgreen', 'green'], hole=0.4, direction ='clockwise', showlegend=False), 1, 2)\n",
    "\n",
    "vList = [retTotal[retTotal['ret']==0]['forwardCosts'].sum(), retTotal[retTotal['ret']>1]['forwardCosts'].sum(), retTotal[retTotal['ret']==1]['forwardCosts'].sum()]\n",
    "fig.add_trace(go.Pie(values = vList, marker_colors=['darkgrey', 'lightgreen', 'green'], hole=0.4, showlegend=False), 1, 3)\n",
    "\n",
    "fig['layout']['xaxis']['title']='Annual Generation (MWh/yr)'\n",
    "fig['layout']['yaxis']['title']='Number of Plants'\n",
    "fig['layout']['xaxis']['title']['font'] = dict(size=9)\n",
    "fig['layout']['yaxis']['title']['font'] = dict(size=9)\n",
    "\n",
    "fig.update_annotations(font_size=12)\n",
    "fig.update_layout(barmode='overlay', legend=dict(traceorder='reversed', yanchor=\"bottom\", y=-.3, xanchor = 'left', x=.19, orientation=\"h\"), font = dict(size=12))\n",
    "#legend=dict(yanchor=\"top\", y=0.9, xanchor=\"left\", x=0.4)\n"
   ]
  },
  {
   "cell_type": "code",
   "execution_count": 52,
   "id": "6b049248",
   "metadata": {},
   "outputs": [
    {
     "data": {
      "application/vnd.plotly.v1+json": {
       "config": {
        "plotlyServerURL": "https://plot.ly"
       },
       "data": [
        {
         "marker": {
          "color": "#FFA15A"
         },
         "name": "Newer Plants, Anti-Coal Public Sentiment",
         "orientation": "h",
         "points": false,
         "side": "positive",
         "type": "violin",
         "width": 3,
         "x": [
          3513154.1,
          3227992.9,
          4562672,
          4938684,
          5292379.8,
          7732785.26,
          3980633.7,
          4077503.6,
          3552639.6,
          1541002.3
         ],
         "xaxis": "x",
         "yaxis": "y"
        },
        {
         "marker": {
          "color": "#19D3F3"
         },
         "name": "Minimal DAC and Community Impacts",
         "orientation": "h",
         "points": false,
         "side": "positive",
         "type": "violin",
         "width": 3,
         "x": [
          1440743.7,
          2315563.7,
          3254162.7,
          60937,
          28000,
          29736,
          35512,
          26025,
          152873.74,
          146837.09,
          271763.14,
          697581.47,
          715213.63,
          841878.16,
          3203757.2
         ],
         "xaxis": "x",
         "yaxis": "y"
        },
        {
         "marker": {
          "color": "#FF6692"
         },
         "name": "High DAC & Community Impacts",
         "orientation": "h",
         "points": false,
         "side": "positive",
         "type": "violin",
         "width": 3,
         "x": [
          149882.79,
          385257.49,
          310601.35,
          751.139,
          145268.36,
          1233396.2,
          59527.332,
          5301.002,
          49230.004,
          706063.95,
          639124.15,
          143691.53,
          2267803,
          75598.315,
          102274.17,
          842319.641,
          168055.64,
          628214.38,
          674260.109,
          593563.48,
          325321.02,
          32361.715,
          495749.99,
          828307.56,
          935389.08,
          1886115,
          314886.57,
          1471896.78,
          204664.52,
          891907.81,
          1069296.2,
          842101.26,
          1601262.4,
          1392263.1,
          626612.16,
          2280598.79,
          231980.589,
          64924.767,
          178956.45,
          76169.463,
          127490.34,
          517839.61,
          32426.273,
          1560.339,
          221088.68,
          304223.88,
          1502521.75,
          37247.551,
          260973.494,
          786020.33,
          232567.574,
          541611.5,
          449523.09,
          1565952.938,
          197281.7,
          461428.26,
          51043.412,
          530191.18,
          633536.22,
          289822.1,
          952767.33,
          717177.369,
          319574.74,
          652948.06,
          25908,
          188212,
          406049.73,
          441945.88,
          474772.28,
          30888,
          532630.15,
          370465.21,
          63793.573,
          39471.262,
          43541.171,
          8048.552,
          24948,
          6621,
          290290.854,
          68739,
          72878,
          12645.85,
          6276.615,
          36295.311,
          5327.927,
          610313.17,
          321376.09,
          748237.45,
          1810013.4,
          565568.69,
          1988637.4,
          1738479.2,
          1097219.3,
          1066366.2,
          386348,
          32369.281,
          8334.646,
          27576,
          148639.95
         ],
         "xaxis": "x",
         "yaxis": "y"
        },
        {
         "marker": {
          "color": "#B6E880"
         },
         "name": "Large Env. Impacts, Pro-Coal Public Sentiment",
         "orientation": "h",
         "points": false,
         "side": "positive",
         "type": "violin",
         "width": 3,
         "x": [
          4368299.8,
          6626028.1,
          4185414.919,
          6023753.6,
          5059110,
          2272890.27,
          4703090.3,
          5183235.7,
          13008129.541,
          11266204,
          16228030,
          6993094.8,
          6210633.1,
          6627915.5,
          4912651.4,
          3835304.6,
          5233075.6,
          2962645.7,
          3590942.3,
          2679313.31,
          2365421.4,
          4002624.75,
          4281018.4,
          2384708.5,
          1068678.5,
          3020365.7,
          179997.59,
          2749888.3,
          1477642.83,
          4045913,
          4781555.3,
          6750382.634,
          12494609,
          7507417.64,
          7926040,
          8737451.6,
          9898976.425,
          9022458.8,
          7291356.7,
          10398008,
          10865536,
          3545500.2,
          6126058.4,
          4360103.3,
          6004734.777,
          2461426.7,
          4872555.939,
          3311614.1,
          2527561.6,
          2894158.2,
          1630144.8,
          6742780.1,
          1025376.3,
          4644447.524,
          6637980.9,
          5249106.4,
          2985973.7,
          4658325.8,
          4316220,
          8213150.3,
          2307368.2,
          4513139,
          6951719.7,
          7991707.84,
          10452652,
          9454308.3,
          7219247.2,
          8439307.308,
          7976364.4,
          8743319.713,
          2633174.391,
          2580328.7,
          1105331.8,
          2380212.6,
          2179217,
          1100657.9,
          1779944.7,
          2518469,
          2625834.5,
          361281.26,
          2028891.3,
          2672056,
          1423544.7,
          1648222.1,
          1810829.9,
          5656227.3,
          7473954.7,
          4720666.1,
          4686299.8,
          1728655.2,
          927824.88,
          7512258.2,
          906220.89,
          1125777.1,
          1121751.8,
          5143217.781,
          2272710.6,
          1819413.234,
          1177329.71,
          3059662.8,
          1250006.4,
          487210.64,
          190198.06,
          556155.4,
          1638212.6,
          3266095.5,
          2582192.8,
          904128.42,
          3146865.2,
          2202189.2,
          2033049.8,
          757096.67,
          3099996.2,
          3649414.4
         ],
         "xaxis": "x",
         "yaxis": "y"
        },
        {
         "marker": {
          "color": "#FF97FF"
         },
         "name": "Highest SO2 Emitters",
         "orientation": "h",
         "points": false,
         "side": "positive",
         "type": "violin",
         "width": 3,
         "x": [
          6935333.3,
          5655524.342,
          2380181.1,
          6877598.6,
          6177368.5,
          7636894.3,
          11746800,
          6672860.3,
          3942162.9,
          5435412.7,
          4211527.6,
          3293687.4,
          9806297.3,
          6672378.3,
          16476659,
          12871066.8,
          13083094
         ],
         "xaxis": "x",
         "yaxis": "y"
        },
        {
         "marker": {
          "color": "#FFA15A"
         },
         "name": "Newer Plants, Anti-Coal Public Sentiment",
         "orientation": "h",
         "points": false,
         "showlegend": false,
         "side": "positive",
         "type": "violin",
         "width": 3,
         "x": [
          7,
          9,
          6,
          8,
          16.0554016620499,
          8.5,
          26.1298844248762,
          21.0089899524061,
          27.5,
          21.7449392712551
         ],
         "xaxis": "x2",
         "yaxis": "y2"
        },
        {
         "marker": {
          "color": "#19D3F3"
         },
         "name": "Minimal DAC and Community Impacts",
         "orientation": "h",
         "points": false,
         "showlegend": false,
         "side": "positive",
         "type": "violin",
         "width": 3,
         "x": [
          36,
          37,
          33,
          30,
          30,
          55.5,
          55,
          65.5,
          47.5,
          54.66666666666674,
          30,
          17,
          12,
          10,
          8
         ],
         "xaxis": "x2",
         "yaxis": "y2"
        },
        {
         "marker": {
          "color": "#FF6692"
         },
         "name": "High DAC & Community Impacts",
         "orientation": "h",
         "points": false,
         "showlegend": false,
         "side": "positive",
         "type": "violin",
         "width": 3,
         "x": [
          55.5,
          58.5714285714286,
          50,
          35.5,
          51.3209302325581,
          23.5,
          27,
          26,
          13,
          7,
          33,
          35,
          40.75,
          23,
          39,
          44,
          46.9840150179191,
          36,
          40,
          35,
          42,
          36,
          55.9029296020988,
          48.5,
          50,
          35,
          41.2267657992565,
          51.5,
          37,
          47.9677419354839,
          46,
          45.5,
          56.3358134920635,
          35,
          52,
          61.1950286806883,
          61,
          54.9232323232323,
          58.6666666666667,
          58.891975308642,
          52.979094076655,
          59.8526645768025,
          52.3258785942492,
          47.6448598130841,
          38,
          56,
          45,
          52.1857585139319,
          51,
          61,
          49,
          49,
          48.6649449809117,
          59,
          57.1020092735703,
          59.1304347826087,
          55.0727272727273,
          40.664395229983,
          32,
          30,
          21,
          11,
          27,
          30,
          33,
          60.33333333333326,
          58.78571428571422,
          26,
          26,
          32,
          28.83333333333326,
          30,
          53,
          30,
          37.75,
          25,
          33,
          22,
          52.33333333333326,
          56.5,
          57,
          44,
          70,
          59.5,
          51.6666666666667,
          58.9152119700748,
          47.1707670043415,
          31.7900615085788,
          50.4255319148936,
          46,
          50,
          52.9230769230769,
          34,
          38,
          31,
          29,
          40,
          32,
          29
         ],
         "xaxis": "x2",
         "yaxis": "y2"
        },
        {
         "marker": {
          "color": "#B6E880"
         },
         "name": "Large Env. Impacts, Pro-Coal Public Sentiment",
         "orientation": "h",
         "points": false,
         "showlegend": false,
         "side": "positive",
         "type": "violin",
         "width": 3,
         "x": [
          63.8333333333333,
          41.8039832285115,
          41.7658536585366,
          50.8157149598867,
          51.5,
          40,
          55.25,
          42.5,
          8.51063829787234,
          7,
          33.25,
          21.6260869565217,
          20.046274214468,
          35,
          24.7696414487654,
          23.2299901992813,
          46.3690876397467,
          47.2485089463221,
          48,
          38.4365030359164,
          39.5,
          32.5,
          44.5,
          45,
          48,
          55.8903225806452,
          42,
          51.5,
          64.4117647058823,
          46.3200992555831,
          52.3544551229842,
          45.21348026653,
          46.2491767288694,
          48.5,
          35,
          38.5084436884947,
          40.0013926950896,
          48.5432886619868,
          51.5,
          46.8350610379868,
          46,
          65,
          42.4492010993618,
          48,
          44.184001501032,
          50.7692307692308,
          39.5,
          39.5,
          39,
          35.5,
          39,
          32.5,
          11,
          64,
          38.6666666666667,
          39,
          46.9634146341463,
          44.4509536784741,
          52.6890045543266,
          39.5,
          35,
          43.4344933963174,
          37.8142336789017,
          37.6666666666667,
          43.0035627994594,
          46,
          28.2403481504507,
          16.4908935076066,
          38.6629469946741,
          37.1863905325444,
          42,
          36.5,
          39,
          28.5,
          34,
          33,
          35.5,
          38,
          48.6770649895178,
          37,
          47.490760636012,
          46,
          40,
          44,
          41,
          33.4827548924208,
          49.5,
          39.3961038961039,
          51.1449711260828,
          41,
          35.9555555555556,
          21.1228338430173,
          46.4595588235294,
          51,
          40,
          46.5,
          38,
          36,
          28,
          38,
          39,
          24,
          32,
          27,
          38,
          36,
          39.5,
          15.0582793709528,
          40.9416597213954,
          15,
          36.5,
          29,
          48.7414248021108,
          65.1111111111111
         ],
         "xaxis": "x2",
         "yaxis": "y2"
        },
        {
         "marker": {
          "color": "#FF97FF"
         },
         "name": "Highest SO2 Emitters",
         "orientation": "h",
         "points": false,
         "showlegend": false,
         "side": "positive",
         "type": "violin",
         "width": 3,
         "x": [
          38.5,
          34,
          38,
          50,
          42,
          24.0673575129534,
          41,
          42.4991926803014,
          38.5,
          28,
          34.5,
          41,
          39.8632344343759,
          42.5,
          47.4604084707458,
          41,
          44.5
         ],
         "xaxis": "x2",
         "yaxis": "y2"
        },
        {
         "marker": {
          "color": "#FFA15A"
         },
         "name": "Newer Plants, Anti-Coal Public Sentiment",
         "orientation": "h",
         "points": false,
         "showlegend": false,
         "side": "positive",
         "type": "violin",
         "width": 3,
         "x": [
          28.87781279892828,
          35.99853692884556,
          31.54202349410252,
          30.77672164864343,
          28.52961591797585,
          34.28214296124639,
          27.13855596827596,
          32.04031370800105,
          37.11515503329683,
          36.51357044322227
         ],
         "xaxis": "x3",
         "yaxis": "y3"
        },
        {
         "marker": {
          "color": "#19D3F3"
         },
         "name": "Minimal DAC and Community Impacts",
         "orientation": "h",
         "points": false,
         "showlegend": false,
         "side": "positive",
         "type": "violin",
         "width": 3,
         "x": [
          27.24024653967512,
          44.34815071123089,
          26.79293347074842,
          null,
          null,
          null,
          null,
          null,
          null,
          null,
          null,
          null,
          null,
          null,
          21.5310512763465
         ],
         "xaxis": "x3",
         "yaxis": "y3"
        },
        {
         "marker": {
          "color": "#FF6692"
         },
         "name": "High DAC & Community Impacts",
         "orientation": "h",
         "points": false,
         "showlegend": false,
         "side": "positive",
         "type": "violin",
         "width": 3,
         "x": [
          null,
          34.63855631263223,
          38.21954974028614,
          null,
          95.03701960105111,
          62.92623758469734,
          46.09935300401208,
          37.96150641052709,
          42.80143970695998,
          48.78832181984009,
          119.5366941229609,
          82.3397156182977,
          92.1118558758054,
          166.4891725441887,
          139.8955320089371,
          37.61642957001135,
          68.8478961640067,
          69.14342550659204,
          47.55496757664282,
          35.37863431518285,
          62.43103634837038,
          60.63187753808307,
          42.74479946253044,
          54.33613388443941,
          45.07245636149928,
          27.88367371170884,
          53.34853025838789,
          40.60971866022889,
          45.32847811549217,
          48.58822503867616,
          41.49284524006848,
          49.02368172769818,
          37.61383300418267,
          61.1683647808416,
          48.99669398965931,
          39.19853367665187,
          55.01012747394319,
          121.596077424444,
          194.6492519335937,
          89.56147125427117,
          87.47889771053259,
          94.85603962711085,
          112.9906318901612,
          513.9275208566435,
          63.86693982470275,
          53.21076806488875,
          68.84681248329755,
          71.74197633953789,
          44.41652614827063,
          46.46696239675534,
          60.79651321874672,
          51.09434061716587,
          35.75461227592406,
          58.05957652486015,
          58.60790907262086,
          66.2859782008946,
          58.16378532856844,
          27.66878136447666,
          null,
          null,
          null,
          null,
          null,
          null,
          null,
          null,
          null,
          null,
          null,
          null,
          null,
          null,
          null,
          null,
          null,
          null,
          null,
          null,
          null,
          null,
          null,
          null,
          null,
          397.8125580203363,
          161.9068471851586,
          41.97488415930093,
          30.96846485118937,
          46.11739302711295,
          28.96721016965468,
          43.99706432697267,
          27.08821467990169,
          25.24765960058657,
          43.55450449291699,
          36.99258549230899,
          null,
          null,
          null,
          null,
          null
         ],
         "xaxis": "x3",
         "yaxis": "y3"
        },
        {
         "marker": {
          "color": "#B6E880"
         },
         "name": "Large Env. Impacts, Pro-Coal Public Sentiment",
         "orientation": "h",
         "points": false,
         "showlegend": false,
         "side": "positive",
         "type": "violin",
         "width": 3,
         "x": [
          41.4221940887211,
          34.95894877573699,
          28.35325107530451,
          47.77063168466438,
          34.89011156004939,
          56.96685367689226,
          null,
          35.25997988586202,
          26.45846789100256,
          26.44877214085489,
          29.16791611795626,
          21.10219901775509,
          41.50673409488435,
          39.75009120762478,
          22.02619757380564,
          36.61806187725021,
          55.40697876001774,
          35.98680312959274,
          45.77672273666127,
          48.71769547301668,
          34.97812960208947,
          61.34161461359248,
          47.14438681819911,
          70.37984584008743,
          62.21347198408596,
          38.75355296099717,
          64.0573986252686,
          36.80031042962078,
          56.12068778686039,
          36.5108164205981,
          45.08337522943447,
          31.50619246088777,
          32.19240411440666,
          32.34352810772269,
          null,
          33.38968846809694,
          34.79907335758241,
          32.07671092948571,
          28.58163601428612,
          38.8913805808987,
          27.34965194854932,
          35.48307661769463,
          30.12391481674996,
          40.94226052447277,
          28.96004236009545,
          46.88062600631688,
          34.57157513596474,
          36.32928996192542,
          27.99179096667748,
          36.47495914695248,
          42.67261999413228,
          32.58958931422833,
          43.3591201136489,
          41.03721677625789,
          38.69929559799512,
          26.99166989357789,
          35.66884121423095,
          27.24753037621396,
          25.89326275076839,
          24.34510182652009,
          30.4092276521151,
          36.55445095705307,
          33.40673524504054,
          29.05039917416735,
          41.39039958468649,
          30.56045186951857,
          32.70454602303808,
          24.73154550310451,
          29.01293766816209,
          26.11187671745742,
          33.01205100424453,
          31.8310434200916,
          32.14215304959185,
          22.82008967803819,
          26.27103251594481,
          36.08033863419345,
          40.84195848039801,
          26.92897792209359,
          46.70443758858576,
          33.82169829101304,
          39.09303680408497,
          46.86721182395764,
          46.14121275324291,
          29.58549169732905,
          32.97625860423117,
          34.64156850191705,
          47.91805286435581,
          46.1903487277968,
          66.98345863088947,
          27.94365859902484,
          59.99731290132213,
          37.57020388966903,
          29.47054665573386,
          27.83289592198541,
          29.78953014049829,
          34.77402360276901,
          40.38540557107057,
          31.16478740050017,
          null,
          30.47047024554609,
          30.43206050919556,
          28.45612913761902,
          39.04602097274238,
          35.04034279607156,
          27.98087719028491,
          57.85578706777944,
          48.21332791487313,
          39.77830176526733,
          56.9084902623193,
          30.60923897182601,
          44.69087115773205,
          47.33959926101113,
          30.40230594855005,
          40.19303212661201
         ],
         "xaxis": "x3",
         "yaxis": "y3"
        },
        {
         "marker": {
          "color": "#FF97FF"
         },
         "name": "Highest SO2 Emitters",
         "orientation": "h",
         "points": false,
         "showlegend": false,
         "side": "positive",
         "type": "violin",
         "width": 3,
         "x": [
          17.7686985534102,
          33.82499921093063,
          46.10447815547809,
          24.8194898749141,
          27.68233328044696,
          22.55393609248027,
          41.35741940578214,
          26.22173756145437,
          32.36688315829598,
          35.83408050946259,
          33.71634107987643,
          30.60836201420702,
          28.90083326091658,
          29.48520145168671,
          23.78183612541012,
          30.12127637919276,
          34.36934710393676
         ],
         "xaxis": "x3",
         "yaxis": "y3"
        },
        {
         "marker": {
          "color": "#FFA15A"
         },
         "name": "Newer Plants, Anti-Coal Public Sentiment",
         "orientation": "h",
         "points": false,
         "showlegend": false,
         "side": "positive",
         "type": "violin",
         "width": 3,
         "x": [
          658.1,
          2270.3,
          2324.9,
          1969,
          755.6,
          472.5,
          1884.5,
          588.5,
          2241.788,
          1967.5
         ],
         "xaxis": "x4",
         "yaxis": "y4"
        },
        {
         "marker": {
          "color": "#19D3F3"
         },
         "name": "Minimal DAC and Community Impacts",
         "orientation": "h",
         "points": false,
         "showlegend": false,
         "side": "positive",
         "type": "violin",
         "width": 3,
         "x": [
          1054.2,
          10411.7,
          764.9,
          102.7,
          54.565,
          57.947,
          63.592,
          50.715,
          11.815,
          5.809,
          3858.155,
          426.4,
          205.9,
          202.4,
          1006.3
         ],
         "xaxis": "x4",
         "yaxis": "y4"
        },
        {
         "marker": {
          "color": "#FF6692"
         },
         "name": "High DAC & Community Impacts",
         "orientation": "h",
         "points": false,
         "showlegend": false,
         "side": "positive",
         "type": "violin",
         "width": 3,
         "x": [
          225.7,
          587.9,
          645.8,
          1.312,
          46.9,
          378.5,
          39.5,
          335.5,
          50,
          69.1,
          3107,
          460.4,
          1299.7,
          44.1,
          279.2,
          1660.3,
          335.7,
          867.3,
          1103.089,
          421.5,
          111.6,
          33.3,
          1459.7,
          84.1,
          247.4,
          734.9,
          264.6,
          732.9,
          569.7,
          643.4,
          1101.1,
          638.9,
          7156.7,
          3580.4,
          228.6,
          1046.7,
          19.2,
          615.8,
          129,
          283.8,
          96.104,
          91.2,
          439.8,
          46.815,
          364.7,
          230.7,
          694.7,
          217.436,
          885.3,
          490.5,
          853.3,
          1011.2,
          586.9,
          629.6,
          749.5,
          1384.2,
          1213.583,
          491.7,
          688.839,
          1358.9,
          622.584,
          1162.336,
          3300.598,
          924.375,
          583.082,
          260.498,
          738.395,
          362.817,
          386.164,
          51.292,
          330.346,
          82.005,
          737.668,
          77.829,
          118.112,
          5.1,
          53.305,
          119.631,
          0.449,
          68.678,
          87.799,
          22.128,
          21.052,
          246.1,
          25.4,
          416.5,
          67.7,
          400.1,
          225.6,
          1804.2,
          929.5,
          5446.7,
          294.5,
          1210.8,
          6398.467,
          242.962,
          12.491,
          43.859,
          3270.29
         ],
         "xaxis": "x4",
         "yaxis": "y4"
        },
        {
         "marker": {
          "color": "#B6E880"
         },
         "name": "Large Env. Impacts, Pro-Coal Public Sentiment",
         "orientation": "h",
         "points": false,
         "showlegend": false,
         "side": "positive",
         "type": "violin",
         "width": 3,
         "x": [
          2537,
          2889.3,
          490.9,
          3085.4,
          3218.7,
          180.6,
          3963.073,
          1662.4,
          8804.7,
          9772,
          870.6,
          811.6,
          2609.9,
          4974.4,
          5634.273,
          818.9,
          2637.4,
          3680.5,
          871.15,
          759.8,
          356.7,
          6915.781,
          1873.4,
          760.1,
          232.7,
          111.6,
          171.7,
          1199.5,
          872.8,
          1474.8,
          1702.9,
          3956.3,
          3782.6,
          2758,
          3502.4,
          3712.555,
          8600.8,
          9987.698,
          13011.2,
          4381.023,
          9274.9,
          8242.9,
          4348.2,
          1900.9,
          725,
          2029.4,
          7646.1,
          8168.9,
          8114.9,
          7989.3,
          2576.6,
          2207.2,
          117.4,
          3320.2,
          902.6,
          2678.573,
          1719.8,
          2676.9,
          7008.7,
          4770.612,
          4481.1,
          1626.3,
          2721.3,
          5261,
          8792.4,
          7378.931,
          3498.527,
          3748,
          2957.1,
          912.5,
          4632.3,
          1587.9,
          2172.6,
          2372.8,
          1793.8,
          748.3,
          4662.4,
          919.5,
          1283.6,
          369.1,
          1484,
          721.5,
          709.1,
          575.843,
          536.1,
          4920.7,
          1339.8,
          1355.2,
          2008.3,
          1686.2,
          1919.1,
          6082.4,
          2927.2,
          2722,
          2286.5,
          1549.6,
          1932.2,
          2870.2,
          14517.452,
          1631.8,
          512.7,
          1564.6,
          319.9,
          1590.4,
          4265.5,
          2657,
          60.1,
          2014.7,
          1860.6,
          6313.5,
          3447.1,
          366.8,
          6532.2,
          9024.6
         ],
         "xaxis": "x4",
         "yaxis": "y4"
        },
        {
         "marker": {
          "color": "#FF97FF"
         },
         "name": "Highest SO2 Emitters",
         "orientation": "h",
         "points": false,
         "showlegend": false,
         "side": "positive",
         "type": "violin",
         "width": 3,
         "x": [
          18175.8,
          11316.1,
          11974.8,
          13702.2,
          12032.7,
          11479.6,
          13393.3,
          16729.5,
          10711.1,
          9628.088,
          14597.8,
          8183.9,
          23865.1,
          17321.4,
          39391.899,
          43582.9,
          28188.515
         ],
         "xaxis": "x4",
         "yaxis": "y4"
        },
        {
         "marker": {
          "color": "#FFA15A"
         },
         "name": "Newer Plants, Anti-Coal Public Sentiment",
         "orientation": "h",
         "points": false,
         "showlegend": false,
         "side": "positive",
         "type": "violin",
         "width": 3,
         "x": [
          28350,
          237249,
          68284,
          358470,
          189144,
          185218,
          479343,
          114520,
          1030960,
          975528
         ],
         "xaxis": "x5",
         "yaxis": "y5"
        },
        {
         "marker": {
          "color": "#19D3F3"
         },
         "name": "Minimal DAC and Community Impacts",
         "orientation": "h",
         "points": false,
         "showlegend": false,
         "side": "positive",
         "type": "violin",
         "width": 3,
         "x": [
          1,
          43,
          1,
          1,
          1,
          1,
          1,
          1,
          1,
          1,
          285,
          135836,
          129456,
          129398,
          987
         ],
         "xaxis": "x5",
         "yaxis": "y5"
        },
        {
         "marker": {
          "color": "#FF6692"
         },
         "name": "High DAC & Community Impacts",
         "orientation": "h",
         "points": false,
         "showlegend": false,
         "side": "positive",
         "type": "violin",
         "width": 3,
         "x": [
          122185,
          1252881,
          290913,
          41718,
          266255,
          42408,
          372608,
          14916,
          343520,
          101136,
          10209,
          10857,
          40979,
          108960,
          494505,
          2392,
          43378,
          49680,
          3124,
          7448,
          5882,
          438064,
          494,
          9804,
          20184,
          1728,
          209716,
          15428,
          24062,
          12630,
          31104,
          472099,
          89565,
          461616,
          291356,
          77344,
          132779,
          591033,
          13824,
          294305,
          142284,
          668835,
          1714986,
          1926765,
          252680,
          1519012,
          1754235,
          1673520,
          777404,
          422365,
          310604,
          1069926,
          627792,
          446082,
          377487,
          273280,
          1093638,
          831836,
          881708,
          89768,
          465150,
          823410,
          78883,
          899199,
          1260180,
          2060160,
          1324862,
          958208,
          868248,
          1136520,
          851800,
          349058,
          337064,
          425068,
          1209400,
          1056760,
          1960757,
          2085300,
          103478,
          1408320,
          124271,
          74700,
          149182,
          4761204,
          6537893,
          5391295,
          4104932,
          1878360,
          901005,
          1062328,
          2063490,
          3029492,
          1322208,
          2151450,
          3400056,
          3517869,
          4414793,
          4840420,
          6855156
         ],
         "xaxis": "x5",
         "yaxis": "y5"
        },
        {
         "marker": {
          "color": "#B6E880"
         },
         "name": "Large Env. Impacts, Pro-Coal Public Sentiment",
         "orientation": "h",
         "points": false,
         "showlegend": false,
         "side": "positive",
         "type": "violin",
         "width": 3,
         "x": [
          577840,
          388124,
          60993,
          89244,
          183596,
          89180,
          10736,
          17000,
          4092,
          1244,
          33831,
          2080,
          85483,
          24432,
          102780,
          107960,
          58227,
          118625,
          56856,
          51084,
          17679,
          94878,
          77088,
          85860,
          60453,
          179120,
          28224,
          35216,
          361692,
          11655,
          111348,
          62307,
          426600,
          63756,
          83572,
          45680,
          117880,
          167040,
          27352,
          193704,
          176523,
          35156,
          53240,
          43750,
          9780,
          8844,
          54990,
          48866,
          32428,
          46410,
          1,
          1,
          30,
          95544,
          9636,
          130980,
          205,
          841,
          2703,
          117,
          11628,
          1950,
          9666,
          1728,
          33,
          41895,
          62340,
          18828,
          26044,
          4352,
          0,
          7605,
          45168,
          7236,
          12508,
          1144,
          1241,
          337,
          5880,
          101916,
          2304,
          3538,
          15844,
          28920,
          304850,
          4964,
          21432,
          7881,
          5160,
          131428,
          1,
          1,
          46170,
          27210,
          156519,
          35711,
          28208,
          27820,
          1215076,
          32886,
          213246,
          34485,
          35262,
          119814,
          867566,
          4,
          147,
          152892,
          78318,
          61225,
          19754,
          176286,
          672672,
          293472
         ],
         "xaxis": "x5",
         "yaxis": "y5"
        },
        {
         "marker": {
          "color": "#FF97FF"
         },
         "name": "Highest SO2 Emitters",
         "orientation": "h",
         "points": false,
         "showlegend": false,
         "side": "positive",
         "type": "violin",
         "width": 3,
         "x": [
          480,
          1023,
          2592,
          2080,
          21528,
          1840,
          159360,
          60860,
          83538,
          32544,
          116033,
          36126,
          57096,
          19290,
          19737,
          31610,
          75915
         ],
         "xaxis": "x5",
         "yaxis": "y5"
        },
        {
         "marker": {
          "color": "#FFA15A"
         },
         "name": "Newer Plants, Anti-Coal Public Sentiment",
         "orientation": "h",
         "points": false,
         "showlegend": false,
         "side": "positive",
         "type": "violin",
         "width": 3,
         "x": [
          36.327,
          33.457,
          38.219,
          35.338,
          28.783,
          25.9,
          34.79,
          37.01,
          29.336,
          32.885
         ],
         "xaxis": "x6",
         "yaxis": "y6"
        },
        {
         "marker": {
          "color": "#19D3F3"
         },
         "name": "Minimal DAC and Community Impacts",
         "orientation": "h",
         "points": false,
         "showlegend": false,
         "side": "positive",
         "type": "violin",
         "width": 3,
         "x": [
          40.388,
          40.808,
          52.106,
          39.811,
          39.42,
          39.42,
          43.176,
          32.325,
          57.818,
          57.818,
          54.314,
          56.255,
          56.255,
          56.255,
          56.255
         ],
         "xaxis": "x6",
         "yaxis": "y6"
        },
        {
         "marker": {
          "color": "#FF6692"
         },
         "name": "High DAC & Community Impacts",
         "orientation": "h",
         "points": false,
         "showlegend": false,
         "side": "positive",
         "type": "violin",
         "width": 3,
         "x": [
          23.019,
          39.137,
          33.909,
          38.81,
          48.908,
          42.108,
          39.735,
          39.17,
          34.447,
          44.718,
          47.946,
          37.772,
          36.587,
          37.895,
          33.066,
          40.808,
          50.609,
          52.024,
          40.808,
          28.59,
          40.412,
          41.469,
          30.386,
          25.209,
          32.561,
          29.561,
          52.895,
          52.035,
          57.212,
          46.295,
          46.022,
          43.965,
          38.291,
          44.421,
          42.796,
          42.683,
          47.957,
          31.597,
          20.312,
          27.957,
          30.375,
          38.15,
          38.59,
          36.522,
          26.837,
          29.117,
          36.595,
          33.224,
          23.733,
          28.808,
          33.516,
          24.642,
          44.393,
          36.118,
          38.881,
          46.494,
          42.739,
          39.842,
          41.899,
          40.733,
          41.099,
          37.564,
          47.462,
          41.899,
          40.376,
          35.064,
          45.665,
          31.569,
          33.184,
          30.386,
          33.224,
          32.782,
          34.873,
          41.447,
          35.064,
          34.275,
          32.365,
          29.082,
          34.276,
          35.064,
          35.064,
          40.368,
          47.957,
          37.018,
          23.856,
          26.283,
          36.185,
          33.541,
          26.476,
          30.503,
          30.428,
          30.822,
          36.63,
          27.824,
          36.667,
          21.421,
          23.389,
          34,
          19.354
         ],
         "xaxis": "x6",
         "yaxis": "y6"
        },
        {
         "marker": {
          "color": "#B6E880"
         },
         "name": "Large Env. Impacts, Pro-Coal Public Sentiment",
         "orientation": "h",
         "points": false,
         "showlegend": false,
         "side": "positive",
         "type": "violin",
         "width": 3,
         "x": [
          50.745,
          32.916,
          43.397,
          37.504,
          35.338,
          45.274,
          46.295,
          38.635,
          47.487,
          33.6,
          29.217,
          36.734,
          39.875,
          42.835,
          40.716,
          36.885,
          52.024,
          49.871,
          48.92,
          50.625,
          59.302,
          55.768,
          46.504,
          44.119,
          46.406,
          25.9,
          62.135,
          41.711,
          46.543,
          47.565,
          51.033,
          41.469,
          39.453,
          49.871,
          54.314,
          45.717,
          57.557,
          51.033,
          47.895,
          53.217,
          47.923,
          58.442,
          59.32,
          57.537,
          58.856,
          58.419,
          61.567,
          57.988,
          56.465,
          56.501,
          55.247,
          60.673,
          58.757,
          62.78,
          57.336,
          60.753,
          62.867,
          59.812,
          62.373,
          57.289,
          60.429,
          63.109,
          59.404,
          61.105,
          57.818,
          60.442,
          57.677,
          53.47,
          63.109,
          60.471,
          58.653,
          58.394,
          56.326,
          47.487,
          47.093,
          55.5,
          56.438,
          44.046,
          37.519,
          39.644,
          33.899,
          39.875,
          42.548,
          45.764,
          38.718,
          54.782,
          53.758,
          53.758,
          62.614,
          56.255,
          47.739,
          39.026,
          41.023,
          35.356,
          48.679,
          42.809,
          41.915,
          40.397,
          36.667,
          39.986,
          36.185,
          40.733,
          41.899,
          39.57,
          43.647,
          38.549,
          39.026,
          42.884,
          36.91,
          49.871,
          48.318,
          46.298,
          33.802,
          45.895
         ],
         "xaxis": "x6",
         "yaxis": "y6"
        },
        {
         "marker": {
          "color": "#FF97FF"
         },
         "name": "Highest SO2 Emitters",
         "orientation": "h",
         "points": false,
         "showlegend": false,
         "side": "positive",
         "type": "violin",
         "width": 3,
         "x": [
          59.375,
          62.867,
          62.867,
          52.285,
          54.383,
          46.362,
          60.111,
          31.99,
          36.557,
          40.428,
          38.291,
          44.373,
          30.472,
          44.471,
          44.89,
          59.361,
          62.78
         ],
         "xaxis": "x6",
         "yaxis": "y6"
        }
       ],
       "layout": {
        "legend": {
         "traceorder": "reversed"
        },
        "template": {
         "data": {
          "bar": [
           {
            "error_x": {
             "color": "#2a3f5f"
            },
            "error_y": {
             "color": "#2a3f5f"
            },
            "marker": {
             "line": {
              "color": "#E5ECF6",
              "width": 0.5
             },
             "pattern": {
              "fillmode": "overlay",
              "size": 10,
              "solidity": 0.2
             }
            },
            "type": "bar"
           }
          ],
          "barpolar": [
           {
            "marker": {
             "line": {
              "color": "#E5ECF6",
              "width": 0.5
             },
             "pattern": {
              "fillmode": "overlay",
              "size": 10,
              "solidity": 0.2
             }
            },
            "type": "barpolar"
           }
          ],
          "carpet": [
           {
            "aaxis": {
             "endlinecolor": "#2a3f5f",
             "gridcolor": "white",
             "linecolor": "white",
             "minorgridcolor": "white",
             "startlinecolor": "#2a3f5f"
            },
            "baxis": {
             "endlinecolor": "#2a3f5f",
             "gridcolor": "white",
             "linecolor": "white",
             "minorgridcolor": "white",
             "startlinecolor": "#2a3f5f"
            },
            "type": "carpet"
           }
          ],
          "choropleth": [
           {
            "colorbar": {
             "outlinewidth": 0,
             "ticks": ""
            },
            "type": "choropleth"
           }
          ],
          "contour": [
           {
            "colorbar": {
             "outlinewidth": 0,
             "ticks": ""
            },
            "colorscale": [
             [
              0,
              "#0d0887"
             ],
             [
              0.1111111111111111,
              "#46039f"
             ],
             [
              0.2222222222222222,
              "#7201a8"
             ],
             [
              0.3333333333333333,
              "#9c179e"
             ],
             [
              0.4444444444444444,
              "#bd3786"
             ],
             [
              0.5555555555555556,
              "#d8576b"
             ],
             [
              0.6666666666666666,
              "#ed7953"
             ],
             [
              0.7777777777777778,
              "#fb9f3a"
             ],
             [
              0.8888888888888888,
              "#fdca26"
             ],
             [
              1,
              "#f0f921"
             ]
            ],
            "type": "contour"
           }
          ],
          "contourcarpet": [
           {
            "colorbar": {
             "outlinewidth": 0,
             "ticks": ""
            },
            "type": "contourcarpet"
           }
          ],
          "heatmap": [
           {
            "colorbar": {
             "outlinewidth": 0,
             "ticks": ""
            },
            "colorscale": [
             [
              0,
              "#0d0887"
             ],
             [
              0.1111111111111111,
              "#46039f"
             ],
             [
              0.2222222222222222,
              "#7201a8"
             ],
             [
              0.3333333333333333,
              "#9c179e"
             ],
             [
              0.4444444444444444,
              "#bd3786"
             ],
             [
              0.5555555555555556,
              "#d8576b"
             ],
             [
              0.6666666666666666,
              "#ed7953"
             ],
             [
              0.7777777777777778,
              "#fb9f3a"
             ],
             [
              0.8888888888888888,
              "#fdca26"
             ],
             [
              1,
              "#f0f921"
             ]
            ],
            "type": "heatmap"
           }
          ],
          "heatmapgl": [
           {
            "colorbar": {
             "outlinewidth": 0,
             "ticks": ""
            },
            "colorscale": [
             [
              0,
              "#0d0887"
             ],
             [
              0.1111111111111111,
              "#46039f"
             ],
             [
              0.2222222222222222,
              "#7201a8"
             ],
             [
              0.3333333333333333,
              "#9c179e"
             ],
             [
              0.4444444444444444,
              "#bd3786"
             ],
             [
              0.5555555555555556,
              "#d8576b"
             ],
             [
              0.6666666666666666,
              "#ed7953"
             ],
             [
              0.7777777777777778,
              "#fb9f3a"
             ],
             [
              0.8888888888888888,
              "#fdca26"
             ],
             [
              1,
              "#f0f921"
             ]
            ],
            "type": "heatmapgl"
           }
          ],
          "histogram": [
           {
            "marker": {
             "pattern": {
              "fillmode": "overlay",
              "size": 10,
              "solidity": 0.2
             }
            },
            "type": "histogram"
           }
          ],
          "histogram2d": [
           {
            "colorbar": {
             "outlinewidth": 0,
             "ticks": ""
            },
            "colorscale": [
             [
              0,
              "#0d0887"
             ],
             [
              0.1111111111111111,
              "#46039f"
             ],
             [
              0.2222222222222222,
              "#7201a8"
             ],
             [
              0.3333333333333333,
              "#9c179e"
             ],
             [
              0.4444444444444444,
              "#bd3786"
             ],
             [
              0.5555555555555556,
              "#d8576b"
             ],
             [
              0.6666666666666666,
              "#ed7953"
             ],
             [
              0.7777777777777778,
              "#fb9f3a"
             ],
             [
              0.8888888888888888,
              "#fdca26"
             ],
             [
              1,
              "#f0f921"
             ]
            ],
            "type": "histogram2d"
           }
          ],
          "histogram2dcontour": [
           {
            "colorbar": {
             "outlinewidth": 0,
             "ticks": ""
            },
            "colorscale": [
             [
              0,
              "#0d0887"
             ],
             [
              0.1111111111111111,
              "#46039f"
             ],
             [
              0.2222222222222222,
              "#7201a8"
             ],
             [
              0.3333333333333333,
              "#9c179e"
             ],
             [
              0.4444444444444444,
              "#bd3786"
             ],
             [
              0.5555555555555556,
              "#d8576b"
             ],
             [
              0.6666666666666666,
              "#ed7953"
             ],
             [
              0.7777777777777778,
              "#fb9f3a"
             ],
             [
              0.8888888888888888,
              "#fdca26"
             ],
             [
              1,
              "#f0f921"
             ]
            ],
            "type": "histogram2dcontour"
           }
          ],
          "mesh3d": [
           {
            "colorbar": {
             "outlinewidth": 0,
             "ticks": ""
            },
            "type": "mesh3d"
           }
          ],
          "parcoords": [
           {
            "line": {
             "colorbar": {
              "outlinewidth": 0,
              "ticks": ""
             }
            },
            "type": "parcoords"
           }
          ],
          "pie": [
           {
            "automargin": true,
            "type": "pie"
           }
          ],
          "scatter": [
           {
            "marker": {
             "colorbar": {
              "outlinewidth": 0,
              "ticks": ""
             }
            },
            "type": "scatter"
           }
          ],
          "scatter3d": [
           {
            "line": {
             "colorbar": {
              "outlinewidth": 0,
              "ticks": ""
             }
            },
            "marker": {
             "colorbar": {
              "outlinewidth": 0,
              "ticks": ""
             }
            },
            "type": "scatter3d"
           }
          ],
          "scattercarpet": [
           {
            "marker": {
             "colorbar": {
              "outlinewidth": 0,
              "ticks": ""
             }
            },
            "type": "scattercarpet"
           }
          ],
          "scattergeo": [
           {
            "marker": {
             "colorbar": {
              "outlinewidth": 0,
              "ticks": ""
             }
            },
            "type": "scattergeo"
           }
          ],
          "scattergl": [
           {
            "marker": {
             "colorbar": {
              "outlinewidth": 0,
              "ticks": ""
             }
            },
            "type": "scattergl"
           }
          ],
          "scattermapbox": [
           {
            "marker": {
             "colorbar": {
              "outlinewidth": 0,
              "ticks": ""
             }
            },
            "type": "scattermapbox"
           }
          ],
          "scatterpolar": [
           {
            "marker": {
             "colorbar": {
              "outlinewidth": 0,
              "ticks": ""
             }
            },
            "type": "scatterpolar"
           }
          ],
          "scatterpolargl": [
           {
            "marker": {
             "colorbar": {
              "outlinewidth": 0,
              "ticks": ""
             }
            },
            "type": "scatterpolargl"
           }
          ],
          "scatterternary": [
           {
            "marker": {
             "colorbar": {
              "outlinewidth": 0,
              "ticks": ""
             }
            },
            "type": "scatterternary"
           }
          ],
          "surface": [
           {
            "colorbar": {
             "outlinewidth": 0,
             "ticks": ""
            },
            "colorscale": [
             [
              0,
              "#0d0887"
             ],
             [
              0.1111111111111111,
              "#46039f"
             ],
             [
              0.2222222222222222,
              "#7201a8"
             ],
             [
              0.3333333333333333,
              "#9c179e"
             ],
             [
              0.4444444444444444,
              "#bd3786"
             ],
             [
              0.5555555555555556,
              "#d8576b"
             ],
             [
              0.6666666666666666,
              "#ed7953"
             ],
             [
              0.7777777777777778,
              "#fb9f3a"
             ],
             [
              0.8888888888888888,
              "#fdca26"
             ],
             [
              1,
              "#f0f921"
             ]
            ],
            "type": "surface"
           }
          ],
          "table": [
           {
            "cells": {
             "fill": {
              "color": "#EBF0F8"
             },
             "line": {
              "color": "white"
             }
            },
            "header": {
             "fill": {
              "color": "#C8D4E3"
             },
             "line": {
              "color": "white"
             }
            },
            "type": "table"
           }
          ]
         },
         "layout": {
          "annotationdefaults": {
           "arrowcolor": "#2a3f5f",
           "arrowhead": 0,
           "arrowwidth": 1
          },
          "autotypenumbers": "strict",
          "coloraxis": {
           "colorbar": {
            "outlinewidth": 0,
            "ticks": ""
           }
          },
          "colorscale": {
           "diverging": [
            [
             0,
             "#8e0152"
            ],
            [
             0.1,
             "#c51b7d"
            ],
            [
             0.2,
             "#de77ae"
            ],
            [
             0.3,
             "#f1b6da"
            ],
            [
             0.4,
             "#fde0ef"
            ],
            [
             0.5,
             "#f7f7f7"
            ],
            [
             0.6,
             "#e6f5d0"
            ],
            [
             0.7,
             "#b8e186"
            ],
            [
             0.8,
             "#7fbc41"
            ],
            [
             0.9,
             "#4d9221"
            ],
            [
             1,
             "#276419"
            ]
           ],
           "sequential": [
            [
             0,
             "#0d0887"
            ],
            [
             0.1111111111111111,
             "#46039f"
            ],
            [
             0.2222222222222222,
             "#7201a8"
            ],
            [
             0.3333333333333333,
             "#9c179e"
            ],
            [
             0.4444444444444444,
             "#bd3786"
            ],
            [
             0.5555555555555556,
             "#d8576b"
            ],
            [
             0.6666666666666666,
             "#ed7953"
            ],
            [
             0.7777777777777778,
             "#fb9f3a"
            ],
            [
             0.8888888888888888,
             "#fdca26"
            ],
            [
             1,
             "#f0f921"
            ]
           ],
           "sequentialminus": [
            [
             0,
             "#0d0887"
            ],
            [
             0.1111111111111111,
             "#46039f"
            ],
            [
             0.2222222222222222,
             "#7201a8"
            ],
            [
             0.3333333333333333,
             "#9c179e"
            ],
            [
             0.4444444444444444,
             "#bd3786"
            ],
            [
             0.5555555555555556,
             "#d8576b"
            ],
            [
             0.6666666666666666,
             "#ed7953"
            ],
            [
             0.7777777777777778,
             "#fb9f3a"
            ],
            [
             0.8888888888888888,
             "#fdca26"
            ],
            [
             1,
             "#f0f921"
            ]
           ]
          },
          "colorway": [
           "#636efa",
           "#EF553B",
           "#00cc96",
           "#ab63fa",
           "#FFA15A",
           "#19d3f3",
           "#FF6692",
           "#B6E880",
           "#FF97FF",
           "#FECB52"
          ],
          "font": {
           "color": "#2a3f5f"
          },
          "geo": {
           "bgcolor": "white",
           "lakecolor": "white",
           "landcolor": "#E5ECF6",
           "showlakes": true,
           "showland": true,
           "subunitcolor": "white"
          },
          "hoverlabel": {
           "align": "left"
          },
          "hovermode": "closest",
          "mapbox": {
           "style": "light"
          },
          "paper_bgcolor": "white",
          "plot_bgcolor": "#E5ECF6",
          "polar": {
           "angularaxis": {
            "gridcolor": "white",
            "linecolor": "white",
            "ticks": ""
           },
           "bgcolor": "#E5ECF6",
           "radialaxis": {
            "gridcolor": "white",
            "linecolor": "white",
            "ticks": ""
           }
          },
          "scene": {
           "xaxis": {
            "backgroundcolor": "#E5ECF6",
            "gridcolor": "white",
            "gridwidth": 2,
            "linecolor": "white",
            "showbackground": true,
            "ticks": "",
            "zerolinecolor": "white"
           },
           "yaxis": {
            "backgroundcolor": "#E5ECF6",
            "gridcolor": "white",
            "gridwidth": 2,
            "linecolor": "white",
            "showbackground": true,
            "ticks": "",
            "zerolinecolor": "white"
           },
           "zaxis": {
            "backgroundcolor": "#E5ECF6",
            "gridcolor": "white",
            "gridwidth": 2,
            "linecolor": "white",
            "showbackground": true,
            "ticks": "",
            "zerolinecolor": "white"
           }
          },
          "shapedefaults": {
           "line": {
            "color": "#2a3f5f"
           }
          },
          "ternary": {
           "aaxis": {
            "gridcolor": "white",
            "linecolor": "white",
            "ticks": ""
           },
           "baxis": {
            "gridcolor": "white",
            "linecolor": "white",
            "ticks": ""
           },
           "bgcolor": "#E5ECF6",
           "caxis": {
            "gridcolor": "white",
            "linecolor": "white",
            "ticks": ""
           }
          },
          "title": {
           "x": 0.05
          },
          "xaxis": {
           "automargin": true,
           "gridcolor": "white",
           "linecolor": "white",
           "ticks": "",
           "title": {
            "standoff": 15
           },
           "zerolinecolor": "white",
           "zerolinewidth": 2
          },
          "yaxis": {
           "automargin": true,
           "gridcolor": "white",
           "linecolor": "white",
           "ticks": "",
           "title": {
            "standoff": 15
           },
           "zerolinecolor": "white",
           "zerolinewidth": 2
          }
         }
        },
        "xaxis": {
         "anchor": "y",
         "domain": [
          0,
          0.2888888888888889
         ],
         "title": {
          "text": "Annual Generation (MWh/yr)"
         }
        },
        "xaxis2": {
         "anchor": "y2",
         "domain": [
          0.35555555555555557,
          0.6444444444444445
         ],
         "title": {
          "text": "Average Age"
         }
        },
        "xaxis3": {
         "anchor": "y3",
         "domain": [
          0.7111111111111111,
          1
         ],
         "title": {
          "text": "Forward Costs ($/MWh)"
         }
        },
        "xaxis4": {
         "anchor": "y4",
         "domain": [
          0,
          0.2888888888888889
         ],
         "title": {
          "text": "SO2 Emissions (tons/yr)"
         }
        },
        "xaxis5": {
         "anchor": "y5",
         "domain": [
          0.35555555555555557,
          0.6444444444444445
         ],
         "title": {
          "text": "Affected DAC within 3 miles"
         }
        },
        "xaxis6": {
         "anchor": "y6",
         "domain": [
          0.7111111111111111,
          1
         ],
         "title": {
          "text": "Public Support for Coal (%)"
         }
        },
        "yaxis": {
         "anchor": "x",
         "domain": [
          0.6499999999999999,
          0.9999999999999999
         ],
         "showticklabels": false,
         "visible": false
        },
        "yaxis2": {
         "anchor": "x2",
         "domain": [
          0.6499999999999999,
          0.9999999999999999
         ],
         "showticklabels": false,
         "visible": false
        },
        "yaxis3": {
         "anchor": "x3",
         "domain": [
          0.6499999999999999,
          0.9999999999999999
         ],
         "showticklabels": false,
         "visible": false
        },
        "yaxis4": {
         "anchor": "x4",
         "domain": [
          0,
          0.35
         ],
         "showticklabels": false,
         "visible": false
        },
        "yaxis5": {
         "anchor": "x5",
         "domain": [
          0,
          0.35
         ],
         "showticklabels": false,
         "visible": false
        },
        "yaxis6": {
         "anchor": "x6",
         "domain": [
          0,
          0.35
         ],
         "showticklabels": false,
         "visible": false
        }
       }
      }
     },
     "metadata": {},
     "output_type": "display_data"
    }
   ],
   "source": [
    "\n",
    "\n",
    "fig = make_subplots(\n",
    "    rows=2, cols=3,\n",
    "    vertical_spacing=0.3,\n",
    "    specs=\n",
    "        [[{}, {}, {}],\n",
    "        [{}, {}, {}]]\n",
    "    #subplot_titles=(\"\", \"\", \"\", \"Average Cluster Traits\")\n",
    ")\n",
    "\n",
    "labelsList = [\"Highest SO2 Emitters\", 'Large Env. Impacts, Pro-Coal Public Sentiment', 'High DAC & Community Impacts', 'Minimal DAC and Community Impacts', 'Newer Plants, Anti-Coal Public Sentiment', 'Un-Grouped']\n",
    "\n",
    "\n",
    "for i in reversed(range(1, 6)):\n",
    "    fig.add_trace(go.Violin(x=total[total['superCluster']==i]['PLGENACL'], name=labelsList[i-1], marker=dict(color=px.colors.qualitative.Plotly_r[i])), row=1, col=1)\n",
    "\n",
    "for i in reversed(range(1, 6)):\n",
    "    fig.add_trace(go.Violin(x=total[total['superCluster']==i]['AverageAge'], name=labelsList[i-1], marker=dict(color=px.colors.qualitative.Plotly_r[i]), showlegend=False), row=1, col=2)\n",
    "\n",
    "for i in reversed(range(1, 6)):\n",
    "    fig.add_trace(go.Violin(x=total[total['superCluster']==i]['forwardCosts'], name=labelsList[i-1], marker=dict(color=px.colors.qualitative.Plotly_r[i]), showlegend=False), row=1, col=3)\n",
    "\n",
    "for i in reversed(range(1, 6)):\n",
    "    fig.add_trace(go.Violin(x=total[total['superCluster']==i]['PLSO2AN'], name=labelsList[i-1], marker=dict(color=px.colors.qualitative.Plotly_r[i]), showlegend=False), row=2, col=1)\n",
    "\n",
    "for i in reversed(range(1, 6)):\n",
    "    fig.add_trace(go.Violin(x=total[total['superCluster']==i]['affectedDemographicIndex'], name=labelsList[i-1], marker=dict(color=px.colors.qualitative.Plotly_r[i]), showlegend=False), row=2, col=2)\n",
    "\n",
    "for i in reversed(range(1, 6)):\n",
    "    fig.add_trace(go.Violin(x=total[total['superCluster']==i]['CO2limitsOppose'], name=labelsList[i-1], marker=dict(color=px.colors.qualitative.Plotly_r[i]), showlegend=False), row=2, col=3)\n",
    "\n",
    "fig['layout']['xaxis']['title']='Annual Generation (MWh/yr)'\n",
    "fig['layout']['xaxis2']['title']='Average Age'\n",
    "fig['layout']['xaxis3']['title']='Forward Costs ($/MWh)'\n",
    "fig['layout']['xaxis4']['title']='SO2 Emissions (tons/yr)'\n",
    "fig['layout']['xaxis5']['title']='Affected DAC within 3 miles'\n",
    "fig['layout']['xaxis6']['title']='Public Support for Coal (%)'\n",
    "\n",
    "fig.update_traces(orientation='h', side='positive', width=3, points=False)\n",
    "fig.update_layout(legend_traceorder=\"reversed\")\n",
    "fig.update_yaxes(visible=False, showticklabels=False)\n",
    "\n",
    "\n"
   ]
  },
  {
   "cell_type": "code",
   "execution_count": 53,
   "id": "d0f9d85e",
   "metadata": {},
   "outputs": [
    {
     "name": "stderr",
     "output_type": "stream",
     "text": [
      "/Users/gathrid/opt/anaconda3/lib/python3.8/site-packages/pandas/core/arraylike.py:358: RuntimeWarning:\n",
      "\n",
      "divide by zero encountered in log\n",
      "\n"
     ]
    }
   ],
   "source": [
    "scaledDF = df_minMaxScaler(total2.groupby('cluster').mean(), ['PLGENACL', 'AverageAge', 'forwardCosts', 'PLSO2AN', 'affectedDemographicIndex',  'CO2limitsOppose'])\n",
    "vis_df = scaledDF[['superCluster','PLGENACL', 'AverageAge', 'forwardCosts', 'PLSO2AN', 'affectedDemographicIndex', 'CO2limitsOppose']].groupby('superCluster').mean()"
   ]
  },
  {
   "cell_type": "code",
   "execution_count": 54,
   "id": "a9107a8b",
   "metadata": {},
   "outputs": [
    {
     "data": {
      "application/vnd.plotly.v1+json": {
       "config": {
        "plotlyServerURL": "https://plot.ly"
       },
       "data": [
        {
         "fill": "toself",
         "line": {
          "color": "#FF97FF"
         },
         "name": "Highest SO2 Emitters",
         "r": [
          0.95996859138982,
          0.9045901045598901,
          0.06767017914294371,
          0.9999999999999999,
          0.7082632183134101,
          0.759960074286824
         ],
         "theta": [
          "Annual Generation",
          "Average Age",
          "Forward Costs",
          "SO2 Emissions",
          "Affected DAC within 3 miles",
          "Public Support for Coal Power"
         ],
         "type": "scatterpolar"
        },
        {
         "fill": "toself",
         "line": {
          "color": "#B6E880"
         },
         "name": "Large Env. Impacts, Pro-Coal Public Sentiment",
         "r": [
          0.9296459141909112,
          0.9301519898749437,
          0.33630138015426897,
          0.8371323858853783,
          0.769724299749662,
          0.7536058098437608
         ],
         "theta": [
          "Annual Generation",
          "Average Age",
          "Forward Costs",
          "SO2 Emissions",
          "Affected DAC within 3 miles",
          "Public Support for Coal Power"
         ],
         "type": "scatterpolar"
        },
        {
         "fill": "toself",
         "line": {
          "color": "#FF6692"
         },
         "name": "High DAC & Community Impacts",
         "r": [
          0.4306084837779003,
          0.9114115572530587,
          0.903967134240879,
          0.5394873344254593,
          0.9164388721404277,
          0.3505474188973136
         ],
         "theta": [
          "Annual Generation",
          "Average Age",
          "Forward Costs",
          "SO2 Emissions",
          "Affected DAC within 3 miles",
          "Public Support for Coal Power"
         ],
         "type": "scatterpolar"
        },
        {
         "fill": "toself",
         "line": {
          "color": "#19D3F3"
         },
         "name": "Minimal DAC and Community Impacts",
         "r": [
          0.4996309116820812,
          0.738770993524142,
          0,
          0.49729622517103633,
          0,
          0.7534456991862772
         ],
         "theta": [
          "Annual Generation",
          "Average Age",
          "Forward Costs",
          "SO2 Emissions",
          "Affected DAC within 3 miles",
          "Public Support for Coal Power"
         ],
         "type": "scatterpolar"
        },
        {
         "fill": "toself",
         "line": {
          "color": "#FFA15A"
         },
         "name": "Newer Plants, Anti-Coal Public Sentiment",
         "r": [
          0.8924340317243187,
          0,
          0.20981508232784352,
          0.7416120926124081,
          0.8698562746399501,
          0.3115530345395716
         ],
         "theta": [
          "Annual Generation",
          "Average Age",
          "Forward Costs",
          "SO2 Emissions",
          "Affected DAC within 3 miles",
          "Public Support for Coal Power"
         ],
         "type": "scatterpolar"
        },
        {
         "fill": "toself",
         "line": {
          "color": "#AB63FA"
         },
         "name": "Un-Grouped",
         "r": [
          0.5661587522247099,
          0.757011172523086,
          0.7346469613475092,
          0.5686471327295874,
          0.8672496810347647,
          0.6030694167721999
         ],
         "theta": [
          "Annual Generation",
          "Average Age",
          "Forward Costs",
          "SO2 Emissions",
          "Affected DAC within 3 miles",
          "Public Support for Coal Power"
         ],
         "type": "scatterpolar"
        }
       ],
       "layout": {
        "legend": {
         "title": {
          "text": "Cluster"
         }
        },
        "polar": {
         "radialaxis": {
          "range": [
           0,
           1
          ],
          "showticklabels": false,
          "visible": true
         }
        },
        "showlegend": true,
        "template": {
         "data": {
          "bar": [
           {
            "error_x": {
             "color": "#2a3f5f"
            },
            "error_y": {
             "color": "#2a3f5f"
            },
            "marker": {
             "line": {
              "color": "#E5ECF6",
              "width": 0.5
             },
             "pattern": {
              "fillmode": "overlay",
              "size": 10,
              "solidity": 0.2
             }
            },
            "type": "bar"
           }
          ],
          "barpolar": [
           {
            "marker": {
             "line": {
              "color": "#E5ECF6",
              "width": 0.5
             },
             "pattern": {
              "fillmode": "overlay",
              "size": 10,
              "solidity": 0.2
             }
            },
            "type": "barpolar"
           }
          ],
          "carpet": [
           {
            "aaxis": {
             "endlinecolor": "#2a3f5f",
             "gridcolor": "white",
             "linecolor": "white",
             "minorgridcolor": "white",
             "startlinecolor": "#2a3f5f"
            },
            "baxis": {
             "endlinecolor": "#2a3f5f",
             "gridcolor": "white",
             "linecolor": "white",
             "minorgridcolor": "white",
             "startlinecolor": "#2a3f5f"
            },
            "type": "carpet"
           }
          ],
          "choropleth": [
           {
            "colorbar": {
             "outlinewidth": 0,
             "ticks": ""
            },
            "type": "choropleth"
           }
          ],
          "contour": [
           {
            "colorbar": {
             "outlinewidth": 0,
             "ticks": ""
            },
            "colorscale": [
             [
              0,
              "#0d0887"
             ],
             [
              0.1111111111111111,
              "#46039f"
             ],
             [
              0.2222222222222222,
              "#7201a8"
             ],
             [
              0.3333333333333333,
              "#9c179e"
             ],
             [
              0.4444444444444444,
              "#bd3786"
             ],
             [
              0.5555555555555556,
              "#d8576b"
             ],
             [
              0.6666666666666666,
              "#ed7953"
             ],
             [
              0.7777777777777778,
              "#fb9f3a"
             ],
             [
              0.8888888888888888,
              "#fdca26"
             ],
             [
              1,
              "#f0f921"
             ]
            ],
            "type": "contour"
           }
          ],
          "contourcarpet": [
           {
            "colorbar": {
             "outlinewidth": 0,
             "ticks": ""
            },
            "type": "contourcarpet"
           }
          ],
          "heatmap": [
           {
            "colorbar": {
             "outlinewidth": 0,
             "ticks": ""
            },
            "colorscale": [
             [
              0,
              "#0d0887"
             ],
             [
              0.1111111111111111,
              "#46039f"
             ],
             [
              0.2222222222222222,
              "#7201a8"
             ],
             [
              0.3333333333333333,
              "#9c179e"
             ],
             [
              0.4444444444444444,
              "#bd3786"
             ],
             [
              0.5555555555555556,
              "#d8576b"
             ],
             [
              0.6666666666666666,
              "#ed7953"
             ],
             [
              0.7777777777777778,
              "#fb9f3a"
             ],
             [
              0.8888888888888888,
              "#fdca26"
             ],
             [
              1,
              "#f0f921"
             ]
            ],
            "type": "heatmap"
           }
          ],
          "heatmapgl": [
           {
            "colorbar": {
             "outlinewidth": 0,
             "ticks": ""
            },
            "colorscale": [
             [
              0,
              "#0d0887"
             ],
             [
              0.1111111111111111,
              "#46039f"
             ],
             [
              0.2222222222222222,
              "#7201a8"
             ],
             [
              0.3333333333333333,
              "#9c179e"
             ],
             [
              0.4444444444444444,
              "#bd3786"
             ],
             [
              0.5555555555555556,
              "#d8576b"
             ],
             [
              0.6666666666666666,
              "#ed7953"
             ],
             [
              0.7777777777777778,
              "#fb9f3a"
             ],
             [
              0.8888888888888888,
              "#fdca26"
             ],
             [
              1,
              "#f0f921"
             ]
            ],
            "type": "heatmapgl"
           }
          ],
          "histogram": [
           {
            "marker": {
             "pattern": {
              "fillmode": "overlay",
              "size": 10,
              "solidity": 0.2
             }
            },
            "type": "histogram"
           }
          ],
          "histogram2d": [
           {
            "colorbar": {
             "outlinewidth": 0,
             "ticks": ""
            },
            "colorscale": [
             [
              0,
              "#0d0887"
             ],
             [
              0.1111111111111111,
              "#46039f"
             ],
             [
              0.2222222222222222,
              "#7201a8"
             ],
             [
              0.3333333333333333,
              "#9c179e"
             ],
             [
              0.4444444444444444,
              "#bd3786"
             ],
             [
              0.5555555555555556,
              "#d8576b"
             ],
             [
              0.6666666666666666,
              "#ed7953"
             ],
             [
              0.7777777777777778,
              "#fb9f3a"
             ],
             [
              0.8888888888888888,
              "#fdca26"
             ],
             [
              1,
              "#f0f921"
             ]
            ],
            "type": "histogram2d"
           }
          ],
          "histogram2dcontour": [
           {
            "colorbar": {
             "outlinewidth": 0,
             "ticks": ""
            },
            "colorscale": [
             [
              0,
              "#0d0887"
             ],
             [
              0.1111111111111111,
              "#46039f"
             ],
             [
              0.2222222222222222,
              "#7201a8"
             ],
             [
              0.3333333333333333,
              "#9c179e"
             ],
             [
              0.4444444444444444,
              "#bd3786"
             ],
             [
              0.5555555555555556,
              "#d8576b"
             ],
             [
              0.6666666666666666,
              "#ed7953"
             ],
             [
              0.7777777777777778,
              "#fb9f3a"
             ],
             [
              0.8888888888888888,
              "#fdca26"
             ],
             [
              1,
              "#f0f921"
             ]
            ],
            "type": "histogram2dcontour"
           }
          ],
          "mesh3d": [
           {
            "colorbar": {
             "outlinewidth": 0,
             "ticks": ""
            },
            "type": "mesh3d"
           }
          ],
          "parcoords": [
           {
            "line": {
             "colorbar": {
              "outlinewidth": 0,
              "ticks": ""
             }
            },
            "type": "parcoords"
           }
          ],
          "pie": [
           {
            "automargin": true,
            "type": "pie"
           }
          ],
          "scatter": [
           {
            "marker": {
             "colorbar": {
              "outlinewidth": 0,
              "ticks": ""
             }
            },
            "type": "scatter"
           }
          ],
          "scatter3d": [
           {
            "line": {
             "colorbar": {
              "outlinewidth": 0,
              "ticks": ""
             }
            },
            "marker": {
             "colorbar": {
              "outlinewidth": 0,
              "ticks": ""
             }
            },
            "type": "scatter3d"
           }
          ],
          "scattercarpet": [
           {
            "marker": {
             "colorbar": {
              "outlinewidth": 0,
              "ticks": ""
             }
            },
            "type": "scattercarpet"
           }
          ],
          "scattergeo": [
           {
            "marker": {
             "colorbar": {
              "outlinewidth": 0,
              "ticks": ""
             }
            },
            "type": "scattergeo"
           }
          ],
          "scattergl": [
           {
            "marker": {
             "colorbar": {
              "outlinewidth": 0,
              "ticks": ""
             }
            },
            "type": "scattergl"
           }
          ],
          "scattermapbox": [
           {
            "marker": {
             "colorbar": {
              "outlinewidth": 0,
              "ticks": ""
             }
            },
            "type": "scattermapbox"
           }
          ],
          "scatterpolar": [
           {
            "marker": {
             "colorbar": {
              "outlinewidth": 0,
              "ticks": ""
             }
            },
            "type": "scatterpolar"
           }
          ],
          "scatterpolargl": [
           {
            "marker": {
             "colorbar": {
              "outlinewidth": 0,
              "ticks": ""
             }
            },
            "type": "scatterpolargl"
           }
          ],
          "scatterternary": [
           {
            "marker": {
             "colorbar": {
              "outlinewidth": 0,
              "ticks": ""
             }
            },
            "type": "scatterternary"
           }
          ],
          "surface": [
           {
            "colorbar": {
             "outlinewidth": 0,
             "ticks": ""
            },
            "colorscale": [
             [
              0,
              "#0d0887"
             ],
             [
              0.1111111111111111,
              "#46039f"
             ],
             [
              0.2222222222222222,
              "#7201a8"
             ],
             [
              0.3333333333333333,
              "#9c179e"
             ],
             [
              0.4444444444444444,
              "#bd3786"
             ],
             [
              0.5555555555555556,
              "#d8576b"
             ],
             [
              0.6666666666666666,
              "#ed7953"
             ],
             [
              0.7777777777777778,
              "#fb9f3a"
             ],
             [
              0.8888888888888888,
              "#fdca26"
             ],
             [
              1,
              "#f0f921"
             ]
            ],
            "type": "surface"
           }
          ],
          "table": [
           {
            "cells": {
             "fill": {
              "color": "#EBF0F8"
             },
             "line": {
              "color": "white"
             }
            },
            "header": {
             "fill": {
              "color": "#C8D4E3"
             },
             "line": {
              "color": "white"
             }
            },
            "type": "table"
           }
          ]
         },
         "layout": {
          "annotationdefaults": {
           "arrowcolor": "#2a3f5f",
           "arrowhead": 0,
           "arrowwidth": 1
          },
          "autotypenumbers": "strict",
          "coloraxis": {
           "colorbar": {
            "outlinewidth": 0,
            "ticks": ""
           }
          },
          "colorscale": {
           "diverging": [
            [
             0,
             "#8e0152"
            ],
            [
             0.1,
             "#c51b7d"
            ],
            [
             0.2,
             "#de77ae"
            ],
            [
             0.3,
             "#f1b6da"
            ],
            [
             0.4,
             "#fde0ef"
            ],
            [
             0.5,
             "#f7f7f7"
            ],
            [
             0.6,
             "#e6f5d0"
            ],
            [
             0.7,
             "#b8e186"
            ],
            [
             0.8,
             "#7fbc41"
            ],
            [
             0.9,
             "#4d9221"
            ],
            [
             1,
             "#276419"
            ]
           ],
           "sequential": [
            [
             0,
             "#0d0887"
            ],
            [
             0.1111111111111111,
             "#46039f"
            ],
            [
             0.2222222222222222,
             "#7201a8"
            ],
            [
             0.3333333333333333,
             "#9c179e"
            ],
            [
             0.4444444444444444,
             "#bd3786"
            ],
            [
             0.5555555555555556,
             "#d8576b"
            ],
            [
             0.6666666666666666,
             "#ed7953"
            ],
            [
             0.7777777777777778,
             "#fb9f3a"
            ],
            [
             0.8888888888888888,
             "#fdca26"
            ],
            [
             1,
             "#f0f921"
            ]
           ],
           "sequentialminus": [
            [
             0,
             "#0d0887"
            ],
            [
             0.1111111111111111,
             "#46039f"
            ],
            [
             0.2222222222222222,
             "#7201a8"
            ],
            [
             0.3333333333333333,
             "#9c179e"
            ],
            [
             0.4444444444444444,
             "#bd3786"
            ],
            [
             0.5555555555555556,
             "#d8576b"
            ],
            [
             0.6666666666666666,
             "#ed7953"
            ],
            [
             0.7777777777777778,
             "#fb9f3a"
            ],
            [
             0.8888888888888888,
             "#fdca26"
            ],
            [
             1,
             "#f0f921"
            ]
           ]
          },
          "colorway": [
           "#636efa",
           "#EF553B",
           "#00cc96",
           "#ab63fa",
           "#FFA15A",
           "#19d3f3",
           "#FF6692",
           "#B6E880",
           "#FF97FF",
           "#FECB52"
          ],
          "font": {
           "color": "#2a3f5f"
          },
          "geo": {
           "bgcolor": "white",
           "lakecolor": "white",
           "landcolor": "#E5ECF6",
           "showlakes": true,
           "showland": true,
           "subunitcolor": "white"
          },
          "hoverlabel": {
           "align": "left"
          },
          "hovermode": "closest",
          "mapbox": {
           "style": "light"
          },
          "paper_bgcolor": "white",
          "plot_bgcolor": "#E5ECF6",
          "polar": {
           "angularaxis": {
            "gridcolor": "white",
            "linecolor": "white",
            "ticks": ""
           },
           "bgcolor": "#E5ECF6",
           "radialaxis": {
            "gridcolor": "white",
            "linecolor": "white",
            "ticks": ""
           }
          },
          "scene": {
           "xaxis": {
            "backgroundcolor": "#E5ECF6",
            "gridcolor": "white",
            "gridwidth": 2,
            "linecolor": "white",
            "showbackground": true,
            "ticks": "",
            "zerolinecolor": "white"
           },
           "yaxis": {
            "backgroundcolor": "#E5ECF6",
            "gridcolor": "white",
            "gridwidth": 2,
            "linecolor": "white",
            "showbackground": true,
            "ticks": "",
            "zerolinecolor": "white"
           },
           "zaxis": {
            "backgroundcolor": "#E5ECF6",
            "gridcolor": "white",
            "gridwidth": 2,
            "linecolor": "white",
            "showbackground": true,
            "ticks": "",
            "zerolinecolor": "white"
           }
          },
          "shapedefaults": {
           "line": {
            "color": "#2a3f5f"
           }
          },
          "ternary": {
           "aaxis": {
            "gridcolor": "white",
            "linecolor": "white",
            "ticks": ""
           },
           "baxis": {
            "gridcolor": "white",
            "linecolor": "white",
            "ticks": ""
           },
           "bgcolor": "#E5ECF6",
           "caxis": {
            "gridcolor": "white",
            "linecolor": "white",
            "ticks": ""
           }
          },
          "title": {
           "x": 0.05
          },
          "xaxis": {
           "automargin": true,
           "gridcolor": "white",
           "linecolor": "white",
           "ticks": "",
           "title": {
            "standoff": 15
           },
           "zerolinecolor": "white",
           "zerolinewidth": 2
          },
          "yaxis": {
           "automargin": true,
           "gridcolor": "white",
           "linecolor": "white",
           "ticks": "",
           "title": {
            "standoff": 15
           },
           "zerolinecolor": "white",
           "zerolinewidth": 2
          }
         }
        }
       }
      }
     },
     "metadata": {},
     "output_type": "display_data"
    }
   ],
   "source": [
    "fig = go.Figure()\n",
    "\n",
    "for i in range(0, 6):\n",
    "    fig.add_trace(go.Scatterpolar(\n",
    "      r=list(vis_df.iloc[i]),\n",
    "      theta=list(['Annual Generation', 'Average Age', 'Forward Costs', 'SO2 Emissions', 'Affected DAC within 3 miles', 'Public Support for Coal Power']),\n",
    "      fill='toself', \n",
    "      line_color=px.colors.qualitative.Plotly_r[i+1],\n",
    "      name = labelsList[i]\n",
    "    ))\n",
    "\n",
    "fig.update_layout(\n",
    "  polar=dict(\n",
    "    radialaxis=dict(\n",
    "      visible=True,\n",
    "      range=[0, 1],\n",
    "      showticklabels=False\n",
    "    ),\n",
    "  ),\n",
    "  showlegend=True,\n",
    "  legend_title='Cluster'\n",
    ")\n",
    "\n",
    "fig.show()"
   ]
  },
  {
   "cell_type": "code",
   "execution_count": 55,
   "id": "026cdd98",
   "metadata": {},
   "outputs": [
    {
     "data": {
      "application/vnd.plotly.v1+json": {
       "config": {
        "plotlyServerURL": "https://plot.ly"
       },
       "data": [
        {
         "fill": "toself",
         "line": {
          "color": "#FF97FF"
         },
         "name": "Highest SO2 Emitters",
         "r": [
          0.95996859138982,
          0.9045901045598901,
          0.06767017914294371,
          0.9999999999999999,
          0.7082632183134101,
          0.759960074286824
         ],
         "subplot": "polar",
         "theta": [
          "Annual Generation",
          "Average Age",
          "Forward Costs",
          "SO2 Emissions",
          "Affected DAC within 3 miles",
          "Public Support for Coal Power"
         ],
         "type": "scatterpolar"
        },
        {
         "fill": "toself",
         "line": {
          "color": "#B6E880"
         },
         "name": "Large Env. Impacts, Pro-Coal Public Sentiment",
         "r": [
          0.9296459141909112,
          0.9301519898749437,
          0.33630138015426897,
          0.8371323858853783,
          0.769724299749662,
          0.7536058098437608
         ],
         "subplot": "polar2",
         "theta": [
          "Annual Generation",
          "Average Age",
          "Forward Costs",
          "SO2 Emissions",
          "Affected DAC within 3 miles",
          "Public Support for Coal Power"
         ],
         "type": "scatterpolar"
        },
        {
         "fill": "toself",
         "line": {
          "color": "#FF6692"
         },
         "name": "High DAC & Community Impacts",
         "r": [
          0.4306084837779003,
          0.9114115572530587,
          0.903967134240879,
          0.5394873344254593,
          0.9164388721404277,
          0.3505474188973136
         ],
         "subplot": "polar3",
         "theta": [
          "Annual Generation",
          "Average Age",
          "Forward Costs",
          "SO2 Emissions",
          "Affected DAC within 3 miles",
          "Public Support for Coal Power"
         ],
         "type": "scatterpolar"
        },
        {
         "fill": "toself",
         "line": {
          "color": "#19D3F3"
         },
         "name": "Minimal DAC and Community Impacts",
         "r": [
          0.4996309116820812,
          0.738770993524142,
          0,
          0.49729622517103633,
          0,
          0.7534456991862772
         ],
         "subplot": "polar4",
         "theta": [
          "Annual Generation",
          "Average Age",
          "Forward Costs",
          "SO2 Emissions",
          "Affected DAC within 3 miles",
          "Public Support for Coal Power"
         ],
         "type": "scatterpolar"
        },
        {
         "fill": "toself",
         "line": {
          "color": "#FFA15A"
         },
         "name": "Newer Plants, Anti-Coal Public Sentiment",
         "r": [
          0.8924340317243187,
          0,
          0.20981508232784352,
          0.7416120926124081,
          0.8698562746399501,
          0.3115530345395716
         ],
         "subplot": "polar5",
         "theta": [
          "Annual Generation",
          "Average Age",
          "Forward Costs",
          "SO2 Emissions",
          "Affected DAC within 3 miles",
          "Public Support for Coal Power"
         ],
         "type": "scatterpolar"
        },
        {
         "fill": "toself",
         "line": {
          "color": "#AB63FA"
         },
         "name": "Un-Grouped",
         "r": [
          0.5661587522247099,
          0.757011172523086,
          0.7346469613475092,
          0.5686471327295874,
          0.8672496810347647,
          0.6030694167721999
         ],
         "subplot": "polar6",
         "theta": [
          "Annual Generation",
          "Average Age",
          "Forward Costs",
          "SO2 Emissions",
          "Affected DAC within 3 miles",
          "Public Support for Coal Power"
         ],
         "type": "scatterpolar"
        }
       ],
       "layout": {
        "font": {
         "size": 9
        },
        "height": 500,
        "legend": {
         "title": {
          "text": "Cluster"
         },
         "valign": "bottom"
        },
        "polar": {
         "domain": {
          "x": [
           0,
           0.26666666666666666
          ],
          "y": [
           0.6000000000000001,
           1
          ]
         },
         "radialaxis": {
          "range": [
           0,
           1
          ],
          "showticklabels": false,
          "visible": true
         }
        },
        "polar2": {
         "domain": {
          "x": [
           0.3666666666666667,
           0.6333333333333333
          ],
          "y": [
           0.6000000000000001,
           1
          ]
         },
         "radialaxis": {
          "range": [
           0,
           1
          ],
          "showticklabels": false,
          "visible": true
         }
        },
        "polar3": {
         "domain": {
          "x": [
           0.7333333333333334,
           1
          ],
          "y": [
           0.6000000000000001,
           1
          ]
         },
         "radialaxis": {
          "range": [
           0,
           1
          ],
          "showticklabels": false,
          "visible": true
         }
        },
        "polar4": {
         "domain": {
          "x": [
           0,
           0.26666666666666666
          ],
          "y": [
           0,
           0.4
          ]
         },
         "radialaxis": {
          "range": [
           0,
           1
          ],
          "showticklabels": false,
          "visible": true
         }
        },
        "polar5": {
         "domain": {
          "x": [
           0.3666666666666667,
           0.6333333333333333
          ],
          "y": [
           0,
           0.4
          ]
         },
         "radialaxis": {
          "range": [
           0,
           1
          ],
          "showticklabels": false,
          "visible": true
         }
        },
        "polar6": {
         "domain": {
          "x": [
           0.7333333333333334,
           1
          ],
          "y": [
           0,
           0.4
          ]
         },
         "radialaxis": {
          "range": [
           0,
           1
          ],
          "showticklabels": false,
          "visible": true
         }
        },
        "showlegend": false,
        "template": {
         "data": {
          "bar": [
           {
            "error_x": {
             "color": "#2a3f5f"
            },
            "error_y": {
             "color": "#2a3f5f"
            },
            "marker": {
             "line": {
              "color": "#E5ECF6",
              "width": 0.5
             },
             "pattern": {
              "fillmode": "overlay",
              "size": 10,
              "solidity": 0.2
             }
            },
            "type": "bar"
           }
          ],
          "barpolar": [
           {
            "marker": {
             "line": {
              "color": "#E5ECF6",
              "width": 0.5
             },
             "pattern": {
              "fillmode": "overlay",
              "size": 10,
              "solidity": 0.2
             }
            },
            "type": "barpolar"
           }
          ],
          "carpet": [
           {
            "aaxis": {
             "endlinecolor": "#2a3f5f",
             "gridcolor": "white",
             "linecolor": "white",
             "minorgridcolor": "white",
             "startlinecolor": "#2a3f5f"
            },
            "baxis": {
             "endlinecolor": "#2a3f5f",
             "gridcolor": "white",
             "linecolor": "white",
             "minorgridcolor": "white",
             "startlinecolor": "#2a3f5f"
            },
            "type": "carpet"
           }
          ],
          "choropleth": [
           {
            "colorbar": {
             "outlinewidth": 0,
             "ticks": ""
            },
            "type": "choropleth"
           }
          ],
          "contour": [
           {
            "colorbar": {
             "outlinewidth": 0,
             "ticks": ""
            },
            "colorscale": [
             [
              0,
              "#0d0887"
             ],
             [
              0.1111111111111111,
              "#46039f"
             ],
             [
              0.2222222222222222,
              "#7201a8"
             ],
             [
              0.3333333333333333,
              "#9c179e"
             ],
             [
              0.4444444444444444,
              "#bd3786"
             ],
             [
              0.5555555555555556,
              "#d8576b"
             ],
             [
              0.6666666666666666,
              "#ed7953"
             ],
             [
              0.7777777777777778,
              "#fb9f3a"
             ],
             [
              0.8888888888888888,
              "#fdca26"
             ],
             [
              1,
              "#f0f921"
             ]
            ],
            "type": "contour"
           }
          ],
          "contourcarpet": [
           {
            "colorbar": {
             "outlinewidth": 0,
             "ticks": ""
            },
            "type": "contourcarpet"
           }
          ],
          "heatmap": [
           {
            "colorbar": {
             "outlinewidth": 0,
             "ticks": ""
            },
            "colorscale": [
             [
              0,
              "#0d0887"
             ],
             [
              0.1111111111111111,
              "#46039f"
             ],
             [
              0.2222222222222222,
              "#7201a8"
             ],
             [
              0.3333333333333333,
              "#9c179e"
             ],
             [
              0.4444444444444444,
              "#bd3786"
             ],
             [
              0.5555555555555556,
              "#d8576b"
             ],
             [
              0.6666666666666666,
              "#ed7953"
             ],
             [
              0.7777777777777778,
              "#fb9f3a"
             ],
             [
              0.8888888888888888,
              "#fdca26"
             ],
             [
              1,
              "#f0f921"
             ]
            ],
            "type": "heatmap"
           }
          ],
          "heatmapgl": [
           {
            "colorbar": {
             "outlinewidth": 0,
             "ticks": ""
            },
            "colorscale": [
             [
              0,
              "#0d0887"
             ],
             [
              0.1111111111111111,
              "#46039f"
             ],
             [
              0.2222222222222222,
              "#7201a8"
             ],
             [
              0.3333333333333333,
              "#9c179e"
             ],
             [
              0.4444444444444444,
              "#bd3786"
             ],
             [
              0.5555555555555556,
              "#d8576b"
             ],
             [
              0.6666666666666666,
              "#ed7953"
             ],
             [
              0.7777777777777778,
              "#fb9f3a"
             ],
             [
              0.8888888888888888,
              "#fdca26"
             ],
             [
              1,
              "#f0f921"
             ]
            ],
            "type": "heatmapgl"
           }
          ],
          "histogram": [
           {
            "marker": {
             "pattern": {
              "fillmode": "overlay",
              "size": 10,
              "solidity": 0.2
             }
            },
            "type": "histogram"
           }
          ],
          "histogram2d": [
           {
            "colorbar": {
             "outlinewidth": 0,
             "ticks": ""
            },
            "colorscale": [
             [
              0,
              "#0d0887"
             ],
             [
              0.1111111111111111,
              "#46039f"
             ],
             [
              0.2222222222222222,
              "#7201a8"
             ],
             [
              0.3333333333333333,
              "#9c179e"
             ],
             [
              0.4444444444444444,
              "#bd3786"
             ],
             [
              0.5555555555555556,
              "#d8576b"
             ],
             [
              0.6666666666666666,
              "#ed7953"
             ],
             [
              0.7777777777777778,
              "#fb9f3a"
             ],
             [
              0.8888888888888888,
              "#fdca26"
             ],
             [
              1,
              "#f0f921"
             ]
            ],
            "type": "histogram2d"
           }
          ],
          "histogram2dcontour": [
           {
            "colorbar": {
             "outlinewidth": 0,
             "ticks": ""
            },
            "colorscale": [
             [
              0,
              "#0d0887"
             ],
             [
              0.1111111111111111,
              "#46039f"
             ],
             [
              0.2222222222222222,
              "#7201a8"
             ],
             [
              0.3333333333333333,
              "#9c179e"
             ],
             [
              0.4444444444444444,
              "#bd3786"
             ],
             [
              0.5555555555555556,
              "#d8576b"
             ],
             [
              0.6666666666666666,
              "#ed7953"
             ],
             [
              0.7777777777777778,
              "#fb9f3a"
             ],
             [
              0.8888888888888888,
              "#fdca26"
             ],
             [
              1,
              "#f0f921"
             ]
            ],
            "type": "histogram2dcontour"
           }
          ],
          "mesh3d": [
           {
            "colorbar": {
             "outlinewidth": 0,
             "ticks": ""
            },
            "type": "mesh3d"
           }
          ],
          "parcoords": [
           {
            "line": {
             "colorbar": {
              "outlinewidth": 0,
              "ticks": ""
             }
            },
            "type": "parcoords"
           }
          ],
          "pie": [
           {
            "automargin": true,
            "type": "pie"
           }
          ],
          "scatter": [
           {
            "marker": {
             "colorbar": {
              "outlinewidth": 0,
              "ticks": ""
             }
            },
            "type": "scatter"
           }
          ],
          "scatter3d": [
           {
            "line": {
             "colorbar": {
              "outlinewidth": 0,
              "ticks": ""
             }
            },
            "marker": {
             "colorbar": {
              "outlinewidth": 0,
              "ticks": ""
             }
            },
            "type": "scatter3d"
           }
          ],
          "scattercarpet": [
           {
            "marker": {
             "colorbar": {
              "outlinewidth": 0,
              "ticks": ""
             }
            },
            "type": "scattercarpet"
           }
          ],
          "scattergeo": [
           {
            "marker": {
             "colorbar": {
              "outlinewidth": 0,
              "ticks": ""
             }
            },
            "type": "scattergeo"
           }
          ],
          "scattergl": [
           {
            "marker": {
             "colorbar": {
              "outlinewidth": 0,
              "ticks": ""
             }
            },
            "type": "scattergl"
           }
          ],
          "scattermapbox": [
           {
            "marker": {
             "colorbar": {
              "outlinewidth": 0,
              "ticks": ""
             }
            },
            "type": "scattermapbox"
           }
          ],
          "scatterpolar": [
           {
            "marker": {
             "colorbar": {
              "outlinewidth": 0,
              "ticks": ""
             }
            },
            "type": "scatterpolar"
           }
          ],
          "scatterpolargl": [
           {
            "marker": {
             "colorbar": {
              "outlinewidth": 0,
              "ticks": ""
             }
            },
            "type": "scatterpolargl"
           }
          ],
          "scatterternary": [
           {
            "marker": {
             "colorbar": {
              "outlinewidth": 0,
              "ticks": ""
             }
            },
            "type": "scatterternary"
           }
          ],
          "surface": [
           {
            "colorbar": {
             "outlinewidth": 0,
             "ticks": ""
            },
            "colorscale": [
             [
              0,
              "#0d0887"
             ],
             [
              0.1111111111111111,
              "#46039f"
             ],
             [
              0.2222222222222222,
              "#7201a8"
             ],
             [
              0.3333333333333333,
              "#9c179e"
             ],
             [
              0.4444444444444444,
              "#bd3786"
             ],
             [
              0.5555555555555556,
              "#d8576b"
             ],
             [
              0.6666666666666666,
              "#ed7953"
             ],
             [
              0.7777777777777778,
              "#fb9f3a"
             ],
             [
              0.8888888888888888,
              "#fdca26"
             ],
             [
              1,
              "#f0f921"
             ]
            ],
            "type": "surface"
           }
          ],
          "table": [
           {
            "cells": {
             "fill": {
              "color": "#EBF0F8"
             },
             "line": {
              "color": "white"
             }
            },
            "header": {
             "fill": {
              "color": "#C8D4E3"
             },
             "line": {
              "color": "white"
             }
            },
            "type": "table"
           }
          ]
         },
         "layout": {
          "annotationdefaults": {
           "arrowcolor": "#2a3f5f",
           "arrowhead": 0,
           "arrowwidth": 1
          },
          "autotypenumbers": "strict",
          "coloraxis": {
           "colorbar": {
            "outlinewidth": 0,
            "ticks": ""
           }
          },
          "colorscale": {
           "diverging": [
            [
             0,
             "#8e0152"
            ],
            [
             0.1,
             "#c51b7d"
            ],
            [
             0.2,
             "#de77ae"
            ],
            [
             0.3,
             "#f1b6da"
            ],
            [
             0.4,
             "#fde0ef"
            ],
            [
             0.5,
             "#f7f7f7"
            ],
            [
             0.6,
             "#e6f5d0"
            ],
            [
             0.7,
             "#b8e186"
            ],
            [
             0.8,
             "#7fbc41"
            ],
            [
             0.9,
             "#4d9221"
            ],
            [
             1,
             "#276419"
            ]
           ],
           "sequential": [
            [
             0,
             "#0d0887"
            ],
            [
             0.1111111111111111,
             "#46039f"
            ],
            [
             0.2222222222222222,
             "#7201a8"
            ],
            [
             0.3333333333333333,
             "#9c179e"
            ],
            [
             0.4444444444444444,
             "#bd3786"
            ],
            [
             0.5555555555555556,
             "#d8576b"
            ],
            [
             0.6666666666666666,
             "#ed7953"
            ],
            [
             0.7777777777777778,
             "#fb9f3a"
            ],
            [
             0.8888888888888888,
             "#fdca26"
            ],
            [
             1,
             "#f0f921"
            ]
           ],
           "sequentialminus": [
            [
             0,
             "#0d0887"
            ],
            [
             0.1111111111111111,
             "#46039f"
            ],
            [
             0.2222222222222222,
             "#7201a8"
            ],
            [
             0.3333333333333333,
             "#9c179e"
            ],
            [
             0.4444444444444444,
             "#bd3786"
            ],
            [
             0.5555555555555556,
             "#d8576b"
            ],
            [
             0.6666666666666666,
             "#ed7953"
            ],
            [
             0.7777777777777778,
             "#fb9f3a"
            ],
            [
             0.8888888888888888,
             "#fdca26"
            ],
            [
             1,
             "#f0f921"
            ]
           ]
          },
          "colorway": [
           "#636efa",
           "#EF553B",
           "#00cc96",
           "#ab63fa",
           "#FFA15A",
           "#19d3f3",
           "#FF6692",
           "#B6E880",
           "#FF97FF",
           "#FECB52"
          ],
          "font": {
           "color": "#2a3f5f"
          },
          "geo": {
           "bgcolor": "white",
           "lakecolor": "white",
           "landcolor": "#E5ECF6",
           "showlakes": true,
           "showland": true,
           "subunitcolor": "white"
          },
          "hoverlabel": {
           "align": "left"
          },
          "hovermode": "closest",
          "mapbox": {
           "style": "light"
          },
          "paper_bgcolor": "white",
          "plot_bgcolor": "#E5ECF6",
          "polar": {
           "angularaxis": {
            "gridcolor": "white",
            "linecolor": "white",
            "ticks": ""
           },
           "bgcolor": "#E5ECF6",
           "radialaxis": {
            "gridcolor": "white",
            "linecolor": "white",
            "ticks": ""
           }
          },
          "scene": {
           "xaxis": {
            "backgroundcolor": "#E5ECF6",
            "gridcolor": "white",
            "gridwidth": 2,
            "linecolor": "white",
            "showbackground": true,
            "ticks": "",
            "zerolinecolor": "white"
           },
           "yaxis": {
            "backgroundcolor": "#E5ECF6",
            "gridcolor": "white",
            "gridwidth": 2,
            "linecolor": "white",
            "showbackground": true,
            "ticks": "",
            "zerolinecolor": "white"
           },
           "zaxis": {
            "backgroundcolor": "#E5ECF6",
            "gridcolor": "white",
            "gridwidth": 2,
            "linecolor": "white",
            "showbackground": true,
            "ticks": "",
            "zerolinecolor": "white"
           }
          },
          "shapedefaults": {
           "line": {
            "color": "#2a3f5f"
           }
          },
          "ternary": {
           "aaxis": {
            "gridcolor": "white",
            "linecolor": "white",
            "ticks": ""
           },
           "baxis": {
            "gridcolor": "white",
            "linecolor": "white",
            "ticks": ""
           },
           "bgcolor": "#E5ECF6",
           "caxis": {
            "gridcolor": "white",
            "linecolor": "white",
            "ticks": ""
           }
          },
          "title": {
           "x": 0.05
          },
          "xaxis": {
           "automargin": true,
           "gridcolor": "white",
           "linecolor": "white",
           "ticks": "",
           "title": {
            "standoff": 15
           },
           "zerolinecolor": "white",
           "zerolinewidth": 2
          },
          "yaxis": {
           "automargin": true,
           "gridcolor": "white",
           "linecolor": "white",
           "ticks": "",
           "title": {
            "standoff": 15
           },
           "zerolinecolor": "white",
           "zerolinewidth": 2
          }
         }
        },
        "width": 1200
       }
      }
     },
     "metadata": {},
     "output_type": "display_data"
    }
   ],
   "source": [
    "fig = make_subplots(\n",
    "        rows=2, cols=3,\n",
    "        vertical_spacing=0.2,\n",
    "        horizontal_spacing=0.1,\n",
    "        specs=\n",
    "            [[{\"type\": \"Scatterpolar\",}, {\"type\": \"Scatterpolar\",}, {\"type\": \"Scatterpolar\",}],\n",
    "            [{\"type\": \"Scatterpolar\",}, {\"type\": \"Scatterpolar\",}, {\"type\": \"Scatterpolar\",}]],\n",
    "        #subplot_titles=(\"\", \"\", \"\", \"Average Cluster Traits\")\n",
    "    )\n",
    "\n",
    "row1=1\n",
    "col1=1\n",
    "\n",
    "for i in range(0, 6):\n",
    "    fig.add_trace(go.Scatterpolar(\n",
    "      r=list(vis_df.iloc[i]),\n",
    "      theta=list(['Annual Generation', 'Average Age', 'Forward Costs', 'SO2 Emissions', 'Affected DAC within 3 miles', 'Public Support for Coal Power']),\n",
    "      fill='toself', \n",
    "      line_color=px.colors.qualitative.Plotly_r[i+1],\n",
    "      name = labelsList[i]\n",
    "    ), row=row1, col=col1)\n",
    "    col1+=1\n",
    "    if col1==4:\n",
    "       col1=1\n",
    "    if col1==1:\n",
    "       row1=2\n",
    "\n",
    "fig.update_layout(\n",
    "  polar1=dict(\n",
    "    radialaxis=dict(\n",
    "      visible=True,\n",
    "      range=[0, 1],\n",
    "      showticklabels=False\n",
    "    ),\n",
    "  ),\n",
    "  polar2=dict(\n",
    "    radialaxis=dict(\n",
    "      visible=True,\n",
    "      range=[0, 1],\n",
    "      showticklabels=False\n",
    "    ),\n",
    "  ),\n",
    "  polar3=dict(\n",
    "    radialaxis=dict(\n",
    "      visible=True,\n",
    "      range=[0, 1],\n",
    "      showticklabels=False\n",
    "    ),\n",
    "  ),\n",
    "  polar4=dict(\n",
    "    radialaxis=dict(\n",
    "      visible=True,\n",
    "      range=[0, 1],\n",
    "      showticklabels=False\n",
    "    ),\n",
    "  ),\n",
    "  polar5=dict(\n",
    "    radialaxis=dict(\n",
    "      visible=True,\n",
    "      range=[0, 1],\n",
    "      showticklabels=False\n",
    "    ),\n",
    "  ),\n",
    "  polar6=dict(\n",
    "    radialaxis=dict(\n",
    "      visible=True,\n",
    "      range=[0, 1],\n",
    "      showticklabels=False\n",
    "    ),\n",
    "  ),\n",
    "  showlegend=True,\n",
    "  legend_title='Cluster'\n",
    ")\n",
    "fig.update_layout(width=1200, height = 500, font = dict(size=9), legend = dict(valign = 'bottom'), showlegend=False)\n",
    "fig.show()"
   ]
  },
  {
   "cell_type": "code",
   "execution_count": 56,
   "id": "e6656879",
   "metadata": {},
   "outputs": [
    {
     "data": {
      "application/vnd.plotly.v1+json": {
       "config": {
        "plotlyServerURL": "https://plot.ly"
       },
       "data": [
        {
         "name": "Highest SO2 Emitters",
         "type": "box",
         "y": [
          6935333.3,
          5655524.342,
          2380181.1,
          6877598.6,
          6177368.5,
          7636894.3,
          11746800,
          6672860.3,
          3942162.9,
          5435412.7,
          4211527.6,
          3293687.4,
          9806297.3,
          6672378.3,
          16476659,
          12871066.8,
          13083094
         ]
        },
        {
         "name": "Large Env. Impacts, Pro-Coal Public Sentiment",
         "type": "box",
         "y": [
          4368299.8,
          6626028.1,
          4185414.919,
          6023753.6,
          5059110,
          2272890.27,
          4703090.3,
          5183235.7,
          13008129.541,
          11266204,
          16228030,
          6993094.8,
          6210633.1,
          6627915.5,
          4912651.4,
          3835304.6,
          5233075.6,
          2962645.7,
          3590942.3,
          2679313.31,
          2365421.4,
          4002624.75,
          4281018.4,
          2384708.5,
          1068678.5,
          3020365.7,
          179997.59,
          2749888.3,
          1477642.83,
          4045913,
          4781555.3,
          6750382.634,
          12494609,
          7507417.64,
          7926040,
          8737451.6,
          9898976.425,
          9022458.8,
          7291356.7,
          10398008,
          10865536,
          3545500.2,
          6126058.4,
          4360103.3,
          6004734.777,
          2461426.7,
          4872555.939,
          3311614.1,
          2527561.6,
          2894158.2,
          1630144.8,
          6742780.1,
          1025376.3,
          4644447.524,
          6637980.9,
          5249106.4,
          2985973.7,
          4658325.8,
          4316220,
          8213150.3,
          2307368.2,
          4513139,
          6951719.7,
          7991707.84,
          10452652,
          9454308.3,
          7219247.2,
          8439307.308,
          7976364.4,
          8743319.713,
          2633174.391,
          2580328.7,
          1105331.8,
          2380212.6,
          2179217,
          1100657.9,
          1779944.7,
          2518469,
          2625834.5,
          361281.26,
          2028891.3,
          2672056,
          1423544.7,
          1648222.1,
          1810829.9,
          5656227.3,
          7473954.7,
          4720666.1,
          4686299.8,
          1728655.2,
          927824.88,
          7512258.2,
          906220.89,
          1125777.1,
          1121751.8,
          5143217.781,
          2272710.6,
          1819413.234,
          1177329.71,
          3059662.8,
          1250006.4,
          487210.64,
          190198.06,
          556155.4,
          1638212.6,
          3266095.5,
          2582192.8,
          904128.42,
          3146865.2,
          2202189.2,
          2033049.8,
          757096.67,
          3099996.2,
          3649414.4
         ]
        },
        {
         "name": "High DAC & Community Impacts",
         "type": "box",
         "y": [
          149882.79,
          385257.49,
          310601.35,
          751.139,
          145268.36,
          1233396.2,
          59527.332,
          5301.002,
          49230.004,
          706063.95,
          639124.15,
          143691.53,
          2267803,
          75598.315,
          102274.17,
          842319.641,
          168055.64,
          628214.38,
          674260.109,
          593563.48,
          325321.02,
          32361.715,
          495749.99,
          828307.56,
          935389.08,
          1886115,
          314886.57,
          1471896.78,
          204664.52,
          891907.81,
          1069296.2,
          842101.26,
          1601262.4,
          1392263.1,
          626612.16,
          2280598.79,
          231980.589,
          64924.767,
          178956.45,
          76169.463,
          127490.34,
          517839.61,
          32426.273,
          1560.339,
          221088.68,
          304223.88,
          1502521.75,
          37247.551,
          260973.494,
          786020.33,
          232567.574,
          541611.5,
          449523.09,
          1565952.938,
          197281.7,
          461428.26,
          51043.412,
          530191.18,
          633536.22,
          289822.1,
          952767.33,
          717177.369,
          319574.74,
          652948.06,
          25908,
          188212,
          406049.73,
          441945.88,
          474772.28,
          30888,
          532630.15,
          370465.21,
          63793.573,
          39471.262,
          43541.171,
          8048.552,
          24948,
          6621,
          290290.854,
          68739,
          72878,
          12645.85,
          6276.615,
          36295.311,
          5327.927,
          610313.17,
          321376.09,
          748237.45,
          1810013.4,
          565568.69,
          1988637.4,
          1738479.2,
          1097219.3,
          1066366.2,
          386348,
          32369.281,
          8334.646,
          27576,
          148639.95
         ]
        },
        {
         "name": "Minimal DAC and Community Impacts",
         "type": "box",
         "y": [
          1440743.7,
          2315563.7,
          3254162.7,
          60937,
          28000,
          29736,
          35512,
          26025,
          152873.74,
          146837.09,
          271763.14,
          697581.47,
          715213.63,
          841878.16,
          3203757.2
         ]
        },
        {
         "name": "Newer Plants, Anti-Coal Public Sentiment",
         "type": "box",
         "y": [
          3513154.1,
          3227992.9,
          4562672,
          4938684,
          5292379.8,
          7732785.26,
          3980633.7,
          4077503.6,
          3552639.6,
          1541002.3
         ]
        },
        {
         "name": "Un-Grouped",
         "type": "box",
         "y": [
          650300.66,
          2320634.3,
          7940196.5,
          5625204.5,
          1165146.704,
          174575.01,
          30477.607,
          2689187.21,
          68.22,
          15807.397,
          16061.295,
          44782.765,
          45774.682,
          182404,
          4993.714,
          929925.38,
          1083103,
          1623749.7
         ]
        },
        {
         "name": "Highest SO2 Emitters",
         "type": "box",
         "y": [
          38.5,
          34,
          38,
          50,
          42,
          24.0673575129534,
          41,
          42.4991926803014,
          38.5,
          28,
          34.5,
          41,
          39.8632344343759,
          42.5,
          47.4604084707458,
          41,
          44.5
         ]
        },
        {
         "name": "Large Env. Impacts, Pro-Coal Public Sentiment",
         "type": "box",
         "y": [
          63.8333333333333,
          41.8039832285115,
          41.7658536585366,
          50.8157149598867,
          51.5,
          40,
          55.25,
          42.5,
          8.51063829787234,
          7,
          33.25,
          21.6260869565217,
          20.046274214468,
          35,
          24.7696414487654,
          23.2299901992813,
          46.3690876397467,
          47.2485089463221,
          48,
          38.4365030359164,
          39.5,
          32.5,
          44.5,
          45,
          48,
          55.8903225806452,
          42,
          51.5,
          64.4117647058823,
          46.3200992555831,
          52.3544551229842,
          45.21348026653,
          46.2491767288694,
          48.5,
          35,
          38.5084436884947,
          40.0013926950896,
          48.5432886619868,
          51.5,
          46.8350610379868,
          46,
          65,
          42.4492010993618,
          48,
          44.184001501032,
          50.7692307692308,
          39.5,
          39.5,
          39,
          35.5,
          39,
          32.5,
          11,
          64,
          38.6666666666667,
          39,
          46.9634146341463,
          44.4509536784741,
          52.6890045543266,
          39.5,
          35,
          43.4344933963174,
          37.8142336789017,
          37.6666666666667,
          43.0035627994594,
          46,
          28.2403481504507,
          16.4908935076066,
          38.6629469946741,
          37.1863905325444,
          42,
          36.5,
          39,
          28.5,
          34,
          33,
          35.5,
          38,
          48.6770649895178,
          37,
          47.490760636012,
          46,
          40,
          44,
          41,
          33.4827548924208,
          49.5,
          39.3961038961039,
          51.1449711260828,
          41,
          35.9555555555556,
          21.1228338430173,
          46.4595588235294,
          51,
          40,
          46.5,
          38,
          36,
          28,
          38,
          39,
          24,
          32,
          27,
          38,
          36,
          39.5,
          15.0582793709528,
          40.9416597213954,
          15,
          36.5,
          29,
          48.7414248021108,
          65.1111111111111
         ]
        },
        {
         "name": "High DAC & Community Impacts",
         "type": "box",
         "y": [
          55.5,
          58.5714285714286,
          50,
          35.5,
          51.3209302325581,
          23.5,
          27,
          26,
          13,
          7,
          33,
          35,
          40.75,
          23,
          39,
          44,
          46.9840150179191,
          36,
          40,
          35,
          42,
          36,
          55.9029296020988,
          48.5,
          50,
          35,
          41.2267657992565,
          51.5,
          37,
          47.9677419354839,
          46,
          45.5,
          56.3358134920635,
          35,
          52,
          61.1950286806883,
          61,
          54.9232323232323,
          58.6666666666667,
          58.891975308642,
          52.979094076655,
          59.8526645768025,
          52.3258785942492,
          47.6448598130841,
          38,
          56,
          45,
          52.1857585139319,
          51,
          61,
          49,
          49,
          48.6649449809117,
          59,
          57.1020092735703,
          59.1304347826087,
          55.0727272727273,
          40.664395229983,
          32,
          30,
          21,
          11,
          27,
          30,
          33,
          60.33333333333326,
          58.78571428571422,
          26,
          26,
          32,
          28.83333333333326,
          30,
          53,
          30,
          37.75,
          25,
          33,
          22,
          52.33333333333326,
          56.5,
          57,
          44,
          70,
          59.5,
          51.6666666666667,
          58.9152119700748,
          47.1707670043415,
          31.7900615085788,
          50.4255319148936,
          46,
          50,
          52.9230769230769,
          34,
          38,
          31,
          29,
          40,
          32,
          29
         ]
        },
        {
         "name": "Minimal DAC and Community Impacts",
         "type": "box",
         "y": [
          36,
          37,
          33,
          30,
          30,
          55.5,
          55,
          65.5,
          47.5,
          54.66666666666674,
          30,
          17,
          12,
          10,
          8
         ]
        },
        {
         "name": "Newer Plants, Anti-Coal Public Sentiment",
         "type": "box",
         "y": [
          7,
          9,
          6,
          8,
          16.0554016620499,
          8.5,
          26.1298844248762,
          21.0089899524061,
          27.5,
          21.7449392712551
         ]
        },
        {
         "name": "Un-Grouped",
         "type": "box",
         "y": [
          24,
          18,
          45.8697764820214,
          33.5,
          28,
          40,
          40,
          7,
          40,
          40,
          40,
          40,
          40,
          10,
          9,
          31.5,
          48.5,
          51.7048152721056
         ]
        },
        {
         "name": "Highest SO2 Emitters",
         "type": "box",
         "y": [
          17.7686985534102,
          33.82499921093063,
          46.10447815547809,
          24.8194898749141,
          27.68233328044696,
          22.55393609248027,
          41.35741940578214,
          26.22173756145437,
          32.36688315829598,
          35.83408050946259,
          33.71634107987643,
          30.60836201420702,
          28.90083326091658,
          29.48520145168671,
          23.78183612541012,
          30.12127637919276,
          34.36934710393676
         ]
        },
        {
         "name": "Large Env. Impacts, Pro-Coal Public Sentiment",
         "type": "box",
         "y": [
          41.4221940887211,
          34.95894877573699,
          28.35325107530451,
          47.77063168466438,
          34.89011156004939,
          56.96685367689226,
          null,
          35.25997988586202,
          26.45846789100256,
          26.44877214085489,
          29.16791611795626,
          21.10219901775509,
          41.50673409488435,
          39.75009120762478,
          22.02619757380564,
          36.61806187725021,
          55.40697876001774,
          35.98680312959274,
          45.77672273666127,
          48.71769547301668,
          34.97812960208947,
          61.34161461359248,
          47.14438681819911,
          70.37984584008743,
          62.21347198408596,
          38.75355296099717,
          64.0573986252686,
          36.80031042962078,
          56.12068778686039,
          36.5108164205981,
          45.08337522943447,
          31.50619246088777,
          32.19240411440666,
          32.34352810772269,
          null,
          33.38968846809694,
          34.79907335758241,
          32.07671092948571,
          28.58163601428612,
          38.8913805808987,
          27.34965194854932,
          35.48307661769463,
          30.12391481674996,
          40.94226052447277,
          28.96004236009545,
          46.88062600631688,
          34.57157513596474,
          36.32928996192542,
          27.99179096667748,
          36.47495914695248,
          42.67261999413228,
          32.58958931422833,
          43.3591201136489,
          41.03721677625789,
          38.69929559799512,
          26.99166989357789,
          35.66884121423095,
          27.24753037621396,
          25.89326275076839,
          24.34510182652009,
          30.4092276521151,
          36.55445095705307,
          33.40673524504054,
          29.05039917416735,
          41.39039958468649,
          30.56045186951857,
          32.70454602303808,
          24.73154550310451,
          29.01293766816209,
          26.11187671745742,
          33.01205100424453,
          31.8310434200916,
          32.14215304959185,
          22.82008967803819,
          26.27103251594481,
          36.08033863419345,
          40.84195848039801,
          26.92897792209359,
          46.70443758858576,
          33.82169829101304,
          39.09303680408497,
          46.86721182395764,
          46.14121275324291,
          29.58549169732905,
          32.97625860423117,
          34.64156850191705,
          47.91805286435581,
          46.1903487277968,
          66.98345863088947,
          27.94365859902484,
          59.99731290132213,
          37.57020388966903,
          29.47054665573386,
          27.83289592198541,
          29.78953014049829,
          34.77402360276901,
          40.38540557107057,
          31.16478740050017,
          null,
          30.47047024554609,
          30.43206050919556,
          28.45612913761902,
          39.04602097274238,
          35.04034279607156,
          27.98087719028491,
          57.85578706777944,
          48.21332791487313,
          39.77830176526733,
          56.9084902623193,
          30.60923897182601,
          44.69087115773205,
          47.33959926101113,
          30.40230594855005,
          40.19303212661201
         ]
        },
        {
         "name": "High DAC & Community Impacts",
         "type": "box",
         "y": [
          null,
          34.63855631263223,
          38.21954974028614,
          null,
          95.03701960105111,
          62.92623758469734,
          46.09935300401208,
          37.96150641052709,
          42.80143970695998,
          48.78832181984009,
          119.5366941229609,
          82.3397156182977,
          92.1118558758054,
          166.4891725441887,
          139.8955320089371,
          37.61642957001135,
          68.8478961640067,
          69.14342550659204,
          47.55496757664282,
          35.37863431518285,
          62.43103634837038,
          60.63187753808307,
          42.74479946253044,
          54.33613388443941,
          45.07245636149928,
          27.88367371170884,
          53.34853025838789,
          40.60971866022889,
          45.32847811549217,
          48.58822503867616,
          41.49284524006848,
          49.02368172769818,
          37.61383300418267,
          61.1683647808416,
          48.99669398965931,
          39.19853367665187,
          55.01012747394319,
          121.596077424444,
          194.6492519335937,
          89.56147125427117,
          87.47889771053259,
          94.85603962711085,
          112.9906318901612,
          513.9275208566435,
          63.86693982470275,
          53.21076806488875,
          68.84681248329755,
          71.74197633953789,
          44.41652614827063,
          46.46696239675534,
          60.79651321874672,
          51.09434061716587,
          35.75461227592406,
          58.05957652486015,
          58.60790907262086,
          66.2859782008946,
          58.16378532856844,
          27.66878136447666,
          null,
          null,
          null,
          null,
          null,
          null,
          null,
          null,
          null,
          null,
          null,
          null,
          null,
          null,
          null,
          null,
          null,
          null,
          null,
          null,
          null,
          null,
          null,
          null,
          null,
          397.8125580203363,
          161.9068471851586,
          41.97488415930093,
          30.96846485118937,
          46.11739302711295,
          28.96721016965468,
          43.99706432697267,
          27.08821467990169,
          25.24765960058657,
          43.55450449291699,
          36.99258549230899,
          null,
          null,
          null,
          null,
          null
         ]
        },
        {
         "name": "Minimal DAC and Community Impacts",
         "type": "box",
         "y": [
          27.24024653967512,
          44.34815071123089,
          26.79293347074842,
          null,
          null,
          null,
          null,
          null,
          null,
          null,
          null,
          null,
          null,
          null,
          21.5310512763465
         ]
        },
        {
         "name": "Newer Plants, Anti-Coal Public Sentiment",
         "type": "box",
         "y": [
          28.87781279892828,
          35.99853692884556,
          31.54202349410252,
          30.77672164864343,
          28.52961591797585,
          34.28214296124639,
          27.13855596827596,
          32.04031370800105,
          37.11515503329683,
          36.51357044322227
         ]
        },
        {
         "name": "Un-Grouped",
         "type": "box",
         "y": [
          27.06907498807751,
          42.5535862376061,
          53.52386020204078,
          56.06723259367504,
          null,
          null,
          null,
          null,
          null,
          null,
          null,
          null,
          null,
          null,
          null,
          55.49917978245082,
          54.81901670659555,
          75.74671017002709
         ]
        },
        {
         "name": "Highest SO2 Emitters",
         "type": "box",
         "y": [
          480,
          1023,
          2592,
          2080,
          21528,
          1840,
          159360,
          60860,
          83538,
          32544,
          116033,
          36126,
          57096,
          19290,
          19737,
          31610,
          75915
         ]
        },
        {
         "name": "Large Env. Impacts, Pro-Coal Public Sentiment",
         "type": "box",
         "y": [
          577840,
          388124,
          60993,
          89244,
          183596,
          89180,
          10736,
          17000,
          4092,
          1244,
          33831,
          2080,
          85483,
          24432,
          102780,
          107960,
          58227,
          118625,
          56856,
          51084,
          17679,
          94878,
          77088,
          85860,
          60453,
          179120,
          28224,
          35216,
          361692,
          11655,
          111348,
          62307,
          426600,
          63756,
          83572,
          45680,
          117880,
          167040,
          27352,
          193704,
          176523,
          35156,
          53240,
          43750,
          9780,
          8844,
          54990,
          48866,
          32428,
          46410,
          1,
          1,
          30,
          95544,
          9636,
          130980,
          205,
          841,
          2703,
          117,
          11628,
          1950,
          9666,
          1728,
          33,
          41895,
          62340,
          18828,
          26044,
          4352,
          0,
          7605,
          45168,
          7236,
          12508,
          1144,
          1241,
          337,
          5880,
          101916,
          2304,
          3538,
          15844,
          28920,
          304850,
          4964,
          21432,
          7881,
          5160,
          131428,
          1,
          1,
          46170,
          27210,
          156519,
          35711,
          28208,
          27820,
          1215076,
          32886,
          213246,
          34485,
          35262,
          119814,
          867566,
          4,
          147,
          152892,
          78318,
          61225,
          19754,
          176286,
          672672,
          293472
         ]
        },
        {
         "name": "High DAC & Community Impacts",
         "type": "box",
         "y": [
          122185,
          1252881,
          290913,
          41718,
          266255,
          42408,
          372608,
          14916,
          343520,
          101136,
          10209,
          10857,
          40979,
          108960,
          494505,
          2392,
          43378,
          49680,
          3124,
          7448,
          5882,
          438064,
          494,
          9804,
          20184,
          1728,
          209716,
          15428,
          24062,
          12630,
          31104,
          472099,
          89565,
          461616,
          291356,
          77344,
          132779,
          591033,
          13824,
          294305,
          142284,
          668835,
          1714986,
          1926765,
          252680,
          1519012,
          1754235,
          1673520,
          777404,
          422365,
          310604,
          1069926,
          627792,
          446082,
          377487,
          273280,
          1093638,
          831836,
          881708,
          89768,
          465150,
          823410,
          78883,
          899199,
          1260180,
          2060160,
          1324862,
          958208,
          868248,
          1136520,
          851800,
          349058,
          337064,
          425068,
          1209400,
          1056760,
          1960757,
          2085300,
          103478,
          1408320,
          124271,
          74700,
          149182,
          4761204,
          6537893,
          5391295,
          4104932,
          1878360,
          901005,
          1062328,
          2063490,
          3029492,
          1322208,
          2151450,
          3400056,
          3517869,
          4414793,
          4840420,
          6855156
         ]
        },
        {
         "name": "Minimal DAC and Community Impacts",
         "type": "box",
         "y": [
          1,
          43,
          1,
          1,
          1,
          1,
          1,
          1,
          1,
          1,
          285,
          135836,
          129456,
          129398,
          987
         ]
        },
        {
         "name": "Newer Plants, Anti-Coal Public Sentiment",
         "type": "box",
         "y": [
          28350,
          237249,
          68284,
          358470,
          189144,
          185218,
          479343,
          114520,
          1030960,
          975528
         ]
        },
        {
         "name": "Un-Grouped",
         "type": "box",
         "y": [
          135836,
          14256,
          202878,
          41976,
          534450,
          2247414,
          1250957,
          12880,
          1256280,
          125776,
          67730,
          701916,
          495,
          286824,
          1923100,
          710116,
          96635,
          528150
         ]
        },
        {
         "name": "Highest SO2 Emitters",
         "type": "box",
         "y": [
          18175.8,
          11316.1,
          11974.8,
          13702.2,
          12032.7,
          11479.6,
          13393.3,
          16729.5,
          10711.1,
          9628.088,
          14597.8,
          8183.9,
          23865.1,
          17321.4,
          39391.899,
          43582.9,
          28188.515
         ]
        },
        {
         "name": "Large Env. Impacts, Pro-Coal Public Sentiment",
         "type": "box",
         "y": [
          2537,
          2889.3,
          490.9,
          3085.4,
          3218.7,
          180.6,
          3963.073,
          1662.4,
          8804.7,
          9772,
          870.6,
          811.6,
          2609.9,
          4974.4,
          5634.273,
          818.9,
          2637.4,
          3680.5,
          871.15,
          759.8,
          356.7,
          6915.781,
          1873.4,
          760.1,
          232.7,
          111.6,
          171.7,
          1199.5,
          872.8,
          1474.8,
          1702.9,
          3956.3,
          3782.6,
          2758,
          3502.4,
          3712.555,
          8600.8,
          9987.698,
          13011.2,
          4381.023,
          9274.9,
          8242.9,
          4348.2,
          1900.9,
          725,
          2029.4,
          7646.1,
          8168.9,
          8114.9,
          7989.3,
          2576.6,
          2207.2,
          117.4,
          3320.2,
          902.6,
          2678.573,
          1719.8,
          2676.9,
          7008.7,
          4770.612,
          4481.1,
          1626.3,
          2721.3,
          5261,
          8792.4,
          7378.931,
          3498.527,
          3748,
          2957.1,
          912.5,
          4632.3,
          1587.9,
          2172.6,
          2372.8,
          1793.8,
          748.3,
          4662.4,
          919.5,
          1283.6,
          369.1,
          1484,
          721.5,
          709.1,
          575.843,
          536.1,
          4920.7,
          1339.8,
          1355.2,
          2008.3,
          1686.2,
          1919.1,
          6082.4,
          2927.2,
          2722,
          2286.5,
          1549.6,
          1932.2,
          2870.2,
          14517.452,
          1631.8,
          512.7,
          1564.6,
          319.9,
          1590.4,
          4265.5,
          2657,
          60.1,
          2014.7,
          1860.6,
          6313.5,
          3447.1,
          366.8,
          6532.2,
          9024.6
         ]
        },
        {
         "name": "High DAC & Community Impacts",
         "type": "box",
         "y": [
          225.7,
          587.9,
          645.8,
          1.312,
          46.9,
          378.5,
          39.5,
          335.5,
          50,
          69.1,
          3107,
          460.4,
          1299.7,
          44.1,
          279.2,
          1660.3,
          335.7,
          867.3,
          1103.089,
          421.5,
          111.6,
          33.3,
          1459.7,
          84.1,
          247.4,
          734.9,
          264.6,
          732.9,
          569.7,
          643.4,
          1101.1,
          638.9,
          7156.7,
          3580.4,
          228.6,
          1046.7,
          19.2,
          615.8,
          129,
          283.8,
          96.104,
          91.2,
          439.8,
          46.815,
          364.7,
          230.7,
          694.7,
          217.436,
          885.3,
          490.5,
          853.3,
          1011.2,
          586.9,
          629.6,
          749.5,
          1384.2,
          1213.583,
          491.7,
          688.839,
          1358.9,
          622.584,
          1162.336,
          3300.598,
          924.375,
          583.082,
          260.498,
          738.395,
          362.817,
          386.164,
          51.292,
          330.346,
          82.005,
          737.668,
          77.829,
          118.112,
          5.1,
          53.305,
          119.631,
          0.449,
          68.678,
          87.799,
          22.128,
          21.052,
          246.1,
          25.4,
          416.5,
          67.7,
          400.1,
          225.6,
          1804.2,
          929.5,
          5446.7,
          294.5,
          1210.8,
          6398.467,
          242.962,
          12.491,
          43.859,
          3270.29
         ]
        },
        {
         "name": "Minimal DAC and Community Impacts",
         "type": "box",
         "y": [
          1054.2,
          10411.7,
          764.9,
          102.7,
          54.565,
          57.947,
          63.592,
          50.715,
          11.815,
          5.809,
          3858.155,
          426.4,
          205.9,
          202.4,
          1006.3
         ]
        },
        {
         "name": "Newer Plants, Anti-Coal Public Sentiment",
         "type": "box",
         "y": [
          658.1,
          2270.3,
          2324.9,
          1969,
          755.6,
          472.5,
          1884.5,
          588.5,
          2241.788,
          1967.5
         ]
        },
        {
         "name": "Un-Grouped",
         "type": "box",
         "y": [
          316.4,
          2344.1,
          6097.8,
          529,
          3528.688,
          77.198,
          219.032,
          58.9,
          0.3,
          70.075,
          428.134,
          76.5,
          2.023,
          35.504,
          0,
          686.7,
          666.7,
          567.4
         ]
        },
        {
         "name": "Highest SO2 Emitters",
         "type": "box",
         "y": [
          59.375,
          62.867,
          62.867,
          52.285,
          54.383,
          46.362,
          60.111,
          31.99,
          36.557,
          40.428,
          38.291,
          44.373,
          30.472,
          44.471,
          44.89,
          59.361,
          62.78
         ]
        },
        {
         "name": "Large Env. Impacts, Pro-Coal Public Sentiment",
         "type": "box",
         "y": [
          50.745,
          32.916,
          43.397,
          37.504,
          35.338,
          45.274,
          46.295,
          38.635,
          47.487,
          33.6,
          29.217,
          36.734,
          39.875,
          42.835,
          40.716,
          36.885,
          52.024,
          49.871,
          48.92,
          50.625,
          59.302,
          55.768,
          46.504,
          44.119,
          46.406,
          25.9,
          62.135,
          41.711,
          46.543,
          47.565,
          51.033,
          41.469,
          39.453,
          49.871,
          54.314,
          45.717,
          57.557,
          51.033,
          47.895,
          53.217,
          47.923,
          58.442,
          59.32,
          57.537,
          58.856,
          58.419,
          61.567,
          57.988,
          56.465,
          56.501,
          55.247,
          60.673,
          58.757,
          62.78,
          57.336,
          60.753,
          62.867,
          59.812,
          62.373,
          57.289,
          60.429,
          63.109,
          59.404,
          61.105,
          57.818,
          60.442,
          57.677,
          53.47,
          63.109,
          60.471,
          58.653,
          58.394,
          56.326,
          47.487,
          47.093,
          55.5,
          56.438,
          44.046,
          37.519,
          39.644,
          33.899,
          39.875,
          42.548,
          45.764,
          38.718,
          54.782,
          53.758,
          53.758,
          62.614,
          56.255,
          47.739,
          39.026,
          41.023,
          35.356,
          48.679,
          42.809,
          41.915,
          40.397,
          36.667,
          39.986,
          36.185,
          40.733,
          41.899,
          39.57,
          43.647,
          38.549,
          39.026,
          42.884,
          36.91,
          49.871,
          48.318,
          46.298,
          33.802,
          45.895
         ]
        },
        {
         "name": "High DAC & Community Impacts",
         "type": "box",
         "y": [
          23.019,
          39.137,
          33.909,
          38.81,
          48.908,
          42.108,
          39.735,
          39.17,
          34.447,
          44.718,
          47.946,
          37.772,
          36.587,
          37.895,
          33.066,
          40.808,
          50.609,
          52.024,
          40.808,
          28.59,
          40.412,
          41.469,
          30.386,
          25.209,
          32.561,
          29.561,
          52.895,
          52.035,
          57.212,
          46.295,
          46.022,
          43.965,
          38.291,
          44.421,
          42.796,
          42.683,
          47.957,
          31.597,
          20.312,
          27.957,
          30.375,
          38.15,
          38.59,
          36.522,
          26.837,
          29.117,
          36.595,
          33.224,
          23.733,
          28.808,
          33.516,
          24.642,
          44.393,
          36.118,
          38.881,
          46.494,
          42.739,
          39.842,
          41.899,
          40.733,
          41.099,
          37.564,
          47.462,
          41.899,
          40.376,
          35.064,
          45.665,
          31.569,
          33.184,
          30.386,
          33.224,
          32.782,
          34.873,
          41.447,
          35.064,
          34.275,
          32.365,
          29.082,
          34.276,
          35.064,
          35.064,
          40.368,
          47.957,
          37.018,
          23.856,
          26.283,
          36.185,
          33.541,
          26.476,
          30.503,
          30.428,
          30.822,
          36.63,
          27.824,
          36.667,
          21.421,
          23.389,
          34,
          19.354
         ]
        },
        {
         "name": "Minimal DAC and Community Impacts",
         "type": "box",
         "y": [
          40.388,
          40.808,
          52.106,
          39.811,
          39.42,
          39.42,
          43.176,
          32.325,
          57.818,
          57.818,
          54.314,
          56.255,
          56.255,
          56.255,
          56.255
         ]
        },
        {
         "name": "Newer Plants, Anti-Coal Public Sentiment",
         "type": "box",
         "y": [
          36.327,
          33.457,
          38.219,
          35.338,
          28.783,
          25.9,
          34.79,
          37.01,
          29.336,
          32.885
         ]
        },
        {
         "name": "Un-Grouped",
         "type": "box",
         "y": [
          56.255,
          58.062,
          53.061,
          59.673,
          17.772,
          27.654,
          27.905,
          49.373,
          31.112,
          42.198,
          33.99,
          41.899,
          42.8,
          42.111,
          38.307,
          31.597,
          27.496,
          34.82
         ]
        }
       ],
       "layout": {
        "template": {
         "data": {
          "bar": [
           {
            "error_x": {
             "color": "#2a3f5f"
            },
            "error_y": {
             "color": "#2a3f5f"
            },
            "marker": {
             "line": {
              "color": "#E5ECF6",
              "width": 0.5
             },
             "pattern": {
              "fillmode": "overlay",
              "size": 10,
              "solidity": 0.2
             }
            },
            "type": "bar"
           }
          ],
          "barpolar": [
           {
            "marker": {
             "line": {
              "color": "#E5ECF6",
              "width": 0.5
             },
             "pattern": {
              "fillmode": "overlay",
              "size": 10,
              "solidity": 0.2
             }
            },
            "type": "barpolar"
           }
          ],
          "carpet": [
           {
            "aaxis": {
             "endlinecolor": "#2a3f5f",
             "gridcolor": "white",
             "linecolor": "white",
             "minorgridcolor": "white",
             "startlinecolor": "#2a3f5f"
            },
            "baxis": {
             "endlinecolor": "#2a3f5f",
             "gridcolor": "white",
             "linecolor": "white",
             "minorgridcolor": "white",
             "startlinecolor": "#2a3f5f"
            },
            "type": "carpet"
           }
          ],
          "choropleth": [
           {
            "colorbar": {
             "outlinewidth": 0,
             "ticks": ""
            },
            "type": "choropleth"
           }
          ],
          "contour": [
           {
            "colorbar": {
             "outlinewidth": 0,
             "ticks": ""
            },
            "colorscale": [
             [
              0,
              "#0d0887"
             ],
             [
              0.1111111111111111,
              "#46039f"
             ],
             [
              0.2222222222222222,
              "#7201a8"
             ],
             [
              0.3333333333333333,
              "#9c179e"
             ],
             [
              0.4444444444444444,
              "#bd3786"
             ],
             [
              0.5555555555555556,
              "#d8576b"
             ],
             [
              0.6666666666666666,
              "#ed7953"
             ],
             [
              0.7777777777777778,
              "#fb9f3a"
             ],
             [
              0.8888888888888888,
              "#fdca26"
             ],
             [
              1,
              "#f0f921"
             ]
            ],
            "type": "contour"
           }
          ],
          "contourcarpet": [
           {
            "colorbar": {
             "outlinewidth": 0,
             "ticks": ""
            },
            "type": "contourcarpet"
           }
          ],
          "heatmap": [
           {
            "colorbar": {
             "outlinewidth": 0,
             "ticks": ""
            },
            "colorscale": [
             [
              0,
              "#0d0887"
             ],
             [
              0.1111111111111111,
              "#46039f"
             ],
             [
              0.2222222222222222,
              "#7201a8"
             ],
             [
              0.3333333333333333,
              "#9c179e"
             ],
             [
              0.4444444444444444,
              "#bd3786"
             ],
             [
              0.5555555555555556,
              "#d8576b"
             ],
             [
              0.6666666666666666,
              "#ed7953"
             ],
             [
              0.7777777777777778,
              "#fb9f3a"
             ],
             [
              0.8888888888888888,
              "#fdca26"
             ],
             [
              1,
              "#f0f921"
             ]
            ],
            "type": "heatmap"
           }
          ],
          "heatmapgl": [
           {
            "colorbar": {
             "outlinewidth": 0,
             "ticks": ""
            },
            "colorscale": [
             [
              0,
              "#0d0887"
             ],
             [
              0.1111111111111111,
              "#46039f"
             ],
             [
              0.2222222222222222,
              "#7201a8"
             ],
             [
              0.3333333333333333,
              "#9c179e"
             ],
             [
              0.4444444444444444,
              "#bd3786"
             ],
             [
              0.5555555555555556,
              "#d8576b"
             ],
             [
              0.6666666666666666,
              "#ed7953"
             ],
             [
              0.7777777777777778,
              "#fb9f3a"
             ],
             [
              0.8888888888888888,
              "#fdca26"
             ],
             [
              1,
              "#f0f921"
             ]
            ],
            "type": "heatmapgl"
           }
          ],
          "histogram": [
           {
            "marker": {
             "pattern": {
              "fillmode": "overlay",
              "size": 10,
              "solidity": 0.2
             }
            },
            "type": "histogram"
           }
          ],
          "histogram2d": [
           {
            "colorbar": {
             "outlinewidth": 0,
             "ticks": ""
            },
            "colorscale": [
             [
              0,
              "#0d0887"
             ],
             [
              0.1111111111111111,
              "#46039f"
             ],
             [
              0.2222222222222222,
              "#7201a8"
             ],
             [
              0.3333333333333333,
              "#9c179e"
             ],
             [
              0.4444444444444444,
              "#bd3786"
             ],
             [
              0.5555555555555556,
              "#d8576b"
             ],
             [
              0.6666666666666666,
              "#ed7953"
             ],
             [
              0.7777777777777778,
              "#fb9f3a"
             ],
             [
              0.8888888888888888,
              "#fdca26"
             ],
             [
              1,
              "#f0f921"
             ]
            ],
            "type": "histogram2d"
           }
          ],
          "histogram2dcontour": [
           {
            "colorbar": {
             "outlinewidth": 0,
             "ticks": ""
            },
            "colorscale": [
             [
              0,
              "#0d0887"
             ],
             [
              0.1111111111111111,
              "#46039f"
             ],
             [
              0.2222222222222222,
              "#7201a8"
             ],
             [
              0.3333333333333333,
              "#9c179e"
             ],
             [
              0.4444444444444444,
              "#bd3786"
             ],
             [
              0.5555555555555556,
              "#d8576b"
             ],
             [
              0.6666666666666666,
              "#ed7953"
             ],
             [
              0.7777777777777778,
              "#fb9f3a"
             ],
             [
              0.8888888888888888,
              "#fdca26"
             ],
             [
              1,
              "#f0f921"
             ]
            ],
            "type": "histogram2dcontour"
           }
          ],
          "mesh3d": [
           {
            "colorbar": {
             "outlinewidth": 0,
             "ticks": ""
            },
            "type": "mesh3d"
           }
          ],
          "parcoords": [
           {
            "line": {
             "colorbar": {
              "outlinewidth": 0,
              "ticks": ""
             }
            },
            "type": "parcoords"
           }
          ],
          "pie": [
           {
            "automargin": true,
            "type": "pie"
           }
          ],
          "scatter": [
           {
            "marker": {
             "colorbar": {
              "outlinewidth": 0,
              "ticks": ""
             }
            },
            "type": "scatter"
           }
          ],
          "scatter3d": [
           {
            "line": {
             "colorbar": {
              "outlinewidth": 0,
              "ticks": ""
             }
            },
            "marker": {
             "colorbar": {
              "outlinewidth": 0,
              "ticks": ""
             }
            },
            "type": "scatter3d"
           }
          ],
          "scattercarpet": [
           {
            "marker": {
             "colorbar": {
              "outlinewidth": 0,
              "ticks": ""
             }
            },
            "type": "scattercarpet"
           }
          ],
          "scattergeo": [
           {
            "marker": {
             "colorbar": {
              "outlinewidth": 0,
              "ticks": ""
             }
            },
            "type": "scattergeo"
           }
          ],
          "scattergl": [
           {
            "marker": {
             "colorbar": {
              "outlinewidth": 0,
              "ticks": ""
             }
            },
            "type": "scattergl"
           }
          ],
          "scattermapbox": [
           {
            "marker": {
             "colorbar": {
              "outlinewidth": 0,
              "ticks": ""
             }
            },
            "type": "scattermapbox"
           }
          ],
          "scatterpolar": [
           {
            "marker": {
             "colorbar": {
              "outlinewidth": 0,
              "ticks": ""
             }
            },
            "type": "scatterpolar"
           }
          ],
          "scatterpolargl": [
           {
            "marker": {
             "colorbar": {
              "outlinewidth": 0,
              "ticks": ""
             }
            },
            "type": "scatterpolargl"
           }
          ],
          "scatterternary": [
           {
            "marker": {
             "colorbar": {
              "outlinewidth": 0,
              "ticks": ""
             }
            },
            "type": "scatterternary"
           }
          ],
          "surface": [
           {
            "colorbar": {
             "outlinewidth": 0,
             "ticks": ""
            },
            "colorscale": [
             [
              0,
              "#0d0887"
             ],
             [
              0.1111111111111111,
              "#46039f"
             ],
             [
              0.2222222222222222,
              "#7201a8"
             ],
             [
              0.3333333333333333,
              "#9c179e"
             ],
             [
              0.4444444444444444,
              "#bd3786"
             ],
             [
              0.5555555555555556,
              "#d8576b"
             ],
             [
              0.6666666666666666,
              "#ed7953"
             ],
             [
              0.7777777777777778,
              "#fb9f3a"
             ],
             [
              0.8888888888888888,
              "#fdca26"
             ],
             [
              1,
              "#f0f921"
             ]
            ],
            "type": "surface"
           }
          ],
          "table": [
           {
            "cells": {
             "fill": {
              "color": "#EBF0F8"
             },
             "line": {
              "color": "white"
             }
            },
            "header": {
             "fill": {
              "color": "#C8D4E3"
             },
             "line": {
              "color": "white"
             }
            },
            "type": "table"
           }
          ]
         },
         "layout": {
          "annotationdefaults": {
           "arrowcolor": "#2a3f5f",
           "arrowhead": 0,
           "arrowwidth": 1
          },
          "autotypenumbers": "strict",
          "coloraxis": {
           "colorbar": {
            "outlinewidth": 0,
            "ticks": ""
           }
          },
          "colorscale": {
           "diverging": [
            [
             0,
             "#8e0152"
            ],
            [
             0.1,
             "#c51b7d"
            ],
            [
             0.2,
             "#de77ae"
            ],
            [
             0.3,
             "#f1b6da"
            ],
            [
             0.4,
             "#fde0ef"
            ],
            [
             0.5,
             "#f7f7f7"
            ],
            [
             0.6,
             "#e6f5d0"
            ],
            [
             0.7,
             "#b8e186"
            ],
            [
             0.8,
             "#7fbc41"
            ],
            [
             0.9,
             "#4d9221"
            ],
            [
             1,
             "#276419"
            ]
           ],
           "sequential": [
            [
             0,
             "#0d0887"
            ],
            [
             0.1111111111111111,
             "#46039f"
            ],
            [
             0.2222222222222222,
             "#7201a8"
            ],
            [
             0.3333333333333333,
             "#9c179e"
            ],
            [
             0.4444444444444444,
             "#bd3786"
            ],
            [
             0.5555555555555556,
             "#d8576b"
            ],
            [
             0.6666666666666666,
             "#ed7953"
            ],
            [
             0.7777777777777778,
             "#fb9f3a"
            ],
            [
             0.8888888888888888,
             "#fdca26"
            ],
            [
             1,
             "#f0f921"
            ]
           ],
           "sequentialminus": [
            [
             0,
             "#0d0887"
            ],
            [
             0.1111111111111111,
             "#46039f"
            ],
            [
             0.2222222222222222,
             "#7201a8"
            ],
            [
             0.3333333333333333,
             "#9c179e"
            ],
            [
             0.4444444444444444,
             "#bd3786"
            ],
            [
             0.5555555555555556,
             "#d8576b"
            ],
            [
             0.6666666666666666,
             "#ed7953"
            ],
            [
             0.7777777777777778,
             "#fb9f3a"
            ],
            [
             0.8888888888888888,
             "#fdca26"
            ],
            [
             1,
             "#f0f921"
            ]
           ]
          },
          "colorway": [
           "#636efa",
           "#EF553B",
           "#00cc96",
           "#ab63fa",
           "#FFA15A",
           "#19d3f3",
           "#FF6692",
           "#B6E880",
           "#FF97FF",
           "#FECB52"
          ],
          "font": {
           "color": "#2a3f5f"
          },
          "geo": {
           "bgcolor": "white",
           "lakecolor": "white",
           "landcolor": "#E5ECF6",
           "showlakes": true,
           "showland": true,
           "subunitcolor": "white"
          },
          "hoverlabel": {
           "align": "left"
          },
          "hovermode": "closest",
          "mapbox": {
           "style": "light"
          },
          "paper_bgcolor": "white",
          "plot_bgcolor": "#E5ECF6",
          "polar": {
           "angularaxis": {
            "gridcolor": "white",
            "linecolor": "white",
            "ticks": ""
           },
           "bgcolor": "#E5ECF6",
           "radialaxis": {
            "gridcolor": "white",
            "linecolor": "white",
            "ticks": ""
           }
          },
          "scene": {
           "xaxis": {
            "backgroundcolor": "#E5ECF6",
            "gridcolor": "white",
            "gridwidth": 2,
            "linecolor": "white",
            "showbackground": true,
            "ticks": "",
            "zerolinecolor": "white"
           },
           "yaxis": {
            "backgroundcolor": "#E5ECF6",
            "gridcolor": "white",
            "gridwidth": 2,
            "linecolor": "white",
            "showbackground": true,
            "ticks": "",
            "zerolinecolor": "white"
           },
           "zaxis": {
            "backgroundcolor": "#E5ECF6",
            "gridcolor": "white",
            "gridwidth": 2,
            "linecolor": "white",
            "showbackground": true,
            "ticks": "",
            "zerolinecolor": "white"
           }
          },
          "shapedefaults": {
           "line": {
            "color": "#2a3f5f"
           }
          },
          "ternary": {
           "aaxis": {
            "gridcolor": "white",
            "linecolor": "white",
            "ticks": ""
           },
           "baxis": {
            "gridcolor": "white",
            "linecolor": "white",
            "ticks": ""
           },
           "bgcolor": "#E5ECF6",
           "caxis": {
            "gridcolor": "white",
            "linecolor": "white",
            "ticks": ""
           }
          },
          "title": {
           "x": 0.05
          },
          "xaxis": {
           "automargin": true,
           "gridcolor": "white",
           "linecolor": "white",
           "ticks": "",
           "title": {
            "standoff": 15
           },
           "zerolinecolor": "white",
           "zerolinewidth": 2
          },
          "yaxis": {
           "automargin": true,
           "gridcolor": "white",
           "linecolor": "white",
           "ticks": "",
           "title": {
            "standoff": 15
           },
           "zerolinecolor": "white",
           "zerolinewidth": 2
          }
         }
        }
       }
      }
     },
     "metadata": {},
     "output_type": "display_data"
    }
   ],
   "source": [
    "\n",
    "fig = go.Figure()\n",
    "for item in ['PLGENACL', 'AverageAge', 'forwardCosts', 'affectedDemographicIndex', 'PLSO2AN', 'CO2limitsOppose']:\n",
    "    for i in range(1, 7):\n",
    "        fig.add_trace(go.Box(y=total[item][total['superCluster']==i], name=labelsList[i-1]))\n",
    "fig"
   ]
  },
  {
   "cell_type": "code",
   "execution_count": null,
   "id": "fd9c3be0",
   "metadata": {},
   "outputs": [],
   "source": []
  },
  {
   "cell_type": "code",
   "execution_count": 512,
   "id": "beae9b73",
   "metadata": {},
   "outputs": [
    {
     "data": {
      "application/vnd.plotly.v1+json": {
       "config": {
        "plotlyServerURL": "https://plot.ly"
       },
       "data": [
        {
         "line": {
          "color": "#FF97FF"
         },
         "name": "Highest SO2 Emitters",
         "showlegend": false,
         "type": "box",
         "xaxis": "x",
         "y": [
          6935333.3,
          5655524.342,
          2380181.1,
          6877598.6,
          6177368.5,
          7636894.3,
          11746800,
          6672860.3,
          3942162.9,
          5435412.7,
          4211527.6,
          3293687.4,
          9806297.3,
          6672378.3,
          16476659,
          12871066.8,
          13083094
         ],
         "yaxis": "y"
        },
        {
         "line": {
          "color": "#B6E880"
         },
         "name": "Large Env. Impacts, Pro-Coal Public Sentiment",
         "showlegend": false,
         "type": "box",
         "xaxis": "x",
         "y": [
          4368299.8,
          6626028.1,
          4185414.919,
          6023753.6,
          5059110,
          2272890.27,
          4703090.3,
          5183235.7,
          13008129.541,
          11266204,
          16228030,
          6993094.8,
          6210633.1,
          6627915.5,
          4912651.4,
          3835304.6,
          5233075.6,
          2962645.7,
          3590942.3,
          2679313.31,
          2365421.4,
          4002624.75,
          4281018.4,
          2384708.5,
          1068678.5,
          3020365.7,
          179997.59,
          2749888.3,
          1477642.83,
          4045913,
          4781555.3,
          6750382.634,
          12494609,
          7507417.64,
          7926040,
          8737451.6,
          9898976.425,
          9022458.8,
          7291356.7,
          10398008,
          10865536,
          3545500.2,
          6126058.4,
          4360103.3,
          6004734.777,
          2461426.7,
          4872555.939,
          3311614.1,
          2527561.6,
          2894158.2,
          1630144.8,
          6742780.1,
          1025376.3,
          4644447.524,
          6637980.9,
          5249106.4,
          2985973.7,
          4658325.8,
          4316220,
          8213150.3,
          2307368.2,
          4513139,
          6951719.7,
          7991707.84,
          10452652,
          9454308.3,
          7219247.2,
          8439307.308,
          7976364.4,
          8743319.713,
          2633174.391,
          2580328.7,
          1105331.8,
          2380212.6,
          2179217,
          1100657.9,
          1779944.7,
          2518469,
          2625834.5,
          361281.26,
          2028891.3,
          2672056,
          1423544.7,
          1648222.1,
          1810829.9,
          5656227.3,
          7473954.7,
          4720666.1,
          4686299.8,
          1728655.2,
          927824.88,
          7512258.2,
          906220.89,
          1125777.1,
          1121751.8,
          5143217.781,
          2272710.6,
          1819413.234,
          1177329.71,
          3059662.8,
          1250006.4,
          487210.64,
          190198.06,
          556155.4,
          1638212.6,
          3266095.5,
          2582192.8,
          904128.42,
          3146865.2,
          2202189.2,
          2033049.8,
          757096.67,
          3099996.2,
          3649414.4
         ],
         "yaxis": "y"
        },
        {
         "line": {
          "color": "#FF6692"
         },
         "name": "High DAC & Community Impacts",
         "showlegend": false,
         "type": "box",
         "xaxis": "x",
         "y": [
          149882.79,
          385257.49,
          310601.35,
          751.139,
          145268.36,
          1233396.2,
          59527.332,
          5301.002,
          49230.004,
          706063.95,
          639124.15,
          143691.53,
          2267803,
          75598.315,
          102274.17,
          842319.641,
          168055.64,
          628214.38,
          674260.109,
          593563.48,
          325321.02,
          32361.715,
          495749.99,
          828307.56,
          935389.08,
          1886115,
          314886.57,
          1471896.78,
          204664.52,
          891907.81,
          1069296.2,
          842101.26,
          1601262.4,
          1392263.1,
          626612.16,
          2280598.79,
          231980.589,
          64924.767,
          178956.45,
          76169.463,
          127490.34,
          517839.61,
          32426.273,
          1560.339,
          221088.68,
          304223.88,
          1502521.75,
          37247.551,
          260973.494,
          786020.33,
          232567.574,
          541611.5,
          449523.09,
          1565952.938,
          197281.7,
          461428.26,
          51043.412,
          530191.18,
          633536.22,
          289822.1,
          952767.33,
          717177.369,
          319574.74,
          652948.06,
          25908,
          188212,
          406049.73,
          441945.88,
          474772.28,
          30888,
          532630.15,
          370465.21,
          63793.573,
          39471.262,
          43541.171,
          8048.552,
          24948,
          6621,
          290290.854,
          68739,
          72878,
          12645.85,
          6276.615,
          36295.311,
          5327.927,
          610313.17,
          321376.09,
          748237.45,
          1810013.4,
          565568.69,
          1988637.4,
          1738479.2,
          1097219.3,
          1066366.2,
          386348,
          32369.281,
          8334.646,
          27576,
          148639.95
         ],
         "yaxis": "y"
        },
        {
         "line": {
          "color": "#19D3F3"
         },
         "name": "Minimal DAC and Community Impacts",
         "showlegend": false,
         "type": "box",
         "xaxis": "x",
         "y": [
          1440743.7,
          2315563.7,
          3254162.7,
          60937,
          28000,
          29736,
          35512,
          26025,
          152873.74,
          146837.09,
          271763.14,
          697581.47,
          715213.63,
          841878.16,
          3203757.2
         ],
         "yaxis": "y"
        },
        {
         "line": {
          "color": "#FFA15A"
         },
         "name": "Newer Plants, Anti-Coal Public Sentiment",
         "showlegend": false,
         "type": "box",
         "xaxis": "x",
         "y": [
          3513154.1,
          3227992.9,
          4562672,
          4938684,
          5292379.8,
          7732785.26,
          3980633.7,
          4077503.6,
          3552639.6,
          1541002.3
         ],
         "yaxis": "y"
        },
        {
         "line": {
          "color": "#AB63FA"
         },
         "name": "Un-Grouped",
         "showlegend": false,
         "type": "box",
         "xaxis": "x",
         "y": [
          650300.66,
          2320634.3,
          7940196.5,
          5625204.5,
          1165146.704,
          174575.01,
          30477.607,
          2689187.21,
          68.22,
          15807.397,
          16061.295,
          44782.765,
          45774.682,
          182404,
          4993.714,
          929925.38,
          1083103,
          1623749.7
         ],
         "yaxis": "y"
        },
        {
         "line": {
          "color": "#FF97FF"
         },
         "name": "Highest SO2 Emitters",
         "showlegend": false,
         "type": "box",
         "xaxis": "x2",
         "y": [
          38.5,
          34,
          38,
          50,
          42,
          24.0673575129534,
          41,
          42.4991926803014,
          38.5,
          28,
          34.5,
          41,
          39.8632344343759,
          42.5,
          47.4604084707458,
          41,
          44.5
         ],
         "yaxis": "y2"
        },
        {
         "line": {
          "color": "#B6E880"
         },
         "name": "Large Env. Impacts, Pro-Coal Public Sentiment",
         "showlegend": false,
         "type": "box",
         "xaxis": "x2",
         "y": [
          63.8333333333333,
          41.8039832285115,
          41.7658536585366,
          50.8157149598867,
          51.5,
          40,
          55.25,
          42.5,
          8.51063829787234,
          7,
          33.25,
          21.6260869565217,
          20.046274214468,
          35,
          24.7696414487654,
          23.2299901992813,
          46.3690876397467,
          47.2485089463221,
          48,
          38.4365030359164,
          39.5,
          32.5,
          44.5,
          45,
          48,
          55.8903225806452,
          42,
          51.5,
          64.4117647058823,
          46.3200992555831,
          52.3544551229842,
          45.21348026653,
          46.2491767288694,
          48.5,
          35,
          38.5084436884947,
          40.0013926950896,
          48.5432886619868,
          51.5,
          46.8350610379868,
          46,
          65,
          42.4492010993618,
          48,
          44.184001501032,
          50.7692307692308,
          39.5,
          39.5,
          39,
          35.5,
          39,
          32.5,
          11,
          64,
          38.6666666666667,
          39,
          46.9634146341463,
          44.4509536784741,
          52.6890045543266,
          39.5,
          35,
          43.4344933963174,
          37.8142336789017,
          37.6666666666667,
          43.0035627994594,
          46,
          28.2403481504507,
          16.4908935076066,
          38.6629469946741,
          37.1863905325444,
          42,
          36.5,
          39,
          28.5,
          34,
          33,
          35.5,
          38,
          48.6770649895178,
          37,
          47.490760636012,
          46,
          40,
          44,
          41,
          33.4827548924208,
          49.5,
          39.3961038961039,
          51.1449711260828,
          41,
          35.9555555555556,
          21.1228338430173,
          46.4595588235294,
          51,
          40,
          46.5,
          38,
          36,
          28,
          38,
          39,
          24,
          32,
          27,
          38,
          36,
          39.5,
          15.0582793709528,
          40.9416597213954,
          15,
          36.5,
          29,
          48.7414248021108,
          65.1111111111111
         ],
         "yaxis": "y2"
        },
        {
         "line": {
          "color": "#FF6692"
         },
         "name": "High DAC & Community Impacts",
         "showlegend": false,
         "type": "box",
         "xaxis": "x2",
         "y": [
          55.5,
          58.5714285714286,
          50,
          35.5,
          51.3209302325581,
          23.5,
          27,
          26,
          13,
          7,
          33,
          35,
          40.75,
          23,
          39,
          44,
          46.9840150179191,
          36,
          40,
          35,
          42,
          36,
          55.9029296020988,
          48.5,
          50,
          35,
          41.2267657992565,
          51.5,
          37,
          47.9677419354839,
          46,
          45.5,
          56.3358134920635,
          35,
          52,
          61.1950286806883,
          61,
          54.9232323232323,
          58.6666666666667,
          58.891975308642,
          52.979094076655,
          59.8526645768025,
          52.3258785942492,
          47.6448598130841,
          38,
          56,
          45,
          52.1857585139319,
          51,
          61,
          49,
          49,
          48.6649449809117,
          59,
          57.1020092735703,
          59.1304347826087,
          55.0727272727273,
          40.664395229983,
          32,
          30,
          21,
          11,
          27,
          30,
          33,
          60.33333333333326,
          58.78571428571422,
          26,
          26,
          32,
          28.83333333333326,
          30,
          53,
          30,
          37.75,
          25,
          33,
          22,
          52.33333333333326,
          56.5,
          57,
          44,
          70,
          59.5,
          51.6666666666667,
          58.9152119700748,
          47.1707670043415,
          31.7900615085788,
          50.4255319148936,
          46,
          50,
          52.9230769230769,
          34,
          38,
          31,
          29,
          40,
          32,
          29
         ],
         "yaxis": "y2"
        },
        {
         "line": {
          "color": "#19D3F3"
         },
         "name": "Minimal DAC and Community Impacts",
         "showlegend": false,
         "type": "box",
         "xaxis": "x2",
         "y": [
          36,
          37,
          33,
          30,
          30,
          55.5,
          55,
          65.5,
          47.5,
          54.66666666666674,
          30,
          17,
          12,
          10,
          8
         ],
         "yaxis": "y2"
        },
        {
         "line": {
          "color": "#FFA15A"
         },
         "name": "Newer Plants, Anti-Coal Public Sentiment",
         "showlegend": false,
         "type": "box",
         "xaxis": "x2",
         "y": [
          7,
          9,
          6,
          8,
          16.0554016620499,
          8.5,
          26.1298844248762,
          21.0089899524061,
          27.5,
          21.7449392712551
         ],
         "yaxis": "y2"
        },
        {
         "line": {
          "color": "#AB63FA"
         },
         "name": "Un-Grouped",
         "showlegend": false,
         "type": "box",
         "xaxis": "x2",
         "y": [
          24,
          18,
          45.8697764820214,
          33.5,
          28,
          40,
          40,
          7,
          40,
          40,
          40,
          40,
          40,
          10,
          9,
          31.5,
          48.5,
          51.7048152721056
         ],
         "yaxis": "y2"
        },
        {
         "line": {
          "color": "#FF97FF"
         },
         "name": "Highest SO2 Emitters",
         "showlegend": false,
         "type": "box",
         "xaxis": "x3",
         "y": [
          17.7686985534102,
          33.82499921093063,
          46.10447815547809,
          24.8194898749141,
          27.68233328044696,
          22.55393609248027,
          41.35741940578214,
          26.22173756145437,
          32.36688315829598,
          35.83408050946259,
          33.71634107987643,
          30.60836201420702,
          28.90083326091658,
          29.48520145168671,
          23.78183612541012,
          30.12127637919276,
          34.36934710393676
         ],
         "yaxis": "y3"
        },
        {
         "line": {
          "color": "#B6E880"
         },
         "name": "Large Env. Impacts, Pro-Coal Public Sentiment",
         "showlegend": false,
         "type": "box",
         "xaxis": "x3",
         "y": [
          41.4221940887211,
          34.95894877573699,
          28.35325107530451,
          47.77063168466438,
          34.89011156004939,
          56.96685367689226,
          null,
          35.25997988586202,
          26.45846789100256,
          26.44877214085489,
          29.16791611795626,
          21.10219901775509,
          41.50673409488435,
          39.75009120762478,
          22.02619757380564,
          36.61806187725021,
          55.40697876001774,
          35.98680312959274,
          45.77672273666127,
          48.71769547301668,
          34.97812960208947,
          61.34161461359248,
          47.14438681819911,
          70.37984584008743,
          62.21347198408596,
          38.75355296099717,
          64.0573986252686,
          36.80031042962078,
          56.12068778686039,
          36.5108164205981,
          45.08337522943447,
          31.50619246088777,
          32.19240411440666,
          32.34352810772269,
          null,
          33.38968846809694,
          34.79907335758241,
          32.07671092948571,
          28.58163601428612,
          38.8913805808987,
          27.34965194854932,
          35.48307661769463,
          30.12391481674996,
          40.94226052447277,
          28.96004236009545,
          46.88062600631688,
          34.57157513596474,
          36.32928996192542,
          27.99179096667748,
          36.47495914695248,
          42.67261999413228,
          32.58958931422833,
          43.3591201136489,
          41.03721677625789,
          38.69929559799512,
          26.99166989357789,
          35.66884121423095,
          27.24753037621396,
          25.89326275076839,
          24.34510182652009,
          30.4092276521151,
          36.55445095705307,
          33.40673524504054,
          29.05039917416735,
          41.39039958468649,
          30.56045186951857,
          32.70454602303808,
          24.73154550310451,
          29.01293766816209,
          26.11187671745742,
          33.01205100424453,
          31.8310434200916,
          32.14215304959185,
          22.82008967803819,
          26.27103251594481,
          36.08033863419345,
          40.84195848039801,
          26.92897792209359,
          46.70443758858576,
          33.82169829101304,
          39.09303680408497,
          46.86721182395764,
          46.14121275324291,
          29.58549169732905,
          32.97625860423117,
          34.64156850191705,
          47.91805286435581,
          46.1903487277968,
          66.98345863088947,
          27.94365859902484,
          59.99731290132213,
          37.57020388966903,
          29.47054665573386,
          27.83289592198541,
          29.78953014049829,
          34.77402360276901,
          40.38540557107057,
          31.16478740050017,
          null,
          30.47047024554609,
          30.43206050919556,
          28.45612913761902,
          39.04602097274238,
          35.04034279607156,
          27.98087719028491,
          57.85578706777944,
          48.21332791487313,
          39.77830176526733,
          56.9084902623193,
          30.60923897182601,
          44.69087115773205,
          47.33959926101113,
          30.40230594855005,
          40.19303212661201
         ],
         "yaxis": "y3"
        },
        {
         "line": {
          "color": "#FF6692"
         },
         "name": "High DAC & Community Impacts",
         "showlegend": false,
         "type": "box",
         "xaxis": "x3",
         "y": [
          null,
          34.63855631263223,
          38.21954974028614,
          null,
          95.03701960105111,
          62.92623758469734,
          46.09935300401208,
          37.96150641052709,
          42.80143970695998,
          48.78832181984009,
          119.5366941229609,
          82.3397156182977,
          92.1118558758054,
          166.4891725441887,
          139.8955320089371,
          37.61642957001135,
          68.8478961640067,
          69.14342550659204,
          47.55496757664282,
          35.37863431518285,
          62.43103634837038,
          60.63187753808307,
          42.74479946253044,
          54.33613388443941,
          45.07245636149928,
          27.88367371170884,
          53.34853025838789,
          40.60971866022889,
          45.32847811549217,
          48.58822503867616,
          41.49284524006848,
          49.02368172769818,
          37.61383300418267,
          61.1683647808416,
          48.99669398965931,
          39.19853367665187,
          55.01012747394319,
          121.596077424444,
          194.6492519335937,
          89.56147125427117,
          87.47889771053259,
          94.85603962711085,
          112.9906318901612,
          513.9275208566435,
          63.86693982470275,
          53.21076806488875,
          68.84681248329755,
          71.74197633953789,
          44.41652614827063,
          46.46696239675534,
          60.79651321874672,
          51.09434061716587,
          35.75461227592406,
          58.05957652486015,
          58.60790907262086,
          66.2859782008946,
          58.16378532856844,
          27.66878136447666,
          null,
          null,
          null,
          null,
          null,
          null,
          null,
          null,
          null,
          null,
          null,
          null,
          null,
          null,
          null,
          null,
          null,
          null,
          null,
          null,
          null,
          null,
          null,
          null,
          null,
          397.8125580203363,
          161.9068471851586,
          41.97488415930093,
          30.96846485118937,
          46.11739302711295,
          28.96721016965468,
          43.99706432697267,
          27.08821467990169,
          25.24765960058657,
          43.55450449291699,
          36.99258549230899,
          null,
          null,
          null,
          null,
          null
         ],
         "yaxis": "y3"
        },
        {
         "line": {
          "color": "#19D3F3"
         },
         "name": "Minimal DAC and Community Impacts",
         "showlegend": false,
         "type": "box",
         "xaxis": "x3",
         "y": [
          27.24024653967512,
          44.34815071123089,
          26.79293347074842,
          null,
          null,
          null,
          null,
          null,
          null,
          null,
          null,
          null,
          null,
          null,
          21.5310512763465
         ],
         "yaxis": "y3"
        },
        {
         "line": {
          "color": "#FFA15A"
         },
         "name": "Newer Plants, Anti-Coal Public Sentiment",
         "showlegend": false,
         "type": "box",
         "xaxis": "x3",
         "y": [
          28.87781279892828,
          35.99853692884556,
          31.54202349410252,
          30.77672164864343,
          28.52961591797585,
          34.28214296124639,
          27.13855596827596,
          32.04031370800105,
          37.11515503329683,
          36.51357044322227
         ],
         "yaxis": "y3"
        },
        {
         "line": {
          "color": "#AB63FA"
         },
         "name": "Un-Grouped",
         "showlegend": false,
         "type": "box",
         "xaxis": "x3",
         "y": [
          27.06907498807751,
          42.5535862376061,
          53.52386020204078,
          56.06723259367504,
          null,
          null,
          null,
          null,
          null,
          null,
          null,
          null,
          null,
          null,
          null,
          55.49917978245082,
          54.81901670659555,
          75.74671017002709
         ],
         "yaxis": "y3"
        },
        {
         "line": {
          "color": "#FF97FF"
         },
         "name": "Highest SO2 Emitters",
         "showlegend": false,
         "type": "box",
         "xaxis": "x4",
         "y": [
          480,
          1023,
          2592,
          2080,
          21528,
          1840,
          159360,
          60860,
          83538,
          32544,
          116033,
          36126,
          57096,
          19290,
          19737,
          31610,
          75915
         ],
         "yaxis": "y4"
        },
        {
         "line": {
          "color": "#B6E880"
         },
         "name": "Large Env. Impacts, Pro-Coal Public Sentiment",
         "showlegend": false,
         "type": "box",
         "xaxis": "x4",
         "y": [
          577840,
          388124,
          60993,
          89244,
          183596,
          89180,
          10736,
          17000,
          4092,
          1244,
          33831,
          2080,
          85483,
          24432,
          102780,
          107960,
          58227,
          118625,
          56856,
          51084,
          17679,
          94878,
          77088,
          85860,
          60453,
          179120,
          28224,
          35216,
          361692,
          11655,
          111348,
          62307,
          426600,
          63756,
          83572,
          45680,
          117880,
          167040,
          27352,
          193704,
          176523,
          35156,
          53240,
          43750,
          9780,
          8844,
          54990,
          48866,
          32428,
          46410,
          1,
          1,
          30,
          95544,
          9636,
          130980,
          205,
          841,
          2703,
          117,
          11628,
          1950,
          9666,
          1728,
          33,
          41895,
          62340,
          18828,
          26044,
          4352,
          0,
          7605,
          45168,
          7236,
          12508,
          1144,
          1241,
          337,
          5880,
          101916,
          2304,
          3538,
          15844,
          28920,
          304850,
          4964,
          21432,
          7881,
          5160,
          131428,
          1,
          1,
          46170,
          27210,
          156519,
          35711,
          28208,
          27820,
          1215076,
          32886,
          213246,
          34485,
          35262,
          119814,
          867566,
          4,
          147,
          152892,
          78318,
          61225,
          19754,
          176286,
          672672,
          293472
         ],
         "yaxis": "y4"
        },
        {
         "line": {
          "color": "#FF6692"
         },
         "name": "High DAC & Community Impacts",
         "showlegend": false,
         "type": "box",
         "xaxis": "x4",
         "y": [
          122185,
          1252881,
          290913,
          41718,
          266255,
          42408,
          372608,
          14916,
          343520,
          101136,
          10209,
          10857,
          40979,
          108960,
          494505,
          2392,
          43378,
          49680,
          3124,
          7448,
          5882,
          438064,
          494,
          9804,
          20184,
          1728,
          209716,
          15428,
          24062,
          12630,
          31104,
          472099,
          89565,
          461616,
          291356,
          77344,
          132779,
          591033,
          13824,
          294305,
          142284,
          668835,
          1714986,
          1926765,
          252680,
          1519012,
          1754235,
          1673520,
          777404,
          422365,
          310604,
          1069926,
          627792,
          446082,
          377487,
          273280,
          1093638,
          831836,
          881708,
          89768,
          465150,
          823410,
          78883,
          899199,
          1260180,
          2060160,
          1324862,
          958208,
          868248,
          1136520,
          851800,
          349058,
          337064,
          425068,
          1209400,
          1056760,
          1960757,
          2085300,
          103478,
          1408320,
          124271,
          74700,
          149182,
          4761204,
          6537893,
          5391295,
          4104932,
          1878360,
          901005,
          1062328,
          2063490,
          3029492,
          1322208,
          2151450,
          3400056,
          3517869,
          4414793,
          4840420,
          6855156
         ],
         "yaxis": "y4"
        },
        {
         "line": {
          "color": "#19D3F3"
         },
         "name": "Minimal DAC and Community Impacts",
         "showlegend": false,
         "type": "box",
         "xaxis": "x4",
         "y": [
          1,
          43,
          1,
          1,
          1,
          1,
          1,
          1,
          1,
          1,
          285,
          135836,
          129456,
          129398,
          987
         ],
         "yaxis": "y4"
        },
        {
         "line": {
          "color": "#FFA15A"
         },
         "name": "Newer Plants, Anti-Coal Public Sentiment",
         "showlegend": false,
         "type": "box",
         "xaxis": "x4",
         "y": [
          28350,
          237249,
          68284,
          358470,
          189144,
          185218,
          479343,
          114520,
          1030960,
          975528
         ],
         "yaxis": "y4"
        },
        {
         "line": {
          "color": "#AB63FA"
         },
         "name": "Un-Grouped",
         "showlegend": false,
         "type": "box",
         "xaxis": "x4",
         "y": [
          135836,
          14256,
          202878,
          41976,
          534450,
          2247414,
          1250957,
          12880,
          1256280,
          125776,
          67730,
          701916,
          495,
          286824,
          1923100,
          710116,
          96635,
          528150
         ],
         "yaxis": "y4"
        },
        {
         "line": {
          "color": "#FF97FF"
         },
         "name": "Highest SO2 Emitters",
         "showlegend": false,
         "type": "box",
         "xaxis": "x5",
         "y": [
          18175.8,
          11316.1,
          11974.8,
          13702.2,
          12032.7,
          11479.6,
          13393.3,
          16729.5,
          10711.1,
          9628.088,
          14597.8,
          8183.9,
          23865.1,
          17321.4,
          39391.899,
          43582.9,
          28188.515
         ],
         "yaxis": "y5"
        },
        {
         "line": {
          "color": "#B6E880"
         },
         "name": "Large Env. Impacts, Pro-Coal Public Sentiment",
         "showlegend": false,
         "type": "box",
         "xaxis": "x5",
         "y": [
          2537,
          2889.3,
          490.9,
          3085.4,
          3218.7,
          180.6,
          3963.073,
          1662.4,
          8804.7,
          9772,
          870.6,
          811.6,
          2609.9,
          4974.4,
          5634.273,
          818.9,
          2637.4,
          3680.5,
          871.15,
          759.8,
          356.7,
          6915.781,
          1873.4,
          760.1,
          232.7,
          111.6,
          171.7,
          1199.5,
          872.8,
          1474.8,
          1702.9,
          3956.3,
          3782.6,
          2758,
          3502.4,
          3712.555,
          8600.8,
          9987.698,
          13011.2,
          4381.023,
          9274.9,
          8242.9,
          4348.2,
          1900.9,
          725,
          2029.4,
          7646.1,
          8168.9,
          8114.9,
          7989.3,
          2576.6,
          2207.2,
          117.4,
          3320.2,
          902.6,
          2678.573,
          1719.8,
          2676.9,
          7008.7,
          4770.612,
          4481.1,
          1626.3,
          2721.3,
          5261,
          8792.4,
          7378.931,
          3498.527,
          3748,
          2957.1,
          912.5,
          4632.3,
          1587.9,
          2172.6,
          2372.8,
          1793.8,
          748.3,
          4662.4,
          919.5,
          1283.6,
          369.1,
          1484,
          721.5,
          709.1,
          575.843,
          536.1,
          4920.7,
          1339.8,
          1355.2,
          2008.3,
          1686.2,
          1919.1,
          6082.4,
          2927.2,
          2722,
          2286.5,
          1549.6,
          1932.2,
          2870.2,
          14517.452,
          1631.8,
          512.7,
          1564.6,
          319.9,
          1590.4,
          4265.5,
          2657,
          60.1,
          2014.7,
          1860.6,
          6313.5,
          3447.1,
          366.8,
          6532.2,
          9024.6
         ],
         "yaxis": "y5"
        },
        {
         "line": {
          "color": "#FF6692"
         },
         "name": "High DAC & Community Impacts",
         "showlegend": false,
         "type": "box",
         "xaxis": "x5",
         "y": [
          225.7,
          587.9,
          645.8,
          1.312,
          46.9,
          378.5,
          39.5,
          335.5,
          50,
          69.1,
          3107,
          460.4,
          1299.7,
          44.1,
          279.2,
          1660.3,
          335.7,
          867.3,
          1103.089,
          421.5,
          111.6,
          33.3,
          1459.7,
          84.1,
          247.4,
          734.9,
          264.6,
          732.9,
          569.7,
          643.4,
          1101.1,
          638.9,
          7156.7,
          3580.4,
          228.6,
          1046.7,
          19.2,
          615.8,
          129,
          283.8,
          96.104,
          91.2,
          439.8,
          46.815,
          364.7,
          230.7,
          694.7,
          217.436,
          885.3,
          490.5,
          853.3,
          1011.2,
          586.9,
          629.6,
          749.5,
          1384.2,
          1213.583,
          491.7,
          688.839,
          1358.9,
          622.584,
          1162.336,
          3300.598,
          924.375,
          583.082,
          260.498,
          738.395,
          362.817,
          386.164,
          51.292,
          330.346,
          82.005,
          737.668,
          77.829,
          118.112,
          5.1,
          53.305,
          119.631,
          0.449,
          68.678,
          87.799,
          22.128,
          21.052,
          246.1,
          25.4,
          416.5,
          67.7,
          400.1,
          225.6,
          1804.2,
          929.5,
          5446.7,
          294.5,
          1210.8,
          6398.467,
          242.962,
          12.491,
          43.859,
          3270.29
         ],
         "yaxis": "y5"
        },
        {
         "line": {
          "color": "#19D3F3"
         },
         "name": "Minimal DAC and Community Impacts",
         "showlegend": false,
         "type": "box",
         "xaxis": "x5",
         "y": [
          1054.2,
          10411.7,
          764.9,
          102.7,
          54.565,
          57.947,
          63.592,
          50.715,
          11.815,
          5.809,
          3858.155,
          426.4,
          205.9,
          202.4,
          1006.3
         ],
         "yaxis": "y5"
        },
        {
         "line": {
          "color": "#FFA15A"
         },
         "name": "Newer Plants, Anti-Coal Public Sentiment",
         "showlegend": false,
         "type": "box",
         "xaxis": "x5",
         "y": [
          658.1,
          2270.3,
          2324.9,
          1969,
          755.6,
          472.5,
          1884.5,
          588.5,
          2241.788,
          1967.5
         ],
         "yaxis": "y5"
        },
        {
         "line": {
          "color": "#AB63FA"
         },
         "name": "Un-Grouped",
         "showlegend": false,
         "type": "box",
         "xaxis": "x5",
         "y": [
          316.4,
          2344.1,
          6097.8,
          529,
          3528.688,
          77.198,
          219.032,
          58.9,
          0.3,
          70.075,
          428.134,
          76.5,
          2.023,
          35.504,
          0,
          686.7,
          666.7,
          567.4
         ],
         "yaxis": "y5"
        },
        {
         "line": {
          "color": "#FF97FF"
         },
         "name": "Highest SO2 Emitters",
         "showlegend": false,
         "type": "box",
         "xaxis": "x6",
         "y": [
          59.375,
          62.867,
          62.867,
          52.285,
          54.383,
          46.362,
          60.111,
          31.99,
          36.557,
          40.428,
          38.291,
          44.373,
          30.472,
          44.471,
          44.89,
          59.361,
          62.78
         ],
         "yaxis": "y6"
        },
        {
         "line": {
          "color": "#B6E880"
         },
         "name": "Large Env. Impacts, Pro-Coal Public Sentiment",
         "showlegend": false,
         "type": "box",
         "xaxis": "x6",
         "y": [
          50.745,
          32.916,
          43.397,
          37.504,
          35.338,
          45.274,
          46.295,
          38.635,
          47.487,
          33.6,
          29.217,
          36.734,
          39.875,
          42.835,
          40.716,
          36.885,
          52.024,
          49.871,
          48.92,
          50.625,
          59.302,
          55.768,
          46.504,
          44.119,
          46.406,
          25.9,
          62.135,
          41.711,
          46.543,
          47.565,
          51.033,
          41.469,
          39.453,
          49.871,
          54.314,
          45.717,
          57.557,
          51.033,
          47.895,
          53.217,
          47.923,
          58.442,
          59.32,
          57.537,
          58.856,
          58.419,
          61.567,
          57.988,
          56.465,
          56.501,
          55.247,
          60.673,
          58.757,
          62.78,
          57.336,
          60.753,
          62.867,
          59.812,
          62.373,
          57.289,
          60.429,
          63.109,
          59.404,
          61.105,
          57.818,
          60.442,
          57.677,
          53.47,
          63.109,
          60.471,
          58.653,
          58.394,
          56.326,
          47.487,
          47.093,
          55.5,
          56.438,
          44.046,
          37.519,
          39.644,
          33.899,
          39.875,
          42.548,
          45.764,
          38.718,
          54.782,
          53.758,
          53.758,
          62.614,
          56.255,
          47.739,
          39.026,
          41.023,
          35.356,
          48.679,
          42.809,
          41.915,
          40.397,
          36.667,
          39.986,
          36.185,
          40.733,
          41.899,
          39.57,
          43.647,
          38.549,
          39.026,
          42.884,
          36.91,
          49.871,
          48.318,
          46.298,
          33.802,
          45.895
         ],
         "yaxis": "y6"
        },
        {
         "line": {
          "color": "#FF6692"
         },
         "name": "High DAC & Community Impacts",
         "showlegend": false,
         "type": "box",
         "xaxis": "x6",
         "y": [
          23.019,
          39.137,
          33.909,
          38.81,
          48.908,
          42.108,
          39.735,
          39.17,
          34.447,
          44.718,
          47.946,
          37.772,
          36.587,
          37.895,
          33.066,
          40.808,
          50.609,
          52.024,
          40.808,
          28.59,
          40.412,
          41.469,
          30.386,
          25.209,
          32.561,
          29.561,
          52.895,
          52.035,
          57.212,
          46.295,
          46.022,
          43.965,
          38.291,
          44.421,
          42.796,
          42.683,
          47.957,
          31.597,
          20.312,
          27.957,
          30.375,
          38.15,
          38.59,
          36.522,
          26.837,
          29.117,
          36.595,
          33.224,
          23.733,
          28.808,
          33.516,
          24.642,
          44.393,
          36.118,
          38.881,
          46.494,
          42.739,
          39.842,
          41.899,
          40.733,
          41.099,
          37.564,
          47.462,
          41.899,
          40.376,
          35.064,
          45.665,
          31.569,
          33.184,
          30.386,
          33.224,
          32.782,
          34.873,
          41.447,
          35.064,
          34.275,
          32.365,
          29.082,
          34.276,
          35.064,
          35.064,
          40.368,
          47.957,
          37.018,
          23.856,
          26.283,
          36.185,
          33.541,
          26.476,
          30.503,
          30.428,
          30.822,
          36.63,
          27.824,
          36.667,
          21.421,
          23.389,
          34,
          19.354
         ],
         "yaxis": "y6"
        },
        {
         "line": {
          "color": "#19D3F3"
         },
         "name": "Minimal DAC and Community Impacts",
         "showlegend": false,
         "type": "box",
         "xaxis": "x6",
         "y": [
          40.388,
          40.808,
          52.106,
          39.811,
          39.42,
          39.42,
          43.176,
          32.325,
          57.818,
          57.818,
          54.314,
          56.255,
          56.255,
          56.255,
          56.255
         ],
         "yaxis": "y6"
        },
        {
         "line": {
          "color": "#FFA15A"
         },
         "name": "Newer Plants, Anti-Coal Public Sentiment",
         "showlegend": false,
         "type": "box",
         "xaxis": "x6",
         "y": [
          36.327,
          33.457,
          38.219,
          35.338,
          28.783,
          25.9,
          34.79,
          37.01,
          29.336,
          32.885
         ],
         "yaxis": "y6"
        },
        {
         "line": {
          "color": "#AB63FA"
         },
         "name": "Un-Grouped",
         "showlegend": false,
         "type": "box",
         "xaxis": "x6",
         "y": [
          56.255,
          58.062,
          53.061,
          59.673,
          17.772,
          27.654,
          27.905,
          49.373,
          31.112,
          42.198,
          33.99,
          41.899,
          42.8,
          42.111,
          38.307,
          31.597,
          27.496,
          34.82
         ],
         "yaxis": "y6"
        }
       ],
       "layout": {
        "font": {
         "size": 9
        },
        "template": {
         "data": {
          "bar": [
           {
            "error_x": {
             "color": "#2a3f5f"
            },
            "error_y": {
             "color": "#2a3f5f"
            },
            "marker": {
             "line": {
              "color": "#E5ECF6",
              "width": 0.5
             },
             "pattern": {
              "fillmode": "overlay",
              "size": 10,
              "solidity": 0.2
             }
            },
            "type": "bar"
           }
          ],
          "barpolar": [
           {
            "marker": {
             "line": {
              "color": "#E5ECF6",
              "width": 0.5
             },
             "pattern": {
              "fillmode": "overlay",
              "size": 10,
              "solidity": 0.2
             }
            },
            "type": "barpolar"
           }
          ],
          "carpet": [
           {
            "aaxis": {
             "endlinecolor": "#2a3f5f",
             "gridcolor": "white",
             "linecolor": "white",
             "minorgridcolor": "white",
             "startlinecolor": "#2a3f5f"
            },
            "baxis": {
             "endlinecolor": "#2a3f5f",
             "gridcolor": "white",
             "linecolor": "white",
             "minorgridcolor": "white",
             "startlinecolor": "#2a3f5f"
            },
            "type": "carpet"
           }
          ],
          "choropleth": [
           {
            "colorbar": {
             "outlinewidth": 0,
             "ticks": ""
            },
            "type": "choropleth"
           }
          ],
          "contour": [
           {
            "colorbar": {
             "outlinewidth": 0,
             "ticks": ""
            },
            "colorscale": [
             [
              0,
              "#0d0887"
             ],
             [
              0.1111111111111111,
              "#46039f"
             ],
             [
              0.2222222222222222,
              "#7201a8"
             ],
             [
              0.3333333333333333,
              "#9c179e"
             ],
             [
              0.4444444444444444,
              "#bd3786"
             ],
             [
              0.5555555555555556,
              "#d8576b"
             ],
             [
              0.6666666666666666,
              "#ed7953"
             ],
             [
              0.7777777777777778,
              "#fb9f3a"
             ],
             [
              0.8888888888888888,
              "#fdca26"
             ],
             [
              1,
              "#f0f921"
             ]
            ],
            "type": "contour"
           }
          ],
          "contourcarpet": [
           {
            "colorbar": {
             "outlinewidth": 0,
             "ticks": ""
            },
            "type": "contourcarpet"
           }
          ],
          "heatmap": [
           {
            "colorbar": {
             "outlinewidth": 0,
             "ticks": ""
            },
            "colorscale": [
             [
              0,
              "#0d0887"
             ],
             [
              0.1111111111111111,
              "#46039f"
             ],
             [
              0.2222222222222222,
              "#7201a8"
             ],
             [
              0.3333333333333333,
              "#9c179e"
             ],
             [
              0.4444444444444444,
              "#bd3786"
             ],
             [
              0.5555555555555556,
              "#d8576b"
             ],
             [
              0.6666666666666666,
              "#ed7953"
             ],
             [
              0.7777777777777778,
              "#fb9f3a"
             ],
             [
              0.8888888888888888,
              "#fdca26"
             ],
             [
              1,
              "#f0f921"
             ]
            ],
            "type": "heatmap"
           }
          ],
          "heatmapgl": [
           {
            "colorbar": {
             "outlinewidth": 0,
             "ticks": ""
            },
            "colorscale": [
             [
              0,
              "#0d0887"
             ],
             [
              0.1111111111111111,
              "#46039f"
             ],
             [
              0.2222222222222222,
              "#7201a8"
             ],
             [
              0.3333333333333333,
              "#9c179e"
             ],
             [
              0.4444444444444444,
              "#bd3786"
             ],
             [
              0.5555555555555556,
              "#d8576b"
             ],
             [
              0.6666666666666666,
              "#ed7953"
             ],
             [
              0.7777777777777778,
              "#fb9f3a"
             ],
             [
              0.8888888888888888,
              "#fdca26"
             ],
             [
              1,
              "#f0f921"
             ]
            ],
            "type": "heatmapgl"
           }
          ],
          "histogram": [
           {
            "marker": {
             "pattern": {
              "fillmode": "overlay",
              "size": 10,
              "solidity": 0.2
             }
            },
            "type": "histogram"
           }
          ],
          "histogram2d": [
           {
            "colorbar": {
             "outlinewidth": 0,
             "ticks": ""
            },
            "colorscale": [
             [
              0,
              "#0d0887"
             ],
             [
              0.1111111111111111,
              "#46039f"
             ],
             [
              0.2222222222222222,
              "#7201a8"
             ],
             [
              0.3333333333333333,
              "#9c179e"
             ],
             [
              0.4444444444444444,
              "#bd3786"
             ],
             [
              0.5555555555555556,
              "#d8576b"
             ],
             [
              0.6666666666666666,
              "#ed7953"
             ],
             [
              0.7777777777777778,
              "#fb9f3a"
             ],
             [
              0.8888888888888888,
              "#fdca26"
             ],
             [
              1,
              "#f0f921"
             ]
            ],
            "type": "histogram2d"
           }
          ],
          "histogram2dcontour": [
           {
            "colorbar": {
             "outlinewidth": 0,
             "ticks": ""
            },
            "colorscale": [
             [
              0,
              "#0d0887"
             ],
             [
              0.1111111111111111,
              "#46039f"
             ],
             [
              0.2222222222222222,
              "#7201a8"
             ],
             [
              0.3333333333333333,
              "#9c179e"
             ],
             [
              0.4444444444444444,
              "#bd3786"
             ],
             [
              0.5555555555555556,
              "#d8576b"
             ],
             [
              0.6666666666666666,
              "#ed7953"
             ],
             [
              0.7777777777777778,
              "#fb9f3a"
             ],
             [
              0.8888888888888888,
              "#fdca26"
             ],
             [
              1,
              "#f0f921"
             ]
            ],
            "type": "histogram2dcontour"
           }
          ],
          "mesh3d": [
           {
            "colorbar": {
             "outlinewidth": 0,
             "ticks": ""
            },
            "type": "mesh3d"
           }
          ],
          "parcoords": [
           {
            "line": {
             "colorbar": {
              "outlinewidth": 0,
              "ticks": ""
             }
            },
            "type": "parcoords"
           }
          ],
          "pie": [
           {
            "automargin": true,
            "type": "pie"
           }
          ],
          "scatter": [
           {
            "marker": {
             "colorbar": {
              "outlinewidth": 0,
              "ticks": ""
             }
            },
            "type": "scatter"
           }
          ],
          "scatter3d": [
           {
            "line": {
             "colorbar": {
              "outlinewidth": 0,
              "ticks": ""
             }
            },
            "marker": {
             "colorbar": {
              "outlinewidth": 0,
              "ticks": ""
             }
            },
            "type": "scatter3d"
           }
          ],
          "scattercarpet": [
           {
            "marker": {
             "colorbar": {
              "outlinewidth": 0,
              "ticks": ""
             }
            },
            "type": "scattercarpet"
           }
          ],
          "scattergeo": [
           {
            "marker": {
             "colorbar": {
              "outlinewidth": 0,
              "ticks": ""
             }
            },
            "type": "scattergeo"
           }
          ],
          "scattergl": [
           {
            "marker": {
             "colorbar": {
              "outlinewidth": 0,
              "ticks": ""
             }
            },
            "type": "scattergl"
           }
          ],
          "scattermapbox": [
           {
            "marker": {
             "colorbar": {
              "outlinewidth": 0,
              "ticks": ""
             }
            },
            "type": "scattermapbox"
           }
          ],
          "scatterpolar": [
           {
            "marker": {
             "colorbar": {
              "outlinewidth": 0,
              "ticks": ""
             }
            },
            "type": "scatterpolar"
           }
          ],
          "scatterpolargl": [
           {
            "marker": {
             "colorbar": {
              "outlinewidth": 0,
              "ticks": ""
             }
            },
            "type": "scatterpolargl"
           }
          ],
          "scatterternary": [
           {
            "marker": {
             "colorbar": {
              "outlinewidth": 0,
              "ticks": ""
             }
            },
            "type": "scatterternary"
           }
          ],
          "surface": [
           {
            "colorbar": {
             "outlinewidth": 0,
             "ticks": ""
            },
            "colorscale": [
             [
              0,
              "#0d0887"
             ],
             [
              0.1111111111111111,
              "#46039f"
             ],
             [
              0.2222222222222222,
              "#7201a8"
             ],
             [
              0.3333333333333333,
              "#9c179e"
             ],
             [
              0.4444444444444444,
              "#bd3786"
             ],
             [
              0.5555555555555556,
              "#d8576b"
             ],
             [
              0.6666666666666666,
              "#ed7953"
             ],
             [
              0.7777777777777778,
              "#fb9f3a"
             ],
             [
              0.8888888888888888,
              "#fdca26"
             ],
             [
              1,
              "#f0f921"
             ]
            ],
            "type": "surface"
           }
          ],
          "table": [
           {
            "cells": {
             "fill": {
              "color": "#EBF0F8"
             },
             "line": {
              "color": "white"
             }
            },
            "header": {
             "fill": {
              "color": "#C8D4E3"
             },
             "line": {
              "color": "white"
             }
            },
            "type": "table"
           }
          ]
         },
         "layout": {
          "annotationdefaults": {
           "arrowcolor": "#2a3f5f",
           "arrowhead": 0,
           "arrowwidth": 1
          },
          "autotypenumbers": "strict",
          "coloraxis": {
           "colorbar": {
            "outlinewidth": 0,
            "ticks": ""
           }
          },
          "colorscale": {
           "diverging": [
            [
             0,
             "#8e0152"
            ],
            [
             0.1,
             "#c51b7d"
            ],
            [
             0.2,
             "#de77ae"
            ],
            [
             0.3,
             "#f1b6da"
            ],
            [
             0.4,
             "#fde0ef"
            ],
            [
             0.5,
             "#f7f7f7"
            ],
            [
             0.6,
             "#e6f5d0"
            ],
            [
             0.7,
             "#b8e186"
            ],
            [
             0.8,
             "#7fbc41"
            ],
            [
             0.9,
             "#4d9221"
            ],
            [
             1,
             "#276419"
            ]
           ],
           "sequential": [
            [
             0,
             "#0d0887"
            ],
            [
             0.1111111111111111,
             "#46039f"
            ],
            [
             0.2222222222222222,
             "#7201a8"
            ],
            [
             0.3333333333333333,
             "#9c179e"
            ],
            [
             0.4444444444444444,
             "#bd3786"
            ],
            [
             0.5555555555555556,
             "#d8576b"
            ],
            [
             0.6666666666666666,
             "#ed7953"
            ],
            [
             0.7777777777777778,
             "#fb9f3a"
            ],
            [
             0.8888888888888888,
             "#fdca26"
            ],
            [
             1,
             "#f0f921"
            ]
           ],
           "sequentialminus": [
            [
             0,
             "#0d0887"
            ],
            [
             0.1111111111111111,
             "#46039f"
            ],
            [
             0.2222222222222222,
             "#7201a8"
            ],
            [
             0.3333333333333333,
             "#9c179e"
            ],
            [
             0.4444444444444444,
             "#bd3786"
            ],
            [
             0.5555555555555556,
             "#d8576b"
            ],
            [
             0.6666666666666666,
             "#ed7953"
            ],
            [
             0.7777777777777778,
             "#fb9f3a"
            ],
            [
             0.8888888888888888,
             "#fdca26"
            ],
            [
             1,
             "#f0f921"
            ]
           ]
          },
          "colorway": [
           "#636efa",
           "#EF553B",
           "#00cc96",
           "#ab63fa",
           "#FFA15A",
           "#19d3f3",
           "#FF6692",
           "#B6E880",
           "#FF97FF",
           "#FECB52"
          ],
          "font": {
           "color": "#2a3f5f"
          },
          "geo": {
           "bgcolor": "white",
           "lakecolor": "white",
           "landcolor": "#E5ECF6",
           "showlakes": true,
           "showland": true,
           "subunitcolor": "white"
          },
          "hoverlabel": {
           "align": "left"
          },
          "hovermode": "closest",
          "mapbox": {
           "style": "light"
          },
          "paper_bgcolor": "white",
          "plot_bgcolor": "#E5ECF6",
          "polar": {
           "angularaxis": {
            "gridcolor": "white",
            "linecolor": "white",
            "ticks": ""
           },
           "bgcolor": "#E5ECF6",
           "radialaxis": {
            "gridcolor": "white",
            "linecolor": "white",
            "ticks": ""
           }
          },
          "scene": {
           "xaxis": {
            "backgroundcolor": "#E5ECF6",
            "gridcolor": "white",
            "gridwidth": 2,
            "linecolor": "white",
            "showbackground": true,
            "ticks": "",
            "zerolinecolor": "white"
           },
           "yaxis": {
            "backgroundcolor": "#E5ECF6",
            "gridcolor": "white",
            "gridwidth": 2,
            "linecolor": "white",
            "showbackground": true,
            "ticks": "",
            "zerolinecolor": "white"
           },
           "zaxis": {
            "backgroundcolor": "#E5ECF6",
            "gridcolor": "white",
            "gridwidth": 2,
            "linecolor": "white",
            "showbackground": true,
            "ticks": "",
            "zerolinecolor": "white"
           }
          },
          "shapedefaults": {
           "line": {
            "color": "#2a3f5f"
           }
          },
          "ternary": {
           "aaxis": {
            "gridcolor": "white",
            "linecolor": "white",
            "ticks": ""
           },
           "baxis": {
            "gridcolor": "white",
            "linecolor": "white",
            "ticks": ""
           },
           "bgcolor": "#E5ECF6",
           "caxis": {
            "gridcolor": "white",
            "linecolor": "white",
            "ticks": ""
           }
          },
          "title": {
           "x": 0.05
          },
          "xaxis": {
           "automargin": true,
           "gridcolor": "white",
           "linecolor": "white",
           "ticks": "",
           "title": {
            "standoff": 15
           },
           "zerolinecolor": "white",
           "zerolinewidth": 2
          },
          "yaxis": {
           "automargin": true,
           "gridcolor": "white",
           "linecolor": "white",
           "ticks": "",
           "title": {
            "standoff": 15
           },
           "zerolinecolor": "white",
           "zerolinewidth": 2
          }
         }
        },
        "xaxis": {
         "anchor": "y",
         "domain": [
          0,
          0.2888888888888889
         ],
         "showticklabels": false,
         "visible": false
        },
        "xaxis2": {
         "anchor": "y2",
         "domain": [
          0.35555555555555557,
          0.6444444444444445
         ],
         "showticklabels": false,
         "visible": false
        },
        "xaxis3": {
         "anchor": "y3",
         "domain": [
          0.7111111111111111,
          1
         ],
         "showticklabels": false,
         "visible": false
        },
        "xaxis4": {
         "anchor": "y4",
         "domain": [
          0,
          0.2888888888888889
         ],
         "showticklabels": false,
         "visible": false
        },
        "xaxis5": {
         "anchor": "y5",
         "domain": [
          0.35555555555555557,
          0.6444444444444445
         ],
         "showticklabels": false,
         "visible": false
        },
        "xaxis6": {
         "anchor": "y6",
         "domain": [
          0.7111111111111111,
          1
         ],
         "showticklabels": false,
         "visible": false
        },
        "yaxis": {
         "anchor": "x",
         "domain": [
          0.6499999999999999,
          0.9999999999999999
         ]
        },
        "yaxis2": {
         "anchor": "x2",
         "domain": [
          0.6499999999999999,
          0.9999999999999999
         ]
        },
        "yaxis3": {
         "anchor": "x3",
         "domain": [
          0.6499999999999999,
          0.9999999999999999
         ]
        },
        "yaxis4": {
         "anchor": "x4",
         "domain": [
          0,
          0.35
         ]
        },
        "yaxis5": {
         "anchor": "x5",
         "domain": [
          0,
          0.35
         ]
        },
        "yaxis6": {
         "anchor": "x6",
         "domain": [
          0,
          0.35
         ]
        }
       }
      }
     },
     "metadata": {},
     "output_type": "display_data"
    }
   ],
   "source": [
    "fig = make_subplots(\n",
    "        rows=2, cols=3,\n",
    "        vertical_spacing=0.3,\n",
    "        specs=\n",
    "            [[{}, {}, {}],\n",
    "            [{}, {}, {}]],\n",
    "        #subplot_titles=(\"\", \"\", \"\", \"Average Cluster Traits\")\n",
    "    )\n",
    "row1=1\n",
    "col1=1\n",
    "\n",
    "for item in ['PLGENACL', 'AverageAge', 'forwardCosts', 'affectedDemographicIndex', 'PLSO2AN', 'CO2limitsOppose']:\n",
    "    for i in range(1, 7):\n",
    "        fig.add_trace(go.Box(y=total[item][total['superCluster']==i], name=labelsList[i-1], showlegend=False, line_color = px.colors.qualitative.Plotly_r[i]), row=row1, col=col1)\n",
    "    col1+=1\n",
    "    if col1==4:\n",
    "        col1=1\n",
    "    if col1==1:\n",
    "        row1=2\n",
    "\n",
    "\n",
    "fig.update_xaxes(visible=False, showticklabels=False)\n",
    "fig.update_layout(font = dict(size=9), )"
   ]
  },
  {
   "cell_type": "code",
   "execution_count": 566,
   "id": "87b54282",
   "metadata": {},
   "outputs": [
    {
     "data": {
      "application/vnd.plotly.v1+json": {
       "config": {
        "plotlyServerURL": "https://plot.ly"
       },
       "data": [
        {
         "fill": "toself",
         "line": {
          "color": "#FF97FF"
         },
         "name": "Highest SO2 Emitters",
         "r": [
          0.95996859138982,
          0.9045901045598901,
          0.06767017914294371,
          0.9999999999999999,
          0.7082632183134101,
          0.759960074286824
         ],
         "subplot": "polar",
         "theta": [
          "Annual Generation",
          "Average Age",
          "Forward Costs",
          "SO2 Emissions",
          "Affected DAC within 3 miles",
          "Public Support for Coal Power"
         ],
         "type": "scatterpolar"
        },
        {
         "fill": "toself",
         "line": {
          "color": "#B6E880"
         },
         "name": "Large Env. Impacts, Pro-Coal Public Sentiment",
         "r": [
          0.9296459141909112,
          0.9301519898749437,
          0.33630138015426897,
          0.8371323858853783,
          0.769724299749662,
          0.7536058098437608
         ],
         "subplot": "polar2",
         "theta": [
          "Annual Generation",
          "Average Age",
          "Forward Costs",
          "SO2 Emissions",
          "Affected DAC within 3 miles",
          "Public Support for Coal Power"
         ],
         "type": "scatterpolar"
        },
        {
         "fill": "toself",
         "line": {
          "color": "#FF6692"
         },
         "name": "High DAC & Community Impacts",
         "r": [
          0.4306084837779003,
          0.9114115572530587,
          0.903967134240879,
          0.5394873344254593,
          0.9164388721404277,
          0.3505474188973136
         ],
         "subplot": "polar3",
         "theta": [
          "Annual Generation",
          "Average Age",
          "Forward Costs",
          "SO2 Emissions",
          "Affected DAC within 3 miles",
          "Public Support for Coal Power"
         ],
         "type": "scatterpolar"
        },
        {
         "fill": "toself",
         "line": {
          "color": "#19D3F3"
         },
         "name": "Minimal DAC and Community Impacts",
         "r": [
          0.4996309116820812,
          0.738770993524142,
          0,
          0.49729622517103633,
          0,
          0.7534456991862772
         ],
         "subplot": "polar4",
         "theta": [
          "Annual Generation",
          "Average Age",
          "Forward Costs",
          "SO2 Emissions",
          "Affected DAC within 3 miles",
          "Public Support for Coal Power"
         ],
         "type": "scatterpolar"
        },
        {
         "fill": "toself",
         "line": {
          "color": "#FFA15A"
         },
         "name": "Newer Plants, Anti-Coal Public Sentiment",
         "r": [
          0.8924340317243187,
          0,
          0.20981508232784352,
          0.7416120926124081,
          0.8698562746399501,
          0.3115530345395716
         ],
         "subplot": "polar5",
         "theta": [
          "Annual Generation",
          "Average Age",
          "Forward Costs",
          "SO2 Emissions",
          "Affected DAC within 3 miles",
          "Public Support for Coal Power"
         ],
         "type": "scatterpolar"
        },
        {
         "fill": "toself",
         "line": {
          "color": "#AB63FA"
         },
         "name": "Un-Grouped",
         "r": [
          0.5661587522247099,
          0.757011172523086,
          0.7346469613475092,
          0.5686471327295874,
          0.8672496810347647,
          0.6030694167721999
         ],
         "subplot": "polar6",
         "theta": [
          "Annual Generation",
          "Average Age",
          "Forward Costs",
          "SO2 Emissions",
          "Affected DAC within 3 miles",
          "Public Support for Coal Power"
         ],
         "type": "scatterpolar"
        },
        {
         "line": {
          "color": "#FF97FF"
         },
         "name": "Highest SO2 Emitters",
         "showlegend": false,
         "type": "box",
         "xaxis": "x",
         "y": [
          6935333.3,
          5655524.342,
          2380181.1,
          6877598.6,
          6177368.5,
          7636894.3,
          11746800,
          6672860.3,
          3942162.9,
          5435412.7,
          4211527.6,
          3293687.4,
          9806297.3,
          6672378.3,
          16476659,
          12871066.8,
          13083094
         ],
         "yaxis": "y"
        },
        {
         "line": {
          "color": "#B6E880"
         },
         "name": "Large Env. Impacts, Pro-Coal Public Sentiment",
         "showlegend": false,
         "type": "box",
         "xaxis": "x",
         "y": [
          4368299.8,
          6626028.1,
          4185414.919,
          6023753.6,
          5059110,
          2272890.27,
          4703090.3,
          5183235.7,
          13008129.541,
          11266204,
          16228030,
          6993094.8,
          6210633.1,
          6627915.5,
          4912651.4,
          3835304.6,
          5233075.6,
          2962645.7,
          3590942.3,
          2679313.31,
          2365421.4,
          4002624.75,
          4281018.4,
          2384708.5,
          1068678.5,
          3020365.7,
          179997.59,
          2749888.3,
          1477642.83,
          4045913,
          4781555.3,
          6750382.634,
          12494609,
          7507417.64,
          7926040,
          8737451.6,
          9898976.425,
          9022458.8,
          7291356.7,
          10398008,
          10865536,
          3545500.2,
          6126058.4,
          4360103.3,
          6004734.777,
          2461426.7,
          4872555.939,
          3311614.1,
          2527561.6,
          2894158.2,
          1630144.8,
          6742780.1,
          1025376.3,
          4644447.524,
          6637980.9,
          5249106.4,
          2985973.7,
          4658325.8,
          4316220,
          8213150.3,
          2307368.2,
          4513139,
          6951719.7,
          7991707.84,
          10452652,
          9454308.3,
          7219247.2,
          8439307.308,
          7976364.4,
          8743319.713,
          2633174.391,
          2580328.7,
          1105331.8,
          2380212.6,
          2179217,
          1100657.9,
          1779944.7,
          2518469,
          2625834.5,
          361281.26,
          2028891.3,
          2672056,
          1423544.7,
          1648222.1,
          1810829.9,
          5656227.3,
          7473954.7,
          4720666.1,
          4686299.8,
          1728655.2,
          927824.88,
          7512258.2,
          906220.89,
          1125777.1,
          1121751.8,
          5143217.781,
          2272710.6,
          1819413.234,
          1177329.71,
          3059662.8,
          1250006.4,
          487210.64,
          190198.06,
          556155.4,
          1638212.6,
          3266095.5,
          2582192.8,
          904128.42,
          3146865.2,
          2202189.2,
          2033049.8,
          757096.67,
          3099996.2,
          3649414.4
         ],
         "yaxis": "y"
        },
        {
         "line": {
          "color": "#FF6692"
         },
         "name": "High DAC & Community Impacts",
         "showlegend": false,
         "type": "box",
         "xaxis": "x",
         "y": [
          149882.79,
          385257.49,
          310601.35,
          751.139,
          145268.36,
          1233396.2,
          59527.332,
          5301.002,
          49230.004,
          706063.95,
          639124.15,
          143691.53,
          2267803,
          75598.315,
          102274.17,
          842319.641,
          168055.64,
          628214.38,
          674260.109,
          593563.48,
          325321.02,
          32361.715,
          495749.99,
          828307.56,
          935389.08,
          1886115,
          314886.57,
          1471896.78,
          204664.52,
          891907.81,
          1069296.2,
          842101.26,
          1601262.4,
          1392263.1,
          626612.16,
          2280598.79,
          231980.589,
          64924.767,
          178956.45,
          76169.463,
          127490.34,
          517839.61,
          32426.273,
          1560.339,
          221088.68,
          304223.88,
          1502521.75,
          37247.551,
          260973.494,
          786020.33,
          232567.574,
          541611.5,
          449523.09,
          1565952.938,
          197281.7,
          461428.26,
          51043.412,
          530191.18,
          633536.22,
          289822.1,
          952767.33,
          717177.369,
          319574.74,
          652948.06,
          25908,
          188212,
          406049.73,
          441945.88,
          474772.28,
          30888,
          532630.15,
          370465.21,
          63793.573,
          39471.262,
          43541.171,
          8048.552,
          24948,
          6621,
          290290.854,
          68739,
          72878,
          12645.85,
          6276.615,
          36295.311,
          5327.927,
          610313.17,
          321376.09,
          748237.45,
          1810013.4,
          565568.69,
          1988637.4,
          1738479.2,
          1097219.3,
          1066366.2,
          386348,
          32369.281,
          8334.646,
          27576,
          148639.95
         ],
         "yaxis": "y"
        },
        {
         "line": {
          "color": "#19D3F3"
         },
         "name": "Minimal DAC and Community Impacts",
         "showlegend": false,
         "type": "box",
         "xaxis": "x",
         "y": [
          1440743.7,
          2315563.7,
          3254162.7,
          60937,
          28000,
          29736,
          35512,
          26025,
          152873.74,
          146837.09,
          271763.14,
          697581.47,
          715213.63,
          841878.16,
          3203757.2
         ],
         "yaxis": "y"
        },
        {
         "line": {
          "color": "#FFA15A"
         },
         "name": "Newer Plants, Anti-Coal Public Sentiment",
         "showlegend": false,
         "type": "box",
         "xaxis": "x",
         "y": [
          3513154.1,
          3227992.9,
          4562672,
          4938684,
          5292379.8,
          7732785.26,
          3980633.7,
          4077503.6,
          3552639.6,
          1541002.3
         ],
         "yaxis": "y"
        },
        {
         "line": {
          "color": "#AB63FA"
         },
         "name": "Un-Grouped",
         "showlegend": false,
         "type": "box",
         "xaxis": "x",
         "y": [
          650300.66,
          2320634.3,
          7940196.5,
          5625204.5,
          1165146.704,
          174575.01,
          30477.607,
          2689187.21,
          68.22,
          15807.397,
          16061.295,
          44782.765,
          45774.682,
          182404,
          4993.714,
          929925.38,
          1083103,
          1623749.7
         ],
         "yaxis": "y"
        },
        {
         "line": {
          "color": "#FF97FF"
         },
         "name": "Highest SO2 Emitters",
         "showlegend": false,
         "type": "box",
         "xaxis": "x2",
         "y": [
          38.5,
          34,
          38,
          50,
          42,
          24.0673575129534,
          41,
          42.4991926803014,
          38.5,
          28,
          34.5,
          41,
          39.8632344343759,
          42.5,
          47.4604084707458,
          41,
          44.5
         ],
         "yaxis": "y2"
        },
        {
         "line": {
          "color": "#B6E880"
         },
         "name": "Large Env. Impacts, Pro-Coal Public Sentiment",
         "showlegend": false,
         "type": "box",
         "xaxis": "x2",
         "y": [
          63.8333333333333,
          41.8039832285115,
          41.7658536585366,
          50.8157149598867,
          51.5,
          40,
          55.25,
          42.5,
          8.51063829787234,
          7,
          33.25,
          21.6260869565217,
          20.046274214468,
          35,
          24.7696414487654,
          23.2299901992813,
          46.3690876397467,
          47.2485089463221,
          48,
          38.4365030359164,
          39.5,
          32.5,
          44.5,
          45,
          48,
          55.8903225806452,
          42,
          51.5,
          64.4117647058823,
          46.3200992555831,
          52.3544551229842,
          45.21348026653,
          46.2491767288694,
          48.5,
          35,
          38.5084436884947,
          40.0013926950896,
          48.5432886619868,
          51.5,
          46.8350610379868,
          46,
          65,
          42.4492010993618,
          48,
          44.184001501032,
          50.7692307692308,
          39.5,
          39.5,
          39,
          35.5,
          39,
          32.5,
          11,
          64,
          38.6666666666667,
          39,
          46.9634146341463,
          44.4509536784741,
          52.6890045543266,
          39.5,
          35,
          43.4344933963174,
          37.8142336789017,
          37.6666666666667,
          43.0035627994594,
          46,
          28.2403481504507,
          16.4908935076066,
          38.6629469946741,
          37.1863905325444,
          42,
          36.5,
          39,
          28.5,
          34,
          33,
          35.5,
          38,
          48.6770649895178,
          37,
          47.490760636012,
          46,
          40,
          44,
          41,
          33.4827548924208,
          49.5,
          39.3961038961039,
          51.1449711260828,
          41,
          35.9555555555556,
          21.1228338430173,
          46.4595588235294,
          51,
          40,
          46.5,
          38,
          36,
          28,
          38,
          39,
          24,
          32,
          27,
          38,
          36,
          39.5,
          15.0582793709528,
          40.9416597213954,
          15,
          36.5,
          29,
          48.7414248021108,
          65.1111111111111
         ],
         "yaxis": "y2"
        },
        {
         "line": {
          "color": "#FF6692"
         },
         "name": "High DAC & Community Impacts",
         "showlegend": false,
         "type": "box",
         "xaxis": "x2",
         "y": [
          55.5,
          58.5714285714286,
          50,
          35.5,
          51.3209302325581,
          23.5,
          27,
          26,
          13,
          7,
          33,
          35,
          40.75,
          23,
          39,
          44,
          46.9840150179191,
          36,
          40,
          35,
          42,
          36,
          55.9029296020988,
          48.5,
          50,
          35,
          41.2267657992565,
          51.5,
          37,
          47.9677419354839,
          46,
          45.5,
          56.3358134920635,
          35,
          52,
          61.1950286806883,
          61,
          54.9232323232323,
          58.6666666666667,
          58.891975308642,
          52.979094076655,
          59.8526645768025,
          52.3258785942492,
          47.6448598130841,
          38,
          56,
          45,
          52.1857585139319,
          51,
          61,
          49,
          49,
          48.6649449809117,
          59,
          57.1020092735703,
          59.1304347826087,
          55.0727272727273,
          40.664395229983,
          32,
          30,
          21,
          11,
          27,
          30,
          33,
          60.33333333333326,
          58.78571428571422,
          26,
          26,
          32,
          28.83333333333326,
          30,
          53,
          30,
          37.75,
          25,
          33,
          22,
          52.33333333333326,
          56.5,
          57,
          44,
          70,
          59.5,
          51.6666666666667,
          58.9152119700748,
          47.1707670043415,
          31.7900615085788,
          50.4255319148936,
          46,
          50,
          52.9230769230769,
          34,
          38,
          31,
          29,
          40,
          32,
          29
         ],
         "yaxis": "y2"
        },
        {
         "line": {
          "color": "#19D3F3"
         },
         "name": "Minimal DAC and Community Impacts",
         "showlegend": false,
         "type": "box",
         "xaxis": "x2",
         "y": [
          36,
          37,
          33,
          30,
          30,
          55.5,
          55,
          65.5,
          47.5,
          54.66666666666674,
          30,
          17,
          12,
          10,
          8
         ],
         "yaxis": "y2"
        },
        {
         "line": {
          "color": "#FFA15A"
         },
         "name": "Newer Plants, Anti-Coal Public Sentiment",
         "showlegend": false,
         "type": "box",
         "xaxis": "x2",
         "y": [
          7,
          9,
          6,
          8,
          16.0554016620499,
          8.5,
          26.1298844248762,
          21.0089899524061,
          27.5,
          21.7449392712551
         ],
         "yaxis": "y2"
        },
        {
         "line": {
          "color": "#AB63FA"
         },
         "name": "Un-Grouped",
         "showlegend": false,
         "type": "box",
         "xaxis": "x2",
         "y": [
          24,
          18,
          45.8697764820214,
          33.5,
          28,
          40,
          40,
          7,
          40,
          40,
          40,
          40,
          40,
          10,
          9,
          31.5,
          48.5,
          51.7048152721056
         ],
         "yaxis": "y2"
        },
        {
         "line": {
          "color": "#FF97FF"
         },
         "name": "Highest SO2 Emitters",
         "showlegend": false,
         "type": "box",
         "xaxis": "x3",
         "y": [
          17.7686985534102,
          33.82499921093063,
          46.10447815547809,
          24.8194898749141,
          27.68233328044696,
          22.55393609248027,
          41.35741940578214,
          26.22173756145437,
          32.36688315829598,
          35.83408050946259,
          33.71634107987643,
          30.60836201420702,
          28.90083326091658,
          29.48520145168671,
          23.78183612541012,
          30.12127637919276,
          34.36934710393676
         ],
         "yaxis": "y3"
        },
        {
         "line": {
          "color": "#B6E880"
         },
         "name": "Large Env. Impacts, Pro-Coal Public Sentiment",
         "showlegend": false,
         "type": "box",
         "xaxis": "x3",
         "y": [
          41.4221940887211,
          34.95894877573699,
          28.35325107530451,
          47.77063168466438,
          34.89011156004939,
          56.96685367689226,
          null,
          35.25997988586202,
          26.45846789100256,
          26.44877214085489,
          29.16791611795626,
          21.10219901775509,
          41.50673409488435,
          39.75009120762478,
          22.02619757380564,
          36.61806187725021,
          55.40697876001774,
          35.98680312959274,
          45.77672273666127,
          48.71769547301668,
          34.97812960208947,
          61.34161461359248,
          47.14438681819911,
          70.37984584008743,
          62.21347198408596,
          38.75355296099717,
          64.0573986252686,
          36.80031042962078,
          56.12068778686039,
          36.5108164205981,
          45.08337522943447,
          31.50619246088777,
          32.19240411440666,
          32.34352810772269,
          null,
          33.38968846809694,
          34.79907335758241,
          32.07671092948571,
          28.58163601428612,
          38.8913805808987,
          27.34965194854932,
          35.48307661769463,
          30.12391481674996,
          40.94226052447277,
          28.96004236009545,
          46.88062600631688,
          34.57157513596474,
          36.32928996192542,
          27.99179096667748,
          36.47495914695248,
          42.67261999413228,
          32.58958931422833,
          43.3591201136489,
          41.03721677625789,
          38.69929559799512,
          26.99166989357789,
          35.66884121423095,
          27.24753037621396,
          25.89326275076839,
          24.34510182652009,
          30.4092276521151,
          36.55445095705307,
          33.40673524504054,
          29.05039917416735,
          41.39039958468649,
          30.56045186951857,
          32.70454602303808,
          24.73154550310451,
          29.01293766816209,
          26.11187671745742,
          33.01205100424453,
          31.8310434200916,
          32.14215304959185,
          22.82008967803819,
          26.27103251594481,
          36.08033863419345,
          40.84195848039801,
          26.92897792209359,
          46.70443758858576,
          33.82169829101304,
          39.09303680408497,
          46.86721182395764,
          46.14121275324291,
          29.58549169732905,
          32.97625860423117,
          34.64156850191705,
          47.91805286435581,
          46.1903487277968,
          66.98345863088947,
          27.94365859902484,
          59.99731290132213,
          37.57020388966903,
          29.47054665573386,
          27.83289592198541,
          29.78953014049829,
          34.77402360276901,
          40.38540557107057,
          31.16478740050017,
          null,
          30.47047024554609,
          30.43206050919556,
          28.45612913761902,
          39.04602097274238,
          35.04034279607156,
          27.98087719028491,
          57.85578706777944,
          48.21332791487313,
          39.77830176526733,
          56.9084902623193,
          30.60923897182601,
          44.69087115773205,
          47.33959926101113,
          30.40230594855005,
          40.19303212661201
         ],
         "yaxis": "y3"
        },
        {
         "line": {
          "color": "#FF6692"
         },
         "name": "High DAC & Community Impacts",
         "showlegend": false,
         "type": "box",
         "xaxis": "x3",
         "y": [
          null,
          34.63855631263223,
          38.21954974028614,
          null,
          95.03701960105111,
          62.92623758469734,
          46.09935300401208,
          37.96150641052709,
          42.80143970695998,
          48.78832181984009,
          119.5366941229609,
          82.3397156182977,
          92.1118558758054,
          166.4891725441887,
          139.8955320089371,
          37.61642957001135,
          68.8478961640067,
          69.14342550659204,
          47.55496757664282,
          35.37863431518285,
          62.43103634837038,
          60.63187753808307,
          42.74479946253044,
          54.33613388443941,
          45.07245636149928,
          27.88367371170884,
          53.34853025838789,
          40.60971866022889,
          45.32847811549217,
          48.58822503867616,
          41.49284524006848,
          49.02368172769818,
          37.61383300418267,
          61.1683647808416,
          48.99669398965931,
          39.19853367665187,
          55.01012747394319,
          121.596077424444,
          194.6492519335937,
          89.56147125427117,
          87.47889771053259,
          94.85603962711085,
          112.9906318901612,
          513.9275208566435,
          63.86693982470275,
          53.21076806488875,
          68.84681248329755,
          71.74197633953789,
          44.41652614827063,
          46.46696239675534,
          60.79651321874672,
          51.09434061716587,
          35.75461227592406,
          58.05957652486015,
          58.60790907262086,
          66.2859782008946,
          58.16378532856844,
          27.66878136447666,
          null,
          null,
          null,
          null,
          null,
          null,
          null,
          null,
          null,
          null,
          null,
          null,
          null,
          null,
          null,
          null,
          null,
          null,
          null,
          null,
          null,
          null,
          null,
          null,
          null,
          397.8125580203363,
          161.9068471851586,
          41.97488415930093,
          30.96846485118937,
          46.11739302711295,
          28.96721016965468,
          43.99706432697267,
          27.08821467990169,
          25.24765960058657,
          43.55450449291699,
          36.99258549230899,
          null,
          null,
          null,
          null,
          null
         ],
         "yaxis": "y3"
        },
        {
         "line": {
          "color": "#19D3F3"
         },
         "name": "Minimal DAC and Community Impacts",
         "showlegend": false,
         "type": "box",
         "xaxis": "x3",
         "y": [
          27.24024653967512,
          44.34815071123089,
          26.79293347074842,
          null,
          null,
          null,
          null,
          null,
          null,
          null,
          null,
          null,
          null,
          null,
          21.5310512763465
         ],
         "yaxis": "y3"
        },
        {
         "line": {
          "color": "#FFA15A"
         },
         "name": "Newer Plants, Anti-Coal Public Sentiment",
         "showlegend": false,
         "type": "box",
         "xaxis": "x3",
         "y": [
          28.87781279892828,
          35.99853692884556,
          31.54202349410252,
          30.77672164864343,
          28.52961591797585,
          34.28214296124639,
          27.13855596827596,
          32.04031370800105,
          37.11515503329683,
          36.51357044322227
         ],
         "yaxis": "y3"
        },
        {
         "line": {
          "color": "#AB63FA"
         },
         "name": "Un-Grouped",
         "showlegend": false,
         "type": "box",
         "xaxis": "x3",
         "y": [
          27.06907498807751,
          42.5535862376061,
          53.52386020204078,
          56.06723259367504,
          null,
          null,
          null,
          null,
          null,
          null,
          null,
          null,
          null,
          null,
          null,
          55.49917978245082,
          54.81901670659555,
          75.74671017002709
         ],
         "yaxis": "y3"
        },
        {
         "line": {
          "color": "#FF97FF"
         },
         "name": "Highest SO2 Emitters",
         "showlegend": false,
         "type": "box",
         "xaxis": "x4",
         "y": [
          480,
          1023,
          2592,
          2080,
          21528,
          1840,
          159360,
          60860,
          83538,
          32544,
          116033,
          36126,
          57096,
          19290,
          19737,
          31610,
          75915
         ],
         "yaxis": "y4"
        },
        {
         "line": {
          "color": "#B6E880"
         },
         "name": "Large Env. Impacts, Pro-Coal Public Sentiment",
         "showlegend": false,
         "type": "box",
         "xaxis": "x4",
         "y": [
          577840,
          388124,
          60993,
          89244,
          183596,
          89180,
          10736,
          17000,
          4092,
          1244,
          33831,
          2080,
          85483,
          24432,
          102780,
          107960,
          58227,
          118625,
          56856,
          51084,
          17679,
          94878,
          77088,
          85860,
          60453,
          179120,
          28224,
          35216,
          361692,
          11655,
          111348,
          62307,
          426600,
          63756,
          83572,
          45680,
          117880,
          167040,
          27352,
          193704,
          176523,
          35156,
          53240,
          43750,
          9780,
          8844,
          54990,
          48866,
          32428,
          46410,
          1,
          1,
          30,
          95544,
          9636,
          130980,
          205,
          841,
          2703,
          117,
          11628,
          1950,
          9666,
          1728,
          33,
          41895,
          62340,
          18828,
          26044,
          4352,
          0,
          7605,
          45168,
          7236,
          12508,
          1144,
          1241,
          337,
          5880,
          101916,
          2304,
          3538,
          15844,
          28920,
          304850,
          4964,
          21432,
          7881,
          5160,
          131428,
          1,
          1,
          46170,
          27210,
          156519,
          35711,
          28208,
          27820,
          1215076,
          32886,
          213246,
          34485,
          35262,
          119814,
          867566,
          4,
          147,
          152892,
          78318,
          61225,
          19754,
          176286,
          672672,
          293472
         ],
         "yaxis": "y4"
        },
        {
         "line": {
          "color": "#FF6692"
         },
         "name": "High DAC & Community Impacts",
         "showlegend": false,
         "type": "box",
         "xaxis": "x4",
         "y": [
          122185,
          1252881,
          290913,
          41718,
          266255,
          42408,
          372608,
          14916,
          343520,
          101136,
          10209,
          10857,
          40979,
          108960,
          494505,
          2392,
          43378,
          49680,
          3124,
          7448,
          5882,
          438064,
          494,
          9804,
          20184,
          1728,
          209716,
          15428,
          24062,
          12630,
          31104,
          472099,
          89565,
          461616,
          291356,
          77344,
          132779,
          591033,
          13824,
          294305,
          142284,
          668835,
          1714986,
          1926765,
          252680,
          1519012,
          1754235,
          1673520,
          777404,
          422365,
          310604,
          1069926,
          627792,
          446082,
          377487,
          273280,
          1093638,
          831836,
          881708,
          89768,
          465150,
          823410,
          78883,
          899199,
          1260180,
          2060160,
          1324862,
          958208,
          868248,
          1136520,
          851800,
          349058,
          337064,
          425068,
          1209400,
          1056760,
          1960757,
          2085300,
          103478,
          1408320,
          124271,
          74700,
          149182,
          4761204,
          6537893,
          5391295,
          4104932,
          1878360,
          901005,
          1062328,
          2063490,
          3029492,
          1322208,
          2151450,
          3400056,
          3517869,
          4414793,
          4840420,
          6855156
         ],
         "yaxis": "y4"
        },
        {
         "line": {
          "color": "#19D3F3"
         },
         "name": "Minimal DAC and Community Impacts",
         "showlegend": false,
         "type": "box",
         "xaxis": "x4",
         "y": [
          1,
          43,
          1,
          1,
          1,
          1,
          1,
          1,
          1,
          1,
          285,
          135836,
          129456,
          129398,
          987
         ],
         "yaxis": "y4"
        },
        {
         "line": {
          "color": "#FFA15A"
         },
         "name": "Newer Plants, Anti-Coal Public Sentiment",
         "showlegend": false,
         "type": "box",
         "xaxis": "x4",
         "y": [
          28350,
          237249,
          68284,
          358470,
          189144,
          185218,
          479343,
          114520,
          1030960,
          975528
         ],
         "yaxis": "y4"
        },
        {
         "line": {
          "color": "#AB63FA"
         },
         "name": "Un-Grouped",
         "showlegend": false,
         "type": "box",
         "xaxis": "x4",
         "y": [
          135836,
          14256,
          202878,
          41976,
          534450,
          2247414,
          1250957,
          12880,
          1256280,
          125776,
          67730,
          701916,
          495,
          286824,
          1923100,
          710116,
          96635,
          528150
         ],
         "yaxis": "y4"
        },
        {
         "line": {
          "color": "#FF97FF"
         },
         "name": "Highest SO2 Emitters",
         "showlegend": false,
         "type": "box",
         "xaxis": "x5",
         "y": [
          18175.8,
          11316.1,
          11974.8,
          13702.2,
          12032.7,
          11479.6,
          13393.3,
          16729.5,
          10711.1,
          9628.088,
          14597.8,
          8183.9,
          23865.1,
          17321.4,
          39391.899,
          43582.9,
          28188.515
         ],
         "yaxis": "y5"
        },
        {
         "line": {
          "color": "#B6E880"
         },
         "name": "Large Env. Impacts, Pro-Coal Public Sentiment",
         "showlegend": false,
         "type": "box",
         "xaxis": "x5",
         "y": [
          2537,
          2889.3,
          490.9,
          3085.4,
          3218.7,
          180.6,
          3963.073,
          1662.4,
          8804.7,
          9772,
          870.6,
          811.6,
          2609.9,
          4974.4,
          5634.273,
          818.9,
          2637.4,
          3680.5,
          871.15,
          759.8,
          356.7,
          6915.781,
          1873.4,
          760.1,
          232.7,
          111.6,
          171.7,
          1199.5,
          872.8,
          1474.8,
          1702.9,
          3956.3,
          3782.6,
          2758,
          3502.4,
          3712.555,
          8600.8,
          9987.698,
          13011.2,
          4381.023,
          9274.9,
          8242.9,
          4348.2,
          1900.9,
          725,
          2029.4,
          7646.1,
          8168.9,
          8114.9,
          7989.3,
          2576.6,
          2207.2,
          117.4,
          3320.2,
          902.6,
          2678.573,
          1719.8,
          2676.9,
          7008.7,
          4770.612,
          4481.1,
          1626.3,
          2721.3,
          5261,
          8792.4,
          7378.931,
          3498.527,
          3748,
          2957.1,
          912.5,
          4632.3,
          1587.9,
          2172.6,
          2372.8,
          1793.8,
          748.3,
          4662.4,
          919.5,
          1283.6,
          369.1,
          1484,
          721.5,
          709.1,
          575.843,
          536.1,
          4920.7,
          1339.8,
          1355.2,
          2008.3,
          1686.2,
          1919.1,
          6082.4,
          2927.2,
          2722,
          2286.5,
          1549.6,
          1932.2,
          2870.2,
          14517.452,
          1631.8,
          512.7,
          1564.6,
          319.9,
          1590.4,
          4265.5,
          2657,
          60.1,
          2014.7,
          1860.6,
          6313.5,
          3447.1,
          366.8,
          6532.2,
          9024.6
         ],
         "yaxis": "y5"
        },
        {
         "line": {
          "color": "#FF6692"
         },
         "name": "High DAC & Community Impacts",
         "showlegend": false,
         "type": "box",
         "xaxis": "x5",
         "y": [
          225.7,
          587.9,
          645.8,
          1.312,
          46.9,
          378.5,
          39.5,
          335.5,
          50,
          69.1,
          3107,
          460.4,
          1299.7,
          44.1,
          279.2,
          1660.3,
          335.7,
          867.3,
          1103.089,
          421.5,
          111.6,
          33.3,
          1459.7,
          84.1,
          247.4,
          734.9,
          264.6,
          732.9,
          569.7,
          643.4,
          1101.1,
          638.9,
          7156.7,
          3580.4,
          228.6,
          1046.7,
          19.2,
          615.8,
          129,
          283.8,
          96.104,
          91.2,
          439.8,
          46.815,
          364.7,
          230.7,
          694.7,
          217.436,
          885.3,
          490.5,
          853.3,
          1011.2,
          586.9,
          629.6,
          749.5,
          1384.2,
          1213.583,
          491.7,
          688.839,
          1358.9,
          622.584,
          1162.336,
          3300.598,
          924.375,
          583.082,
          260.498,
          738.395,
          362.817,
          386.164,
          51.292,
          330.346,
          82.005,
          737.668,
          77.829,
          118.112,
          5.1,
          53.305,
          119.631,
          0.449,
          68.678,
          87.799,
          22.128,
          21.052,
          246.1,
          25.4,
          416.5,
          67.7,
          400.1,
          225.6,
          1804.2,
          929.5,
          5446.7,
          294.5,
          1210.8,
          6398.467,
          242.962,
          12.491,
          43.859,
          3270.29
         ],
         "yaxis": "y5"
        },
        {
         "line": {
          "color": "#19D3F3"
         },
         "name": "Minimal DAC and Community Impacts",
         "showlegend": false,
         "type": "box",
         "xaxis": "x5",
         "y": [
          1054.2,
          10411.7,
          764.9,
          102.7,
          54.565,
          57.947,
          63.592,
          50.715,
          11.815,
          5.809,
          3858.155,
          426.4,
          205.9,
          202.4,
          1006.3
         ],
         "yaxis": "y5"
        },
        {
         "line": {
          "color": "#FFA15A"
         },
         "name": "Newer Plants, Anti-Coal Public Sentiment",
         "showlegend": false,
         "type": "box",
         "xaxis": "x5",
         "y": [
          658.1,
          2270.3,
          2324.9,
          1969,
          755.6,
          472.5,
          1884.5,
          588.5,
          2241.788,
          1967.5
         ],
         "yaxis": "y5"
        },
        {
         "line": {
          "color": "#AB63FA"
         },
         "name": "Un-Grouped",
         "showlegend": false,
         "type": "box",
         "xaxis": "x5",
         "y": [
          316.4,
          2344.1,
          6097.8,
          529,
          3528.688,
          77.198,
          219.032,
          58.9,
          0.3,
          70.075,
          428.134,
          76.5,
          2.023,
          35.504,
          0,
          686.7,
          666.7,
          567.4
         ],
         "yaxis": "y5"
        },
        {
         "line": {
          "color": "#FF97FF"
         },
         "name": "Highest SO2 Emitters",
         "showlegend": false,
         "type": "box",
         "xaxis": "x6",
         "y": [
          59.375,
          62.867,
          62.867,
          52.285,
          54.383,
          46.362,
          60.111,
          31.99,
          36.557,
          40.428,
          38.291,
          44.373,
          30.472,
          44.471,
          44.89,
          59.361,
          62.78
         ],
         "yaxis": "y6"
        },
        {
         "line": {
          "color": "#B6E880"
         },
         "name": "Large Env. Impacts, Pro-Coal Public Sentiment",
         "showlegend": false,
         "type": "box",
         "xaxis": "x6",
         "y": [
          50.745,
          32.916,
          43.397,
          37.504,
          35.338,
          45.274,
          46.295,
          38.635,
          47.487,
          33.6,
          29.217,
          36.734,
          39.875,
          42.835,
          40.716,
          36.885,
          52.024,
          49.871,
          48.92,
          50.625,
          59.302,
          55.768,
          46.504,
          44.119,
          46.406,
          25.9,
          62.135,
          41.711,
          46.543,
          47.565,
          51.033,
          41.469,
          39.453,
          49.871,
          54.314,
          45.717,
          57.557,
          51.033,
          47.895,
          53.217,
          47.923,
          58.442,
          59.32,
          57.537,
          58.856,
          58.419,
          61.567,
          57.988,
          56.465,
          56.501,
          55.247,
          60.673,
          58.757,
          62.78,
          57.336,
          60.753,
          62.867,
          59.812,
          62.373,
          57.289,
          60.429,
          63.109,
          59.404,
          61.105,
          57.818,
          60.442,
          57.677,
          53.47,
          63.109,
          60.471,
          58.653,
          58.394,
          56.326,
          47.487,
          47.093,
          55.5,
          56.438,
          44.046,
          37.519,
          39.644,
          33.899,
          39.875,
          42.548,
          45.764,
          38.718,
          54.782,
          53.758,
          53.758,
          62.614,
          56.255,
          47.739,
          39.026,
          41.023,
          35.356,
          48.679,
          42.809,
          41.915,
          40.397,
          36.667,
          39.986,
          36.185,
          40.733,
          41.899,
          39.57,
          43.647,
          38.549,
          39.026,
          42.884,
          36.91,
          49.871,
          48.318,
          46.298,
          33.802,
          45.895
         ],
         "yaxis": "y6"
        },
        {
         "line": {
          "color": "#FF6692"
         },
         "name": "High DAC & Community Impacts",
         "showlegend": false,
         "type": "box",
         "xaxis": "x6",
         "y": [
          23.019,
          39.137,
          33.909,
          38.81,
          48.908,
          42.108,
          39.735,
          39.17,
          34.447,
          44.718,
          47.946,
          37.772,
          36.587,
          37.895,
          33.066,
          40.808,
          50.609,
          52.024,
          40.808,
          28.59,
          40.412,
          41.469,
          30.386,
          25.209,
          32.561,
          29.561,
          52.895,
          52.035,
          57.212,
          46.295,
          46.022,
          43.965,
          38.291,
          44.421,
          42.796,
          42.683,
          47.957,
          31.597,
          20.312,
          27.957,
          30.375,
          38.15,
          38.59,
          36.522,
          26.837,
          29.117,
          36.595,
          33.224,
          23.733,
          28.808,
          33.516,
          24.642,
          44.393,
          36.118,
          38.881,
          46.494,
          42.739,
          39.842,
          41.899,
          40.733,
          41.099,
          37.564,
          47.462,
          41.899,
          40.376,
          35.064,
          45.665,
          31.569,
          33.184,
          30.386,
          33.224,
          32.782,
          34.873,
          41.447,
          35.064,
          34.275,
          32.365,
          29.082,
          34.276,
          35.064,
          35.064,
          40.368,
          47.957,
          37.018,
          23.856,
          26.283,
          36.185,
          33.541,
          26.476,
          30.503,
          30.428,
          30.822,
          36.63,
          27.824,
          36.667,
          21.421,
          23.389,
          34,
          19.354
         ],
         "yaxis": "y6"
        },
        {
         "line": {
          "color": "#19D3F3"
         },
         "name": "Minimal DAC and Community Impacts",
         "showlegend": false,
         "type": "box",
         "xaxis": "x6",
         "y": [
          40.388,
          40.808,
          52.106,
          39.811,
          39.42,
          39.42,
          43.176,
          32.325,
          57.818,
          57.818,
          54.314,
          56.255,
          56.255,
          56.255,
          56.255
         ],
         "yaxis": "y6"
        },
        {
         "line": {
          "color": "#FFA15A"
         },
         "name": "Newer Plants, Anti-Coal Public Sentiment",
         "showlegend": false,
         "type": "box",
         "xaxis": "x6",
         "y": [
          36.327,
          33.457,
          38.219,
          35.338,
          28.783,
          25.9,
          34.79,
          37.01,
          29.336,
          32.885
         ],
         "yaxis": "y6"
        },
        {
         "line": {
          "color": "#AB63FA"
         },
         "name": "Un-Grouped",
         "showlegend": false,
         "type": "box",
         "xaxis": "x6",
         "y": [
          56.255,
          58.062,
          53.061,
          59.673,
          17.772,
          27.654,
          27.905,
          49.373,
          31.112,
          42.198,
          33.99,
          41.899,
          42.8,
          42.111,
          38.307,
          31.597,
          27.496,
          34.82
         ],
         "yaxis": "y6"
        }
       ],
       "layout": {
        "annotations": [
         {
          "font": {
           "size": 12
          },
          "showarrow": false,
          "text": "Annual Generation (MWh/yr)",
          "x": 0.15,
          "xanchor": "center",
          "xref": "paper",
          "y": 0.45,
          "yanchor": "bottom",
          "yref": "paper"
         },
         {
          "font": {
           "size": 12
          },
          "showarrow": false,
          "text": "Average Age",
          "x": 0.49999999999999994,
          "xanchor": "center",
          "xref": "paper",
          "y": 0.45,
          "yanchor": "bottom",
          "yref": "paper"
         },
         {
          "font": {
           "size": 12
          },
          "showarrow": false,
          "text": "Forward Costs ($/MWh)",
          "x": 0.85,
          "xanchor": "center",
          "xref": "paper",
          "y": 0.45,
          "yanchor": "bottom",
          "yref": "paper"
         },
         {
          "font": {
           "size": 12
          },
          "showarrow": false,
          "text": "Affected DAC within 3 Miles",
          "x": 0.15,
          "xanchor": "center",
          "xref": "paper",
          "y": 0.175,
          "yanchor": "bottom",
          "yref": "paper"
         },
         {
          "font": {
           "size": 12
          },
          "showarrow": false,
          "text": "Annual SO2 Emissions (tons/yr)",
          "x": 0.49999999999999994,
          "xanchor": "center",
          "xref": "paper",
          "y": 0.175,
          "yanchor": "bottom",
          "yref": "paper"
         },
         {
          "font": {
           "size": 12
          },
          "showarrow": false,
          "text": "Public Support for Coal Power",
          "x": 0.85,
          "xanchor": "center",
          "xref": "paper",
          "y": 0.175,
          "yanchor": "bottom",
          "yref": "paper"
         }
        ],
        "font": {
         "size": 10
        },
        "height": 700,
        "legend": {
         "orientation": "h",
         "title": {
          "text": "Group"
         },
         "traceorder": "normal",
         "x": 0.5,
         "xanchor": "center",
         "y": -0.15,
         "yanchor": "bottom"
        },
        "polar": {
         "domain": {
          "x": [
           0,
           0.3
          ],
          "y": [
           0.825,
           1
          ]
         },
         "radialaxis": {
          "range": [
           0,
           1
          ],
          "showticklabels": false,
          "visible": true
         }
        },
        "polar2": {
         "domain": {
          "x": [
           0.35,
           0.6499999999999999
          ],
          "y": [
           0.825,
           1
          ]
         },
         "radialaxis": {
          "range": [
           0,
           1
          ],
          "showticklabels": false,
          "visible": true
         }
        },
        "polar3": {
         "domain": {
          "x": [
           0.7,
           1
          ],
          "y": [
           0.825,
           1
          ]
         },
         "radialaxis": {
          "range": [
           0,
           1
          ],
          "showticklabels": false,
          "visible": true
         }
        },
        "polar4": {
         "domain": {
          "x": [
           0,
           0.3
          ],
          "y": [
           0.55,
           0.7250000000000001
          ]
         },
         "radialaxis": {
          "range": [
           0,
           1
          ],
          "showticklabels": false,
          "visible": true
         }
        },
        "polar5": {
         "domain": {
          "x": [
           0.35,
           0.6499999999999999
          ],
          "y": [
           0.55,
           0.7250000000000001
          ]
         },
         "radialaxis": {
          "range": [
           0,
           1
          ],
          "showticklabels": false,
          "visible": true
         }
        },
        "polar6": {
         "domain": {
          "x": [
           0.7,
           1
          ],
          "y": [
           0.55,
           0.7250000000000001
          ]
         },
         "radialaxis": {
          "range": [
           0,
           1
          ],
          "showticklabels": false,
          "visible": true
         }
        },
        "showlegend": true,
        "template": {
         "data": {
          "bar": [
           {
            "error_x": {
             "color": "#2a3f5f"
            },
            "error_y": {
             "color": "#2a3f5f"
            },
            "marker": {
             "line": {
              "color": "#E5ECF6",
              "width": 0.5
             },
             "pattern": {
              "fillmode": "overlay",
              "size": 10,
              "solidity": 0.2
             }
            },
            "type": "bar"
           }
          ],
          "barpolar": [
           {
            "marker": {
             "line": {
              "color": "#E5ECF6",
              "width": 0.5
             },
             "pattern": {
              "fillmode": "overlay",
              "size": 10,
              "solidity": 0.2
             }
            },
            "type": "barpolar"
           }
          ],
          "carpet": [
           {
            "aaxis": {
             "endlinecolor": "#2a3f5f",
             "gridcolor": "white",
             "linecolor": "white",
             "minorgridcolor": "white",
             "startlinecolor": "#2a3f5f"
            },
            "baxis": {
             "endlinecolor": "#2a3f5f",
             "gridcolor": "white",
             "linecolor": "white",
             "minorgridcolor": "white",
             "startlinecolor": "#2a3f5f"
            },
            "type": "carpet"
           }
          ],
          "choropleth": [
           {
            "colorbar": {
             "outlinewidth": 0,
             "ticks": ""
            },
            "type": "choropleth"
           }
          ],
          "contour": [
           {
            "colorbar": {
             "outlinewidth": 0,
             "ticks": ""
            },
            "colorscale": [
             [
              0,
              "#0d0887"
             ],
             [
              0.1111111111111111,
              "#46039f"
             ],
             [
              0.2222222222222222,
              "#7201a8"
             ],
             [
              0.3333333333333333,
              "#9c179e"
             ],
             [
              0.4444444444444444,
              "#bd3786"
             ],
             [
              0.5555555555555556,
              "#d8576b"
             ],
             [
              0.6666666666666666,
              "#ed7953"
             ],
             [
              0.7777777777777778,
              "#fb9f3a"
             ],
             [
              0.8888888888888888,
              "#fdca26"
             ],
             [
              1,
              "#f0f921"
             ]
            ],
            "type": "contour"
           }
          ],
          "contourcarpet": [
           {
            "colorbar": {
             "outlinewidth": 0,
             "ticks": ""
            },
            "type": "contourcarpet"
           }
          ],
          "heatmap": [
           {
            "colorbar": {
             "outlinewidth": 0,
             "ticks": ""
            },
            "colorscale": [
             [
              0,
              "#0d0887"
             ],
             [
              0.1111111111111111,
              "#46039f"
             ],
             [
              0.2222222222222222,
              "#7201a8"
             ],
             [
              0.3333333333333333,
              "#9c179e"
             ],
             [
              0.4444444444444444,
              "#bd3786"
             ],
             [
              0.5555555555555556,
              "#d8576b"
             ],
             [
              0.6666666666666666,
              "#ed7953"
             ],
             [
              0.7777777777777778,
              "#fb9f3a"
             ],
             [
              0.8888888888888888,
              "#fdca26"
             ],
             [
              1,
              "#f0f921"
             ]
            ],
            "type": "heatmap"
           }
          ],
          "heatmapgl": [
           {
            "colorbar": {
             "outlinewidth": 0,
             "ticks": ""
            },
            "colorscale": [
             [
              0,
              "#0d0887"
             ],
             [
              0.1111111111111111,
              "#46039f"
             ],
             [
              0.2222222222222222,
              "#7201a8"
             ],
             [
              0.3333333333333333,
              "#9c179e"
             ],
             [
              0.4444444444444444,
              "#bd3786"
             ],
             [
              0.5555555555555556,
              "#d8576b"
             ],
             [
              0.6666666666666666,
              "#ed7953"
             ],
             [
              0.7777777777777778,
              "#fb9f3a"
             ],
             [
              0.8888888888888888,
              "#fdca26"
             ],
             [
              1,
              "#f0f921"
             ]
            ],
            "type": "heatmapgl"
           }
          ],
          "histogram": [
           {
            "marker": {
             "pattern": {
              "fillmode": "overlay",
              "size": 10,
              "solidity": 0.2
             }
            },
            "type": "histogram"
           }
          ],
          "histogram2d": [
           {
            "colorbar": {
             "outlinewidth": 0,
             "ticks": ""
            },
            "colorscale": [
             [
              0,
              "#0d0887"
             ],
             [
              0.1111111111111111,
              "#46039f"
             ],
             [
              0.2222222222222222,
              "#7201a8"
             ],
             [
              0.3333333333333333,
              "#9c179e"
             ],
             [
              0.4444444444444444,
              "#bd3786"
             ],
             [
              0.5555555555555556,
              "#d8576b"
             ],
             [
              0.6666666666666666,
              "#ed7953"
             ],
             [
              0.7777777777777778,
              "#fb9f3a"
             ],
             [
              0.8888888888888888,
              "#fdca26"
             ],
             [
              1,
              "#f0f921"
             ]
            ],
            "type": "histogram2d"
           }
          ],
          "histogram2dcontour": [
           {
            "colorbar": {
             "outlinewidth": 0,
             "ticks": ""
            },
            "colorscale": [
             [
              0,
              "#0d0887"
             ],
             [
              0.1111111111111111,
              "#46039f"
             ],
             [
              0.2222222222222222,
              "#7201a8"
             ],
             [
              0.3333333333333333,
              "#9c179e"
             ],
             [
              0.4444444444444444,
              "#bd3786"
             ],
             [
              0.5555555555555556,
              "#d8576b"
             ],
             [
              0.6666666666666666,
              "#ed7953"
             ],
             [
              0.7777777777777778,
              "#fb9f3a"
             ],
             [
              0.8888888888888888,
              "#fdca26"
             ],
             [
              1,
              "#f0f921"
             ]
            ],
            "type": "histogram2dcontour"
           }
          ],
          "mesh3d": [
           {
            "colorbar": {
             "outlinewidth": 0,
             "ticks": ""
            },
            "type": "mesh3d"
           }
          ],
          "parcoords": [
           {
            "line": {
             "colorbar": {
              "outlinewidth": 0,
              "ticks": ""
             }
            },
            "type": "parcoords"
           }
          ],
          "pie": [
           {
            "automargin": true,
            "type": "pie"
           }
          ],
          "scatter": [
           {
            "marker": {
             "colorbar": {
              "outlinewidth": 0,
              "ticks": ""
             }
            },
            "type": "scatter"
           }
          ],
          "scatter3d": [
           {
            "line": {
             "colorbar": {
              "outlinewidth": 0,
              "ticks": ""
             }
            },
            "marker": {
             "colorbar": {
              "outlinewidth": 0,
              "ticks": ""
             }
            },
            "type": "scatter3d"
           }
          ],
          "scattercarpet": [
           {
            "marker": {
             "colorbar": {
              "outlinewidth": 0,
              "ticks": ""
             }
            },
            "type": "scattercarpet"
           }
          ],
          "scattergeo": [
           {
            "marker": {
             "colorbar": {
              "outlinewidth": 0,
              "ticks": ""
             }
            },
            "type": "scattergeo"
           }
          ],
          "scattergl": [
           {
            "marker": {
             "colorbar": {
              "outlinewidth": 0,
              "ticks": ""
             }
            },
            "type": "scattergl"
           }
          ],
          "scattermapbox": [
           {
            "marker": {
             "colorbar": {
              "outlinewidth": 0,
              "ticks": ""
             }
            },
            "type": "scattermapbox"
           }
          ],
          "scatterpolar": [
           {
            "marker": {
             "colorbar": {
              "outlinewidth": 0,
              "ticks": ""
             }
            },
            "type": "scatterpolar"
           }
          ],
          "scatterpolargl": [
           {
            "marker": {
             "colorbar": {
              "outlinewidth": 0,
              "ticks": ""
             }
            },
            "type": "scatterpolargl"
           }
          ],
          "scatterternary": [
           {
            "marker": {
             "colorbar": {
              "outlinewidth": 0,
              "ticks": ""
             }
            },
            "type": "scatterternary"
           }
          ],
          "surface": [
           {
            "colorbar": {
             "outlinewidth": 0,
             "ticks": ""
            },
            "colorscale": [
             [
              0,
              "#0d0887"
             ],
             [
              0.1111111111111111,
              "#46039f"
             ],
             [
              0.2222222222222222,
              "#7201a8"
             ],
             [
              0.3333333333333333,
              "#9c179e"
             ],
             [
              0.4444444444444444,
              "#bd3786"
             ],
             [
              0.5555555555555556,
              "#d8576b"
             ],
             [
              0.6666666666666666,
              "#ed7953"
             ],
             [
              0.7777777777777778,
              "#fb9f3a"
             ],
             [
              0.8888888888888888,
              "#fdca26"
             ],
             [
              1,
              "#f0f921"
             ]
            ],
            "type": "surface"
           }
          ],
          "table": [
           {
            "cells": {
             "fill": {
              "color": "#EBF0F8"
             },
             "line": {
              "color": "white"
             }
            },
            "header": {
             "fill": {
              "color": "#C8D4E3"
             },
             "line": {
              "color": "white"
             }
            },
            "type": "table"
           }
          ]
         },
         "layout": {
          "annotationdefaults": {
           "arrowcolor": "#2a3f5f",
           "arrowhead": 0,
           "arrowwidth": 1
          },
          "autotypenumbers": "strict",
          "coloraxis": {
           "colorbar": {
            "outlinewidth": 0,
            "ticks": ""
           }
          },
          "colorscale": {
           "diverging": [
            [
             0,
             "#8e0152"
            ],
            [
             0.1,
             "#c51b7d"
            ],
            [
             0.2,
             "#de77ae"
            ],
            [
             0.3,
             "#f1b6da"
            ],
            [
             0.4,
             "#fde0ef"
            ],
            [
             0.5,
             "#f7f7f7"
            ],
            [
             0.6,
             "#e6f5d0"
            ],
            [
             0.7,
             "#b8e186"
            ],
            [
             0.8,
             "#7fbc41"
            ],
            [
             0.9,
             "#4d9221"
            ],
            [
             1,
             "#276419"
            ]
           ],
           "sequential": [
            [
             0,
             "#0d0887"
            ],
            [
             0.1111111111111111,
             "#46039f"
            ],
            [
             0.2222222222222222,
             "#7201a8"
            ],
            [
             0.3333333333333333,
             "#9c179e"
            ],
            [
             0.4444444444444444,
             "#bd3786"
            ],
            [
             0.5555555555555556,
             "#d8576b"
            ],
            [
             0.6666666666666666,
             "#ed7953"
            ],
            [
             0.7777777777777778,
             "#fb9f3a"
            ],
            [
             0.8888888888888888,
             "#fdca26"
            ],
            [
             1,
             "#f0f921"
            ]
           ],
           "sequentialminus": [
            [
             0,
             "#0d0887"
            ],
            [
             0.1111111111111111,
             "#46039f"
            ],
            [
             0.2222222222222222,
             "#7201a8"
            ],
            [
             0.3333333333333333,
             "#9c179e"
            ],
            [
             0.4444444444444444,
             "#bd3786"
            ],
            [
             0.5555555555555556,
             "#d8576b"
            ],
            [
             0.6666666666666666,
             "#ed7953"
            ],
            [
             0.7777777777777778,
             "#fb9f3a"
            ],
            [
             0.8888888888888888,
             "#fdca26"
            ],
            [
             1,
             "#f0f921"
            ]
           ]
          },
          "colorway": [
           "#636efa",
           "#EF553B",
           "#00cc96",
           "#ab63fa",
           "#FFA15A",
           "#19d3f3",
           "#FF6692",
           "#B6E880",
           "#FF97FF",
           "#FECB52"
          ],
          "font": {
           "color": "#2a3f5f"
          },
          "geo": {
           "bgcolor": "white",
           "lakecolor": "white",
           "landcolor": "#E5ECF6",
           "showlakes": true,
           "showland": true,
           "subunitcolor": "white"
          },
          "hoverlabel": {
           "align": "left"
          },
          "hovermode": "closest",
          "mapbox": {
           "style": "light"
          },
          "paper_bgcolor": "white",
          "plot_bgcolor": "#E5ECF6",
          "polar": {
           "angularaxis": {
            "gridcolor": "white",
            "linecolor": "white",
            "ticks": ""
           },
           "bgcolor": "#E5ECF6",
           "radialaxis": {
            "gridcolor": "white",
            "linecolor": "white",
            "ticks": ""
           }
          },
          "scene": {
           "xaxis": {
            "backgroundcolor": "#E5ECF6",
            "gridcolor": "white",
            "gridwidth": 2,
            "linecolor": "white",
            "showbackground": true,
            "ticks": "",
            "zerolinecolor": "white"
           },
           "yaxis": {
            "backgroundcolor": "#E5ECF6",
            "gridcolor": "white",
            "gridwidth": 2,
            "linecolor": "white",
            "showbackground": true,
            "ticks": "",
            "zerolinecolor": "white"
           },
           "zaxis": {
            "backgroundcolor": "#E5ECF6",
            "gridcolor": "white",
            "gridwidth": 2,
            "linecolor": "white",
            "showbackground": true,
            "ticks": "",
            "zerolinecolor": "white"
           }
          },
          "shapedefaults": {
           "line": {
            "color": "#2a3f5f"
           }
          },
          "ternary": {
           "aaxis": {
            "gridcolor": "white",
            "linecolor": "white",
            "ticks": ""
           },
           "baxis": {
            "gridcolor": "white",
            "linecolor": "white",
            "ticks": ""
           },
           "bgcolor": "#E5ECF6",
           "caxis": {
            "gridcolor": "white",
            "linecolor": "white",
            "ticks": ""
           }
          },
          "title": {
           "x": 0.05
          },
          "xaxis": {
           "automargin": true,
           "gridcolor": "white",
           "linecolor": "white",
           "ticks": "",
           "title": {
            "standoff": 15
           },
           "zerolinecolor": "white",
           "zerolinewidth": 2
          },
          "yaxis": {
           "automargin": true,
           "gridcolor": "white",
           "linecolor": "white",
           "ticks": "",
           "title": {
            "standoff": 15
           },
           "zerolinecolor": "white",
           "zerolinewidth": 2
          }
         }
        },
        "width": 1200,
        "xaxis": {
         "anchor": "y",
         "domain": [
          0,
          0.3
         ],
         "showticklabels": false
        },
        "xaxis2": {
         "anchor": "y2",
         "domain": [
          0.35,
          0.6499999999999999
         ],
         "showticklabels": false
        },
        "xaxis3": {
         "anchor": "y3",
         "domain": [
          0.7,
          1
         ],
         "showticklabels": false
        },
        "xaxis4": {
         "anchor": "y4",
         "domain": [
          0,
          0.3
         ],
         "showticklabels": false
        },
        "xaxis5": {
         "anchor": "y5",
         "domain": [
          0.35,
          0.6499999999999999
         ],
         "showticklabels": false
        },
        "xaxis6": {
         "anchor": "y6",
         "domain": [
          0.7,
          1
         ],
         "showticklabels": false
        },
        "yaxis": {
         "anchor": "x",
         "domain": [
          0.275,
          0.45
         ]
        },
        "yaxis2": {
         "anchor": "x2",
         "domain": [
          0.275,
          0.45
         ]
        },
        "yaxis3": {
         "anchor": "x3",
         "domain": [
          0.275,
          0.45
         ]
        },
        "yaxis4": {
         "anchor": "x4",
         "domain": [
          0,
          0.175
         ]
        },
        "yaxis5": {
         "anchor": "x5",
         "domain": [
          0,
          0.175
         ]
        },
        "yaxis6": {
         "anchor": "x6",
         "domain": [
          0,
          0.175
         ]
        }
       }
      }
     },
     "metadata": {},
     "output_type": "display_data"
    }
   ],
   "source": [
    "fig = make_subplots(\n",
    "        rows=4, cols=3,\n",
    "        vertical_spacing=0.1,\n",
    "        horizontal_spacing=0.05,\n",
    "        specs=\n",
    "            [[{\"type\": \"Scatterpolar\",}, {\"type\": \"Scatterpolar\",}, {\"type\": \"Scatterpolar\",}],\n",
    "            [{\"type\": \"Scatterpolar\",}, {\"type\": \"Scatterpolar\",}, {\"type\": \"Scatterpolar\",}],\n",
    "            [{}, {}, {}],\n",
    "            [{}, {}, {}]],\n",
    "        subplot_titles=(\"\", \"\", \"\", \"\", \"\", \"\", \"Annual Generation (MWh/yr)\", 'Average Age', 'Forward Costs ($/MWh)', 'Affected DAC within 3 Miles', 'Annual SO2 Emissions (tons/yr)', 'Public Support for Coal Power')\n",
    "    )\n",
    "\n",
    "row1=1\n",
    "col1=1\n",
    "\n",
    "for i in range(0, 6):\n",
    "    fig.add_trace(go.Scatterpolar(\n",
    "      r=list(vis_df.iloc[i]),\n",
    "      theta=list(['Annual Generation', 'Average Age', 'Forward Costs', 'SO2 Emissions', 'Affected DAC within 3 miles', 'Public Support for Coal Power']),\n",
    "      fill='toself', \n",
    "      line_color=px.colors.qualitative.Plotly_r[i+1],\n",
    "      name = labelsList[i]\n",
    "    ), row=row1, col=col1)\n",
    "    col1+=1\n",
    "    if col1==4:\n",
    "       col1=1\n",
    "    if col1==1:\n",
    "       row1=2\n",
    "\n",
    "\n",
    "row1=3\n",
    "col1=1\n",
    "\n",
    "for item in ['PLGENACL', 'AverageAge', 'forwardCosts', 'affectedDemographicIndex', 'PLSO2AN', 'CO2limitsOppose']:\n",
    "    for i in range(1, 7):\n",
    "        fig.add_trace(go.Box(y=total[item][total['superCluster']==i], name=labelsList[i-1], showlegend=False, line_color = px.colors.qualitative.Plotly_r[i]), row=row1, col=col1)\n",
    "    col1+=1\n",
    "    if col1==4:\n",
    "        col1=1\n",
    "    if col1==1:\n",
    "        row1=4\n",
    "\n",
    "\n",
    "fig.update_xaxes( showticklabels=False)\n",
    "fig.update_layout(font = dict(size=9), )\n",
    "\n",
    "\n",
    "fig.update_layout(\n",
    "  polar1=dict(\n",
    "    radialaxis=dict(\n",
    "      visible=True,\n",
    "      range=[0, 1],\n",
    "      showticklabels=False\n",
    "    ),\n",
    "  ),\n",
    "  polar2=dict(\n",
    "    radialaxis=dict(\n",
    "      visible=True,\n",
    "      range=[0, 1],\n",
    "      showticklabels=False\n",
    "    ),\n",
    "  ),\n",
    "  polar3=dict(\n",
    "    radialaxis=dict(\n",
    "      visible=True,\n",
    "      range=[0, 1],\n",
    "      showticklabels=False\n",
    "    ),\n",
    "  ),\n",
    "  polar4=dict(\n",
    "    radialaxis=dict(\n",
    "      visible=True,\n",
    "      range=[0, 1],\n",
    "      showticklabels=False\n",
    "    ),\n",
    "  ),\n",
    "  polar5=dict(\n",
    "    radialaxis=dict(\n",
    "      visible=True,\n",
    "      range=[0, 1],\n",
    "      showticklabels=False\n",
    "    ),\n",
    "  ),\n",
    "  polar6=dict(\n",
    "    radialaxis=dict(\n",
    "      visible=True,\n",
    "      range=[0, 1],\n",
    "      showticklabels=False\n",
    "    ),\n",
    "  ),\n",
    "  showlegend=True,\n",
    "  legend_title='Group'\n",
    ")\n",
    "\n",
    "fig.update_annotations(font_size=12)\n",
    "fig.update_layout(width=1200, height = 700, font = dict(size=10),\n",
    "legend=dict(traceorder='normal',  orientation=\"h\", yanchor = 'bottom', y=-0.15, xanchor = 'center', x=0.5))\n",
    "fig.show()"
   ]
  },
  {
   "cell_type": "code",
   "execution_count": 69,
   "id": "4f7abab3",
   "metadata": {},
   "outputs": [
    {
     "data": {
      "application/vnd.plotly.v1+json": {
       "config": {
        "plotlyServerURL": "https://plot.ly"
       },
       "data": [
        {
         "alignmentgroup": "True",
         "bingroup": "x",
         "hovertemplate": "ret=0<br>superCluster=2<br>affectedDemographicIndex=%{x}<br>count=%{y}<extra></extra>",
         "legendgroup": "0",
         "marker": {
          "color": "#636efa",
          "pattern": {
           "shape": ""
          }
         },
         "name": "0",
         "offsetgroup": "0",
         "orientation": "v",
         "showlegend": true,
         "type": "histogram",
         "x": [
          577840,
          388124,
          89244,
          183596,
          89180,
          10736,
          4092,
          1244,
          33831,
          2080,
          85483,
          24432,
          102780,
          58227,
          118625,
          56856,
          17679,
          77088,
          85860,
          60453,
          179120,
          28224,
          111348,
          426600,
          63756,
          83572,
          117880,
          27352,
          193704,
          176523,
          43750,
          9780,
          8844,
          46410,
          1,
          30,
          95544,
          9636,
          130980,
          205,
          841,
          11628,
          1950,
          1728,
          33,
          62340,
          18828,
          26044,
          4352,
          7236,
          1144,
          1241,
          337,
          5880,
          101916,
          3538,
          15844,
          28920,
          304850,
          21432,
          5160,
          131428,
          1,
          46170,
          27210,
          156519,
          28208,
          27820,
          1215076,
          32886,
          34485,
          35262,
          119814,
          867566,
          4,
          147,
          152892,
          78318,
          61225,
          176286,
          293472
         ],
         "xaxis": "x",
         "yaxis": "y"
        },
        {
         "alignmentgroup": "True",
         "bingroup": "x",
         "hovertemplate": "ret=0<br>superCluster=3<br>affectedDemographicIndex=%{x}<br>count=%{y}<extra></extra>",
         "legendgroup": "0",
         "marker": {
          "color": "#636efa",
          "pattern": {
           "shape": ""
          }
         },
         "name": "0",
         "offsetgroup": "0",
         "orientation": "v",
         "showlegend": false,
         "type": "histogram",
         "x": [
          1252881,
          290913,
          41718,
          266255,
          42408,
          372608,
          14916,
          343520,
          101136,
          10857,
          2392,
          43378,
          49680,
          3124,
          7448,
          438064,
          494,
          9804,
          209716,
          24062,
          31104,
          472099,
          461616,
          77344,
          591033,
          13824,
          142284,
          1714986,
          1926765,
          252680,
          1673520,
          422365,
          627792,
          1093638,
          831836,
          881708,
          89768,
          465150,
          823410,
          78883,
          899199,
          1260180,
          2060160,
          1324862,
          958208,
          1136520,
          851800,
          349058,
          337064,
          425068,
          1209400,
          1056760,
          1960757,
          2085300,
          103478,
          1408320,
          124271,
          74700,
          149182,
          901005,
          2063490,
          3029492,
          2151450,
          3400056,
          3517869,
          4414793,
          4840420,
          6855156
         ],
         "xaxis": "x2",
         "yaxis": "y2"
        },
        {
         "alignmentgroup": "True",
         "bingroup": "x",
         "hovertemplate": "ret=0<br>superCluster=4<br>affectedDemographicIndex=%{x}<br>count=%{y}<extra></extra>",
         "legendgroup": "0",
         "marker": {
          "color": "#636efa",
          "pattern": {
           "shape": ""
          }
         },
         "name": "0",
         "offsetgroup": "0",
         "orientation": "v",
         "showlegend": false,
         "type": "histogram",
         "x": [
          1,
          43,
          1,
          1,
          1,
          1,
          1,
          1,
          1,
          1,
          285,
          135836,
          129456,
          129398,
          987
         ],
         "xaxis": "x3",
         "yaxis": "y3"
        },
        {
         "alignmentgroup": "True",
         "bingroup": "x",
         "hovertemplate": "ret=0<br>superCluster=6<br>affectedDemographicIndex=%{x}<br>count=%{y}<extra></extra>",
         "legendgroup": "0",
         "marker": {
          "color": "#636efa",
          "pattern": {
           "shape": ""
          }
         },
         "name": "0",
         "offsetgroup": "0",
         "orientation": "v",
         "showlegend": false,
         "type": "histogram",
         "x": [
          135836,
          14256,
          202878,
          41976,
          2247414,
          1250957,
          12880,
          1256280,
          125776,
          67730,
          701916,
          495,
          286824,
          1923100,
          710116
         ],
         "xaxis": "x4",
         "yaxis": "y4"
        },
        {
         "alignmentgroup": "True",
         "bingroup": "x",
         "hovertemplate": "ret=0<br>superCluster=5<br>affectedDemographicIndex=%{x}<br>count=%{y}<extra></extra>",
         "legendgroup": "0",
         "marker": {
          "color": "#636efa",
          "pattern": {
           "shape": ""
          }
         },
         "name": "0",
         "offsetgroup": "0",
         "orientation": "v",
         "showlegend": false,
         "type": "histogram",
         "x": [
          28350,
          237249,
          68284,
          358470,
          189144,
          185218,
          114520,
          1030960,
          975528
         ],
         "xaxis": "x5",
         "yaxis": "y5"
        },
        {
         "alignmentgroup": "True",
         "bingroup": "x",
         "hovertemplate": "ret=0<br>superCluster=1<br>affectedDemographicIndex=%{x}<br>count=%{y}<extra></extra>",
         "legendgroup": "0",
         "marker": {
          "color": "#636efa",
          "pattern": {
           "shape": ""
          }
         },
         "name": "0",
         "offsetgroup": "0",
         "orientation": "v",
         "showlegend": false,
         "type": "histogram",
         "x": [
          480,
          1023,
          2592,
          2080,
          21528,
          1840,
          159360,
          83538,
          36126,
          57096,
          19290,
          19737,
          31610,
          75915
         ],
         "xaxis": "x6",
         "yaxis": "y6"
        },
        {
         "alignmentgroup": "True",
         "bingroup": "x",
         "hovertemplate": "ret=1<br>superCluster=2<br>affectedDemographicIndex=%{x}<br>count=%{y}<extra></extra>",
         "legendgroup": "1",
         "marker": {
          "color": "#EF553B",
          "pattern": {
           "shape": ""
          }
         },
         "name": "1",
         "offsetgroup": "1",
         "orientation": "v",
         "showlegend": true,
         "type": "histogram",
         "x": [
          60993,
          17000,
          107960,
          51084,
          94878,
          35216,
          361692,
          11655,
          62307,
          45680,
          167040,
          35156,
          53240,
          54990,
          48866,
          32428,
          1,
          2703,
          117,
          9666,
          41895,
          0,
          7605,
          45168,
          12508,
          2304,
          4964,
          7881,
          1,
          35711,
          213246,
          19754,
          672672
         ],
         "xaxis": "x",
         "yaxis": "y"
        },
        {
         "alignmentgroup": "True",
         "bingroup": "x",
         "hovertemplate": "ret=1<br>superCluster=3<br>affectedDemographicIndex=%{x}<br>count=%{y}<extra></extra>",
         "legendgroup": "1",
         "marker": {
          "color": "#EF553B",
          "pattern": {
           "shape": ""
          }
         },
         "name": "1",
         "offsetgroup": "1",
         "orientation": "v",
         "showlegend": false,
         "type": "histogram",
         "x": [
          122185,
          10209,
          40979,
          108960,
          494505,
          5882,
          20184,
          1728,
          15428,
          12630,
          89565,
          291356,
          132779,
          294305,
          668835,
          1519012,
          1754235,
          777404,
          310604,
          1069926,
          446082,
          377487,
          273280,
          868248,
          4761204,
          6537893,
          5391295,
          4104932,
          1878360,
          1062328,
          1322208
         ],
         "xaxis": "x2",
         "yaxis": "y2"
        },
        {
         "alignmentgroup": "True",
         "bingroup": "x",
         "hovertemplate": "ret=1<br>superCluster=6<br>affectedDemographicIndex=%{x}<br>count=%{y}<extra></extra>",
         "legendgroup": "1",
         "marker": {
          "color": "#EF553B",
          "pattern": {
           "shape": ""
          }
         },
         "name": "1",
         "offsetgroup": "1",
         "orientation": "v",
         "showlegend": false,
         "type": "histogram",
         "x": [
          534450,
          96635,
          528150
         ],
         "xaxis": "x4",
         "yaxis": "y4"
        },
        {
         "alignmentgroup": "True",
         "bingroup": "x",
         "hovertemplate": "ret=1<br>superCluster=5<br>affectedDemographicIndex=%{x}<br>count=%{y}<extra></extra>",
         "legendgroup": "1",
         "marker": {
          "color": "#EF553B",
          "pattern": {
           "shape": ""
          }
         },
         "name": "1",
         "offsetgroup": "1",
         "orientation": "v",
         "showlegend": false,
         "type": "histogram",
         "x": [
          479343
         ],
         "xaxis": "x5",
         "yaxis": "y5"
        },
        {
         "alignmentgroup": "True",
         "bingroup": "x",
         "hovertemplate": "ret=1<br>superCluster=1<br>affectedDemographicIndex=%{x}<br>count=%{y}<extra></extra>",
         "legendgroup": "1",
         "marker": {
          "color": "#EF553B",
          "pattern": {
           "shape": ""
          }
         },
         "name": "1",
         "offsetgroup": "1",
         "orientation": "v",
         "showlegend": false,
         "type": "histogram",
         "x": [
          60860,
          32544,
          116033
         ],
         "xaxis": "x6",
         "yaxis": "y6"
        }
       ],
       "layout": {
        "annotations": [
         {
          "font": {},
          "showarrow": false,
          "text": "superCluster=2",
          "x": 0.075,
          "xanchor": "center",
          "xref": "paper",
          "y": 1,
          "yanchor": "bottom",
          "yref": "paper"
         },
         {
          "font": {},
          "showarrow": false,
          "text": "superCluster=3",
          "x": 0.24499999999999997,
          "xanchor": "center",
          "xref": "paper",
          "y": 1,
          "yanchor": "bottom",
          "yref": "paper"
         },
         {
          "font": {},
          "showarrow": false,
          "text": "superCluster=4",
          "x": 0.415,
          "xanchor": "center",
          "xref": "paper",
          "y": 1,
          "yanchor": "bottom",
          "yref": "paper"
         },
         {
          "font": {},
          "showarrow": false,
          "text": "superCluster=6",
          "x": 0.585,
          "xanchor": "center",
          "xref": "paper",
          "y": 1,
          "yanchor": "bottom",
          "yref": "paper"
         },
         {
          "font": {},
          "showarrow": false,
          "text": "superCluster=5",
          "x": 0.7549999999999999,
          "xanchor": "center",
          "xref": "paper",
          "y": 1,
          "yanchor": "bottom",
          "yref": "paper"
         },
         {
          "font": {},
          "showarrow": false,
          "text": "superCluster=1",
          "x": 0.925,
          "xanchor": "center",
          "xref": "paper",
          "y": 1,
          "yanchor": "bottom",
          "yref": "paper"
         }
        ],
        "barmode": "relative",
        "legend": {
         "title": {
          "text": "ret"
         },
         "tracegroupgap": 0
        },
        "margin": {
         "t": 60
        },
        "template": {
         "data": {
          "bar": [
           {
            "error_x": {
             "color": "#2a3f5f"
            },
            "error_y": {
             "color": "#2a3f5f"
            },
            "marker": {
             "line": {
              "color": "#E5ECF6",
              "width": 0.5
             },
             "pattern": {
              "fillmode": "overlay",
              "size": 10,
              "solidity": 0.2
             }
            },
            "type": "bar"
           }
          ],
          "barpolar": [
           {
            "marker": {
             "line": {
              "color": "#E5ECF6",
              "width": 0.5
             },
             "pattern": {
              "fillmode": "overlay",
              "size": 10,
              "solidity": 0.2
             }
            },
            "type": "barpolar"
           }
          ],
          "carpet": [
           {
            "aaxis": {
             "endlinecolor": "#2a3f5f",
             "gridcolor": "white",
             "linecolor": "white",
             "minorgridcolor": "white",
             "startlinecolor": "#2a3f5f"
            },
            "baxis": {
             "endlinecolor": "#2a3f5f",
             "gridcolor": "white",
             "linecolor": "white",
             "minorgridcolor": "white",
             "startlinecolor": "#2a3f5f"
            },
            "type": "carpet"
           }
          ],
          "choropleth": [
           {
            "colorbar": {
             "outlinewidth": 0,
             "ticks": ""
            },
            "type": "choropleth"
           }
          ],
          "contour": [
           {
            "colorbar": {
             "outlinewidth": 0,
             "ticks": ""
            },
            "colorscale": [
             [
              0,
              "#0d0887"
             ],
             [
              0.1111111111111111,
              "#46039f"
             ],
             [
              0.2222222222222222,
              "#7201a8"
             ],
             [
              0.3333333333333333,
              "#9c179e"
             ],
             [
              0.4444444444444444,
              "#bd3786"
             ],
             [
              0.5555555555555556,
              "#d8576b"
             ],
             [
              0.6666666666666666,
              "#ed7953"
             ],
             [
              0.7777777777777778,
              "#fb9f3a"
             ],
             [
              0.8888888888888888,
              "#fdca26"
             ],
             [
              1,
              "#f0f921"
             ]
            ],
            "type": "contour"
           }
          ],
          "contourcarpet": [
           {
            "colorbar": {
             "outlinewidth": 0,
             "ticks": ""
            },
            "type": "contourcarpet"
           }
          ],
          "heatmap": [
           {
            "colorbar": {
             "outlinewidth": 0,
             "ticks": ""
            },
            "colorscale": [
             [
              0,
              "#0d0887"
             ],
             [
              0.1111111111111111,
              "#46039f"
             ],
             [
              0.2222222222222222,
              "#7201a8"
             ],
             [
              0.3333333333333333,
              "#9c179e"
             ],
             [
              0.4444444444444444,
              "#bd3786"
             ],
             [
              0.5555555555555556,
              "#d8576b"
             ],
             [
              0.6666666666666666,
              "#ed7953"
             ],
             [
              0.7777777777777778,
              "#fb9f3a"
             ],
             [
              0.8888888888888888,
              "#fdca26"
             ],
             [
              1,
              "#f0f921"
             ]
            ],
            "type": "heatmap"
           }
          ],
          "heatmapgl": [
           {
            "colorbar": {
             "outlinewidth": 0,
             "ticks": ""
            },
            "colorscale": [
             [
              0,
              "#0d0887"
             ],
             [
              0.1111111111111111,
              "#46039f"
             ],
             [
              0.2222222222222222,
              "#7201a8"
             ],
             [
              0.3333333333333333,
              "#9c179e"
             ],
             [
              0.4444444444444444,
              "#bd3786"
             ],
             [
              0.5555555555555556,
              "#d8576b"
             ],
             [
              0.6666666666666666,
              "#ed7953"
             ],
             [
              0.7777777777777778,
              "#fb9f3a"
             ],
             [
              0.8888888888888888,
              "#fdca26"
             ],
             [
              1,
              "#f0f921"
             ]
            ],
            "type": "heatmapgl"
           }
          ],
          "histogram": [
           {
            "marker": {
             "pattern": {
              "fillmode": "overlay",
              "size": 10,
              "solidity": 0.2
             }
            },
            "type": "histogram"
           }
          ],
          "histogram2d": [
           {
            "colorbar": {
             "outlinewidth": 0,
             "ticks": ""
            },
            "colorscale": [
             [
              0,
              "#0d0887"
             ],
             [
              0.1111111111111111,
              "#46039f"
             ],
             [
              0.2222222222222222,
              "#7201a8"
             ],
             [
              0.3333333333333333,
              "#9c179e"
             ],
             [
              0.4444444444444444,
              "#bd3786"
             ],
             [
              0.5555555555555556,
              "#d8576b"
             ],
             [
              0.6666666666666666,
              "#ed7953"
             ],
             [
              0.7777777777777778,
              "#fb9f3a"
             ],
             [
              0.8888888888888888,
              "#fdca26"
             ],
             [
              1,
              "#f0f921"
             ]
            ],
            "type": "histogram2d"
           }
          ],
          "histogram2dcontour": [
           {
            "colorbar": {
             "outlinewidth": 0,
             "ticks": ""
            },
            "colorscale": [
             [
              0,
              "#0d0887"
             ],
             [
              0.1111111111111111,
              "#46039f"
             ],
             [
              0.2222222222222222,
              "#7201a8"
             ],
             [
              0.3333333333333333,
              "#9c179e"
             ],
             [
              0.4444444444444444,
              "#bd3786"
             ],
             [
              0.5555555555555556,
              "#d8576b"
             ],
             [
              0.6666666666666666,
              "#ed7953"
             ],
             [
              0.7777777777777778,
              "#fb9f3a"
             ],
             [
              0.8888888888888888,
              "#fdca26"
             ],
             [
              1,
              "#f0f921"
             ]
            ],
            "type": "histogram2dcontour"
           }
          ],
          "mesh3d": [
           {
            "colorbar": {
             "outlinewidth": 0,
             "ticks": ""
            },
            "type": "mesh3d"
           }
          ],
          "parcoords": [
           {
            "line": {
             "colorbar": {
              "outlinewidth": 0,
              "ticks": ""
             }
            },
            "type": "parcoords"
           }
          ],
          "pie": [
           {
            "automargin": true,
            "type": "pie"
           }
          ],
          "scatter": [
           {
            "marker": {
             "colorbar": {
              "outlinewidth": 0,
              "ticks": ""
             }
            },
            "type": "scatter"
           }
          ],
          "scatter3d": [
           {
            "line": {
             "colorbar": {
              "outlinewidth": 0,
              "ticks": ""
             }
            },
            "marker": {
             "colorbar": {
              "outlinewidth": 0,
              "ticks": ""
             }
            },
            "type": "scatter3d"
           }
          ],
          "scattercarpet": [
           {
            "marker": {
             "colorbar": {
              "outlinewidth": 0,
              "ticks": ""
             }
            },
            "type": "scattercarpet"
           }
          ],
          "scattergeo": [
           {
            "marker": {
             "colorbar": {
              "outlinewidth": 0,
              "ticks": ""
             }
            },
            "type": "scattergeo"
           }
          ],
          "scattergl": [
           {
            "marker": {
             "colorbar": {
              "outlinewidth": 0,
              "ticks": ""
             }
            },
            "type": "scattergl"
           }
          ],
          "scattermapbox": [
           {
            "marker": {
             "colorbar": {
              "outlinewidth": 0,
              "ticks": ""
             }
            },
            "type": "scattermapbox"
           }
          ],
          "scatterpolar": [
           {
            "marker": {
             "colorbar": {
              "outlinewidth": 0,
              "ticks": ""
             }
            },
            "type": "scatterpolar"
           }
          ],
          "scatterpolargl": [
           {
            "marker": {
             "colorbar": {
              "outlinewidth": 0,
              "ticks": ""
             }
            },
            "type": "scatterpolargl"
           }
          ],
          "scatterternary": [
           {
            "marker": {
             "colorbar": {
              "outlinewidth": 0,
              "ticks": ""
             }
            },
            "type": "scatterternary"
           }
          ],
          "surface": [
           {
            "colorbar": {
             "outlinewidth": 0,
             "ticks": ""
            },
            "colorscale": [
             [
              0,
              "#0d0887"
             ],
             [
              0.1111111111111111,
              "#46039f"
             ],
             [
              0.2222222222222222,
              "#7201a8"
             ],
             [
              0.3333333333333333,
              "#9c179e"
             ],
             [
              0.4444444444444444,
              "#bd3786"
             ],
             [
              0.5555555555555556,
              "#d8576b"
             ],
             [
              0.6666666666666666,
              "#ed7953"
             ],
             [
              0.7777777777777778,
              "#fb9f3a"
             ],
             [
              0.8888888888888888,
              "#fdca26"
             ],
             [
              1,
              "#f0f921"
             ]
            ],
            "type": "surface"
           }
          ],
          "table": [
           {
            "cells": {
             "fill": {
              "color": "#EBF0F8"
             },
             "line": {
              "color": "white"
             }
            },
            "header": {
             "fill": {
              "color": "#C8D4E3"
             },
             "line": {
              "color": "white"
             }
            },
            "type": "table"
           }
          ]
         },
         "layout": {
          "annotationdefaults": {
           "arrowcolor": "#2a3f5f",
           "arrowhead": 0,
           "arrowwidth": 1
          },
          "autotypenumbers": "strict",
          "coloraxis": {
           "colorbar": {
            "outlinewidth": 0,
            "ticks": ""
           }
          },
          "colorscale": {
           "diverging": [
            [
             0,
             "#8e0152"
            ],
            [
             0.1,
             "#c51b7d"
            ],
            [
             0.2,
             "#de77ae"
            ],
            [
             0.3,
             "#f1b6da"
            ],
            [
             0.4,
             "#fde0ef"
            ],
            [
             0.5,
             "#f7f7f7"
            ],
            [
             0.6,
             "#e6f5d0"
            ],
            [
             0.7,
             "#b8e186"
            ],
            [
             0.8,
             "#7fbc41"
            ],
            [
             0.9,
             "#4d9221"
            ],
            [
             1,
             "#276419"
            ]
           ],
           "sequential": [
            [
             0,
             "#0d0887"
            ],
            [
             0.1111111111111111,
             "#46039f"
            ],
            [
             0.2222222222222222,
             "#7201a8"
            ],
            [
             0.3333333333333333,
             "#9c179e"
            ],
            [
             0.4444444444444444,
             "#bd3786"
            ],
            [
             0.5555555555555556,
             "#d8576b"
            ],
            [
             0.6666666666666666,
             "#ed7953"
            ],
            [
             0.7777777777777778,
             "#fb9f3a"
            ],
            [
             0.8888888888888888,
             "#fdca26"
            ],
            [
             1,
             "#f0f921"
            ]
           ],
           "sequentialminus": [
            [
             0,
             "#0d0887"
            ],
            [
             0.1111111111111111,
             "#46039f"
            ],
            [
             0.2222222222222222,
             "#7201a8"
            ],
            [
             0.3333333333333333,
             "#9c179e"
            ],
            [
             0.4444444444444444,
             "#bd3786"
            ],
            [
             0.5555555555555556,
             "#d8576b"
            ],
            [
             0.6666666666666666,
             "#ed7953"
            ],
            [
             0.7777777777777778,
             "#fb9f3a"
            ],
            [
             0.8888888888888888,
             "#fdca26"
            ],
            [
             1,
             "#f0f921"
            ]
           ]
          },
          "colorway": [
           "#636efa",
           "#EF553B",
           "#00cc96",
           "#ab63fa",
           "#FFA15A",
           "#19d3f3",
           "#FF6692",
           "#B6E880",
           "#FF97FF",
           "#FECB52"
          ],
          "font": {
           "color": "#2a3f5f"
          },
          "geo": {
           "bgcolor": "white",
           "lakecolor": "white",
           "landcolor": "#E5ECF6",
           "showlakes": true,
           "showland": true,
           "subunitcolor": "white"
          },
          "hoverlabel": {
           "align": "left"
          },
          "hovermode": "closest",
          "mapbox": {
           "style": "light"
          },
          "paper_bgcolor": "white",
          "plot_bgcolor": "#E5ECF6",
          "polar": {
           "angularaxis": {
            "gridcolor": "white",
            "linecolor": "white",
            "ticks": ""
           },
           "bgcolor": "#E5ECF6",
           "radialaxis": {
            "gridcolor": "white",
            "linecolor": "white",
            "ticks": ""
           }
          },
          "scene": {
           "xaxis": {
            "backgroundcolor": "#E5ECF6",
            "gridcolor": "white",
            "gridwidth": 2,
            "linecolor": "white",
            "showbackground": true,
            "ticks": "",
            "zerolinecolor": "white"
           },
           "yaxis": {
            "backgroundcolor": "#E5ECF6",
            "gridcolor": "white",
            "gridwidth": 2,
            "linecolor": "white",
            "showbackground": true,
            "ticks": "",
            "zerolinecolor": "white"
           },
           "zaxis": {
            "backgroundcolor": "#E5ECF6",
            "gridcolor": "white",
            "gridwidth": 2,
            "linecolor": "white",
            "showbackground": true,
            "ticks": "",
            "zerolinecolor": "white"
           }
          },
          "shapedefaults": {
           "line": {
            "color": "#2a3f5f"
           }
          },
          "ternary": {
           "aaxis": {
            "gridcolor": "white",
            "linecolor": "white",
            "ticks": ""
           },
           "baxis": {
            "gridcolor": "white",
            "linecolor": "white",
            "ticks": ""
           },
           "bgcolor": "#E5ECF6",
           "caxis": {
            "gridcolor": "white",
            "linecolor": "white",
            "ticks": ""
           }
          },
          "title": {
           "x": 0.05
          },
          "xaxis": {
           "automargin": true,
           "gridcolor": "white",
           "linecolor": "white",
           "ticks": "",
           "title": {
            "standoff": 15
           },
           "zerolinecolor": "white",
           "zerolinewidth": 2
          },
          "yaxis": {
           "automargin": true,
           "gridcolor": "white",
           "linecolor": "white",
           "ticks": "",
           "title": {
            "standoff": 15
           },
           "zerolinecolor": "white",
           "zerolinewidth": 2
          }
         }
        },
        "xaxis": {
         "anchor": "y",
         "domain": [
          0,
          0.15
         ],
         "title": {
          "text": "affectedDemographicIndex"
         }
        },
        "xaxis2": {
         "anchor": "y2",
         "domain": [
          0.16999999999999998,
          0.31999999999999995
         ],
         "matches": "x",
         "title": {
          "text": "affectedDemographicIndex"
         }
        },
        "xaxis3": {
         "anchor": "y3",
         "domain": [
          0.33999999999999997,
          0.49
         ],
         "matches": "x",
         "title": {
          "text": "affectedDemographicIndex"
         }
        },
        "xaxis4": {
         "anchor": "y4",
         "domain": [
          0.51,
          0.66
         ],
         "matches": "x",
         "title": {
          "text": "affectedDemographicIndex"
         }
        },
        "xaxis5": {
         "anchor": "y5",
         "domain": [
          0.6799999999999999,
          0.83
         ],
         "matches": "x",
         "title": {
          "text": "affectedDemographicIndex"
         }
        },
        "xaxis6": {
         "anchor": "y6",
         "domain": [
          0.85,
          1
         ],
         "matches": "x",
         "title": {
          "text": "affectedDemographicIndex"
         }
        },
        "yaxis": {
         "anchor": "x",
         "domain": [
          0,
          1
         ],
         "title": {
          "text": "count"
         }
        },
        "yaxis2": {
         "anchor": "x2",
         "domain": [
          0,
          1
         ],
         "matches": "y",
         "showticklabels": false
        },
        "yaxis3": {
         "anchor": "x3",
         "domain": [
          0,
          1
         ],
         "matches": "y",
         "showticklabels": false
        },
        "yaxis4": {
         "anchor": "x4",
         "domain": [
          0,
          1
         ],
         "matches": "y",
         "showticklabels": false
        },
        "yaxis5": {
         "anchor": "x5",
         "domain": [
          0,
          1
         ],
         "matches": "y",
         "showticklabels": false
        },
        "yaxis6": {
         "anchor": "x6",
         "domain": [
          0,
          1
         ],
         "matches": "y",
         "showticklabels": false
        }
       }
      }
     },
     "metadata": {},
     "output_type": "display_data"
    }
   ],
   "source": [
    "(px.histogram(retTotal, x=\"affectedDemographicIndex\", color=\"ret\",\n",
    "            facet_col=\"superCluster\"))"
   ]
  },
  {
   "cell_type": "code",
   "execution_count": 59,
   "id": "83ea26db",
   "metadata": {},
   "outputs": [
    {
     "data": {
      "application/vnd.plotly.v1+json": {
       "config": {
        "plotlyServerURL": "https://plot.ly"
       },
       "data": [
        {
         "hovertemplate": "cluster=a<br>superCluster=2<br>affectedDemographicIndex=%{x}<br>forwardCosts=%{y}<extra></extra>",
         "legendgroup": "a",
         "marker": {
          "color": "#636efa",
          "symbol": "circle"
         },
         "mode": "markers",
         "name": "a",
         "orientation": "v",
         "showlegend": true,
         "type": "scatter",
         "x": [
          577840,
          388124,
          60993,
          89244,
          183596,
          89180,
          10736,
          17000,
          4092,
          1244,
          33831,
          2080,
          85483,
          24432,
          102780,
          107960,
          58227,
          118625,
          56856,
          51084,
          17679,
          94878,
          77088,
          85860,
          60453,
          179120,
          28224,
          35216,
          361692,
          11655,
          111348
         ],
         "xaxis": "x",
         "y": [
          41.4221940887211,
          34.95894877573699,
          28.35325107530451,
          47.77063168466438,
          34.89011156004939,
          56.96685367689226,
          null,
          35.25997988586202,
          26.45846789100256,
          26.44877214085489,
          29.16791611795626,
          21.10219901775509,
          41.50673409488435,
          39.75009120762478,
          22.02619757380564,
          36.61806187725021,
          55.40697876001774,
          35.98680312959274,
          45.77672273666127,
          48.71769547301668,
          34.97812960208947,
          61.34161461359248,
          47.14438681819911,
          70.37984584008743,
          62.21347198408596,
          38.75355296099717,
          64.0573986252686,
          36.80031042962078,
          56.12068778686039,
          36.5108164205981,
          45.08337522943447
         ],
         "yaxis": "y"
        },
        {
         "hovertemplate": "cluster=b<br>superCluster=3<br>affectedDemographicIndex=%{x}<br>forwardCosts=%{y}<extra></extra>",
         "legendgroup": "b",
         "marker": {
          "color": "#EF553B",
          "symbol": "circle"
         },
         "mode": "markers",
         "name": "b",
         "orientation": "v",
         "showlegend": true,
         "type": "scatter",
         "x": [
          122185,
          1252881,
          290913,
          41718,
          266255,
          42408,
          372608,
          14916,
          343520,
          101136,
          10209,
          10857,
          40979,
          108960,
          494505,
          2392,
          43378,
          49680,
          3124,
          7448,
          5882,
          438064,
          494,
          9804,
          20184,
          1728,
          209716,
          15428,
          24062,
          12630,
          31104,
          472099,
          89565,
          461616,
          291356,
          77344,
          132779,
          591033,
          13824,
          294305,
          142284,
          668835,
          1714986,
          1926765,
          252680,
          1519012,
          1754235,
          1673520,
          777404,
          422365,
          310604,
          1069926,
          627792,
          446082,
          377487,
          273280,
          1093638,
          831836
         ],
         "xaxis": "x2",
         "y": [
          null,
          34.63855631263223,
          38.21954974028614,
          null,
          95.03701960105111,
          62.92623758469734,
          46.09935300401208,
          37.96150641052709,
          42.80143970695998,
          48.78832181984009,
          119.5366941229609,
          82.3397156182977,
          92.1118558758054,
          166.4891725441887,
          139.8955320089371,
          37.61642957001135,
          68.8478961640067,
          69.14342550659204,
          47.55496757664282,
          35.37863431518285,
          62.43103634837038,
          60.63187753808307,
          42.74479946253044,
          54.33613388443941,
          45.07245636149928,
          27.88367371170884,
          53.34853025838789,
          40.60971866022889,
          45.32847811549217,
          48.58822503867616,
          41.49284524006848,
          49.02368172769818,
          37.61383300418267,
          61.1683647808416,
          48.99669398965931,
          39.19853367665187,
          55.01012747394319,
          121.596077424444,
          194.6492519335937,
          89.56147125427117,
          87.47889771053259,
          94.85603962711085,
          112.9906318901612,
          513.9275208566435,
          63.86693982470275,
          53.21076806488875,
          68.84681248329755,
          71.74197633953789,
          44.41652614827063,
          46.46696239675534,
          60.79651321874672,
          51.09434061716587,
          35.75461227592406,
          58.05957652486015,
          58.60790907262086,
          66.2859782008946,
          58.16378532856844,
          27.66878136447666
         ],
         "yaxis": "y2"
        },
        {
         "hovertemplate": "cluster=c<br>superCluster=4<br>affectedDemographicIndex=%{x}<br>forwardCosts=%{y}<extra></extra>",
         "legendgroup": "c",
         "marker": {
          "color": "#00cc96",
          "symbol": "circle"
         },
         "mode": "markers",
         "name": "c",
         "orientation": "v",
         "showlegend": true,
         "type": "scatter",
         "x": [
          1,
          43,
          1,
          1,
          1,
          1,
          1,
          1,
          1,
          1,
          285,
          135836,
          129456,
          129398,
          987
         ],
         "xaxis": "x3",
         "y": [
          27.24024653967512,
          44.34815071123089,
          26.79293347074842,
          null,
          null,
          null,
          null,
          null,
          null,
          null,
          null,
          null,
          null,
          null,
          21.5310512763465
         ],
         "yaxis": "y3"
        },
        {
         "hovertemplate": "cluster=d<br>superCluster=6<br>affectedDemographicIndex=%{x}<br>forwardCosts=%{y}<extra></extra>",
         "legendgroup": "d",
         "marker": {
          "color": "#ab63fa",
          "symbol": "circle"
         },
         "mode": "markers",
         "name": "d",
         "orientation": "v",
         "showlegend": true,
         "type": "scatter",
         "x": [
          135836,
          14256
         ],
         "xaxis": "x4",
         "y": [
          27.06907498807751,
          42.5535862376061
         ],
         "yaxis": "y4"
        },
        {
         "hovertemplate": "cluster=e<br>superCluster=2<br>affectedDemographicIndex=%{x}<br>forwardCosts=%{y}<extra></extra>",
         "legendgroup": "e",
         "marker": {
          "color": "#FFA15A",
          "symbol": "circle"
         },
         "mode": "markers",
         "name": "e",
         "orientation": "v",
         "showlegend": true,
         "type": "scatter",
         "x": [
          62307,
          426600,
          63756,
          83572,
          45680
         ],
         "xaxis": "x",
         "y": [
          31.50619246088777,
          32.19240411440666,
          32.34352810772269,
          null,
          33.38968846809694
         ],
         "yaxis": "y"
        },
        {
         "hovertemplate": "cluster=f<br>superCluster=6<br>affectedDemographicIndex=%{x}<br>forwardCosts=%{y}<extra></extra>",
         "legendgroup": "f",
         "marker": {
          "color": "#19d3f3",
          "symbol": "circle"
         },
         "mode": "markers",
         "name": "f",
         "orientation": "v",
         "showlegend": true,
         "type": "scatter",
         "x": [
          202878,
          41976
         ],
         "xaxis": "x4",
         "y": [
          53.52386020204078,
          56.06723259367504
         ],
         "yaxis": "y4"
        },
        {
         "hovertemplate": "cluster=g<br>superCluster=3<br>affectedDemographicIndex=%{x}<br>forwardCosts=%{y}<extra></extra>",
         "legendgroup": "g",
         "marker": {
          "color": "#FF6692",
          "symbol": "circle"
         },
         "mode": "markers",
         "name": "g",
         "orientation": "v",
         "showlegend": true,
         "type": "scatter",
         "x": [
          881708,
          89768,
          465150,
          823410,
          78883,
          899199,
          1260180,
          2060160,
          1324862,
          958208,
          868248,
          1136520,
          851800,
          349058,
          337064,
          425068,
          1209400,
          1056760,
          1960757,
          2085300,
          103478,
          1408320,
          124271,
          74700,
          149182
         ],
         "xaxis": "x2",
         "y": [
          null,
          null,
          null,
          null,
          null,
          null,
          null,
          null,
          null,
          null,
          null,
          null,
          null,
          null,
          null,
          null,
          null,
          null,
          null,
          null,
          null,
          null,
          null,
          null,
          null
         ],
         "yaxis": "y2"
        },
        {
         "hovertemplate": "cluster=h<br>superCluster=6<br>affectedDemographicIndex=%{x}<br>forwardCosts=%{y}<extra></extra>",
         "legendgroup": "h",
         "marker": {
          "color": "#B6E880",
          "symbol": "circle"
         },
         "mode": "markers",
         "name": "h",
         "orientation": "v",
         "showlegend": true,
         "type": "scatter",
         "x": [
          534450
         ],
         "xaxis": "x4",
         "y": [
          null
         ],
         "yaxis": "y4"
        },
        {
         "hovertemplate": "cluster=i<br>superCluster=5<br>affectedDemographicIndex=%{x}<br>forwardCosts=%{y}<extra></extra>",
         "legendgroup": "i",
         "marker": {
          "color": "#FF97FF",
          "symbol": "circle"
         },
         "mode": "markers",
         "name": "i",
         "orientation": "v",
         "showlegend": true,
         "type": "scatter",
         "x": [
          28350,
          237249,
          68284,
          358470,
          189144,
          185218,
          479343,
          114520,
          1030960,
          975528
         ],
         "xaxis": "x5",
         "y": [
          28.87781279892828,
          35.99853692884556,
          31.54202349410252,
          30.77672164864343,
          28.52961591797585,
          34.28214296124639,
          27.13855596827596,
          32.04031370800105,
          37.11515503329683,
          36.51357044322227
         ],
         "yaxis": "y5"
        },
        {
         "hovertemplate": "cluster=j<br>superCluster=2<br>affectedDemographicIndex=%{x}<br>forwardCosts=%{y}<extra></extra>",
         "legendgroup": "j",
         "marker": {
          "color": "#FECB52",
          "symbol": "circle"
         },
         "mode": "markers",
         "name": "j",
         "orientation": "v",
         "showlegend": true,
         "type": "scatter",
         "x": [
          117880,
          167040,
          27352,
          193704,
          176523
         ],
         "xaxis": "x",
         "y": [
          34.79907335758241,
          32.07671092948571,
          28.58163601428612,
          38.8913805808987,
          27.34965194854932
         ],
         "yaxis": "y"
        },
        {
         "hovertemplate": "cluster=k<br>superCluster=6<br>affectedDemographicIndex=%{x}<br>forwardCosts=%{y}<extra></extra>",
         "legendgroup": "k",
         "marker": {
          "color": "#636efa",
          "symbol": "circle"
         },
         "mode": "markers",
         "name": "k",
         "orientation": "v",
         "showlegend": true,
         "type": "scatter",
         "x": [
          2247414,
          1250957
         ],
         "xaxis": "x4",
         "y": [
          null,
          null
         ],
         "yaxis": "y4"
        },
        {
         "hovertemplate": "cluster=l<br>superCluster=2<br>affectedDemographicIndex=%{x}<br>forwardCosts=%{y}<extra></extra>",
         "legendgroup": "l",
         "marker": {
          "color": "#EF553B",
          "symbol": "circle"
         },
         "mode": "markers",
         "name": "l",
         "orientation": "v",
         "showlegend": true,
         "type": "scatter",
         "x": [
          35156,
          53240,
          43750,
          9780,
          8844,
          54990,
          48866,
          32428,
          46410,
          1,
          1,
          30,
          95544,
          9636,
          130980,
          205,
          841,
          2703,
          117,
          11628,
          1950,
          9666,
          1728,
          33,
          41895,
          62340,
          18828,
          26044,
          4352,
          0,
          7605,
          45168,
          7236,
          12508,
          1144,
          1241,
          337,
          5880,
          101916,
          2304,
          3538,
          15844,
          28920,
          304850,
          4964,
          21432,
          7881,
          5160,
          131428,
          1,
          1,
          46170,
          27210,
          156519,
          35711,
          28208,
          27820,
          1215076,
          32886,
          213246,
          34485,
          35262,
          119814,
          867566,
          4,
          147,
          152892,
          78318,
          61225,
          19754,
          176286,
          672672,
          293472
         ],
         "xaxis": "x",
         "y": [
          35.48307661769463,
          30.12391481674996,
          40.94226052447277,
          28.96004236009545,
          46.88062600631688,
          34.57157513596474,
          36.32928996192542,
          27.99179096667748,
          36.47495914695248,
          42.67261999413228,
          32.58958931422833,
          43.3591201136489,
          41.03721677625789,
          38.69929559799512,
          26.99166989357789,
          35.66884121423095,
          27.24753037621396,
          25.89326275076839,
          24.34510182652009,
          30.4092276521151,
          36.55445095705307,
          33.40673524504054,
          29.05039917416735,
          41.39039958468649,
          30.56045186951857,
          32.70454602303808,
          24.73154550310451,
          29.01293766816209,
          26.11187671745742,
          33.01205100424453,
          31.8310434200916,
          32.14215304959185,
          22.82008967803819,
          26.27103251594481,
          36.08033863419345,
          40.84195848039801,
          26.92897792209359,
          46.70443758858576,
          33.82169829101304,
          39.09303680408497,
          46.86721182395764,
          46.14121275324291,
          29.58549169732905,
          32.97625860423117,
          34.64156850191705,
          47.91805286435581,
          46.1903487277968,
          66.98345863088947,
          27.94365859902484,
          59.99731290132213,
          37.57020388966903,
          29.47054665573386,
          27.83289592198541,
          29.78953014049829,
          34.77402360276901,
          40.38540557107057,
          31.16478740050017,
          null,
          30.47047024554609,
          30.43206050919556,
          28.45612913761902,
          39.04602097274238,
          35.04034279607156,
          27.98087719028491,
          57.85578706777944,
          48.21332791487313,
          39.77830176526733,
          56.9084902623193,
          30.60923897182601,
          44.69087115773205,
          47.33959926101113,
          30.40230594855005,
          40.19303212661201
         ],
         "yaxis": "y"
        },
        {
         "hovertemplate": "cluster=m<br>superCluster=6<br>affectedDemographicIndex=%{x}<br>forwardCosts=%{y}<extra></extra>",
         "legendgroup": "m",
         "marker": {
          "color": "#00cc96",
          "symbol": "circle"
         },
         "mode": "markers",
         "name": "m",
         "orientation": "v",
         "showlegend": true,
         "type": "scatter",
         "x": [
          12880,
          1256280,
          125776,
          67730,
          701916,
          495,
          286824,
          1923100
         ],
         "xaxis": "x4",
         "y": [
          null,
          null,
          null,
          null,
          null,
          null,
          null,
          null
         ],
         "yaxis": "y4"
        },
        {
         "hovertemplate": "cluster=n<br>superCluster=6<br>affectedDemographicIndex=%{x}<br>forwardCosts=%{y}<extra></extra>",
         "legendgroup": "n",
         "marker": {
          "color": "#ab63fa",
          "symbol": "circle"
         },
         "mode": "markers",
         "name": "n",
         "orientation": "v",
         "showlegend": true,
         "type": "scatter",
         "x": [
          710116,
          96635,
          528150
         ],
         "xaxis": "x4",
         "y": [
          55.49917978245082,
          54.81901670659555,
          75.74671017002709
         ],
         "yaxis": "y4"
        },
        {
         "hovertemplate": "cluster=o<br>superCluster=3<br>affectedDemographicIndex=%{x}<br>forwardCosts=%{y}<extra></extra>",
         "legendgroup": "o",
         "marker": {
          "color": "#FFA15A",
          "symbol": "circle"
         },
         "mode": "markers",
         "name": "o",
         "orientation": "v",
         "showlegend": true,
         "type": "scatter",
         "x": [
          4761204,
          6537893,
          5391295,
          4104932,
          1878360,
          901005,
          1062328,
          2063490,
          3029492,
          1322208,
          2151450,
          3400056,
          3517869,
          4414793,
          4840420,
          6855156
         ],
         "xaxis": "x2",
         "y": [
          397.8125580203363,
          161.9068471851586,
          41.97488415930093,
          30.96846485118937,
          46.11739302711295,
          28.96721016965468,
          43.99706432697267,
          27.08821467990169,
          25.24765960058657,
          43.55450449291699,
          36.99258549230899,
          null,
          null,
          null,
          null,
          null
         ],
         "yaxis": "y2"
        },
        {
         "hovertemplate": "cluster=p<br>superCluster=1<br>affectedDemographicIndex=%{x}<br>forwardCosts=%{y}<extra></extra>",
         "legendgroup": "p",
         "marker": {
          "color": "#19d3f3",
          "symbol": "circle"
         },
         "mode": "markers",
         "name": "p",
         "orientation": "v",
         "showlegend": true,
         "type": "scatter",
         "x": [
          480,
          1023,
          2592,
          2080,
          21528,
          1840,
          159360,
          60860,
          83538,
          32544,
          116033,
          36126,
          57096,
          19290,
          19737,
          31610,
          75915
         ],
         "xaxis": "x6",
         "y": [
          17.7686985534102,
          33.82499921093063,
          46.10447815547809,
          24.8194898749141,
          27.68233328044696,
          22.55393609248027,
          41.35741940578214,
          26.22173756145437,
          32.36688315829598,
          35.83408050946259,
          33.71634107987643,
          30.60836201420702,
          28.90083326091658,
          29.48520145168671,
          23.78183612541012,
          30.12127637919276,
          34.36934710393676
         ],
         "yaxis": "y6"
        }
       ],
       "layout": {
        "annotations": [
         {
          "font": {},
          "showarrow": false,
          "text": "superCluster=2",
          "x": 0.075,
          "xanchor": "center",
          "xref": "paper",
          "y": 1,
          "yanchor": "bottom",
          "yref": "paper"
         },
         {
          "font": {},
          "showarrow": false,
          "text": "superCluster=3",
          "x": 0.24499999999999997,
          "xanchor": "center",
          "xref": "paper",
          "y": 1,
          "yanchor": "bottom",
          "yref": "paper"
         },
         {
          "font": {},
          "showarrow": false,
          "text": "superCluster=4",
          "x": 0.415,
          "xanchor": "center",
          "xref": "paper",
          "y": 1,
          "yanchor": "bottom",
          "yref": "paper"
         },
         {
          "font": {},
          "showarrow": false,
          "text": "superCluster=6",
          "x": 0.585,
          "xanchor": "center",
          "xref": "paper",
          "y": 1,
          "yanchor": "bottom",
          "yref": "paper"
         },
         {
          "font": {},
          "showarrow": false,
          "text": "superCluster=5",
          "x": 0.7549999999999999,
          "xanchor": "center",
          "xref": "paper",
          "y": 1,
          "yanchor": "bottom",
          "yref": "paper"
         },
         {
          "font": {},
          "showarrow": false,
          "text": "superCluster=1",
          "x": 0.925,
          "xanchor": "center",
          "xref": "paper",
          "y": 1,
          "yanchor": "bottom",
          "yref": "paper"
         }
        ],
        "legend": {
         "title": {
          "text": "cluster"
         },
         "tracegroupgap": 0
        },
        "template": {
         "data": {
          "bar": [
           {
            "error_x": {
             "color": "#2a3f5f"
            },
            "error_y": {
             "color": "#2a3f5f"
            },
            "marker": {
             "line": {
              "color": "#E5ECF6",
              "width": 0.5
             },
             "pattern": {
              "fillmode": "overlay",
              "size": 10,
              "solidity": 0.2
             }
            },
            "type": "bar"
           }
          ],
          "barpolar": [
           {
            "marker": {
             "line": {
              "color": "#E5ECF6",
              "width": 0.5
             },
             "pattern": {
              "fillmode": "overlay",
              "size": 10,
              "solidity": 0.2
             }
            },
            "type": "barpolar"
           }
          ],
          "carpet": [
           {
            "aaxis": {
             "endlinecolor": "#2a3f5f",
             "gridcolor": "white",
             "linecolor": "white",
             "minorgridcolor": "white",
             "startlinecolor": "#2a3f5f"
            },
            "baxis": {
             "endlinecolor": "#2a3f5f",
             "gridcolor": "white",
             "linecolor": "white",
             "minorgridcolor": "white",
             "startlinecolor": "#2a3f5f"
            },
            "type": "carpet"
           }
          ],
          "choropleth": [
           {
            "colorbar": {
             "outlinewidth": 0,
             "ticks": ""
            },
            "type": "choropleth"
           }
          ],
          "contour": [
           {
            "colorbar": {
             "outlinewidth": 0,
             "ticks": ""
            },
            "colorscale": [
             [
              0,
              "#0d0887"
             ],
             [
              0.1111111111111111,
              "#46039f"
             ],
             [
              0.2222222222222222,
              "#7201a8"
             ],
             [
              0.3333333333333333,
              "#9c179e"
             ],
             [
              0.4444444444444444,
              "#bd3786"
             ],
             [
              0.5555555555555556,
              "#d8576b"
             ],
             [
              0.6666666666666666,
              "#ed7953"
             ],
             [
              0.7777777777777778,
              "#fb9f3a"
             ],
             [
              0.8888888888888888,
              "#fdca26"
             ],
             [
              1,
              "#f0f921"
             ]
            ],
            "type": "contour"
           }
          ],
          "contourcarpet": [
           {
            "colorbar": {
             "outlinewidth": 0,
             "ticks": ""
            },
            "type": "contourcarpet"
           }
          ],
          "heatmap": [
           {
            "colorbar": {
             "outlinewidth": 0,
             "ticks": ""
            },
            "colorscale": [
             [
              0,
              "#0d0887"
             ],
             [
              0.1111111111111111,
              "#46039f"
             ],
             [
              0.2222222222222222,
              "#7201a8"
             ],
             [
              0.3333333333333333,
              "#9c179e"
             ],
             [
              0.4444444444444444,
              "#bd3786"
             ],
             [
              0.5555555555555556,
              "#d8576b"
             ],
             [
              0.6666666666666666,
              "#ed7953"
             ],
             [
              0.7777777777777778,
              "#fb9f3a"
             ],
             [
              0.8888888888888888,
              "#fdca26"
             ],
             [
              1,
              "#f0f921"
             ]
            ],
            "type": "heatmap"
           }
          ],
          "heatmapgl": [
           {
            "colorbar": {
             "outlinewidth": 0,
             "ticks": ""
            },
            "colorscale": [
             [
              0,
              "#0d0887"
             ],
             [
              0.1111111111111111,
              "#46039f"
             ],
             [
              0.2222222222222222,
              "#7201a8"
             ],
             [
              0.3333333333333333,
              "#9c179e"
             ],
             [
              0.4444444444444444,
              "#bd3786"
             ],
             [
              0.5555555555555556,
              "#d8576b"
             ],
             [
              0.6666666666666666,
              "#ed7953"
             ],
             [
              0.7777777777777778,
              "#fb9f3a"
             ],
             [
              0.8888888888888888,
              "#fdca26"
             ],
             [
              1,
              "#f0f921"
             ]
            ],
            "type": "heatmapgl"
           }
          ],
          "histogram": [
           {
            "marker": {
             "pattern": {
              "fillmode": "overlay",
              "size": 10,
              "solidity": 0.2
             }
            },
            "type": "histogram"
           }
          ],
          "histogram2d": [
           {
            "colorbar": {
             "outlinewidth": 0,
             "ticks": ""
            },
            "colorscale": [
             [
              0,
              "#0d0887"
             ],
             [
              0.1111111111111111,
              "#46039f"
             ],
             [
              0.2222222222222222,
              "#7201a8"
             ],
             [
              0.3333333333333333,
              "#9c179e"
             ],
             [
              0.4444444444444444,
              "#bd3786"
             ],
             [
              0.5555555555555556,
              "#d8576b"
             ],
             [
              0.6666666666666666,
              "#ed7953"
             ],
             [
              0.7777777777777778,
              "#fb9f3a"
             ],
             [
              0.8888888888888888,
              "#fdca26"
             ],
             [
              1,
              "#f0f921"
             ]
            ],
            "type": "histogram2d"
           }
          ],
          "histogram2dcontour": [
           {
            "colorbar": {
             "outlinewidth": 0,
             "ticks": ""
            },
            "colorscale": [
             [
              0,
              "#0d0887"
             ],
             [
              0.1111111111111111,
              "#46039f"
             ],
             [
              0.2222222222222222,
              "#7201a8"
             ],
             [
              0.3333333333333333,
              "#9c179e"
             ],
             [
              0.4444444444444444,
              "#bd3786"
             ],
             [
              0.5555555555555556,
              "#d8576b"
             ],
             [
              0.6666666666666666,
              "#ed7953"
             ],
             [
              0.7777777777777778,
              "#fb9f3a"
             ],
             [
              0.8888888888888888,
              "#fdca26"
             ],
             [
              1,
              "#f0f921"
             ]
            ],
            "type": "histogram2dcontour"
           }
          ],
          "mesh3d": [
           {
            "colorbar": {
             "outlinewidth": 0,
             "ticks": ""
            },
            "type": "mesh3d"
           }
          ],
          "parcoords": [
           {
            "line": {
             "colorbar": {
              "outlinewidth": 0,
              "ticks": ""
             }
            },
            "type": "parcoords"
           }
          ],
          "pie": [
           {
            "automargin": true,
            "type": "pie"
           }
          ],
          "scatter": [
           {
            "marker": {
             "colorbar": {
              "outlinewidth": 0,
              "ticks": ""
             }
            },
            "type": "scatter"
           }
          ],
          "scatter3d": [
           {
            "line": {
             "colorbar": {
              "outlinewidth": 0,
              "ticks": ""
             }
            },
            "marker": {
             "colorbar": {
              "outlinewidth": 0,
              "ticks": ""
             }
            },
            "type": "scatter3d"
           }
          ],
          "scattercarpet": [
           {
            "marker": {
             "colorbar": {
              "outlinewidth": 0,
              "ticks": ""
             }
            },
            "type": "scattercarpet"
           }
          ],
          "scattergeo": [
           {
            "marker": {
             "colorbar": {
              "outlinewidth": 0,
              "ticks": ""
             }
            },
            "type": "scattergeo"
           }
          ],
          "scattergl": [
           {
            "marker": {
             "colorbar": {
              "outlinewidth": 0,
              "ticks": ""
             }
            },
            "type": "scattergl"
           }
          ],
          "scattermapbox": [
           {
            "marker": {
             "colorbar": {
              "outlinewidth": 0,
              "ticks": ""
             }
            },
            "type": "scattermapbox"
           }
          ],
          "scatterpolar": [
           {
            "marker": {
             "colorbar": {
              "outlinewidth": 0,
              "ticks": ""
             }
            },
            "type": "scatterpolar"
           }
          ],
          "scatterpolargl": [
           {
            "marker": {
             "colorbar": {
              "outlinewidth": 0,
              "ticks": ""
             }
            },
            "type": "scatterpolargl"
           }
          ],
          "scatterternary": [
           {
            "marker": {
             "colorbar": {
              "outlinewidth": 0,
              "ticks": ""
             }
            },
            "type": "scatterternary"
           }
          ],
          "surface": [
           {
            "colorbar": {
             "outlinewidth": 0,
             "ticks": ""
            },
            "colorscale": [
             [
              0,
              "#0d0887"
             ],
             [
              0.1111111111111111,
              "#46039f"
             ],
             [
              0.2222222222222222,
              "#7201a8"
             ],
             [
              0.3333333333333333,
              "#9c179e"
             ],
             [
              0.4444444444444444,
              "#bd3786"
             ],
             [
              0.5555555555555556,
              "#d8576b"
             ],
             [
              0.6666666666666666,
              "#ed7953"
             ],
             [
              0.7777777777777778,
              "#fb9f3a"
             ],
             [
              0.8888888888888888,
              "#fdca26"
             ],
             [
              1,
              "#f0f921"
             ]
            ],
            "type": "surface"
           }
          ],
          "table": [
           {
            "cells": {
             "fill": {
              "color": "#EBF0F8"
             },
             "line": {
              "color": "white"
             }
            },
            "header": {
             "fill": {
              "color": "#C8D4E3"
             },
             "line": {
              "color": "white"
             }
            },
            "type": "table"
           }
          ]
         },
         "layout": {
          "annotationdefaults": {
           "arrowcolor": "#2a3f5f",
           "arrowhead": 0,
           "arrowwidth": 1
          },
          "autotypenumbers": "strict",
          "coloraxis": {
           "colorbar": {
            "outlinewidth": 0,
            "ticks": ""
           }
          },
          "colorscale": {
           "diverging": [
            [
             0,
             "#8e0152"
            ],
            [
             0.1,
             "#c51b7d"
            ],
            [
             0.2,
             "#de77ae"
            ],
            [
             0.3,
             "#f1b6da"
            ],
            [
             0.4,
             "#fde0ef"
            ],
            [
             0.5,
             "#f7f7f7"
            ],
            [
             0.6,
             "#e6f5d0"
            ],
            [
             0.7,
             "#b8e186"
            ],
            [
             0.8,
             "#7fbc41"
            ],
            [
             0.9,
             "#4d9221"
            ],
            [
             1,
             "#276419"
            ]
           ],
           "sequential": [
            [
             0,
             "#0d0887"
            ],
            [
             0.1111111111111111,
             "#46039f"
            ],
            [
             0.2222222222222222,
             "#7201a8"
            ],
            [
             0.3333333333333333,
             "#9c179e"
            ],
            [
             0.4444444444444444,
             "#bd3786"
            ],
            [
             0.5555555555555556,
             "#d8576b"
            ],
            [
             0.6666666666666666,
             "#ed7953"
            ],
            [
             0.7777777777777778,
             "#fb9f3a"
            ],
            [
             0.8888888888888888,
             "#fdca26"
            ],
            [
             1,
             "#f0f921"
            ]
           ],
           "sequentialminus": [
            [
             0,
             "#0d0887"
            ],
            [
             0.1111111111111111,
             "#46039f"
            ],
            [
             0.2222222222222222,
             "#7201a8"
            ],
            [
             0.3333333333333333,
             "#9c179e"
            ],
            [
             0.4444444444444444,
             "#bd3786"
            ],
            [
             0.5555555555555556,
             "#d8576b"
            ],
            [
             0.6666666666666666,
             "#ed7953"
            ],
            [
             0.7777777777777778,
             "#fb9f3a"
            ],
            [
             0.8888888888888888,
             "#fdca26"
            ],
            [
             1,
             "#f0f921"
            ]
           ]
          },
          "colorway": [
           "#636efa",
           "#EF553B",
           "#00cc96",
           "#ab63fa",
           "#FFA15A",
           "#19d3f3",
           "#FF6692",
           "#B6E880",
           "#FF97FF",
           "#FECB52"
          ],
          "font": {
           "color": "#2a3f5f"
          },
          "geo": {
           "bgcolor": "white",
           "lakecolor": "white",
           "landcolor": "#E5ECF6",
           "showlakes": true,
           "showland": true,
           "subunitcolor": "white"
          },
          "hoverlabel": {
           "align": "left"
          },
          "hovermode": "closest",
          "mapbox": {
           "style": "light"
          },
          "paper_bgcolor": "white",
          "plot_bgcolor": "#E5ECF6",
          "polar": {
           "angularaxis": {
            "gridcolor": "white",
            "linecolor": "white",
            "ticks": ""
           },
           "bgcolor": "#E5ECF6",
           "radialaxis": {
            "gridcolor": "white",
            "linecolor": "white",
            "ticks": ""
           }
          },
          "scene": {
           "xaxis": {
            "backgroundcolor": "#E5ECF6",
            "gridcolor": "white",
            "gridwidth": 2,
            "linecolor": "white",
            "showbackground": true,
            "ticks": "",
            "zerolinecolor": "white"
           },
           "yaxis": {
            "backgroundcolor": "#E5ECF6",
            "gridcolor": "white",
            "gridwidth": 2,
            "linecolor": "white",
            "showbackground": true,
            "ticks": "",
            "zerolinecolor": "white"
           },
           "zaxis": {
            "backgroundcolor": "#E5ECF6",
            "gridcolor": "white",
            "gridwidth": 2,
            "linecolor": "white",
            "showbackground": true,
            "ticks": "",
            "zerolinecolor": "white"
           }
          },
          "shapedefaults": {
           "line": {
            "color": "#2a3f5f"
           }
          },
          "ternary": {
           "aaxis": {
            "gridcolor": "white",
            "linecolor": "white",
            "ticks": ""
           },
           "baxis": {
            "gridcolor": "white",
            "linecolor": "white",
            "ticks": ""
           },
           "bgcolor": "#E5ECF6",
           "caxis": {
            "gridcolor": "white",
            "linecolor": "white",
            "ticks": ""
           }
          },
          "title": {
           "x": 0.05
          },
          "xaxis": {
           "automargin": true,
           "gridcolor": "white",
           "linecolor": "white",
           "ticks": "",
           "title": {
            "standoff": 15
           },
           "zerolinecolor": "white",
           "zerolinewidth": 2
          },
          "yaxis": {
           "automargin": true,
           "gridcolor": "white",
           "linecolor": "white",
           "ticks": "",
           "title": {
            "standoff": 15
           },
           "zerolinecolor": "white",
           "zerolinewidth": 2
          }
         }
        },
        "title": {
         "font": {
          "size": 24
         },
         "text": "Chaining Multiple Figure Operations With A Plotly Express Figure"
        },
        "xaxis": {
         "anchor": "y",
         "domain": [
          0,
          0.15
         ],
         "showgrid": false,
         "title": {
          "text": "affectedDemographicIndex"
         }
        },
        "xaxis2": {
         "anchor": "y2",
         "domain": [
          0.16999999999999998,
          0.31999999999999995
         ],
         "matches": "x",
         "showgrid": false,
         "title": {
          "text": "affectedDemographicIndex"
         }
        },
        "xaxis3": {
         "anchor": "y3",
         "domain": [
          0.33999999999999997,
          0.49
         ],
         "matches": "x",
         "showgrid": false,
         "title": {
          "text": "affectedDemographicIndex"
         }
        },
        "xaxis4": {
         "anchor": "y4",
         "domain": [
          0.51,
          0.66
         ],
         "matches": "x",
         "showgrid": false,
         "title": {
          "text": "affectedDemographicIndex"
         }
        },
        "xaxis5": {
         "anchor": "y5",
         "domain": [
          0.6799999999999999,
          0.83
         ],
         "matches": "x",
         "showgrid": false,
         "title": {
          "text": "affectedDemographicIndex"
         }
        },
        "xaxis6": {
         "anchor": "y6",
         "domain": [
          0.85,
          1
         ],
         "matches": "x",
         "showgrid": false,
         "title": {
          "text": "affectedDemographicIndex"
         }
        },
        "yaxis": {
         "anchor": "x",
         "domain": [
          0,
          1
         ],
         "title": {
          "text": "forwardCosts"
         }
        },
        "yaxis2": {
         "anchor": "x2",
         "domain": [
          0,
          1
         ],
         "matches": "y",
         "showticklabels": false
        },
        "yaxis3": {
         "anchor": "x3",
         "domain": [
          0,
          1
         ],
         "matches": "y",
         "showticklabels": false
        },
        "yaxis4": {
         "anchor": "x4",
         "domain": [
          0,
          1
         ],
         "matches": "y",
         "showticklabels": false
        },
        "yaxis5": {
         "anchor": "x5",
         "domain": [
          0,
          1
         ],
         "matches": "y",
         "showticklabels": false
        },
        "yaxis6": {
         "anchor": "x6",
         "domain": [
          0,
          1
         ],
         "matches": "y",
         "showticklabels": false
        }
       }
      }
     },
     "metadata": {},
     "output_type": "display_data"
    }
   ],
   "source": [
    "import plotly.express as px\n",
    "\n",
    "df = total\n",
    "\n",
    "(px.scatter(df, x=\"affectedDemographicIndex\", y=\"forwardCosts\", color=\"cluster\",\n",
    "            facet_col=\"superCluster\", \n",
    "            title=\"Chaining Multiple Figure Operations With A Plotly Express Figure\")\n",
    " .update_layout(title_font_size=24)\n",
    " .update_xaxes(showgrid=False)\n",
    " .update_traces(\n",
    "     line=dict(dash=\"dot\", width=4),\n",
    "     selector=dict(type=\"scatter\", mode=\"lines\"))\n",
    ").show()"
   ]
  },
  {
   "cell_type": "code",
   "execution_count": 60,
   "id": "1cba479a",
   "metadata": {},
   "outputs": [
    {
     "data": {
      "application/vnd.plotly.v1+json": {
       "config": {
        "plotlyServerURL": "https://plot.ly"
       },
       "data": [
        {
         "name": "AverageAge",
         "type": "bar",
         "x": [
          "Highest SO2 Emitters",
          "Large Env. Impacts, Pro-Coal Public Sentiment",
          "High DAC & Community Impacts",
          "Minimal DAC and Community Impacts",
          "Newer Plants, Anti-Coal Public Sentiment",
          "Un-Grouped"
         ],
         "y": [
          0.9045901045598901,
          0.9301519898749437,
          0.9114115572530587,
          0.738770993524142,
          0
         ]
        },
        {
         "name": "CO2limitsOppose",
         "type": "bar",
         "x": [
          "Highest SO2 Emitters",
          "Large Env. Impacts, Pro-Coal Public Sentiment",
          "High DAC & Community Impacts",
          "Minimal DAC and Community Impacts",
          "Newer Plants, Anti-Coal Public Sentiment",
          "Un-Grouped"
         ],
         "y": [
          0.759960074286824,
          0.7536058098437608,
          0.3505474188973136,
          0.7534456991862772,
          0.3115530345395716
         ]
        },
        {
         "name": "PLGENACL",
         "type": "bar",
         "x": [
          "Highest SO2 Emitters",
          "Large Env. Impacts, Pro-Coal Public Sentiment",
          "High DAC & Community Impacts",
          "Minimal DAC and Community Impacts",
          "Newer Plants, Anti-Coal Public Sentiment",
          "Un-Grouped"
         ],
         "y": [
          0.95996859138982,
          0.9296459141909112,
          0.4306084837779003,
          0.4996309116820812,
          0.8924340317243187
         ]
        },
        {
         "name": "PLSO2AN",
         "type": "bar",
         "x": [
          "Highest SO2 Emitters",
          "Large Env. Impacts, Pro-Coal Public Sentiment",
          "High DAC & Community Impacts",
          "Minimal DAC and Community Impacts",
          "Newer Plants, Anti-Coal Public Sentiment",
          "Un-Grouped"
         ],
         "y": [
          0.9999999999999999,
          0.8371323858853783,
          0.5394873344254593,
          0.49729622517103633,
          0.7416120926124081
         ]
        },
        {
         "name": "affectedDemographicIndex",
         "type": "bar",
         "x": [
          "Highest SO2 Emitters",
          "Large Env. Impacts, Pro-Coal Public Sentiment",
          "High DAC & Community Impacts",
          "Minimal DAC and Community Impacts",
          "Newer Plants, Anti-Coal Public Sentiment",
          "Un-Grouped"
         ],
         "y": [
          0.7082632183134101,
          0.769724299749662,
          0.9164388721404277,
          0,
          0.8698562746399501
         ]
        },
        {
         "name": "forwardCosts",
         "type": "bar",
         "x": [
          "Highest SO2 Emitters",
          "Large Env. Impacts, Pro-Coal Public Sentiment",
          "High DAC & Community Impacts",
          "Minimal DAC and Community Impacts",
          "Newer Plants, Anti-Coal Public Sentiment",
          "Un-Grouped"
         ],
         "y": [
          0.06767017914294371,
          0.33630138015426897,
          0.903967134240879,
          0,
          0.20981508232784352
         ]
        }
       ],
       "layout": {
        "barmode": "stack",
        "template": {
         "data": {
          "bar": [
           {
            "error_x": {
             "color": "#2a3f5f"
            },
            "error_y": {
             "color": "#2a3f5f"
            },
            "marker": {
             "line": {
              "color": "#E5ECF6",
              "width": 0.5
             },
             "pattern": {
              "fillmode": "overlay",
              "size": 10,
              "solidity": 0.2
             }
            },
            "type": "bar"
           }
          ],
          "barpolar": [
           {
            "marker": {
             "line": {
              "color": "#E5ECF6",
              "width": 0.5
             },
             "pattern": {
              "fillmode": "overlay",
              "size": 10,
              "solidity": 0.2
             }
            },
            "type": "barpolar"
           }
          ],
          "carpet": [
           {
            "aaxis": {
             "endlinecolor": "#2a3f5f",
             "gridcolor": "white",
             "linecolor": "white",
             "minorgridcolor": "white",
             "startlinecolor": "#2a3f5f"
            },
            "baxis": {
             "endlinecolor": "#2a3f5f",
             "gridcolor": "white",
             "linecolor": "white",
             "minorgridcolor": "white",
             "startlinecolor": "#2a3f5f"
            },
            "type": "carpet"
           }
          ],
          "choropleth": [
           {
            "colorbar": {
             "outlinewidth": 0,
             "ticks": ""
            },
            "type": "choropleth"
           }
          ],
          "contour": [
           {
            "colorbar": {
             "outlinewidth": 0,
             "ticks": ""
            },
            "colorscale": [
             [
              0,
              "#0d0887"
             ],
             [
              0.1111111111111111,
              "#46039f"
             ],
             [
              0.2222222222222222,
              "#7201a8"
             ],
             [
              0.3333333333333333,
              "#9c179e"
             ],
             [
              0.4444444444444444,
              "#bd3786"
             ],
             [
              0.5555555555555556,
              "#d8576b"
             ],
             [
              0.6666666666666666,
              "#ed7953"
             ],
             [
              0.7777777777777778,
              "#fb9f3a"
             ],
             [
              0.8888888888888888,
              "#fdca26"
             ],
             [
              1,
              "#f0f921"
             ]
            ],
            "type": "contour"
           }
          ],
          "contourcarpet": [
           {
            "colorbar": {
             "outlinewidth": 0,
             "ticks": ""
            },
            "type": "contourcarpet"
           }
          ],
          "heatmap": [
           {
            "colorbar": {
             "outlinewidth": 0,
             "ticks": ""
            },
            "colorscale": [
             [
              0,
              "#0d0887"
             ],
             [
              0.1111111111111111,
              "#46039f"
             ],
             [
              0.2222222222222222,
              "#7201a8"
             ],
             [
              0.3333333333333333,
              "#9c179e"
             ],
             [
              0.4444444444444444,
              "#bd3786"
             ],
             [
              0.5555555555555556,
              "#d8576b"
             ],
             [
              0.6666666666666666,
              "#ed7953"
             ],
             [
              0.7777777777777778,
              "#fb9f3a"
             ],
             [
              0.8888888888888888,
              "#fdca26"
             ],
             [
              1,
              "#f0f921"
             ]
            ],
            "type": "heatmap"
           }
          ],
          "heatmapgl": [
           {
            "colorbar": {
             "outlinewidth": 0,
             "ticks": ""
            },
            "colorscale": [
             [
              0,
              "#0d0887"
             ],
             [
              0.1111111111111111,
              "#46039f"
             ],
             [
              0.2222222222222222,
              "#7201a8"
             ],
             [
              0.3333333333333333,
              "#9c179e"
             ],
             [
              0.4444444444444444,
              "#bd3786"
             ],
             [
              0.5555555555555556,
              "#d8576b"
             ],
             [
              0.6666666666666666,
              "#ed7953"
             ],
             [
              0.7777777777777778,
              "#fb9f3a"
             ],
             [
              0.8888888888888888,
              "#fdca26"
             ],
             [
              1,
              "#f0f921"
             ]
            ],
            "type": "heatmapgl"
           }
          ],
          "histogram": [
           {
            "marker": {
             "pattern": {
              "fillmode": "overlay",
              "size": 10,
              "solidity": 0.2
             }
            },
            "type": "histogram"
           }
          ],
          "histogram2d": [
           {
            "colorbar": {
             "outlinewidth": 0,
             "ticks": ""
            },
            "colorscale": [
             [
              0,
              "#0d0887"
             ],
             [
              0.1111111111111111,
              "#46039f"
             ],
             [
              0.2222222222222222,
              "#7201a8"
             ],
             [
              0.3333333333333333,
              "#9c179e"
             ],
             [
              0.4444444444444444,
              "#bd3786"
             ],
             [
              0.5555555555555556,
              "#d8576b"
             ],
             [
              0.6666666666666666,
              "#ed7953"
             ],
             [
              0.7777777777777778,
              "#fb9f3a"
             ],
             [
              0.8888888888888888,
              "#fdca26"
             ],
             [
              1,
              "#f0f921"
             ]
            ],
            "type": "histogram2d"
           }
          ],
          "histogram2dcontour": [
           {
            "colorbar": {
             "outlinewidth": 0,
             "ticks": ""
            },
            "colorscale": [
             [
              0,
              "#0d0887"
             ],
             [
              0.1111111111111111,
              "#46039f"
             ],
             [
              0.2222222222222222,
              "#7201a8"
             ],
             [
              0.3333333333333333,
              "#9c179e"
             ],
             [
              0.4444444444444444,
              "#bd3786"
             ],
             [
              0.5555555555555556,
              "#d8576b"
             ],
             [
              0.6666666666666666,
              "#ed7953"
             ],
             [
              0.7777777777777778,
              "#fb9f3a"
             ],
             [
              0.8888888888888888,
              "#fdca26"
             ],
             [
              1,
              "#f0f921"
             ]
            ],
            "type": "histogram2dcontour"
           }
          ],
          "mesh3d": [
           {
            "colorbar": {
             "outlinewidth": 0,
             "ticks": ""
            },
            "type": "mesh3d"
           }
          ],
          "parcoords": [
           {
            "line": {
             "colorbar": {
              "outlinewidth": 0,
              "ticks": ""
             }
            },
            "type": "parcoords"
           }
          ],
          "pie": [
           {
            "automargin": true,
            "type": "pie"
           }
          ],
          "scatter": [
           {
            "marker": {
             "colorbar": {
              "outlinewidth": 0,
              "ticks": ""
             }
            },
            "type": "scatter"
           }
          ],
          "scatter3d": [
           {
            "line": {
             "colorbar": {
              "outlinewidth": 0,
              "ticks": ""
             }
            },
            "marker": {
             "colorbar": {
              "outlinewidth": 0,
              "ticks": ""
             }
            },
            "type": "scatter3d"
           }
          ],
          "scattercarpet": [
           {
            "marker": {
             "colorbar": {
              "outlinewidth": 0,
              "ticks": ""
             }
            },
            "type": "scattercarpet"
           }
          ],
          "scattergeo": [
           {
            "marker": {
             "colorbar": {
              "outlinewidth": 0,
              "ticks": ""
             }
            },
            "type": "scattergeo"
           }
          ],
          "scattergl": [
           {
            "marker": {
             "colorbar": {
              "outlinewidth": 0,
              "ticks": ""
             }
            },
            "type": "scattergl"
           }
          ],
          "scattermapbox": [
           {
            "marker": {
             "colorbar": {
              "outlinewidth": 0,
              "ticks": ""
             }
            },
            "type": "scattermapbox"
           }
          ],
          "scatterpolar": [
           {
            "marker": {
             "colorbar": {
              "outlinewidth": 0,
              "ticks": ""
             }
            },
            "type": "scatterpolar"
           }
          ],
          "scatterpolargl": [
           {
            "marker": {
             "colorbar": {
              "outlinewidth": 0,
              "ticks": ""
             }
            },
            "type": "scatterpolargl"
           }
          ],
          "scatterternary": [
           {
            "marker": {
             "colorbar": {
              "outlinewidth": 0,
              "ticks": ""
             }
            },
            "type": "scatterternary"
           }
          ],
          "surface": [
           {
            "colorbar": {
             "outlinewidth": 0,
             "ticks": ""
            },
            "colorscale": [
             [
              0,
              "#0d0887"
             ],
             [
              0.1111111111111111,
              "#46039f"
             ],
             [
              0.2222222222222222,
              "#7201a8"
             ],
             [
              0.3333333333333333,
              "#9c179e"
             ],
             [
              0.4444444444444444,
              "#bd3786"
             ],
             [
              0.5555555555555556,
              "#d8576b"
             ],
             [
              0.6666666666666666,
              "#ed7953"
             ],
             [
              0.7777777777777778,
              "#fb9f3a"
             ],
             [
              0.8888888888888888,
              "#fdca26"
             ],
             [
              1,
              "#f0f921"
             ]
            ],
            "type": "surface"
           }
          ],
          "table": [
           {
            "cells": {
             "fill": {
              "color": "#EBF0F8"
             },
             "line": {
              "color": "white"
             }
            },
            "header": {
             "fill": {
              "color": "#C8D4E3"
             },
             "line": {
              "color": "white"
             }
            },
            "type": "table"
           }
          ]
         },
         "layout": {
          "annotationdefaults": {
           "arrowcolor": "#2a3f5f",
           "arrowhead": 0,
           "arrowwidth": 1
          },
          "autotypenumbers": "strict",
          "coloraxis": {
           "colorbar": {
            "outlinewidth": 0,
            "ticks": ""
           }
          },
          "colorscale": {
           "diverging": [
            [
             0,
             "#8e0152"
            ],
            [
             0.1,
             "#c51b7d"
            ],
            [
             0.2,
             "#de77ae"
            ],
            [
             0.3,
             "#f1b6da"
            ],
            [
             0.4,
             "#fde0ef"
            ],
            [
             0.5,
             "#f7f7f7"
            ],
            [
             0.6,
             "#e6f5d0"
            ],
            [
             0.7,
             "#b8e186"
            ],
            [
             0.8,
             "#7fbc41"
            ],
            [
             0.9,
             "#4d9221"
            ],
            [
             1,
             "#276419"
            ]
           ],
           "sequential": [
            [
             0,
             "#0d0887"
            ],
            [
             0.1111111111111111,
             "#46039f"
            ],
            [
             0.2222222222222222,
             "#7201a8"
            ],
            [
             0.3333333333333333,
             "#9c179e"
            ],
            [
             0.4444444444444444,
             "#bd3786"
            ],
            [
             0.5555555555555556,
             "#d8576b"
            ],
            [
             0.6666666666666666,
             "#ed7953"
            ],
            [
             0.7777777777777778,
             "#fb9f3a"
            ],
            [
             0.8888888888888888,
             "#fdca26"
            ],
            [
             1,
             "#f0f921"
            ]
           ],
           "sequentialminus": [
            [
             0,
             "#0d0887"
            ],
            [
             0.1111111111111111,
             "#46039f"
            ],
            [
             0.2222222222222222,
             "#7201a8"
            ],
            [
             0.3333333333333333,
             "#9c179e"
            ],
            [
             0.4444444444444444,
             "#bd3786"
            ],
            [
             0.5555555555555556,
             "#d8576b"
            ],
            [
             0.6666666666666666,
             "#ed7953"
            ],
            [
             0.7777777777777778,
             "#fb9f3a"
            ],
            [
             0.8888888888888888,
             "#fdca26"
            ],
            [
             1,
             "#f0f921"
            ]
           ]
          },
          "colorway": [
           "#636efa",
           "#EF553B",
           "#00cc96",
           "#ab63fa",
           "#FFA15A",
           "#19d3f3",
           "#FF6692",
           "#B6E880",
           "#FF97FF",
           "#FECB52"
          ],
          "font": {
           "color": "#2a3f5f"
          },
          "geo": {
           "bgcolor": "white",
           "lakecolor": "white",
           "landcolor": "#E5ECF6",
           "showlakes": true,
           "showland": true,
           "subunitcolor": "white"
          },
          "hoverlabel": {
           "align": "left"
          },
          "hovermode": "closest",
          "mapbox": {
           "style": "light"
          },
          "paper_bgcolor": "white",
          "plot_bgcolor": "#E5ECF6",
          "polar": {
           "angularaxis": {
            "gridcolor": "white",
            "linecolor": "white",
            "ticks": ""
           },
           "bgcolor": "#E5ECF6",
           "radialaxis": {
            "gridcolor": "white",
            "linecolor": "white",
            "ticks": ""
           }
          },
          "scene": {
           "xaxis": {
            "backgroundcolor": "#E5ECF6",
            "gridcolor": "white",
            "gridwidth": 2,
            "linecolor": "white",
            "showbackground": true,
            "ticks": "",
            "zerolinecolor": "white"
           },
           "yaxis": {
            "backgroundcolor": "#E5ECF6",
            "gridcolor": "white",
            "gridwidth": 2,
            "linecolor": "white",
            "showbackground": true,
            "ticks": "",
            "zerolinecolor": "white"
           },
           "zaxis": {
            "backgroundcolor": "#E5ECF6",
            "gridcolor": "white",
            "gridwidth": 2,
            "linecolor": "white",
            "showbackground": true,
            "ticks": "",
            "zerolinecolor": "white"
           }
          },
          "shapedefaults": {
           "line": {
            "color": "#2a3f5f"
           }
          },
          "ternary": {
           "aaxis": {
            "gridcolor": "white",
            "linecolor": "white",
            "ticks": ""
           },
           "baxis": {
            "gridcolor": "white",
            "linecolor": "white",
            "ticks": ""
           },
           "bgcolor": "#E5ECF6",
           "caxis": {
            "gridcolor": "white",
            "linecolor": "white",
            "ticks": ""
           }
          },
          "title": {
           "x": 0.05
          },
          "xaxis": {
           "automargin": true,
           "gridcolor": "white",
           "linecolor": "white",
           "ticks": "",
           "title": {
            "standoff": 15
           },
           "zerolinecolor": "white",
           "zerolinewidth": 2
          },
          "yaxis": {
           "automargin": true,
           "gridcolor": "white",
           "linecolor": "white",
           "ticks": "",
           "title": {
            "standoff": 15
           },
           "zerolinecolor": "white",
           "zerolinewidth": 2
          }
         }
        }
       }
      }
     },
     "metadata": {},
     "output_type": "display_data"
    }
   ],
   "source": [
    "\n",
    "bardf = vis_df.reset_index()\n",
    "pivotedDF = bardf.pivot_table(columns='superCluster')\n",
    "del pivotedDF[6]\n",
    "\n",
    "fig = go.Figure()\n",
    "\n",
    "for i in range(0, 6):\n",
    "    fig.add_trace(go.Bar(x=labelsList, y=pivotedDF.iloc[i], name = pivotedDF.index[i]))\n",
    "\n",
    "# Change the bar mode\n",
    "fig.update_layout(barmode='stack')\n",
    "fig.show()"
   ]
  },
  {
   "cell_type": "code",
   "execution_count": 61,
   "id": "ab9a566c",
   "metadata": {},
   "outputs": [
    {
     "data": {
      "application/vnd.plotly.v1+json": {
       "config": {
        "plotlyServerURL": "https://plot.ly"
       },
       "data": [
        {
         "type": "box",
         "y": [
          6935333.3,
          5655524.342,
          2380181.1,
          6877598.6,
          6177368.5,
          7636894.3,
          11746800,
          6672860.3,
          3942162.9,
          5435412.7,
          4211527.6,
          3293687.4,
          9806297.3,
          6672378.3,
          16476659,
          12871066.8,
          13083094
         ]
        },
        {
         "type": "box",
         "y": [
          4368299.8,
          6626028.1,
          4185414.919,
          6023753.6,
          5059110,
          2272890.27,
          4703090.3,
          5183235.7,
          13008129.541,
          11266204,
          16228030,
          6993094.8,
          6210633.1,
          6627915.5,
          4912651.4,
          3835304.6,
          5233075.6,
          2962645.7,
          3590942.3,
          2679313.31,
          2365421.4,
          4002624.75,
          4281018.4,
          2384708.5,
          1068678.5,
          3020365.7,
          179997.59,
          2749888.3,
          1477642.83,
          4045913,
          4781555.3,
          6750382.634,
          12494609,
          7507417.64,
          7926040,
          8737451.6,
          9898976.425,
          9022458.8,
          7291356.7,
          10398008,
          10865536,
          3545500.2,
          6126058.4,
          4360103.3,
          6004734.777,
          2461426.7,
          4872555.939,
          3311614.1,
          2527561.6,
          2894158.2,
          1630144.8,
          6742780.1,
          1025376.3,
          4644447.524,
          6637980.9,
          5249106.4,
          2985973.7,
          4658325.8,
          4316220,
          8213150.3,
          2307368.2,
          4513139,
          6951719.7,
          7991707.84,
          10452652,
          9454308.3,
          7219247.2,
          8439307.308,
          7976364.4,
          8743319.713,
          2633174.391,
          2580328.7,
          1105331.8,
          2380212.6,
          2179217,
          1100657.9,
          1779944.7,
          2518469,
          2625834.5,
          361281.26,
          2028891.3,
          2672056,
          1423544.7,
          1648222.1,
          1810829.9,
          5656227.3,
          7473954.7,
          4720666.1,
          4686299.8,
          1728655.2,
          927824.88,
          7512258.2,
          906220.89,
          1125777.1,
          1121751.8,
          5143217.781,
          2272710.6,
          1819413.234,
          1177329.71,
          3059662.8,
          1250006.4,
          487210.64,
          190198.06,
          556155.4,
          1638212.6,
          3266095.5,
          2582192.8,
          904128.42,
          3146865.2,
          2202189.2,
          2033049.8,
          757096.67,
          3099996.2,
          3649414.4
         ]
        },
        {
         "type": "box",
         "y": [
          149882.79,
          385257.49,
          310601.35,
          751.139,
          145268.36,
          1233396.2,
          59527.332,
          5301.002,
          49230.004,
          706063.95,
          639124.15,
          143691.53,
          2267803,
          75598.315,
          102274.17,
          842319.641,
          168055.64,
          628214.38,
          674260.109,
          593563.48,
          325321.02,
          32361.715,
          495749.99,
          828307.56,
          935389.08,
          1886115,
          314886.57,
          1471896.78,
          204664.52,
          891907.81,
          1069296.2,
          842101.26,
          1601262.4,
          1392263.1,
          626612.16,
          2280598.79,
          231980.589,
          64924.767,
          178956.45,
          76169.463,
          127490.34,
          517839.61,
          32426.273,
          1560.339,
          221088.68,
          304223.88,
          1502521.75,
          37247.551,
          260973.494,
          786020.33,
          232567.574,
          541611.5,
          449523.09,
          1565952.938,
          197281.7,
          461428.26,
          51043.412,
          530191.18,
          633536.22,
          289822.1,
          952767.33,
          717177.369,
          319574.74,
          652948.06,
          25908,
          188212,
          406049.73,
          441945.88,
          474772.28,
          30888,
          532630.15,
          370465.21,
          63793.573,
          39471.262,
          43541.171,
          8048.552,
          24948,
          6621,
          290290.854,
          68739,
          72878,
          12645.85,
          6276.615,
          36295.311,
          5327.927,
          610313.17,
          321376.09,
          748237.45,
          1810013.4,
          565568.69,
          1988637.4,
          1738479.2,
          1097219.3,
          1066366.2,
          386348,
          32369.281,
          8334.646,
          27576,
          148639.95
         ]
        },
        {
         "type": "box",
         "y": [
          1440743.7,
          2315563.7,
          3254162.7,
          60937,
          28000,
          29736,
          35512,
          26025,
          152873.74,
          146837.09,
          271763.14,
          697581.47,
          715213.63,
          841878.16,
          3203757.2
         ]
        },
        {
         "type": "box",
         "y": [
          3513154.1,
          3227992.9,
          4562672,
          4938684,
          5292379.8,
          7732785.26,
          3980633.7,
          4077503.6,
          3552639.6,
          1541002.3
         ]
        },
        {
         "type": "box",
         "y": [
          650300.66,
          2320634.3,
          7940196.5,
          5625204.5,
          1165146.704,
          174575.01,
          30477.607,
          2689187.21,
          68.22,
          15807.397,
          16061.295,
          44782.765,
          45774.682,
          182404,
          4993.714,
          929925.38,
          1083103,
          1623749.7
         ]
        }
       ],
       "layout": {
        "template": {
         "data": {
          "bar": [
           {
            "error_x": {
             "color": "#2a3f5f"
            },
            "error_y": {
             "color": "#2a3f5f"
            },
            "marker": {
             "line": {
              "color": "#E5ECF6",
              "width": 0.5
             },
             "pattern": {
              "fillmode": "overlay",
              "size": 10,
              "solidity": 0.2
             }
            },
            "type": "bar"
           }
          ],
          "barpolar": [
           {
            "marker": {
             "line": {
              "color": "#E5ECF6",
              "width": 0.5
             },
             "pattern": {
              "fillmode": "overlay",
              "size": 10,
              "solidity": 0.2
             }
            },
            "type": "barpolar"
           }
          ],
          "carpet": [
           {
            "aaxis": {
             "endlinecolor": "#2a3f5f",
             "gridcolor": "white",
             "linecolor": "white",
             "minorgridcolor": "white",
             "startlinecolor": "#2a3f5f"
            },
            "baxis": {
             "endlinecolor": "#2a3f5f",
             "gridcolor": "white",
             "linecolor": "white",
             "minorgridcolor": "white",
             "startlinecolor": "#2a3f5f"
            },
            "type": "carpet"
           }
          ],
          "choropleth": [
           {
            "colorbar": {
             "outlinewidth": 0,
             "ticks": ""
            },
            "type": "choropleth"
           }
          ],
          "contour": [
           {
            "colorbar": {
             "outlinewidth": 0,
             "ticks": ""
            },
            "colorscale": [
             [
              0,
              "#0d0887"
             ],
             [
              0.1111111111111111,
              "#46039f"
             ],
             [
              0.2222222222222222,
              "#7201a8"
             ],
             [
              0.3333333333333333,
              "#9c179e"
             ],
             [
              0.4444444444444444,
              "#bd3786"
             ],
             [
              0.5555555555555556,
              "#d8576b"
             ],
             [
              0.6666666666666666,
              "#ed7953"
             ],
             [
              0.7777777777777778,
              "#fb9f3a"
             ],
             [
              0.8888888888888888,
              "#fdca26"
             ],
             [
              1,
              "#f0f921"
             ]
            ],
            "type": "contour"
           }
          ],
          "contourcarpet": [
           {
            "colorbar": {
             "outlinewidth": 0,
             "ticks": ""
            },
            "type": "contourcarpet"
           }
          ],
          "heatmap": [
           {
            "colorbar": {
             "outlinewidth": 0,
             "ticks": ""
            },
            "colorscale": [
             [
              0,
              "#0d0887"
             ],
             [
              0.1111111111111111,
              "#46039f"
             ],
             [
              0.2222222222222222,
              "#7201a8"
             ],
             [
              0.3333333333333333,
              "#9c179e"
             ],
             [
              0.4444444444444444,
              "#bd3786"
             ],
             [
              0.5555555555555556,
              "#d8576b"
             ],
             [
              0.6666666666666666,
              "#ed7953"
             ],
             [
              0.7777777777777778,
              "#fb9f3a"
             ],
             [
              0.8888888888888888,
              "#fdca26"
             ],
             [
              1,
              "#f0f921"
             ]
            ],
            "type": "heatmap"
           }
          ],
          "heatmapgl": [
           {
            "colorbar": {
             "outlinewidth": 0,
             "ticks": ""
            },
            "colorscale": [
             [
              0,
              "#0d0887"
             ],
             [
              0.1111111111111111,
              "#46039f"
             ],
             [
              0.2222222222222222,
              "#7201a8"
             ],
             [
              0.3333333333333333,
              "#9c179e"
             ],
             [
              0.4444444444444444,
              "#bd3786"
             ],
             [
              0.5555555555555556,
              "#d8576b"
             ],
             [
              0.6666666666666666,
              "#ed7953"
             ],
             [
              0.7777777777777778,
              "#fb9f3a"
             ],
             [
              0.8888888888888888,
              "#fdca26"
             ],
             [
              1,
              "#f0f921"
             ]
            ],
            "type": "heatmapgl"
           }
          ],
          "histogram": [
           {
            "marker": {
             "pattern": {
              "fillmode": "overlay",
              "size": 10,
              "solidity": 0.2
             }
            },
            "type": "histogram"
           }
          ],
          "histogram2d": [
           {
            "colorbar": {
             "outlinewidth": 0,
             "ticks": ""
            },
            "colorscale": [
             [
              0,
              "#0d0887"
             ],
             [
              0.1111111111111111,
              "#46039f"
             ],
             [
              0.2222222222222222,
              "#7201a8"
             ],
             [
              0.3333333333333333,
              "#9c179e"
             ],
             [
              0.4444444444444444,
              "#bd3786"
             ],
             [
              0.5555555555555556,
              "#d8576b"
             ],
             [
              0.6666666666666666,
              "#ed7953"
             ],
             [
              0.7777777777777778,
              "#fb9f3a"
             ],
             [
              0.8888888888888888,
              "#fdca26"
             ],
             [
              1,
              "#f0f921"
             ]
            ],
            "type": "histogram2d"
           }
          ],
          "histogram2dcontour": [
           {
            "colorbar": {
             "outlinewidth": 0,
             "ticks": ""
            },
            "colorscale": [
             [
              0,
              "#0d0887"
             ],
             [
              0.1111111111111111,
              "#46039f"
             ],
             [
              0.2222222222222222,
              "#7201a8"
             ],
             [
              0.3333333333333333,
              "#9c179e"
             ],
             [
              0.4444444444444444,
              "#bd3786"
             ],
             [
              0.5555555555555556,
              "#d8576b"
             ],
             [
              0.6666666666666666,
              "#ed7953"
             ],
             [
              0.7777777777777778,
              "#fb9f3a"
             ],
             [
              0.8888888888888888,
              "#fdca26"
             ],
             [
              1,
              "#f0f921"
             ]
            ],
            "type": "histogram2dcontour"
           }
          ],
          "mesh3d": [
           {
            "colorbar": {
             "outlinewidth": 0,
             "ticks": ""
            },
            "type": "mesh3d"
           }
          ],
          "parcoords": [
           {
            "line": {
             "colorbar": {
              "outlinewidth": 0,
              "ticks": ""
             }
            },
            "type": "parcoords"
           }
          ],
          "pie": [
           {
            "automargin": true,
            "type": "pie"
           }
          ],
          "scatter": [
           {
            "marker": {
             "colorbar": {
              "outlinewidth": 0,
              "ticks": ""
             }
            },
            "type": "scatter"
           }
          ],
          "scatter3d": [
           {
            "line": {
             "colorbar": {
              "outlinewidth": 0,
              "ticks": ""
             }
            },
            "marker": {
             "colorbar": {
              "outlinewidth": 0,
              "ticks": ""
             }
            },
            "type": "scatter3d"
           }
          ],
          "scattercarpet": [
           {
            "marker": {
             "colorbar": {
              "outlinewidth": 0,
              "ticks": ""
             }
            },
            "type": "scattercarpet"
           }
          ],
          "scattergeo": [
           {
            "marker": {
             "colorbar": {
              "outlinewidth": 0,
              "ticks": ""
             }
            },
            "type": "scattergeo"
           }
          ],
          "scattergl": [
           {
            "marker": {
             "colorbar": {
              "outlinewidth": 0,
              "ticks": ""
             }
            },
            "type": "scattergl"
           }
          ],
          "scattermapbox": [
           {
            "marker": {
             "colorbar": {
              "outlinewidth": 0,
              "ticks": ""
             }
            },
            "type": "scattermapbox"
           }
          ],
          "scatterpolar": [
           {
            "marker": {
             "colorbar": {
              "outlinewidth": 0,
              "ticks": ""
             }
            },
            "type": "scatterpolar"
           }
          ],
          "scatterpolargl": [
           {
            "marker": {
             "colorbar": {
              "outlinewidth": 0,
              "ticks": ""
             }
            },
            "type": "scatterpolargl"
           }
          ],
          "scatterternary": [
           {
            "marker": {
             "colorbar": {
              "outlinewidth": 0,
              "ticks": ""
             }
            },
            "type": "scatterternary"
           }
          ],
          "surface": [
           {
            "colorbar": {
             "outlinewidth": 0,
             "ticks": ""
            },
            "colorscale": [
             [
              0,
              "#0d0887"
             ],
             [
              0.1111111111111111,
              "#46039f"
             ],
             [
              0.2222222222222222,
              "#7201a8"
             ],
             [
              0.3333333333333333,
              "#9c179e"
             ],
             [
              0.4444444444444444,
              "#bd3786"
             ],
             [
              0.5555555555555556,
              "#d8576b"
             ],
             [
              0.6666666666666666,
              "#ed7953"
             ],
             [
              0.7777777777777778,
              "#fb9f3a"
             ],
             [
              0.8888888888888888,
              "#fdca26"
             ],
             [
              1,
              "#f0f921"
             ]
            ],
            "type": "surface"
           }
          ],
          "table": [
           {
            "cells": {
             "fill": {
              "color": "#EBF0F8"
             },
             "line": {
              "color": "white"
             }
            },
            "header": {
             "fill": {
              "color": "#C8D4E3"
             },
             "line": {
              "color": "white"
             }
            },
            "type": "table"
           }
          ]
         },
         "layout": {
          "annotationdefaults": {
           "arrowcolor": "#2a3f5f",
           "arrowhead": 0,
           "arrowwidth": 1
          },
          "autotypenumbers": "strict",
          "coloraxis": {
           "colorbar": {
            "outlinewidth": 0,
            "ticks": ""
           }
          },
          "colorscale": {
           "diverging": [
            [
             0,
             "#8e0152"
            ],
            [
             0.1,
             "#c51b7d"
            ],
            [
             0.2,
             "#de77ae"
            ],
            [
             0.3,
             "#f1b6da"
            ],
            [
             0.4,
             "#fde0ef"
            ],
            [
             0.5,
             "#f7f7f7"
            ],
            [
             0.6,
             "#e6f5d0"
            ],
            [
             0.7,
             "#b8e186"
            ],
            [
             0.8,
             "#7fbc41"
            ],
            [
             0.9,
             "#4d9221"
            ],
            [
             1,
             "#276419"
            ]
           ],
           "sequential": [
            [
             0,
             "#0d0887"
            ],
            [
             0.1111111111111111,
             "#46039f"
            ],
            [
             0.2222222222222222,
             "#7201a8"
            ],
            [
             0.3333333333333333,
             "#9c179e"
            ],
            [
             0.4444444444444444,
             "#bd3786"
            ],
            [
             0.5555555555555556,
             "#d8576b"
            ],
            [
             0.6666666666666666,
             "#ed7953"
            ],
            [
             0.7777777777777778,
             "#fb9f3a"
            ],
            [
             0.8888888888888888,
             "#fdca26"
            ],
            [
             1,
             "#f0f921"
            ]
           ],
           "sequentialminus": [
            [
             0,
             "#0d0887"
            ],
            [
             0.1111111111111111,
             "#46039f"
            ],
            [
             0.2222222222222222,
             "#7201a8"
            ],
            [
             0.3333333333333333,
             "#9c179e"
            ],
            [
             0.4444444444444444,
             "#bd3786"
            ],
            [
             0.5555555555555556,
             "#d8576b"
            ],
            [
             0.6666666666666666,
             "#ed7953"
            ],
            [
             0.7777777777777778,
             "#fb9f3a"
            ],
            [
             0.8888888888888888,
             "#fdca26"
            ],
            [
             1,
             "#f0f921"
            ]
           ]
          },
          "colorway": [
           "#636efa",
           "#EF553B",
           "#00cc96",
           "#ab63fa",
           "#FFA15A",
           "#19d3f3",
           "#FF6692",
           "#B6E880",
           "#FF97FF",
           "#FECB52"
          ],
          "font": {
           "color": "#2a3f5f"
          },
          "geo": {
           "bgcolor": "white",
           "lakecolor": "white",
           "landcolor": "#E5ECF6",
           "showlakes": true,
           "showland": true,
           "subunitcolor": "white"
          },
          "hoverlabel": {
           "align": "left"
          },
          "hovermode": "closest",
          "mapbox": {
           "style": "light"
          },
          "paper_bgcolor": "white",
          "plot_bgcolor": "#E5ECF6",
          "polar": {
           "angularaxis": {
            "gridcolor": "white",
            "linecolor": "white",
            "ticks": ""
           },
           "bgcolor": "#E5ECF6",
           "radialaxis": {
            "gridcolor": "white",
            "linecolor": "white",
            "ticks": ""
           }
          },
          "scene": {
           "xaxis": {
            "backgroundcolor": "#E5ECF6",
            "gridcolor": "white",
            "gridwidth": 2,
            "linecolor": "white",
            "showbackground": true,
            "ticks": "",
            "zerolinecolor": "white"
           },
           "yaxis": {
            "backgroundcolor": "#E5ECF6",
            "gridcolor": "white",
            "gridwidth": 2,
            "linecolor": "white",
            "showbackground": true,
            "ticks": "",
            "zerolinecolor": "white"
           },
           "zaxis": {
            "backgroundcolor": "#E5ECF6",
            "gridcolor": "white",
            "gridwidth": 2,
            "linecolor": "white",
            "showbackground": true,
            "ticks": "",
            "zerolinecolor": "white"
           }
          },
          "shapedefaults": {
           "line": {
            "color": "#2a3f5f"
           }
          },
          "ternary": {
           "aaxis": {
            "gridcolor": "white",
            "linecolor": "white",
            "ticks": ""
           },
           "baxis": {
            "gridcolor": "white",
            "linecolor": "white",
            "ticks": ""
           },
           "bgcolor": "#E5ECF6",
           "caxis": {
            "gridcolor": "white",
            "linecolor": "white",
            "ticks": ""
           }
          },
          "title": {
           "x": 0.05
          },
          "xaxis": {
           "automargin": true,
           "gridcolor": "white",
           "linecolor": "white",
           "ticks": "",
           "title": {
            "standoff": 15
           },
           "zerolinecolor": "white",
           "zerolinewidth": 2
          },
          "yaxis": {
           "automargin": true,
           "gridcolor": "white",
           "linecolor": "white",
           "ticks": "",
           "title": {
            "standoff": 15
           },
           "zerolinecolor": "white",
           "zerolinewidth": 2
          }
         }
        }
       }
      }
     },
     "metadata": {},
     "output_type": "display_data"
    }
   ],
   "source": [
    "fig = go.Figure()\n",
    "for i in range(1, 7):\n",
    "    fig.add_trace(go.Box(y=total['PLGENACL'][total['superCluster']==i]))\n",
    "fig"
   ]
  },
  {
   "cell_type": "code",
   "execution_count": 62,
   "id": "99629af6",
   "metadata": {},
   "outputs": [
    {
     "data": {
      "application/vnd.plotly.v1+json": {
       "config": {
        "plotlyServerURL": "https://plot.ly"
       },
       "data": [
        {
         "line": {
          "color": "#FF97FF"
         },
         "meanline": {
          "visible": true
         },
         "name": "PLGENACL",
         "showlegend": false,
         "side": "positive",
         "type": "violin",
         "y": [
          0.9999999999999998,
          0.9270682525604024,
          0.9581337767375491,
          0.8701110340871994,
          0.8899434912387796,
          0.9105256479598718,
          0.8846109050084741,
          0.9208491522843485,
          0.9727009583889223,
          0.9379611713878062,
          0.9295122927006125,
          0.8439038092121447,
          0.9137284136123998,
          0.9301867383117333,
          0.9800751518823918,
          0.9270740804867748,
          0.981393371011795
         ]
        },
        {
         "line": {
          "color": "#B6E880"
         },
         "meanline": {
          "visible": true
         },
         "name": "PLGENACL",
         "showlegend": false,
         "side": "negative",
         "type": "violin",
         "y": [
          0.8928922021893875,
          0.9001849862431066,
          0.8054415821013148,
          0.8555526196681702,
          0.6355901963379234,
          0.863121781586383,
          0.7792993730666602,
          0.8440571259307013,
          0.8912638515379745,
          0.8858389121234955,
          0.8434019511174662,
          0.8534549713370281,
          0.8770823038522588,
          0.8615650514713289,
          0.9074649668898129,
          0.8867067739626606,
          0.9023672002218788,
          0.9265058502046564,
          0.8894416977241535,
          0.9188174976694903,
          0.9047373052535852,
          0.8823937771105856,
          0.8988500573278233,
          0.840182521597064,
          0.9809297581013479,
          0.9693306988407511,
          0.9987732855322913,
          0.930855901754366,
          0.9212824390833398,
          0.9265288282031392,
          0.9066928911844203,
          0.9409594265700865,
          0.9365815945826039,
          0.948822859225023,
          0.9280059767688023,
          0.9776802092622536,
          0.9628607491869965,
          0.9342255975728693,
          0.9664091717854633,
          0.9588926967692415,
          0.9514125368694848,
          0.8985615079980078,
          0.7659957191163458,
          0.783498800288452,
          0.9366335975856763,
          0.7678965227212153,
          0.8180998479164727,
          0.8991510007915755,
          0.8532361425877306,
          0.9137384411171874,
          0.6918006992065704,
          0.8142557447208951,
          0.8024323883221913,
          0.831020329592232,
          0.7832098076408869,
          0.9362211764932682,
          0.9060675761897579,
          0.8311855244775843,
          0.8222282425167238,
          0.878385445221042,
          0.8652213025152764,
          0.7514901737702486,
          0.8518283280750027,
          0.8376330232594806,
          0.8664319712513475,
          0.7658092141444934,
          0.8401761436981816,
          0.8504761560891165,
          0.8137642916192722,
          0.7266051214256473,
          0.6400374528499264,
          0.7159270889667464,
          0.791943939767608,
          0.8641647095100158,
          0.7871112556385693,
          0.8694323181249095,
          0.8484601534564409,
          0.8218467250111443,
          0.7816782294910214,
          0.9266512582121424,
          0.8978377407520375,
          0.7759622118045335,
          0.9279150612503215,
          0.8133659828891406,
          0.8596780867184022,
          0.9077117396390317,
          0.848750911700421,
          0.9017060183002115,
          0.8466117824926866,
          0.9185623648628205,
          0.8927406761970145,
          0.9201762180132329,
          0.876054817994679,
          0.8705489615007072,
          0.8980784632960304,
          0.8621978375423114,
          0.9438302482126968,
          0.8367869919980082,
          0.8439048769411559,
          0.7820201065401406,
          0.8504178920333059,
          0.8520535337594763,
          0.9488770257848846,
          0.8919245438021914,
          0.9460218001994638,
          0.941470061621837,
          0.9551845995249788,
          0.9632836290755882,
          0.9416251087567127,
          0.9303771383457033,
          0.895523891739435,
          0.8413971760905008,
          0.9334237276332378,
          0.8204587989046261
         ]
        },
        {
         "line": {
          "color": "#FF6692"
         },
         "meanline": {
          "visible": true
         },
         "name": "PLGENACL",
         "showlegend": false,
         "side": "positive",
         "type": "violin",
         "y": [
          0.4973075396224362,
          0.7208460397700798,
          0.6077635949347175,
          0.5662071850831163,
          0.6351221758496637,
          0.8119237130671979,
          0.6560594193790226,
          0.8404556837216424,
          0.7362285785577078,
          0.8006397314142979,
          0.2525205268793412,
          0.5533201253454487,
          0.6521795558926851,
          0.7244672109222192,
          0.8067886662479435,
          0.5084911109969432,
          0.6655606561786047,
          0.7545149873920947,
          0.6562633065258001,
          0.709431633616062,
          0.810124739165871,
          0.6429876375671588,
          0.7115405458478055,
          0.5339124477279553,
          0.7227478255326576,
          0.7793459926526891,
          0.677932461380965,
          0.764711276047513,
          0.7600752279346878,
          0.8051272352762127,
          0.6459517627350722,
          0.6208185912194404,
          0.6969847743656536,
          0.6796062695423972,
          0.19353833063847586,
          0.6182956778888733,
          0.7908646760743039,
          0.5463176583683884,
          0.3511910087670704,
          0.5309940100021999,
          0.7458599419957863,
          0.7378236886293765,
          0.8400017391899108,
          0.5655999393165341,
          0.6174151462153705,
          0.7600961477377635,
          0.6807117583561775,
          0.8251331177265366,
          0.7685516052558274,
          0.5899831616453621,
          0.7173289113087742,
          0.4971467533084503,
          0.7587427462922962,
          0.7318570696981761,
          0.7421414337633052,
          0.7364346093107976,
          0.6300516799043825,
          0.6833419086429839,
          0.6938259790507799,
          0.36482060237325004,
          0.5626432616663521,
          0.5579259225093627,
          0.6741501636133946,
          0.3691301474102345,
          0.4761553568922225,
          0.38488248566853783,
          0.5210868601031315,
          0.5131694479467386,
          0.5519020438030711,
          0.7231181141140963,
          0.4213364747693979,
          0.7138406132911221,
          0.7371151972206025,
          0.493386415152491,
          0.6740197791395561,
          0.7471199442814436,
          0.681904096597914,
          0.7700367668083927,
          0.4792016661357627,
          0.6391905627816667,
          0.7012255909573213,
          0.708060098559876,
          0.7395501387869703,
          0.6201468010051505,
          0.4842355870476714,
          0.49716561355694194,
          0.6972128232718469,
          0.7791246176129432,
          0.7814257814817516,
          0.8185570542101444,
          0.3877005284490656,
          0.7279592470224647,
          0.8218103385493312,
          0.7505405294913228,
          0.6823575867850715,
          0.7341022238694743,
          0.35159976133669674,
          0.5064017016811706,
          0.82940352747117
         ]
        },
        {
         "line": {
          "color": "#19D3F3"
         },
         "meanline": {
          "visible": true
         },
         "name": "PLGENACL",
         "showlegend": false,
         "side": "negative",
         "type": "violin",
         "y": [
          0.8678775437915944,
          0.7600538504721455,
          0.7468987286482411,
          0.744884808489706,
          0.6191622527340872,
          0.6688291478816741,
          0.6224127189770785,
          0.5482059607900958,
          0.5046414443984923,
          0.4903198405572727,
          0.4854666502722886,
          0.8691370127079683,
          0.8416832325602266,
          0.8034013018800621,
          0.4795651930302333
         ]
        },
        {
         "line": {
          "color": "#FFA15A"
         },
         "meanline": {
          "visible": true
         },
         "name": "PLGENACL",
         "showlegend": false,
         "side": "positive",
         "type": "violin",
         "y": [
          0.8853944239234761,
          0.8762171150625235,
          0.8873342753620959,
          0.9389678986963601,
          0.8088289052100142,
          0.9027935998446792,
          0.8964045488821581,
          0.8684855693321467,
          0.8753153891075134,
          0.9083741314810825
         ]
        },
        {
         "line": {
          "color": "#FF97FF"
         },
         "meanline": {
          "visible": true
         },
         "name": "AverageAge",
         "showlegend": false,
         "side": "positive",
         "type": "violin",
         "y": [
          0.8418228819126523,
          0.7968885495789606,
          0.7708175246523341,
          0.7822626343203576,
          0.7120016218921605,
          0.6270291897032576,
          0.7566539277974256,
          0.7920714024612581,
          0.7822626343203576,
          0.5654238475632922,
          0.8630409340949148,
          0.7513330130649709,
          0.7060592655416493,
          0.7566539277974256,
          0.7822626343203576,
          0.7968808173929252,
          0.8156065223257873
         ]
        },
        {
         "line": {
          "color": "#B6E880"
         },
         "meanline": {
          "visible": true
         },
         "name": "AverageAge",
         "showlegend": false,
         "side": "negative",
         "type": "violin",
         "y": [
          0.9624624987688992,
          0.8817706776075169,
          0.9661343540581779,
          0.8750726725376694,
          0.7920714024612581,
          0.9083727279226466,
          0.8464245787782929,
          0.8201545493141735,
          0.8156065223257873,
          0.6876932549272261,
          0.7670915299592118,
          0.7559820471016621,
          0.8464245787782929,
          0.8400014565474732,
          0.8323538802773236,
          0.831923615664516,
          0.5771313767775532,
          0.7901672535510111,
          0.7897958176064552,
          0.8696279879818909,
          0.8750726725376694,
          0.5510094616729566,
          0.9036823966707028,
          0.7722116500576035,
          0.14228533651725928,
          0.06274613718439581,
          0.6969798367479365,
          0.5218879703695987,
          0.4910108184556077,
          0.7178584737405689,
          0.7968885495789606,
          0.7178584737405689,
          0.8506426909376015,
          0.7567431895488674,
          0.8220810033683255,
          0.8312998966794551,
          0.8364239424609401,
          0.8750726725376694,
          0.829100935393591,
          0.7722258220216847,
          0.8510058360734771,
          0.8722568889326296,
          0.8331472944215186,
          0.8711014782996498,
          0.5123038353191407,
          0.7288224311415605,
          0.7822626343203576,
          0.7660194788222747,
          0.829100935393591,
          0.6998192792029365,
          0.7404778582790188,
          0.81100710411446,
          0.7722116500576035,
          0.8420831140463316,
          0.7722116500576035,
          0.8589500033710302,
          0.8335014558825324,
          0.7349397567842235,
          0.7293252652768623,
          0.970529989179332,
          0.8526638617072488,
          0.6413129072277399,
          0.852126031752003,
          0.3729708102967422,
          0.7816830249982285,
          0.37454923121952377,
          0.7513330130649709,
          0.7670915299592118,
          0.7513330130649709,
          0.6122259517754318,
          0.6813823660202922,
          0.5642830525188618,
          0.7619061836479151,
          0.7513330130649709,
          0.6270291897032576,
          0.7293252652768623,
          0.7513330130649709,
          0.7822626343203576,
          0.6939077906130298,
          0.7584122207291708,
          0.9635238922797231,
          0.2467240515955984,
          0.6876932549272261,
          0.7619061836479151,
          0.7236322468702967,
          0.7619061836479151,
          0.7619061836479151,
          0.7670915299592118,
          0.8692554697807189,
          0.8127057534763857,
          0.8464245787782929,
          0.7964017315961882,
          0.9698347811866568,
          0.7670915299592118,
          0.8151576452544895,
          0.8375379396049785,
          0.7670915299592118,
          0.7060592655416493,
          0.6342336995635407,
          0.7619061836479151,
          0.7349397567842235,
          0.7920714024612581,
          0.7425232291541393,
          0.8843634494003776,
          0.4115415511411975,
          0.7583730618411737,
          0.829100935393591,
          0.8016830790772198,
          0.7477466975239897,
          0.7493382622736136,
          0.8057416905899877,
          0.7178584737405689,
          0.630508290200003,
          0.7236322468702967
         ]
        },
        {
         "line": {
          "color": "#FF6692"
         },
         "meanline": {
          "visible": true
         },
         "name": "AverageAge",
         "showlegend": false,
         "side": "positive",
         "type": "violin",
         "y": [
          0.8815484408300078,
          0.936253099802878,
          0.8865983632510972,
          0.9296666718403683,
          0.9281064176158906,
          0.9116043358509787,
          0.9439820189869241,
          0.9452813411904688,
          0.8790054971493457,
          0.7178584737405689,
          0.8434017626839072,
          0.9012678488081085,
          0.7513330130649709,
          0.8548175396456539,
          0.8201545493141735,
          0.8804569815618701,
          0.8711014782996498,
          0.9439820189869241,
          0.8548175396456539,
          0.8520246699863911,
          0.9304126231095204,
          0.917103035832936,
          0.9313115064650928,
          0.9023742728428787,
          0.778917070141069,
          0.829100935393591,
          0.9091707159626887,
          0.8461509356212555,
          0.8246523208323111,
          0.8750726725376694,
          0.7404778582790188,
          0.905520071037019,
          0.9274450946747035,
          0.8630409340949148,
          0.7236322468702967,
          0.8736548798700525,
          0.5557133848196552,
          0.6122259517754318,
          0.5968639708899148,
          0.3147224446304837,
          0.06274613718439581,
          0.6939077906130298,
          0.7797730597046826,
          0.5469594091341601,
          0.7178584737405689,
          0.81100710411446,
          0.7845077410588537,
          0.7178584737405689,
          0.8630409340949148,
          0.7619061836479151,
          0.9084645333695944,
          0.7293252652768623,
          0.8506426909376015,
          0.7178584737405689,
          0.7722116500576035,
          0.7293252652768623,
          0.8377164493630773,
          0.7920714024612581,
          0.6551123365561731,
          1,
          0.9163752258229716,
          0.9127889102819897,
          0.8816064272817024,
          0.5288655778550293,
          0.6939077906130298,
          0.5808994078354839,
          0.7486462430409517,
          0.6551123365561731,
          0.886758954066212,
          0.6389668247631475,
          0.81100710411446,
          0.5968639708899148,
          0.6813823660202922,
          0.6813823660202922,
          0.6551123365561731,
          0.2467240515955984,
          0.6122259517754318,
          0.5099298762018272,
          0.6939077906130298,
          0.9395089609978771,
          0.9289315632071236,
          0.5968639708899148,
          0.6551123365561731,
          0.6413129072277399,
          0.6813823660202922,
          0.6413129072277399,
          0.668459243124532,
          0.7513330130649709,
          0.7060592655416493,
          0.8861677496329214,
          0.7722116500576035,
          0.829100935393591,
          0.86649048169573,
          0.678703122647347,
          0.8393311609554597,
          0.9298272452002412,
          0.8763878406632741,
          0.9338476154840458,
          0.8630409340949148
         ]
        },
        {
         "line": {
          "color": "#19D3F3"
         },
         "meanline": {
          "visible": true
         },
         "name": "AverageAge",
         "showlegend": false,
         "side": "negative",
         "type": "violin",
         "y": [
          0.11709931350143044,
          0.20792859753874182,
          0.2821415262594309,
          0.42391773928221843,
          0.8993619478217887,
          0.6551123365561731,
          0.8421622971022824,
          0.6551123365561731,
          0.9018363881517715,
          0.905520071037019,
          0.6551123365561731,
          0.6939077906130298,
          0.7404778582790188,
          0.7293252652768623,
          0.9729539089456709
         ]
        },
        {
         "line": {
          "color": "#FFA15A"
         },
         "meanline": {
          "visible": true
         },
         "name": "AverageAge",
         "showlegend": false,
         "side": "positive",
         "type": "violin",
         "y": [
          0.5988923202446659,
          0.6196948618923406,
          0.510104091667243,
          0.14177621302278753,
          0.5241188728125736,
          0.11709931350143044,
          0,
          0.16504221275800057,
          0.06274613718439581,
          0.4006478379843388
         ]
        },
        {
         "line": {
          "color": "#FF97FF"
         },
         "meanline": {
          "visible": true
         },
         "name": "forwardCosts",
         "showlegend": false,
         "side": "positive",
         "type": "violin",
         "y": [
          0.08663136834034268,
          0.15052115888573359,
          0.14457162442114246,
          0.16163221551461393,
          0.1903750432109872,
          0.20848001793637527,
          0.17823502337363095,
          0.1317690791172853,
          0.25108554508732994,
          0.0708756142481014,
          0.09932427946606148,
          0.28337967652125173,
          0.19133132046704926,
          0,
          0.1568645603611769,
          0.1156587031535169,
          0.19607623392223616
         ]
        },
        {
         "line": {
          "color": "#B6E880"
         },
         "meanline": {
          "visible": true
         },
         "name": "forwardCosts",
         "showlegend": false,
         "side": "negative",
         "type": "violin",
         "y": [
          0.251550673517662,
          0.2767232433322404,
          0.3418091670046608,
          0.21638780011122893,
          0.3811223990307544,
          0.231758270977241,
          0.372441549401344,
          0.40909784335789356,
          0.290008867678464,
          0.36824702313675783,
          0.20129458804813027,
          0.2997654332485964,
          0.28125928550404433,
          0.2097440094919012,
          0.33800521176304144,
          0.21404053124317346,
          0.06383859706650241,
          0.2011315643523055,
          0.13888640834231836,
          0.29393085729953183,
          0.20054575842166544,
          0.21491225964894367,
          null,
          0.3462569106992688,
          0.11832986536231516,
          0.11822093292785296,
          0.14730561805398046,
          0.05110165021328905,
          0.2521566381389482,
          0.23930429839971223,
          0.20367986542743943,
          null,
          0.17802048866406417,
          0.18748157365530949,
          0.1702247661209384,
          0.17662853902510256,
          0.23281342166388308,
          0.1412708254113526,
          0.1281756470594798,
          0.19976924416834607,
          0.17555850688669428,
          0.39439755382333797,
          0.15037340308971148,
          0.13338119794101178,
          0.22254149920367627,
          0.36166127276214777,
          0.1345616088847743,
          0.2839327183996936,
          0.2882563404930427,
          0.19842098972228528,
          0.1913023150385953,
          0.15153036051065083,
          0.283616388436585,
          0.23435049879420666,
          0.15357304280317563,
          0.2948466359977895,
          0.19955522480981802,
          0.27412436432385334,
          0.16698660345756688,
          0.24259781631750466,
          0.15962463870363486,
          0.2912369876754384,
          0.28722231150775146,
          0.1616407306821095,
          0.3459522601786442,
          0.23951515168797122,
          0.24401693265296154,
          0.2966724386505226,
          0.13495720179800352,
          0.201822742417336,
          0.2339928416554391,
          0.13996285892003146,
          0.1599153724755109,
          0.16029025650532036,
          null,
          0.3508588539798052,
          0.12356866614122497,
          0.18377857919897234,
          0.2105154995523575,
          0.23134186950680613,
          0.2487755075571807,
          0.26513316253289987,
          0.18027301496202042,
          0.2603898469098882,
          0.2137484995617771,
          0.1242597773196853,
          0.13507310353454782,
          0.19781987225528685,
          0.2883413943171509,
          0.14517989176269386,
          0.24808699873663964,
          0.15689059282834972,
          0.20555443569288379,
          0.21255916938367547,
          0.12706381635063246,
          0.20710635172854008,
          0.09358858938991998,
          0.1162169085131537,
          0.0743623648512477,
          0.17616424623780969,
          0.1732735016445348,
          0.18410099384020073,
          0.11441087800036265,
          0.11191211484833785,
          0.09826929353206582,
          0.14572224538091771,
          0.16116664184838303,
          0.2513224572570678,
          0.14610575317799235,
          0.18763327169641908,
          0.21439551651615618,
          0.15969229651385985,
          0.18131954450068655,
          0.24735799226042166
         ]
        },
        {
         "line": {
          "color": "#FF6692"
         },
         "meanline": {
          "visible": true
         },
         "name": "forwardCosts",
         "showlegend": false,
         "side": "positive",
         "type": "violin",
         "y": [
          0.5497956384409082,
          0.49780067260766936,
          0.4737378658427922,
          0.48073047041272043,
          0.7114455319843775,
          0.22288643772909889,
          0.3358688037573194,
          0.23515146785173657,
          0.30146264272269274,
          0.3674064170265188,
          1,
          0.5716106663410454,
          0.38023740756654445,
          0.3139218852598207,
          0.4025524213306384,
          0.4147950522617607,
          0.27229426115197586,
          0.2857072597759398,
          0.3655941296475491,
          0.20782017556308552,
          0.3519038919101023,
          0.35469764667294856,
          0.3912865802269099,
          0.3524368609588857,
          0.13162354486009775,
          0.25205717058303834,
          0.3259846904281589,
          0.29897453158035625,
          0.30162630215102815,
          0.24566315217135504,
          0.27833468657195004,
          null,
          0.19839514543893433,
          0.2276344220510007,
          null,
          0.4983671889695185,
          0.3758272393267632,
          0.28334663586731335,
          0.22562098431109168,
          0.2612857049988959,
          0.3001959859285175,
          0.5665339557733688,
          0.48907561640439123,
          0.6650011055912712,
          0.45574367820577355,
          0.22290695396366123,
          0.3267531655895459,
          0.13392292488777824,
          0.2766512529155294,
          0.6132766612041314,
          0.26089214118864,
          0.3647882041687691,
          0.3322048648545113,
          0.20467833098548116,
          0.29258605028379736,
          0.40383013463371187,
          0.40255709948972873,
          0.3734790920319362,
          null,
          null,
          null,
          null,
          null,
          null,
          null,
          null,
          null,
          null,
          null,
          null,
          null,
          null,
          null,
          null,
          null,
          null,
          null,
          null,
          null,
          null,
          null,
          null,
          null,
          null,
          null,
          null,
          null,
          0.21793661775060014,
          0.2664694306454207,
          0.10440779990694471,
          null,
          0.2694741413058628,
          0.14525344375238403,
          0.2834629193946223,
          0.16510841814781418,
          0.2554900553754904,
          0.6567062826142167,
          0.9238845706272003,
          0.1253209460079593
         ]
        },
        {
         "line": {
          "color": "#19D3F3"
         },
         "meanline": {
          "visible": true
         },
         "name": "forwardCosts",
         "showlegend": false,
         "side": "negative",
         "type": "violin",
         "y": [
          0.05708114927868524,
          null,
          null,
          null,
          null,
          null,
          null,
          null,
          null,
          null,
          null,
          0.12206337258871136,
          0.2718363819465148,
          0.12698435572134326,
          null
         ]
        },
        {
         "line": {
          "color": "#FFA15A"
         },
         "meanline": {
          "visible": true
         },
         "name": "forwardCosts",
         "showlegend": false,
         "side": "positive",
         "type": "violin",
         "y": [
          0.12587277130395869,
          0.21891974623511312,
          0.17522107523851105,
          0.19532117946038885,
          0.2140629489136181,
          0.16326251393117985,
          0.17056257998713686,
          0.2098409009502904,
          0.1443347939422791,
          0.14072939769087112
         ]
        },
        {
         "line": {
          "color": "#FF97FF"
         },
         "meanline": {
          "visible": true
         },
         "name": "PLSO2AN",
         "showlegend": false,
         "side": "positive",
         "type": "violin",
         "y": [
          0.9914940818508915,
          0.9223715601685248,
          0.9493330118574846,
          0.8592932213898418,
          0.9079793135469595,
          0.8729656492569998,
          0.8819335445177791,
          0.8917218257240982,
          0.9007343696148301,
          0.8877629799408201,
          0.902652682601352,
          0.8913160254086568,
          0.8865561330287188,
          0.9264222682229694,
          1,
          0.9194464420702295,
          0.9633404138868238
         ]
        },
        {
         "line": {
          "color": "#B6E880"
         },
         "meanline": {
          "visible": true
         },
         "name": "PLSO2AN",
         "showlegend": false,
         "side": "negative",
         "type": "violin",
         "y": [
          0.760761519347197,
          0.7272232035537177,
          0.6709923918137828,
          0.6977417723001396,
          0.5342008796380414,
          0.4979554248906677,
          0.5597764519380952,
          0.6593609043245603,
          0.7352510621399644,
          0.8451288816584582,
          0.5957120821732226,
          0.6593276930030124,
          0.6708331966183079,
          0.7920633897557634,
          0.7640267069378806,
          0.7151244707238121,
          0.827887505043171,
          0.7717010851287639,
          0.6225785461973316,
          0.7772256417029982,
          0.7807840166358703,
          0.6656295825507375,
          0.7982865663065724,
          0.5384524531196867,
          0.8654445290644296,
          0.8742138406607693,
          0.6707800645408885,
          0.6648762532305257,
          0.7631448854292964,
          0.8174080127165596,
          0.7251981704945776,
          0.7878905372412645,
          0.7677883355622505,
          0.7927929387745596,
          0.7981426631584436,
          0.7943654330635543,
          0.8067216335901565,
          0.898299311560366,
          0.8698214798470738,
          0.8634733299195342,
          0.8760506453469523,
          0.7411009134389621,
          0.7727974712670582,
          0.7666829644718203,
          0.8343260630765632,
          0.7372787053821678,
          0.7263940871361989,
          0.7080093313553667,
          0.6549762583217039,
          0.8164948708107783,
          0.5985870096470808,
          0.6360052109255819,
          0.6535177992273634,
          0.7156476536095651,
          0.7520153827441377,
          0.7070478373287946,
          0.7192867465227469,
          0.7865515986752122,
          0.771143090409654,
          0.8675198863391913,
          0.8403282572217239,
          0.5980611251607305,
          0.7034427302958143,
          0.8374633346698891,
          0.734674272741651,
          0.7413685899234351,
          0.7378510340932428,
          0.44588654152508195,
          0.804473445136712,
          0.7214731729607874,
          0.5865514692082512,
          0.7200971998869212,
          0.6262340233374969,
          0.7236351528978382,
          0.9075149741510292,
          0.7646496110782964,
          0.6753775412635191,
          0.6299887226994636,
          0.6580446062226003,
          0.6738168864271977,
          0.7833960345009178,
          0.5022179339326486,
          0.7490458090198825,
          0.7620645571835629,
          0.8572685816800658,
          0.7653299287558802,
          0.8585809000311887,
          0.8535746576551502,
          0.7419802037200431,
          0.6553833857538115,
          0.7364770435198811,
          0.8060889528073237,
          0.8598975606682419,
          0.8591388811510988,
          0.7652773660114133,
          0.728054012780849,
          0.8138888490876928,
          0.7315982561746996,
          0.7551322600361924,
          0.7477165464788089,
          0.721340822602169,
          0.8114136580304976,
          0.6747346247272135,
          0.8462517061287804,
          0.7935923440759269,
          0.7736524592918583,
          0.8505824179668214,
          0.8653269191342355,
          0.8221206587344788,
          0.7666613265431922,
          0.7233511134862936,
          0.8086218141854815,
          0.7877974539128426,
          0.8119585526869786
         ]
        },
        {
         "line": {
          "color": "#FF6692"
         },
         "meanline": {
          "visible": true
         },
         "name": "PLSO2AN",
         "showlegend": false,
         "side": "positive",
         "type": "violin",
         "y": [
          0.6133309667709707,
          0.480972463479842,
          0.4853788499704729,
          0.5764778764300316,
          0.5101451072412557,
          0.8480097454652131,
          0.3498860503047983,
          0.6862780384377339,
          0.5582809335739465,
          0.7897435870530758,
          0.4248703949027886,
          0.6416492428574992,
          0.5975780818531886,
          0.6833751718070267,
          0.6517917530930175,
          0.5540686214624091,
          0.6721887291847667,
          0.6225099667669122,
          0.6690914577741578,
          0.6376053089148385,
          0.6435137665777639,
          0.6581794116646229,
          0.7097906379796989,
          0.6987237638757506,
          0.6227155375756299,
          0.6905406707140658,
          0.5590502513858089,
          0.6453378622293215,
          0.6447473830803265,
          0.6562951520161464,
          0.6351029062775704,
          0.5572068425872473,
          0.6377485330073264,
          0.6456510980051685,
          0.12413568190507684,
          0.4250230073116383,
          0.6007027450881836,
          0.41057648815340925,
          0.5905571847888259,
          0.4304077636644512,
          0.4576264267671371,
          0.7778125583430321,
          0.704491394798085,
          0.4198441533705802,
          0.6171820592681448,
          0.7250918276842718,
          0.5705845399644702,
          0.6565244199373199,
          0.5649299404591781,
          0.5751030780450436,
          0.7142586527870749,
          0.39621188860091544,
          0.4741538827372297,
          0.6097554244815631,
          0.6906925036473652,
          0.6704605654765216,
          0.5906073217459763,
          0.4979554248906677,
          0.472031595003722,
          0.35763316827466646,
          0.4777751279912774,
          0.4571110630440362,
          0.03392453998586063,
          0.5038016858692166,
          0.4357926714507888,
          0.23835770488211833,
          0.5027266180621851,
          0.46763445713013496,
          0.656840699515311,
          0.5892547403519136,
          0.36182688857484663,
          0.6023892177546868,
          0.6510789610785462,
          0.43255406568101157,
          0.7082387116256479,
          0.695093952212201,
          0.7828978717762297,
          0.6425709962898081,
          0.637056225662411,
          0.5692700900620163,
          0.6569235718290063,
          0.5971425819569451,
          0.6758224019913069,
          0.7821217744168752,
          0.4193831355023865,
          0.5634070724608075,
          0.8385880015539104,
          0.6985306150469167,
          0.5795914566815117,
          0.8250390207707179,
          0.31371848494824045,
          0.7320846110815727,
          0.5571695592666245,
          0.6053718186411341,
          0.45590441143977384,
          0.6087514768684988,
          0.37342884382109937,
          0.5644867023312305,
          0.6762875535067763
         ]
        },
        {
         "line": {
          "color": "#19D3F3"
         },
         "meanline": {
          "visible": true
         },
         "name": "PLSO2AN",
         "showlegend": false,
         "side": "negative",
         "type": "violin",
         "y": [
          0.682966510704223,
          0.5480399955190381,
          0.5494823739332036,
          0.6107278048709361,
          0.24930870572602776,
          0.7960293092399898,
          0.30903763058341993,
          0.49096348601332657,
          0.45063801112094304,
          0.4428173983459817,
          0.43775815553424996,
          0.659890510133464,
          0.8795484296024398,
          0.6868787107852965,
          0.4316022992526394
         ]
        },
        {
         "line": {
          "color": "#FFA15A"
         },
         "meanline": {
          "visible": true
         },
         "name": "PLSO2AN",
         "showlegend": false,
         "side": "positive",
         "type": "violin",
         "y": [
          0.7357480650536806,
          0.7503539449604598,
          0.6378343505716617,
          0.6193645607372202,
          0.7393741581626595,
          0.7394382733530676,
          0.7534165448383799,
          0.7514171959946746,
          0.6472383782851904,
          0.6588613526130216
         ]
        },
        {
         "line": {
          "color": "#FF97FF"
         },
         "meanline": {
          "visible": true
         },
         "name": "affectedDemographicIndex",
         "showlegend": false,
         "side": "positive",
         "type": "violin",
         "y": [
          0.6283309310141417,
          0.6268755640987596,
          0.695815333047086,
          0.6667361490420952,
          0.7408672721775029,
          0.6601023235151289,
          0.7199929179620227,
          0.6338491358035626,
          0.7610248863599949,
          0.4775906290943622,
          0.4853795958694673,
          0.49936020145459353,
          0.44029666441703436,
          0.39222270850369967,
          0.6582523522862944,
          0.6998712420486192,
          0.7139138700197776
         ]
        },
        {
         "line": {
          "color": "#B6E880"
         },
         "meanline": {
          "visible": true
         },
         "name": "affectedDemographicIndex",
         "showlegend": false,
         "side": "negative",
         "type": "violin",
         "y": [
          0.8428602961842044,
          0.7382489201046565,
          0.8130960798814808,
          0.6651153438529456,
          0.6510543113914345,
          0.7684509587277782,
          0.6994449572488282,
          0.7217346939150187,
          0.7148880018307917,
          0.7280797095875862,
          0.6213351258680508,
          0.6887467746885365,
          0.6955477238204123,
          0.742270823983506,
          0.6970614871418012,
          0.5948657053125277,
          0.7331620682609472,
          0.8175769923782447,
          0.7000099261697573,
          0.7241905307789489,
          0.7700189966511801,
          0.7362858553238012,
          0.5896477877377791,
          0.7241449546041208,
          0.5283684116319565,
          0.45272272222075066,
          0.6625663172511098,
          0.4853795958694673,
          0.7214551263166783,
          0.6418882223366797,
          0.6188470142110941,
          0.7200187695743732,
          0.7028245865069902,
          0.681643398767225,
          0.701364054678784,
          0.8235820023853674,
          0.7734238115962506,
          0.6490605370955667,
          0.7675231113275442,
          0.7418705765703622,
          0.7640151011618291,
          0.5431012701874597,
          0.682321246566802,
          0.6487298553702888,
          0,
          0,
          0.7487821699070351,
          0.5700075251994764,
          0.5191265104923153,
          0.5406410761946138,
          0.732625755517257,
          0.6526019559688262,
          0.6143730513589571,
          0.49187740556833226,
          0.759882078178172,
          0.6335652008662512,
          0.6660021155234347,
          0.6283856278203397,
          0.6501383631891161,
          0.7998175542844986,
          0.8525144186617074,
          0.7674377581080443,
          0.551399614326802,
          0.700251119050764,
          0.7158936765875296,
          0.758392570141265,
          0.651018286249287,
          0.31704386139234647,
          0.8686786803311035,
          0.7429044300310745,
          0.6651982745800608,
          0.663782726565985,
          0.779530043112173,
          0.660766470632647,
          0.8900801648320533,
          0.08807174721492199,
          0.369751826875927,
          0.802234096953292,
          0.44739881005443893,
          0.5827803810084088,
          0.7285241054726934,
          0.21607921407385572,
          0,
          0,
          0.682650633365451,
          0.7485652434536224,
          0.6598754711214382,
          0.6934276907621559,
          0.5773315859637942,
          0.5837227518566266,
          0.6789008606868361,
          0.6913730334703543,
          0.6650070103932699,
          0.6859266961830227,
          0.42785087417777073,
          0.3381726150328338,
          0.30254251242873403,
          0.5993530541851645,
          0.5645829091604723,
          0.6809273042651446,
          0.5677427402608963,
          0,
          0.5322819859121813,
          0.5020241865775511,
          0.6253354805263883,
          0.6459474084933334,
          0.676148400934399,
          0.22213430186628835,
          0.4736008667077324,
          0.5829778643395587,
          0.481279441906018,
          0.5947183600517174,
          0.7013976936938048,
          0.45256932897969177
         ]
        },
        {
         "line": {
          "color": "#FF6692"
         },
         "meanline": {
          "visible": true
         },
         "name": "affectedDemographicIndex",
         "showlegend": false,
         "side": "positive",
         "type": "violin",
         "y": [
          0.9119726102106014,
          0.8521509966806174,
          0.7538243114198542,
          0.7999976253172656,
          0.6057084875301154,
          0.7244186318243783,
          0.7494318895030379,
          0.715098628916302,
          0.7993578267112751,
          0.828593692758983,
          0.9193699246187881,
          0.8442944833441812,
          0.7903097077872209,
          0.8819980171814062,
          0.9134101713056132,
          0.9104176591836428,
          0.8617074059245303,
          0.8229481642254242,
          0.803422046685805,
          0.8481277163057789,
          0.8264190121752247,
          0.81581156404644,
          0.7952887736792806,
          0.8833906190714216,
          0.8660068304823663,
          0.6572271570238376,
          0.9042635346308644,
          0.5999697111907502,
          0.8300202876021112,
          0.6126827098984773,
          0.6409187547472043,
          0.7441493545790387,
          0.8920266754528392,
          0.7992611568061673,
          0.6758794263406617,
          0.7936342903291886,
          0.6769215991574311,
          0.8149850850453437,
          0.6105385878503901,
          0.809821237994215,
          0.7321376647208724,
          0.5864501219164566,
          0.6747439518146807,
          0.7368716084727075,
          0.5903598009991889,
          0.4942587190949183,
          0.778469582385686,
          0.4736008667077324,
          0.6297537033544759,
          0.8329660973684482,
          0.3940491684032085,
          0.8252667133409801,
          0.5838784635435839,
          0.5664174729360651,
          0.5112203275992436,
          0.6869762541573285,
          0.6783583616331135,
          0.551421219610627,
          0.8108372636326413,
          0.7568319631350869,
          0.7452248199494101,
          0.8994566629951148,
          0.7335920573439412,
          0.9243932873204517,
          0.9204809553657022,
          0.8812113932075237,
          0.8897826994427246,
          0.8233534424759736,
          0.8086159079974351,
          0.8675135446250234,
          0.7128888587890846,
          0.8687286023754068,
          0.8697059243112502,
          0.8858340725948394,
          0.7245624610561737,
          0.8653600248244652,
          0.7163503504594326,
          0.8290782105279509,
          0.8923957148273982,
          0.9236227227803057,
          0.8955756454644094,
          0.8749918984864448,
          0.870953878130721,
          1,
          0.9778914698408863,
          0.9576160116592523,
          0.9554519456310175,
          0.9263772954881764,
          0.8954482521053355,
          0.9481207383549439,
          0.9720441029534678,
          0.8815452516669746,
          0.8710813479354378,
          0.9177534984395347,
          0.9674208879362304,
          0.9847390313769224,
          0.9969895433718828,
          0.9768431610706427,
          0.9237253289988
         ]
        },
        {
         "line": {
          "color": "#19D3F3"
         },
         "meanline": {
          "visible": true
         },
         "name": "affectedDemographicIndex",
         "showlegend": false,
         "side": "negative",
         "type": "violin",
         "y": [
          0.43802070748722266,
          0.747793240987603,
          0.7478217107781197,
          0.7508779786932871,
          0,
          0.3591045395420525,
          0,
          0,
          0,
          0,
          0,
          0,
          0.2389503088986819,
          0,
          0
         ]
        },
        {
         "line": {
          "color": "#FFA15A"
         },
         "meanline": {
          "visible": true
         },
         "name": "affectedDemographicIndex",
         "showlegend": false,
         "side": "positive",
         "type": "violin",
         "y": [
          0.8309877089485926,
          0.8796411001330348,
          0.7400334267798528,
          0.7705777979446277,
          0.8761299802656178,
          0.8125276074824836,
          0.707183541468809,
          0.7863064298123773,
          0.6513372977679068,
          0.7719103543761815
         ]
        },
        {
         "line": {
          "color": "#FF97FF"
         },
         "meanline": {
          "visible": true
         },
         "name": "CO2limitsOppose",
         "showlegend": false,
         "side": "positive",
         "type": "violin",
         "y": [
          0.7311886059312735,
          0.723788454944168,
          0.42547929542821095,
          0.7220475721072264,
          0.6057188678322207,
          0.6485740228561734,
          0.5691494536941746,
          0.8825700905520533,
          0.9615932518125692,
          0.7566495491037584,
          0.8515245848445745,
          0.9969682074530279,
          0.9969682074530279,
          0.9518716533362572,
          0.9516855659145196,
          0.4638423168621153,
          0.9958754127187723
         ]
        },
        {
         "line": {
          "color": "#B6E880"
         },
         "meanline": {
          "visible": true
         },
         "name": "CO2limitsOppose",
         "showlegend": false,
         "side": "negative",
         "type": "violin",
         "y": [
          0.8279328019904062,
          0.8323987239507056,
          0.7597243105857334,
          0.6732278282707553,
          0.9877261113755726,
          0.29719628475169824,
          0.7573981078872105,
          0.717517529425558,
          0.7590628047916876,
          0.9024152966191723,
          0.9509008578446525,
          0.8260645158257671,
          0.7990299871659272,
          0.8142231413840748,
          0.8475755494424431,
          0.7768643896617862,
          0.6541755867514536,
          0.48636017116174557,
          0.7044969297537054,
          0.5893310480816902,
          0.5423874864217142,
          0.5761980661221737,
          0.755508332612246,
          0.737910196814167,
          0.7755692850910219,
          0.5025901024515687,
          0.3922910091428662,
          0.572960944343126,
          0.6377054725047104,
          0.6942109562569363,
          0.6127765091380222,
          0.8815682398969997,
          0.8142231413840748,
          0.7455940686957456,
          0.6686361751606866,
          0.6293096850048503,
          0.8654669968643298,
          0.7823202800326774,
          0.7827814726402047,
          0.9273320864593071,
          0.8323987239507056,
          0.9937861022485248,
          0.6601032359324868,
          0.5427893339988845,
          0.6207225143177486,
          0.7797458324258613,
          0.9092764304953227,
          0.8734485988592144,
          0.6377054725047104,
          0.8883385893412479,
          0.6331207433254007,
          0.7464049147134286,
          0.6889059791067571,
          0.5095812438412874,
          0.7951328656058112,
          0.8734485988592144,
          0.6937318323805406,
          0.7892590230668133,
          0.647968699547663,
          0.7486605447641494,
          0.5073199950740532,
          0.7555594671688834,
          0.5896465981172914,
          0.8142231413840748,
          0.5767327344807147,
          0.6951131305058329,
          0.6770778315558492,
          0.6207225143177486,
          0.7090298049088366,
          0.6316463909381902,
          0.6767765484251957,
          0.6545049950731734,
          0.5610783508057149,
          0.6398990849920452,
          0.5715203412533572,
          0.6110180076325347,
          0.716210762473195,
          0.6144699595834182,
          0.898613956341408,
          0.9242963040856984,
          0.9958754127187723,
          0.9436151478159402,
          0.9689367237060007,
          0.895008496178018,
          0.912719672363469,
          0.9699765235700935,
          0.9122167208033849,
          0.980479314942992,
          0.9390626407184341,
          0.9449436166326324,
          0.9270578351488572,
          0.9511403430347909,
          0.9393732608780856,
          0.9332191608375999,
          0.9576582856765321,
          0.9969682074530279,
          0.9236491764767636,
          0.7689946626213802,
          0.7755692850910219,
          0.9102717550072881,
          0.9387248713724583,
          0.9422171716728029,
          0.9663051153429354,
          0.9907429468366087,
          0.8692096642051417,
          1,
          0.9659265887420889,
          0.9309023553803208,
          0.9745354356914446,
          0.9522569805988201,
          1,
          0.9657568454448229,
          0.9289755957404484,
          0.9118392966532549
         ]
        },
        {
         "line": {
          "color": "#FF6692"
         },
         "meanline": {
          "visible": true
         },
         "name": "CO2limitsOppose",
         "showlegend": false,
         "side": "positive",
         "type": "violin",
         "y": [
          0.6118568517983678,
          0.6028077174491582,
          0.42296333198351066,
          0.357504272747752,
          0.10541629299079469,
          0.6057188678322207,
          0.783341130110601,
          0.6914057945287078,
          0.6934921613080278,
          0.7229007292957368,
          0.5683935840977621,
          0.45408790385551034,
          0.32524036951240154,
          0.2579056249420164,
          0.5699692931709937,
          0.49370972643740973,
          0.22824601581265958,
          0.38116634913831016,
          0.5006148398427821,
          0.7224031663723887,
          0.5596158705726557,
          0.6177851121036357,
          0.7588930985607525,
          0.6924404356829954,
          0.6370521397778517,
          0.7508411625562137,
          0.3895854934121492,
          0.755508332612246,
          0.7147582509675523,
          0.8477423833930735,
          0.9225878404504657,
          0.2041412353402272,
          0.6229637805409696,
          0.5098139942559587,
          0.6163428003143583,
          0.7988363942467283,
          0.6807030258214297,
          0.634930029874103,
          0.6236288772129801,
          0.5222358361621682,
          0.7281592270650434,
          0.7831601078893966,
          0.5697967661554268,
          0.5975154407899761,
          0.5949499505098297,
          0.655956627790542,
          0.8606777844472893,
          0.4015277762136171,
          0.4778032953115958,
          0.4899480513090584,
          0.42324905101699706,
          0.6686361751606866,
          0.2758570656180175,
          0.3751721217011399,
          0.655956627790542,
          0.8475755494424431,
          0.8258150764653149,
          0.648261655904967,
          0.48314114395673924,
          0.783341130110601,
          0.5362450714404337,
          0.5362450714404337,
          0.518308787415207,
          0.3886363671956863,
          0.4730388742205265,
          0.5182857646438324,
          0.5362450714404337,
          0.6682174242703542,
          0.531934857340433,
          0.49370972643740973,
          0.6474020086793724,
          0.4927590974823257,
          0.6767765484251957,
          0.42324905101699706,
          0.6545049950731734,
          0.5905924918418366,
          0.7751537372609141,
          0.6615638167545641,
          0.6475583778466691,
          0.5362450714404337,
          0.7446959905526,
          0.4533883098507516,
          0.6767765484251957,
          0.06729189804531677,
          0.5119288741687513,
          0.14736567765042352,
          0.5715203412533572,
          0.3537412437626104,
          0.5707236556731363,
          0.4344913994503985,
          0.21672438810381323,
          0.4262816776869496,
          0.314553460463729,
          0.5012032325808575,
          0.5610783508057149,
          0.3087800280484454,
          0.23232517726412327,
          0.579038347959985,
          0.42433902764333453
         ]
        },
        {
         "line": {
          "color": "#19D3F3"
         },
         "meanline": {
          "visible": true
         },
         "name": "CO2limitsOppose",
         "showlegend": false,
         "side": "negative",
         "type": "violin",
         "y": [
          0.9092764304953227,
          0.9092764304953227,
          0.9092764304953227,
          0.9092764304953227,
          0.9309023553803208,
          0.8815682398969997,
          0.9309023553803208,
          0.6364379098495188,
          0.7004680700431507,
          0.6286493611291131,
          0.6286493611291131,
          0.8488183729782235,
          0.655956627790542,
          0.647792873514835,
          0.4720629989993159
         ]
        },
        {
         "line": {
          "color": "#FFA15A"
         },
         "meanline": {
          "visible": true
         },
         "name": "CO2limitsOppose",
         "showlegend": false,
         "side": "positive",
         "type": "violin",
         "y": [
          0.5300544691284075,
          0.39549853232054444,
          0.5788677926018497,
          0.29719628475169824,
          0.48561663751285034,
          0.5423874864217142,
          0.6042336648316993,
          0.49922449104386635,
          0.5641690049668613,
          0.3804812446517163
         ]
        }
       ],
       "layout": {
        "template": {
         "data": {
          "bar": [
           {
            "error_x": {
             "color": "#2a3f5f"
            },
            "error_y": {
             "color": "#2a3f5f"
            },
            "marker": {
             "line": {
              "color": "#E5ECF6",
              "width": 0.5
             },
             "pattern": {
              "fillmode": "overlay",
              "size": 10,
              "solidity": 0.2
             }
            },
            "type": "bar"
           }
          ],
          "barpolar": [
           {
            "marker": {
             "line": {
              "color": "#E5ECF6",
              "width": 0.5
             },
             "pattern": {
              "fillmode": "overlay",
              "size": 10,
              "solidity": 0.2
             }
            },
            "type": "barpolar"
           }
          ],
          "carpet": [
           {
            "aaxis": {
             "endlinecolor": "#2a3f5f",
             "gridcolor": "white",
             "linecolor": "white",
             "minorgridcolor": "white",
             "startlinecolor": "#2a3f5f"
            },
            "baxis": {
             "endlinecolor": "#2a3f5f",
             "gridcolor": "white",
             "linecolor": "white",
             "minorgridcolor": "white",
             "startlinecolor": "#2a3f5f"
            },
            "type": "carpet"
           }
          ],
          "choropleth": [
           {
            "colorbar": {
             "outlinewidth": 0,
             "ticks": ""
            },
            "type": "choropleth"
           }
          ],
          "contour": [
           {
            "colorbar": {
             "outlinewidth": 0,
             "ticks": ""
            },
            "colorscale": [
             [
              0,
              "#0d0887"
             ],
             [
              0.1111111111111111,
              "#46039f"
             ],
             [
              0.2222222222222222,
              "#7201a8"
             ],
             [
              0.3333333333333333,
              "#9c179e"
             ],
             [
              0.4444444444444444,
              "#bd3786"
             ],
             [
              0.5555555555555556,
              "#d8576b"
             ],
             [
              0.6666666666666666,
              "#ed7953"
             ],
             [
              0.7777777777777778,
              "#fb9f3a"
             ],
             [
              0.8888888888888888,
              "#fdca26"
             ],
             [
              1,
              "#f0f921"
             ]
            ],
            "type": "contour"
           }
          ],
          "contourcarpet": [
           {
            "colorbar": {
             "outlinewidth": 0,
             "ticks": ""
            },
            "type": "contourcarpet"
           }
          ],
          "heatmap": [
           {
            "colorbar": {
             "outlinewidth": 0,
             "ticks": ""
            },
            "colorscale": [
             [
              0,
              "#0d0887"
             ],
             [
              0.1111111111111111,
              "#46039f"
             ],
             [
              0.2222222222222222,
              "#7201a8"
             ],
             [
              0.3333333333333333,
              "#9c179e"
             ],
             [
              0.4444444444444444,
              "#bd3786"
             ],
             [
              0.5555555555555556,
              "#d8576b"
             ],
             [
              0.6666666666666666,
              "#ed7953"
             ],
             [
              0.7777777777777778,
              "#fb9f3a"
             ],
             [
              0.8888888888888888,
              "#fdca26"
             ],
             [
              1,
              "#f0f921"
             ]
            ],
            "type": "heatmap"
           }
          ],
          "heatmapgl": [
           {
            "colorbar": {
             "outlinewidth": 0,
             "ticks": ""
            },
            "colorscale": [
             [
              0,
              "#0d0887"
             ],
             [
              0.1111111111111111,
              "#46039f"
             ],
             [
              0.2222222222222222,
              "#7201a8"
             ],
             [
              0.3333333333333333,
              "#9c179e"
             ],
             [
              0.4444444444444444,
              "#bd3786"
             ],
             [
              0.5555555555555556,
              "#d8576b"
             ],
             [
              0.6666666666666666,
              "#ed7953"
             ],
             [
              0.7777777777777778,
              "#fb9f3a"
             ],
             [
              0.8888888888888888,
              "#fdca26"
             ],
             [
              1,
              "#f0f921"
             ]
            ],
            "type": "heatmapgl"
           }
          ],
          "histogram": [
           {
            "marker": {
             "pattern": {
              "fillmode": "overlay",
              "size": 10,
              "solidity": 0.2
             }
            },
            "type": "histogram"
           }
          ],
          "histogram2d": [
           {
            "colorbar": {
             "outlinewidth": 0,
             "ticks": ""
            },
            "colorscale": [
             [
              0,
              "#0d0887"
             ],
             [
              0.1111111111111111,
              "#46039f"
             ],
             [
              0.2222222222222222,
              "#7201a8"
             ],
             [
              0.3333333333333333,
              "#9c179e"
             ],
             [
              0.4444444444444444,
              "#bd3786"
             ],
             [
              0.5555555555555556,
              "#d8576b"
             ],
             [
              0.6666666666666666,
              "#ed7953"
             ],
             [
              0.7777777777777778,
              "#fb9f3a"
             ],
             [
              0.8888888888888888,
              "#fdca26"
             ],
             [
              1,
              "#f0f921"
             ]
            ],
            "type": "histogram2d"
           }
          ],
          "histogram2dcontour": [
           {
            "colorbar": {
             "outlinewidth": 0,
             "ticks": ""
            },
            "colorscale": [
             [
              0,
              "#0d0887"
             ],
             [
              0.1111111111111111,
              "#46039f"
             ],
             [
              0.2222222222222222,
              "#7201a8"
             ],
             [
              0.3333333333333333,
              "#9c179e"
             ],
             [
              0.4444444444444444,
              "#bd3786"
             ],
             [
              0.5555555555555556,
              "#d8576b"
             ],
             [
              0.6666666666666666,
              "#ed7953"
             ],
             [
              0.7777777777777778,
              "#fb9f3a"
             ],
             [
              0.8888888888888888,
              "#fdca26"
             ],
             [
              1,
              "#f0f921"
             ]
            ],
            "type": "histogram2dcontour"
           }
          ],
          "mesh3d": [
           {
            "colorbar": {
             "outlinewidth": 0,
             "ticks": ""
            },
            "type": "mesh3d"
           }
          ],
          "parcoords": [
           {
            "line": {
             "colorbar": {
              "outlinewidth": 0,
              "ticks": ""
             }
            },
            "type": "parcoords"
           }
          ],
          "pie": [
           {
            "automargin": true,
            "type": "pie"
           }
          ],
          "scatter": [
           {
            "marker": {
             "colorbar": {
              "outlinewidth": 0,
              "ticks": ""
             }
            },
            "type": "scatter"
           }
          ],
          "scatter3d": [
           {
            "line": {
             "colorbar": {
              "outlinewidth": 0,
              "ticks": ""
             }
            },
            "marker": {
             "colorbar": {
              "outlinewidth": 0,
              "ticks": ""
             }
            },
            "type": "scatter3d"
           }
          ],
          "scattercarpet": [
           {
            "marker": {
             "colorbar": {
              "outlinewidth": 0,
              "ticks": ""
             }
            },
            "type": "scattercarpet"
           }
          ],
          "scattergeo": [
           {
            "marker": {
             "colorbar": {
              "outlinewidth": 0,
              "ticks": ""
             }
            },
            "type": "scattergeo"
           }
          ],
          "scattergl": [
           {
            "marker": {
             "colorbar": {
              "outlinewidth": 0,
              "ticks": ""
             }
            },
            "type": "scattergl"
           }
          ],
          "scattermapbox": [
           {
            "marker": {
             "colorbar": {
              "outlinewidth": 0,
              "ticks": ""
             }
            },
            "type": "scattermapbox"
           }
          ],
          "scatterpolar": [
           {
            "marker": {
             "colorbar": {
              "outlinewidth": 0,
              "ticks": ""
             }
            },
            "type": "scatterpolar"
           }
          ],
          "scatterpolargl": [
           {
            "marker": {
             "colorbar": {
              "outlinewidth": 0,
              "ticks": ""
             }
            },
            "type": "scatterpolargl"
           }
          ],
          "scatterternary": [
           {
            "marker": {
             "colorbar": {
              "outlinewidth": 0,
              "ticks": ""
             }
            },
            "type": "scatterternary"
           }
          ],
          "surface": [
           {
            "colorbar": {
             "outlinewidth": 0,
             "ticks": ""
            },
            "colorscale": [
             [
              0,
              "#0d0887"
             ],
             [
              0.1111111111111111,
              "#46039f"
             ],
             [
              0.2222222222222222,
              "#7201a8"
             ],
             [
              0.3333333333333333,
              "#9c179e"
             ],
             [
              0.4444444444444444,
              "#bd3786"
             ],
             [
              0.5555555555555556,
              "#d8576b"
             ],
             [
              0.6666666666666666,
              "#ed7953"
             ],
             [
              0.7777777777777778,
              "#fb9f3a"
             ],
             [
              0.8888888888888888,
              "#fdca26"
             ],
             [
              1,
              "#f0f921"
             ]
            ],
            "type": "surface"
           }
          ],
          "table": [
           {
            "cells": {
             "fill": {
              "color": "#EBF0F8"
             },
             "line": {
              "color": "white"
             }
            },
            "header": {
             "fill": {
              "color": "#C8D4E3"
             },
             "line": {
              "color": "white"
             }
            },
            "type": "table"
           }
          ]
         },
         "layout": {
          "annotationdefaults": {
           "arrowcolor": "#2a3f5f",
           "arrowhead": 0,
           "arrowwidth": 1
          },
          "autotypenumbers": "strict",
          "coloraxis": {
           "colorbar": {
            "outlinewidth": 0,
            "ticks": ""
           }
          },
          "colorscale": {
           "diverging": [
            [
             0,
             "#8e0152"
            ],
            [
             0.1,
             "#c51b7d"
            ],
            [
             0.2,
             "#de77ae"
            ],
            [
             0.3,
             "#f1b6da"
            ],
            [
             0.4,
             "#fde0ef"
            ],
            [
             0.5,
             "#f7f7f7"
            ],
            [
             0.6,
             "#e6f5d0"
            ],
            [
             0.7,
             "#b8e186"
            ],
            [
             0.8,
             "#7fbc41"
            ],
            [
             0.9,
             "#4d9221"
            ],
            [
             1,
             "#276419"
            ]
           ],
           "sequential": [
            [
             0,
             "#0d0887"
            ],
            [
             0.1111111111111111,
             "#46039f"
            ],
            [
             0.2222222222222222,
             "#7201a8"
            ],
            [
             0.3333333333333333,
             "#9c179e"
            ],
            [
             0.4444444444444444,
             "#bd3786"
            ],
            [
             0.5555555555555556,
             "#d8576b"
            ],
            [
             0.6666666666666666,
             "#ed7953"
            ],
            [
             0.7777777777777778,
             "#fb9f3a"
            ],
            [
             0.8888888888888888,
             "#fdca26"
            ],
            [
             1,
             "#f0f921"
            ]
           ],
           "sequentialminus": [
            [
             0,
             "#0d0887"
            ],
            [
             0.1111111111111111,
             "#46039f"
            ],
            [
             0.2222222222222222,
             "#7201a8"
            ],
            [
             0.3333333333333333,
             "#9c179e"
            ],
            [
             0.4444444444444444,
             "#bd3786"
            ],
            [
             0.5555555555555556,
             "#d8576b"
            ],
            [
             0.6666666666666666,
             "#ed7953"
            ],
            [
             0.7777777777777778,
             "#fb9f3a"
            ],
            [
             0.8888888888888888,
             "#fdca26"
            ],
            [
             1,
             "#f0f921"
            ]
           ]
          },
          "colorway": [
           "#636efa",
           "#EF553B",
           "#00cc96",
           "#ab63fa",
           "#FFA15A",
           "#19d3f3",
           "#FF6692",
           "#B6E880",
           "#FF97FF",
           "#FECB52"
          ],
          "font": {
           "color": "#2a3f5f"
          },
          "geo": {
           "bgcolor": "white",
           "lakecolor": "white",
           "landcolor": "#E5ECF6",
           "showlakes": true,
           "showland": true,
           "subunitcolor": "white"
          },
          "hoverlabel": {
           "align": "left"
          },
          "hovermode": "closest",
          "mapbox": {
           "style": "light"
          },
          "paper_bgcolor": "white",
          "plot_bgcolor": "#E5ECF6",
          "polar": {
           "angularaxis": {
            "gridcolor": "white",
            "linecolor": "white",
            "ticks": ""
           },
           "bgcolor": "#E5ECF6",
           "radialaxis": {
            "gridcolor": "white",
            "linecolor": "white",
            "ticks": ""
           }
          },
          "scene": {
           "xaxis": {
            "backgroundcolor": "#E5ECF6",
            "gridcolor": "white",
            "gridwidth": 2,
            "linecolor": "white",
            "showbackground": true,
            "ticks": "",
            "zerolinecolor": "white"
           },
           "yaxis": {
            "backgroundcolor": "#E5ECF6",
            "gridcolor": "white",
            "gridwidth": 2,
            "linecolor": "white",
            "showbackground": true,
            "ticks": "",
            "zerolinecolor": "white"
           },
           "zaxis": {
            "backgroundcolor": "#E5ECF6",
            "gridcolor": "white",
            "gridwidth": 2,
            "linecolor": "white",
            "showbackground": true,
            "ticks": "",
            "zerolinecolor": "white"
           }
          },
          "shapedefaults": {
           "line": {
            "color": "#2a3f5f"
           }
          },
          "ternary": {
           "aaxis": {
            "gridcolor": "white",
            "linecolor": "white",
            "ticks": ""
           },
           "baxis": {
            "gridcolor": "white",
            "linecolor": "white",
            "ticks": ""
           },
           "bgcolor": "#E5ECF6",
           "caxis": {
            "gridcolor": "white",
            "linecolor": "white",
            "ticks": ""
           }
          },
          "title": {
           "x": 0.05
          },
          "xaxis": {
           "automargin": true,
           "gridcolor": "white",
           "linecolor": "white",
           "ticks": "",
           "title": {
            "standoff": 15
           },
           "zerolinecolor": "white",
           "zerolinewidth": 2
          },
          "yaxis": {
           "automargin": true,
           "gridcolor": "white",
           "linecolor": "white",
           "ticks": "",
           "title": {
            "standoff": 15
           },
           "zerolinecolor": "white",
           "zerolinewidth": 2
          }
         }
        },
        "violingap": 0,
        "violingroupgap": 0,
        "violinmode": "overlay"
       }
      }
     },
     "metadata": {},
     "output_type": "display_data"
    }
   ],
   "source": [
    "fig = go.Figure()\n",
    "\n",
    "for item in ['PLGENACL', 'AverageAge', 'forwardCosts', 'PLSO2AN', 'affectedDemographicIndex',  'CO2limitsOppose']:\n",
    "    for i in range(1, 6):\n",
    "        if i%2==0:\n",
    "            var3='negative'\n",
    "        else:\n",
    "            var3='positive'\n",
    "        fig.add_trace(go.Violin(y=total2[item][total2['superCluster']==i], name =item, side=var3, showlegend=False,\n",
    "                                    line_color=px.colors.qualitative.Plotly_r[i])\n",
    "                        )\n",
    "\n",
    "#fig.update_yaxes(visible=False)\n",
    "\n",
    "fig.update_traces(meanline_visible=True)\n",
    "fig.update_layout(violingap=0,  violingroupgap=0, violinmode='overlay')\n",
    "fig.show()"
   ]
  },
  {
   "cell_type": "code",
   "execution_count": 306,
   "id": "fe2d6763",
   "metadata": {},
   "outputs": [
    {
     "data": {
      "application/vnd.plotly.v1+json": {
       "config": {
        "plotlyServerURL": "https://plot.ly"
       },
       "data": [
        {
         "hole": 0.1,
         "hoverinfo": "label+percent+name",
         "labels": [
          "Highest SO2 Emitters",
          "Large Env. Impacts, Pro-Coal Public Sentiment",
          "High DAC & Community Impacts",
          "Minimal DAC and Community Impacts",
          "Newer Plants, Anti-Coal Public Sentiment",
          "Un-Grouped"
         ],
         "marker": {
          "colors": [
           "#FF97FF",
           "#B6E880",
           "#FF6692",
           "#19D3F3",
           "#FFA15A",
           "#AB63FA"
          ]
         },
         "name": "Generation",
         "type": "pie",
         "values": [
          17.01060926139145,
          65.9362700172107,
          6.551072564698471,
          1.7315916346238678,
          5.555969167180564,
          3.214487354894947
         ]
        }
       ],
       "layout": {
        "annotations": [
         {
          "font": {
           "size": 10
          },
          "showarrow": false,
          "text": "MWh/yr",
          "x": 0.5,
          "y": 0.5
         }
        ],
        "template": {
         "data": {
          "bar": [
           {
            "error_x": {
             "color": "#2a3f5f"
            },
            "error_y": {
             "color": "#2a3f5f"
            },
            "marker": {
             "line": {
              "color": "#E5ECF6",
              "width": 0.5
             },
             "pattern": {
              "fillmode": "overlay",
              "size": 10,
              "solidity": 0.2
             }
            },
            "type": "bar"
           }
          ],
          "barpolar": [
           {
            "marker": {
             "line": {
              "color": "#E5ECF6",
              "width": 0.5
             },
             "pattern": {
              "fillmode": "overlay",
              "size": 10,
              "solidity": 0.2
             }
            },
            "type": "barpolar"
           }
          ],
          "carpet": [
           {
            "aaxis": {
             "endlinecolor": "#2a3f5f",
             "gridcolor": "white",
             "linecolor": "white",
             "minorgridcolor": "white",
             "startlinecolor": "#2a3f5f"
            },
            "baxis": {
             "endlinecolor": "#2a3f5f",
             "gridcolor": "white",
             "linecolor": "white",
             "minorgridcolor": "white",
             "startlinecolor": "#2a3f5f"
            },
            "type": "carpet"
           }
          ],
          "choropleth": [
           {
            "colorbar": {
             "outlinewidth": 0,
             "ticks": ""
            },
            "type": "choropleth"
           }
          ],
          "contour": [
           {
            "colorbar": {
             "outlinewidth": 0,
             "ticks": ""
            },
            "colorscale": [
             [
              0,
              "#0d0887"
             ],
             [
              0.1111111111111111,
              "#46039f"
             ],
             [
              0.2222222222222222,
              "#7201a8"
             ],
             [
              0.3333333333333333,
              "#9c179e"
             ],
             [
              0.4444444444444444,
              "#bd3786"
             ],
             [
              0.5555555555555556,
              "#d8576b"
             ],
             [
              0.6666666666666666,
              "#ed7953"
             ],
             [
              0.7777777777777778,
              "#fb9f3a"
             ],
             [
              0.8888888888888888,
              "#fdca26"
             ],
             [
              1,
              "#f0f921"
             ]
            ],
            "type": "contour"
           }
          ],
          "contourcarpet": [
           {
            "colorbar": {
             "outlinewidth": 0,
             "ticks": ""
            },
            "type": "contourcarpet"
           }
          ],
          "heatmap": [
           {
            "colorbar": {
             "outlinewidth": 0,
             "ticks": ""
            },
            "colorscale": [
             [
              0,
              "#0d0887"
             ],
             [
              0.1111111111111111,
              "#46039f"
             ],
             [
              0.2222222222222222,
              "#7201a8"
             ],
             [
              0.3333333333333333,
              "#9c179e"
             ],
             [
              0.4444444444444444,
              "#bd3786"
             ],
             [
              0.5555555555555556,
              "#d8576b"
             ],
             [
              0.6666666666666666,
              "#ed7953"
             ],
             [
              0.7777777777777778,
              "#fb9f3a"
             ],
             [
              0.8888888888888888,
              "#fdca26"
             ],
             [
              1,
              "#f0f921"
             ]
            ],
            "type": "heatmap"
           }
          ],
          "heatmapgl": [
           {
            "colorbar": {
             "outlinewidth": 0,
             "ticks": ""
            },
            "colorscale": [
             [
              0,
              "#0d0887"
             ],
             [
              0.1111111111111111,
              "#46039f"
             ],
             [
              0.2222222222222222,
              "#7201a8"
             ],
             [
              0.3333333333333333,
              "#9c179e"
             ],
             [
              0.4444444444444444,
              "#bd3786"
             ],
             [
              0.5555555555555556,
              "#d8576b"
             ],
             [
              0.6666666666666666,
              "#ed7953"
             ],
             [
              0.7777777777777778,
              "#fb9f3a"
             ],
             [
              0.8888888888888888,
              "#fdca26"
             ],
             [
              1,
              "#f0f921"
             ]
            ],
            "type": "heatmapgl"
           }
          ],
          "histogram": [
           {
            "marker": {
             "pattern": {
              "fillmode": "overlay",
              "size": 10,
              "solidity": 0.2
             }
            },
            "type": "histogram"
           }
          ],
          "histogram2d": [
           {
            "colorbar": {
             "outlinewidth": 0,
             "ticks": ""
            },
            "colorscale": [
             [
              0,
              "#0d0887"
             ],
             [
              0.1111111111111111,
              "#46039f"
             ],
             [
              0.2222222222222222,
              "#7201a8"
             ],
             [
              0.3333333333333333,
              "#9c179e"
             ],
             [
              0.4444444444444444,
              "#bd3786"
             ],
             [
              0.5555555555555556,
              "#d8576b"
             ],
             [
              0.6666666666666666,
              "#ed7953"
             ],
             [
              0.7777777777777778,
              "#fb9f3a"
             ],
             [
              0.8888888888888888,
              "#fdca26"
             ],
             [
              1,
              "#f0f921"
             ]
            ],
            "type": "histogram2d"
           }
          ],
          "histogram2dcontour": [
           {
            "colorbar": {
             "outlinewidth": 0,
             "ticks": ""
            },
            "colorscale": [
             [
              0,
              "#0d0887"
             ],
             [
              0.1111111111111111,
              "#46039f"
             ],
             [
              0.2222222222222222,
              "#7201a8"
             ],
             [
              0.3333333333333333,
              "#9c179e"
             ],
             [
              0.4444444444444444,
              "#bd3786"
             ],
             [
              0.5555555555555556,
              "#d8576b"
             ],
             [
              0.6666666666666666,
              "#ed7953"
             ],
             [
              0.7777777777777778,
              "#fb9f3a"
             ],
             [
              0.8888888888888888,
              "#fdca26"
             ],
             [
              1,
              "#f0f921"
             ]
            ],
            "type": "histogram2dcontour"
           }
          ],
          "mesh3d": [
           {
            "colorbar": {
             "outlinewidth": 0,
             "ticks": ""
            },
            "type": "mesh3d"
           }
          ],
          "parcoords": [
           {
            "line": {
             "colorbar": {
              "outlinewidth": 0,
              "ticks": ""
             }
            },
            "type": "parcoords"
           }
          ],
          "pie": [
           {
            "automargin": true,
            "type": "pie"
           }
          ],
          "scatter": [
           {
            "marker": {
             "colorbar": {
              "outlinewidth": 0,
              "ticks": ""
             }
            },
            "type": "scatter"
           }
          ],
          "scatter3d": [
           {
            "line": {
             "colorbar": {
              "outlinewidth": 0,
              "ticks": ""
             }
            },
            "marker": {
             "colorbar": {
              "outlinewidth": 0,
              "ticks": ""
             }
            },
            "type": "scatter3d"
           }
          ],
          "scattercarpet": [
           {
            "marker": {
             "colorbar": {
              "outlinewidth": 0,
              "ticks": ""
             }
            },
            "type": "scattercarpet"
           }
          ],
          "scattergeo": [
           {
            "marker": {
             "colorbar": {
              "outlinewidth": 0,
              "ticks": ""
             }
            },
            "type": "scattergeo"
           }
          ],
          "scattergl": [
           {
            "marker": {
             "colorbar": {
              "outlinewidth": 0,
              "ticks": ""
             }
            },
            "type": "scattergl"
           }
          ],
          "scattermapbox": [
           {
            "marker": {
             "colorbar": {
              "outlinewidth": 0,
              "ticks": ""
             }
            },
            "type": "scattermapbox"
           }
          ],
          "scatterpolar": [
           {
            "marker": {
             "colorbar": {
              "outlinewidth": 0,
              "ticks": ""
             }
            },
            "type": "scatterpolar"
           }
          ],
          "scatterpolargl": [
           {
            "marker": {
             "colorbar": {
              "outlinewidth": 0,
              "ticks": ""
             }
            },
            "type": "scatterpolargl"
           }
          ],
          "scatterternary": [
           {
            "marker": {
             "colorbar": {
              "outlinewidth": 0,
              "ticks": ""
             }
            },
            "type": "scatterternary"
           }
          ],
          "surface": [
           {
            "colorbar": {
             "outlinewidth": 0,
             "ticks": ""
            },
            "colorscale": [
             [
              0,
              "#0d0887"
             ],
             [
              0.1111111111111111,
              "#46039f"
             ],
             [
              0.2222222222222222,
              "#7201a8"
             ],
             [
              0.3333333333333333,
              "#9c179e"
             ],
             [
              0.4444444444444444,
              "#bd3786"
             ],
             [
              0.5555555555555556,
              "#d8576b"
             ],
             [
              0.6666666666666666,
              "#ed7953"
             ],
             [
              0.7777777777777778,
              "#fb9f3a"
             ],
             [
              0.8888888888888888,
              "#fdca26"
             ],
             [
              1,
              "#f0f921"
             ]
            ],
            "type": "surface"
           }
          ],
          "table": [
           {
            "cells": {
             "fill": {
              "color": "#EBF0F8"
             },
             "line": {
              "color": "white"
             }
            },
            "header": {
             "fill": {
              "color": "#C8D4E3"
             },
             "line": {
              "color": "white"
             }
            },
            "type": "table"
           }
          ]
         },
         "layout": {
          "annotationdefaults": {
           "arrowcolor": "#2a3f5f",
           "arrowhead": 0,
           "arrowwidth": 1
          },
          "autotypenumbers": "strict",
          "coloraxis": {
           "colorbar": {
            "outlinewidth": 0,
            "ticks": ""
           }
          },
          "colorscale": {
           "diverging": [
            [
             0,
             "#8e0152"
            ],
            [
             0.1,
             "#c51b7d"
            ],
            [
             0.2,
             "#de77ae"
            ],
            [
             0.3,
             "#f1b6da"
            ],
            [
             0.4,
             "#fde0ef"
            ],
            [
             0.5,
             "#f7f7f7"
            ],
            [
             0.6,
             "#e6f5d0"
            ],
            [
             0.7,
             "#b8e186"
            ],
            [
             0.8,
             "#7fbc41"
            ],
            [
             0.9,
             "#4d9221"
            ],
            [
             1,
             "#276419"
            ]
           ],
           "sequential": [
            [
             0,
             "#0d0887"
            ],
            [
             0.1111111111111111,
             "#46039f"
            ],
            [
             0.2222222222222222,
             "#7201a8"
            ],
            [
             0.3333333333333333,
             "#9c179e"
            ],
            [
             0.4444444444444444,
             "#bd3786"
            ],
            [
             0.5555555555555556,
             "#d8576b"
            ],
            [
             0.6666666666666666,
             "#ed7953"
            ],
            [
             0.7777777777777778,
             "#fb9f3a"
            ],
            [
             0.8888888888888888,
             "#fdca26"
            ],
            [
             1,
             "#f0f921"
            ]
           ],
           "sequentialminus": [
            [
             0,
             "#0d0887"
            ],
            [
             0.1111111111111111,
             "#46039f"
            ],
            [
             0.2222222222222222,
             "#7201a8"
            ],
            [
             0.3333333333333333,
             "#9c179e"
            ],
            [
             0.4444444444444444,
             "#bd3786"
            ],
            [
             0.5555555555555556,
             "#d8576b"
            ],
            [
             0.6666666666666666,
             "#ed7953"
            ],
            [
             0.7777777777777778,
             "#fb9f3a"
            ],
            [
             0.8888888888888888,
             "#fdca26"
            ],
            [
             1,
             "#f0f921"
            ]
           ]
          },
          "colorway": [
           "#636efa",
           "#EF553B",
           "#00cc96",
           "#ab63fa",
           "#FFA15A",
           "#19d3f3",
           "#FF6692",
           "#B6E880",
           "#FF97FF",
           "#FECB52"
          ],
          "font": {
           "color": "#2a3f5f"
          },
          "geo": {
           "bgcolor": "white",
           "lakecolor": "white",
           "landcolor": "#E5ECF6",
           "showlakes": true,
           "showland": true,
           "subunitcolor": "white"
          },
          "hoverlabel": {
           "align": "left"
          },
          "hovermode": "closest",
          "mapbox": {
           "style": "light"
          },
          "paper_bgcolor": "white",
          "plot_bgcolor": "#E5ECF6",
          "polar": {
           "angularaxis": {
            "gridcolor": "white",
            "linecolor": "white",
            "ticks": ""
           },
           "bgcolor": "#E5ECF6",
           "radialaxis": {
            "gridcolor": "white",
            "linecolor": "white",
            "ticks": ""
           }
          },
          "scene": {
           "xaxis": {
            "backgroundcolor": "#E5ECF6",
            "gridcolor": "white",
            "gridwidth": 2,
            "linecolor": "white",
            "showbackground": true,
            "ticks": "",
            "zerolinecolor": "white"
           },
           "yaxis": {
            "backgroundcolor": "#E5ECF6",
            "gridcolor": "white",
            "gridwidth": 2,
            "linecolor": "white",
            "showbackground": true,
            "ticks": "",
            "zerolinecolor": "white"
           },
           "zaxis": {
            "backgroundcolor": "#E5ECF6",
            "gridcolor": "white",
            "gridwidth": 2,
            "linecolor": "white",
            "showbackground": true,
            "ticks": "",
            "zerolinecolor": "white"
           }
          },
          "shapedefaults": {
           "line": {
            "color": "#2a3f5f"
           }
          },
          "ternary": {
           "aaxis": {
            "gridcolor": "white",
            "linecolor": "white",
            "ticks": ""
           },
           "baxis": {
            "gridcolor": "white",
            "linecolor": "white",
            "ticks": ""
           },
           "bgcolor": "#E5ECF6",
           "caxis": {
            "gridcolor": "white",
            "linecolor": "white",
            "ticks": ""
           }
          },
          "title": {
           "x": 0.05
          },
          "xaxis": {
           "automargin": true,
           "gridcolor": "white",
           "linecolor": "white",
           "ticks": "",
           "title": {
            "standoff": 15
           },
           "zerolinecolor": "white",
           "zerolinewidth": 2
          },
          "yaxis": {
           "automargin": true,
           "gridcolor": "white",
           "linecolor": "white",
           "ticks": "",
           "title": {
            "standoff": 15
           },
           "zerolinecolor": "white",
           "zerolinewidth": 2
          }
         }
        },
        "title": {
         "text": ""
        }
       }
      }
     },
     "metadata": {},
     "output_type": "display_data"
    }
   ],
   "source": [
    "import plotly.graph_objects as go\n",
    "\n",
    "labels = [\"Highest SO2 Emitters\", 'Large Env. Impacts, Pro-Coal Public Sentiment', 'High DAC & Community Impacts', 'Minimal DAC and Community Impacts', 'Newer Plants, Anti-Coal Public Sentiment', 'Un-Grouped']\n",
    "\n",
    "\n",
    "fig = go.Figure()\n",
    "\n",
    "fig.add_trace(go.Pie(labels=labels, values=mapdf['PLGENACL'], hole=0.1, name=\"Generation\", marker_colors=['#FF97FF','#B6E880','#FF6692','#19D3F3','#FFA15A','#AB63FA',]),\n",
    ")\n",
    "\n",
    "\n",
    "# Use `hole` to create a donut-like pie chart\n",
    "fig.update_traces(hoverinfo=\"label+percent+name\")\n",
    "\n",
    "fig.update_layout(title_text=\"\",\n",
    "    annotations=[dict(text='MWh/yr', x=0.5, y=0.5, font_size=10, showarrow=False)])\n",
    "    \n",
    "fig.show()"
   ]
  },
  {
   "cell_type": "code",
   "execution_count": 293,
   "id": "deb104b6",
   "metadata": {},
   "outputs": [
    {
     "name": "stderr",
     "output_type": "stream",
     "text": [
      "<ipython-input-293-2161e558de58>:1: FutureWarning:\n",
      "\n",
      "Indexing with multiple keys (implicitly converted to a tuple of keys) will be deprecated, use a list instead.\n",
      "\n",
      "<ipython-input-293-2161e558de58>:2: FutureWarning:\n",
      "\n",
      "Indexing with multiple keys (implicitly converted to a tuple of keys) will be deprecated, use a list instead.\n",
      "\n"
     ]
    },
    {
     "data": {
      "application/vnd.plotly.v1+json": {
       "config": {
        "plotlyServerURL": "https://plot.ly"
       },
       "data": [
        {
         "colorscale": [
          [
           0,
           "rgb(0,104,55)"
          ],
          [
           0.1,
           "rgb(26,152,80)"
          ],
          [
           0.2,
           "rgb(102,189,99)"
          ],
          [
           0.3,
           "rgb(166,217,106)"
          ],
          [
           0.4,
           "rgb(217,239,139)"
          ],
          [
           0.5,
           "rgb(255,255,191)"
          ],
          [
           0.6,
           "rgb(254,224,139)"
          ],
          [
           0.7,
           "rgb(253,174,97)"
          ],
          [
           0.8,
           "rgb(244,109,67)"
          ],
          [
           0.9,
           "rgb(215,48,39)"
          ],
          [
           1,
           "rgb(165,0,38)"
          ]
         ],
         "text": [
          [
           1.73,
           2.28,
           1.15,
           0.32,
           1.34,
           5.49
          ],
          [
           3.21,
           1.96,
           3.51,
           8.11,
           6.07,
           6.59
          ],
          [
           5.56,
           1.89,
           3.1,
           2.93,
           4.54,
           3.66
          ],
          [
           6.55,
           9.4,
           47.44,
           79.88,
           38.01,
           36.26
          ],
          [
           17.01,
           37.99,
           4.99,
           0.58,
           7.18,
           6.23
          ],
          [
           65.94,
           46.48,
           39.83,
           8.19,
           42.87,
           41.76
          ]
         ],
         "texttemplate": "%{text}%",
         "type": "heatmap",
         "x": [
          "Annual Generation",
          "Total SO2 Released",
          "Forward Costs",
          "Affected DAC within 3 Miles",
          "Impact Score",
          "Number of Plants"
         ],
         "y": [
          "Minimal DAC and Community Impacts",
          "Un-Grouped",
          "High DAC & Community Impacts",
          "Newer Plants, Anti-Coal Public Sentiment",
          "Highest SO2 Emitters",
          "Large Env. Impacts, Pro-Coal Public Sentiment"
         ],
         "z": [
          [
           1.7315916346238678,
           2.281824265534216,
           1.1506195360557367,
           0.3166117422010951,
           1.336871098522034,
           5.4945054945054945
          ],
          [
           3.214487354894947,
           1.9606397150229136,
           3.505032225031051,
           8.105029226108252,
           6.0663704953335635,
           6.593406593406594
          ],
          [
           5.555969167180564,
           1.8892569641612926,
           3.0975667836747585,
           2.9318058326887457,
           4.535078592111698,
           3.6630036630036633
          ],
          [
           6.551072564698471,
           9.402994438270127,
           47.435692540182785,
           79.87705936964656,
           38.0119880398166,
           36.26373626373626
          ],
          [
           17.01060926139145,
           37.98750755791714,
           4.985028992923142,
           0.5769581302249533,
           7.179753161935455,
           6.227106227106227
          ],
          [
           65.9362700172107,
           46.47777705909429,
           39.826059922132494,
           8.192535699130405,
           42.86993861228064,
           41.75824175824176
          ]
         ]
        }
       ],
       "layout": {
        "font": {
         "size": 10
        },
        "height": 700,
        "template": {
         "data": {
          "bar": [
           {
            "error_x": {
             "color": "#2a3f5f"
            },
            "error_y": {
             "color": "#2a3f5f"
            },
            "marker": {
             "line": {
              "color": "#E5ECF6",
              "width": 0.5
             },
             "pattern": {
              "fillmode": "overlay",
              "size": 10,
              "solidity": 0.2
             }
            },
            "type": "bar"
           }
          ],
          "barpolar": [
           {
            "marker": {
             "line": {
              "color": "#E5ECF6",
              "width": 0.5
             },
             "pattern": {
              "fillmode": "overlay",
              "size": 10,
              "solidity": 0.2
             }
            },
            "type": "barpolar"
           }
          ],
          "carpet": [
           {
            "aaxis": {
             "endlinecolor": "#2a3f5f",
             "gridcolor": "white",
             "linecolor": "white",
             "minorgridcolor": "white",
             "startlinecolor": "#2a3f5f"
            },
            "baxis": {
             "endlinecolor": "#2a3f5f",
             "gridcolor": "white",
             "linecolor": "white",
             "minorgridcolor": "white",
             "startlinecolor": "#2a3f5f"
            },
            "type": "carpet"
           }
          ],
          "choropleth": [
           {
            "colorbar": {
             "outlinewidth": 0,
             "ticks": ""
            },
            "type": "choropleth"
           }
          ],
          "contour": [
           {
            "colorbar": {
             "outlinewidth": 0,
             "ticks": ""
            },
            "colorscale": [
             [
              0,
              "#0d0887"
             ],
             [
              0.1111111111111111,
              "#46039f"
             ],
             [
              0.2222222222222222,
              "#7201a8"
             ],
             [
              0.3333333333333333,
              "#9c179e"
             ],
             [
              0.4444444444444444,
              "#bd3786"
             ],
             [
              0.5555555555555556,
              "#d8576b"
             ],
             [
              0.6666666666666666,
              "#ed7953"
             ],
             [
              0.7777777777777778,
              "#fb9f3a"
             ],
             [
              0.8888888888888888,
              "#fdca26"
             ],
             [
              1,
              "#f0f921"
             ]
            ],
            "type": "contour"
           }
          ],
          "contourcarpet": [
           {
            "colorbar": {
             "outlinewidth": 0,
             "ticks": ""
            },
            "type": "contourcarpet"
           }
          ],
          "heatmap": [
           {
            "colorbar": {
             "outlinewidth": 0,
             "ticks": ""
            },
            "colorscale": [
             [
              0,
              "#0d0887"
             ],
             [
              0.1111111111111111,
              "#46039f"
             ],
             [
              0.2222222222222222,
              "#7201a8"
             ],
             [
              0.3333333333333333,
              "#9c179e"
             ],
             [
              0.4444444444444444,
              "#bd3786"
             ],
             [
              0.5555555555555556,
              "#d8576b"
             ],
             [
              0.6666666666666666,
              "#ed7953"
             ],
             [
              0.7777777777777778,
              "#fb9f3a"
             ],
             [
              0.8888888888888888,
              "#fdca26"
             ],
             [
              1,
              "#f0f921"
             ]
            ],
            "type": "heatmap"
           }
          ],
          "heatmapgl": [
           {
            "colorbar": {
             "outlinewidth": 0,
             "ticks": ""
            },
            "colorscale": [
             [
              0,
              "#0d0887"
             ],
             [
              0.1111111111111111,
              "#46039f"
             ],
             [
              0.2222222222222222,
              "#7201a8"
             ],
             [
              0.3333333333333333,
              "#9c179e"
             ],
             [
              0.4444444444444444,
              "#bd3786"
             ],
             [
              0.5555555555555556,
              "#d8576b"
             ],
             [
              0.6666666666666666,
              "#ed7953"
             ],
             [
              0.7777777777777778,
              "#fb9f3a"
             ],
             [
              0.8888888888888888,
              "#fdca26"
             ],
             [
              1,
              "#f0f921"
             ]
            ],
            "type": "heatmapgl"
           }
          ],
          "histogram": [
           {
            "marker": {
             "pattern": {
              "fillmode": "overlay",
              "size": 10,
              "solidity": 0.2
             }
            },
            "type": "histogram"
           }
          ],
          "histogram2d": [
           {
            "colorbar": {
             "outlinewidth": 0,
             "ticks": ""
            },
            "colorscale": [
             [
              0,
              "#0d0887"
             ],
             [
              0.1111111111111111,
              "#46039f"
             ],
             [
              0.2222222222222222,
              "#7201a8"
             ],
             [
              0.3333333333333333,
              "#9c179e"
             ],
             [
              0.4444444444444444,
              "#bd3786"
             ],
             [
              0.5555555555555556,
              "#d8576b"
             ],
             [
              0.6666666666666666,
              "#ed7953"
             ],
             [
              0.7777777777777778,
              "#fb9f3a"
             ],
             [
              0.8888888888888888,
              "#fdca26"
             ],
             [
              1,
              "#f0f921"
             ]
            ],
            "type": "histogram2d"
           }
          ],
          "histogram2dcontour": [
           {
            "colorbar": {
             "outlinewidth": 0,
             "ticks": ""
            },
            "colorscale": [
             [
              0,
              "#0d0887"
             ],
             [
              0.1111111111111111,
              "#46039f"
             ],
             [
              0.2222222222222222,
              "#7201a8"
             ],
             [
              0.3333333333333333,
              "#9c179e"
             ],
             [
              0.4444444444444444,
              "#bd3786"
             ],
             [
              0.5555555555555556,
              "#d8576b"
             ],
             [
              0.6666666666666666,
              "#ed7953"
             ],
             [
              0.7777777777777778,
              "#fb9f3a"
             ],
             [
              0.8888888888888888,
              "#fdca26"
             ],
             [
              1,
              "#f0f921"
             ]
            ],
            "type": "histogram2dcontour"
           }
          ],
          "mesh3d": [
           {
            "colorbar": {
             "outlinewidth": 0,
             "ticks": ""
            },
            "type": "mesh3d"
           }
          ],
          "parcoords": [
           {
            "line": {
             "colorbar": {
              "outlinewidth": 0,
              "ticks": ""
             }
            },
            "type": "parcoords"
           }
          ],
          "pie": [
           {
            "automargin": true,
            "type": "pie"
           }
          ],
          "scatter": [
           {
            "marker": {
             "colorbar": {
              "outlinewidth": 0,
              "ticks": ""
             }
            },
            "type": "scatter"
           }
          ],
          "scatter3d": [
           {
            "line": {
             "colorbar": {
              "outlinewidth": 0,
              "ticks": ""
             }
            },
            "marker": {
             "colorbar": {
              "outlinewidth": 0,
              "ticks": ""
             }
            },
            "type": "scatter3d"
           }
          ],
          "scattercarpet": [
           {
            "marker": {
             "colorbar": {
              "outlinewidth": 0,
              "ticks": ""
             }
            },
            "type": "scattercarpet"
           }
          ],
          "scattergeo": [
           {
            "marker": {
             "colorbar": {
              "outlinewidth": 0,
              "ticks": ""
             }
            },
            "type": "scattergeo"
           }
          ],
          "scattergl": [
           {
            "marker": {
             "colorbar": {
              "outlinewidth": 0,
              "ticks": ""
             }
            },
            "type": "scattergl"
           }
          ],
          "scattermapbox": [
           {
            "marker": {
             "colorbar": {
              "outlinewidth": 0,
              "ticks": ""
             }
            },
            "type": "scattermapbox"
           }
          ],
          "scatterpolar": [
           {
            "marker": {
             "colorbar": {
              "outlinewidth": 0,
              "ticks": ""
             }
            },
            "type": "scatterpolar"
           }
          ],
          "scatterpolargl": [
           {
            "marker": {
             "colorbar": {
              "outlinewidth": 0,
              "ticks": ""
             }
            },
            "type": "scatterpolargl"
           }
          ],
          "scatterternary": [
           {
            "marker": {
             "colorbar": {
              "outlinewidth": 0,
              "ticks": ""
             }
            },
            "type": "scatterternary"
           }
          ],
          "surface": [
           {
            "colorbar": {
             "outlinewidth": 0,
             "ticks": ""
            },
            "colorscale": [
             [
              0,
              "#0d0887"
             ],
             [
              0.1111111111111111,
              "#46039f"
             ],
             [
              0.2222222222222222,
              "#7201a8"
             ],
             [
              0.3333333333333333,
              "#9c179e"
             ],
             [
              0.4444444444444444,
              "#bd3786"
             ],
             [
              0.5555555555555556,
              "#d8576b"
             ],
             [
              0.6666666666666666,
              "#ed7953"
             ],
             [
              0.7777777777777778,
              "#fb9f3a"
             ],
             [
              0.8888888888888888,
              "#fdca26"
             ],
             [
              1,
              "#f0f921"
             ]
            ],
            "type": "surface"
           }
          ],
          "table": [
           {
            "cells": {
             "fill": {
              "color": "#EBF0F8"
             },
             "line": {
              "color": "white"
             }
            },
            "header": {
             "fill": {
              "color": "#C8D4E3"
             },
             "line": {
              "color": "white"
             }
            },
            "type": "table"
           }
          ]
         },
         "layout": {
          "annotationdefaults": {
           "arrowcolor": "#2a3f5f",
           "arrowhead": 0,
           "arrowwidth": 1
          },
          "autotypenumbers": "strict",
          "coloraxis": {
           "colorbar": {
            "outlinewidth": 0,
            "ticks": ""
           }
          },
          "colorscale": {
           "diverging": [
            [
             0,
             "#8e0152"
            ],
            [
             0.1,
             "#c51b7d"
            ],
            [
             0.2,
             "#de77ae"
            ],
            [
             0.3,
             "#f1b6da"
            ],
            [
             0.4,
             "#fde0ef"
            ],
            [
             0.5,
             "#f7f7f7"
            ],
            [
             0.6,
             "#e6f5d0"
            ],
            [
             0.7,
             "#b8e186"
            ],
            [
             0.8,
             "#7fbc41"
            ],
            [
             0.9,
             "#4d9221"
            ],
            [
             1,
             "#276419"
            ]
           ],
           "sequential": [
            [
             0,
             "#0d0887"
            ],
            [
             0.1111111111111111,
             "#46039f"
            ],
            [
             0.2222222222222222,
             "#7201a8"
            ],
            [
             0.3333333333333333,
             "#9c179e"
            ],
            [
             0.4444444444444444,
             "#bd3786"
            ],
            [
             0.5555555555555556,
             "#d8576b"
            ],
            [
             0.6666666666666666,
             "#ed7953"
            ],
            [
             0.7777777777777778,
             "#fb9f3a"
            ],
            [
             0.8888888888888888,
             "#fdca26"
            ],
            [
             1,
             "#f0f921"
            ]
           ],
           "sequentialminus": [
            [
             0,
             "#0d0887"
            ],
            [
             0.1111111111111111,
             "#46039f"
            ],
            [
             0.2222222222222222,
             "#7201a8"
            ],
            [
             0.3333333333333333,
             "#9c179e"
            ],
            [
             0.4444444444444444,
             "#bd3786"
            ],
            [
             0.5555555555555556,
             "#d8576b"
            ],
            [
             0.6666666666666666,
             "#ed7953"
            ],
            [
             0.7777777777777778,
             "#fb9f3a"
            ],
            [
             0.8888888888888888,
             "#fdca26"
            ],
            [
             1,
             "#f0f921"
            ]
           ]
          },
          "colorway": [
           "#636efa",
           "#EF553B",
           "#00cc96",
           "#ab63fa",
           "#FFA15A",
           "#19d3f3",
           "#FF6692",
           "#B6E880",
           "#FF97FF",
           "#FECB52"
          ],
          "font": {
           "color": "#2a3f5f"
          },
          "geo": {
           "bgcolor": "white",
           "lakecolor": "white",
           "landcolor": "#E5ECF6",
           "showlakes": true,
           "showland": true,
           "subunitcolor": "white"
          },
          "hoverlabel": {
           "align": "left"
          },
          "hovermode": "closest",
          "mapbox": {
           "style": "light"
          },
          "paper_bgcolor": "white",
          "plot_bgcolor": "#E5ECF6",
          "polar": {
           "angularaxis": {
            "gridcolor": "white",
            "linecolor": "white",
            "ticks": ""
           },
           "bgcolor": "#E5ECF6",
           "radialaxis": {
            "gridcolor": "white",
            "linecolor": "white",
            "ticks": ""
           }
          },
          "scene": {
           "xaxis": {
            "backgroundcolor": "#E5ECF6",
            "gridcolor": "white",
            "gridwidth": 2,
            "linecolor": "white",
            "showbackground": true,
            "ticks": "",
            "zerolinecolor": "white"
           },
           "yaxis": {
            "backgroundcolor": "#E5ECF6",
            "gridcolor": "white",
            "gridwidth": 2,
            "linecolor": "white",
            "showbackground": true,
            "ticks": "",
            "zerolinecolor": "white"
           },
           "zaxis": {
            "backgroundcolor": "#E5ECF6",
            "gridcolor": "white",
            "gridwidth": 2,
            "linecolor": "white",
            "showbackground": true,
            "ticks": "",
            "zerolinecolor": "white"
           }
          },
          "shapedefaults": {
           "line": {
            "color": "#2a3f5f"
           }
          },
          "ternary": {
           "aaxis": {
            "gridcolor": "white",
            "linecolor": "white",
            "ticks": ""
           },
           "baxis": {
            "gridcolor": "white",
            "linecolor": "white",
            "ticks": ""
           },
           "bgcolor": "#E5ECF6",
           "caxis": {
            "gridcolor": "white",
            "linecolor": "white",
            "ticks": ""
           }
          },
          "title": {
           "x": 0.05
          },
          "xaxis": {
           "automargin": true,
           "gridcolor": "white",
           "linecolor": "white",
           "ticks": "",
           "title": {
            "standoff": 15
           },
           "zerolinecolor": "white",
           "zerolinewidth": 2
          },
          "yaxis": {
           "automargin": true,
           "gridcolor": "white",
           "linecolor": "white",
           "ticks": "",
           "title": {
            "standoff": 15
           },
           "zerolinecolor": "white",
           "zerolinewidth": 2
          }
         }
        },
        "width": 1000,
        "xaxis": {
         "tickangle": 45
        }
       }
      }
     },
     "metadata": {},
     "output_type": "display_data"
    }
   ],
   "source": [
    "mapdf = (total.groupby('superCluster')['PLGENACL', 'PLSO2AN', 'forwardCosts', 'affectedDemographicIndex', 'impact_score', 'numPlants'].sum()/total[['PLGENACL', 'PLSO2AN', 'forwardCosts', 'affectedDemographicIndex', 'impact_score', 'numPlants']].sum())*100\n",
    "#mapdf=mapdf[:-1]\n",
    "\n",
    "x1=['Annual Generation', 'Total SO2 Released', 'Forward Costs', 'Affected DAC within 3 Miles', 'Impact Score', 'Number of Plants']\n",
    "#y1 = ['Minimal DAC and Community Impacts', 'Newer Plants, Anti-Coal Public Sentiment', 'High DAC & Community Impacts',   \"Highest SO2 Emitters\", 'Large Env. Impacts, Pro-Coal Public Sentiment']\n",
    "y1 = [  'Minimal DAC and Community Impacts', 'Un-Grouped', 'High DAC & Community Impacts', 'Newer Plants, Anti-Coal Public Sentiment',  \"Highest SO2 Emitters\", 'Large Env. Impacts, Pro-Coal Public Sentiment',]\n",
    "z1 = mapdf.sort_values('PLGENACL').values.tolist()\n",
    "tList1 = mapdf.sort_values('PLGENACL').round(2).values.tolist()\n",
    "\n",
    "fig = go.Figure()\n",
    "fig.add_trace(go.Heatmap(x=x1, y=y1, z=z1, colorscale = 'rdylgn_r', text=tList1, texttemplate=(\"%{text}\"+\"%\")))\n",
    "\n",
    "fig.update_xaxes(tickangle=45)\n",
    "\n",
    "fig.update_layout(font=dict(\n",
    "        #family=\"Courier New, monospace\",\n",
    "        size=10,\n",
    "        #color=\"RebeccaPurple\"\n",
    "    ),\n",
    "    width=1000,\n",
    "    height=700)\n",
    "\n",
    "fig.show()"
   ]
  },
  {
   "cell_type": "code",
   "execution_count": null,
   "id": "27c1f7a6",
   "metadata": {},
   "outputs": [],
   "source": [
    "fig =go.Figure(go.Sunburst(\n",
    "    #labels=[\"Type of Admission\", \"Other Medical\", \"Post Surgery\", \"Adult\", \"Pediatric\", \"Readmission\", \"Post Cath\", \"adult\", \"pediatric\", \"Pre-Operative\"],\n",
    "    #parents=[\"\",\"Type of Admission\",\"Type of Admission\",\"Post Surgery\",\"Post Surgery\", \"Type of Admission\",\"Type of Admission\",\"Post Cath\",\"Post Cath\",\"Type of Admission\"],))\n",
    "\n",
    "    labels = [' ', \"High SO2 Emitters\", 'Large Env Impacts', 'High DAC & Community Impacts', 'Minimal DAC and Community Impacts', 'Newer Plants, Anti-Coal Public Sentiment', 'Un-Grouped', 'A', 'B', 'C', 'D', 'E', 'F', 'G', 'H', 'I', 'J', 'K', 'L', 'M', 'N', 'O', 'P'],\n",
    "    parents = ['', ' ', ' ',' ', ' ',' ', ' ', 'Large Env Impacts', 'High DAC & Community Impacts', 'Minimal DAC and Community Impacts', 'Un-Grouped', 'Large Env Impacts', 'Un-Grouped', 'High DAC & Community Impacts', 'Un-Grouped', 'Newer Plants, Anti-Coal Public Sentiment', 'Large Env Impacts', 'Un-Grouped', 'Large Env Impacts', 'Un-Grouped', 'Un-Grouped','High DAC & Community Impacts', \"High SO2 Emitters\"],\n",
    "    values = l32\n",
    "    ))\n",
    "\n",
    "fig.update_layout(margin = dict(t=0, l=0, r=0, b=0))"
   ]
  },
  {
   "cell_type": "code",
   "execution_count": null,
   "id": "57ed2cf0",
   "metadata": {},
   "outputs": [],
   "source": [
    "mapdf2 = (total.groupby('cluster')['PLGENACL', 'PLSO2AN', 'forwardCosts', 'affectedDemographicIndex', 'impact_score', 'numPlants'].sum()/total[['PLGENACL', 'PLSO2AN', 'forwardCosts', 'affectedDemographicIndex', 'impact_score', 'numPlants']].sum())*100\n",
    "mapdf2 = mapdf2.reset_index()\n",
    "\n",
    "super_cluster_list = [['p'], ['j', 'e', 'l', 'a'], ['g', 'o', 'b'], ['c'], ['i'], ['k', 'h', 'd', 'm', 'n', 'f']]\n",
    "def label_superCluster(id):\n",
    "    for i in range(0, len(super_cluster_list)):\n",
    "        for n in super_cluster_list[i]:\n",
    "            if id==n:\n",
    "                return i+1\n",
    "\n",
    "mapdf2['superCluster'] = mapdf2['cluster'].apply(label_superCluster)\n",
    "list2 = mapdf['PLGENACL'].to_list()\n",
    "list2.append(mapdf2['PLGENACL'].to_list())\n",
    "list2.insert(0, 10)\n"
   ]
  },
  {
   "cell_type": "code",
   "execution_count": null,
   "id": "4470c987",
   "metadata": {},
   "outputs": [],
   "source": [
    "l32 = [0, 17.01060926139145,\n",
    " 65.9362700172107,\n",
    " 6.551072564698471,\n",
    " 1.7315916346238678,\n",
    " 5.555969167180564,\n",
    " 3.214487354894947, 19.95139905714295, 4.28974885312082,\n",
    " 1.7315916346238678,\n",
    " 0.38912395379144366,\n",
    " 5.6864816069579245,\n",
    " 1.7767546388448716,\n",
    " 0.8741336362064506,\n",
    " 0.15260734358437414,\n",
    " 5.555969167180564,\n",
    " 6.2183049428543375,\n",
    " 0.026857163194956846,\n",
    " 34.08008441025549,\n",
    " 0.39281021094280977,\n",
    " 0.47633404453649,\n",
    " 1.3871900753711974,\n",
    " 17.01060926139145]"
   ]
  },
  {
   "cell_type": "code",
   "execution_count": null,
   "id": "0ade2b3c",
   "metadata": {},
   "outputs": [],
   "source": [
    "\n",
    "import plotly.express as px\n",
    "# fig = px.sunburst(mapdf2, path=['superCluster', 'cluster'], values='PLGENACL')\n",
    "# fig.show()\n",
    "\n",
    "fig = px.sunburst(mapdf2, path=['superCluster', 'cluster'], values='PLSO2AN')\n",
    "\n",
    "# plotly graph_objects figure\n",
    "fig2 =go.Figure(go.Sunburst(\n",
    "    labels=fig['data'][0]['labels'].tolist(),\n",
    "    parents=fig['data'][0]['parents'].tolist(),\n",
    "    values=fig['data'][0]['values'].tolist(),\n",
    "    #ids=fig['data'][0]['ids'].tolist(),\n",
    "    #domain={'x': [0.0, 1.0], 'y': [0.0, 1.0]}\n",
    "))\n",
    "\n",
    "# fig2 =go.Figure(go.Sunburst(\n",
    "#     labels=mapdf2['cluster'].tolist(),\n",
    "#     parents=mapdf2['superCluster'].tolist(),\n",
    "#     values=mapdf2['PLGENACL'].tolist(),\n",
    "#     ids=fig['data'][0]['ids'].tolist(),\n",
    "#     domain={'x': [0.0, 1.0], 'y': [0.0, 1.0]}\n",
    "# ))\n",
    "\n",
    "# fig2.update_layout(width=1500,\n",
    "#     height = 1000,)\n",
    "fig2.show()"
   ]
  },
  {
   "cell_type": "code",
   "execution_count": 578,
   "id": "fe29a7c1",
   "metadata": {},
   "outputs": [
    {
     "data": {
      "application/vnd.plotly.v1+json": {
       "config": {
        "plotlyServerURL": "https://plot.ly"
       },
       "data": [
        {
         "hole": 0,
         "insidetextorientation": "radial",
         "marker": {
          "colors": [
           "#FF97FF",
           "#B6E880",
           "#FF6692",
           "#19D3F3",
           "#FFA15A",
           "#AB63FA"
          ],
          "line": {
           "color": "white",
           "width": 1
          }
         },
         "name": "Hellothere",
         "pull": [
          0,
          0,
          0,
          0,
          0,
          0.2
         ],
         "sort": false,
         "textposition": "inside",
         "type": "pie",
         "values": [
          129874846.44199999,
          503418943.546,
          50016994.118000016,
          13220584.530000001,
          42419447.26,
          24542392.644000005
         ]
        },
        {
         "hole": 0.93,
         "marker": {
          "colors": [
           "rgb(255,255,255)",
           "rgb(240,240,240)",
           "rgb(217,217,217)",
           "rgb(189,189,189)",
           "rgb(150,150,150)",
           "rgb(115,115,115)",
           "rgb(82,82,82)",
           "rgb(37,37,37)",
           "rgb(0,0,0)"
          ],
          "line": {
           "color": "black",
           "width": 0.5
          }
         },
         "pull": [
          0,
          0,
          0,
          0,
          0,
          0,
          0,
          0,
          0,
          0,
          0.1,
          0.1,
          0.1,
          0.1,
          0.1,
          0.1
         ],
         "showlegend": false,
         "sort": false,
         "textinfo": "text",
         "textposition": "outside",
         "texttemplate": [
          "p",
          "j",
          "e",
          "l",
          "a",
          "g",
          "o",
          "b",
          "c",
          "i",
          "k",
          "h",
          "d",
          "m",
          "n",
          "f"
         ],
         "type": "pie",
         "values": [
          129874846.44199999,
          47476335.925,
          43415900.874000005,
          260199129.93699992,
          152327576.81000003,
          6673950.946,
          10591102.014999999,
          32751941.156999998,
          13220584.530000001,
          42419447.26,
          205052.617,
          1165146.704,
          2970934.96,
          2999079.2830000003,
          3636778.08,
          13565401
         ]
        }
       ],
       "layout": {
        "font": {
         "size": 10
        },
        "margin": {
         "b": 0,
         "l": 0,
         "r": 0,
         "t": 0
        },
        "template": {
         "data": {
          "bar": [
           {
            "error_x": {
             "color": "#2a3f5f"
            },
            "error_y": {
             "color": "#2a3f5f"
            },
            "marker": {
             "line": {
              "color": "#E5ECF6",
              "width": 0.5
             },
             "pattern": {
              "fillmode": "overlay",
              "size": 10,
              "solidity": 0.2
             }
            },
            "type": "bar"
           }
          ],
          "barpolar": [
           {
            "marker": {
             "line": {
              "color": "#E5ECF6",
              "width": 0.5
             },
             "pattern": {
              "fillmode": "overlay",
              "size": 10,
              "solidity": 0.2
             }
            },
            "type": "barpolar"
           }
          ],
          "carpet": [
           {
            "aaxis": {
             "endlinecolor": "#2a3f5f",
             "gridcolor": "white",
             "linecolor": "white",
             "minorgridcolor": "white",
             "startlinecolor": "#2a3f5f"
            },
            "baxis": {
             "endlinecolor": "#2a3f5f",
             "gridcolor": "white",
             "linecolor": "white",
             "minorgridcolor": "white",
             "startlinecolor": "#2a3f5f"
            },
            "type": "carpet"
           }
          ],
          "choropleth": [
           {
            "colorbar": {
             "outlinewidth": 0,
             "ticks": ""
            },
            "type": "choropleth"
           }
          ],
          "contour": [
           {
            "colorbar": {
             "outlinewidth": 0,
             "ticks": ""
            },
            "colorscale": [
             [
              0,
              "#0d0887"
             ],
             [
              0.1111111111111111,
              "#46039f"
             ],
             [
              0.2222222222222222,
              "#7201a8"
             ],
             [
              0.3333333333333333,
              "#9c179e"
             ],
             [
              0.4444444444444444,
              "#bd3786"
             ],
             [
              0.5555555555555556,
              "#d8576b"
             ],
             [
              0.6666666666666666,
              "#ed7953"
             ],
             [
              0.7777777777777778,
              "#fb9f3a"
             ],
             [
              0.8888888888888888,
              "#fdca26"
             ],
             [
              1,
              "#f0f921"
             ]
            ],
            "type": "contour"
           }
          ],
          "contourcarpet": [
           {
            "colorbar": {
             "outlinewidth": 0,
             "ticks": ""
            },
            "type": "contourcarpet"
           }
          ],
          "heatmap": [
           {
            "colorbar": {
             "outlinewidth": 0,
             "ticks": ""
            },
            "colorscale": [
             [
              0,
              "#0d0887"
             ],
             [
              0.1111111111111111,
              "#46039f"
             ],
             [
              0.2222222222222222,
              "#7201a8"
             ],
             [
              0.3333333333333333,
              "#9c179e"
             ],
             [
              0.4444444444444444,
              "#bd3786"
             ],
             [
              0.5555555555555556,
              "#d8576b"
             ],
             [
              0.6666666666666666,
              "#ed7953"
             ],
             [
              0.7777777777777778,
              "#fb9f3a"
             ],
             [
              0.8888888888888888,
              "#fdca26"
             ],
             [
              1,
              "#f0f921"
             ]
            ],
            "type": "heatmap"
           }
          ],
          "heatmapgl": [
           {
            "colorbar": {
             "outlinewidth": 0,
             "ticks": ""
            },
            "colorscale": [
             [
              0,
              "#0d0887"
             ],
             [
              0.1111111111111111,
              "#46039f"
             ],
             [
              0.2222222222222222,
              "#7201a8"
             ],
             [
              0.3333333333333333,
              "#9c179e"
             ],
             [
              0.4444444444444444,
              "#bd3786"
             ],
             [
              0.5555555555555556,
              "#d8576b"
             ],
             [
              0.6666666666666666,
              "#ed7953"
             ],
             [
              0.7777777777777778,
              "#fb9f3a"
             ],
             [
              0.8888888888888888,
              "#fdca26"
             ],
             [
              1,
              "#f0f921"
             ]
            ],
            "type": "heatmapgl"
           }
          ],
          "histogram": [
           {
            "marker": {
             "pattern": {
              "fillmode": "overlay",
              "size": 10,
              "solidity": 0.2
             }
            },
            "type": "histogram"
           }
          ],
          "histogram2d": [
           {
            "colorbar": {
             "outlinewidth": 0,
             "ticks": ""
            },
            "colorscale": [
             [
              0,
              "#0d0887"
             ],
             [
              0.1111111111111111,
              "#46039f"
             ],
             [
              0.2222222222222222,
              "#7201a8"
             ],
             [
              0.3333333333333333,
              "#9c179e"
             ],
             [
              0.4444444444444444,
              "#bd3786"
             ],
             [
              0.5555555555555556,
              "#d8576b"
             ],
             [
              0.6666666666666666,
              "#ed7953"
             ],
             [
              0.7777777777777778,
              "#fb9f3a"
             ],
             [
              0.8888888888888888,
              "#fdca26"
             ],
             [
              1,
              "#f0f921"
             ]
            ],
            "type": "histogram2d"
           }
          ],
          "histogram2dcontour": [
           {
            "colorbar": {
             "outlinewidth": 0,
             "ticks": ""
            },
            "colorscale": [
             [
              0,
              "#0d0887"
             ],
             [
              0.1111111111111111,
              "#46039f"
             ],
             [
              0.2222222222222222,
              "#7201a8"
             ],
             [
              0.3333333333333333,
              "#9c179e"
             ],
             [
              0.4444444444444444,
              "#bd3786"
             ],
             [
              0.5555555555555556,
              "#d8576b"
             ],
             [
              0.6666666666666666,
              "#ed7953"
             ],
             [
              0.7777777777777778,
              "#fb9f3a"
             ],
             [
              0.8888888888888888,
              "#fdca26"
             ],
             [
              1,
              "#f0f921"
             ]
            ],
            "type": "histogram2dcontour"
           }
          ],
          "mesh3d": [
           {
            "colorbar": {
             "outlinewidth": 0,
             "ticks": ""
            },
            "type": "mesh3d"
           }
          ],
          "parcoords": [
           {
            "line": {
             "colorbar": {
              "outlinewidth": 0,
              "ticks": ""
             }
            },
            "type": "parcoords"
           }
          ],
          "pie": [
           {
            "automargin": true,
            "type": "pie"
           }
          ],
          "scatter": [
           {
            "marker": {
             "colorbar": {
              "outlinewidth": 0,
              "ticks": ""
             }
            },
            "type": "scatter"
           }
          ],
          "scatter3d": [
           {
            "line": {
             "colorbar": {
              "outlinewidth": 0,
              "ticks": ""
             }
            },
            "marker": {
             "colorbar": {
              "outlinewidth": 0,
              "ticks": ""
             }
            },
            "type": "scatter3d"
           }
          ],
          "scattercarpet": [
           {
            "marker": {
             "colorbar": {
              "outlinewidth": 0,
              "ticks": ""
             }
            },
            "type": "scattercarpet"
           }
          ],
          "scattergeo": [
           {
            "marker": {
             "colorbar": {
              "outlinewidth": 0,
              "ticks": ""
             }
            },
            "type": "scattergeo"
           }
          ],
          "scattergl": [
           {
            "marker": {
             "colorbar": {
              "outlinewidth": 0,
              "ticks": ""
             }
            },
            "type": "scattergl"
           }
          ],
          "scattermapbox": [
           {
            "marker": {
             "colorbar": {
              "outlinewidth": 0,
              "ticks": ""
             }
            },
            "type": "scattermapbox"
           }
          ],
          "scatterpolar": [
           {
            "marker": {
             "colorbar": {
              "outlinewidth": 0,
              "ticks": ""
             }
            },
            "type": "scatterpolar"
           }
          ],
          "scatterpolargl": [
           {
            "marker": {
             "colorbar": {
              "outlinewidth": 0,
              "ticks": ""
             }
            },
            "type": "scatterpolargl"
           }
          ],
          "scatterternary": [
           {
            "marker": {
             "colorbar": {
              "outlinewidth": 0,
              "ticks": ""
             }
            },
            "type": "scatterternary"
           }
          ],
          "surface": [
           {
            "colorbar": {
             "outlinewidth": 0,
             "ticks": ""
            },
            "colorscale": [
             [
              0,
              "#0d0887"
             ],
             [
              0.1111111111111111,
              "#46039f"
             ],
             [
              0.2222222222222222,
              "#7201a8"
             ],
             [
              0.3333333333333333,
              "#9c179e"
             ],
             [
              0.4444444444444444,
              "#bd3786"
             ],
             [
              0.5555555555555556,
              "#d8576b"
             ],
             [
              0.6666666666666666,
              "#ed7953"
             ],
             [
              0.7777777777777778,
              "#fb9f3a"
             ],
             [
              0.8888888888888888,
              "#fdca26"
             ],
             [
              1,
              "#f0f921"
             ]
            ],
            "type": "surface"
           }
          ],
          "table": [
           {
            "cells": {
             "fill": {
              "color": "#EBF0F8"
             },
             "line": {
              "color": "white"
             }
            },
            "header": {
             "fill": {
              "color": "#C8D4E3"
             },
             "line": {
              "color": "white"
             }
            },
            "type": "table"
           }
          ]
         },
         "layout": {
          "annotationdefaults": {
           "arrowcolor": "#2a3f5f",
           "arrowhead": 0,
           "arrowwidth": 1
          },
          "autotypenumbers": "strict",
          "coloraxis": {
           "colorbar": {
            "outlinewidth": 0,
            "ticks": ""
           }
          },
          "colorscale": {
           "diverging": [
            [
             0,
             "#8e0152"
            ],
            [
             0.1,
             "#c51b7d"
            ],
            [
             0.2,
             "#de77ae"
            ],
            [
             0.3,
             "#f1b6da"
            ],
            [
             0.4,
             "#fde0ef"
            ],
            [
             0.5,
             "#f7f7f7"
            ],
            [
             0.6,
             "#e6f5d0"
            ],
            [
             0.7,
             "#b8e186"
            ],
            [
             0.8,
             "#7fbc41"
            ],
            [
             0.9,
             "#4d9221"
            ],
            [
             1,
             "#276419"
            ]
           ],
           "sequential": [
            [
             0,
             "#0d0887"
            ],
            [
             0.1111111111111111,
             "#46039f"
            ],
            [
             0.2222222222222222,
             "#7201a8"
            ],
            [
             0.3333333333333333,
             "#9c179e"
            ],
            [
             0.4444444444444444,
             "#bd3786"
            ],
            [
             0.5555555555555556,
             "#d8576b"
            ],
            [
             0.6666666666666666,
             "#ed7953"
            ],
            [
             0.7777777777777778,
             "#fb9f3a"
            ],
            [
             0.8888888888888888,
             "#fdca26"
            ],
            [
             1,
             "#f0f921"
            ]
           ],
           "sequentialminus": [
            [
             0,
             "#0d0887"
            ],
            [
             0.1111111111111111,
             "#46039f"
            ],
            [
             0.2222222222222222,
             "#7201a8"
            ],
            [
             0.3333333333333333,
             "#9c179e"
            ],
            [
             0.4444444444444444,
             "#bd3786"
            ],
            [
             0.5555555555555556,
             "#d8576b"
            ],
            [
             0.6666666666666666,
             "#ed7953"
            ],
            [
             0.7777777777777778,
             "#fb9f3a"
            ],
            [
             0.8888888888888888,
             "#fdca26"
            ],
            [
             1,
             "#f0f921"
            ]
           ]
          },
          "colorway": [
           "#636efa",
           "#EF553B",
           "#00cc96",
           "#ab63fa",
           "#FFA15A",
           "#19d3f3",
           "#FF6692",
           "#B6E880",
           "#FF97FF",
           "#FECB52"
          ],
          "font": {
           "color": "#2a3f5f"
          },
          "geo": {
           "bgcolor": "white",
           "lakecolor": "white",
           "landcolor": "#E5ECF6",
           "showlakes": true,
           "showland": true,
           "subunitcolor": "white"
          },
          "hoverlabel": {
           "align": "left"
          },
          "hovermode": "closest",
          "mapbox": {
           "style": "light"
          },
          "paper_bgcolor": "white",
          "plot_bgcolor": "#E5ECF6",
          "polar": {
           "angularaxis": {
            "gridcolor": "white",
            "linecolor": "white",
            "ticks": ""
           },
           "bgcolor": "#E5ECF6",
           "radialaxis": {
            "gridcolor": "white",
            "linecolor": "white",
            "ticks": ""
           }
          },
          "scene": {
           "xaxis": {
            "backgroundcolor": "#E5ECF6",
            "gridcolor": "white",
            "gridwidth": 2,
            "linecolor": "white",
            "showbackground": true,
            "ticks": "",
            "zerolinecolor": "white"
           },
           "yaxis": {
            "backgroundcolor": "#E5ECF6",
            "gridcolor": "white",
            "gridwidth": 2,
            "linecolor": "white",
            "showbackground": true,
            "ticks": "",
            "zerolinecolor": "white"
           },
           "zaxis": {
            "backgroundcolor": "#E5ECF6",
            "gridcolor": "white",
            "gridwidth": 2,
            "linecolor": "white",
            "showbackground": true,
            "ticks": "",
            "zerolinecolor": "white"
           }
          },
          "shapedefaults": {
           "line": {
            "color": "#2a3f5f"
           }
          },
          "ternary": {
           "aaxis": {
            "gridcolor": "white",
            "linecolor": "white",
            "ticks": ""
           },
           "baxis": {
            "gridcolor": "white",
            "linecolor": "white",
            "ticks": ""
           },
           "bgcolor": "#E5ECF6",
           "caxis": {
            "gridcolor": "white",
            "linecolor": "white",
            "ticks": ""
           }
          },
          "title": {
           "x": 0.05
          },
          "xaxis": {
           "automargin": true,
           "gridcolor": "white",
           "linecolor": "white",
           "ticks": "",
           "title": {
            "standoff": 15
           },
           "zerolinecolor": "white",
           "zerolinewidth": 2
          },
          "yaxis": {
           "automargin": true,
           "gridcolor": "white",
           "linecolor": "white",
           "ticks": "",
           "title": {
            "standoff": 15
           },
           "zerolinecolor": "white",
           "zerolinewidth": 2
          }
         }
        }
       }
      }
     },
     "metadata": {},
     "output_type": "display_data"
    }
   ],
   "source": [
    "fig = go.Figure()\n",
    "\n",
    "clusterList = [['p'], ['j', 'e', 'l', 'a'], ['g', 'o', 'b'], ['c'], ['i'], ['k', 'h', 'd', 'm', 'n', 'f']]\n",
    "\n",
    "outerDF = retTotal.groupby('superCluster')['PLGENACL'].sum().reset_index()\n",
    "outerDF22 = retTotal.groupby('cluster')['PLGENACL'].sum()\n",
    "outerDF22 = outerDF22.reindex(['p','j', 'e', 'l', 'a', 'g', 'o', 'b', 'c', 'i', 'k', 'h', 'd', 'm', 'n', 'f']).reset_index()\n",
    "\n",
    "\n",
    "fig.add_trace(go.Pie(values=outerDF['PLGENACL'], hole=0, sort=False, textposition='inside', name = 'Hellothere',\n",
    "insidetextorientation='radial', pull=[0,0, 0, 0, 0, 0.2],\n",
    "marker=dict(colors=px.colors.qualitative.Plotly_r[1:7], line=dict(color='white', width=1)), \n",
    "#texttemplate=([\"High SO2 Emitters\", 'Large Env Impacts', 'High DAC Impacts', 'Minimal DAC Impacts', 'Newer Plants, Anti-Coal Public Sentiment', 'Un-Grouped      ',])\n",
    "),\n",
    ")\n",
    "\n",
    "fig.add_trace(go.Pie(values=outerDF22['PLGENACL'], textinfo='text', hole=0.93, sort=False, textposition='outside', showlegend=False,\n",
    "marker=dict(colors=px.colors.sequential.Greys,line=dict(color='black', width=0.5)), pull=[0,0, 0, 0, 0, 0, 0, 0, 0, 0, 0.1, 0.1, 0.1,0.1, 0.1, 0.1],\n",
    "texttemplate=(['p','j', 'e', 'l', 'a', 'g', 'o', 'b', 'c', 'i', 'k', 'h', 'd', 'm', 'n', 'f'])\n",
    "))\n",
    "\n",
    "fig.update_layout( margin=dict(t=0, b=0, l=0, r=0), font=dict(size=10))"
   ]
  },
  {
   "cell_type": "code",
   "execution_count": 321,
   "id": "52726a5f",
   "metadata": {},
   "outputs": [
    {
     "data": {
      "text/plain": [
       "15    1.298748e+08\n",
       "Name: PLGENACL, dtype: float64"
      ]
     },
     "execution_count": 321,
     "metadata": {},
     "output_type": "execute_result"
    }
   ],
   "source": [
    "outerDF[outerDF['cluster'].isin(['p'])]['PLGENACL']"
   ]
  },
  {
   "cell_type": "code",
   "execution_count": 374,
   "id": "06ed7aa6",
   "metadata": {},
   "outputs": [
    {
     "data": {
      "text/plain": [
       "129874846.44199999"
      ]
     },
     "execution_count": 374,
     "metadata": {},
     "output_type": "execute_result"
    }
   ],
   "source": [
    "outerDF22[0]"
   ]
  },
  {
   "cell_type": "code",
   "execution_count": null,
   "id": "c0ef6a49",
   "metadata": {},
   "outputs": [],
   "source": []
  }
 ],
 "metadata": {
  "kernelspec": {
   "display_name": "Python 3.8.8 ('base')",
   "language": "python",
   "name": "python3"
  },
  "language_info": {
   "codemirror_mode": {
    "name": "ipython",
    "version": 3
   },
   "file_extension": ".py",
   "mimetype": "text/x-python",
   "name": "python",
   "nbconvert_exporter": "python",
   "pygments_lexer": "ipython3",
   "version": "3.8.8"
  },
  "vscode": {
   "interpreter": {
    "hash": "3dd0a51faaeacd0d3933b15d4c892517a314c53aae22c98897ac16333be372e4"
   }
  }
 },
 "nbformat": 4,
 "nbformat_minor": 5
}
